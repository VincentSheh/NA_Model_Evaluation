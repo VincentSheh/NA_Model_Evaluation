{
 "cells": [
  {
   "cell_type": "code",
   "execution_count": 2,
   "metadata": {},
   "outputs": [
    {
     "name": "stderr",
     "output_type": "stream",
     "text": [
      "UsageError: Line magic function `%` not found.\n"
     ]
    }
   ],
   "source": [
    "%load_ext autoreload\n",
    "% autoreload 2\n",
    "import model_lib"
   ]
  },
  {
   "cell_type": "code",
   "execution_count": 3,
   "metadata": {},
   "outputs": [
    {
     "name": "stderr",
     "output_type": "stream",
     "text": [
      "/home/vincent/git_repos/NA_Model_Evaluation/myenv/lib/python3.8/site-packages/tqdm/auto.py:21: TqdmWarning: IProgress not found. Please update jupyter and ipywidgets. See https://ipywidgets.readthedocs.io/en/stable/user_install.html\n",
      "  from .autonotebook import tqdm as notebook_tqdm\n"
     ]
    }
   ],
   "source": [
    "import os\n",
    "import json\n",
    "import numpy as np\n",
    "import pandas as pd\n",
    "from pprint import pprint\n",
    "from itertools import combinations, product\n",
    "\n",
    "#sklearn\n",
    "from sklearn.manifold import TSNE\n",
    "from sklearn.decomposition import PCA\n",
    "from sklearn.preprocessing import LabelEncoder\n",
    "from sklearn.model_selection import train_test_split\n",
    "from sklearn.preprocessing import StandardScaler, RobustScaler, QuantileTransformer, MinMaxScaler\n",
    "from sklearn.metrics import precision_recall_curve, auc, roc_curve, recall_score, precision_score, f1_score, confusion_matrix\n",
    "\n",
    "#graph\n",
    "import seaborn as sns\n",
    "import matplotlib.pyplot as plt\n",
    "\n",
    "from collections import Counter\n",
    "import shap\n",
    "\n"
   ]
  },
  {
   "cell_type": "code",
   "execution_count": 138,
   "metadata": {},
   "outputs": [],
   "source": [
    "\n",
    "# %config IPCompleter.greedy=True\n",
    "import pandas as pd\n",
    "import seaborn as sns\n",
    "import numpy as np\n",
    "import pickle\n",
    "from xgboost import XGBClassifier\n",
    "\n",
    "import matplotlib as matplot\n",
    "import matplotlib.pyplot as plt\n",
    "# %matplotlib inline\n",
    "import torch\n",
    "from torch import nn\n",
    "from torch.nn import functional as F\n",
    "from torch.utils.data import DataLoader, TensorDataset\n",
    "from sklearn.model_selection import train_test_split\n",
    "from IPython.core.interactiveshell import InteractiveShell\n",
    "InteractiveShell.ast_node_interactivity = \"all\"\n",
    "\n",
    "import warnings, os \n",
    "# warnings.filterwarnings(\"ignore\")\n",
    "\n",
    "# from keras import Sequential\n",
    "# from keras.models import Model, load_model\n",
    "# from keras.layers import *\n",
    "# from keras.callbacks import ModelCheckpoint\n",
    "# from keras import regularizers\n",
    "from matplotlib import pyplot as plt\n",
    "\n",
    "from sklearn.metrics import *\n",
    "from sklearn.tree import DecisionTreeClassifier\n",
    "from sklearn.ensemble import RandomForestClassifier, ExtraTreesClassifier, VotingClassifier\n",
    "from sklearn.svm import SVC\n",
    "\n",
    "from sklearn.model_selection import train_test_split\n",
    "from sklearn.preprocessing import LabelEncoder\n",
    "\n",
    "from sklearn.feature_selection import RFE\n",
    "from sklearn.decomposition import PCA, TruncatedSVD, PCA\n",
    "from sklearn.svm import LinearSVC\n",
    "\n",
    "import xgboost\n",
    "# from mlxtend.classifier import EnsembleVoteClassifier \n",
    "import shap\n",
    "import sklearn.neighbors\n",
    "\n",
    "from deepod.models import PReNet\n",
    "from collections import Counter\n",
    "from modAL.models import ActiveLearner, Committee\n",
    "\n",
    "import copy\n",
    "\n",
    "from sklearn.datasets import make_classification\n",
    "from alipy import ToolBox\n",
    "\n",
    "import joblib\n"
   ]
  },
  {
   "cell_type": "code",
   "execution_count": 5,
   "metadata": {},
   "outputs": [],
   "source": [
    "features = ['Src IP', 'Dst IP','Flow Duration', 'Tot Fwd Pkts', 'Tot Bwd Pkts', 'TotLen Fwd Pkts',\n",
    "    'TotLen Bwd Pkts', 'Fwd Pkt Len Max', 'Fwd Pkt Len Min',\n",
    "    'Fwd Pkt Len Mean', 'Fwd Pkt Len Std', 'Bwd Pkt Len Max',\n",
    "    'Bwd Pkt Len Min', 'Bwd Pkt Len Mean', 'Bwd Pkt Len Std',\n",
    "    'Flow Byts/s', 'Flow Pkts/s', 'Flow IAT Mean', 'Flow IAT Std',\n",
    "    'Flow IAT Max', 'Flow IAT Min', 'Fwd IAT Tot', 'Fwd IAT Mean',\n",
    "    'Fwd IAT Std', 'Fwd IAT Max', 'Fwd IAT Min', 'Bwd IAT Tot',\n",
    "    'Bwd IAT Mean', 'Bwd IAT Std', 'Bwd IAT Max', 'Bwd IAT Min',\n",
    "    'Fwd PSH Flags', 'Fwd Header Len', 'Bwd Header Len', 'Fwd Pkts/s',\n",
    "    'Bwd Pkts/s', 'Pkt Len Min', 'Pkt Len Max', 'Pkt Len Mean',\n",
    "    'Pkt Len Std', 'Pkt Len Var', 'FIN Flag Cnt', 'PSH Flag Cnt',\n",
    "    'ACK Flag Cnt', 'URG Flag Cnt', 'Down/Up Ratio', 'Pkt Size Avg',\n",
    "    'Fwd Seg Size Avg', 'Bwd Seg Size Avg', 'Subflow Fwd Byts',\n",
    "    'Subflow Bwd Byts', 'Init Fwd Win Byts', 'Init Bwd Win Byts',\n",
    "    'Fwd Act Data Pkts', 'Fwd Seg Size Min', 'Active Mean',\n",
    "    'Active Std', 'Active Max', 'Active Min', 'Idle Mean', 'Idle Std',\n",
    "    'Idle Max', 'Idle Min']\n",
    "def clean_df(df):\n",
    "    # Remove the space before each feature names\n",
    "    \n",
    "    df.columns = df.columns.str.strip()\n",
    "    print('dataset shape', df.shape)\n",
    "    \n",
    "\n",
    "    # This set of feature should have >= 0 values\n",
    "    num = df._get_numeric_data()\n",
    "    num[num < 0] = 0\n",
    "\n",
    "    zero_variance_cols = []\n",
    "    for col in df.columns:\n",
    "        if len(df[col].unique()) == 1:\n",
    "            zero_variance_cols.append(col)\n",
    "    df.drop(zero_variance_cols, axis = 1, inplace = True)\n",
    "    print('zero variance columns', zero_variance_cols, 'dropped')\n",
    "    print('shape after removing zero variance columns:', df.shape)\n",
    "\n",
    "    df.replace([np.inf, -np.inf], np.nan, inplace = True)\n",
    "    print(df.isna().any(axis = 1).sum(), 'rows dropped')\n",
    "    df.dropna(inplace = True)\n",
    "    print('shape after removing nan:', df.shape)\n",
    "\n",
    "    # Drop duplicate rows\n",
    "    df.drop_duplicates(inplace = True)\n",
    "    print('shape after dropping duplicates:', df.shape)\n",
    "\n",
    "    column_pairs = [(i, j) for i, j in combinations(df, 2) if df[i].equals(df[j])]\n",
    "    ide_cols = []\n",
    "    for column_pair in column_pairs:\n",
    "        ide_cols.append(column_pair[1])\n",
    "    df.drop(ide_cols, axis = 1, inplace = True)\n",
    "    print('columns which have identical values', column_pairs, 'dropped')\n",
    "    print('shape after removing identical value columns:', df.shape)\n",
    "    return df\n",
    "\n",
    "def sample_df(curr_df, anomaly_rate):\n",
    "    num_benign = len(curr_df.loc[curr_df['Label'] == \"BENIGN\"])\n",
    "    num_attack = len(curr_df) - num_benign\n",
    "    ratio = num_attack / num_benign\n",
    "    \n",
    "    if ratio > anomaly_rate:\n",
    "        sample = anomaly_rate * num_benign / num_attack\n",
    "        sampled_df = pd.concat([curr_df[curr_df['Label'] == 'BENIGN'], \n",
    "                                curr_df[curr_df['Label'] != 'BENIGN'].sample(frac=sample, random_state=42)]) \n",
    "    else:\n",
    "        \n",
    "        sample = (1/anomaly_rate) * num_attack / num_benign\n",
    "        sampled_df = pd.concat([curr_df[curr_df['Label'] != 'BENIGN'], \n",
    "                                curr_df[curr_df['Label'] == 'BENIGN'].sample(frac=sample, random_state=42)]) \n",
    "    \n",
    "    new_ratio = sampled_df.loc[sampled_df[\"Label\"] == \"BENIGN\"].shape[0] / sampled_df.loc[sampled_df[\"Label\"] != \"BENIGN\"].shape[0]\n",
    "    \n",
    "    return sampled_df\n",
    "\n"
   ]
  },
  {
   "cell_type": "code",
   "execution_count": 6,
   "metadata": {},
   "outputs": [
    {
     "name": "stdout",
     "output_type": "stream",
     "text": [
      "merged_20240809091803_ISCX.csv\n",
      "merged_20240809091912_ISCX.csv\n",
      "merged_20240809091837_ISCX.csv\n",
      "merged_20240809091950_ISCX.csv\n",
      "merged_20240809092024_ISCX.csv\n",
      "final_merged_1.csv\n",
      "final_merged_2.csv\n",
      "final_merged.csv\n",
      "merged_20240813111613_ISCX.csv\n",
      "dataset shape (400752, 64)\n",
      "zero variance columns [] dropped\n",
      "shape after removing zero variance columns: (400752, 64)\n",
      "838 rows dropped\n",
      "shape after removing nan: (399914, 64)\n",
      "shape after dropping duplicates: (285043, 64)\n",
      "columns which have identical values [] dropped\n",
      "shape after removing identical value columns: (285043, 64)\n"
     ]
    },
    {
     "data": {
      "text/plain": [
       "Label\n",
       "BENIGN     140114\n",
       "dripper    113205\n",
       "bonesi      31724\n",
       "Name: count, dtype: int64"
      ]
     },
     "execution_count": 6,
     "metadata": {},
     "output_type": "execute_result"
    }
   ],
   "source": [
    "dataset_csv_path = './Dataset/SimulatedCVE/cicflowmeter_cve/'\n",
    "folder_names = ['dripper/', 'BENIGN/', 'bonesi/']\n",
    "\n",
    "def read_csv():\n",
    "    full_df = pd.DataFrame()\n",
    "    for folder in folder_names:\n",
    "        csv_file_names = os.listdir(\"Dataset/SimulatedCVE/cicflowmeter_cve/\" + folder)\n",
    "        complete_paths = []\n",
    "        for csv_file_name in csv_file_names:\n",
    "            print(csv_file_name)\n",
    "            complete_paths.append(os.path.join(dataset_csv_path+folder, csv_file_name))\n",
    "        df = pd.concat(map(pd.read_csv, complete_paths), \n",
    "                                ignore_index = True)\n",
    "        df = df[features].copy()\n",
    "        df[\"Label\"] = folder[:-1]\n",
    "        full_df = pd.concat([full_df, df], axis=0, ignore_index=True)\n",
    "    cleaned_df = clean_df(full_df)\n",
    "    return cleaned_df\n",
    "full_df = read_csv()\n",
    "full_df[\"Label\"].value_counts()\n"
   ]
  },
  {
   "cell_type": "code",
   "execution_count": 7,
   "metadata": {},
   "outputs": [
    {
     "data": {
      "text/plain": [
       "<torch._C.Generator at 0x7f6b37194db0>"
      ]
     },
     "execution_count": 7,
     "metadata": {},
     "output_type": "execute_result"
    }
   ],
   "source": [
    "import random\n",
    "\n",
    "random.seed(42)  # Set seed for random operations\n",
    "np.random.seed(42)  # Set seed for NumPy operations\n",
    "torch.manual_seed(42)\n",
    "if torch.cuda.is_available():\n",
    "    torch.cuda.manual_seed_all(42)"
   ]
  },
  {
   "cell_type": "code",
   "execution_count": 8,
   "metadata": {},
   "outputs": [],
   "source": [
    "flow_df = full_df.drop(columns=[\"Src IP\",\"Dst IP\"], inplace=False, axis=1).copy()\n",
    "label = flow_df['Label']"
   ]
  },
  {
   "cell_type": "markdown",
   "metadata": {},
   "source": [
    "# 2D-PCA visualization"
   ]
  },
  {
   "cell_type": "code",
   "execution_count": null,
   "metadata": {},
   "outputs": [],
   "source": []
  },
  {
   "cell_type": "code",
   "execution_count": 9,
   "metadata": {},
   "outputs": [],
   "source": [
    "# # subsample_df = flow_df.groupby('Label').apply(pd.DataFrame.sample, frac = 0.1).reset_index(drop = True)\n",
    "# # subsample_df = pd.concat([subsample_df[subsample_df[\"Label\"] != \"dos_ge_dr\"], subsample_df.groupby('Label').apply(pd.DataFrame.sample, frac=0.1).reset_index(drop=True)])\n",
    "# X = subsample_df.drop(['Label'], axis=1)\n",
    "# y = subsample_df['Label']\n",
    "\n",
    "# # Apply PCA\n",
    "# pca = PCA(n_components=2, random_state=42)\n",
    "# pca_results = pca.fit_transform(X)\n",
    "\n",
    "# # Prepare PCA DataFrame for plotting\n",
    "# pca_df = pd.DataFrame(pca_results, columns=['dimension 1', 'dimension 2'])\n",
    "# pca_df['Label'] = y.values\n",
    "# pca_df['Binary'] = y.apply(lambda x: \"malicious\" if x != 'BENIGN' else 'BENIGN')\n",
    "\n",
    "\n",
    "# # Apply t-SNE\n",
    "# tsne = TSNE(n_components=2, n_jobs=-1, verbose=0, random_state=0, perplexity=20)\n",
    "# tsne_results = tsne.fit_transform(X)\n",
    "\n",
    "# # Prepare t-SNE DataFrame for plotting\n",
    "# tsne_df = pd.DataFrame(tsne_results, columns=['dimension 1', 'dimension 2'])\n",
    "# tsne_df['Label'] = y.values\n",
    "\n",
    "# # Create figure and axes for the subplots\n",
    "# fig, axes = plt.subplots(1, 2, figsize=(20, 10))  # Adjust figsize to fit your needs\n",
    "\n",
    "# # PCA Plot\n",
    "# sns.scatterplot(x='dimension 1', y='dimension 2', hue='Label',\n",
    "#                 palette=sns.color_palette('hls', len(pca_df['Label'].value_counts())),\n",
    "#                 data=pca_df, ax=axes[0])\n",
    "# axes[0].set_title('CICIDS2017 15 Classes PCA Projection')\n",
    "# axes[0].legend(loc='center left', bbox_to_anchor=(1, 0.5))\n",
    "# axes[0].set_ylim(-10, 10)\n",
    "\n",
    "# # t-SNE Plot\n",
    "# sns.scatterplot(x='dimension 1', y='dimension 2', hue='Label',\n",
    "#                 palette=sns.color_palette('hls', len(tsne_df['Label'].value_counts())),\n",
    "#                 data=tsne_df, ax=axes[1])\n",
    "# axes[1].set_title('CICIDS2017 15 Classes T-SNE Projection')\n",
    "# axes[1].legend(loc='center left', bbox_to_anchor=(1, 0.5))\n",
    "\n",
    "# plt.show()"
   ]
  },
  {
   "cell_type": "markdown",
   "metadata": {},
   "source": [
    "# XGBoost-ShapValues"
   ]
  },
  {
   "cell_type": "markdown",
   "metadata": {},
   "source": [
    "Data Processing"
   ]
  },
  {
   "cell_type": "code",
   "execution_count": 10,
   "metadata": {},
   "outputs": [],
   "source": [
    "# ? Evaluating lack of \n",
    "# subsample_df = normalized_df.copy()\n",
    "# subsample_df[\"Label\"].value_counts()"
   ]
  },
  {
   "cell_type": "code",
   "execution_count": 11,
   "metadata": {},
   "outputs": [
    {
     "data": {
      "text/plain": [
       "Label\n",
       "0    140114\n",
       "1      7006\n",
       "Name: count, dtype: int64"
      ]
     },
     "execution_count": 11,
     "metadata": {},
     "output_type": "execute_result"
    }
   ],
   "source": [
    "le = LabelEncoder()\n",
    "df = flow_df.copy()\n",
    "df = sample_df(df, 0.05) # Evaluate Small amounts of Malicious Attack\n",
    "\n",
    "df['Label'] = df['Label'].apply(lambda x: 0 if x == \"BENIGN\" else 1)\n",
    "df['Label'].value_counts()\n"
   ]
  },
  {
   "cell_type": "code",
   "execution_count": 12,
   "metadata": {},
   "outputs": [
    {
     "name": "stdout",
     "output_type": "stream",
     "text": [
      "Before (147120, 61)\n",
      "False\n",
      "True\n",
      "After (147120, 62)\n"
     ]
    }
   ],
   "source": [
    "\n",
    "labels = df['Label'].copy()\n",
    "df.drop(columns='Label', axis=1, inplace=True)\n",
    "print(\"Before\", df.shape)\n",
    "df = df[:]\n",
    "\n",
    "df = df.replace([np.inf, -np.inf], np.nan)  # Replace inf/-inf with NaN\n",
    "df = df.fillna(df.mean())\n",
    "\n",
    "df.dropna(inplace=True)\n",
    "df = df.select_dtypes(include=[np.number])\n",
    "indices_to_keep = ~df.isin([np.nan, np.inf, -np.inf]).any(axis=1)\n",
    "df = df[indices_to_keep]\n",
    "\n",
    "\n",
    "for i in df.columns:\n",
    "    df = df[df[i] != \"Infinity\"]\n",
    "    df = df[df[i] != np.nan]\n",
    "    df = df[df[i] != np.inf]\n",
    "    df = df[df[i] != -np.inf]\n",
    "    df = df[df[i] != \",,\"]\n",
    "    df = df[df[i] != \", ,\"]\n",
    "    \n",
    "print(np.any(np.isnan(df)))\n",
    "print(np.any(np.isfinite(df)))\n",
    "\n",
    "\n",
    "# Last column turn to binary\n",
    "# df.iloc[:, -1] = df.iloc[:, -1].apply(lambda x: 1 if x != 0 else 0).astype(int)\n",
    "#Standardize Dataframe\n",
    "feature_name = list(df.columns)\n",
    "\n",
    "scaler = StandardScaler()\n",
    "feature_name = list(df.columns)\n",
    "normalized_data = scaler.fit_transform(df)\n",
    "normalized_df = pd.DataFrame(normalized_data, columns=feature_name)\n",
    "normalized_df['Label'] = labels.values\n",
    "df['Label'] = labels.values\n",
    "\n",
    "print(\"After\", df.shape)\n",
    "\n",
    "\n"
   ]
  },
  {
   "cell_type": "code",
   "execution_count": 13,
   "metadata": {},
   "outputs": [
    {
     "data": {
      "text/plain": [
       "array([0, 1])"
      ]
     },
     "execution_count": 13,
     "metadata": {},
     "output_type": "execute_result"
    }
   ],
   "source": [
    "X_train, X_test, y_train, y_test = train_test_split(normalized_df.drop(['Label'],axis=1), normalized_df['Label'], test_size=.20, random_state=42)\n",
    "np.unique(y_train)"
   ]
  },
  {
   "cell_type": "code",
   "execution_count": 14,
   "metadata": {},
   "outputs": [
    {
     "data": {
      "text/html": [
       "<style>#sk-container-id-1 {color: black;}#sk-container-id-1 pre{padding: 0;}#sk-container-id-1 div.sk-toggleable {background-color: white;}#sk-container-id-1 label.sk-toggleable__label {cursor: pointer;display: block;width: 100%;margin-bottom: 0;padding: 0.3em;box-sizing: border-box;text-align: center;}#sk-container-id-1 label.sk-toggleable__label-arrow:before {content: \"▸\";float: left;margin-right: 0.25em;color: #696969;}#sk-container-id-1 label.sk-toggleable__label-arrow:hover:before {color: black;}#sk-container-id-1 div.sk-estimator:hover label.sk-toggleable__label-arrow:before {color: black;}#sk-container-id-1 div.sk-toggleable__content {max-height: 0;max-width: 0;overflow: hidden;text-align: left;background-color: #f0f8ff;}#sk-container-id-1 div.sk-toggleable__content pre {margin: 0.2em;color: black;border-radius: 0.25em;background-color: #f0f8ff;}#sk-container-id-1 input.sk-toggleable__control:checked~div.sk-toggleable__content {max-height: 200px;max-width: 100%;overflow: auto;}#sk-container-id-1 input.sk-toggleable__control:checked~label.sk-toggleable__label-arrow:before {content: \"▾\";}#sk-container-id-1 div.sk-estimator input.sk-toggleable__control:checked~label.sk-toggleable__label {background-color: #d4ebff;}#sk-container-id-1 div.sk-label input.sk-toggleable__control:checked~label.sk-toggleable__label {background-color: #d4ebff;}#sk-container-id-1 input.sk-hidden--visually {border: 0;clip: rect(1px 1px 1px 1px);clip: rect(1px, 1px, 1px, 1px);height: 1px;margin: -1px;overflow: hidden;padding: 0;position: absolute;width: 1px;}#sk-container-id-1 div.sk-estimator {font-family: monospace;background-color: #f0f8ff;border: 1px dotted black;border-radius: 0.25em;box-sizing: border-box;margin-bottom: 0.5em;}#sk-container-id-1 div.sk-estimator:hover {background-color: #d4ebff;}#sk-container-id-1 div.sk-parallel-item::after {content: \"\";width: 100%;border-bottom: 1px solid gray;flex-grow: 1;}#sk-container-id-1 div.sk-label:hover label.sk-toggleable__label {background-color: #d4ebff;}#sk-container-id-1 div.sk-serial::before {content: \"\";position: absolute;border-left: 1px solid gray;box-sizing: border-box;top: 0;bottom: 0;left: 50%;z-index: 0;}#sk-container-id-1 div.sk-serial {display: flex;flex-direction: column;align-items: center;background-color: white;padding-right: 0.2em;padding-left: 0.2em;position: relative;}#sk-container-id-1 div.sk-item {position: relative;z-index: 1;}#sk-container-id-1 div.sk-parallel {display: flex;align-items: stretch;justify-content: center;background-color: white;position: relative;}#sk-container-id-1 div.sk-item::before, #sk-container-id-1 div.sk-parallel-item::before {content: \"\";position: absolute;border-left: 1px solid gray;box-sizing: border-box;top: 0;bottom: 0;left: 50%;z-index: -1;}#sk-container-id-1 div.sk-parallel-item {display: flex;flex-direction: column;z-index: 1;position: relative;background-color: white;}#sk-container-id-1 div.sk-parallel-item:first-child::after {align-self: flex-end;width: 50%;}#sk-container-id-1 div.sk-parallel-item:last-child::after {align-self: flex-start;width: 50%;}#sk-container-id-1 div.sk-parallel-item:only-child::after {width: 0;}#sk-container-id-1 div.sk-dashed-wrapped {border: 1px dashed gray;margin: 0 0.4em 0.5em 0.4em;box-sizing: border-box;padding-bottom: 0.4em;background-color: white;}#sk-container-id-1 div.sk-label label {font-family: monospace;font-weight: bold;display: inline-block;line-height: 1.2em;}#sk-container-id-1 div.sk-label-container {text-align: center;}#sk-container-id-1 div.sk-container {/* jupyter's `normalize.less` sets `[hidden] { display: none; }` but bootstrap.min.css set `[hidden] { display: none !important; }` so we also need the `!important` here to be able to override the default hidden behavior on the sphinx rendered scikit-learn.org. See: https://github.com/scikit-learn/scikit-learn/issues/21755 */display: inline-block !important;position: relative;}#sk-container-id-1 div.sk-text-repr-fallback {display: none;}</style><div id=\"sk-container-id-1\" class=\"sk-top-container\"><div class=\"sk-text-repr-fallback\"><pre>DecisionTreeClassifier(criterion=&#x27;entropy&#x27;, max_depth=15, random_state=4022)</pre><b>In a Jupyter environment, please rerun this cell to show the HTML representation or trust the notebook. <br />On GitHub, the HTML representation is unable to render, please try loading this page with nbviewer.org.</b></div><div class=\"sk-container\" hidden><div class=\"sk-item\"><div class=\"sk-estimator sk-toggleable\"><input class=\"sk-toggleable__control sk-hidden--visually\" id=\"sk-estimator-id-1\" type=\"checkbox\" checked><label for=\"sk-estimator-id-1\" class=\"sk-toggleable__label sk-toggleable__label-arrow\">DecisionTreeClassifier</label><div class=\"sk-toggleable__content\"><pre>DecisionTreeClassifier(criterion=&#x27;entropy&#x27;, max_depth=15, random_state=4022)</pre></div></div></div></div></div>"
      ],
      "text/plain": [
       "DecisionTreeClassifier(criterion='entropy', max_depth=15, random_state=4022)"
      ]
     },
     "execution_count": 14,
     "metadata": {},
     "output_type": "execute_result"
    },
    {
     "name": "stdout",
     "output_type": "stream",
     "text": [
      "0.9937706119457678\n",
      "[[28051     9]\n",
      " [    8  1356]]\n"
     ]
    },
    {
     "data": {
      "text/html": [
       "<style>#sk-container-id-2 {color: black;}#sk-container-id-2 pre{padding: 0;}#sk-container-id-2 div.sk-toggleable {background-color: white;}#sk-container-id-2 label.sk-toggleable__label {cursor: pointer;display: block;width: 100%;margin-bottom: 0;padding: 0.3em;box-sizing: border-box;text-align: center;}#sk-container-id-2 label.sk-toggleable__label-arrow:before {content: \"▸\";float: left;margin-right: 0.25em;color: #696969;}#sk-container-id-2 label.sk-toggleable__label-arrow:hover:before {color: black;}#sk-container-id-2 div.sk-estimator:hover label.sk-toggleable__label-arrow:before {color: black;}#sk-container-id-2 div.sk-toggleable__content {max-height: 0;max-width: 0;overflow: hidden;text-align: left;background-color: #f0f8ff;}#sk-container-id-2 div.sk-toggleable__content pre {margin: 0.2em;color: black;border-radius: 0.25em;background-color: #f0f8ff;}#sk-container-id-2 input.sk-toggleable__control:checked~div.sk-toggleable__content {max-height: 200px;max-width: 100%;overflow: auto;}#sk-container-id-2 input.sk-toggleable__control:checked~label.sk-toggleable__label-arrow:before {content: \"▾\";}#sk-container-id-2 div.sk-estimator input.sk-toggleable__control:checked~label.sk-toggleable__label {background-color: #d4ebff;}#sk-container-id-2 div.sk-label input.sk-toggleable__control:checked~label.sk-toggleable__label {background-color: #d4ebff;}#sk-container-id-2 input.sk-hidden--visually {border: 0;clip: rect(1px 1px 1px 1px);clip: rect(1px, 1px, 1px, 1px);height: 1px;margin: -1px;overflow: hidden;padding: 0;position: absolute;width: 1px;}#sk-container-id-2 div.sk-estimator {font-family: monospace;background-color: #f0f8ff;border: 1px dotted black;border-radius: 0.25em;box-sizing: border-box;margin-bottom: 0.5em;}#sk-container-id-2 div.sk-estimator:hover {background-color: #d4ebff;}#sk-container-id-2 div.sk-parallel-item::after {content: \"\";width: 100%;border-bottom: 1px solid gray;flex-grow: 1;}#sk-container-id-2 div.sk-label:hover label.sk-toggleable__label {background-color: #d4ebff;}#sk-container-id-2 div.sk-serial::before {content: \"\";position: absolute;border-left: 1px solid gray;box-sizing: border-box;top: 0;bottom: 0;left: 50%;z-index: 0;}#sk-container-id-2 div.sk-serial {display: flex;flex-direction: column;align-items: center;background-color: white;padding-right: 0.2em;padding-left: 0.2em;position: relative;}#sk-container-id-2 div.sk-item {position: relative;z-index: 1;}#sk-container-id-2 div.sk-parallel {display: flex;align-items: stretch;justify-content: center;background-color: white;position: relative;}#sk-container-id-2 div.sk-item::before, #sk-container-id-2 div.sk-parallel-item::before {content: \"\";position: absolute;border-left: 1px solid gray;box-sizing: border-box;top: 0;bottom: 0;left: 50%;z-index: -1;}#sk-container-id-2 div.sk-parallel-item {display: flex;flex-direction: column;z-index: 1;position: relative;background-color: white;}#sk-container-id-2 div.sk-parallel-item:first-child::after {align-self: flex-end;width: 50%;}#sk-container-id-2 div.sk-parallel-item:last-child::after {align-self: flex-start;width: 50%;}#sk-container-id-2 div.sk-parallel-item:only-child::after {width: 0;}#sk-container-id-2 div.sk-dashed-wrapped {border: 1px dashed gray;margin: 0 0.4em 0.5em 0.4em;box-sizing: border-box;padding-bottom: 0.4em;background-color: white;}#sk-container-id-2 div.sk-label label {font-family: monospace;font-weight: bold;display: inline-block;line-height: 1.2em;}#sk-container-id-2 div.sk-label-container {text-align: center;}#sk-container-id-2 div.sk-container {/* jupyter's `normalize.less` sets `[hidden] { display: none; }` but bootstrap.min.css set `[hidden] { display: none !important; }` so we also need the `!important` here to be able to override the default hidden behavior on the sphinx rendered scikit-learn.org. See: https://github.com/scikit-learn/scikit-learn/issues/21755 */display: inline-block !important;position: relative;}#sk-container-id-2 div.sk-text-repr-fallback {display: none;}</style><div id=\"sk-container-id-2\" class=\"sk-top-container\"><div class=\"sk-text-repr-fallback\"><pre>XGBClassifier(base_score=None, booster=None, callbacks=None,\n",
       "              colsample_bylevel=None, colsample_bynode=None,\n",
       "              colsample_bytree=None, device=None, early_stopping_rounds=None,\n",
       "              enable_categorical=False, eval_metric=None, feature_types=None,\n",
       "              gamma=None, grow_policy=None, importance_type=None,\n",
       "              interaction_constraints=None, learning_rate=None, max_bin=None,\n",
       "              max_cat_threshold=None, max_cat_to_onehot=None,\n",
       "              max_delta_step=None, max_depth=None, max_leaves=None,\n",
       "              min_child_weight=None, missing=nan, monotone_constraints=None,\n",
       "              multi_strategy=None, n_estimators=None, n_jobs=None,\n",
       "              num_parallel_tree=None, random_state=None, ...)</pre><b>In a Jupyter environment, please rerun this cell to show the HTML representation or trust the notebook. <br />On GitHub, the HTML representation is unable to render, please try loading this page with nbviewer.org.</b></div><div class=\"sk-container\" hidden><div class=\"sk-item\"><div class=\"sk-estimator sk-toggleable\"><input class=\"sk-toggleable__control sk-hidden--visually\" id=\"sk-estimator-id-2\" type=\"checkbox\" checked><label for=\"sk-estimator-id-2\" class=\"sk-toggleable__label sk-toggleable__label-arrow\">XGBClassifier</label><div class=\"sk-toggleable__content\"><pre>XGBClassifier(base_score=None, booster=None, callbacks=None,\n",
       "              colsample_bylevel=None, colsample_bynode=None,\n",
       "              colsample_bytree=None, device=None, early_stopping_rounds=None,\n",
       "              enable_categorical=False, eval_metric=None, feature_types=None,\n",
       "              gamma=None, grow_policy=None, importance_type=None,\n",
       "              interaction_constraints=None, learning_rate=None, max_bin=None,\n",
       "              max_cat_threshold=None, max_cat_to_onehot=None,\n",
       "              max_delta_step=None, max_depth=None, max_leaves=None,\n",
       "              min_child_weight=None, missing=nan, monotone_constraints=None,\n",
       "              multi_strategy=None, n_estimators=None, n_jobs=None,\n",
       "              num_parallel_tree=None, random_state=None, ...)</pre></div></div></div></div></div>"
      ],
      "text/plain": [
       "XGBClassifier(base_score=None, booster=None, callbacks=None,\n",
       "              colsample_bylevel=None, colsample_bynode=None,\n",
       "              colsample_bytree=None, device=None, early_stopping_rounds=None,\n",
       "              enable_categorical=False, eval_metric=None, feature_types=None,\n",
       "              gamma=None, grow_policy=None, importance_type=None,\n",
       "              interaction_constraints=None, learning_rate=None, max_bin=None,\n",
       "              max_cat_threshold=None, max_cat_to_onehot=None,\n",
       "              max_delta_step=None, max_depth=None, max_leaves=None,\n",
       "              min_child_weight=None, missing=nan, monotone_constraints=None,\n",
       "              multi_strategy=None, n_estimators=None, n_jobs=None,\n",
       "              num_parallel_tree=None, random_state=None, ...)"
      ]
     },
     "execution_count": 14,
     "metadata": {},
     "output_type": "execute_result"
    },
    {
     "name": "stdout",
     "output_type": "stream",
     "text": [
      "0.9912280701754386\n",
      "[[28044     9]\n",
      " [   15  1356]]\n"
     ]
    }
   ],
   "source": [
    "from xgboost import XGBClassifier\n",
    "from sklearn.tree import DecisionTreeClassifier\n",
    "# Initialize the CART classifier\n",
    "cart_classifier = DecisionTreeClassifier(criterion='entropy', max_depth=15, random_state=4022)\n",
    "cart_classifier.fit(X_train,y_train)\n",
    "model_outputs = cart_classifier.predict(X_test)\n",
    "print(f1_score(model_outputs, y_test))\n",
    "print(confusion_matrix(model_outputs, y_test))\n",
    "\n",
    "# Train the classifier on the training data\n",
    "\n",
    "model = XGBClassifier(objective='binary:logistic')\n",
    "model.fit(X_train,y_train)\n",
    "model_outputs = model.predict(X_test)\n",
    "pred = model.score(X_test, y_test)\n",
    "print(f1_score(model_outputs, y_test))\n",
    "print(confusion_matrix(model_outputs, y_test))"
   ]
  },
  {
   "cell_type": "code",
   "execution_count": 15,
   "metadata": {},
   "outputs": [
    {
     "data": {
      "text/plain": [
       "['cic_xgb.joblib']"
      ]
     },
     "execution_count": 15,
     "metadata": {},
     "output_type": "execute_result"
    },
    {
     "data": {
      "text/plain": [
       "['cic_scaler.joblib']"
      ]
     },
     "execution_count": 15,
     "metadata": {},
     "output_type": "execute_result"
    }
   ],
   "source": [
    "import joblib\n",
    "joblib.dump(model, 'cic_xgb.joblib')\n",
    "joblib.dump(scaler, 'cic_scaler.joblib')\n",
    "\n"
   ]
  },
  {
   "cell_type": "code",
   "execution_count": 16,
   "metadata": {},
   "outputs": [
    {
     "data": {
      "text/plain": [
       "array(['Flow Duration', 'Tot Fwd Pkts', 'Tot Bwd Pkts', 'TotLen Fwd Pkts',\n",
       "       'TotLen Bwd Pkts', 'Fwd Pkt Len Max', 'Fwd Pkt Len Min',\n",
       "       'Fwd Pkt Len Mean', 'Fwd Pkt Len Std', 'Bwd Pkt Len Max',\n",
       "       'Bwd Pkt Len Min', 'Bwd Pkt Len Mean', 'Bwd Pkt Len Std',\n",
       "       'Flow Byts/s', 'Flow Pkts/s', 'Flow IAT Mean', 'Flow IAT Std',\n",
       "       'Flow IAT Max', 'Flow IAT Min', 'Fwd IAT Tot', 'Fwd IAT Mean',\n",
       "       'Fwd IAT Std', 'Fwd IAT Max', 'Fwd IAT Min', 'Bwd IAT Tot',\n",
       "       'Bwd IAT Mean', 'Bwd IAT Std', 'Bwd IAT Max', 'Bwd IAT Min',\n",
       "       'Fwd PSH Flags', 'Fwd Header Len', 'Bwd Header Len', 'Fwd Pkts/s',\n",
       "       'Bwd Pkts/s', 'Pkt Len Min', 'Pkt Len Max', 'Pkt Len Mean',\n",
       "       'Pkt Len Std', 'Pkt Len Var', 'FIN Flag Cnt', 'PSH Flag Cnt',\n",
       "       'ACK Flag Cnt', 'URG Flag Cnt', 'Down/Up Ratio', 'Pkt Size Avg',\n",
       "       'Fwd Seg Size Avg', 'Bwd Seg Size Avg', 'Subflow Fwd Byts',\n",
       "       'Subflow Bwd Byts', 'Init Fwd Win Byts', 'Init Bwd Win Byts',\n",
       "       'Fwd Act Data Pkts', 'Fwd Seg Size Min', 'Active Mean',\n",
       "       'Active Std', 'Active Max', 'Active Min', 'Idle Mean', 'Idle Std',\n",
       "       'Idle Max', 'Idle Min'], dtype=object)"
      ]
     },
     "execution_count": 16,
     "metadata": {},
     "output_type": "execute_result"
    }
   ],
   "source": [
    "scaler.feature_names_in_"
   ]
  },
  {
   "cell_type": "code",
   "execution_count": 17,
   "metadata": {},
   "outputs": [],
   "source": [
    "# new_benign_df = pd.read_csv(os.path.join(dataset_csv_path, \"BENIGN/final_merged.csv\"))\n",
    "# new_benign_df.drop(columns=[\"Unnamed: 0.1\"], inplace=True)\n",
    "# features = ['Flow Duration', 'Tot Fwd Pkts', 'Tot Bwd Pkts', 'TotLen Fwd Pkts',\n",
    "#       'TotLen Bwd Pkts', 'Fwd Pkt Len Max', 'Fwd Pkt Len Min',\n",
    "#       'Fwd Pkt Len Mean', 'Fwd Pkt Len Std', 'Bwd Pkt Len Max',\n",
    "#       'Bwd Pkt Len Min', 'Bwd Pkt Len Mean', 'Bwd Pkt Len Std',\n",
    "#       'Flow Byts/s', 'Flow Pkts/s', 'Flow IAT Mean', 'Flow IAT Std',\n",
    "#       'Flow IAT Max', 'Flow IAT Min', 'Fwd IAT Tot', 'Fwd IAT Mean',\n",
    "#       'Fwd IAT Std', 'Fwd IAT Max', 'Fwd IAT Min', 'Bwd IAT Tot',\n",
    "#       'Bwd IAT Mean', 'Bwd IAT Std', 'Bwd IAT Max', 'Bwd IAT Min',\n",
    "#       'Fwd PSH Flags', 'Fwd Header Len', 'Bwd Header Len', 'Fwd Pkts/s',\n",
    "#       'Bwd Pkts/s', 'Pkt Len Min', 'Pkt Len Max', 'Pkt Len Mean',\n",
    "#       'Pkt Len Std', 'Pkt Len Var', 'FIN Flag Cnt', 'PSH Flag Cnt',\n",
    "#       'ACK Flag Cnt', 'URG Flag Cnt', 'Down/Up Ratio', 'Pkt Size Avg',\n",
    "#       'Fwd Seg Size Avg', 'Bwd Seg Size Avg', 'Subflow Fwd Byts',\n",
    "#       'Subflow Bwd Byts', 'Init Fwd Win Byts', 'Init Bwd Win Byts',\n",
    "#       'Fwd Act Data Pkts', 'Fwd Seg Size Min', 'Active Mean',\n",
    "#       'Active Std', 'Active Max', 'Active Min', 'Idle Mean', 'Idle Std',\n",
    "#       'Idle Max', 'Idle Min']\n",
    "\n",
    "# X = new_benign_df[features]\n",
    "# X.replace([np.inf, -np.inf], np.nan, inplace = True)\n",
    "# X.dropna(inplace=True)\n",
    "# X_scaled = scaler.transform(X)\n",
    "\n",
    "# import collections\n",
    "\n",
    "# output = model.predict(X_scaled) \n",
    "# counter = collections.Counter(output)\n",
    "# counter\n"
   ]
  },
  {
   "cell_type": "markdown",
   "metadata": {},
   "source": [
    "SHAP"
   ]
  },
  {
   "cell_type": "code",
   "execution_count": 18,
   "metadata": {},
   "outputs": [],
   "source": [
    "# explainer = shap.Explainer(model)\n",
    "# shap_values = explainer(X_train)\n",
    "# np.shape(shap_values.values)"
   ]
  },
  {
   "cell_type": "code",
   "execution_count": 19,
   "metadata": {},
   "outputs": [],
   "source": [
    "# shap.plots.bar(shap_values, max_display=15)\n",
    "# plt.show()\n",
    "\n",
    "# shap.plots.beeswarm(shap_values, max_display=14)\n",
    "# plt.show()"
   ]
  },
  {
   "cell_type": "markdown",
   "metadata": {},
   "source": [
    "# Global Model"
   ]
  },
  {
   "cell_type": "markdown",
   "metadata": {},
   "source": [
    "### Functions"
   ]
  },
  {
   "cell_type": "code",
   "execution_count": 20,
   "metadata": {},
   "outputs": [],
   "source": [
    "def get_optimal_threshold(precision, recall, thresholds):\n",
    "    with np.errstate(divide='ignore', invalid='ignore'):\n",
    "        f1_scores = 2 * (precision * recall) / (precision + recall)\n",
    "        f1_scores[np.isnan(f1_scores)] = 0  # Replace NaN values with 0    \n",
    "    optimal_idx = np.argmax(f1_scores)\n",
    "    optimal_threshold = thresholds[optimal_idx]\n",
    "    return optimal_threshold\n",
    "\n",
    "def get_optimal_threshold(precision, recall, thresholds):\n",
    "    with np.errstate(divide='ignore', invalid='ignore'):\n",
    "        f1_scores = 2 * (precision * recall) / (precision + recall)\n",
    "        # f1_scores[np.isnan(f1_scores)] = 0  # Replace NaN values with 0    \n",
    "    optimal_idx = np.argmax(f1_scores)\n",
    "    optimal_threshold = thresholds[optimal_idx]\n",
    "    return optimal_threshold\n",
    "  \n",
    "def eval_accuracy_from_scores(anomaly_scores, y_test):\n",
    "    fpr, tpr, _ = roc_curve(y_test, anomaly_scores)\n",
    "    precision, recall, thresholds = precision_recall_curve(y_test, anomaly_scores)\n",
    "    opt_threshold = get_optimal_threshold(precision, recall, thresholds)\n",
    "    pred = np.where(anomaly_scores > opt_threshold, 1,0)\n",
    "    f1 = f1_score(y_test, pred)\n",
    "    conf_matrix = confusion_matrix(y_test, pred)\n",
    "    print(f\"F1 Score: {f1:.4f}\")\n",
    "    print(conf_matrix)\n",
    "    \n",
    "    \n",
    "    \n",
    "def set_supervised_label(supervision_rate, y):\n",
    "        idx = np.where(y_train == 1)[0]\n",
    "        y = np.zeros_like(y.values)\n",
    "        if supervision_rate == 0:\n",
    "            print(f\"UNSUPERVISED, Sampling Rate \")\n",
    "            y[idx[:2]] = 1\n",
    "        else:\n",
    "            print(f\"SEMI SUPERVISED, Sampling Rate, Supervision = {supervision_rate}\")\n",
    "            idx = np.random.choice(idx, size=int(supervision_rate * len(idx)), replace=False)\n",
    "            y[idx] = 1\n",
    "        return y"
   ]
  },
  {
   "cell_type": "code",
   "execution_count": null,
   "metadata": {},
   "outputs": [],
   "source": []
  },
  {
   "cell_type": "code",
   "execution_count": 21,
   "metadata": {},
   "outputs": [],
   "source": [
    "\n",
    "# counter = Counter(y_train)\n",
    "# print(counter)\n",
    "# model = PReNet\n",
    "# clf = model( device = 'cuda', verbose=1, epochs=1)\n",
    "# clf.fit(X=X_train.to_numpy()[:], y = y_train[:])\n",
    "# anomaly_scores = clf.decision_function(X_test.to_numpy())\n",
    "# eval_accuracy_from_scores(anomaly_scores, y_test)\n"
   ]
  },
  {
   "cell_type": "code",
   "execution_count": null,
   "metadata": {},
   "outputs": [],
   "source": []
  },
  {
   "cell_type": "code",
   "execution_count": 22,
   "metadata": {},
   "outputs": [],
   "source": [
    "# from collections import Counter\n",
    "# model = PReNet\n",
    "# clf = model( device = 'cuda', verbose=1, epochs=10)\n",
    "# y_train_sampled = set_supervised_label(0.02, y_train)\n",
    "# counter = Counter(y_train_sampled)\n",
    "# print(counter)\n",
    "# clf.fit(X=X_train.to_numpy(), y = y_train_sampled)\n",
    "# anomaly_scores = clf.decision_function(X_test.to_numpy())\n",
    "# eval_accuracy_from_scores(anomaly_scores, y_test)\n",
    "# acc = accuracy_score(y_test, pred)\n",
    "# print(f\"F1 Score: {f1:.4f}, Accuracy: {acc:4f}\")\n"
   ]
  },
  {
   "cell_type": "markdown",
   "metadata": {},
   "source": [
    "# Real World AL"
   ]
  },
  {
   "cell_type": "markdown",
   "metadata": {},
   "source": [
    "### Initial LM Training (GM Pretrained) # TODO: Capture Mix Data with new attack and evaluate"
   ]
  },
  {
   "cell_type": "code",
   "execution_count": 123,
   "metadata": {},
   "outputs": [
    {
     "data": {
      "text/plain": [
       "array([0, 1])"
      ]
     },
     "execution_count": 123,
     "metadata": {},
     "output_type": "execute_result"
    }
   ],
   "source": [
    "X_train, X_test, y_train, y_test = train_test_split(df.drop(['Label'],axis=1), df['Label'], test_size=.20, random_state=42)\n",
    "np.unique(y_train)"
   ]
  },
  {
   "cell_type": "code",
   "execution_count": null,
   "metadata": {},
   "outputs": [],
   "source": []
  },
  {
   "cell_type": "code",
   "execution_count": 170,
   "metadata": {},
   "outputs": [],
   "source": [
    "import numpy as np\n",
    "from flask import Flask, request, jsonify\n",
    "import pandas as pd\n",
    "from io import StringIO\n",
    "import joblib\n",
    "from sklearn.preprocessing import StandardScaler\n",
    "from deepod.models import PReNet\n",
    "from itertools import combinations\n",
    "import os\n",
    "from sklearn.model_selection import train_test_split\n",
    "from sklearn.metrics import precision_recall_curve, auc, roc_curve, recall_score, precision_score, f1_score, confusion_matrix\n",
    "from xgboost import XGBClassifier\n",
    "from alipy import ToolBox\n",
    "\n",
    "features = ['Src IP', 'Dst IP','Flow Duration', 'Tot Fwd Pkts', 'Tot Bwd Pkts', 'TotLen Fwd Pkts',\n",
    "    'TotLen Bwd Pkts', 'Fwd Pkt Len Max', 'Fwd Pkt Len Min',\n",
    "    'Fwd Pkt Len Mean', 'Fwd Pkt Len Std', 'Bwd Pkt Len Max',\n",
    "    'Bwd Pkt Len Min', 'Bwd Pkt Len Mean', 'Bwd Pkt Len Std',\n",
    "    'Flow Byts/s', 'Flow Pkts/s', 'Flow IAT Mean', 'Flow IAT Std',\n",
    "    'Flow IAT Max', 'Flow IAT Min', 'Fwd IAT Tot', 'Fwd IAT Mean',\n",
    "    'Fwd IAT Std', 'Fwd IAT Max', 'Fwd IAT Min', 'Bwd IAT Tot',\n",
    "    'Bwd IAT Mean', 'Bwd IAT Std', 'Bwd IAT Max', 'Bwd IAT Min',\n",
    "    'Fwd PSH Flags', 'Fwd Header Len', 'Bwd Header Len', 'Fwd Pkts/s',\n",
    "    'Bwd Pkts/s', 'Pkt Len Min', 'Pkt Len Max', 'Pkt Len Mean',\n",
    "    'Pkt Len Std', 'Pkt Len Var', 'FIN Flag Cnt', 'PSH Flag Cnt',\n",
    "    'ACK Flag Cnt', 'URG Flag Cnt', 'Down/Up Ratio', 'Pkt Size Avg',\n",
    "    'Fwd Seg Size Avg', 'Bwd Seg Size Avg', 'Subflow Fwd Byts',\n",
    "    'Subflow Bwd Byts', 'Init Fwd Win Byts', 'Init Bwd Win Byts',\n",
    "    'Fwd Act Data Pkts', 'Fwd Seg Size Min', 'Active Mean',\n",
    "    'Active Std', 'Active Max', 'Active Min', 'Idle Mean', 'Idle Std',\n",
    "    'Idle Max', 'Idle Min']\n",
    "\n",
    "\n",
    "\n",
    "def clean_df(df):\n",
    "    # Remove the space before each feature names\n",
    "    df.columns = df.columns.str.strip()\n",
    "    print('dataset shape', df.shape)\n",
    "    \n",
    "\n",
    "    # This set of feature should have >= 0 values\n",
    "    num = df._get_numeric_data()\n",
    "    num[num < 0] = 0\n",
    "\n",
    "    # zero_variance_cols = []\n",
    "    # for col in df.columns:\n",
    "    #     if len(df[col].unique()) == 1:\n",
    "    #         zero_variance_cols.append(col)\n",
    "    # df.drop(zero_variance_cols, axis = 1, inplace = True)\n",
    "    # print('zero variance columns', zero_variance_cols, 'dropped')\n",
    "    # print('shape after removing zero variance columns:', df.shape)\n",
    "\n",
    "    df.replace([np.inf, -np.inf], np.nan, inplace = True)\n",
    "    print(df.isna().any(axis = 1).sum(), 'rows dropped')\n",
    "    df.dropna(inplace = True)\n",
    "    print('shape after removing nan:', df.shape)\n",
    "\n",
    "    # Drop duplicate rows\n",
    "    df.drop_duplicates(inplace = True)\n",
    "    print('shape after dropping duplicates:', df.shape)\n",
    "\n",
    "    column_pairs = [(i, j) for i, j in combinations(df, 2) if df[i].equals(df[j])]\n",
    "    # ide_cols = []\n",
    "    # for column_pair in column_pairs:\n",
    "    #     ide_cols.append(column_pair[1])\n",
    "    # df.drop(ide_cols, axis = 1, inplace = True)\n",
    "    # print('columns which have identical values', column_pairs, 'dropped')\n",
    "    # print('shape after removing identical value columns:', df.shape)\n",
    "    return df\n",
    "\n",
    "def sample_df(curr_df, anomaly_rate):\n",
    "    num_benign = len(curr_df.loc[curr_df['Label'] == \"BENIGN\"])\n",
    "    num_attack = len(curr_df) - num_benign\n",
    "    ratio = num_attack / num_benign\n",
    "    \n",
    "    if ratio > anomaly_rate:\n",
    "        sample = anomaly_rate * num_benign / num_attack\n",
    "        sampled_df = pd.concat([curr_df[curr_df['Label'] == 'BENIGN'], \n",
    "                                curr_df[curr_df['Label'] != 'BENIGN'].sample(frac=sample, random_state=42)]) \n",
    "    else:\n",
    "        \n",
    "        sample = (1/anomaly_rate) * num_attack / num_benign\n",
    "        sampled_df = pd.concat([curr_df[curr_df['Label'] != 'BENIGN'], \n",
    "                                curr_df[curr_df['Label'] == 'BENIGN'].sample(frac=sample, random_state=42)]) \n",
    "    \n",
    "    new_ratio = sampled_df.loc[sampled_df[\"Label\"] == \"BENIGN\"].shape[0] / sampled_df.loc[sampled_df[\"Label\"] != \"BENIGN\"].shape[0]\n",
    "    \n",
    "    return sampled_df\n",
    "\n",
    "def read_csv(folder_names = ['dripper/', 'BENIGN/', 'bonesi/']):\n",
    "    full_df = pd.DataFrame()\n",
    "    dataset_csv_path = './Dataset/SimulatedCVE/cicflowmeter_cve/'\n",
    "    for folder in folder_names:\n",
    "\n",
    "        csv_file_names = os.listdir(\"Dataset/SimulatedCVE/cicflowmeter_cve/\" + folder)\n",
    "        complete_paths = []\n",
    "        for csv_file_name in csv_file_names:\n",
    "            complete_paths.append(os.path.join(dataset_csv_path+folder, csv_file_name))\n",
    "        print(complete_paths)\n",
    "        df = pd.concat(map(pd.read_csv, complete_paths), \n",
    "                                ignore_index = True)\n",
    "        if folder == 'training_data/gm/': #Avoid Dst IP and Src IP when loading from training folder\n",
    "            df = df[features[2:]].copy()\n",
    "        else:\n",
    "            df = df[features].copy()\n",
    "        print(folder[:-1])\n",
    "        df[\"Label\"] = folder[:-1]\n",
    "        df[\"Label\"] = df[\"Label\"].apply(lambda x: 0 if x == \"BENIGN\" else 1)\n",
    "        full_df = pd.concat([full_df, df], axis=0, ignore_index=True)\n",
    "    label = full_df[\"Label\"]    \n",
    "    \n",
    "    cleaned_df = clean_df(full_df)\n",
    "    # Drop String Columns\n",
    "    cleaned_df = cleaned_df[features]\n",
    "    # cleaned_df = cleaned_df.drop(columns=['Src IP', 'Dst IP', \"Label\"])\n",
    "    # Remove Inf and Nan\n",
    "    # cleaned_df = cleaned_df.replace([np.inf, -np.inf], np.nan)  # Replace inf/-inf with NaN\n",
    "    # cleaned_df = cleaned_df.fillna(df.mean())\n",
    "    # cleaned_df.dropna(inplace=True)\n",
    "    # cleaned_df = cleaned_df.select_dtypes(include=[np.number])\n",
    "    # indices_to_keep = ~cleaned_df.isin([np.nan, np.inf, -np.inf]).any(axis=1)\n",
    "    # cleaned_df = cleaned_df[indices_to_keep]\n",
    "    # Reinsert the label\n",
    "    cleaned_df[\"Label\"] = label\n",
    "    cleaned_df.to_csv(\"x.csv\")\n",
    "    return cleaned_df\n",
    "  \n",
    "  \n",
    "def validated_req_schema(flow_data):\n",
    "  df_pruned = flow_data[features]\n",
    "  return df_pruned  \n",
    "\n",
    "\n",
    "  \n",
    "\n",
    "def get_optimal_threshold(precision, recall, thresholds):\n",
    "    with np.errstate(divide='ignore', invalid='ignore'):\n",
    "        f1_scores = 2 * (precision * recall) / (precision + recall)\n",
    "        f1_scores[np.isnan(f1_scores)] = 0  # Replace NaN values with 0    \n",
    "    optimal_idx = np.argmax(f1_scores)\n",
    "    optimal_threshold = thresholds[optimal_idx]\n",
    "    return optimal_threshold\n",
    "  \n",
    "def eval_accuracy(clf, X_test, y_test):\n",
    "    anomaly_scores = clf.decision_function(X_test.to_numpy())\n",
    "    print(anomaly_scores)\n",
    "    fpr, tpr, _ = roc_curve(y_test, anomaly_scores)\n",
    "    precision, recall, thresholds = precision_recall_curve(y_test, anomaly_scores)\n",
    "    opt_threshold = get_optimal_threshold(precision, recall, thresholds)\n",
    "    pred = np.where(anomaly_scores > opt_threshold, 1,0)\n",
    "    f1 = f1_score(y_test, pred)\n",
    "    conf_matrix = confusion_matrix(y_test, pred)\n",
    "    print(f\"F1 Score: {f1:.4f}\")\n",
    "    print(conf_matrix)\n",
    "    return opt_threshold\n",
    "def get_avail_filename(folder,filename):\n",
    "    filenumber = 0\n",
    "    filepath = os.path.join(folder,f\"{filename}_{filenumber}.csv\")\n",
    "    while os.path.exists(filepath):\n",
    "        filenumber+=1\n",
    "        filepath = os.path.join(folder, f\"{filename}_{filenumber}.csv\")  \n",
    "    print(filepath)  \n",
    "    return filepath\n",
    "\n",
    "def load_data(train_folder,scaler=None):\n",
    "    full_df = read_csv(train_folder)\n",
    "    # validated_df = validated_req_schema(full_df)\n",
    "    label = full_df[\"Label\"].values\n",
    "    full_df.drop(columns=[\"Src IP\", \"Dst IP\", \"Label\"], axis=1, inplace=True)\n",
    "    columns = full_df.columns\n",
    "    if scaler != None:\n",
    "        normalized_data = scaler.transform(full_df)\n",
    "        normalized_df = pd.DataFrame(normalized_data, columns = columns)\n",
    "    else:\n",
    "        normalized_df = full_df.copy()\n",
    "    X_train, X_test, y_train, y_test = train_test_split(normalized_df, label,\n",
    "                                                        test_size=0.2, random_state=4022)\n",
    "    return X_train, X_test, y_train, y_test    \n",
    "\n",
    "    \n",
    "    \n",
    "class Global_Model():\n",
    "  def __init__(self, train_folder = ['dripper/', 'BENIGN/', 'bonesi/', 'training_data/gm/']):\n",
    "    self.scaler = joblib.load('cic_scaler.joblib')\n",
    "    self.train_folder = train_folder\n",
    "\n",
    "    self.model, self.opt_threshold = self.load_model()\n",
    "    \n",
    "    \n",
    "  def load_data(self,scaler=None):\n",
    "    full_df = read_csv(self.train_folder)\n",
    "    # validated_df = validated_req_schema(full_df)\n",
    "    label = full_df[\"Label\"].values\n",
    "    full_df.drop(columns=[\"Src IP\", \"Dst IP\", \"Label\"], axis=1, inplace=True)\n",
    "    columns = full_df.columns\n",
    "    if scaler != None:\n",
    "        normalized_data = scaler.transform(full_df)\n",
    "        normalized_df = pd.DataFrame(normalized_data, columns = columns)\n",
    "    else:\n",
    "        normalized_df = full_df.copy()\n",
    "    X_train, X_test, y_train, y_test = train_test_split(normalized_df, label,\n",
    "                                                        test_size=0.2, random_state=4022)\n",
    "    return X_train, X_test, y_train, y_test    \n",
    "    # TODO: New Data Handling - Append the data to the gm_training.csv\n",
    "    \n",
    "  def load_model(self): # Load the model through training since pytorch isn't supported\n",
    "    model = PReNet\n",
    "    clf = model(epochs=1, device='cuda')\n",
    "    X_train, X_test, y_train, y_test = self.load_data(self.scaler)\n",
    "    clf.fit(X_train.to_numpy()[:10000], y_train[:10000])\n",
    "    \n",
    "    opt_threshold = eval_accuracy(clf, X_test, y_test)\n",
    "    return clf, opt_threshold\n",
    "      \n",
    "  def perform_inference(self, X):\n",
    "    X_scaled = self.scaler.transform(X) # ! Add Scaler\n",
    "    anomaly_scores = self.model.decision_function(X_scaled)\n",
    "    output = np.where(anomaly_scores > self.opt_threshold, 1,0)\n",
    "    print(np.unique(output)) \n",
    "    return output\n",
    "\n",
    "  def update_data(self,X):\n",
    "    #Write a new CSV FIle\n",
    "    folder = self.train_folder[-1]\n",
    "    filename = get_avail_filename(folder, \"gm_train_data\")\n",
    "    filepath = os.path.join(\"Dataset/SimulatedCVE/cicflowmeter_cve/\", filename)\n",
    "    X.to_csv(filepath, index=False)\n",
    "    \n",
    "    print(f\"Added {filepath} as New GM Training Data\")\n",
    "      \n",
    "  def retrain_gm(self, X):\n",
    "    X_scaled = self.scaler.transform(X)\n",
    "\n",
    "class Local_Model():\n",
    "    def __init__(self, gm):\n",
    "        # self.model = XGBClassifier(objective='binary:logistic')\n",
    "        self.model = DecisionTreeClassifier(criterion='entropy', max_depth=5,  \n",
    "                                            min_samples_leaf=10, \n",
    "                                            # ccp_alpha=0.01, #Pruning coef\n",
    "                                            random_state=4022)\n",
    "        # self.model = RandomForestClassifier(criterion='entropy', \n",
    "        #                                     random_state=4022)\n",
    "        # self.model = SVC(kernel='rbf', \n",
    "        #                 gamma='scale',  # You can also use 'auto' depending on the specific setting mentioned\n",
    "        #                 C=1.0,  # Default regularization parameter, adjust as needed\n",
    "        #                 probability=True,\n",
    "        #                 random_state=4022)                \n",
    "        self.train_folder = \"./Dataset/SimulatedCVE/cicflowmeter_cve/training_data/lm/\"\n",
    "        self.model_path = \"./cic_xgb.joblib\"\n",
    "        self.state = 0 #0: OFF, 1: ON, 2: HYBRID\n",
    "        self.scaler = joblib.load('./cic_scaler.joblib')\n",
    "        self.global_model = gm #Replace With HTTP API\n",
    "        self.load_model()\n",
    "    def load_model(self):\n",
    "        # self.model = joblib.load(self.model_path)\n",
    "        known_df = self.load_known_df()\n",
    "        y_known = known_df[\"Label\"]\n",
    "        X_known = known_df.drop(columns=[\"Label\"], inplace=False)\n",
    "        X_known_scaled = self.scaler.transform(X_known)\n",
    "        self.model.fit(X_known_scaled, y_known)\n",
    "        \n",
    "    def load_known_df(self):\n",
    "        known_df = pd.DataFrame()\n",
    "        training_data_list = os.listdir(self.train_folder)\n",
    "        training_data_list.sort(reverse=True)\n",
    "        # known_df =  pd.read_csv(os.path.join(self.train_folder,training_data_list[0]))\n",
    "        # print(training_data_list[0])\n",
    "        if len(training_data_list) > 0:\n",
    "            print(training_data_list)\n",
    "            for training_data in training_data_list:\n",
    "                curr_df = pd.read_csv(os.path.join(self.train_folder,training_data))\n",
    "                known_df = pd.concat([known_df, curr_df], axis=0, ignore_index=True)      \n",
    "        # known_df.drop(columns=[\"Src IP\", \"Dst IP\"], inplace=True)\n",
    "        return known_df  \n",
    "                \n",
    "    def retrain_model(self, X_new,threshold = 0.2, update_gm = False): #Select Most Important Data and Upload Newly Recorded Data\n",
    "        # TODO: Use AL to Select Prerecorded Data\n",
    "        known_df = self.load_known_df()\n",
    "        filtered_new_data, informative_score_list, updated_model = self.select_data(known_df, X_new, threshold)\n",
    "        # labeled_new_data = self.upload_gm(filtered_new_data)\n",
    "        if update_gm:\n",
    "            filtered_new_data[\"Label\"] = 0\n",
    "            self.global_model.update_data(filtered_new_data)\n",
    "        # TODO: After updating return the labels or recall the function\n",
    "        else:\n",
    "            self.append_training_data(filtered_new_data)\n",
    "            # Update the model        \n",
    "            self.model = updated_model # ! If update_gm, should replace the previous record for AL to work\n",
    "        return informative_score_list\n",
    "        \n",
    "    def upload_gm(self, X_query): \n",
    "        # X_query_scaled = self.scaler.transform(X_query)\n",
    "        pseudo_label = self.global_model.perform_inference(X_query)\n",
    "        X_query_df = pd.DataFrame(X_query, columns=features[2:])\n",
    "        X_query_df[\"Label\"] = pseudo_label\n",
    "        return pseudo_label\n",
    "    def select_data(self, known_df, X_new, threshold):\n",
    "        round = 10\n",
    "        informative_score_list = []\n",
    "        y_new = np.ones(X_new.shape[0]) * 2   \n",
    "        model = self.model\n",
    "        \n",
    "        X_known = known_df.drop(columns=[\"Label\"], inplace = False).copy()\n",
    "        y_known = known_df[\"Label\"]\n",
    "        # X_known.drop(columns=[\"Src IP\", \"Dst IP\"], inplace=True)\n",
    "        X = np.concatenate([X_known, X_new])\n",
    "        y = np.concatenate([y_known, y_new])\n",
    "        label_ind = np.arange(len(X_known))\n",
    "        print(\"Size of Label Index\", len(X_known))\n",
    "        unlab_ind = np.arange(len(X_known), len(X))\n",
    "\n",
    "        divided_arrays = np.array_split(unlab_ind, round)\n",
    "        \n",
    "        alibox_new = ToolBox(X=X, y=y, query_type='AllLabels', saving_path=None,) \n",
    "        alibox_new.split_AL(test_ratio=0.1, initial_label_rate=0.1, split_count=10)     \n",
    "        strategy_name = \"QueryInstanceUncertainty\"\n",
    "        strategy = alibox_new.get_query_strategy(strategy_name=strategy_name) #TODO Replace Alibox with a single function\n",
    "        for i in range(round):\n",
    "            batch_size = 10000 \n",
    "            print(f\"Round {i}\")\n",
    "            # Use AL to Select Data\n",
    "            select_ind, informative_score = strategy.select(label_index=label_ind, unlabel_index=divided_arrays[i], custom = True, model=model, batch_size=batch_size)\n",
    "            select_ind = np.where(np.array(informative_score) > threshold)[0]\n",
    "            informative_score.sort(reverse=True)\n",
    "                              \n",
    "            batch_size = min(batch_size, np.shape(select_ind)[0] ) #Limit up to 30 000 per query\n",
    "            print(batch_size)\n",
    "            # Upload Data to GM\n",
    "            idx_to_query = select_ind[:batch_size]\n",
    "            if len(idx_to_query) > 0:\n",
    "                pseudo_labels = self.upload_gm(X[idx_to_query])\n",
    "                y[idx_to_query] = pseudo_labels\n",
    "                \n",
    "                label_ind = np.concatenate([label_ind, select_ind[:batch_size]])# label_ind.update(select_ind)\n",
    "                mask = np.where(np.isin(unlab_ind, select_ind[:batch_size], invert=True)) # unlab_ind.difference_update(select_ind)\n",
    "                unlab_ind = unlab_ind[mask]\n",
    "                \n",
    "                print(f\"Added {batch_size} Shape of Label_ind: {np.shape(label_ind)}\")  \n",
    "                #Update The Model\n",
    "                X_scaled = self.scaler.transform(X[label_ind,:]) # ! Add Scaler\n",
    "                \n",
    "                # model = DecisionTreeClassifier(criterion='entropy', max_depth=5,  \n",
    "                #                                     min_samples_leaf=10, \n",
    "                #                                     # ccp_alpha=0.01, #Pruning coef\n",
    "                #                                     random_state=4022)\n",
    "                # model = XGBClassifier(objective='binary:logistic')\n",
    "                model = self.model\n",
    "                model.fit(X=X_scaled, y=y[label_ind]) \n",
    "                # pred = model.predict(X_test)\n",
    "                # query_accuracy = metric(pred, y_test)      \n",
    "            else:\n",
    "                print(\"No Data Added\")\n",
    "            print(informative_score[:100])\n",
    "            informative_score_list.append(informative_score)\n",
    "\n",
    "            \n",
    "        merged_train_df = pd.DataFrame(X[label_ind,:], columns = features[2:])\n",
    "        merged_train_df[\"Label\"] = y[label_ind]\n",
    "        new_train_df = merged_train_df.iloc[len(X_known):]\n",
    "        return new_train_df, informative_score_list, model\n",
    "        \n",
    "    def perform_inference(self, X):\n",
    "            X_scaled = self.scaler.transform(X) # ! Add Scaler\n",
    "            output = self.model.predict(X_scaled) \n",
    "            print(np.unique(output)) \n",
    "            return output\n",
    "    def append_training_data(self,new_train_df):\n",
    "        #Write a new CSV FIle\n",
    "        folder = self.train_folder\n",
    "        filepath = get_avail_filename(folder, \"lm_train_data\")\n",
    "        new_train_df.to_csv(filepath, index=False)\n",
    "        print(f\"Added {filepath} as New LM Training Data\")\n",
    "\n",
    "        "
   ]
  },
  {
   "cell_type": "code",
   "execution_count": 156,
   "metadata": {},
   "outputs": [],
   "source": [
    "# gm = Global_Model(['dripper/', 'BENIGN/', 'bonesi/'])"
   ]
  },
  {
   "cell_type": "code",
   "execution_count": 157,
   "metadata": {},
   "outputs": [
    {
     "name": "stdout",
     "output_type": "stream",
     "text": [
      "['lm_train_data_1.csv', 'lm_train_data_0.csv']\n"
     ]
    }
   ],
   "source": [
    "# ! When training 10 rounds, the informative score doesnt change \n",
    "# ! Global Model isn't accurate?\n",
    "lm = Local_Model(gm)"
   ]
  },
  {
   "cell_type": "code",
   "execution_count": 158,
   "metadata": {},
   "outputs": [
    {
     "name": "stdout",
     "output_type": "stream",
     "text": [
      "['lm_train_data_1.csv', 'lm_train_data_0.csv']\n",
      "Size of Label Index 8\n",
      "Round 0\n"
     ]
    },
    {
     "name": "stderr",
     "output_type": "stream",
     "text": [
      "X does not have valid feature names, but StandardScaler was fitted with feature names\n"
     ]
    },
    {
     "name": "stdout",
     "output_type": "stream",
     "text": [
      "10000\n"
     ]
    },
    {
     "name": "stderr",
     "output_type": "stream",
     "text": [
      "testing: 100%|██████████| 157/157 [00:01<00:00, 84.99it/s]\n",
      "X does not have valid feature names, but StandardScaler was fitted with feature names\n",
      "X does not have valid feature names, but StandardScaler was fitted with feature names\n"
     ]
    },
    {
     "name": "stdout",
     "output_type": "stream",
     "text": [
      "[0 1]\n",
      "Added 10000 Shape of Label_ind: (10008,)\n",
      "[0.5623351426188083, 0.5623351426188083, 0.5623351426188083, 0.5623351426188083, 0.5623351426188083, 0.5623351426188083, 0.5623351426188083, 0.5623351426188083, 0.5623351426188083, 0.5623351426188083, 0.5623351426188083, 0.5623351426188083, 0.5623351426188083, 0.5623351426188083, 0.5623351426188083, 0.5623351426188083, 0.5623351426188083, 0.5623351426188083, 0.5623351426188083, 0.5623351426188083, 0.5623351426188083, 0.5623351426188083, 0.5623351426188083, 0.5623351426188083, 0.5623351426188083, 0.5623351426188083, 0.5623351426188083, 0.5623351426188083, 0.5623351426188083, 0.5623351426188083, 0.5623351426188083, 0.5623351426188083, 0.5623351426188083, 0.5623351426188083, 0.5623351426188083, 0.5623351426188083, 0.5623351426188083, 0.5623351426188083, 0.5623351426188083, 0.5623351426188083, 0.5623351426188083, 0.5623351426188083, 0.5623351426188083, 0.5623351426188083, 0.5623351426188083, 0.5623351426188083, 0.5623351426188083, 0.5623351426188083, 0.5623351426188083, 0.5623351426188083, 0.5623351426188083, 0.5623351426188083, 0.5623351426188083, 0.5623351426188083, 0.5623351426188083, 0.5623351426188083, 0.5623351426188083, 0.5623351426188083, 0.5623351426188083, 0.5623351426188083, 0.5623351426188083, 0.5623351426188083, 0.5623351426188083, 0.5623351426188083, 0.5623351426188083, 0.5623351426188083, 0.5623351426188083, 0.5623351426188083, 0.5623351426188083, 0.5623351426188083, 0.5623351426188083, 0.5623351426188083, 0.5623351426188083, 0.5623351426188083, 0.5623351426188083, 0.5623351426188083, 0.5623351426188083, 0.5623351426188083, 0.5623351426188083, 0.5623351426188083, 0.5623351426188083, 0.5623351426188083, 0.5623351426188083, 0.5623351426188083, 0.5623351426188083, 0.5623351426188083, 0.5623351426188083, 0.5623351426188083, 0.5623351426188083, 0.5623351426188083, 0.5623351426188083, 0.5623351426188083, 0.5623351426188083, 0.5623351426188083, 0.5623351426188083, 0.5623351426188083, 0.5623351426188083, 0.5623351426188083, 0.5623351426188083, 0.5623351426188083]\n",
      "Round 1\n",
      "10000\n"
     ]
    },
    {
     "name": "stderr",
     "output_type": "stream",
     "text": [
      "testing: 100%|██████████| 157/157 [00:01<00:00, 83.61it/s]\n",
      "X does not have valid feature names, but StandardScaler was fitted with feature names\n"
     ]
    },
    {
     "name": "stdout",
     "output_type": "stream",
     "text": [
      "[0 1]\n",
      "Added 10000 Shape of Label_ind: (20008,)\n"
     ]
    },
    {
     "name": "stderr",
     "output_type": "stream",
     "text": [
      "X does not have valid feature names, but StandardScaler was fitted with feature names\n"
     ]
    },
    {
     "name": "stdout",
     "output_type": "stream",
     "text": [
      "[0.36221055513544903, 0.36221055513544903, 0.36221055513544903, 0.36221055513544903, 0.36221055513544903, 0.36221055513544903, 0.36221055513544903, 0.36221055513544903, 0.36221055513544903, 0.36221055513544903, 0.36221055513544903, 0.36221055513544903, 0.36221055513544903, 0.36221055513544903, 0.36221055513544903, 0.36221055513544903, 0.36221055513544903, 0.36221055513544903, 0.36221055513544903, 0.36221055513544903, 0.36221055513544903, 0.36221055513544903, 0.36221055513544903, 0.36221055513544903, 0.36221055513544903, 0.36221055513544903, 0.36221055513544903, 0.36221055513544903, 0.36221055513544903, 0.36221055513544903, 0.36221055513544903, 0.36221055513544903, 0.36221055513544903, 0.36221055513544903, 0.36221055513544903, 0.36221055513544903, 0.36221055513544903, 0.36221055513544903, 0.36221055513544903, 0.36221055513544903, 0.36221055513544903, 0.36221055513544903, 0.36221055513544903, 0.36221055513544903, 0.36221055513544903, 0.36221055513544903, 0.36221055513544903, 0.36221055513544903, 0.36221055513544903, 0.36221055513544903, 0.36221055513544903, 0.36221055513544903, 0.36221055513544903, 0.36221055513544903, 0.36221055513544903, 0.36221055513544903, 0.36221055513544903, 0.36221055513544903, 0.36221055513544903, 0.36221055513544903, 0.36221055513544903, 0.36221055513544903, 0.36221055513544903, 0.36221055513544903, 0.36221055513544903, 0.36221055513544903, 0.36221055513544903, 0.36221055513544903, 0.36221055513544903, 0.36221055513544903, 0.36221055513544903, 0.36221055513544903, 0.36221055513544903, 0.36221055513544903, 0.36221055513544903, 0.36221055513544903, 0.36221055513544903, 0.36221055513544903, 0.36221055513544903, 0.36221055513544903, 0.36221055513544903, 0.36221055513544903, 0.36221055513544903, 0.36221055513544903, 0.36221055513544903, 0.36221055513544903, 0.36221055513544903, 0.36221055513544903, 0.36221055513544903, 0.36221055513544903, 0.36221055513544903, 0.36221055513544903, 0.36221055513544903, 0.36221055513544903, 0.36221055513544903, 0.36221055513544903, 0.36221055513544903, 0.36221055513544903, 0.36221055513544903, 0.36221055513544903]\n",
      "Round 2\n",
      "145\n"
     ]
    },
    {
     "name": "stderr",
     "output_type": "stream",
     "text": [
      "testing: 100%|██████████| 3/3 [00:00<00:00, 76.67it/s]"
     ]
    },
    {
     "name": "stdout",
     "output_type": "stream",
     "text": [
      "[0 1]\n",
      "Added 145 Shape of Label_ind: (20153,)\n"
     ]
    },
    {
     "name": "stderr",
     "output_type": "stream",
     "text": [
      "\n",
      "X does not have valid feature names, but StandardScaler was fitted with feature names\n",
      "X does not have valid feature names, but StandardScaler was fitted with feature names\n"
     ]
    },
    {
     "name": "stdout",
     "output_type": "stream",
     "text": [
      "[0.6890092364766586, 0.6890092364766586, 0.6890092364766586, 0.6890092364766586, 0.6890092364766586, 0.6890092364766586, 0.6890092364766586, 0.6890092364766586, 0.6890092364766586, 0.6890092364766586, 0.6890092364766586, 0.6890092364766586, 0.6890092364766586, 0.6890092364766586, 0.6890092364766586, 0.6890092364766586, 0.6890092364766586, 0.6890092364766586, 0.6890092364766586, 0.6890092364766586, 0.6890092364766586, 0.6890092364766586, 0.6890092364766586, 0.6890092364766586, 0.6890092364766586, 0.6890092364766586, 0.6890092364766586, 0.6890092364766586, 0.6890092364766586, 0.6890092364766586, 0.6890092364766586, 0.6890092364766586, 0.6890092364766586, 0.6890092364766586, 0.6890092364766586, 0.6890092364766586, 0.6890092364766586, 0.6890092364766586, 0.6890092364766586, 0.6890092364766586, 0.6890092364766586, 0.6890092364766586, 0.6890092364766586, 0.6890092364766586, 0.6890092364766586, 0.6890092364766586, 0.6890092364766586, 0.6890092364766586, 0.6890092364766586, 0.6890092364766586, 0.6890092364766586, 0.6890092364766586, 0.6890092364766586, 0.6890092364766586, 0.6890092364766586, 0.6890092364766586, 0.6890092364766586, 0.6890092364766586, 0.6890092364766586, 0.6890092364766586, 0.6890092364766586, 0.6890092364766586, 0.6890092364766586, 0.6890092364766586, 0.6890092364766586, 0.6890092364766586, 0.6890092364766586, 0.6890092364766586, 0.6890092364766586, 0.6890092364766586, 0.6890092364766586, 0.6890092364766586, 0.6890092364766586, 0.6890092364766586, 0.6890092364766586, 0.6890092364766586, 0.6890092364766586, 0.6890092364766586, 0.6890092364766586, 0.6890092364766586, 0.6890092364766586, 0.6890092364766586, 0.6890092364766586, 0.6890092364766586, 0.6890092364766586, 0.6890092364766586, 0.6890092364766586, 0.6890092364766586, 0.6890092364766586, 0.6890092364766586, 0.6890092364766586, 0.6890092364766586, 0.6890092364766586, 0.6890092364766586, 0.6890092364766586, 0.6890092364766586, 0.6890092364766586, 0.6890092364766586, 0.6890092364766586, 0.6890092364766586]\n",
      "Round 3\n",
      "164\n"
     ]
    },
    {
     "name": "stderr",
     "output_type": "stream",
     "text": [
      "testing: 100%|██████████| 3/3 [00:00<00:00, 79.47it/s]"
     ]
    },
    {
     "name": "stdout",
     "output_type": "stream",
     "text": [
      "[0 1]\n",
      "Added 164 Shape of Label_ind: (20317,)\n"
     ]
    },
    {
     "name": "stderr",
     "output_type": "stream",
     "text": [
      "\n",
      "X does not have valid feature names, but StandardScaler was fitted with feature names\n",
      "X does not have valid feature names, but StandardScaler was fitted with feature names\n"
     ]
    },
    {
     "name": "stdout",
     "output_type": "stream",
     "text": [
      "[0.6890092364766586, 0.6890092364766586, 0.6890092364766586, 0.6890092364766586, 0.6890092364766586, 0.6890092364766586, 0.6890092364766586, 0.6890092364766586, 0.6890092364766586, 0.6890092364766586, 0.6890092364766586, 0.6890092364766586, 0.6890092364766586, 0.6890092364766586, 0.6890092364766586, 0.6890092364766586, 0.6890092364766586, 0.6890092364766586, 0.6890092364766586, 0.6890092364766586, 0.6890092364766586, 0.6890092364766586, 0.6890092364766586, 0.6890092364766586, 0.6890092364766586, 0.6890092364766586, 0.6890092364766586, 0.6890092364766586, 0.6890092364766586, 0.6890092364766586, 0.6890092364766586, 0.6890092364766586, 0.6890092364766586, 0.6890092364766586, 0.6890092364766586, 0.6890092364766586, 0.6890092364766586, 0.6890092364766586, 0.6890092364766586, 0.6890092364766586, 0.6890092364766586, 0.6890092364766586, 0.6890092364766586, 0.6890092364766586, 0.6890092364766586, 0.6890092364766586, 0.6890092364766586, 0.6890092364766586, 0.6890092364766586, 0.6890092364766586, 0.6890092364766586, 0.6890092364766586, 0.6890092364766586, 0.6890092364766586, 0.6890092364766586, 0.6890092364766586, 0.6890092364766586, 0.6890092364766586, 0.6890092364766586, 0.6890092364766586, 0.6890092364766586, 0.6890092364766586, 0.6890092364766586, 0.6890092364766586, 0.6890092364766586, 0.6890092364766586, 0.6890092364766586, 0.6890092364766586, 0.6890092364766586, 0.6890092364766586, 0.6890092364766586, 0.6890092364766586, 0.6890092364766586, 0.6890092364766586, 0.6890092364766586, 0.6890092364766586, 0.6890092364766586, 0.6890092364766586, 0.6890092364766586, 0.6890092364766586, 0.6890092364766586, 0.6890092364766586, 0.6890092364766586, 0.6890092364766586, 0.6890092364766586, 0.6890092364766586, 0.6890092364766586, 0.6890092364766586, 0.6890092364766586, 0.6890092364766586, 0.6890092364766586, 0.6890092364766586, 0.6890092364766586, 0.6890092364766586, 0.6890092364766586, 0.6890092364766586, 0.6890092364766586, 0.6890092364766586, 0.6890092364766586, 0.6890092364766586]\n",
      "Round 4\n",
      "173\n"
     ]
    },
    {
     "name": "stderr",
     "output_type": "stream",
     "text": [
      "testing: 100%|██████████| 3/3 [00:00<00:00, 64.04it/s]"
     ]
    },
    {
     "name": "stdout",
     "output_type": "stream",
     "text": [
      "[0 1]\n",
      "Added 173 Shape of Label_ind: (20490,)\n"
     ]
    },
    {
     "name": "stderr",
     "output_type": "stream",
     "text": [
      "\n",
      "X does not have valid feature names, but StandardScaler was fitted with feature names\n",
      "X does not have valid feature names, but StandardScaler was fitted with feature names\n"
     ]
    },
    {
     "name": "stdout",
     "output_type": "stream",
     "text": [
      "[0.6890092364766586, 0.6890092364766586, 0.6890092364766586, 0.6890092364766586, 0.6890092364766586, 0.6890092364766586, 0.6890092364766586, 0.6890092364766586, 0.6890092364766586, 0.6890092364766586, 0.6890092364766586, 0.6890092364766586, 0.6890092364766586, 0.6890092364766586, 0.6890092364766586, 0.6890092364766586, 0.6890092364766586, 0.6890092364766586, 0.6890092364766586, 0.6890092364766586, 0.6890092364766586, 0.6890092364766586, 0.6890092364766586, 0.6890092364766586, 0.6890092364766586, 0.6890092364766586, 0.6890092364766586, 0.6890092364766586, 0.6890092364766586, 0.6890092364766586, 0.6890092364766586, 0.6890092364766586, 0.6890092364766586, 0.6890092364766586, 0.6890092364766586, 0.6890092364766586, 0.6890092364766586, 0.6890092364766586, 0.6890092364766586, 0.6890092364766586, 0.6890092364766586, 0.6890092364766586, 0.6890092364766586, 0.6890092364766586, 0.6890092364766586, 0.6890092364766586, 0.6890092364766586, 0.6890092364766586, 0.6890092364766586, 0.6890092364766586, 0.6890092364766586, 0.6890092364766586, 0.6890092364766586, 0.6890092364766586, 0.6890092364766586, 0.6890092364766586, 0.6890092364766586, 0.6890092364766586, 0.6890092364766586, 0.6890092364766586, 0.6890092364766586, 0.6890092364766586, 0.6890092364766586, 0.6890092364766586, 0.6890092364766586, 0.6890092364766586, 0.6890092364766586, 0.6890092364766586, 0.6890092364766586, 0.6890092364766586, 0.6890092364766586, 0.6890092364766586, 0.6890092364766586, 0.6890092364766586, 0.6890092364766586, 0.6890092364766586, 0.6890092364766586, 0.6890092364766586, 0.6890092364766586, 0.6890092364766586, 0.6890092364766586, 0.6890092364766586, 0.6890092364766586, 0.6890092364766586, 0.6890092364766586, 0.6890092364766586, 0.6890092364766586, 0.6890092364766586, 0.6890092364766586, 0.6890092364766586, 0.6890092364766586, 0.6890092364766586, 0.6890092364766586, 0.6890092364766586, 0.6890092364766586, 0.6890092364766586, 0.6890092364766586, 0.6890092364766586, 0.6890092364766586, 0.6890092364766586]\n",
      "Round 5\n",
      "164\n"
     ]
    },
    {
     "name": "stderr",
     "output_type": "stream",
     "text": [
      "testing: 100%|██████████| 3/3 [00:00<00:00, 79.44it/s]"
     ]
    },
    {
     "name": "stdout",
     "output_type": "stream",
     "text": [
      "[0 1]\n",
      "Added 164 Shape of Label_ind: (20654,)\n"
     ]
    },
    {
     "name": "stderr",
     "output_type": "stream",
     "text": [
      "\n",
      "X does not have valid feature names, but StandardScaler was fitted with feature names\n",
      "X does not have valid feature names, but StandardScaler was fitted with feature names\n"
     ]
    },
    {
     "name": "stdout",
     "output_type": "stream",
     "text": [
      "[0.6890092364766586, 0.6890092364766586, 0.6890092364766586, 0.6890092364766586, 0.6890092364766586, 0.6890092364766586, 0.6890092364766586, 0.6890092364766586, 0.6890092364766586, 0.6890092364766586, 0.6890092364766586, 0.6890092364766586, 0.6890092364766586, 0.6890092364766586, 0.6890092364766586, 0.6890092364766586, 0.6890092364766586, 0.6890092364766586, 0.6890092364766586, 0.6890092364766586, 0.6890092364766586, 0.6890092364766586, 0.6890092364766586, 0.6890092364766586, 0.6890092364766586, 0.6890092364766586, 0.6890092364766586, 0.6890092364766586, 0.6890092364766586, 0.6890092364766586, 0.6890092364766586, 0.6890092364766586, 0.6890092364766586, 0.6890092364766586, 0.6890092364766586, 0.6890092364766586, 0.6890092364766586, 0.6890092364766586, 0.6890092364766586, 0.6890092364766586, 0.6890092364766586, 0.6890092364766586, 0.6890092364766586, 0.6890092364766586, 0.6890092364766586, 0.6890092364766586, 0.6890092364766586, 0.6890092364766586, 0.6890092364766586, 0.6890092364766586, 0.6890092364766586, 0.6890092364766586, 0.6890092364766586, 0.6890092364766586, 0.6890092364766586, 0.6890092364766586, 0.6890092364766586, 0.6890092364766586, 0.6890092364766586, 0.6890092364766586, 0.6890092364766586, 0.6890092364766586, 0.6890092364766586, 0.6890092364766586, 0.6890092364766586, 0.6890092364766586, 0.6890092364766586, 0.6890092364766586, 0.6890092364766586, 0.6890092364766586, 0.6890092364766586, 0.6890092364766586, 0.6890092364766586, 0.6890092364766586, 0.6890092364766586, 0.6890092364766586, 0.6890092364766586, 0.6890092364766586, 0.6890092364766586, 0.6890092364766586, 0.6890092364766586, 0.6890092364766586, 0.6890092364766586, 0.6890092364766586, 0.6890092364766586, 0.6890092364766586, 0.6890092364766586, 0.6890092364766586, 0.6890092364766586, 0.6890092364766586, 0.6890092364766586, 0.6890092364766586, 0.6890092364766586, 0.6890092364766586, 0.6890092364766586, 0.6890092364766586, 0.6890092364766586, 0.6890092364766586, 0.6890092364766586, 0.6890092364766586]\n",
      "Round 6\n",
      "164\n"
     ]
    },
    {
     "name": "stderr",
     "output_type": "stream",
     "text": [
      "testing: 100%|██████████| 3/3 [00:00<00:00, 74.74it/s]"
     ]
    },
    {
     "name": "stdout",
     "output_type": "stream",
     "text": [
      "[0 1]\n",
      "Added 164 Shape of Label_ind: (20818,)\n"
     ]
    },
    {
     "name": "stderr",
     "output_type": "stream",
     "text": [
      "\n",
      "X does not have valid feature names, but StandardScaler was fitted with feature names\n",
      "X does not have valid feature names, but StandardScaler was fitted with feature names\n"
     ]
    },
    {
     "name": "stdout",
     "output_type": "stream",
     "text": [
      "[0.6890092364766586, 0.6890092364766586, 0.6890092364766586, 0.6890092364766586, 0.6890092364766586, 0.6890092364766586, 0.6890092364766586, 0.6890092364766586, 0.6890092364766586, 0.6890092364766586, 0.6890092364766586, 0.6890092364766586, 0.6890092364766586, 0.6890092364766586, 0.6890092364766586, 0.6890092364766586, 0.6890092364766586, 0.6890092364766586, 0.6890092364766586, 0.6890092364766586, 0.6890092364766586, 0.6890092364766586, 0.6890092364766586, 0.6890092364766586, 0.6890092364766586, 0.6890092364766586, 0.6890092364766586, 0.6890092364766586, 0.6890092364766586, 0.6890092364766586, 0.6890092364766586, 0.6890092364766586, 0.6890092364766586, 0.6890092364766586, 0.6890092364766586, 0.6890092364766586, 0.6890092364766586, 0.6890092364766586, 0.6890092364766586, 0.6890092364766586, 0.6890092364766586, 0.6890092364766586, 0.6890092364766586, 0.6890092364766586, 0.6890092364766586, 0.6890092364766586, 0.6890092364766586, 0.6890092364766586, 0.6890092364766586, 0.6890092364766586, 0.6890092364766586, 0.6890092364766586, 0.6890092364766586, 0.6890092364766586, 0.6890092364766586, 0.6890092364766586, 0.6890092364766586, 0.6890092364766586, 0.6890092364766586, 0.6890092364766586, 0.6890092364766586, 0.6890092364766586, 0.6890092364766586, 0.6890092364766586, 0.6890092364766586, 0.6890092364766586, 0.6890092364766586, 0.6890092364766586, 0.6890092364766586, 0.6890092364766586, 0.6890092364766586, 0.6890092364766586, 0.6890092364766586, 0.6890092364766586, 0.6890092364766586, 0.6890092364766586, 0.6890092364766586, 0.6890092364766586, 0.6890092364766586, 0.6890092364766586, 0.6890092364766586, 0.6890092364766586, 0.6890092364766586, 0.6890092364766586, 0.6890092364766586, 0.6890092364766586, 0.6890092364766586, 0.6890092364766586, 0.6890092364766586, 0.6890092364766586, 0.6890092364766586, 0.6890092364766586, 0.6890092364766586, 0.6890092364766586, 0.6890092364766586, 0.6890092364766586, 0.6890092364766586, 0.6890092364766586, 0.6890092364766586, 0.6890092364766586]\n",
      "Round 7\n",
      "160\n"
     ]
    },
    {
     "name": "stderr",
     "output_type": "stream",
     "text": [
      "testing: 100%|██████████| 3/3 [00:00<00:00, 83.12it/s]"
     ]
    },
    {
     "name": "stdout",
     "output_type": "stream",
     "text": [
      "[0 1]\n",
      "Added 160 Shape of Label_ind: (20978,)\n"
     ]
    },
    {
     "name": "stderr",
     "output_type": "stream",
     "text": [
      "\n",
      "X does not have valid feature names, but StandardScaler was fitted with feature names\n",
      "X does not have valid feature names, but StandardScaler was fitted with feature names\n"
     ]
    },
    {
     "name": "stdout",
     "output_type": "stream",
     "text": [
      "[0.6890092364766586, 0.6890092364766586, 0.6890092364766586, 0.6890092364766586, 0.6890092364766586, 0.6890092364766586, 0.6890092364766586, 0.6890092364766586, 0.6890092364766586, 0.6890092364766586, 0.6890092364766586, 0.6890092364766586, 0.6890092364766586, 0.6890092364766586, 0.6890092364766586, 0.6890092364766586, 0.6890092364766586, 0.6890092364766586, 0.6890092364766586, 0.6890092364766586, 0.6890092364766586, 0.6890092364766586, 0.6890092364766586, 0.6890092364766586, 0.6890092364766586, 0.6890092364766586, 0.6890092364766586, 0.6890092364766586, 0.6890092364766586, 0.6890092364766586, 0.6890092364766586, 0.6890092364766586, 0.6890092364766586, 0.6890092364766586, 0.6890092364766586, 0.6890092364766586, 0.6890092364766586, 0.6890092364766586, 0.6890092364766586, 0.6890092364766586, 0.6890092364766586, 0.6890092364766586, 0.6890092364766586, 0.6890092364766586, 0.6890092364766586, 0.6890092364766586, 0.6890092364766586, 0.6890092364766586, 0.6890092364766586, 0.6890092364766586, 0.6890092364766586, 0.6890092364766586, 0.6890092364766586, 0.6890092364766586, 0.6890092364766586, 0.6890092364766586, 0.6890092364766586, 0.6890092364766586, 0.6890092364766586, 0.6890092364766586, 0.6890092364766586, 0.6890092364766586, 0.6890092364766586, 0.6890092364766586, 0.6890092364766586, 0.6890092364766586, 0.6890092364766586, 0.6890092364766586, 0.6890092364766586, 0.6890092364766586, 0.6890092364766586, 0.6890092364766586, 0.6890092364766586, 0.6890092364766586, 0.6890092364766586, 0.6890092364766586, 0.6890092364766586, 0.6890092364766586, 0.6890092364766586, 0.6890092364766586, 0.6890092364766586, 0.6890092364766586, 0.6890092364766586, 0.6890092364766586, 0.6890092364766586, 0.6890092364766586, 0.6890092364766586, 0.6890092364766586, 0.6890092364766586, 0.6890092364766586, 0.6890092364766586, 0.6890092364766586, 0.6890092364766586, 0.6890092364766586, 0.6890092364766586, 0.6890092364766586, 0.6890092364766586, 0.6890092364766586, 0.6890092364766586, 0.6890092364766586]\n",
      "Round 8\n",
      "159\n"
     ]
    },
    {
     "name": "stderr",
     "output_type": "stream",
     "text": [
      "testing: 100%|██████████| 3/3 [00:00<00:00, 86.42it/s]"
     ]
    },
    {
     "name": "stdout",
     "output_type": "stream",
     "text": [
      "[0 1]\n",
      "Added 159 Shape of Label_ind: (21137,)\n"
     ]
    },
    {
     "name": "stderr",
     "output_type": "stream",
     "text": [
      "\n",
      "X does not have valid feature names, but StandardScaler was fitted with feature names\n",
      "X does not have valid feature names, but StandardScaler was fitted with feature names\n"
     ]
    },
    {
     "name": "stdout",
     "output_type": "stream",
     "text": [
      "[0.6730116650092565, 0.6730116650092565, 0.6730116650092565, 0.6730116650092565, 0.6730116650092565, 0.6730116650092565, 0.6730116650092565, 0.6730116650092565, 0.6730116650092565, 0.6730116650092565, 0.6730116650092565, 0.6730116650092565, 0.6730116650092565, 0.6730116650092565, 0.6730116650092565, 0.6730116650092565, 0.6730116650092565, 0.6730116650092565, 0.6730116650092565, 0.6730116650092565, 0.6730116650092565, 0.6730116650092565, 0.6730116650092565, 0.6730116650092565, 0.6730116650092565, 0.6730116650092565, 0.6730116650092565, 0.6730116650092565, 0.6730116650092565, 0.6730116650092565, 0.6730116650092565, 0.6730116650092565, 0.6730116650092565, 0.6730116650092565, 0.6730116650092565, 0.6730116650092565, 0.6730116650092565, 0.6730116650092565, 0.6730116650092565, 0.6730116650092565, 0.6730116650092565, 0.6730116650092565, 0.6730116650092565, 0.6730116650092565, 0.6730116650092565, 0.6730116650092565, 0.6730116650092565, 0.6730116650092565, 0.6730116650092565, 0.6730116650092565, 0.6730116650092565, 0.6730116650092565, 0.6730116650092565, 0.6730116650092565, 0.6730116650092565, 0.6730116650092565, 0.6730116650092565, 0.6730116650092565, 0.6730116650092565, 0.6730116650092565, 0.6730116650092565, 0.6730116650092565, 0.6730116650092565, 0.6730116650092565, 0.6730116650092565, 0.6730116650092565, 0.6730116650092565, 0.6730116650092565, 0.6730116650092565, 0.6730116650092565, 0.6730116650092565, 0.6730116650092565, 0.6730116650092565, 0.6730116650092565, 0.6730116650092565, 0.6730116650092565, 0.6730116650092565, 0.6730116650092565, 0.6730116650092565, 0.6730116650092565, 0.6730116650092565, 0.6730116650092565, 0.6730116650092565, 0.6730116650092565, 0.6730116650092565, 0.6730116650092565, 0.6730116650092565, 0.6730116650092565, 0.6730116650092565, 0.6730116650092565, 0.6730116650092565, 0.6730116650092565, 0.6730116650092565, 0.6730116650092565, 0.6730116650092565, 0.6730116650092565, 0.6730116650092565, 0.6730116650092565, 0.6730116650092565, 0.6730116650092565]\n",
      "Round 9\n",
      "174\n"
     ]
    },
    {
     "name": "stderr",
     "output_type": "stream",
     "text": [
      "testing: 100%|██████████| 3/3 [00:00<00:00, 86.13it/s]"
     ]
    },
    {
     "name": "stdout",
     "output_type": "stream",
     "text": [
      "[0 1]\n",
      "Added 174 Shape of Label_ind: (21311,)\n"
     ]
    },
    {
     "name": "stderr",
     "output_type": "stream",
     "text": [
      "\n",
      "X does not have valid feature names, but StandardScaler was fitted with feature names\n"
     ]
    },
    {
     "name": "stdout",
     "output_type": "stream",
     "text": [
      "[0.6730116650092565, 0.6730116650092565, 0.6730116650092565, 0.6730116650092565, 0.6730116650092565, 0.6730116650092565, 0.6730116650092565, 0.6730116650092565, 0.6730116650092565, 0.6730116650092565, 0.6730116650092565, 0.6730116650092565, 0.6730116650092565, 0.6730116650092565, 0.6730116650092565, 0.6730116650092565, 0.6730116650092565, 0.6730116650092565, 0.6730116650092565, 0.6730116650092565, 0.6730116650092565, 0.6730116650092565, 0.6730116650092565, 0.6730116650092565, 0.6730116650092565, 0.6730116650092565, 0.6730116650092565, 0.6730116650092565, 0.6730116650092565, 0.6730116650092565, 0.6730116650092565, 0.6730116650092565, 0.6730116650092565, 0.6730116650092565, 0.6730116650092565, 0.6730116650092565, 0.6730116650092565, 0.6730116650092565, 0.6730116650092565, 0.6730116650092565, 0.6730116650092565, 0.6730116650092565, 0.6730116650092565, 0.6730116650092565, 0.6730116650092565, 0.6730116650092565, 0.6730116650092565, 0.6730116650092565, 0.6730116650092565, 0.6730116650092565, 0.6730116650092565, 0.6730116650092565, 0.6730116650092565, 0.6730116650092565, 0.6730116650092565, 0.6730116650092565, 0.6730116650092565, 0.6730116650092565, 0.6730116650092565, 0.6730116650092565, 0.6730116650092565, 0.6730116650092565, 0.6730116650092565, 0.6730116650092565, 0.6730116650092565, 0.6730116650092565, 0.6730116650092565, 0.6730116650092565, 0.6730116650092565, 0.6730116650092565, 0.6730116650092565, 0.6730116650092565, 0.6730116650092565, 0.6730116650092565, 0.6730116650092565, 0.6730116650092565, 0.6730116650092565, 0.6730116650092565, 0.6730116650092565, 0.6730116650092565, 0.6730116650092565, 0.6730116650092565, 0.6730116650092565, 0.6730116650092565, 0.6730116650092565, 0.6730116650092565, 0.6730116650092565, 0.6730116650092565, 0.6730116650092565, 0.6730116650092565, 0.6730116650092565, 0.6730116650092565, 0.6730116650092565, 0.6730116650092565, 0.6730116650092565, 0.6730116650092565, 0.6730116650092565, 0.6730116650092565, 0.6730116650092565, 0.6730116650092565]\n",
      "./Dataset/SimulatedCVE/cicflowmeter_cve/training_data/lm/lm_train_data_2.csv\n",
      "Added ./Dataset/SimulatedCVE/cicflowmeter_cve/training_data/lm/lm_train_data_2.csv as New LM Training Data\n"
     ]
    }
   ],
   "source": [
    "informative_score_list = lm.retrain_model(X_train, threshold = 0.05)"
   ]
  },
  {
   "cell_type": "code",
   "execution_count": 159,
   "metadata": {},
   "outputs": [
    {
     "name": "stdout",
     "output_type": "stream",
     "text": [
      "[0. 1.]\n",
      "0.9855560087003806\n"
     ]
    }
   ],
   "source": [
    "lm_out = lm.perform_inference(X_test)\n",
    "print(accuracy_score(lm_out, y_test))"
   ]
  },
  {
   "cell_type": "code",
   "execution_count": 160,
   "metadata": {},
   "outputs": [
    {
     "data": {
      "image/png": "[encoded data removed]",
      "text/plain": [
       "<Figure size 1400x1400 with 10 Axes>"
      ]
     },
     "metadata": {},
     "output_type": "display_data"
    }
   ],
   "source": [
    "def plot_supporting_scores(informative_score_list, n_times=10, sort=True):\n",
    "\n",
    "    \n",
    "    fig, axes = plt.subplots(n_times//2, 2, figsize=(14, 14))  # Create 5x2 subplots\n",
    "    axes = axes.ravel()  # Flatten the axes array for easy iteration\n",
    "\n",
    "    for i in range(n_times):\n",
    "      informative_arr = np.array(informative_score_list[i][:])\n",
    "      if sort:\n",
    "        informative_arr = -np.sort(-informative_arr)      \n",
    "        axes[i].plot(np.arange(len(informative_arr)), informative_arr)\n",
    "        axes[i].set_title(f\"Informative Score Distribution of new attack scenario {i + 1}\")\n",
    "\n",
    "    plt.tight_layout()\n",
    "    plt.show()\n",
    "    \n",
    "plot_supporting_scores(informative_score_list,10)"
   ]
  },
  {
   "cell_type": "markdown",
   "metadata": {},
   "source": [
    "### New Data"
   ]
  },
  {
   "cell_type": "markdown",
   "metadata": {},
   "source": [
    "Accuracy against new attack before training\n"
   ]
  },
  {
   "cell_type": "code",
   "execution_count": 161,
   "metadata": {},
   "outputs": [
    {
     "name": "stdout",
     "output_type": "stream",
     "text": [
      "['./Dataset/SimulatedCVE/cicflowmeter_cve/BENIGN/final_merged_1.csv', './Dataset/SimulatedCVE/cicflowmeter_cve/BENIGN/final_merged_2.csv', './Dataset/SimulatedCVE/cicflowmeter_cve/BENIGN/final_merged.csv']\n",
      "BENIGN\n",
      "['./Dataset/SimulatedCVE/cicflowmeter_cve/goldeneye/merged_20240816133105_ISCX.csv']\n",
      "goldeneye\n",
      "dataset shape (237140, 64)\n",
      "825 rows dropped\n",
      "shape after removing nan: (236315, 64)\n",
      "shape after dropping duplicates: (161314, 64)\n"
     ]
    },
    {
     "data": {
      "text/plain": [
       "Counter({0: 112101, 1: 16950})"
      ]
     },
     "execution_count": 161,
     "metadata": {},
     "output_type": "execute_result"
    }
   ],
   "source": [
    "X_train, X_test, y_train, y_test = load_data(train_folder=[\"BENIGN/\", \"goldeneye/\"])\n",
    "counter = Counter(y_train)\n",
    "counter"
   ]
  },
  {
   "cell_type": "code",
   "execution_count": 86,
   "metadata": {},
   "outputs": [
    {
     "name": "stdout",
     "output_type": "stream",
     "text": [
      "[0. 1.]\n",
      "Accuracy of LM 0.9065183026996869\n"
     ]
    },
    {
     "name": "stderr",
     "output_type": "stream",
     "text": [
      "testing: 100%|██████████| 505/505 [00:06<00:00, 81.59it/s]"
     ]
    },
    {
     "name": "stdout",
     "output_type": "stream",
     "text": [
      "[0 1]\n",
      "Accuracy of GM 0.9038217152775625\n"
     ]
    },
    {
     "name": "stderr",
     "output_type": "stream",
     "text": [
      "\n"
     ]
    }
   ],
   "source": [
    "lm_out = lm.perform_inference(X_test)\n",
    "print(\"Accuracy of LM\", accuracy_score(lm_out,y_test))\n",
    "gm_out = gm.perform_inference(X_test)\n",
    "print(\"Accuracy of GM\", accuracy_score(gm_out,y_test))"
   ]
  },
  {
   "cell_type": "markdown",
   "metadata": {},
   "source": [
    "Train LM then GM (if LM doesn't improve train GM)"
   ]
  },
  {
   "cell_type": "code",
   "execution_count": 171,
   "metadata": {},
   "outputs": [
    {
     "name": "stdout",
     "output_type": "stream",
     "text": [
      "['./Dataset/SimulatedCVE/cicflowmeter_cve/dripper/merged_20240809091803_ISCX.csv', './Dataset/SimulatedCVE/cicflowmeter_cve/dripper/merged_20240809091912_ISCX.csv', './Dataset/SimulatedCVE/cicflowmeter_cve/dripper/merged_20240809091837_ISCX.csv', './Dataset/SimulatedCVE/cicflowmeter_cve/dripper/merged_20240809091950_ISCX.csv', './Dataset/SimulatedCVE/cicflowmeter_cve/dripper/merged_20240809092024_ISCX.csv']\n",
      "dripper\n",
      "['./Dataset/SimulatedCVE/cicflowmeter_cve/BENIGN/final_merged_1.csv', './Dataset/SimulatedCVE/cicflowmeter_cve/BENIGN/final_merged_2.csv', './Dataset/SimulatedCVE/cicflowmeter_cve/BENIGN/final_merged.csv']\n",
      "BENIGN\n",
      "['./Dataset/SimulatedCVE/cicflowmeter_cve/bonesi/gm_train_data_0.csv', './Dataset/SimulatedCVE/cicflowmeter_cve/bonesi/merged_20240813111613_ISCX.csv']\n",
      "bonesi\n",
      "['./Dataset/SimulatedCVE/cicflowmeter_cve/training_data/gm/gm_train_data_0.csv']\n",
      "training_data/gm\n",
      "dataset shape (404749, 64)\n",
      "4835 rows dropped\n",
      "shape after removing nan: (399914, 64)\n",
      "shape after dropping duplicates: (285043, 64)\n",
      "Start Training...\n",
      "ensemble size: 1\n",
      "DualInputNet(\n",
      "  (enc_net): MLPnet(\n",
      "    (network): Sequential(\n",
      "      (0): LinearBlock(\n",
      "        (linear): Linear(in_features=61, out_features=100, bias=False)\n",
      "        (act_layer): LeakyReLU(negative_slope=0.01)\n",
      "      )\n",
      "      (1): LinearBlock(\n",
      "        (linear): Linear(in_features=100, out_features=50, bias=False)\n",
      "        (act_layer): LeakyReLU(negative_slope=0.01)\n",
      "      )\n",
      "      (2): LinearBlock(\n",
      "        (linear): Linear(in_features=50, out_features=128, bias=False)\n",
      "        (act_layer): Identity()\n",
      "      )\n",
      "    )\n",
      "  )\n",
      "  (out_layer): LinearBlock(\n",
      "    (linear): Linear(in_features=256, out_features=1, bias=False)\n",
      "    (act_layer): Identity()\n",
      "  )\n",
      ")\n",
      "epoch  1, training loss: 1.150791, time: 0.7s\n",
      "Start Inference on the training data...\n"
     ]
    },
    {
     "name": "stderr",
     "output_type": "stream",
     "text": [
      "testing: 100%|██████████| 157/157 [00:01<00:00, 84.95it/s]\n",
      "testing: 100%|██████████| 891/891 [00:07<00:00, 122.42it/s]\n"
     ]
    },
    {
     "ename": "ValueError",
     "evalue": "unknown format is not supported",
     "output_type": "error",
     "traceback": [
      "\u001b[0;31m---------------------------------------------------------------------------\u001b[0m",
      "\u001b[0;31mValueError\u001b[0m                                Traceback (most recent call last)",
      "Cell \u001b[0;32mIn[171], line 1\u001b[0m\n\u001b[0;32m----> 1\u001b[0m gm \u001b[39m=\u001b[39m Global_Model([\u001b[39m'\u001b[39;49m\u001b[39mdripper/\u001b[39;49m\u001b[39m'\u001b[39;49m, \u001b[39m'\u001b[39;49m\u001b[39mBENIGN/\u001b[39;49m\u001b[39m'\u001b[39;49m, \u001b[39m'\u001b[39;49m\u001b[39mbonesi/\u001b[39;49m\u001b[39m'\u001b[39;49m, \u001b[39m'\u001b[39;49m\u001b[39mtraining_data/gm/\u001b[39;49m\u001b[39m'\u001b[39;49m]) \u001b[39m#Reload the model\u001b[39;00m\n\u001b[1;32m      2\u001b[0m lm\u001b[39m.\u001b[39mretrain_model(X_train,threshold \u001b[39m=\u001b[39m \u001b[39m0.05\u001b[39m, update_gm \u001b[39m=\u001b[39m \u001b[39mTrue\u001b[39;00m) \u001b[39m# !Don't forget to change the update_gm flag\u001b[39;00m\n",
      "Cell \u001b[0;32mIn[170], line 186\u001b[0m, in \u001b[0;36mGlobal_Model.__init__\u001b[0;34m(self, train_folder)\u001b[0m\n\u001b[1;32m    183\u001b[0m \u001b[39mself\u001b[39m\u001b[39m.\u001b[39mscaler \u001b[39m=\u001b[39m joblib\u001b[39m.\u001b[39mload(\u001b[39m'\u001b[39m\u001b[39mcic_scaler.joblib\u001b[39m\u001b[39m'\u001b[39m)\n\u001b[1;32m    184\u001b[0m \u001b[39mself\u001b[39m\u001b[39m.\u001b[39mtrain_folder \u001b[39m=\u001b[39m train_folder\n\u001b[0;32m--> 186\u001b[0m \u001b[39mself\u001b[39m\u001b[39m.\u001b[39mmodel, \u001b[39mself\u001b[39m\u001b[39m.\u001b[39mopt_threshold \u001b[39m=\u001b[39m \u001b[39mself\u001b[39;49m\u001b[39m.\u001b[39;49mload_model()\n",
      "Cell \u001b[0;32mIn[170], line 211\u001b[0m, in \u001b[0;36mGlobal_Model.load_model\u001b[0;34m(self)\u001b[0m\n\u001b[1;32m    208\u001b[0m X_train, X_test, y_train, y_test \u001b[39m=\u001b[39m \u001b[39mself\u001b[39m\u001b[39m.\u001b[39mload_data(\u001b[39mself\u001b[39m\u001b[39m.\u001b[39mscaler)\n\u001b[1;32m    209\u001b[0m clf\u001b[39m.\u001b[39mfit(X_train\u001b[39m.\u001b[39mto_numpy()[:\u001b[39m10000\u001b[39m], y_train[:\u001b[39m10000\u001b[39m])\n\u001b[0;32m--> 211\u001b[0m opt_threshold \u001b[39m=\u001b[39m eval_accuracy(clf, X_test, y_test)\n\u001b[1;32m    212\u001b[0m \u001b[39mreturn\u001b[39;00m clf, opt_threshold\n",
      "Cell \u001b[0;32mIn[170], line 147\u001b[0m, in \u001b[0;36meval_accuracy\u001b[0;34m(clf, X_test, y_test)\u001b[0m\n\u001b[1;32m    145\u001b[0m anomaly_scores \u001b[39m=\u001b[39m clf\u001b[39m.\u001b[39mdecision_function(X_test\u001b[39m.\u001b[39mto_numpy())\n\u001b[1;32m    146\u001b[0m \u001b[39m# fpr, tpr, _ = roc_curve(y_test, anomaly_scores)\u001b[39;00m\n\u001b[0;32m--> 147\u001b[0m precision, recall, thresholds \u001b[39m=\u001b[39m precision_recall_curve(y_test, anomaly_scores)\n\u001b[1;32m    148\u001b[0m opt_threshold \u001b[39m=\u001b[39m get_optimal_threshold(precision, recall, thresholds)\n\u001b[1;32m    149\u001b[0m pred \u001b[39m=\u001b[39m np\u001b[39m.\u001b[39mwhere(anomaly_scores \u001b[39m>\u001b[39m opt_threshold, \u001b[39m1\u001b[39m,\u001b[39m0\u001b[39m)\n",
      "File \u001b[0;32m~/git_repos/NA_Model_Evaluation/myenv/lib/python3.8/site-packages/sklearn/utils/_param_validation.py:214\u001b[0m, in \u001b[0;36mvalidate_params.<locals>.decorator.<locals>.wrapper\u001b[0;34m(*args, **kwargs)\u001b[0m\n\u001b[1;32m    208\u001b[0m \u001b[39mtry\u001b[39;00m:\n\u001b[1;32m    209\u001b[0m     \u001b[39mwith\u001b[39;00m config_context(\n\u001b[1;32m    210\u001b[0m         skip_parameter_validation\u001b[39m=\u001b[39m(\n\u001b[1;32m    211\u001b[0m             prefer_skip_nested_validation \u001b[39mor\u001b[39;00m global_skip_validation\n\u001b[1;32m    212\u001b[0m         )\n\u001b[1;32m    213\u001b[0m     ):\n\u001b[0;32m--> 214\u001b[0m         \u001b[39mreturn\u001b[39;00m func(\u001b[39m*\u001b[39;49margs, \u001b[39m*\u001b[39;49m\u001b[39m*\u001b[39;49mkwargs)\n\u001b[1;32m    215\u001b[0m \u001b[39mexcept\u001b[39;00m InvalidParameterError \u001b[39mas\u001b[39;00m e:\n\u001b[1;32m    216\u001b[0m     \u001b[39m# When the function is just a wrapper around an estimator, we allow\u001b[39;00m\n\u001b[1;32m    217\u001b[0m     \u001b[39m# the function to delegate validation to the estimator, but we replace\u001b[39;00m\n\u001b[1;32m    218\u001b[0m     \u001b[39m# the name of the estimator by the name of the function in the error\u001b[39;00m\n\u001b[1;32m    219\u001b[0m     \u001b[39m# message to avoid confusion.\u001b[39;00m\n\u001b[1;32m    220\u001b[0m     msg \u001b[39m=\u001b[39m re\u001b[39m.\u001b[39msub(\n\u001b[1;32m    221\u001b[0m         \u001b[39mr\u001b[39m\u001b[39m\"\u001b[39m\u001b[39mparameter of \u001b[39m\u001b[39m\\\u001b[39m\u001b[39mw+ must be\u001b[39m\u001b[39m\"\u001b[39m,\n\u001b[1;32m    222\u001b[0m         \u001b[39mf\u001b[39m\u001b[39m\"\u001b[39m\u001b[39mparameter of \u001b[39m\u001b[39m{\u001b[39;00mfunc\u001b[39m.\u001b[39m\u001b[39m__qualname__\u001b[39m\u001b[39m}\u001b[39;00m\u001b[39m must be\u001b[39m\u001b[39m\"\u001b[39m,\n\u001b[1;32m    223\u001b[0m         \u001b[39mstr\u001b[39m(e),\n\u001b[1;32m    224\u001b[0m     )\n",
      "File \u001b[0;32m~/git_repos/NA_Model_Evaluation/myenv/lib/python3.8/site-packages/sklearn/metrics/_ranking.py:952\u001b[0m, in \u001b[0;36mprecision_recall_curve\u001b[0;34m(y_true, probas_pred, pos_label, sample_weight, drop_intermediate)\u001b[0m\n\u001b[1;32m    852\u001b[0m \u001b[39m@validate_params\u001b[39m(\n\u001b[1;32m    853\u001b[0m     {\n\u001b[1;32m    854\u001b[0m         \u001b[39m\"\u001b[39m\u001b[39my_true\u001b[39m\u001b[39m\"\u001b[39m: [\u001b[39m\"\u001b[39m\u001b[39marray-like\u001b[39m\u001b[39m\"\u001b[39m],\n\u001b[0;32m   (...)\u001b[0m\n\u001b[1;32m    863\u001b[0m     y_true, probas_pred, \u001b[39m*\u001b[39m, pos_label\u001b[39m=\u001b[39m\u001b[39mNone\u001b[39;00m, sample_weight\u001b[39m=\u001b[39m\u001b[39mNone\u001b[39;00m, drop_intermediate\u001b[39m=\u001b[39m\u001b[39mFalse\u001b[39;00m\n\u001b[1;32m    864\u001b[0m ):\n\u001b[1;32m    865\u001b[0m \u001b[39m    \u001b[39m\u001b[39m\"\"\"Compute precision-recall pairs for different probability thresholds.\u001b[39;00m\n\u001b[1;32m    866\u001b[0m \n\u001b[1;32m    867\u001b[0m \u001b[39m    Note: this implementation is restricted to the binary classification task.\u001b[39;00m\n\u001b[0;32m   (...)\u001b[0m\n\u001b[1;32m    950\u001b[0m \u001b[39m    array([0.1 , 0.35, 0.4 , 0.8 ])\u001b[39;00m\n\u001b[1;32m    951\u001b[0m \u001b[39m    \"\"\"\u001b[39;00m\n\u001b[0;32m--> 952\u001b[0m     fps, tps, thresholds \u001b[39m=\u001b[39m _binary_clf_curve(\n\u001b[1;32m    953\u001b[0m         y_true, probas_pred, pos_label\u001b[39m=\u001b[39;49mpos_label, sample_weight\u001b[39m=\u001b[39;49msample_weight\n\u001b[1;32m    954\u001b[0m     )\n\u001b[1;32m    956\u001b[0m     \u001b[39mif\u001b[39;00m drop_intermediate \u001b[39mand\u001b[39;00m \u001b[39mlen\u001b[39m(fps) \u001b[39m>\u001b[39m \u001b[39m2\u001b[39m:\n\u001b[1;32m    957\u001b[0m         \u001b[39m# Drop thresholds corresponding to points where true positives (tps)\u001b[39;00m\n\u001b[1;32m    958\u001b[0m         \u001b[39m# do not change from the previous or subsequent point. This will keep\u001b[39;00m\n\u001b[1;32m    959\u001b[0m         \u001b[39m# only the first and last point for each tps value. All points\u001b[39;00m\n\u001b[1;32m    960\u001b[0m         \u001b[39m# with the same tps value have the same recall and thus x coordinate.\u001b[39;00m\n\u001b[1;32m    961\u001b[0m         \u001b[39m# They appear as a vertical line on the plot.\u001b[39;00m\n\u001b[1;32m    962\u001b[0m         optimal_idxs \u001b[39m=\u001b[39m np\u001b[39m.\u001b[39mwhere(\n\u001b[1;32m    963\u001b[0m             np\u001b[39m.\u001b[39mconcatenate(\n\u001b[1;32m    964\u001b[0m                 [[\u001b[39mTrue\u001b[39;00m], np\u001b[39m.\u001b[39mlogical_or(np\u001b[39m.\u001b[39mdiff(tps[:\u001b[39m-\u001b[39m\u001b[39m1\u001b[39m]), np\u001b[39m.\u001b[39mdiff(tps[\u001b[39m1\u001b[39m:])), [\u001b[39mTrue\u001b[39;00m]]\n\u001b[1;32m    965\u001b[0m             )\n\u001b[1;32m    966\u001b[0m         )[\u001b[39m0\u001b[39m]\n",
      "File \u001b[0;32m~/git_repos/NA_Model_Evaluation/myenv/lib/python3.8/site-packages/sklearn/metrics/_ranking.py:804\u001b[0m, in \u001b[0;36m_binary_clf_curve\u001b[0;34m(y_true, y_score, pos_label, sample_weight)\u001b[0m\n\u001b[1;32m    802\u001b[0m y_type \u001b[39m=\u001b[39m type_of_target(y_true, input_name\u001b[39m=\u001b[39m\u001b[39m\"\u001b[39m\u001b[39my_true\u001b[39m\u001b[39m\"\u001b[39m)\n\u001b[1;32m    803\u001b[0m \u001b[39mif\u001b[39;00m \u001b[39mnot\u001b[39;00m (y_type \u001b[39m==\u001b[39m \u001b[39m\"\u001b[39m\u001b[39mbinary\u001b[39m\u001b[39m\"\u001b[39m \u001b[39mor\u001b[39;00m (y_type \u001b[39m==\u001b[39m \u001b[39m\"\u001b[39m\u001b[39mmulticlass\u001b[39m\u001b[39m\"\u001b[39m \u001b[39mand\u001b[39;00m pos_label \u001b[39mis\u001b[39;00m \u001b[39mnot\u001b[39;00m \u001b[39mNone\u001b[39;00m)):\n\u001b[0;32m--> 804\u001b[0m     \u001b[39mraise\u001b[39;00m \u001b[39mValueError\u001b[39;00m(\u001b[39m\"\u001b[39m\u001b[39m{0}\u001b[39;00m\u001b[39m format is not supported\u001b[39m\u001b[39m\"\u001b[39m\u001b[39m.\u001b[39mformat(y_type))\n\u001b[1;32m    806\u001b[0m check_consistent_length(y_true, y_score, sample_weight)\n\u001b[1;32m    807\u001b[0m y_true \u001b[39m=\u001b[39m column_or_1d(y_true)\n",
      "\u001b[0;31mValueError\u001b[0m: unknown format is not supported"
     ]
    }
   ],
   "source": [
    "gm = Global_Model(['dripper/', 'BENIGN/', 'bonesi/', 'training_data/gm/']) #Reload the model\n",
    "lm.retrain_model(X_train,threshold = 0.05, update_gm = True) # !Don't forget to change the update_gm flag\n"
   ]
  },
  {
   "cell_type": "code",
   "execution_count": 165,
   "metadata": {},
   "outputs": [
    {
     "name": "stdout",
     "output_type": "stream",
     "text": [
      "[0. 1.]\n",
      "Accuracy of LM 0.9032018101230511 F1_Score 0.4778465139608762\n"
     ]
    },
    {
     "name": "stderr",
     "output_type": "stream",
     "text": [
      "testing: 100%|██████████| 505/505 [00:05<00:00, 84.31it/s]"
     ]
    },
    {
     "name": "stdout",
     "output_type": "stream",
     "text": [
      "[0 1]\n",
      "Accuracy of GM 0.9039766915661904 F1_Score 0.4778465139608762\n"
     ]
    },
    {
     "name": "stderr",
     "output_type": "stream",
     "text": [
      "\n"
     ]
    }
   ],
   "source": [
    "lm_out = lm.perform_inference(X_test)\n",
    "print(\"Accuracy of LM\", accuracy_score(lm_out,y_test), \"F1_Score\", f1_score(lm_out, y_test))\n",
    "gm_out = gm.perform_inference(X_test)\n",
    "print(\"Accuracy of GM\", accuracy_score(gm_out,y_test), \"F1_Score\", f1_score(lm_out, y_test))"
   ]
  },
  {
   "cell_type": "markdown",
   "metadata": {},
   "source": [
    "Highest Possible Accuracy"
   ]
  },
  {
   "cell_type": "code",
   "execution_count": null,
   "metadata": {},
   "outputs": [
    {
     "name": "stdout",
     "output_type": "stream",
     "text": [
      "['./Dataset/SimulatedCVE/cicflowmeter_cve/dripper/merged_20240809091803_ISCX.csv', './Dataset/SimulatedCVE/cicflowmeter_cve/dripper/merged_20240809091912_ISCX.csv', './Dataset/SimulatedCVE/cicflowmeter_cve/dripper/merged_20240809091837_ISCX.csv', './Dataset/SimulatedCVE/cicflowmeter_cve/dripper/merged_20240809091950_ISCX.csv', './Dataset/SimulatedCVE/cicflowmeter_cve/dripper/merged_20240809092024_ISCX.csv']\n",
      "dripper\n",
      "['./Dataset/SimulatedCVE/cicflowmeter_cve/BENIGN/final_merged_1.csv', './Dataset/SimulatedCVE/cicflowmeter_cve/BENIGN/final_merged_2.csv', './Dataset/SimulatedCVE/cicflowmeter_cve/BENIGN/final_merged.csv']\n",
      "BENIGN\n",
      "['./Dataset/SimulatedCVE/cicflowmeter_cve/bonesi/merged_20240813111613_ISCX.csv']\n",
      "bonesi\n",
      "['./Dataset/SimulatedCVE/cicflowmeter_cve/goldeneye/merged_20240816133105_ISCX.csv']\n",
      "goldeney\n",
      "dataset shape (422046, 64)\n",
      "838 rows dropped\n",
      "shape after removing nan: (421208, 64)\n",
      "shape after dropping duplicates: (306243, 64)\n",
      "Start Training...\n",
      "ensemble size: 1\n",
      "DualInputNet(\n",
      "  (enc_net): MLPnet(\n",
      "    (network): Sequential(\n",
      "      (0): LinearBlock(\n",
      "        (linear): Linear(in_features=61, out_features=100, bias=False)\n",
      "        (act_layer): LeakyReLU(negative_slope=0.01)\n",
      "      )\n",
      "      (1): LinearBlock(\n",
      "        (linear): Linear(in_features=100, out_features=50, bias=False)\n",
      "        (act_layer): LeakyReLU(negative_slope=0.01)\n",
      "      )\n",
      "      (2): LinearBlock(\n",
      "        (linear): Linear(in_features=50, out_features=128, bias=False)\n",
      "        (act_layer): Identity()\n",
      "      )\n",
      "    )\n",
      "  )\n",
      "  (out_layer): LinearBlock(\n",
      "    (linear): Linear(in_features=256, out_features=1, bias=False)\n",
      "    (act_layer): Identity()\n",
      "  )\n",
      ")\n",
      "epoch  1, training loss: 0.407204, time: 215.5s\n",
      "Start Inference on the training data...\n"
     ]
    },
    {
     "name": "stderr",
     "output_type": "stream",
     "text": [
      "testing: 100%|██████████| 3829/3829 [00:19<00:00, 198.58it/s]\n",
      "testing: 100%|██████████| 958/958 [00:09<00:00, 102.07it/s]\n"
     ]
    },
    {
     "name": "stdout",
     "output_type": "stream",
     "text": [
      "F1 Score: 0.9521\n",
      "[[27825   229]\n",
      " [ 2826 30369]]\n"
     ]
    }
   ],
   "source": [
    "gm = Global_Model(['dripper/', 'BENIGN/', 'bonesi/', 'goldeneye']) #Reload the model"
   ]
  },
  {
   "cell_type": "code",
   "execution_count": null,
   "metadata": {},
   "outputs": [
    {
     "name": "stderr",
     "output_type": "stream",
     "text": [
      "testing: 100%|██████████| 505/505 [00:06<00:00, 72.53it/s]"
     ]
    },
    {
     "name": "stdout",
     "output_type": "stream",
     "text": [
      "[0 1]\n",
      "Accuracy of GM 0.9714223723770263\n"
     ]
    },
    {
     "name": "stderr",
     "output_type": "stream",
     "text": [
      "\n"
     ]
    }
   ],
   "source": [
    "gm_out = gm.perform_inference(X_test)\n",
    "print(\"Accuracy of GM\", accuracy_score(gm_out,y_test) \"F1_Score\", f1_score(lm_out, y_test))"
   ]
  },
  {
   "cell_type": "markdown",
   "metadata": {},
   "source": [
    "# GM New Atk (Unlabeled)"
   ]
  },
  {
   "cell_type": "code",
   "execution_count": null,
   "metadata": {},
   "outputs": [
    {
     "name": "stdout",
     "output_type": "stream",
     "text": [
      "['./Dataset/SimulatedCVE/cicflowmeter_cve/dripper/merged_20240809091803_ISCX.csv', './Dataset/SimulatedCVE/cicflowmeter_cve/dripper/merged_20240809091912_ISCX.csv', './Dataset/SimulatedCVE/cicflowmeter_cve/dripper/merged_20240809091837_ISCX.csv', './Dataset/SimulatedCVE/cicflowmeter_cve/dripper/merged_20240809091950_ISCX.csv', './Dataset/SimulatedCVE/cicflowmeter_cve/dripper/merged_20240809092024_ISCX.csv']\n",
      "dripper\n",
      "['./Dataset/SimulatedCVE/cicflowmeter_cve/BENIGN/final_merged_1.csv', './Dataset/SimulatedCVE/cicflowmeter_cve/BENIGN/final_merged_2.csv', './Dataset/SimulatedCVE/cicflowmeter_cve/BENIGN/final_merged.csv']\n",
      "BENIGN\n",
      "['./Dataset/SimulatedCVE/cicflowmeter_cve/bonesi/merged_20240813111613_ISCX.csv']\n",
      "bonesi\n",
      "['./Dataset/SimulatedCVE/cicflowmeter_cve/goldeneye/merged_20240816133105_ISCX.csv']\n",
      "goldeney\n",
      "dataset shape (422046, 64)\n",
      "838 rows dropped\n",
      "shape after removing nan: (421208, 64)\n",
      "shape after dropping duplicates: (306243, 64)\n",
      "Start Training...\n",
      "ensemble size: 1\n",
      "DualInputNet(\n",
      "  (enc_net): MLPnet(\n",
      "    (network): Sequential(\n",
      "      (0): LinearBlock(\n",
      "        (linear): Linear(in_features=61, out_features=100, bias=False)\n",
      "        (act_layer): LeakyReLU(negative_slope=0.01)\n",
      "      )\n",
      "      (1): LinearBlock(\n",
      "        (linear): Linear(in_features=100, out_features=50, bias=False)\n",
      "        (act_layer): LeakyReLU(negative_slope=0.01)\n",
      "      )\n",
      "      (2): LinearBlock(\n",
      "        (linear): Linear(in_features=50, out_features=128, bias=False)\n",
      "        (act_layer): Identity()\n",
      "      )\n",
      "    )\n",
      "  )\n",
      "  (out_layer): LinearBlock(\n",
      "    (linear): Linear(in_features=256, out_features=1, bias=False)\n",
      "    (act_layer): Identity()\n",
      "  )\n",
      ")\n",
      "epoch  1, training loss: 0.407204, time: 212.7s\n",
      "Start Inference on the training data...\n"
     ]
    },
    {
     "name": "stderr",
     "output_type": "stream",
     "text": [
      "testing: 100%|██████████| 3829/3829 [00:18<00:00, 211.53it/s]\n",
      "testing: 100%|██████████| 958/958 [00:08<00:00, 107.97it/s]\n"
     ]
    },
    {
     "name": "stdout",
     "output_type": "stream",
     "text": [
      "F1 Score: 0.9521\n",
      "[[27825   229]\n",
      " [ 2826 30369]]\n"
     ]
    },
    {
     "name": "stderr",
     "output_type": "stream",
     "text": [
      "testing: 100%|██████████| 505/505 [00:07<00:00, 71.61it/s]\n"
     ]
    },
    {
     "name": "stdout",
     "output_type": "stream",
     "text": [
      "[0 1]\n",
      "Accuracy of GM 0.9714843628924774\n"
     ]
    }
   ],
   "source": [
    "gm = Global_Model(['dripper/', 'BENIGN/', 'bonesi/', 'goldeneye']) #Reload the model\n",
    "gm_out = gm.perform_inference(X_test)\n",
    "print(\"Accuracy of GM\", accuracy_score(gm_out,y_test),  \"F1_Score\", f1_score(lm_out, y_test))"
   ]
  },
  {
   "cell_type": "code",
   "execution_count": null,
   "metadata": {},
   "outputs": [],
   "source": [
    "ge_df = pd.read_csv(\"Dataset/SimulatedCVE/cicflowmeter_cve/goldeneye/merged_20240816133105_ISCX.csv\")\n",
    "ge_unlabeled_df = ge_df.copy()\n",
    "ge_unlabeled_df[\"Label\"] = 0\n",
    "ge_unlabeled_df.to_csv(\"ge_unlabeled.csv\")\n",
    "\n"
   ]
  },
  {
   "cell_type": "code",
   "execution_count": null,
   "metadata": {},
   "outputs": [
    {
     "ename": "TypeError",
     "evalue": "retrain_model() got an unexpected keyword argument 'update_gm'",
     "output_type": "error",
     "traceback": [
      "\u001b[0;31m---------------------------------------------------------------------------\u001b[0m",
      "\u001b[0;31mTypeError\u001b[0m                                 Traceback (most recent call last)",
      "Cell \u001b[0;32mIn[620], line 1\u001b[0m\n\u001b[0;32m----> 1\u001b[0m informative_score_list \u001b[39m=\u001b[39m model\u001b[39m.\u001b[39;49mretrain_model(X_train, threshold \u001b[39m=\u001b[39;49m \u001b[39m0.05\u001b[39;49m, update_gm \u001b[39m=\u001b[39;49m \u001b[39mTrue\u001b[39;49;00m)\n\u001b[1;32m      2\u001b[0m plot_supporting_scores(informative_score_list,\u001b[39m10\u001b[39m)\n",
      "\u001b[0;31mTypeError\u001b[0m: retrain_model() got an unexpected keyword argument 'update_gm'"
     ]
    }
   ],
   "source": [
    "\n",
    "informative_score_list = model.retrain_model(X_train, threshold = 0.05, update_gm = True)\n",
    "plot_supporting_scores(informative_score_list,10)\n"
   ]
  },
  {
   "cell_type": "code",
   "execution_count": null,
   "metadata": {},
   "outputs": [
    {
     "name": "stdout",
     "output_type": "stream",
     "text": [
      "[0 1]\n",
      "Accuracy of LM 0.9004742274432012\n"
     ]
    }
   ],
   "source": [
    "lm_out = lm.perform_inference(X_test)\n",
    "print(\"Accuracy of LM\", accuracy_score(lm_out,y_test))"
   ]
  },
  {
   "cell_type": "code",
   "execution_count": null,
   "metadata": {},
   "outputs": [],
   "source": []
  }
 ],
 "metadata": {
  "kernelspec": {
   "display_name": "myenv",
   "language": "python",
   "name": "python3"
  },
  "language_info": {
   "codemirror_mode": {
    "name": "ipython",
    "version": 3
   },
   "file_extension": ".py",
   "mimetype": "text/x-python",
   "name": "python",
   "nbconvert_exporter": "python",
   "pygments_lexer": "ipython3",
   "version": "3.8.10"
  },
  "orig_nbformat": 4
 },
 "nbformat": 4,
 "nbformat_minor": 2
}
