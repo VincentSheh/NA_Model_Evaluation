{
 "cells": [
  {
   "cell_type": "code",
   "execution_count": 22,
   "metadata": {},
   "outputs": [
    {
     "name": "stderr",
     "output_type": "stream",
     "text": [
      "UsageError: Line magic function `%` not found.\n"
     ]
    }
   ],
   "source": [
    "%load_ext autoreload\n",
    "% autoreload 2\n",
    "import model_lib\n"
   ]
  },
  {
   "cell_type": "code",
   "execution_count": 1,
   "metadata": {},
   "outputs": [
    {
     "name": "stderr",
     "output_type": "stream",
     "text": [
      "/home/vincent/git_repos/NA_Model_Evaluation/myenv/lib/python3.8/site-packages/tqdm/auto.py:21: TqdmWarning: IProgress not found. Please update jupyter and ipywidgets. See https://ipywidgets.readthedocs.io/en/stable/user_install.html\n",
      "  from .autonotebook import tqdm as notebook_tqdm\n"
     ]
    }
   ],
   "source": [
    "import os\n",
    "import json\n",
    "import numpy as np\n",
    "import pandas as pd\n",
    "from pprint import pprint\n",
    "from itertools import combinations, product\n",
    "\n",
    "#sklearn\n",
    "from sklearn.manifold import TSNE\n",
    "from sklearn.decomposition import PCA\n",
    "from sklearn.preprocessing import LabelEncoder\n",
    "from sklearn.model_selection import train_test_split\n",
    "from sklearn.preprocessing import StandardScaler, RobustScaler, QuantileTransformer, MinMaxScaler\n",
    "from sklearn.metrics import precision_recall_curve, auc, roc_curve, recall_score, precision_score, f1_score, confusion_matrix\n",
    "\n",
    "#graph\n",
    "import seaborn as sns\n",
    "import matplotlib.pyplot as plt\n",
    "\n",
    "from collections import Counter\n",
    "import shap\n",
    "\n"
   ]
  },
  {
   "cell_type": "code",
   "execution_count": 2,
   "metadata": {},
   "outputs": [
    {
     "name": "stderr",
     "output_type": "stream",
     "text": [
      "Your system has an old version of glibc (< 2.28). We will stop supporting Linux distros with glibc older than 2.28 after **May 31, 2025**. Please upgrade to a recent Linux distro (with glibc 2.28+) to use future versions of XGBoost.\n",
      "Note: You have installed the 'manylinux2014' variant of XGBoost. Certain features such as GPU algorithms or federated learning are not available. To use these features, please upgrade to a recent Linux distro with glibc 2.28+, and install the 'manylinux_2_28' variant.\n"
     ]
    }
   ],
   "source": [
    "\n",
    "# %config IPCompleter.greedy=True\n",
    "import pandas as pd\n",
    "import seaborn as sns\n",
    "import numpy as np\n",
    "import pickle\n",
    "from xgboost import XGBClassifier\n",
    "\n",
    "import matplotlib as matplot\n",
    "import matplotlib.pyplot as plt\n",
    "# %matplotlib inline\n",
    "import torch\n",
    "from torch import nn\n",
    "from torch.nn import functional as F\n",
    "from torch.utils.data import DataLoader, TensorDataset\n",
    "from sklearn.model_selection import train_test_split\n",
    "from IPython.core.interactiveshell import InteractiveShell\n",
    "InteractiveShell.ast_node_interactivity = \"all\"\n",
    "\n",
    "import warnings, os \n",
    "# warnings.filterwarnings(\"ignore\")\n",
    "\n",
    "# from keras import Sequential\n",
    "# from keras.models import Model, load_model\n",
    "# from keras.layers import *\n",
    "# from keras.callbacks import ModelCheckpoint\n",
    "# from keras import regularizers\n",
    "from matplotlib import pyplot as plt\n",
    "\n",
    "\n",
    "from sklearn.tree import DecisionTreeClassifier\n",
    "from sklearn.ensemble import RandomForestClassifier, ExtraTreesClassifier, VotingClassifier\n",
    "from sklearn.svm import SVC\n",
    "\n",
    "from sklearn.model_selection import train_test_split\n",
    "from sklearn.preprocessing import LabelEncoder\n",
    "\n",
    "from sklearn.svm import LinearSVC\n",
    "\n",
    "import xgboost\n",
    "# from mlxtend.classifier import EnsembleVoteClassifier \n",
    "import shap\n",
    "import sklearn.neighbors\n",
    "\n",
    "from deepod.models import PReNet\n",
    "from collections import Counter\n",
    "\n",
    "import copy\n",
    "\n",
    "from sklearn.datasets import make_classification\n",
    "from alipy import ToolBox\n",
    "\n",
    "import joblib\n"
   ]
  },
  {
   "cell_type": "code",
   "execution_count": 25,
   "metadata": {},
   "outputs": [],
   "source": [
    "features = ['Src IP', 'Dst IP','Flow Duration', 'Tot Fwd Pkts', 'Tot Bwd Pkts', 'TotLen Fwd Pkts',\n",
    "       'TotLen Bwd Pkts', 'Fwd Pkt Len Max', 'Fwd Pkt Len Min',\n",
    "       'Fwd Pkt Len Mean', 'Fwd Pkt Len Std', 'Bwd Pkt Len Max',\n",
    "       'Bwd Pkt Len Min', 'Bwd Pkt Len Mean', 'Bwd Pkt Len Std', 'Flow Byts/s',\n",
    "       'Flow Pkts/s', 'Flow IAT Mean', 'Flow IAT Std', 'Flow IAT Max',\n",
    "       'Flow IAT Min', 'Fwd IAT Tot', 'Fwd IAT Mean', 'Fwd IAT Std',\n",
    "       'Fwd IAT Max', 'Fwd IAT Min', 'Bwd IAT Tot', 'Bwd IAT Mean',\n",
    "       'Bwd IAT Std', 'Bwd IAT Max', 'Bwd IAT Min', 'Fwd PSH Flags',\n",
    "       'Fwd Header Len', 'Bwd Header Len', 'Fwd Pkts/s', 'Bwd Pkts/s',\n",
    "       'Pkt Len Min', 'Pkt Len Max', 'Pkt Len Mean', 'Pkt Len Std',\n",
    "       'Pkt Len Var', 'FIN Flag Cnt', 'PSH Flag Cnt', 'ACK Flag Cnt',\n",
    "       'URG Flag Cnt', 'Down/Up Ratio', 'Pkt Size Avg', 'Fwd Seg Size Avg',\n",
    "       'Bwd Seg Size Avg', 'Subflow Fwd Byts', 'Subflow Bwd Byts',\n",
    "       'Init Fwd Win Byts', 'Init Bwd Win Byts', 'Fwd Act Data Pkts',\n",
    "       'Fwd Seg Size Min', 'Active Mean', 'Active Std', 'Active Max',\n",
    "       'Active Min', 'Idle Mean', 'Idle Std', 'Idle Max', 'Idle Min']\n",
    "def clean_df(df):\n",
    "    # Remove the space before each feature names\n",
    "    \n",
    "    df.columns = df.columns.str.strip()\n",
    "    print('dataset shape', df.shape)\n",
    "    \n",
    "\n",
    "    # This set of feature should have >= 0 values\n",
    "    num = df._get_numeric_data()\n",
    "    num[num < 0] = 0\n",
    "\n",
    "    zero_variance_cols = []\n",
    "    for col in df.columns:\n",
    "        if len(df[col].unique()) == 1:\n",
    "            zero_variance_cols.append(col)\n",
    "    # df.drop(zero_variance_cols, axis = 1, inplace = True)\n",
    "    # print('zero variance columns', zero_variance_cols, 'dropped')\n",
    "    # print('shape after removing zero variance columns:', df.shape)\n",
    "\n",
    "    df.replace([np.inf, -np.inf], np.nan, inplace = True)\n",
    "    print(df.isna().any(axis = 1).sum(), 'rows dropped')\n",
    "    df.dropna(inplace = True)\n",
    "    print('shape after removing nan:', df.shape)\n",
    "\n",
    "    # Drop duplicate rows\n",
    "    df.drop_duplicates(inplace = True)\n",
    "    print('shape after dropping duplicates:', df.shape)\n",
    "\n",
    "    # column_pairs = [(i, j) for i, j in combinations(df, 2) if df[i].equals(df[j])]\n",
    "    # ide_cols = []\n",
    "    # for column_pair in column_pairs:\n",
    "    #     ide_cols.append(column_pair[1])\n",
    "    # df.drop(ide_cols, axis = 1, inplace = True)\n",
    "    # print('columns which have identical values', column_pairs, 'dropped')\n",
    "    # print('shape after removing identical value columns:', df.shape)\n",
    "    return df\n",
    "\n",
    "def sample_df(curr_df, anomaly_rate):\n",
    "    num_benign = len(curr_df.loc[curr_df['Label'] == \"BENIGN\"])\n",
    "    num_attack = len(curr_df) - num_benign\n",
    "    ratio = num_attack / num_benign\n",
    "    \n",
    "    if ratio > anomaly_rate:\n",
    "        sample = anomaly_rate * num_benign / num_attack\n",
    "        sampled_df = pd.concat([curr_df[curr_df['Label'] == 'BENIGN'], \n",
    "                                curr_df[curr_df['Label'] != 'BENIGN'].sample(frac=sample, random_state=42)]) \n",
    "    else:\n",
    "        \n",
    "        sample = (1/anomaly_rate) * num_attack / num_benign\n",
    "        sampled_df = pd.concat([curr_df[curr_df['Label'] != 'BENIGN'], \n",
    "                                curr_df[curr_df['Label'] == 'BENIGN'].sample(frac=sample, random_state=42)]) \n",
    "    \n",
    "    new_ratio = sampled_df.loc[sampled_df[\"Label\"] == \"BENIGN\"].shape[0] / sampled_df.loc[sampled_df[\"Label\"] != \"BENIGN\"].shape[0]\n",
    "    \n",
    "    return sampled_df\n",
    "\n"
   ]
  },
  {
   "cell_type": "code",
   "execution_count": 26,
   "metadata": {},
   "outputs": [
    {
     "name": "stdout",
     "output_type": "stream",
     "text": [
      "merged_20240809091803_ISCX.csv\n",
      "merged_20240809091912_ISCX.csv\n",
      "merged_20240809091837_ISCX.csv\n",
      "merged_20240809091950_ISCX.csv\n",
      "merged_20240809092024_ISCX.csv\n",
      "final_merged_1.csv\n",
      "final_merged_2.csv\n",
      "final_merged.csv\n",
      "gm_train_data_0.csv\n",
      "merged_20240813111613_ISCX.csv\n",
      "dataset shape (404749, 64)\n",
      "4835 rows dropped\n",
      "shape after removing nan: (399914, 64)\n",
      "shape after dropping duplicates: (285043, 64)\n"
     ]
    },
    {
     "data": {
      "text/plain": [
       "Label\n",
       "BENIGN     140114\n",
       "dripper    113205\n",
       "bonesi      31724\n",
       "Name: count, dtype: int64"
      ]
     },
     "execution_count": 26,
     "metadata": {},
     "output_type": "execute_result"
    }
   ],
   "source": [
    "dataset_csv_path = './Dataset/SimulatedCVE/cicflowmeter_cve/'\n",
    "folder_names = ['dripper/', 'BENIGN/', 'bonesi/']\n",
    "\n",
    "def read_csv():\n",
    "    full_df = pd.DataFrame()\n",
    "    for folder in folder_names:\n",
    "        csv_file_names = os.listdir(\"Dataset/SimulatedCVE/cicflowmeter_cve/\" + folder)\n",
    "        complete_paths = []\n",
    "        for csv_file_name in csv_file_names:\n",
    "            print(csv_file_name)\n",
    "            complete_paths.append(os.path.join(dataset_csv_path+folder, csv_file_name))\n",
    "        df = pd.concat(map(pd.read_csv, complete_paths), \n",
    "                                ignore_index = True)\n",
    "        df = df[features].copy()\n",
    "        df[\"Label\"] = folder[:-1]\n",
    "        full_df = pd.concat([full_df, df], axis=0, ignore_index=True)\n",
    "    cleaned_df = clean_df(full_df)\n",
    "    return cleaned_df\n",
    "full_df = read_csv()\n",
    "full_df[\"Label\"].value_counts()\n"
   ]
  },
  {
   "cell_type": "code",
   "execution_count": 27,
   "metadata": {},
   "outputs": [
    {
     "data": {
      "text/plain": [
       "<torch._C.Generator at 0x7f650b1e7050>"
      ]
     },
     "execution_count": 27,
     "metadata": {},
     "output_type": "execute_result"
    }
   ],
   "source": [
    "import random\n",
    "\n",
    "random.seed(42)  # Set seed for random operations\n",
    "np.random.seed(42)  # Set seed for NumPy operations\n",
    "torch.manual_seed(42)\n",
    "if torch.cuda.is_available():\n",
    "    torch.cuda.manual_seed_all(42)"
   ]
  },
  {
   "cell_type": "code",
   "execution_count": 28,
   "metadata": {},
   "outputs": [
    {
     "name": "stdout",
     "output_type": "stream",
     "text": [
      "Label Count of each attacks after sampling\n"
     ]
    },
    {
     "data": {
      "text/plain": [
       "Label\n",
       "BENIGN     140114\n",
       "dripper      5413\n",
       "bonesi       1593\n",
       "Name: count, dtype: int64"
      ]
     },
     "execution_count": 28,
     "metadata": {},
     "output_type": "execute_result"
    },
    {
     "name": "stdout",
     "output_type": "stream",
     "text": [
      "Binary Label Counts\n"
     ]
    },
    {
     "data": {
      "text/plain": [
       "Label\n",
       "0    140114\n",
       "1      7006\n",
       "Name: count, dtype: int64"
      ]
     },
     "execution_count": 28,
     "metadata": {},
     "output_type": "execute_result"
    }
   ],
   "source": [
    "flow_df = full_df.drop(columns=[\"Src IP\",\"Dst IP\"], inplace=False, axis=1).copy()\n",
    "label = flow_df['Label']\n",
    "le = LabelEncoder()\n",
    "df = flow_df.copy()\n",
    "df = sample_df(df, 0.05) # Evaluate Small amounts of Malicious Attack\n",
    "\n",
    "print(\"Label Count of each attacks after sampling\")\n",
    "df[\"Label\"].value_counts()\n",
    "df['Label'] = df['Label'].apply(lambda x: 0 if x == \"BENIGN\" else 1)\n",
    "print(\"Binary Label Counts\")\n",
    "df['Label'].value_counts()\n"
   ]
  },
  {
   "cell_type": "code",
   "execution_count": 29,
   "metadata": {},
   "outputs": [
    {
     "data": {
      "text/html": [
       "<div>\n",
       "<style scoped>\n",
       "    .dataframe tbody tr th:only-of-type {\n",
       "        vertical-align: middle;\n",
       "    }\n",
       "\n",
       "    .dataframe tbody tr th {\n",
       "        vertical-align: top;\n",
       "    }\n",
       "\n",
       "    .dataframe thead th {\n",
       "        text-align: right;\n",
       "    }\n",
       "</style>\n",
       "<table border=\"1\" class=\"dataframe\">\n",
       "  <thead>\n",
       "    <tr style=\"text-align: right;\">\n",
       "      <th></th>\n",
       "      <th>Flow Duration</th>\n",
       "      <th>Tot Fwd Pkts</th>\n",
       "      <th>Tot Bwd Pkts</th>\n",
       "      <th>TotLen Fwd Pkts</th>\n",
       "      <th>TotLen Bwd Pkts</th>\n",
       "      <th>Fwd Pkt Len Max</th>\n",
       "      <th>Fwd Pkt Len Min</th>\n",
       "      <th>Fwd Pkt Len Mean</th>\n",
       "      <th>Fwd Pkt Len Std</th>\n",
       "      <th>Bwd Pkt Len Max</th>\n",
       "      <th>...</th>\n",
       "      <th>Fwd Seg Size Min</th>\n",
       "      <th>Active Mean</th>\n",
       "      <th>Active Std</th>\n",
       "      <th>Active Max</th>\n",
       "      <th>Active Min</th>\n",
       "      <th>Idle Mean</th>\n",
       "      <th>Idle Std</th>\n",
       "      <th>Idle Max</th>\n",
       "      <th>Idle Min</th>\n",
       "      <th>Label</th>\n",
       "    </tr>\n",
       "  </thead>\n",
       "  <tbody>\n",
       "    <tr>\n",
       "      <th>152953</th>\n",
       "      <td>55122.0</td>\n",
       "      <td>8.0</td>\n",
       "      <td>10.0</td>\n",
       "      <td>0.0</td>\n",
       "      <td>76653.0</td>\n",
       "      <td>0.0</td>\n",
       "      <td>0.0</td>\n",
       "      <td>0.000000</td>\n",
       "      <td>0.000000</td>\n",
       "      <td>10136.0</td>\n",
       "      <td>...</td>\n",
       "      <td>32.0</td>\n",
       "      <td>0.0</td>\n",
       "      <td>0.0</td>\n",
       "      <td>0.0</td>\n",
       "      <td>0.0</td>\n",
       "      <td>0.0</td>\n",
       "      <td>0.0</td>\n",
       "      <td>0.0</td>\n",
       "      <td>0.0</td>\n",
       "      <td>0</td>\n",
       "    </tr>\n",
       "    <tr>\n",
       "      <th>152954</th>\n",
       "      <td>94824.0</td>\n",
       "      <td>19.0</td>\n",
       "      <td>14.0</td>\n",
       "      <td>0.0</td>\n",
       "      <td>141366.0</td>\n",
       "      <td>0.0</td>\n",
       "      <td>0.0</td>\n",
       "      <td>0.000000</td>\n",
       "      <td>0.000000</td>\n",
       "      <td>13032.0</td>\n",
       "      <td>...</td>\n",
       "      <td>32.0</td>\n",
       "      <td>0.0</td>\n",
       "      <td>0.0</td>\n",
       "      <td>0.0</td>\n",
       "      <td>0.0</td>\n",
       "      <td>0.0</td>\n",
       "      <td>0.0</td>\n",
       "      <td>0.0</td>\n",
       "      <td>0.0</td>\n",
       "      <td>0</td>\n",
       "    </tr>\n",
       "    <tr>\n",
       "      <th>152955</th>\n",
       "      <td>14879.0</td>\n",
       "      <td>18.0</td>\n",
       "      <td>0.0</td>\n",
       "      <td>0.0</td>\n",
       "      <td>0.0</td>\n",
       "      <td>0.0</td>\n",
       "      <td>0.0</td>\n",
       "      <td>0.000000</td>\n",
       "      <td>0.000000</td>\n",
       "      <td>0.0</td>\n",
       "      <td>...</td>\n",
       "      <td>32.0</td>\n",
       "      <td>0.0</td>\n",
       "      <td>0.0</td>\n",
       "      <td>0.0</td>\n",
       "      <td>0.0</td>\n",
       "      <td>0.0</td>\n",
       "      <td>0.0</td>\n",
       "      <td>0.0</td>\n",
       "      <td>0.0</td>\n",
       "      <td>0</td>\n",
       "    </tr>\n",
       "    <tr>\n",
       "      <th>152956</th>\n",
       "      <td>71637.0</td>\n",
       "      <td>23.0</td>\n",
       "      <td>0.0</td>\n",
       "      <td>0.0</td>\n",
       "      <td>0.0</td>\n",
       "      <td>0.0</td>\n",
       "      <td>0.0</td>\n",
       "      <td>0.000000</td>\n",
       "      <td>0.000000</td>\n",
       "      <td>0.0</td>\n",
       "      <td>...</td>\n",
       "      <td>32.0</td>\n",
       "      <td>0.0</td>\n",
       "      <td>0.0</td>\n",
       "      <td>0.0</td>\n",
       "      <td>0.0</td>\n",
       "      <td>0.0</td>\n",
       "      <td>0.0</td>\n",
       "      <td>0.0</td>\n",
       "      <td>0.0</td>\n",
       "      <td>0</td>\n",
       "    </tr>\n",
       "    <tr>\n",
       "      <th>152957</th>\n",
       "      <td>392404.0</td>\n",
       "      <td>71.0</td>\n",
       "      <td>35.0</td>\n",
       "      <td>0.0</td>\n",
       "      <td>166669.0</td>\n",
       "      <td>0.0</td>\n",
       "      <td>0.0</td>\n",
       "      <td>0.000000</td>\n",
       "      <td>0.000000</td>\n",
       "      <td>10136.0</td>\n",
       "      <td>...</td>\n",
       "      <td>32.0</td>\n",
       "      <td>0.0</td>\n",
       "      <td>0.0</td>\n",
       "      <td>0.0</td>\n",
       "      <td>0.0</td>\n",
       "      <td>0.0</td>\n",
       "      <td>0.0</td>\n",
       "      <td>0.0</td>\n",
       "      <td>0.0</td>\n",
       "      <td>0</td>\n",
       "    </tr>\n",
       "    <tr>\n",
       "      <th>...</th>\n",
       "      <td>...</td>\n",
       "      <td>...</td>\n",
       "      <td>...</td>\n",
       "      <td>...</td>\n",
       "      <td>...</td>\n",
       "      <td>...</td>\n",
       "      <td>...</td>\n",
       "      <td>...</td>\n",
       "      <td>...</td>\n",
       "      <td>...</td>\n",
       "      <td>...</td>\n",
       "      <td>...</td>\n",
       "      <td>...</td>\n",
       "      <td>...</td>\n",
       "      <td>...</td>\n",
       "      <td>...</td>\n",
       "      <td>...</td>\n",
       "      <td>...</td>\n",
       "      <td>...</td>\n",
       "      <td>...</td>\n",
       "      <td>...</td>\n",
       "    </tr>\n",
       "    <tr>\n",
       "      <th>400090</th>\n",
       "      <td>25031345.0</td>\n",
       "      <td>8.0</td>\n",
       "      <td>6.0</td>\n",
       "      <td>796.0</td>\n",
       "      <td>0.0</td>\n",
       "      <td>398.0</td>\n",
       "      <td>0.0</td>\n",
       "      <td>99.500000</td>\n",
       "      <td>184.238200</td>\n",
       "      <td>0.0</td>\n",
       "      <td>...</td>\n",
       "      <td>20.0</td>\n",
       "      <td>163941.0</td>\n",
       "      <td>0.0</td>\n",
       "      <td>163941.0</td>\n",
       "      <td>163941.0</td>\n",
       "      <td>24704612.0</td>\n",
       "      <td>0.0</td>\n",
       "      <td>24704612.0</td>\n",
       "      <td>24704612.0</td>\n",
       "      <td>1</td>\n",
       "    </tr>\n",
       "    <tr>\n",
       "      <th>107419</th>\n",
       "      <td>9867.0</td>\n",
       "      <td>4.0</td>\n",
       "      <td>2.0</td>\n",
       "      <td>376.0</td>\n",
       "      <td>0.0</td>\n",
       "      <td>376.0</td>\n",
       "      <td>0.0</td>\n",
       "      <td>94.000000</td>\n",
       "      <td>188.000000</td>\n",
       "      <td>0.0</td>\n",
       "      <td>...</td>\n",
       "      <td>32.0</td>\n",
       "      <td>0.0</td>\n",
       "      <td>0.0</td>\n",
       "      <td>0.0</td>\n",
       "      <td>0.0</td>\n",
       "      <td>0.0</td>\n",
       "      <td>0.0</td>\n",
       "      <td>0.0</td>\n",
       "      <td>0.0</td>\n",
       "      <td>1</td>\n",
       "    </tr>\n",
       "    <tr>\n",
       "      <th>89364</th>\n",
       "      <td>5521248.0</td>\n",
       "      <td>5.0</td>\n",
       "      <td>2.0</td>\n",
       "      <td>379.0</td>\n",
       "      <td>0.0</td>\n",
       "      <td>379.0</td>\n",
       "      <td>0.0</td>\n",
       "      <td>75.800000</td>\n",
       "      <td>169.493953</td>\n",
       "      <td>0.0</td>\n",
       "      <td>...</td>\n",
       "      <td>20.0</td>\n",
       "      <td>0.0</td>\n",
       "      <td>0.0</td>\n",
       "      <td>0.0</td>\n",
       "      <td>0.0</td>\n",
       "      <td>5506838.0</td>\n",
       "      <td>0.0</td>\n",
       "      <td>5506838.0</td>\n",
       "      <td>5506838.0</td>\n",
       "      <td>1</td>\n",
       "    </tr>\n",
       "    <tr>\n",
       "      <th>392281</th>\n",
       "      <td>25706916.0</td>\n",
       "      <td>18.0</td>\n",
       "      <td>12.0</td>\n",
       "      <td>1592.0</td>\n",
       "      <td>0.0</td>\n",
       "      <td>398.0</td>\n",
       "      <td>0.0</td>\n",
       "      <td>88.444444</td>\n",
       "      <td>170.261468</td>\n",
       "      <td>0.0</td>\n",
       "      <td>...</td>\n",
       "      <td>20.0</td>\n",
       "      <td>240104.0</td>\n",
       "      <td>0.0</td>\n",
       "      <td>240104.0</td>\n",
       "      <td>240104.0</td>\n",
       "      <td>24075657.0</td>\n",
       "      <td>0.0</td>\n",
       "      <td>24075657.0</td>\n",
       "      <td>24075657.0</td>\n",
       "      <td>1</td>\n",
       "    </tr>\n",
       "    <tr>\n",
       "      <th>127962</th>\n",
       "      <td>7515.0</td>\n",
       "      <td>4.0</td>\n",
       "      <td>2.0</td>\n",
       "      <td>335.0</td>\n",
       "      <td>0.0</td>\n",
       "      <td>335.0</td>\n",
       "      <td>0.0</td>\n",
       "      <td>83.750000</td>\n",
       "      <td>167.500000</td>\n",
       "      <td>0.0</td>\n",
       "      <td>...</td>\n",
       "      <td>32.0</td>\n",
       "      <td>0.0</td>\n",
       "      <td>0.0</td>\n",
       "      <td>0.0</td>\n",
       "      <td>0.0</td>\n",
       "      <td>0.0</td>\n",
       "      <td>0.0</td>\n",
       "      <td>0.0</td>\n",
       "      <td>0.0</td>\n",
       "      <td>1</td>\n",
       "    </tr>\n",
       "  </tbody>\n",
       "</table>\n",
       "<p>147120 rows × 62 columns</p>\n",
       "</div>"
      ],
      "text/plain": [
       "        Flow Duration  Tot Fwd Pkts  Tot Bwd Pkts  TotLen Fwd Pkts  \\\n",
       "152953        55122.0           8.0          10.0              0.0   \n",
       "152954        94824.0          19.0          14.0              0.0   \n",
       "152955        14879.0          18.0           0.0              0.0   \n",
       "152956        71637.0          23.0           0.0              0.0   \n",
       "152957       392404.0          71.0          35.0              0.0   \n",
       "...               ...           ...           ...              ...   \n",
       "400090     25031345.0           8.0           6.0            796.0   \n",
       "107419         9867.0           4.0           2.0            376.0   \n",
       "89364       5521248.0           5.0           2.0            379.0   \n",
       "392281     25706916.0          18.0          12.0           1592.0   \n",
       "127962         7515.0           4.0           2.0            335.0   \n",
       "\n",
       "        TotLen Bwd Pkts  Fwd Pkt Len Max  Fwd Pkt Len Min  Fwd Pkt Len Mean  \\\n",
       "152953          76653.0              0.0              0.0          0.000000   \n",
       "152954         141366.0              0.0              0.0          0.000000   \n",
       "152955              0.0              0.0              0.0          0.000000   \n",
       "152956              0.0              0.0              0.0          0.000000   \n",
       "152957         166669.0              0.0              0.0          0.000000   \n",
       "...                 ...              ...              ...               ...   \n",
       "400090              0.0            398.0              0.0         99.500000   \n",
       "107419              0.0            376.0              0.0         94.000000   \n",
       "89364               0.0            379.0              0.0         75.800000   \n",
       "392281              0.0            398.0              0.0         88.444444   \n",
       "127962              0.0            335.0              0.0         83.750000   \n",
       "\n",
       "        Fwd Pkt Len Std  Bwd Pkt Len Max  ...  Fwd Seg Size Min  Active Mean  \\\n",
       "152953         0.000000          10136.0  ...              32.0          0.0   \n",
       "152954         0.000000          13032.0  ...              32.0          0.0   \n",
       "152955         0.000000              0.0  ...              32.0          0.0   \n",
       "152956         0.000000              0.0  ...              32.0          0.0   \n",
       "152957         0.000000          10136.0  ...              32.0          0.0   \n",
       "...                 ...              ...  ...               ...          ...   \n",
       "400090       184.238200              0.0  ...              20.0     163941.0   \n",
       "107419       188.000000              0.0  ...              32.0          0.0   \n",
       "89364        169.493953              0.0  ...              20.0          0.0   \n",
       "392281       170.261468              0.0  ...              20.0     240104.0   \n",
       "127962       167.500000              0.0  ...              32.0          0.0   \n",
       "\n",
       "        Active Std  Active Max  Active Min   Idle Mean  Idle Std    Idle Max  \\\n",
       "152953         0.0         0.0         0.0         0.0       0.0         0.0   \n",
       "152954         0.0         0.0         0.0         0.0       0.0         0.0   \n",
       "152955         0.0         0.0         0.0         0.0       0.0         0.0   \n",
       "152956         0.0         0.0         0.0         0.0       0.0         0.0   \n",
       "152957         0.0         0.0         0.0         0.0       0.0         0.0   \n",
       "...            ...         ...         ...         ...       ...         ...   \n",
       "400090         0.0    163941.0    163941.0  24704612.0       0.0  24704612.0   \n",
       "107419         0.0         0.0         0.0         0.0       0.0         0.0   \n",
       "89364          0.0         0.0         0.0   5506838.0       0.0   5506838.0   \n",
       "392281         0.0    240104.0    240104.0  24075657.0       0.0  24075657.0   \n",
       "127962         0.0         0.0         0.0         0.0       0.0         0.0   \n",
       "\n",
       "          Idle Min  Label  \n",
       "152953         0.0      0  \n",
       "152954         0.0      0  \n",
       "152955         0.0      0  \n",
       "152956         0.0      0  \n",
       "152957         0.0      0  \n",
       "...            ...    ...  \n",
       "400090  24704612.0      1  \n",
       "107419         0.0      1  \n",
       "89364    5506838.0      1  \n",
       "392281  24075657.0      1  \n",
       "127962         0.0      1  \n",
       "\n",
       "[147120 rows x 62 columns]"
      ]
     },
     "execution_count": 29,
     "metadata": {},
     "output_type": "execute_result"
    }
   ],
   "source": [
    "df"
   ]
  },
  {
   "cell_type": "markdown",
   "metadata": {},
   "source": [
    "# 2D-PCA visualization"
   ]
  },
  {
   "cell_type": "code",
   "execution_count": null,
   "metadata": {},
   "outputs": [],
   "source": []
  },
  {
   "cell_type": "code",
   "execution_count": 30,
   "metadata": {},
   "outputs": [],
   "source": [
    "# # subsample_df = flow_df.groupby('Label').apply(pd.DataFrame.sample, frac = 0.1).reset_index(drop = True)\n",
    "# # subsample_df = pd.concat([subsample_df[subsample_df[\"Label\"] != \"dos_ge_dr\"], subsample_df.groupby('Label').apply(pd.DataFrame.sample, frac=0.1).reset_index(drop=True)])\n",
    "# X = subsample_df.drop(['Label'], axis=1)\n",
    "# y = subsample_df['Label']\n",
    "\n",
    "# # Apply PCA\n",
    "# pca = PCA(n_components=2, random_state=42)\n",
    "# pca_results = pca.fit_transform(X)\n",
    "\n",
    "# # Prepare PCA DataFrame for plotting\n",
    "# pca_df = pd.DataFrame(pca_results, columns=['dimension 1', 'dimension 2'])\n",
    "# pca_df['Label'] = y.values\n",
    "# pca_df['Binary'] = y.apply(lambda x: \"malicious\" if x != 'BENIGN' else 'BENIGN')\n",
    "\n",
    "\n",
    "# # Apply t-SNE\n",
    "# tsne = TSNE(n_components=2, n_jobs=-1, verbose=0, random_state=0, perplexity=20)\n",
    "# tsne_results = tsne.fit_transform(X)\n",
    "\n",
    "# # Prepare t-SNE DataFrame for plotting\n",
    "# tsne_df = pd.DataFrame(tsne_results, columns=['dimension 1', 'dimension 2'])\n",
    "# tsne_df['Label'] = y.values\n",
    "\n",
    "# # Create figure and axes for the subplots\n",
    "# fig, axes = plt.subplots(1, 2, figsize=(20, 10))  # Adjust figsize to fit your needs\n",
    "\n",
    "# # PCA Plot\n",
    "# sns.scatterplot(x='dimension 1', y='dimension 2', hue='Label',\n",
    "#                 palette=sns.color_palette('hls', len(pca_df['Label'].value_counts())),\n",
    "#                 data=pca_df, ax=axes[0])\n",
    "# axes[0].set_title('CICIDS2017 15 Classes PCA Projection')\n",
    "# axes[0].legend(loc='center left', bbox_to_anchor=(1, 0.5))\n",
    "# axes[0].set_ylim(-10, 10)\n",
    "\n",
    "# # t-SNE Plot\n",
    "# sns.scatterplot(x='dimension 1', y='dimension 2', hue='Label',\n",
    "#                 palette=sns.color_palette('hls', len(tsne_df['Label'].value_counts())),\n",
    "#                 data=tsne_df, ax=axes[1])\n",
    "# axes[1].set_title('CICIDS2017 15 Classes T-SNE Projection')\n",
    "# axes[1].legend(loc='center left', bbox_to_anchor=(1, 0.5))\n",
    "\n",
    "# plt.show()"
   ]
  },
  {
   "cell_type": "markdown",
   "metadata": {},
   "source": [
    "# XGBoost-ShapValues"
   ]
  },
  {
   "cell_type": "markdown",
   "metadata": {},
   "source": [
    "Data Processing"
   ]
  },
  {
   "cell_type": "code",
   "execution_count": 10,
   "metadata": {},
   "outputs": [],
   "source": [
    "# ? Evaluating lack of \n",
    "# subsample_df = normalized_df.copy()\n",
    "# subsample_df[\"Label\"].value_counts()"
   ]
  },
  {
   "cell_type": "code",
   "execution_count": 31,
   "metadata": {},
   "outputs": [
    {
     "name": "stdout",
     "output_type": "stream",
     "text": [
      "Before (147120, 61)\n",
      "False\n",
      "True\n",
      "After (147120, 62)\n"
     ]
    }
   ],
   "source": [
    "\n",
    "labels = df['Label'].copy()\n",
    "df.drop(columns='Label', axis=1, inplace=True)\n",
    "print(\"Before\", df.shape)\n",
    "df = df[:]\n",
    "\n",
    "df = df.replace([np.inf, -np.inf], np.nan)  # Replace inf/-inf with NaN\n",
    "df = df.fillna(df.mean())\n",
    "\n",
    "df.dropna(inplace=True)\n",
    "df = df.select_dtypes(include=[np.number])\n",
    "indices_to_keep = ~df.isin([np.nan, np.inf, -np.inf]).any(axis=1)\n",
    "df = df[indices_to_keep]\n",
    "\n",
    "\n",
    "for i in df.columns:\n",
    "    df = df[df[i] != \"Infinity\"]\n",
    "    df = df[df[i] != np.nan]\n",
    "    df = df[df[i] != np.inf]\n",
    "    df = df[df[i] != -np.inf]\n",
    "    df = df[df[i] != \",,\"]\n",
    "    df = df[df[i] != \", ,\"]\n",
    "    \n",
    "print(np.any(np.isnan(df)))\n",
    "print(np.any(np.isfinite(df)))\n",
    "\n",
    "\n",
    "# Last column turn to binary\n",
    "# df.iloc[:, -1] = df.iloc[:, -1].apply(lambda x: 1 if x != 0 else 0).astype(int)\n",
    "#Standardize Dataframe\n",
    "feature_name = list(df.columns)\n",
    "\n",
    "scaler = StandardScaler()\n",
    "feature_name = list(df.columns)\n",
    "normalized_data = scaler.fit_transform(df)\n",
    "normalized_df = pd.DataFrame(normalized_data, columns=feature_name)\n",
    "normalized_df['Label'] = labels.values\n",
    "df['Label'] = labels.values\n",
    "\n",
    "print(\"After\", df.shape)\n",
    "\n",
    "\n"
   ]
  },
  {
   "cell_type": "code",
   "execution_count": 11,
   "metadata": {},
   "outputs": [
    {
     "data": {
      "text/plain": [
       "array([0, 1])"
      ]
     },
     "execution_count": 11,
     "metadata": {},
     "output_type": "execute_result"
    }
   ],
   "source": [
    "X_train, X_test, y_train, y_test = train_test_split(normalized_df.drop(['Label'],axis=1), normalized_df['Label'], test_size=.20, random_state=42)\n",
    "np.unique(y_train)"
   ]
  },
  {
   "cell_type": "code",
   "execution_count": 13,
   "metadata": {},
   "outputs": [
    {
     "data": {
      "text/html": [
       "<style>#sk-container-id-1 {color: black;}#sk-container-id-1 pre{padding: 0;}#sk-container-id-1 div.sk-toggleable {background-color: white;}#sk-container-id-1 label.sk-toggleable__label {cursor: pointer;display: block;width: 100%;margin-bottom: 0;padding: 0.3em;box-sizing: border-box;text-align: center;}#sk-container-id-1 label.sk-toggleable__label-arrow:before {content: \"▸\";float: left;margin-right: 0.25em;color: #696969;}#sk-container-id-1 label.sk-toggleable__label-arrow:hover:before {color: black;}#sk-container-id-1 div.sk-estimator:hover label.sk-toggleable__label-arrow:before {color: black;}#sk-container-id-1 div.sk-toggleable__content {max-height: 0;max-width: 0;overflow: hidden;text-align: left;background-color: #f0f8ff;}#sk-container-id-1 div.sk-toggleable__content pre {margin: 0.2em;color: black;border-radius: 0.25em;background-color: #f0f8ff;}#sk-container-id-1 input.sk-toggleable__control:checked~div.sk-toggleable__content {max-height: 200px;max-width: 100%;overflow: auto;}#sk-container-id-1 input.sk-toggleable__control:checked~label.sk-toggleable__label-arrow:before {content: \"▾\";}#sk-container-id-1 div.sk-estimator input.sk-toggleable__control:checked~label.sk-toggleable__label {background-color: #d4ebff;}#sk-container-id-1 div.sk-label input.sk-toggleable__control:checked~label.sk-toggleable__label {background-color: #d4ebff;}#sk-container-id-1 input.sk-hidden--visually {border: 0;clip: rect(1px 1px 1px 1px);clip: rect(1px, 1px, 1px, 1px);height: 1px;margin: -1px;overflow: hidden;padding: 0;position: absolute;width: 1px;}#sk-container-id-1 div.sk-estimator {font-family: monospace;background-color: #f0f8ff;border: 1px dotted black;border-radius: 0.25em;box-sizing: border-box;margin-bottom: 0.5em;}#sk-container-id-1 div.sk-estimator:hover {background-color: #d4ebff;}#sk-container-id-1 div.sk-parallel-item::after {content: \"\";width: 100%;border-bottom: 1px solid gray;flex-grow: 1;}#sk-container-id-1 div.sk-label:hover label.sk-toggleable__label {background-color: #d4ebff;}#sk-container-id-1 div.sk-serial::before {content: \"\";position: absolute;border-left: 1px solid gray;box-sizing: border-box;top: 0;bottom: 0;left: 50%;z-index: 0;}#sk-container-id-1 div.sk-serial {display: flex;flex-direction: column;align-items: center;background-color: white;padding-right: 0.2em;padding-left: 0.2em;position: relative;}#sk-container-id-1 div.sk-item {position: relative;z-index: 1;}#sk-container-id-1 div.sk-parallel {display: flex;align-items: stretch;justify-content: center;background-color: white;position: relative;}#sk-container-id-1 div.sk-item::before, #sk-container-id-1 div.sk-parallel-item::before {content: \"\";position: absolute;border-left: 1px solid gray;box-sizing: border-box;top: 0;bottom: 0;left: 50%;z-index: -1;}#sk-container-id-1 div.sk-parallel-item {display: flex;flex-direction: column;z-index: 1;position: relative;background-color: white;}#sk-container-id-1 div.sk-parallel-item:first-child::after {align-self: flex-end;width: 50%;}#sk-container-id-1 div.sk-parallel-item:last-child::after {align-self: flex-start;width: 50%;}#sk-container-id-1 div.sk-parallel-item:only-child::after {width: 0;}#sk-container-id-1 div.sk-dashed-wrapped {border: 1px dashed gray;margin: 0 0.4em 0.5em 0.4em;box-sizing: border-box;padding-bottom: 0.4em;background-color: white;}#sk-container-id-1 div.sk-label label {font-family: monospace;font-weight: bold;display: inline-block;line-height: 1.2em;}#sk-container-id-1 div.sk-label-container {text-align: center;}#sk-container-id-1 div.sk-container {/* jupyter's `normalize.less` sets `[hidden] { display: none; }` but bootstrap.min.css set `[hidden] { display: none !important; }` so we also need the `!important` here to be able to override the default hidden behavior on the sphinx rendered scikit-learn.org. See: https://github.com/scikit-learn/scikit-learn/issues/21755 */display: inline-block !important;position: relative;}#sk-container-id-1 div.sk-text-repr-fallback {display: none;}</style><div id=\"sk-container-id-1\" class=\"sk-top-container\"><div class=\"sk-text-repr-fallback\"><pre>DecisionTreeClassifier(criterion=&#x27;entropy&#x27;, max_depth=15, random_state=4022)</pre><b>In a Jupyter environment, please rerun this cell to show the HTML representation or trust the notebook. <br />On GitHub, the HTML representation is unable to render, please try loading this page with nbviewer.org.</b></div><div class=\"sk-container\" hidden><div class=\"sk-item\"><div class=\"sk-estimator sk-toggleable\"><input class=\"sk-toggleable__control sk-hidden--visually\" id=\"sk-estimator-id-1\" type=\"checkbox\" checked><label for=\"sk-estimator-id-1\" class=\"sk-toggleable__label sk-toggleable__label-arrow\">DecisionTreeClassifier</label><div class=\"sk-toggleable__content\"><pre>DecisionTreeClassifier(criterion=&#x27;entropy&#x27;, max_depth=15, random_state=4022)</pre></div></div></div></div></div>"
      ],
      "text/plain": [
       "DecisionTreeClassifier(criterion='entropy', max_depth=15, random_state=4022)"
      ]
     },
     "execution_count": 13,
     "metadata": {},
     "output_type": "execute_result"
    },
    {
     "name": "stdout",
     "output_type": "stream",
     "text": [
      "0.9937706119457678\n",
      "[[28051     9]\n",
      " [    8  1356]]\n"
     ]
    },
    {
     "data": {
      "text/html": [
       "<style>#sk-container-id-2 {color: black;}#sk-container-id-2 pre{padding: 0;}#sk-container-id-2 div.sk-toggleable {background-color: white;}#sk-container-id-2 label.sk-toggleable__label {cursor: pointer;display: block;width: 100%;margin-bottom: 0;padding: 0.3em;box-sizing: border-box;text-align: center;}#sk-container-id-2 label.sk-toggleable__label-arrow:before {content: \"▸\";float: left;margin-right: 0.25em;color: #696969;}#sk-container-id-2 label.sk-toggleable__label-arrow:hover:before {color: black;}#sk-container-id-2 div.sk-estimator:hover label.sk-toggleable__label-arrow:before {color: black;}#sk-container-id-2 div.sk-toggleable__content {max-height: 0;max-width: 0;overflow: hidden;text-align: left;background-color: #f0f8ff;}#sk-container-id-2 div.sk-toggleable__content pre {margin: 0.2em;color: black;border-radius: 0.25em;background-color: #f0f8ff;}#sk-container-id-2 input.sk-toggleable__control:checked~div.sk-toggleable__content {max-height: 200px;max-width: 100%;overflow: auto;}#sk-container-id-2 input.sk-toggleable__control:checked~label.sk-toggleable__label-arrow:before {content: \"▾\";}#sk-container-id-2 div.sk-estimator input.sk-toggleable__control:checked~label.sk-toggleable__label {background-color: #d4ebff;}#sk-container-id-2 div.sk-label input.sk-toggleable__control:checked~label.sk-toggleable__label {background-color: #d4ebff;}#sk-container-id-2 input.sk-hidden--visually {border: 0;clip: rect(1px 1px 1px 1px);clip: rect(1px, 1px, 1px, 1px);height: 1px;margin: -1px;overflow: hidden;padding: 0;position: absolute;width: 1px;}#sk-container-id-2 div.sk-estimator {font-family: monospace;background-color: #f0f8ff;border: 1px dotted black;border-radius: 0.25em;box-sizing: border-box;margin-bottom: 0.5em;}#sk-container-id-2 div.sk-estimator:hover {background-color: #d4ebff;}#sk-container-id-2 div.sk-parallel-item::after {content: \"\";width: 100%;border-bottom: 1px solid gray;flex-grow: 1;}#sk-container-id-2 div.sk-label:hover label.sk-toggleable__label {background-color: #d4ebff;}#sk-container-id-2 div.sk-serial::before {content: \"\";position: absolute;border-left: 1px solid gray;box-sizing: border-box;top: 0;bottom: 0;left: 50%;z-index: 0;}#sk-container-id-2 div.sk-serial {display: flex;flex-direction: column;align-items: center;background-color: white;padding-right: 0.2em;padding-left: 0.2em;position: relative;}#sk-container-id-2 div.sk-item {position: relative;z-index: 1;}#sk-container-id-2 div.sk-parallel {display: flex;align-items: stretch;justify-content: center;background-color: white;position: relative;}#sk-container-id-2 div.sk-item::before, #sk-container-id-2 div.sk-parallel-item::before {content: \"\";position: absolute;border-left: 1px solid gray;box-sizing: border-box;top: 0;bottom: 0;left: 50%;z-index: -1;}#sk-container-id-2 div.sk-parallel-item {display: flex;flex-direction: column;z-index: 1;position: relative;background-color: white;}#sk-container-id-2 div.sk-parallel-item:first-child::after {align-self: flex-end;width: 50%;}#sk-container-id-2 div.sk-parallel-item:last-child::after {align-self: flex-start;width: 50%;}#sk-container-id-2 div.sk-parallel-item:only-child::after {width: 0;}#sk-container-id-2 div.sk-dashed-wrapped {border: 1px dashed gray;margin: 0 0.4em 0.5em 0.4em;box-sizing: border-box;padding-bottom: 0.4em;background-color: white;}#sk-container-id-2 div.sk-label label {font-family: monospace;font-weight: bold;display: inline-block;line-height: 1.2em;}#sk-container-id-2 div.sk-label-container {text-align: center;}#sk-container-id-2 div.sk-container {/* jupyter's `normalize.less` sets `[hidden] { display: none; }` but bootstrap.min.css set `[hidden] { display: none !important; }` so we also need the `!important` here to be able to override the default hidden behavior on the sphinx rendered scikit-learn.org. See: https://github.com/scikit-learn/scikit-learn/issues/21755 */display: inline-block !important;position: relative;}#sk-container-id-2 div.sk-text-repr-fallback {display: none;}</style><div id=\"sk-container-id-2\" class=\"sk-top-container\"><div class=\"sk-text-repr-fallback\"><pre>XGBClassifier(base_score=None, booster=None, callbacks=None,\n",
       "              colsample_bylevel=None, colsample_bynode=None,\n",
       "              colsample_bytree=None, device=None, early_stopping_rounds=None,\n",
       "              enable_categorical=False, eval_metric=None, feature_types=None,\n",
       "              gamma=None, grow_policy=None, importance_type=None,\n",
       "              interaction_constraints=None, learning_rate=None, max_bin=None,\n",
       "              max_cat_threshold=None, max_cat_to_onehot=None,\n",
       "              max_delta_step=None, max_depth=None, max_leaves=None,\n",
       "              min_child_weight=None, missing=nan, monotone_constraints=None,\n",
       "              multi_strategy=None, n_estimators=None, n_jobs=None,\n",
       "              num_parallel_tree=None, random_state=None, ...)</pre><b>In a Jupyter environment, please rerun this cell to show the HTML representation or trust the notebook. <br />On GitHub, the HTML representation is unable to render, please try loading this page with nbviewer.org.</b></div><div class=\"sk-container\" hidden><div class=\"sk-item\"><div class=\"sk-estimator sk-toggleable\"><input class=\"sk-toggleable__control sk-hidden--visually\" id=\"sk-estimator-id-2\" type=\"checkbox\" checked><label for=\"sk-estimator-id-2\" class=\"sk-toggleable__label sk-toggleable__label-arrow\">XGBClassifier</label><div class=\"sk-toggleable__content\"><pre>XGBClassifier(base_score=None, booster=None, callbacks=None,\n",
       "              colsample_bylevel=None, colsample_bynode=None,\n",
       "              colsample_bytree=None, device=None, early_stopping_rounds=None,\n",
       "              enable_categorical=False, eval_metric=None, feature_types=None,\n",
       "              gamma=None, grow_policy=None, importance_type=None,\n",
       "              interaction_constraints=None, learning_rate=None, max_bin=None,\n",
       "              max_cat_threshold=None, max_cat_to_onehot=None,\n",
       "              max_delta_step=None, max_depth=None, max_leaves=None,\n",
       "              min_child_weight=None, missing=nan, monotone_constraints=None,\n",
       "              multi_strategy=None, n_estimators=None, n_jobs=None,\n",
       "              num_parallel_tree=None, random_state=None, ...)</pre></div></div></div></div></div>"
      ],
      "text/plain": [
       "XGBClassifier(base_score=None, booster=None, callbacks=None,\n",
       "              colsample_bylevel=None, colsample_bynode=None,\n",
       "              colsample_bytree=None, device=None, early_stopping_rounds=None,\n",
       "              enable_categorical=False, eval_metric=None, feature_types=None,\n",
       "              gamma=None, grow_policy=None, importance_type=None,\n",
       "              interaction_constraints=None, learning_rate=None, max_bin=None,\n",
       "              max_cat_threshold=None, max_cat_to_onehot=None,\n",
       "              max_delta_step=None, max_depth=None, max_leaves=None,\n",
       "              min_child_weight=None, missing=nan, monotone_constraints=None,\n",
       "              multi_strategy=None, n_estimators=None, n_jobs=None,\n",
       "              num_parallel_tree=None, random_state=None, ...)"
      ]
     },
     "execution_count": 13,
     "metadata": {},
     "output_type": "execute_result"
    },
    {
     "name": "stdout",
     "output_type": "stream",
     "text": [
      "0.9912280701754386\n",
      "[[28044     9]\n",
      " [   15  1356]]\n"
     ]
    }
   ],
   "source": [
    "from xgboost import XGBClassifier\n",
    "from sklearn.tree import DecisionTreeClassifier\n",
    "# Initialize the CART classifier\n",
    "cart_classifier = DecisionTreeClassifier(criterion='entropy', max_depth=15, random_state=4022)\n",
    "cart_classifier.fit(X_train,y_train)\n",
    "model_outputs = cart_classifier.predict(X_test)\n",
    "print(f1_score(model_outputs, y_test))\n",
    "print(confusion_matrix(model_outputs, y_test))\n",
    "\n",
    "# Train the classifier on the training data\n",
    "\n",
    "model = XGBClassifier(objective='binary:logistic')\n",
    "model.fit(X_train,y_train)\n",
    "model_outputs = model.predict(X_test)\n",
    "pred = model.score(X_test, y_test)\n",
    "print(f1_score(model_outputs, y_test))\n",
    "print(confusion_matrix(model_outputs, y_test))"
   ]
  },
  {
   "cell_type": "code",
   "execution_count": 14,
   "metadata": {},
   "outputs": [],
   "source": [
    "# gm_model = PReNet\n",
    "# gm_clf = gm_model( device = 'cuda', verbose=1, epochs=1)\n",
    "# gm_clf.fit(X=X_train.to_numpy(),y= y_train)"
   ]
  },
  {
   "cell_type": "code",
   "execution_count": 15,
   "metadata": {},
   "outputs": [],
   "source": [
    "# anomaly_scores = gm.model.decision_function(X_test.to_numpy())\n",
    "# plot_anomaly_scores(anomaly_scores, y_test)"
   ]
  },
  {
   "cell_type": "code",
   "execution_count": 16,
   "metadata": {},
   "outputs": [],
   "source": [
    "# import joblib\n",
    "# joblib.dump(model, 'cic_xgb.joblib')\n",
    "# joblib.dump(scaler, 'cic_scaler.joblib')\n",
    "\n"
   ]
  },
  {
   "cell_type": "code",
   "execution_count": 17,
   "metadata": {},
   "outputs": [
    {
     "data": {
      "text/plain": [
       "array(['Flow Duration', 'Tot Fwd Pkts', 'Tot Bwd Pkts', 'TotLen Fwd Pkts',\n",
       "       'TotLen Bwd Pkts', 'Fwd Pkt Len Max', 'Fwd Pkt Len Min',\n",
       "       'Fwd Pkt Len Mean', 'Fwd Pkt Len Std', 'Bwd Pkt Len Max',\n",
       "       'Bwd Pkt Len Min', 'Bwd Pkt Len Mean', 'Bwd Pkt Len Std',\n",
       "       'Flow Byts/s', 'Flow Pkts/s', 'Flow IAT Mean', 'Flow IAT Std',\n",
       "       'Flow IAT Max', 'Flow IAT Min', 'Fwd IAT Tot', 'Fwd IAT Mean',\n",
       "       'Fwd IAT Std', 'Fwd IAT Max', 'Fwd IAT Min', 'Bwd IAT Tot',\n",
       "       'Bwd IAT Mean', 'Bwd IAT Std', 'Bwd IAT Max', 'Bwd IAT Min',\n",
       "       'Fwd PSH Flags', 'Fwd Header Len', 'Bwd Header Len', 'Fwd Pkts/s',\n",
       "       'Bwd Pkts/s', 'Pkt Len Min', 'Pkt Len Max', 'Pkt Len Mean',\n",
       "       'Pkt Len Std', 'Pkt Len Var', 'FIN Flag Cnt', 'PSH Flag Cnt',\n",
       "       'ACK Flag Cnt', 'URG Flag Cnt', 'Down/Up Ratio', 'Pkt Size Avg',\n",
       "       'Fwd Seg Size Avg', 'Bwd Seg Size Avg', 'Subflow Fwd Byts',\n",
       "       'Subflow Bwd Byts', 'Init Fwd Win Byts', 'Init Bwd Win Byts',\n",
       "       'Fwd Act Data Pkts', 'Fwd Seg Size Min', 'Active Mean',\n",
       "       'Active Std', 'Active Max', 'Active Min', 'Idle Mean', 'Idle Std',\n",
       "       'Idle Max', 'Idle Min'], dtype=object)"
      ]
     },
     "execution_count": 17,
     "metadata": {},
     "output_type": "execute_result"
    }
   ],
   "source": [
    "scaler.feature_names_in_"
   ]
  },
  {
   "cell_type": "code",
   "execution_count": 18,
   "metadata": {},
   "outputs": [],
   "source": [
    "# new_benign_df = pd.read_csv(os.path.join(dataset_csv_path, \"BENIGN/final_merged.csv\"))\n",
    "# new_benign_df.drop(columns=[\"Unnamed: 0.1\"], inplace=True)\n",
    "# features = ['Flow Duration', 'Tot Fwd Pkts', 'Tot Bwd Pkts', 'TotLen Fwd Pkts',\n",
    "#       'TotLen Bwd Pkts', 'Fwd Pkt Len Max', 'Fwd Pkt Len Min',\n",
    "#       'Fwd Pkt Len Mean', 'Fwd Pkt Len Std', 'Bwd Pkt Len Max',\n",
    "#       'Bwd Pkt Len Min', 'Bwd Pkt Len Mean', 'Bwd Pkt Len Std',\n",
    "#       'Flow Byts/s', 'Flow Pkts/s', 'Flow IAT Mean', 'Flow IAT Std',\n",
    "#       'Flow IAT Max', 'Flow IAT Min', 'Fwd IAT Tot', 'Fwd IAT Mean',\n",
    "#       'Fwd IAT Std', 'Fwd IAT Max', 'Fwd IAT Min', 'Bwd IAT Tot',\n",
    "#       'Bwd IAT Mean', 'Bwd IAT Std', 'Bwd IAT Max', 'Bwd IAT Min',\n",
    "#       'Fwd PSH Flags', 'Fwd Header Len', 'Bwd Header Len', 'Fwd Pkts/s',\n",
    "#       'Bwd Pkts/s', 'Pkt Len Min', 'Pkt Len Max', 'Pkt Len Mean',\n",
    "#       'Pkt Len Std', 'Pkt Len Var', 'FIN Flag Cnt', 'PSH Flag Cnt',\n",
    "#       'ACK Flag Cnt', 'URG Flag Cnt', 'Down/Up Ratio', 'Pkt Size Avg',\n",
    "#       'Fwd Seg Size Avg', 'Bwd Seg Size Avg', 'Subflow Fwd Byts',\n",
    "#       'Subflow Bwd Byts', 'Init Fwd Win Byts', 'Init Bwd Win Byts',\n",
    "#       'Fwd Act Data Pkts', 'Fwd Seg Size Min', 'Active Mean',\n",
    "#       'Active Std', 'Active Max', 'Active Min', 'Idle Mean', 'Idle Std',\n",
    "#       'Idle Max', 'Idle Min']\n",
    "\n",
    "# X = new_benign_df[features]\n",
    "# X.replace([np.inf, -np.inf], np.nan, inplace = True)\n",
    "# X.dropna(inplace=True)\n",
    "# X_scaled = scaler.transform(X)\n",
    "\n",
    "# import collections\n",
    "\n",
    "# output = model.predict(X_scaled) \n",
    "# counter = collections.Counter(output)\n",
    "# counter\n"
   ]
  },
  {
   "cell_type": "markdown",
   "metadata": {},
   "source": [
    "SHAP"
   ]
  },
  {
   "cell_type": "code",
   "execution_count": 19,
   "metadata": {},
   "outputs": [],
   "source": [
    "# explainer = shap.Explainer(model)\n",
    "# shap_values = explainer(X_train)\n",
    "# np.shape(shap_values.values)"
   ]
  },
  {
   "cell_type": "code",
   "execution_count": 20,
   "metadata": {},
   "outputs": [],
   "source": [
    "# shap.plots.bar(shap_values, max_display=15)\n",
    "# plt.show()\n",
    "\n",
    "# shap.plots.beeswarm(shap_values, max_display=14)\n",
    "# plt.show()"
   ]
  },
  {
   "cell_type": "markdown",
   "metadata": {},
   "source": [
    "# Global Model"
   ]
  },
  {
   "cell_type": "markdown",
   "metadata": {},
   "source": [
    "### Functions"
   ]
  },
  {
   "cell_type": "code",
   "execution_count": 32,
   "metadata": {},
   "outputs": [],
   "source": [
    "def get_optimal_threshold(precision, recall, thresholds):\n",
    "    with np.errstate(divide='ignore', invalid='ignore'):\n",
    "        f1_scores = 2 * (precision * recall) / (precision + recall)\n",
    "        f1_scores[np.isnan(f1_scores)] = 0  # Replace NaN values with 0    \n",
    "    optimal_idx = np.argmax(f1_scores)\n",
    "    optimal_threshold = thresholds[optimal_idx]\n",
    "    return optimal_threshold\n",
    "\n",
    "def get_optimal_threshold(precision, recall, thresholds):\n",
    "    with np.errstate(divide='ignore', invalid='ignore'):\n",
    "        f1_scores = 2 * (precision * recall) / (precision + recall)\n",
    "        # f1_scores[np.isnan(f1_scores)] = 0  # Replace NaN values with 0    \n",
    "    optimal_idx = np.argmax(f1_scores)\n",
    "    optimal_threshold = thresholds[optimal_idx]\n",
    "    return optimal_threshold\n",
    "  \n",
    "def eval_accuracy_from_scores(anomaly_scores, y_test):\n",
    "    fpr, tpr, _ = roc_curve(y_test, anomaly_scores)\n",
    "    precision, recall, thresholds = precision_recall_curve(y_test, anomaly_scores)\n",
    "    opt_threshold = get_optimal_threshold(precision, recall, thresholds)\n",
    "    pred = np.where(anomaly_scores > opt_threshold, 1,0)\n",
    "    f1 = f1_score(y_test, pred)\n",
    "    conf_matrix = confusion_matrix(y_test, pred)\n",
    "    print(f\"F1 Score: {f1:.4f}\")\n",
    "    print(conf_matrix)\n",
    "    \n",
    "    \n",
    "    \n",
    "def set_supervised_label(supervision_rate, y):\n",
    "        idx = np.where(y_train == 1)[0]\n",
    "        y = np.zeros_like(y.values)\n",
    "        if supervision_rate == 0:\n",
    "            print(f\"UNSUPERVISED, Sampling Rate \")\n",
    "            y[idx[:2]] = 1\n",
    "        else:\n",
    "            print(f\"SEMI SUPERVISED, Sampling Rate, Supervision = {supervision_rate}\")\n",
    "            idx = np.random.choice(idx, size=int(supervision_rate * len(idx)), replace=False)\n",
    "            y[idx] = 1\n",
    "        return y"
   ]
  },
  {
   "cell_type": "markdown",
   "metadata": {},
   "source": [
    "# Real World AL"
   ]
  },
  {
   "cell_type": "markdown",
   "metadata": {},
   "source": [
    "### Initial LM Training (GM Pretrained) # TODO: Capture Mix Data with new attack and evaluate"
   ]
  },
  {
   "cell_type": "code",
   "execution_count": 71,
   "metadata": {},
   "outputs": [],
   "source": [
    "import numpy as np\n",
    "import pandas as pd\n",
    "import joblib\n",
    "from sklearn.preprocessing import StandardScaler\n",
    "from deepod.models import PReNet, DeepSAD, DevNet\n",
    "import os\n",
    "from sklearn.model_selection import train_test_split\n",
    "from sklearn.metrics import precision_recall_curve, auc, roc_curve, recall_score, precision_score, f1_score, confusion_matrix, accuracy_score\n",
    "from xgboost import XGBClassifier\n",
    "from alipy import ToolBox\n",
    "from collections import Counter\n",
    "\n",
    "features = ['Src IP', 'Dst IP','Flow Duration', 'Tot Fwd Pkts', 'Tot Bwd Pkts', 'TotLen Fwd Pkts',\n",
    "       'TotLen Bwd Pkts', 'Fwd Pkt Len Max', 'Fwd Pkt Len Min',\n",
    "       'Fwd Pkt Len Mean', 'Fwd Pkt Len Std', 'Bwd Pkt Len Max',\n",
    "       'Bwd Pkt Len Min', 'Bwd Pkt Len Mean', 'Bwd Pkt Len Std', 'Flow Byts/s',\n",
    "       'Flow Pkts/s', 'Flow IAT Mean', 'Flow IAT Std', 'Flow IAT Max',\n",
    "       'Flow IAT Min', 'Fwd IAT Tot', 'Fwd IAT Mean', 'Fwd IAT Std',\n",
    "       'Fwd IAT Max', 'Fwd IAT Min', 'Bwd IAT Tot', 'Bwd IAT Mean',\n",
    "       'Bwd IAT Std', 'Bwd IAT Max', 'Bwd IAT Min', 'Fwd PSH Flags',\n",
    "       'Fwd Header Len', 'Bwd Header Len', 'Fwd Pkts/s', 'Bwd Pkts/s',\n",
    "       'Pkt Len Min', 'Pkt Len Max', 'Pkt Len Mean', 'Pkt Len Std',\n",
    "       'Pkt Len Var', 'FIN Flag Cnt', 'PSH Flag Cnt', 'ACK Flag Cnt',\n",
    "       'URG Flag Cnt', 'Down/Up Ratio', 'Pkt Size Avg', 'Fwd Seg Size Avg',\n",
    "       'Bwd Seg Size Avg', 'Subflow Fwd Byts', 'Subflow Bwd Byts',\n",
    "       'Init Fwd Win Byts', 'Init Bwd Win Byts', 'Fwd Act Data Pkts',\n",
    "       'Fwd Seg Size Min', 'Active Mean', 'Active Std', 'Active Max',\n",
    "       'Active Min', 'Idle Mean', 'Idle Std', 'Idle Max', 'Idle Min']\n",
    "\n",
    "\n",
    "def clean_df(df):\n",
    "    # Remove the space before each feature names\n",
    "    df.columns = df.columns.str.strip()\n",
    "    print('dataset shape', df.shape)\n",
    "    \n",
    "\n",
    "    # This set of feature should have >= 0 values\n",
    "    num = df._get_numeric_data()\n",
    "    num[num < 0] = 0\n",
    "\n",
    "    df = df.replace([np.inf, -np.inf], np.nan, inplace=False)  # Replace inf/-inf with NaN\n",
    "    print(df.isna().any(axis = 1).sum(), 'rows dropped')\n",
    "    df.dropna(inplace=True)\n",
    "    # print('shape after removing nan:', df.shape)\n",
    "    # Drop duplicate rows\n",
    "    df.drop_duplicates(inplace = True)\n",
    "    # print('shape after dropping duplicates:', df.shape) \n",
    "    print(df.columns)\n",
    "    \n",
    "    df = df.replace([np.inf, -np.inf], np.nan)  # Replace inf/-inf with NaN\n",
    "    df = df.fillna(df.mean())       \n",
    "    print(\"replace na\")\n",
    "    df.dropna(inplace=True)\n",
    "    df = df.select_dtypes(include=[np.number])\n",
    "    indices_to_keep = ~df.isin([np.nan, np.inf, -np.inf]).any(axis=1)\n",
    "    df = df[indices_to_keep]\n",
    "\n",
    "    for i in df.columns:\n",
    "        df = df[df[i] != \"Infinity\"]\n",
    "        df = df[df[i] != np.nan]\n",
    "        df = df[df[i] != np.inf]\n",
    "        df = df[df[i] != -np.inf]\n",
    "        df = df[df[i] != \",,\"]\n",
    "        df = df[df[i] != \", ,\"]\n",
    "        \n",
    "    # print(np.any(np.isnan(df)))\n",
    "    # print(np.any(np.isfinite(df)))    \n",
    "\n",
    "    return df\n",
    "\n",
    "def sample_df(curr_df, anomaly_rate):\n",
    "    num_benign = len(curr_df.loc[curr_df['Label'] == 0])\n",
    "    num_attack = len(curr_df) - num_benign\n",
    "    ratio = num_attack / num_benign\n",
    "    \n",
    "    if ratio > anomaly_rate:\n",
    "        sample = anomaly_rate * num_benign / num_attack\n",
    "        sampled_df = pd.concat([curr_df[curr_df['Label'] == 0], \n",
    "                                curr_df[curr_df['Label'] != 0].sample(frac=sample, random_state=42)]) \n",
    "    else:\n",
    "        \n",
    "        sample = (1/anomaly_rate) * num_attack / num_benign\n",
    "        sampled_df = pd.concat([curr_df[curr_df['Label'] != 0], \n",
    "                                curr_df[curr_df['Label'] == 0].sample(frac=sample, random_state=42)]) \n",
    "    \n",
    "    new_ratio = sampled_df.loc[sampled_df[\"Label\"] == \"0\"].shape[0] / sampled_df.loc[sampled_df[\"Label\"] != 0].shape[0]\n",
    "    \n",
    "    return sampled_df\n",
    "\n",
    "\n",
    "def read_csv(folder_names = ['dripper/', 'BENIGN/', 'bonesi/']):\n",
    "    full_df = pd.DataFrame()\n",
    "    dataset_csv_path = './Dataset/SimulatedCVE/cicflowmeter_cve/'\n",
    "    for folder in folder_names:\n",
    "\n",
    "        csv_file_names = os.listdir(\"Dataset/SimulatedCVE/cicflowmeter_cve/\" + folder)\n",
    "        complete_paths = []\n",
    "        for csv_file_name in csv_file_names:\n",
    "            complete_paths.append(os.path.join(dataset_csv_path+folder, csv_file_name))\n",
    "        print(complete_paths)\n",
    "        df = pd.concat(map(pd.read_csv, complete_paths), ignore_index = True)\n",
    "        if folder == 'training_data/gm/': #Avoid Dst IP and Src IP when loading from training folder\n",
    "            df = df[features[2:]].copy()\n",
    "        else:\n",
    "            df = df[features[2:]].copy()\n",
    "        print(folder[:-1])\n",
    "        df[\"Label\"] = folder[:-1]\n",
    "        df[\"Label\"] = df[\"Label\"].apply(lambda x: 0 if (x == \"BENIGN\" or x == 0) else 1)\n",
    "        full_df = pd.concat([full_df, df], axis=0, ignore_index=True)\n",
    "    label = full_df[\"Label\"]    \n",
    "    cleaned_df = full_df.drop(columns=[\"Label\"], inplace=False)\n",
    "    cleaned_df = clean_df(cleaned_df)\n",
    "    # Drop String Columns\n",
    "    cleaned_df[\"Label\"] = label\n",
    "    return cleaned_df\n",
    "  \n",
    "def validated_req_schema(flow_data):\n",
    "  df_pruned = flow_data[features]\n",
    "  return df_pruned  \n",
    "\n",
    "def get_optimal_threshold(precision, recall, thresholds):\n",
    "    with np.errstate(divide='ignore', invalid='ignore'):\n",
    "        f1_scores = 2 * (precision * recall) / (precision + recall)\n",
    "        f1_scores[np.isnan(f1_scores)] = 0  # Replace NaN values with 0    \n",
    "    optimal_idx = np.argmax(f1_scores)\n",
    "    optimal_threshold = thresholds[optimal_idx]\n",
    "    return optimal_threshold\n",
    "  \n",
    "def eval_accuracy(clf, X_test, y_test):\n",
    "    anomaly_scores = clf.decision_function(X_test.to_numpy())\n",
    "    fpr, tpr, _ = roc_curve(y_test, anomaly_scores)\n",
    "    precision, recall, thresholds = precision_recall_curve(y_test, anomaly_scores)\n",
    "    opt_threshold = get_optimal_threshold(precision, recall, thresholds)\n",
    "    pred = np.where(anomaly_scores > opt_threshold, 1,0)\n",
    "    f1 = f1_score(y_test, pred)\n",
    "    conf_matrix = confusion_matrix(y_test, pred)\n",
    "    print(f\"F1 Score: {f1:.4f}, Accuracy: {accuracy_score(pred, y_test):.4f}\")\n",
    "    print(conf_matrix)\n",
    "    return opt_threshold\n",
    "def get_avail_filename(folder,filename):\n",
    "    filenumber = 0\n",
    "    filepath = os.path.join(folder,f\"{filename}_{filenumber}.csv\")\n",
    "    while os.path.exists(filepath):\n",
    "        filenumber+=1\n",
    "        filepath = os.path.join(folder, f\"{filename}_{filenumber}.csv\")  \n",
    "    print(filepath)  \n",
    "    return filepath\n",
    "\n",
    "def load_data(train_folder,scaler=None):\n",
    "    full_df = read_csv(train_folder)\n",
    "    # validated_df = validated_req_schema(full_df)\n",
    "    label = full_df[\"Label\"].values\n",
    "    full_df.drop(columns=[\"Label\"], axis=1, inplace=True)\n",
    "    columns = full_df.columns\n",
    "    if scaler != None:\n",
    "        normalized_data = scaler.transform(full_df)\n",
    "        normalized_df = pd.DataFrame(normalized_data, columns = columns)\n",
    "    else:\n",
    "        normalized_df = full_df.copy()\n",
    "    X_train, X_test, y_train, y_test = train_test_split(normalized_df, label, shuffle=True, stratify=label,\n",
    "                                                        test_size=0.2, random_state=4022)\n",
    "    return X_train, X_test, y_train, y_test    \n",
    "\n",
    "    \n",
    "    \n",
    "class Global_Model():\n",
    "  def __init__(self, train_folder = ['dripper/', 'BENIGN/', 'bonesi/'], new_data_folder = [\"training_data/gm/\"]):\n",
    "    self.scaler = joblib.load('cic_scaler.joblib')\n",
    "    self.train_folder = train_folder\n",
    "    self.new_train_folder = new_data_folder\n",
    "    self.model, self.opt_threshold = self.load_model()\n",
    "    \n",
    "    \n",
    "  def load_data(self,scaler=None):\n",
    "    full_df = read_csv(self.train_folder)\n",
    "    print(\"Finish Reading Train_folder\")\n",
    "    new_train_df = read_csv(self.new_train_folder)\n",
    "    # validated_df = validated_req_schema(full_df)\n",
    "    sampled_df = sample_df(full_df,0.05) # !Shouldn't Sample when loading from ./training_data/\n",
    "    print(\"Before Merging\", sampled_df[\"Label\"].value_counts())\n",
    "    sampled_df = pd.concat([sampled_df, new_train_df], ignore_index=True)\n",
    "    label = sampled_df[\"Label\"].values\n",
    "    \n",
    "    print(\"After Merging\", sampled_df[\"Label\"].value_counts())\n",
    "    sampled_df.drop(columns=[\"Label\"], axis=1, inplace=True)\n",
    "    columns = sampled_df.columns\n",
    "    if scaler != None:\n",
    "        normalized_data = scaler.transform(sampled_df)\n",
    "        normalized_df = pd.DataFrame(normalized_data, columns = columns)\n",
    "    else:\n",
    "        normalized_df = sampled_df.copy()\n",
    "    X_train, X_test, y_train, y_test = train_test_split(normalized_df, label, shuffle=True, stratify=label,\n",
    "                                                        test_size=0.2, random_state=4022)\n",
    "    return X_train, X_test, y_train, y_test    \n",
    "    \n",
    "  def load_model(self): # Load the model through training since pytorch isn't supported\n",
    "    model = DeepSAD\n",
    "    clf = model(epochs=1, device='cpu')\n",
    "    X_train, X_test, y_train, y_test = self.load_data(self.scaler)\n",
    "    clf.fit(X_train.to_numpy()[:], y_train[:])\n",
    "    \n",
    "    opt_threshold = eval_accuracy(clf, X_test, y_test)\n",
    "    return clf, opt_threshold\n",
    "            \n",
    "      \n",
    "  def perform_inference(self, X):\n",
    "    X_scaled = self.scaler.transform(X) # ! Add Scaler\n",
    "    anomaly_scores = self.model.decision_function(X_scaled)\n",
    "    output = np.where(anomaly_scores > self.opt_threshold, 1,0)\n",
    "    print(np.unique(output)) \n",
    "    return output\n",
    "\n",
    "  def update_data(self,X, folder_names = None):\n",
    "    if folder_names == None: \n",
    "        folder_names = self.new_train_folder #\"gm_train_data\"\n",
    "    #Write a new CSV FIle\n",
    "    folder = self.train_folder[-1]\n",
    "    filename = get_avail_filename(folder, folder_names)\n",
    "    filepath = os.path.join(\"Dataset/SimulatedCVE/cicflowmeter_cve/\", filename)\n",
    "    X.to_csv(filepath, index=False)\n",
    "    print(f\"Added {filepath} as New GM Training Data\")\n",
    "    \n",
    "  def gm_select_data(self, data):\n",
    "    scaled_data = data[features[2:]]\n",
    "    scaled_data = self.scaler.transform(scaled_data)\n",
    "    scores = self.model.model.decision_function(scaled_data)\n",
    "    selected_idx = np.where(np.logical_and(scores > self.opt_threshold -2, scores < self.opt_threshold +1))\n",
    "    return data.iloc[selected_idx]\n",
    "      \n",
    "  def retrain_gm(self, X = pd.DataFrame()):\n",
    "    if not X.empty():\n",
    "        filtered_data = self.gm_select_data(X)\n",
    "        self.update_data(filtered_data)\n",
    "        # self.load_model() # ? Reload The Model\n",
    "    else:\n",
    "        print(\"No Training Data Added to GM\")\n",
    "  def compress_training_data(self):\n",
    "    pass\n",
    "\n",
    "class Local_Model():\n",
    "    def __init__(self, gm):\n",
    "        self.model = XGBClassifier(objective='binary:logistic')\n",
    "        self.train_folder = \"./Dataset/SimulatedCVE/cicflowmeter_cve/training_data/lm/\"\n",
    "        self.model_path = \"./cic_xgb.joblib\"\n",
    "        self.state = 0 #0: OFF, 1: ON, 2: HYBRID\n",
    "        self.scaler = joblib.load('./cic_scaler.joblib')\n",
    "        self.global_model = gm #Replace With HTTP API\n",
    "        self.load_model()\n",
    "    def load_model(self):\n",
    "        # self.model = joblib.load(self.model_path)\n",
    "        known_df = self.load_known_df()\n",
    "        y_known = known_df[\"Label\"]\n",
    "        X_known = known_df.drop(columns=[\"Label\"], inplace=False)\n",
    "        X_known = X_known[features[2:]]\n",
    "        X_known_scaled = self.scaler.transform(X_known)\n",
    "        self.model.fit(X_known_scaled, y_known)\n",
    "        \n",
    "    def load_known_df(self):\n",
    "        known_df = pd.DataFrame()\n",
    "        training_data_list = os.listdir(self.train_folder)\n",
    "        training_data_list.sort(reverse=True)\n",
    "        # known_df =  pd.read_csv(os.path.join(self.train_folder,training_data_list[0]))\n",
    "        # print(training_data_list[0])\n",
    "        if len(training_data_list) > 0:\n",
    "            print(training_data_list)\n",
    "            for training_data in training_data_list:\n",
    "                curr_df = pd.read_csv(os.path.join(self.train_folder,training_data))\n",
    "                known_df = pd.concat([known_df, curr_df], axis=0, ignore_index=True)      \n",
    "        # known_df.drop(columns=[\"Src IP\", \"Dst IP\"], inplace=True)\n",
    "        return known_df  \n",
    "                \n",
    "    def retrain_model(self, X_new, y_new=None, threshold = 0.2, update_gm = False): #Select Most Important Data and Upload Newly Recorded Data\n",
    "        # TODO: Use AL to Select Prerecorded Data\n",
    "        known_df = self.load_known_df()\n",
    "        filtered_new_data, informative_score_list, updated_model = self.select_data(known_df, X_new, threshold, y_new)\n",
    "        # labeled_new_data = self.upload_gm(filtered_new_data)\n",
    "        if update_gm:\n",
    "            filtered_new_data[\"Label\"] = 0\n",
    "            # self.global_model.update_data(filtered_new_data)\n",
    "        # TODO: After updating return the labels or recall the function\n",
    "        else:\n",
    "            self.append_training_data(filtered_new_data)\n",
    "            # Update the model        \n",
    "            self.model = updated_model # ! If update_gm, should replace the previous record for AL to work\n",
    "        return informative_score_list\n",
    "        \n",
    "    def upload_gm(self, X_query): \n",
    "        # X_query_scaled = self.scaler.transform(X_query)\n",
    "        pseudo_label = self.global_model.perform_inference(X_query)\n",
    "        X_query_df = pd.DataFrame(X_query, columns=features[2:])\n",
    "        X_query_df[\"Label\"] = pseudo_label\n",
    "        return pseudo_label\n",
    "    def select_data(self, known_df, X_new, threshold, y_new):\n",
    "        round = 10\n",
    "        informative_score_list = []\n",
    "        y_new = np.ones(X_new.shape[0]) * 2 if y_new is None else y_new\n",
    "        model = self.model\n",
    "        \n",
    "        X_known = known_df.drop(columns=[\"Label\"], inplace = False).copy()\n",
    "        y_known = known_df[\"Label\"]\n",
    "        # X_known.drop(columns=[\"Src IP\", \"Dst IP\"], inplace=True)\n",
    "        X = pd.concat([X_known, X_new], ignore_index=True)\n",
    "        y = np.concatenate([y_known, y_new]).astype(int)\n",
    "        print(y)\n",
    "        label_ind = np.arange(len(X_known))\n",
    "        print(\"Size of Label Index\", len(X_known))\n",
    "        unlab_ind = np.arange(len(X_known), len(X))\n",
    "\n",
    "        divided_arrays = np.array_split(unlab_ind, round)\n",
    "        \n",
    "        alibox_new = ToolBox(X=X, y=y, query_type='AllLabels', saving_path=None,) \n",
    "        alibox_new.split_AL(test_ratio=0.1, initial_label_rate=0.1, split_count=10)     \n",
    "        strategy_name = \"QueryInstanceUncertainty\"\n",
    "        strategy = alibox_new.get_query_strategy(strategy_name=strategy_name) #TODO Replace Alibox with a single function\n",
    "        for i in range(round):\n",
    "            batch_size = 10000 \n",
    "            print(f\"Round {i}\")\n",
    "            # Use AL to Select Data\n",
    "            select_ind, informative_score = strategy.select(label_index=label_ind, unlabel_index=divided_arrays[i], \n",
    "                                                            threshold=threshold, custom = True, model=model, batch_size=batch_size)\n",
    "            print(select_ind)\n",
    "            batch_size = min(batch_size, np.shape(select_ind)[0] ) #Limit up to 30 000 per query\n",
    "            print(batch_size)\n",
    "            # Upload Data to GM\n",
    "            idx_to_query = select_ind[:batch_size]\n",
    "            if len(idx_to_query) > 0:\n",
    "                if 2.0 in y_new: \n",
    "                    pseudo_labels = self.upload_gm(X.iloc[idx_to_query]) \n",
    "                    y[idx_to_query] = pseudo_labels \n",
    "                else: # ? Set GM to be 100% Accurate\n",
    "                    pseudo_labels = y[idx_to_query]\n",
    "                    # y[idx_to_query] = pseudo_labels\n",
    "                print(f\"New Label Counts: {Counter(y[select_ind[:batch_size]])}\")    \n",
    "                label_ind = np.concatenate([label_ind, select_ind[:batch_size]])# label_ind.update(select_ind)\n",
    "                mask = np.where(np.isin(unlab_ind, select_ind[:batch_size], invert=True)) # unlab_ind.difference_update(select_ind)\n",
    "                unlab_ind = unlab_ind[mask]\n",
    "                \n",
    "                print(f\"Added {batch_size} Shape of Label_ind: {np.shape(label_ind)}\")  \n",
    "                #Update The Model\n",
    "                X_scaled = self.scaler.transform(X.iloc[label_ind]) \n",
    "                print(\"Number of duplicates\", len(label_ind) - len(np.unique(label_ind)))\n",
    "                model = self.model\n",
    "                print(f\"np.unique: {np.unique(y[label_ind])}\")\n",
    "                model.fit(X=X_scaled, y=y[label_ind]) \n",
    "            else:\n",
    "                print(\"No Data Added\")\n",
    "            print(informative_score[:100])\n",
    "            informative_score_list.append(informative_score)\n",
    "        merged_train_df = pd.DataFrame(X.iloc[label_ind], columns = features[2:])\n",
    "        merged_train_df[\"Label\"] = y[label_ind]\n",
    "        new_train_df = merged_train_df.iloc[len(X_known):]\n",
    "        return new_train_df, informative_score_list, model\n",
    "        \n",
    "    def perform_inference(self, X):\n",
    "            X_scaled = self.scaler.transform(X) # ! Add Scaler\n",
    "            output = self.model.predict(X_scaled) \n",
    "            print(np.unique(output)) \n",
    "            return output\n",
    "    def append_training_data(self,new_train_df):\n",
    "        #Write a new CSV FIle\n",
    "        folder = self.train_folder\n",
    "        filepath = get_avail_filename(folder, \"lm_train_data\")\n",
    "        if not new_train_df.empty:\n",
    "            new_train_df.to_csv(filepath, index=False)\n",
    "            print(f\"Added {filepath} as New LM Training Data\")\n",
    "        else:\n",
    "            print(\"New LM Training Data is Empty.. Skip Recording\")\n",
    "    def compress_training_data(self):\n",
    "        pass\n"
   ]
  },
  {
   "cell_type": "code",
   "execution_count": 67,
   "metadata": {},
   "outputs": [
    {
     "data": {
      "text/plain": [
       "array([0, 1])"
      ]
     },
     "execution_count": 67,
     "metadata": {},
     "output_type": "execute_result"
    }
   ],
   "source": [
    "X_train, X_test, y_train, y_test = train_test_split(df.drop(['Label'],axis=1), df['Label'], test_size=.20, random_state=42)\n",
    "np.unique(y_train)"
   ]
  },
  {
   "cell_type": "code",
   "execution_count": 68,
   "metadata": {},
   "outputs": [
    {
     "name": "stdout",
     "output_type": "stream",
     "text": [
      "['./Dataset/SimulatedCVE/cicflowmeter_cve/dripper/merged_20240809091803_ISCX.csv', './Dataset/SimulatedCVE/cicflowmeter_cve/dripper/merged_20240809091912_ISCX.csv', './Dataset/SimulatedCVE/cicflowmeter_cve/dripper/merged_20240809091837_ISCX.csv', './Dataset/SimulatedCVE/cicflowmeter_cve/dripper/merged_20240809091950_ISCX.csv', './Dataset/SimulatedCVE/cicflowmeter_cve/dripper/merged_20240809092024_ISCX.csv']\n",
      "dripper\n",
      "['./Dataset/SimulatedCVE/cicflowmeter_cve/BENIGN/final_merged_1.csv', './Dataset/SimulatedCVE/cicflowmeter_cve/BENIGN/final_merged_2.csv', './Dataset/SimulatedCVE/cicflowmeter_cve/BENIGN/final_merged.csv']\n",
      "BENIGN\n",
      "['./Dataset/SimulatedCVE/cicflowmeter_cve/bonesi/gm_train_data_0.csv', './Dataset/SimulatedCVE/cicflowmeter_cve/bonesi/merged_20240813111613_ISCX.csv']\n",
      "bonesi\n",
      "dataset shape (404749, 61)\n",
      "838 rows dropped\n",
      "Index(['Flow Duration', 'Tot Fwd Pkts', 'Tot Bwd Pkts', 'TotLen Fwd Pkts',\n",
      "       'TotLen Bwd Pkts', 'Fwd Pkt Len Max', 'Fwd Pkt Len Min',\n",
      "       'Fwd Pkt Len Mean', 'Fwd Pkt Len Std', 'Bwd Pkt Len Max',\n",
      "       'Bwd Pkt Len Min', 'Bwd Pkt Len Mean', 'Bwd Pkt Len Std', 'Flow Byts/s',\n",
      "       'Flow Pkts/s', 'Flow IAT Mean', 'Flow IAT Std', 'Flow IAT Max',\n",
      "       'Flow IAT Min', 'Fwd IAT Tot', 'Fwd IAT Mean', 'Fwd IAT Std',\n",
      "       'Fwd IAT Max', 'Fwd IAT Min', 'Bwd IAT Tot', 'Bwd IAT Mean',\n",
      "       'Bwd IAT Std', 'Bwd IAT Max', 'Bwd IAT Min', 'Fwd PSH Flags',\n",
      "       'Fwd Header Len', 'Bwd Header Len', 'Fwd Pkts/s', 'Bwd Pkts/s',\n",
      "       'Pkt Len Min', 'Pkt Len Max', 'Pkt Len Mean', 'Pkt Len Std',\n",
      "       'Pkt Len Var', 'FIN Flag Cnt', 'PSH Flag Cnt', 'ACK Flag Cnt',\n",
      "       'URG Flag Cnt', 'Down/Up Ratio', 'Pkt Size Avg', 'Fwd Seg Size Avg',\n",
      "       'Bwd Seg Size Avg', 'Subflow Fwd Byts', 'Subflow Bwd Byts',\n",
      "       'Init Fwd Win Byts', 'Init Bwd Win Byts', 'Fwd Act Data Pkts',\n",
      "       'Fwd Seg Size Min', 'Active Mean', 'Active Std', 'Active Max',\n",
      "       'Active Min', 'Idle Mean', 'Idle Std', 'Idle Max', 'Idle Min'],\n",
      "      dtype='object')\n",
      "replace na\n",
      "Finish Reading Train_folder\n",
      "['./Dataset/SimulatedCVE/cicflowmeter_cve/training_data/gm/gm_train_data_1.csv', './Dataset/SimulatedCVE/cicflowmeter_cve/training_data/gm/gm_train_data_0.csv', './Dataset/SimulatedCVE/cicflowmeter_cve/training_data/gm/gm_train_data_3.csv', './Dataset/SimulatedCVE/cicflowmeter_cve/training_data/gm/gm_train_data_2.csv', './Dataset/SimulatedCVE/cicflowmeter_cve/training_data/gm/gm_train_data_4.csv']\n",
      "training_data/gm\n",
      "dataset shape (66, 61)\n",
      "0 rows dropped\n",
      "Index(['Flow Duration', 'Tot Fwd Pkts', 'Tot Bwd Pkts', 'TotLen Fwd Pkts',\n",
      "       'TotLen Bwd Pkts', 'Fwd Pkt Len Max', 'Fwd Pkt Len Min',\n",
      "       'Fwd Pkt Len Mean', 'Fwd Pkt Len Std', 'Bwd Pkt Len Max',\n",
      "       'Bwd Pkt Len Min', 'Bwd Pkt Len Mean', 'Bwd Pkt Len Std', 'Flow Byts/s',\n",
      "       'Flow Pkts/s', 'Flow IAT Mean', 'Flow IAT Std', 'Flow IAT Max',\n",
      "       'Flow IAT Min', 'Fwd IAT Tot', 'Fwd IAT Mean', 'Fwd IAT Std',\n",
      "       'Fwd IAT Max', 'Fwd IAT Min', 'Bwd IAT Tot', 'Bwd IAT Mean',\n",
      "       'Bwd IAT Std', 'Bwd IAT Max', 'Bwd IAT Min', 'Fwd PSH Flags',\n",
      "       'Fwd Header Len', 'Bwd Header Len', 'Fwd Pkts/s', 'Bwd Pkts/s',\n",
      "       'Pkt Len Min', 'Pkt Len Max', 'Pkt Len Mean', 'Pkt Len Std',\n",
      "       'Pkt Len Var', 'FIN Flag Cnt', 'PSH Flag Cnt', 'ACK Flag Cnt',\n",
      "       'URG Flag Cnt', 'Down/Up Ratio', 'Pkt Size Avg', 'Fwd Seg Size Avg',\n",
      "       'Bwd Seg Size Avg', 'Subflow Fwd Byts', 'Subflow Bwd Byts',\n",
      "       'Init Fwd Win Byts', 'Init Bwd Win Byts', 'Fwd Act Data Pkts',\n",
      "       'Fwd Seg Size Min', 'Active Mean', 'Active Std', 'Active Max',\n",
      "       'Active Min', 'Idle Mean', 'Idle Std', 'Idle Max', 'Idle Min'],\n",
      "      dtype='object')\n",
      "replace na\n",
      "Before Merging Label\n",
      "0    140074\n",
      "1      7004\n",
      "Name: count, dtype: int64\n",
      "After Merging Label\n",
      "0    140074\n",
      "1      7018\n",
      "Name: count, dtype: int64\n",
      "Start Training...\n",
      "ensemble size: 1\n",
      "training data counter: Counter({0: 112059, -1: 5614})\n",
      "MLPnet(\n",
      "  (network): Sequential(\n",
      "    (0): LinearBlock(\n",
      "      (linear): Linear(in_features=61, out_features=100, bias=False)\n",
      "      (act_layer): ReLU()\n",
      "    )\n",
      "    (1): LinearBlock(\n",
      "      (linear): Linear(in_features=100, out_features=50, bias=False)\n",
      "      (act_layer): ReLU()\n",
      "    )\n",
      "    (2): LinearBlock(\n",
      "      (linear): Linear(in_features=50, out_features=128, bias=False)\n",
      "      (act_layer): Identity()\n",
      "    )\n",
      "  )\n",
      ")\n",
      "epoch  1, training loss: 0.249665, time: 1.6s\n",
      "Start Inference on the training data...\n"
     ]
    },
    {
     "name": "stderr",
     "output_type": "stream",
     "text": [
      "testing: 100%|██████████| 1839/1839 [00:00<00:00, 3028.04it/s]\n",
      "testing: 100%|██████████| 460/460 [00:00<00:00, 3060.82it/s]"
     ]
    },
    {
     "name": "stdout",
     "output_type": "stream",
     "text": [
      "F1 Score: 0.9169, Accuracy: 0.9923\n",
      "[[27947    68]\n",
      " [  158  1246]]\n"
     ]
    },
    {
     "name": "stderr",
     "output_type": "stream",
     "text": [
      "\n"
     ]
    }
   ],
   "source": [
    "gm = Global_Model(['dripper/', 'BENIGN/', 'bonesi/'])"
   ]
  },
  {
   "cell_type": "code",
   "execution_count": 73,
   "metadata": {},
   "outputs": [
    {
     "name": "stdout",
     "output_type": "stream",
     "text": [
      "['lm_train_data_9.csv', 'lm_train_data_8.csv', 'lm_train_data_7.csv', 'lm_train_data_6.csv', 'lm_train_data_5.csv', 'lm_train_data_4.csv', 'lm_train_data_3.csv', 'lm_train_data_2.csv', 'lm_train_data_10.csv', 'lm_train_data_1.csv', 'lm_train_data_0.csv']\n"
     ]
    }
   ],
   "source": [
    "lm = Local_Model(gm)"
   ]
  },
  {
   "cell_type": "code",
   "execution_count": 74,
   "metadata": {},
   "outputs": [
    {
     "name": "stdout",
     "output_type": "stream",
     "text": [
      "['lm_train_data_9.csv', 'lm_train_data_8.csv', 'lm_train_data_7.csv', 'lm_train_data_6.csv', 'lm_train_data_5.csv', 'lm_train_data_4.csv', 'lm_train_data_3.csv', 'lm_train_data_2.csv', 'lm_train_data_10.csv', 'lm_train_data_1.csv', 'lm_train_data_0.csv']\n",
      "[0 0 0 ... 2 2 2]\n",
      "Size of Label Index 65174\n",
      "Round 0\n",
      "[71615 65316 70394 71969 71159 69659 67694 69831 68032 71884 76507 73486\n",
      " 66822 73533 70871 70427 70577 76125 73079 71900 70925 75039 67607 72117\n",
      " 71601 67701 66427 75837 69945 76432 65624 73346 68118 67305 71637 74944\n",
      " 69033 73754 74235 70747 70322 73266 72938 75630 70142 69305 74986 72994\n",
      " 71359 76234 67423 69502 73657 76627 75998 72139 73938 70905 71973 73165\n",
      " 72727 74066 65274 71634 65986 70018 69400 67083 68278 69641 70324 66032\n",
      " 75575 67861 71757 72533 65757 74572 76141 72573 65633 67685 72382 66576\n",
      " 66505 69821 72367 73878 74218 69863 70462 70445 72949 68819 66549 68768\n",
      " 68365 73201 75324 72649 67565 74650 69901 76716 74130 74688 73874 66682\n",
      " 74830 69639 70923 71011 75393 71086 67599 73214 67962 75444 69004 75574\n",
      " 71582 76504 69021 68040 73091 71578 72405 73537 74676 66012 74685 76332\n",
      " 75503 75648 65654 76559 66410 65931 65399 76449 70351 66590 70578 70609\n",
      " 70827 68787 76832 67978 72195 72375 72384 72501 74320 67923 67774 72611\n",
      " 67655 66640 73627 73545 73040 66863 76867 73451 73402 73378 74783 74991\n",
      " 76311 68732 75431 71470 76545 66706 75115 71942]\n",
      "176\n"
     ]
    },
    {
     "name": "stderr",
     "output_type": "stream",
     "text": [
      "testing: 100%|██████████| 3/3 [00:00<00:00, 1934.05it/s]\n"
     ]
    },
    {
     "name": "stdout",
     "output_type": "stream",
     "text": [
      "[0 1]\n",
      "New Label Counts: Counter({1: 145, 0: 31})\n",
      "Added 176 Shape of Label_ind: (65350,)\n",
      "Number of duplicates 0\n",
      "np.unique: [0 1]\n",
      "[0.01352701 0.01352701 0.04176125 0.04593332 0.01308998 0.04176125\n",
      " 0.01352701 0.04176125 0.04188381 0.00751151 0.01352701 0.00338946\n",
      " 0.03049837 0.01352701 0.00744516 0.03049837 0.01243617 0.03927273\n",
      " 0.00588182 0.01352701 0.04176125 0.01352701 0.04188381 0.04176125\n",
      " 0.00310724 0.01517378 0.04222343 0.04176125 0.04176125 0.01352701\n",
      " 0.01381723 0.04176125 0.04176125 0.04176125 0.01352701 0.04176125\n",
      " 0.03049837 0.01352701 0.01340145 0.01352701 0.01352701 0.04176125\n",
      " 0.01352701 0.01352701 0.04176125 0.04176125 0.01637505 0.01352701\n",
      " 0.04176125 0.01352701 0.04222343 0.01352701 0.04176125 0.00338946\n",
      " 0.00751151 0.04188381 0.01517378 0.04176125 0.04176125 0.04176125\n",
      " 0.01352701 0.04222343 0.01352701 0.0142067  0.04176125 0.04176125\n",
      " 0.04176125 0.04176125 0.01381723 0.04176125 0.04176125 0.04176125\n",
      " 0.04176125 0.04176125 0.01352701 0.01449641 0.00666782 0.04176125\n",
      " 0.04176125 0.01352701 0.01352701 0.01449641 0.01352701 0.04222343\n",
      " 0.04188381 0.04176125 0.0022368  0.04176125 0.00604568 0.01352701\n",
      " 0.01352701 0.04188381 0.04176125 0.01352701 0.04176125 0.04176125\n",
      " 0.01352701 0.04176125 0.01517378 0.04176125]\n",
      "Round 1\n",
      "[81639 81957 81765 ... 78158 78862 87543]\n",
      "2985\n"
     ]
    },
    {
     "name": "stderr",
     "output_type": "stream",
     "text": [
      "testing: 100%|██████████| 47/47 [00:00<00:00, 2761.19it/s]"
     ]
    },
    {
     "name": "stdout",
     "output_type": "stream",
     "text": [
      "[0 1]\n",
      "New Label Counts: Counter({0: 2965, 1: 20})\n",
      "Added 2985 Shape of Label_ind: (68335,)\n",
      "Number of duplicates 0\n",
      "np.unique: [0 1]\n"
     ]
    },
    {
     "name": "stderr",
     "output_type": "stream",
     "text": [
      "\n"
     ]
    },
    {
     "name": "stdout",
     "output_type": "stream",
     "text": [
      "[0.02263047 0.04137557 0.02263047 0.02263047 0.01808197 0.05025588\n",
      " 0.02263047 0.01808197 0.01808197 0.02243201 0.02263047 0.02263047\n",
      " 0.05025588 0.02558031 0.05025588 0.04260243 0.02263047 0.04291413\n",
      " 0.02263047 0.05466849 0.06028799 0.02263047 0.04137557 0.0198489\n",
      " 0.02263047 0.02263047 0.02263047 0.09906505 0.0448329  0.04137557\n",
      " 0.04137557 0.0448329  0.06028799 0.02263047 0.04137557 0.04137557\n",
      " 0.05025588 0.05025588 0.04291413 0.05025588 0.02263047 0.05025588\n",
      " 0.02263047 0.01547723 0.0448329  0.02263047 0.05025588 0.04137557\n",
      " 0.05025588 0.0198489  0.02263047 0.02263047 0.01892996 0.02263047\n",
      " 0.06028799 0.04137557 0.09906505 0.02263047 0.02243201 0.05025588\n",
      " 0.00426343 0.09906505 0.04137557 0.04291413 0.09906505 0.03868199\n",
      " 0.02243201 0.02263047 0.02243201 0.04137557 0.04137557 0.04077442\n",
      " 0.04260243 0.02263047 0.05025588 0.05025588 0.02263047 0.02263047\n",
      " 0.02263047 0.02263047 0.04137557 0.05025588 0.03469442 0.02263047\n",
      " 0.02263047 0.05025588 0.05025588 0.05025588 0.0448329  0.02879476\n",
      " 0.02243201 0.00134067 0.04862363 0.05025588 0.05025588 0.05939999\n",
      " 0.04291413 0.0448329  0.05025588 0.09906505]\n",
      "Round 2\n",
      "[ 94534  95044  95364  96635  95336  90386  89794  93223  93188  93118\n",
      "  92986  97008  97052  92590  92472  92433  92341  92057  96756  97718\n",
      "  91593  91316  99841  91024  98623  98699  90768  88749  89099 100371\n",
      "  95153  88849  94955  94836  94711  93444  96010  96011  89733  93599\n",
      "  96433  96176  96177  93753 100310  94378  95839  90000  96112  94175\n",
      "  89105  98528  89063  94903  92161  92192  88912  99769  98586  88835\n",
      "  91320  95136  91230  95295  90138  93574  91031  96329  90178  96180\n",
      "  95616  95610 100114  97275  88883  92578  89503  98880  92741  90490\n",
      "  96966  90388  92651  98878  93728  92168  95842  94503  91518  97782\n",
      "  98164  95993  92023  92029  91249  97534  91234  94631  94633  98367\n",
      "  98392  90174  98452  91592  89566  89945  93602  89986  89770  95143\n",
      "  93608  89833  93575  93175  93623  95117 100430  92110  97505  93816\n",
      "  97491  92146  92153  94222  92222  97389  93497  94159  96239  93428\n",
      "  94214  94162 100016  96465  96787  96314  88988  93758  96323  91660\n",
      "  97851  91731  91733  91760  97759  95939  97754  91791  91806  91905\n",
      " 100359  97664  91949  93762 100333  95253  92007  92064 100019  93415\n",
      "  96786  97001  92845  93275  93961  92888  93262  96753  96945  89178\n",
      "  93007  88960  89157  93025  93915  93066  96901  93087  96874 100212\n",
      "  96854  96217  96778  96935  97030  97040  92766  89033  92413  96067\n",
      "  89240  96076  94109  92501  93389  92548  92565  97209  93383 100139\n",
      "  97189  88951  96646  94067  94479  92714  96166  93851  96679  96737\n",
      "  92357  94066  97364  91580  90677  97999  94879  99384  99407  98752\n",
      "  90729  90807  95563  95108  98682  90860  89962 100391  95034  89506\n",
      "  90933  90977  91016  90656  95539  90028  98887  99244  90208  95449\n",
      "  90289  90311  99216  95092  95470  99136  99765  99124  94973  90400\n",
      "  88864  99016  94942  94928  90057  90047  95529  90367  95129  90891\n",
      "  88799  91294  95657  99665  95193  89392  98170  88898  89634  94553\n",
      "  95324  91410  91420  91426  91471  94520  98042  89615  98018  89611\n",
      "  91532  94546  91268  89665  99700  98330  89847  98289  89397  98203\n",
      "  88764  91246  99597  88818  89799  98201  93983  96118  98296  94522\n",
      "  96101  96512  96499  93844  95427  90270  93643  88943  89568  93189\n",
      "  99408  93198  90786  94434  97629  91380  97541  92557  96488  89085\n",
      "  90854  93312  91634  98848  99988  98793  98200  98404  95961  95827\n",
      "  95784  95726 100381  95671  96014  95881  95339  96015  95850  96028\n",
      "  96311  95702  95302  96184 100300  96193 100421  95454  95478  95479\n",
      "  96230 100258  95500  95510 100405  96108  95354  95559  95584  95347\n",
      "  96069  95625  95645  96065  96126  99692  96376  98926  98913  98873\n",
      "  98869  98818  99720  98732  98700  99742  98650  98598  98587  98540\n",
      "  99748  98462  98351  98335  98309  98259  98195  98180  99842  98166\n",
      "  98970  98981  98993  99022  99689  99679  99662  99624  99607  99576\n",
      "  99537  99523  99520  99466  99463  98156  99443  99379  99270  99255\n",
      "  99242  99223  99221  99196  99161  99086  99714  99025  99711  98118\n",
      "  98097  98095  97151  97116  97111  97086  97059 100188 100198  97004\n",
      "  96998  96968  96937  97164  96912  96850  96797 100224  96672  96588\n",
      " 100226  96484  96435 100228  96434 100238  96863  96326  97265  97315\n",
      "  98067  98015  98006  99907  97997  97915  97756  97731  99930  97689\n",
      "  97647  97280  97637  97598  97588  97544  97486  97439 100017  97428\n",
      "  97424  97405  97371  97331  97605  97615  94362  95279  91589  91513\n",
      "  91512  91480  91479  91464  91416  91405  91386  91379  91325  91314\n",
      "  91661  91302  91245  91236  91213  91189  91182  91160  91154  91107\n",
      "  91105  90931  90928  90924  91256  91705  91761  95282  92719  92691\n",
      "  92674  92648  92642  92572  92502  92490  92480  92471  92298  92278\n",
      "  92214  92207  92185  92142  92126  92072  92068  92039  92036  92021\n",
      "  91995  91965  91945  91922  91818  90876  90828  90779  90726  89680\n",
      "  89635  89622  89584  89553  89546  89516  89454  89422  89393  89308\n",
      "  89284  89262  89221  89211  89198  89163  89153  89014  89003  88978\n",
      "  88949  88946  88913  88886  88809  88806  89750  92772  89783  89871\n",
      "  90718  90709  90648  90639  90607  90565  90522  90500  90492  90456\n",
      "  90402  90373  90364  90352  90335  90318  90160  90121  90069  90066\n",
      "  90027  90020  89992  89984  89970  89960  89900  89825  92800  91780\n",
      "  92804  94135  94121  94120  94096  94081  94076  94047  93999  93942\n",
      "  93909  94282  93876  93840  93782  93735  93727  93716  93677  93630\n",
      "  93544  93489  93469  93863  94341  94351  94361  95236  95157  95110\n",
      "  95096  95080  95025  94961  94956  94911  94889  94835  94683  94665\n",
      "  94623  94611  94590  94589  94496  94475  94459  94447  94365 100460\n",
      "  93430  93405  94079 100467  93125  92958  93022  93183  93172  93024\n",
      "  93321  92922  93166  93331  93079  93257  92884  93165  93239  93375\n",
      "  92830  93145  93097  93398  92440  99273  89651  94637  94658  95885\n",
      "  99266  99265  89549  89547  94656  99275  95680  89994  93030  99336\n",
      "  94601  93098  89897  95826  92457  94560  95841  99433  99323  95821\n",
      "  89476  99730  97120  95049 100265  92652  92846 100320  88924 100350\n",
      "  88902  88899  95161  88878  95188  92829 100449  89022  92530  95006\n",
      "  92644  94788  94849  89403  95558  99852  89361  89346  99974  89345\n",
      "  92604  89299 100028  94919  94927 100147  95005  90132  97952  99226\n",
      "  98264  98277  91224  96279  93330  96227  93838  98347  98383  98391\n",
      "  91981  91091  98432  98445  93868  98220  98205  97704  91635  93408\n",
      "  91570  91563  97765  93505  97763  93600  96636  96378  96346  91784\n",
      "  91799  91272  96664  91085  95955  91071  90998  98955  98961  90532\n",
      "  94218  92160  96832  99062  96009  97426  90346  99183  97885  94421\n",
      "  90245  90184  91036  90535  98944  96767  90980  93937  91997  90857\n",
      "  98696  94071  90818  97516  95978  97015  90693  96094  90641  90624\n",
      "  92095  98736  96814  91719  97138]\n",
      "815\n"
     ]
    },
    {
     "name": "stderr",
     "output_type": "stream",
     "text": [
      "testing: 100%|██████████| 13/13 [00:00<00:00, 2738.90it/s]"
     ]
    },
    {
     "name": "stdout",
     "output_type": "stream",
     "text": [
      "[0 1]\n",
      "New Label Counts: Counter({0: 634, 1: 181})\n",
      "Added 815 Shape of Label_ind: (69150,)\n",
      "Number of duplicates 0\n",
      "np.unique: [0 1]\n"
     ]
    },
    {
     "name": "stderr",
     "output_type": "stream",
     "text": [
      "\n"
     ]
    },
    {
     "name": "stdout",
     "output_type": "stream",
     "text": [
      "[0.00448841 0.00448841 0.00448841 0.026884   0.01254251 0.02647085\n",
      " 0.00448841 0.02647085 0.00448841 0.02647085 0.00448841 0.01254251\n",
      " 0.00448841 0.01254251 0.00448841 0.02647085 0.02647085 0.00448841\n",
      " 0.00448841 0.02647085 0.01440607 0.00448841 0.00053623 0.00448841\n",
      " 0.01254251 0.02647085 0.02647085 0.01346225 0.01254251 0.00448841\n",
      " 0.02647085 0.00448841 0.00448841 0.02647085 0.00448841 0.05416325\n",
      " 0.02647085 0.02647085 0.00448841 0.01254251 0.03131746 0.01254251\n",
      " 0.02647085 0.00448841 0.02647085 0.00448841 0.01254251 0.00448841\n",
      " 0.00448841 0.02730361 0.07233594 0.02647085 0.00478833 0.01440607\n",
      " 0.00448841 0.00448841 0.02647085 0.00448841 0.00118393 0.01440607\n",
      " 0.02647085 0.02647085 0.02647085 0.02647085 0.02647085 0.00671208\n",
      " 0.00092377 0.02730361 0.02647085 0.01254251 0.02647085 0.02647085\n",
      " 0.00448841 0.03131746 0.00777621 0.00448841 0.00448841 0.00658491\n",
      " 0.02647085 0.00448841 0.01107036 0.00448841 0.02647085 0.03131746\n",
      " 0.02647085 0.07233594 0.02647085 0.00448841 0.00448841 0.02440757\n",
      " 0.02647085 0.00448841 0.08236543 0.02647085 0.02647085 0.08236543\n",
      " 0.00448841 0.00448841 0.00448841 0.02647085]\n",
      "Round 3\n",
      "[102865 105328 107247 ... 111502 106448 108454]\n",
      "4519\n"
     ]
    },
    {
     "name": "stderr",
     "output_type": "stream",
     "text": [
      "testing: 100%|██████████| 71/71 [00:00<00:00, 2958.37it/s]"
     ]
    },
    {
     "name": "stdout",
     "output_type": "stream",
     "text": [
      "[0 1]\n",
      "New Label Counts: Counter({0: 4455, 1: 64})\n",
      "Added 4519 Shape of Label_ind: (73669,)\n",
      "Number of duplicates 0\n",
      "np.unique: [0 1]\n"
     ]
    },
    {
     "name": "stderr",
     "output_type": "stream",
     "text": [
      "\n"
     ]
    },
    {
     "name": "stdout",
     "output_type": "stream",
     "text": [
      "[0.03381864 0.0852875  0.0852875  0.0852875  0.0852875  0.02528851\n",
      " 0.02140466 0.0852875  0.0852875  0.02549068 0.06187839 0.01797269\n",
      " 0.0852875  0.0393448  0.0852875  0.16270491 0.0852875  0.00544694\n",
      " 0.02528851 0.01782837 0.0852875  0.02528851 0.0852875  0.01797269\n",
      " 0.0852875  0.01644584 0.01277189 0.0852875  0.01797269 0.02528851\n",
      " 0.01797269 0.0241828  0.03381864 0.0852875  0.01797269 0.0852875\n",
      " 0.00934113 0.02528851 0.0852875  0.02528851 0.0852875  0.06187839\n",
      " 0.16270491 0.0852875  0.01782837 0.02549068 0.02549068 0.03381864\n",
      " 0.02549068 0.0852875  0.0852875  0.0852875  0.02528851 0.01277189\n",
      " 0.02528851 0.02528851 0.01782837 0.01277189 0.02549068 0.0852875\n",
      " 0.03381864 0.01797269 0.01378307 0.0852875  0.04756025 0.01644584\n",
      " 0.04635751 0.05211888 0.0852875  0.0852875  0.0852875  0.0852875\n",
      " 0.02528851 0.0852875  0.16270491 0.0852875  0.02549068 0.01797269\n",
      " 0.01451627 0.01277189 0.0852875  0.0852875  0.0241828  0.01277189\n",
      " 0.02528851 0.01592428 0.02549068 0.03381864 0.0241828  0.01782837\n",
      " 0.0852875  0.0852875  0.0852875  0.03381864 0.0852875  0.16270491\n",
      " 0.02033188 0.01782837 0.0852875  0.03381864]\n",
      "Round 4\n",
      "[112325 116432 116728 117626 118198 118406 118439 119082 119214 119476\n",
      " 120090 120244 120882 121151 121642 121917 122218 123029 123471 123551\n",
      " 116169 115786 123980 114286 114232 113049 114143 115677 115175 114026\n",
      " 115524 115123 120412 113987 115816 113241 121963 113058 123274 123456\n",
      " 112508 113333 121951 114928 118951 115943 116052 116154 115673 115728\n",
      " 116891 123630 117813 115429 118417 117542 115158 115936 116566 115489\n",
      " 122632 113184]\n",
      "62\n"
     ]
    },
    {
     "name": "stderr",
     "output_type": "stream",
     "text": [
      "testing: 100%|██████████| 1/1 [00:00<00:00, 1036.91it/s]"
     ]
    },
    {
     "name": "stdout",
     "output_type": "stream",
     "text": [
      "[1]\n",
      "New Label Counts: Counter({1: 62})\n",
      "Added 62 Shape of Label_ind: (73731,)\n",
      "Number of duplicates 0\n",
      "np.unique: [0 1]\n"
     ]
    },
    {
     "name": "stderr",
     "output_type": "stream",
     "text": [
      "\n"
     ]
    },
    {
     "name": "stdout",
     "output_type": "stream",
     "text": [
      "[0.00300394 0.00310024 0.01218905 0.01218905 0.00266057 0.00266057\n",
      " 0.00223355 0.00154753 0.01218905 0.01471315 0.00230413 0.00210597\n",
      " 0.00300394 0.01218905 0.00266057 0.00210597 0.01218905 0.01218905\n",
      " 0.00223355 0.00767863 0.00266057 0.00223355 0.00210597 0.01218905\n",
      " 0.00300394 0.00300394 0.00300394 0.00223355 0.01218905 0.00535548\n",
      " 0.00300394 0.00247132 0.01218905 0.00223355 0.01218905 0.00266057\n",
      " 0.00223355 0.01196271 0.00223355 0.00204974 0.00132138 0.00266057\n",
      " 0.01218905 0.00300394 0.00223355 0.00731497 0.00266057 0.00128262\n",
      " 0.00266057 0.01218905 0.00230413 0.00154753 0.01218905 0.01218905\n",
      " 0.00181725 0.00731497 0.00300394 0.00223355 0.00042869 0.01218905\n",
      " 0.00266057 0.00535548 0.00210597 0.00254565 0.00230413 0.01218905\n",
      " 0.00210007 0.00132138 0.01218905 0.02147345 0.01218905 0.06655453\n",
      " 0.0009692  0.00210597 0.00300394 0.00223355 0.00535548 0.01218905\n",
      " 0.00247132 0.00223355 0.00223355 0.00731497 0.00535548 0.01218905\n",
      " 0.00216072 0.00027868 0.00210597 0.01218905 0.00266057 0.00266057\n",
      " 0.00535548 0.00300394 0.01218905 0.02147345 0.01218905 0.00154753\n",
      " 0.01218905 0.00266057 0.01218905 0.00223355]\n",
      "Round 5\n",
      "[126668 126874 127524 129361 129155 125789 135782 132223 130134 134946\n",
      " 128023 126904 125469 126456 130122 134814 127793 134856 127560 131895\n",
      " 130023 132785 129145 127977 134619 133243 124035 132700 130956 124217\n",
      " 128878 125491 129323 124446 134526 129596 131756 130112 133037 128009\n",
      " 126223 132613 127045 132461 126578 127572 132117 131336 127117 130059\n",
      " 129770 128424 126965 129397 125266 135578 134378 129660 133580 133667\n",
      " 130601 134629 126783 131447 133898 124301 133407 133666 128796 125446\n",
      " 135319 129820 134087 131732 125412 128674 133929 126807 127479 134233\n",
      " 125499 125779 125901 133263 129077 130651 128673 134891 134778 124040\n",
      " 130736 132980 135015 134308 126589 125304 128898 131746 127441 125109\n",
      " 134357 129131 132954 124229 134067 128269 126993 128190 125578 130743\n",
      " 124883 124336 131910 135121 128421 132855 129849 125299 133838 127794\n",
      " 132847 124452 135432 125231 129946 135164 131967 125822 125750 127022\n",
      " 134513 133341 130461 133585 125897 126129 129580 128093 132622 128065\n",
      " 134031 131966 129192 131664 131654 131988 130177 131356 131221 131037\n",
      " 130880 132901 132036 129745 130940 129355 134707 133609 133190 133083\n",
      " 132972 130250 132195 131058 134577 131799 131844 129727 132163 135785\n",
      " 127669 126734 126751 126479 126146 126111 127384 125511 127868 127959\n",
      " 124273 124097 126494 124090 126144 135218 132251 132046 135577 127035\n",
      " 125096 125089 132467 129019 131322 135554 127332 127315 131484 129493\n",
      " 133211 126717 127235 135728 132371 131728 127146 132302 127080 131204\n",
      " 126201 132010 131868 131881 126992 126407 135630 126186 131166 129263\n",
      " 131154 129715 135145 124265 128562 128492 134730 128406 128405 128359\n",
      " 134637 134456 128089 125200 135360 130792 130587 130812 134265 130892\n",
      " 133906 133910 135366 124080 132224 124179 134972 125572 134926 134901\n",
      " 132331 125775 126112 126285 125481 125909 134661 125352 126002 133245\n",
      " 133832 124044 133767 132468 129791 127685 130974 127515 127500 127849\n",
      " 127990 128115 128135 131449 128587 131661 128856 128949 131597 131925\n",
      " 129208 132027 126983 131949 124411 131156 131214 134315 135571 127056\n",
      " 134128 126447 130970 129499 133697 134062 125361 135343 133173 126890\n",
      " 126132 135050 133988 127848 134854 125788 127162 129349 133763 135602\n",
      " 127260 125332 124616 126676 126702 133825 124613 134668 125914 126124\n",
      " 129547 125501 129927 135077 130436 129418 132199 129025 131448 135397\n",
      " 124184 134542 131370 126170 128839 135610 129062 130537 129399 126142\n",
      " 129210 135069 126252 126953 129766 132813 131911 135096 131681 128427\n",
      " 129909 131347 134203 134234 134249 133598 125101 133503 125005 124682\n",
      " 124681 125311 125946 125954 128385 130079 124544 134787 134795 131649\n",
      " 134006 124271 128829 129098]\n",
      "374\n"
     ]
    },
    {
     "name": "stderr",
     "output_type": "stream",
     "text": [
      "testing: 100%|██████████| 6/6 [00:00<00:00, 2506.56it/s]"
     ]
    },
    {
     "name": "stdout",
     "output_type": "stream",
     "text": [
      "[0 1]\n",
      "New Label Counts: Counter({0: 237, 1: 137})\n",
      "Added 374 Shape of Label_ind: (74105,)\n",
      "Number of duplicates 0\n",
      "np.unique: [0 1]\n"
     ]
    },
    {
     "name": "stderr",
     "output_type": "stream",
     "text": [
      "\n"
     ]
    },
    {
     "name": "stdout",
     "output_type": "stream",
     "text": [
      "[0.0132031  0.04114046 0.04215412 0.00042098 0.03370154 0.02564129\n",
      " 0.02542616 0.02935745 0.02935745 0.02935745 0.0132031  0.05640863\n",
      " 0.0420924  0.02935745 0.02564129 0.02564129 0.06525822 0.02616948\n",
      " 0.00777523 0.00607944 0.11308926 0.04114046 0.02564129 0.01062513\n",
      " 0.04676628 0.01062513 0.02616948 0.01062513 0.02564129 0.02935745\n",
      " 0.02935745 0.02564129 0.02935745 0.02564129 0.0132031  0.0132031\n",
      " 0.02564129 0.01184368 0.0132031  0.0132031  0.00454629 0.04114046\n",
      " 0.01627769 0.02564129 0.0132031  0.02935745 0.01184368 0.02935745\n",
      " 0.01062513 0.02564129 0.02564129 0.0132031  0.0132031  0.04114046\n",
      " 0.0132031  0.02935745 0.11308926 0.01627769 0.00969266 0.0132031\n",
      " 0.0132031  0.0132031  0.0132031  0.02564129 0.0132031  0.04215412\n",
      " 0.08657213 0.02564129 0.0132031  0.0132031  0.03745885 0.01062513\n",
      " 0.0132031  0.08657213 0.04215412 0.00969266 0.02935745 0.0132031\n",
      " 0.00969266 0.0132031  0.02935745 0.02935745 0.0132031  0.0132031\n",
      " 0.02935745 0.01062513 0.0132031  0.02564129 0.0132031  0.03478653\n",
      " 0.0132031  0.0132031  0.02935745 0.02564129 0.0132031  0.0132031\n",
      " 0.0132031  0.01071811 0.00969266 0.0132031 ]\n",
      "Round 6\n",
      "[137775 139948 139471 137507 136232 147061 137605 139577 139792 141988\n",
      " 145304 138447 145286 145255 145222 138582 145136 138423 145121 145118\n",
      " 138658 143399 138682 138697 140829 140816 138769 138848 144931 145170\n",
      " 138415 145402 143084 145677 137829 137834 145629 143008 145553 141036\n",
      " 141026 138059 138070 138078 143989 138102 145520 138230 138252 138260\n",
      " 145506 145442 145419 138859 145327 143456 140753 144869 139679 143819\n",
      " 144303 140437 140434 139812 140432 144234 139839 143822 144194 139884\n",
      " 144161 139907 144149 140209 140046 140208 140073 143883 143954 144470\n",
      " 138911 140548 139551 138963 143516 140732 139083 140714 143552 143578\n",
      " 139165 143596 139172 144708 143598 139279 143644 139299 144611 139415\n",
      " 144534 139464 144508 139514 139554 142988 138079 142987 142102 136589\n",
      " 146827 142182 142242 146734 146690 142299 136802 146681 142341 136851\n",
      " 141058 141534 147532 142421 136971 146427 137094 146868 141683 136470\n",
      " 136456 142008 141896 147380 142028 141838 135960 147259 147255 147250\n",
      " 146364 141824 147157 136291 142073 147103 141764 136415 146962 141757\n",
      " 136451 136125 137230 140142 146320 137348 137357 142763 137414 146150\n",
      " 146146 137521 142826 145945 137563 145944 142930 137623 145897 145890\n",
      " 137710 142943 145746 142969 142719 137304 142824 141336 142690 141315\n",
      " 144254 142053 144380 141168 140601 138002 137485 144512 144111 139969\n",
      " 139724 138347 144868 139153 147384 137812 138256 137189 138760 143606\n",
      " 143476 145524 143556 142661 142019 143920 143896 143080 142048 142042\n",
      " 142534 143852 142010 143830 143418 142610 142931 143068 142620 142691\n",
      " 143453 142355 142375 142335 142721 142409 143113 143328 142284 143607\n",
      " 143096 142231 142439 142165 143703 143330 143385 142087 142443 143715\n",
      " 143734 143762 142828 142831 143160 143795 142446 143549 141508 143995\n",
      " 146606 146601 146575 146503 146395 146393 146390 146361 146334 146297\n",
      " 146292 146266 146264 146258 146234 146171 146121 146099 146074 145977\n",
      " 145958 145905 145861 146634 146643 146645 146655 147494 147399 147391\n",
      " 147377 147360 147347 147274 147224 147200 147155 147126 145811 147071\n",
      " 146926 146862 146859 146852 146805 146765 146759 146693 146689 146670\n",
      " 146662 146944 143992 145734 145731 144719 144691 144671 144670 144645\n",
      " 144541 144506 144492 144488 144482 144474 144342 144328 144298 144248\n",
      " 144239 144218 144203 144114 144105 144102 144101 144078 144753 144777\n",
      " 144786 144788 145694 145565 145542 145529 145526 145525 145392 145354\n",
      " 145316 145274 145242 145732 145226 145034 145019 145001 144975 144942\n",
      " 144899 144897 144837 144827 144801 141993 145127 144800 147534 141939\n",
      " 137784 137072 136896 137790 139706 139700 137848 137851 139683 137976\n",
      " 139612 136481 139576 139563 139542 139532 137982 139443 139433 136427\n",
      " 139833 139849 137783 140190 140184 137624 140162 140116 137665 140101\n",
      " 136369 137678 139350 140077 136398 139967 137738 139915 139902 139876\n",
      " 136421 137750 139869 140070 140195 136485 139236 138656 138618 138617\n",
      " 136745 138274 136782 136813 138562 138560 138553 138503 138499 138498\n",
      " 136845 138396 138352 138345 136855 138314 136708 138704 138200 138724\n",
      " 139229 139181 139177 139170 139164 136637 139103 138016 138988 136506\n",
      " 138977 136662 138966 136702 138901 138886 138849 138062 138160 138731\n",
      " 138974 138288 137607 140378 141485 135886 135889 141445 135903 141432\n",
      " 141410 137184 141325 141277 141257 141248 137217 135911 137235 141226\n",
      " 137248 135930 136036 141492 141503 141539 141548 141938 137143 141911\n",
      " 135842 141889 141874 141868 141797 141772 136050 141766 141634 135883\n",
      " 141618 141616 141581 141562 137059 137044 141557 135857 140364 137290\n",
      " 141158 140775 137531 136948 136315 140704 140696 137545 140690 140679\n",
      " 141166 137571 140633 140623 140614 136352 140596 140560 140515 136918\n",
      " 136359 140665 140837 140785 140894 141146 136095 141135 136962 141089\n",
      " 141056 141049 140858 137351 141011 137400 140966 137416 140936 137419\n",
      " 137528 140907 140980 136867 145489 146068 137257 136889 146088 139752\n",
      " 146406 143073 136189 140761 140746 143522 143576 145451 143807 147080\n",
      " 143932 140096 139924 142877 140969 144202 139496 136771 145002 144958\n",
      " 138813 139098 141918 144208 140957 142762 146928 144296 135926 144435\n",
      " 141560 142978 141375 142889 146583 137249 145269 137460 140897 137557\n",
      " 140109 145803 137751 139693 144343 143279 140678 139463 139761 137792\n",
      " 147314 142334 135822 145908 144198 135969 137540 141941 138968 141229\n",
      " 141449 137162 141434 145203 144653 136508 138944 147282 138599 139989\n",
      " 142881 147115 144027 138425 147306 143310 136140 142014 142944 142878\n",
      " 141625 141477 141235 141220 141195 147429 140735 137179 140461 137328\n",
      " 146255 145721 138004 138281 138321 136832 140604 145191 136739 136723\n",
      " 138664 139284 139589 139738 139818 140276 138594 139123 141650]\n",
      "659\n"
     ]
    },
    {
     "name": "stderr",
     "output_type": "stream",
     "text": [
      "testing: 100%|██████████| 11/11 [00:00<00:00, 2804.36it/s]"
     ]
    },
    {
     "name": "stdout",
     "output_type": "stream",
     "text": [
      "[0 1]\n",
      "New Label Counts: Counter({0: 613, 1: 46})\n",
      "Added 659 Shape of Label_ind: (74764,)\n",
      "Number of duplicates 0\n",
      "np.unique: [0 1]\n"
     ]
    },
    {
     "name": "stderr",
     "output_type": "stream",
     "text": [
      "\n"
     ]
    },
    {
     "name": "stdout",
     "output_type": "stream",
     "text": [
      "[0.00894678 0.01327219 0.00894678 0.01794806 0.00894678 0.00894678\n",
      " 0.01931696 0.03319716 0.01794806 0.00894678 0.04181398 0.00894678\n",
      " 0.02264381 0.00894678 0.01931696 0.01489078 0.01794806 0.03073763\n",
      " 0.00204782 0.01931696 0.02308925 0.01751312 0.02308925 0.01931696\n",
      " 0.01931696 0.00894678 0.00204782 0.01931696 0.06908254 0.02308925\n",
      " 0.00894678 0.02308925 0.04763771 0.01931696 0.01931696 0.02095432\n",
      " 0.00894678 0.02308925 0.02308925 0.02111411 0.01179184 0.04181398\n",
      " 0.03331279 0.00201586 0.03993773 0.00204782 0.02146248 0.01931696\n",
      " 0.06155041 0.00894678 0.00894678 0.02308925 0.00894678 0.03397447\n",
      " 0.00204782 0.01931696 0.01794806 0.01931696 0.03319716 0.02308925\n",
      " 0.01931696 0.01931696 0.01794806 0.06155041 0.03319716 0.00894678\n",
      " 0.03073763 0.00894678 0.01489078 0.01794806 0.02308925 0.01931696\n",
      " 0.02308925 0.00894678 0.01244055 0.01327219 0.00894678 0.01931696\n",
      " 0.01794806 0.01931696 0.04181398 0.01931696 0.00894678 0.00894678\n",
      " 0.00894678 0.02146248 0.00894678 0.01931696 0.04895495 0.06155041\n",
      " 0.04181398 0.01327219 0.06155041 0.00894678 0.01489078 0.06155041\n",
      " 0.00894678 0.00204782 0.00894678 0.01931696]\n",
      "Round 7\n",
      "[148258 155649 156900 ... 156346 154592 147563]\n",
      "10000\n"
     ]
    },
    {
     "name": "stderr",
     "output_type": "stream",
     "text": [
      "testing: 100%|██████████| 157/157 [00:00<00:00, 3110.37it/s]"
     ]
    },
    {
     "name": "stdout",
     "output_type": "stream",
     "text": [
      "[0 1]\n",
      "New Label Counts: Counter({0: 9716, 1: 284})\n",
      "Added 10000 Shape of Label_ind: (84764,)\n",
      "Number of duplicates 0\n",
      "np.unique: [0 1]\n"
     ]
    },
    {
     "name": "stderr",
     "output_type": "stream",
     "text": [
      "\n"
     ]
    },
    {
     "name": "stdout",
     "output_type": "stream",
     "text": [
      "[0.5951524  0.11287679 0.35313484 0.13455552 0.00651925 0.10370906\n",
      " 0.09676469 0.13455552 0.35313484 0.11287679 0.35313484 0.09491832\n",
      " 0.13455552 0.01148057 0.20545489 0.3127398  0.35015392 0.11287679\n",
      " 0.35015392 0.09882327 0.17327386 0.3178432  0.13455552 0.20545489\n",
      " 0.35015392 0.13455552 0.13455552 0.3178432  0.13455552 0.13455552\n",
      " 0.35015392 0.13455552 0.3178432  0.20545489 0.3178432  0.13455552\n",
      " 0.3178432  0.3178432  0.3178432  0.3178432  0.13455552 0.3178432\n",
      " 0.13455552 0.09491832 0.35015392 0.13455552 0.3178432  0.3178432\n",
      " 0.35015392 0.01148057 0.3178432  0.00153753 0.4259162  0.13455552\n",
      " 0.3178432  0.01813407 0.3178432  0.3178432  0.13455552 0.13455552\n",
      " 0.13455552 0.01148057 0.13455552 0.13455552 0.13455552 0.3178432\n",
      " 0.3178432  0.13455552 0.08667426 0.35015392 0.13455552 0.13455552\n",
      " 0.35313484 0.35015392 0.3178432  0.13455552 0.13455552 0.13455552\n",
      " 0.3178432  0.19388548 0.13125327 0.5215944  0.0062482  0.3178432\n",
      " 0.13455552 0.35015392 0.13455552 0.13455552 0.35015392 0.13455552\n",
      " 0.13455552 0.06259033 0.04075276 0.09676469 0.13455552 0.35015392\n",
      " 0.13455552 0.13455552 0.00651925 0.13455552]\n",
      "Round 8\n",
      "[159810 170524 169708 165976 170805 163902 165652 163105 162396 163781\n",
      " 171042 163634 164409 165709 160583 169810 160188 165534 165948 170579\n",
      " 166793 170580]\n",
      "22\n"
     ]
    },
    {
     "name": "stderr",
     "output_type": "stream",
     "text": [
      "testing: 100%|██████████| 1/1 [00:00<00:00, 1415.08it/s]"
     ]
    },
    {
     "name": "stdout",
     "output_type": "stream",
     "text": [
      "[0 1]\n",
      "New Label Counts: Counter({1: 20, 0: 2})\n",
      "Added 22 Shape of Label_ind: (84786,)\n",
      "Number of duplicates 0\n",
      "np.unique: [0 1]\n"
     ]
    },
    {
     "name": "stderr",
     "output_type": "stream",
     "text": [
      "\n"
     ]
    },
    {
     "name": "stdout",
     "output_type": "stream",
     "text": [
      "[0.00466831 0.00052372 0.00128506 0.00606421 0.01974071 0.00466831\n",
      " 0.00512284 0.00763605 0.00466831 0.00128506 0.00466831 0.00466831\n",
      " 0.0017925  0.00466831 0.00466831 0.00216127 0.00128506 0.00217024\n",
      " 0.03552288 0.00129    0.03071145 0.00129    0.00217024 0.01192537\n",
      " 0.0008028  0.00466831 0.00153849 0.00616125 0.00129    0.00621436\n",
      " 0.00466831 0.00128506 0.00052372 0.00128506 0.00216127 0.00466831\n",
      " 0.00128506 0.00466831 0.00129    0.00128506 0.00466831 0.00466831\n",
      " 0.00466831 0.00466831 0.00466831 0.00466831 0.00466831 0.00129\n",
      " 0.00129    0.00128506 0.00218927 0.00606421 0.00126333 0.00466831\n",
      " 0.00466831 0.00466831 0.00466831 0.00129    0.00128506 0.00176044\n",
      " 0.00466831 0.00217024 0.00466831 0.00129    0.00129    0.00052372\n",
      " 0.00616125 0.00218927 0.00466831 0.00466831 0.0003661  0.00129\n",
      " 0.00466831 0.00621436 0.00466831 0.00466831 0.00176044 0.00129\n",
      " 0.00466831 0.00466831 0.02891496 0.00128506 0.00466831 0.00128506\n",
      " 0.00128506 0.00466831 0.00176044 0.00466831 0.00216127 0.00128506\n",
      " 0.00466831 0.00124422 0.0008028  0.00129    0.00466831 0.00128506\n",
      " 0.00466831 0.00621436 0.00466831 0.0008028 ]\n",
      "Round 9\n",
      "[182451]\n",
      "1\n"
     ]
    },
    {
     "name": "stderr",
     "output_type": "stream",
     "text": [
      "testing: 100%|██████████| 1/1 [00:00<00:00, 1659.80it/s]"
     ]
    },
    {
     "name": "stdout",
     "output_type": "stream",
     "text": [
      "[1]\n",
      "New Label Counts: Counter({1: 1})\n",
      "Added 1 Shape of Label_ind: (84787,)\n",
      "Number of duplicates 0\n",
      "np.unique: [0 1]\n"
     ]
    },
    {
     "name": "stderr",
     "output_type": "stream",
     "text": [
      "\n"
     ]
    },
    {
     "name": "stdout",
     "output_type": "stream",
     "text": [
      "[8.86666458e-05 2.13304861e-03 6.57510245e-04 8.60071275e-03\n",
      " 2.13304861e-03 1.31455646e-03 8.86666458e-05 2.13304861e-03\n",
      " 3.15591670e-03 2.13304861e-03 3.15591670e-03 4.52484295e-04\n",
      " 3.15591670e-03 2.13304861e-03 2.08546384e-03 3.15591670e-03\n",
      " 3.15591670e-03 3.15591670e-03 3.15591670e-03 4.92949644e-03\n",
      " 2.13304861e-03 2.08546384e-03 1.31455646e-03 3.15591670e-03\n",
      " 3.15591670e-03 2.80843291e-04 1.31455646e-03 3.15591670e-03\n",
      " 4.52484295e-04 3.15591670e-03 4.52484295e-04 2.08546384e-03\n",
      " 3.15591670e-03 3.15591670e-03 8.86666458e-05 8.86666458e-05\n",
      " 3.15591670e-03 2.08546384e-03 3.15591670e-03 3.15591670e-03\n",
      " 2.13304861e-03 2.08546384e-03 2.08546384e-03 1.01938576e-03\n",
      " 3.15591670e-03 2.13304861e-03 3.47281503e-03 2.13304861e-03\n",
      " 3.15591670e-03 1.11510286e-04 3.15591670e-03 1.42988400e-03\n",
      " 3.15591670e-03 2.13304861e-03 3.15591670e-03 3.15591670e-03\n",
      " 3.15591670e-03 3.15591670e-03 3.15591670e-03 1.31455646e-03\n",
      " 1.62622324e-04 2.08546384e-03 4.52484295e-04 5.02889510e-03\n",
      " 3.15591670e-03 2.13304861e-03 2.13304861e-03 5.02889510e-03\n",
      " 2.13304861e-03 1.81367749e-03 1.21298083e-03 1.81367749e-03\n",
      " 2.13304861e-03 3.15591670e-03 8.86666458e-05 2.13304861e-03\n",
      " 5.02889510e-03 3.15591670e-03 3.15591670e-03 4.52484295e-04\n",
      " 3.15591670e-03 4.92949644e-03 3.15591670e-03 2.08546384e-03\n",
      " 3.15591670e-03 3.15591670e-03 5.02889510e-03 3.15591670e-03\n",
      " 2.13304861e-03 1.31455646e-03 8.86666458e-05 3.15591670e-03\n",
      " 1.31455646e-03 2.08546384e-03 1.66728266e-03 4.26200498e-03\n",
      " 2.13304861e-03 3.15591670e-03 3.15591670e-03 2.13304861e-03]\n",
      "./Dataset/SimulatedCVE/cicflowmeter_cve/training_data/lm/lm_train_data_11.csv\n",
      "Added ./Dataset/SimulatedCVE/cicflowmeter_cve/training_data/lm/lm_train_data_11.csv as New LM Training Data\n"
     ]
    }
   ],
   "source": [
    "# TODO: Fix StandardScaler was fitted with feature\n",
    "# informative_score_list = lm.retrain_model(X_train, y_new = y_train.values, threshold = 0.05)\n",
    "informative_score_list = lm.retrain_model(X_train, y_new = None, threshold = 0.05)"
   ]
  },
  {
   "cell_type": "code",
   "execution_count": 75,
   "metadata": {},
   "outputs": [
    {
     "name": "stdout",
     "output_type": "stream",
     "text": [
      "[0 1]\n",
      "0.9902460576400217\n"
     ]
    }
   ],
   "source": [
    "lm_out = lm.perform_inference(X_test)\n",
    "print(accuracy_score(lm_out, y_test))"
   ]
  },
  {
   "cell_type": "code",
   "execution_count": 76,
   "metadata": {},
   "outputs": [
    {
     "data": {
      "image/png": "[encoded data removed]",
      "text/plain": [
       "<Figure size 1400x1400 with 10 Axes>"
      ]
     },
     "metadata": {},
     "output_type": "display_data"
    }
   ],
   "source": [
    "def plot_supporting_scores(informative_score_list, n_times=10, sort=True):\n",
    "\n",
    "    \n",
    "    fig, axes = plt.subplots(n_times//2, 2, figsize=(14, 14))  # Create 5x2 subplots\n",
    "    axes = axes.ravel()  # Flatten the axes array for easy iteration\n",
    "\n",
    "    for i in range(n_times):\n",
    "      informative_arr = np.array(informative_score_list[i][:])\n",
    "      if sort:\n",
    "        informative_arr = -np.sort(-informative_arr)      \n",
    "        axes[i].plot(np.arange(len(informative_arr)), informative_arr)\n",
    "        axes[i].set_title(f\"Informative Score Distribution of new attack scenario {i + 1}\")\n",
    "\n",
    "    plt.tight_layout()\n",
    "    plt.show()\n",
    "    \n",
    "plot_supporting_scores(informative_score_list,10)"
   ]
  },
  {
   "cell_type": "markdown",
   "metadata": {},
   "source": [
    "### New Data"
   ]
  },
  {
   "cell_type": "markdown",
   "metadata": {},
   "source": [
    "Accuracy against new attack before training\n"
   ]
  },
  {
   "cell_type": "code",
   "execution_count": 77,
   "metadata": {},
   "outputs": [
    {
     "name": "stdout",
     "output_type": "stream",
     "text": [
      "['./Dataset/SimulatedCVE/cicflowmeter_cve/BENIGN/final_merged_1.csv', './Dataset/SimulatedCVE/cicflowmeter_cve/BENIGN/final_merged_2.csv', './Dataset/SimulatedCVE/cicflowmeter_cve/BENIGN/final_merged.csv']\n",
      "BENIGN\n",
      "['./Dataset/SimulatedCVE/cicflowmeter_cve/goldeneye/merged_20240816133105_ISCX.csv']\n",
      "goldeneye\n",
      "dataset shape (237140, 61)\n",
      "825 rows dropped\n",
      "Index(['Flow Duration', 'Tot Fwd Pkts', 'Tot Bwd Pkts', 'TotLen Fwd Pkts',\n",
      "       'TotLen Bwd Pkts', 'Fwd Pkt Len Max', 'Fwd Pkt Len Min',\n",
      "       'Fwd Pkt Len Mean', 'Fwd Pkt Len Std', 'Bwd Pkt Len Max',\n",
      "       'Bwd Pkt Len Min', 'Bwd Pkt Len Mean', 'Bwd Pkt Len Std', 'Flow Byts/s',\n",
      "       'Flow Pkts/s', 'Flow IAT Mean', 'Flow IAT Std', 'Flow IAT Max',\n",
      "       'Flow IAT Min', 'Fwd IAT Tot', 'Fwd IAT Mean', 'Fwd IAT Std',\n",
      "       'Fwd IAT Max', 'Fwd IAT Min', 'Bwd IAT Tot', 'Bwd IAT Mean',\n",
      "       'Bwd IAT Std', 'Bwd IAT Max', 'Bwd IAT Min', 'Fwd PSH Flags',\n",
      "       'Fwd Header Len', 'Bwd Header Len', 'Fwd Pkts/s', 'Bwd Pkts/s',\n",
      "       'Pkt Len Min', 'Pkt Len Max', 'Pkt Len Mean', 'Pkt Len Std',\n",
      "       'Pkt Len Var', 'FIN Flag Cnt', 'PSH Flag Cnt', 'ACK Flag Cnt',\n",
      "       'URG Flag Cnt', 'Down/Up Ratio', 'Pkt Size Avg', 'Fwd Seg Size Avg',\n",
      "       'Bwd Seg Size Avg', 'Subflow Fwd Byts', 'Subflow Bwd Byts',\n",
      "       'Init Fwd Win Byts', 'Init Bwd Win Byts', 'Fwd Act Data Pkts',\n",
      "       'Fwd Seg Size Min', 'Active Mean', 'Active Std', 'Active Max',\n",
      "       'Active Min', 'Idle Mean', 'Idle Std', 'Idle Max', 'Idle Min'],\n",
      "      dtype='object')\n",
      "replace na\n"
     ]
    },
    {
     "data": {
      "text/plain": [
       "Counter({0: 112065, 1: 16960})"
      ]
     },
     "execution_count": 77,
     "metadata": {},
     "output_type": "execute_result"
    }
   ],
   "source": [
    "X_train_ge, X_test_ge, y_train_ge, y_test_ge = load_data(train_folder=[\"BENIGN/\", \"goldeneye/\"])\n",
    "counter = Counter(y_train_ge)\n",
    "counter"
   ]
  },
  {
   "cell_type": "code",
   "execution_count": 79,
   "metadata": {},
   "outputs": [
    {
     "name": "stdout",
     "output_type": "stream",
     "text": [
      "[0 1]\n",
      "Accuracy of LM 0.8988746628638745 F1_Score 0.408200290275762\n"
     ]
    },
    {
     "name": "stderr",
     "output_type": "stream",
     "text": [
      "testing:   0%|          | 0/505 [00:00<?, ?it/s]"
     ]
    },
    {
     "name": "stderr",
     "output_type": "stream",
     "text": [
      "testing: 100%|██████████| 505/505 [00:00<00:00, 2438.76it/s]"
     ]
    },
    {
     "name": "stdout",
     "output_type": "stream",
     "text": [
      "[0 1]\n",
      "Accuracy of GM 0.8887993303779025 F1_Score 0.28899900891972247\n"
     ]
    },
    {
     "name": "stderr",
     "output_type": "stream",
     "text": [
      "\n"
     ]
    }
   ],
   "source": [
    "X_test_scaled_ge = scaler.transform(X_test_ge)\n",
    "lm_out = lm.perform_inference(X_test_ge)\n",
    "print(\"Accuracy of LM\", accuracy_score(lm_out,y_test_ge),\"F1_Score\", f1_score(lm_out, y_test_ge))\n",
    "gm_out = gm.perform_inference(X_test_ge)\n",
    "print(\"Accuracy of GM\", accuracy_score(gm_out,y_test_ge), \"F1_Score\", f1_score(gm_out, y_test_ge))"
   ]
  },
  {
   "cell_type": "markdown",
   "metadata": {},
   "source": [
    "Train LM then GM (if LM doesn't improve train GM)"
   ]
  },
  {
   "cell_type": "code",
   "execution_count": 80,
   "metadata": {},
   "outputs": [
    {
     "name": "stdout",
     "output_type": "stream",
     "text": [
      "['./Dataset/SimulatedCVE/cicflowmeter_cve/dripper/merged_20240809091803_ISCX.csv', './Dataset/SimulatedCVE/cicflowmeter_cve/dripper/merged_20240809091912_ISCX.csv', './Dataset/SimulatedCVE/cicflowmeter_cve/dripper/merged_20240809091837_ISCX.csv', './Dataset/SimulatedCVE/cicflowmeter_cve/dripper/merged_20240809091950_ISCX.csv', './Dataset/SimulatedCVE/cicflowmeter_cve/dripper/merged_20240809092024_ISCX.csv']\n",
      "dripper\n",
      "['./Dataset/SimulatedCVE/cicflowmeter_cve/BENIGN/final_merged_1.csv', './Dataset/SimulatedCVE/cicflowmeter_cve/BENIGN/final_merged_2.csv', './Dataset/SimulatedCVE/cicflowmeter_cve/BENIGN/final_merged.csv']\n",
      "BENIGN\n",
      "['./Dataset/SimulatedCVE/cicflowmeter_cve/bonesi/gm_train_data_0.csv', './Dataset/SimulatedCVE/cicflowmeter_cve/bonesi/merged_20240813111613_ISCX.csv']\n",
      "bonesi\n",
      "['./Dataset/SimulatedCVE/cicflowmeter_cve/training_data/gm/gm_train_data_1.csv', './Dataset/SimulatedCVE/cicflowmeter_cve/training_data/gm/gm_train_data_0.csv', './Dataset/SimulatedCVE/cicflowmeter_cve/training_data/gm/gm_train_data_3.csv', './Dataset/SimulatedCVE/cicflowmeter_cve/training_data/gm/gm_train_data_2.csv', './Dataset/SimulatedCVE/cicflowmeter_cve/training_data/gm/gm_train_data_4.csv']\n",
      "training_data/gm\n",
      "['./Dataset/SimulatedCVE/cicflowmeter_cve/goldeneye/merged_20240816133105_ISCX.csv']\n",
      "goldeneye\n",
      "dataset shape (426109, 61)\n",
      "838 rows dropped\n",
      "Index(['Flow Duration', 'Tot Fwd Pkts', 'Tot Bwd Pkts', 'TotLen Fwd Pkts',\n",
      "       'TotLen Bwd Pkts', 'Fwd Pkt Len Max', 'Fwd Pkt Len Min',\n",
      "       'Fwd Pkt Len Mean', 'Fwd Pkt Len Std', 'Bwd Pkt Len Max',\n",
      "       'Bwd Pkt Len Min', 'Bwd Pkt Len Mean', 'Bwd Pkt Len Std', 'Flow Byts/s',\n",
      "       'Flow Pkts/s', 'Flow IAT Mean', 'Flow IAT Std', 'Flow IAT Max',\n",
      "       'Flow IAT Min', 'Fwd IAT Tot', 'Fwd IAT Mean', 'Fwd IAT Std',\n",
      "       'Fwd IAT Max', 'Fwd IAT Min', 'Bwd IAT Tot', 'Bwd IAT Mean',\n",
      "       'Bwd IAT Std', 'Bwd IAT Max', 'Bwd IAT Min', 'Fwd PSH Flags',\n",
      "       'Fwd Header Len', 'Bwd Header Len', 'Fwd Pkts/s', 'Bwd Pkts/s',\n",
      "       'Pkt Len Min', 'Pkt Len Max', 'Pkt Len Mean', 'Pkt Len Std',\n",
      "       'Pkt Len Var', 'FIN Flag Cnt', 'PSH Flag Cnt', 'ACK Flag Cnt',\n",
      "       'URG Flag Cnt', 'Down/Up Ratio', 'Pkt Size Avg', 'Fwd Seg Size Avg',\n",
      "       'Bwd Seg Size Avg', 'Subflow Fwd Byts', 'Subflow Bwd Byts',\n",
      "       'Init Fwd Win Byts', 'Init Bwd Win Byts', 'Fwd Act Data Pkts',\n",
      "       'Fwd Seg Size Min', 'Active Mean', 'Active Std', 'Active Max',\n",
      "       'Active Min', 'Idle Mean', 'Idle Std', 'Idle Max', 'Idle Min'],\n",
      "      dtype='object')\n",
      "replace na\n",
      "Finish Reading Train_folder\n",
      "['./Dataset/SimulatedCVE/cicflowmeter_cve/training_data/gm/gm_train_data_1.csv', './Dataset/SimulatedCVE/cicflowmeter_cve/training_data/gm/gm_train_data_0.csv', './Dataset/SimulatedCVE/cicflowmeter_cve/training_data/gm/gm_train_data_3.csv', './Dataset/SimulatedCVE/cicflowmeter_cve/training_data/gm/gm_train_data_2.csv', './Dataset/SimulatedCVE/cicflowmeter_cve/training_data/gm/gm_train_data_4.csv']\n",
      "training_data/gm\n",
      "dataset shape (66, 61)\n",
      "0 rows dropped\n",
      "Index(['Flow Duration', 'Tot Fwd Pkts', 'Tot Bwd Pkts', 'TotLen Fwd Pkts',\n",
      "       'TotLen Bwd Pkts', 'Fwd Pkt Len Max', 'Fwd Pkt Len Min',\n",
      "       'Fwd Pkt Len Mean', 'Fwd Pkt Len Std', 'Bwd Pkt Len Max',\n",
      "       'Bwd Pkt Len Min', 'Bwd Pkt Len Mean', 'Bwd Pkt Len Std', 'Flow Byts/s',\n",
      "       'Flow Pkts/s', 'Flow IAT Mean', 'Flow IAT Std', 'Flow IAT Max',\n",
      "       'Flow IAT Min', 'Fwd IAT Tot', 'Fwd IAT Mean', 'Fwd IAT Std',\n",
      "       'Fwd IAT Max', 'Fwd IAT Min', 'Bwd IAT Tot', 'Bwd IAT Mean',\n",
      "       'Bwd IAT Std', 'Bwd IAT Max', 'Bwd IAT Min', 'Fwd PSH Flags',\n",
      "       'Fwd Header Len', 'Bwd Header Len', 'Fwd Pkts/s', 'Bwd Pkts/s',\n",
      "       'Pkt Len Min', 'Pkt Len Max', 'Pkt Len Mean', 'Pkt Len Std',\n",
      "       'Pkt Len Var', 'FIN Flag Cnt', 'PSH Flag Cnt', 'ACK Flag Cnt',\n",
      "       'URG Flag Cnt', 'Down/Up Ratio', 'Pkt Size Avg', 'Fwd Seg Size Avg',\n",
      "       'Bwd Seg Size Avg', 'Subflow Fwd Byts', 'Subflow Bwd Byts',\n",
      "       'Init Fwd Win Byts', 'Init Bwd Win Byts', 'Fwd Act Data Pkts',\n",
      "       'Fwd Seg Size Min', 'Active Mean', 'Active Std', 'Active Max',\n",
      "       'Active Min', 'Idle Mean', 'Idle Std', 'Idle Max', 'Idle Min'],\n",
      "      dtype='object')\n",
      "replace na\n",
      "Before Merging Label\n",
      "0    140074\n",
      "1      7004\n",
      "Name: count, dtype: int64\n",
      "After Merging Label\n",
      "0    140074\n",
      "1      7018\n",
      "Name: count, dtype: int64\n",
      "Start Training...\n",
      "ensemble size: 1\n",
      "training data counter: Counter({0: 112059, -1: 5614})\n",
      "MLPnet(\n",
      "  (network): Sequential(\n",
      "    (0): LinearBlock(\n",
      "      (linear): Linear(in_features=61, out_features=100, bias=False)\n",
      "      (act_layer): ReLU()\n",
      "    )\n",
      "    (1): LinearBlock(\n",
      "      (linear): Linear(in_features=100, out_features=50, bias=False)\n",
      "      (act_layer): ReLU()\n",
      "    )\n",
      "    (2): LinearBlock(\n",
      "      (linear): Linear(in_features=50, out_features=128, bias=False)\n",
      "      (act_layer): Identity()\n",
      "    )\n",
      "  )\n",
      ")\n",
      "epoch  1, training loss: 0.267692, time: 1.7s\n",
      "Start Inference on the training data...\n"
     ]
    },
    {
     "name": "stderr",
     "output_type": "stream",
     "text": [
      "testing: 100%|██████████| 1839/1839 [00:00<00:00, 3033.57it/s]\n",
      "testing: 100%|██████████| 460/460 [00:00<00:00, 2988.48it/s]"
     ]
    },
    {
     "name": "stdout",
     "output_type": "stream",
     "text": [
      "F1 Score: 0.9156, Accuracy: 0.9923\n",
      "[[27961    54]\n",
      " [  173  1231]]\n"
     ]
    },
    {
     "name": "stderr",
     "output_type": "stream",
     "text": [
      "\n"
     ]
    }
   ],
   "source": [
    "gm_new = Global_Model(['dripper/', 'BENIGN/', 'bonesi/', 'training_data/gm/', 'goldeneye/']) #Reload the model\n"
   ]
  },
  {
   "cell_type": "code",
   "execution_count": 81,
   "metadata": {},
   "outputs": [
    {
     "name": "stdout",
     "output_type": "stream",
     "text": [
      "['lm_train_data_9.csv', 'lm_train_data_8.csv', 'lm_train_data_7.csv', 'lm_train_data_6.csv', 'lm_train_data_5.csv', 'lm_train_data_4.csv', 'lm_train_data_3.csv', 'lm_train_data_2.csv', 'lm_train_data_11.csv', 'lm_train_data_10.csv', 'lm_train_data_1.csv', 'lm_train_data_0.csv']\n",
      "['lm_train_data_9.csv', 'lm_train_data_8.csv', 'lm_train_data_7.csv', 'lm_train_data_6.csv', 'lm_train_data_5.csv', 'lm_train_data_4.csv', 'lm_train_data_3.csv', 'lm_train_data_2.csv', 'lm_train_data_11.csv', 'lm_train_data_10.csv', 'lm_train_data_1.csv', 'lm_train_data_0.csv']\n",
      "[0 0 0 ... 2 2 2]\n",
      "Size of Label Index 84787\n",
      "Round 0\n",
      "[91148 95794 89647 ... 88150 97007 86583]\n",
      "3787\n"
     ]
    },
    {
     "name": "stderr",
     "output_type": "stream",
     "text": [
      "testing: 100%|██████████| 60/60 [00:00<00:00, 2890.70it/s]"
     ]
    },
    {
     "name": "stdout",
     "output_type": "stream",
     "text": [
      "[0]\n",
      "New Label Counts: Counter({0: 3787})\n",
      "Added 3787 Shape of Label_ind: (88574,)\n",
      "Number of duplicates 0\n",
      "np.unique: [0 1]\n"
     ]
    },
    {
     "name": "stderr",
     "output_type": "stream",
     "text": [
      "\n"
     ]
    },
    {
     "name": "stdout",
     "output_type": "stream",
     "text": [
      "[0.00215552 0.00100147 0.00118633 0.00308887 0.02774737 0.0012033\n",
      " 0.00215552 0.0026327  0.00268402 0.02774737 0.02774737 0.02774737\n",
      " 0.00353616 0.02774737 0.02774737 0.00182213 0.02774737 0.00353616\n",
      " 0.00215552 0.02774737 0.00072799 0.00353616 0.00268402 0.01443395\n",
      " 0.00118633 0.00353616 0.00188863 0.00353616 0.00020884 0.02774737\n",
      " 0.02774737 0.00348756 0.00016906 0.00348756 0.00353616 0.02774737\n",
      " 0.00182213 0.00353616 0.0002227  0.00465879 0.00226213 0.00122035\n",
      " 0.00348756 0.00348756 0.02774737 0.00186245 0.00957682 0.02774737\n",
      " 0.00113429 0.00272162 0.00272162 0.00182213 0.00186245 0.02774737\n",
      " 0.02774737 0.00272162 0.0012033  0.00268402 0.00268402 0.02774737\n",
      " 0.00016906 0.00268402 0.00353616 0.02774737 0.00272162 0.00184777\n",
      " 0.00353616 0.00033052 0.00272162 0.00185434 0.00184777 0.0024008\n",
      " 0.02774737 0.00186245 0.00347271 0.00100147 0.00353616 0.00016906\n",
      " 0.00272162 0.00353616 0.00348756 0.00215552 0.02774737 0.00679509\n",
      " 0.00016906 0.00353616 0.02063432 0.02774737 0.00272162 0.00215552\n",
      " 0.00465099 0.00310752 0.02774737 0.00353616 0.00353616 0.00465099\n",
      " 0.02774737 0.00016906 0.00033052 0.00272288]\n",
      "Round 1\n",
      "[ 98759  98144 107730 ... 110562  98297  97995]\n",
      "1093\n"
     ]
    },
    {
     "name": "stderr",
     "output_type": "stream",
     "text": [
      "testing: 100%|██████████| 18/18 [00:00<00:00, 2992.61it/s]"
     ]
    },
    {
     "name": "stdout",
     "output_type": "stream",
     "text": [
      "[0 1]\n",
      "New Label Counts: Counter({0: 669, 1: 424})\n",
      "Added 1093 Shape of Label_ind: (89667,)\n",
      "Number of duplicates 0\n",
      "np.unique: [0 1]\n"
     ]
    },
    {
     "name": "stderr",
     "output_type": "stream",
     "text": [
      "\n"
     ]
    },
    {
     "name": "stdout",
     "output_type": "stream",
     "text": [
      "[6.1476935e-04 4.5485526e-02 6.6851429e-03 6.6851429e-03 1.3063006e-03\n",
      " 1.1695932e-03 2.6771842e-02 6.6851429e-03 3.1413179e-04 1.2771960e-03\n",
      " 6.6851429e-03 6.6851429e-03 1.3063006e-03 6.1476935e-04 1.7616719e-04\n",
      " 2.6771842e-02 3.1413179e-04 2.6771842e-02 6.1476935e-04 4.6166300e-04\n",
      " 6.1476935e-04 6.6851429e-03 5.7229301e-04 5.7229301e-04 4.2541404e-04\n",
      " 6.1476935e-04 8.2384489e-02 2.6771842e-02 1.6603188e-04 4.5704443e-04\n",
      " 6.6851429e-03 1.5068918e-03 6.6851429e-03 3.4661888e-04 6.1476935e-04\n",
      " 4.2541404e-04 6.1476935e-04 6.1476935e-04 6.6851429e-03 3.8140532e-02\n",
      " 1.3884343e-04 6.6851429e-03 6.6851429e-03 4.2541404e-04 6.6851429e-03\n",
      " 6.1476935e-04 1.3063006e-03 6.6851429e-03 1.3063006e-03 1.3884343e-04\n",
      " 4.2541404e-04 6.6851429e-03 1.7616719e-04 6.6851429e-03 5.7229301e-04\n",
      " 6.6851429e-03 6.6851429e-03 6.6851429e-03 6.1476935e-04 1.3063006e-03\n",
      " 1.3063006e-03 6.1476935e-04 6.6851429e-03 6.1476935e-04 1.3063006e-03\n",
      " 3.1413179e-04 1.3884343e-04 3.1413179e-04 6.1943419e-03 6.1476935e-04\n",
      " 6.6851429e-03 1.2304045e-04 6.1476935e-04 6.1476935e-04 5.7229301e-04\n",
      " 6.1476935e-04 2.6771842e-02 5.4691623e-06 6.6851429e-03 4.2541404e-04\n",
      " 6.6851429e-03 4.2541404e-04 6.1476935e-04 6.6851429e-03 1.3063006e-03\n",
      " 6.1943419e-03 6.6851429e-03 1.3884343e-04 6.6851429e-03 6.6851429e-03\n",
      " 1.3884343e-04 4.5704443e-04 1.3884343e-04 6.6851429e-03 1.3884343e-04\n",
      " 4.2541404e-04 6.6851429e-03 4.2541404e-04 1.3063006e-03 6.1476935e-04]\n",
      "Round 2\n",
      "[121156 121212 114888 113383 122565 115531 113453 111919 120412 111286\n",
      " 113858 111587 120060 114620 118375 116289 118821 111261 115955 115889\n",
      " 116154 110630 117156 111807 114705 114955 111595 120315 119497 122525\n",
      " 116862 116018 111617 120299 111105 116283 118820 112418 117447 111932\n",
      " 123440 121652 119133 114282 121969 114227 120669 121966 117612 114146\n",
      " 113246 113389 113229 122070 122083 114167 121981 117198 117194 114364\n",
      " 114380 122324 114390 113328 122275 114408 114433 114443 114468 117168\n",
      " 122306 120451 122322 117350 113144 113518 113627 122223 120494 117520\n",
      " 117505 120510 120543 122230 117439 113761 117726 122316 122260 113559\n",
      " 113109 113772 113774 113775 113813 113253 120547 113107 113892 117394\n",
      " 120570 122120 113986 114004 122100 113418 113825 115214 121929 115508\n",
      " 115494 116517 116518 116559 116594 116632 115357 115356 116634 116642\n",
      " 115313 115301 121605 121620 116484 115284 116464 115592 116019 116067\n",
      " 116121 115932 115893 115839 121200 115758 115747 116242 115725 115685\n",
      " 115663 115651 115650 116451 114535 115277 115265 121809 120920 121823\n",
      " 114750 121869 121874 120919 117800 116935 120876 116988 121896 114608\n",
      " 120824 117112 114855 115276 116878 114909 121067 115204 116695 115158\n",
      " 121026 121685 115084 121739 121761 121772 114997 114988 116821 121799\n",
      " 114939 116828 114683 116010 122349 119777 118652 111665 123104 119757\n",
      " 123111 123024 123113 118757 111535 118763 111483 111475 119687 111564\n",
      " 119868 122953 119913 112219 112213 112160 118317 120094 122740 122773\n",
      " 111955 122827 111918 122831 122843 118356 118468 112960 111451 112221\n",
      " 111438 118805 123404 123407 119535 110853 110844 110825 119187 110804\n",
      " 119342 123462 110658 119369 123465 119418 119341 110960 110974 111007\n",
      " 111354 119681 111246 111236 118881 119652 119034 111155 111075 123291\n",
      " 119589 119100 119124 111045 111028 111395 120162 119917 122635 112349\n",
      " 118265 118239 112635 112381 112393 112758 112402 122504 112346 112675\n",
      " 120266 112494 112530 118119 112537 118076 120300 112636 122587 118164\n",
      " 117940 112228 118270 112332 112323 118280 117895 112248 120403 122489\n",
      " 117931 112922 112872 117362 115963 115982 113729 116427 118697 121943\n",
      " 113426 111151 117229 114201 115353 118021 121139 116323 121517 119658\n",
      " 112298 119559 118814 119175 119392 112991 121265 113442 116397 122280\n",
      " 116428 116163 113388 122474 111163 121122 122574 113378 121160 111049\n",
      " 119047 112648 122071 118812 112624 114084 118307 117223 120076 121964\n",
      " 111954 115194 114641 122927 122987 123076 119772 119767 118374 113605\n",
      " 112466 111433 120990 116800 111941 121070 123419 119239 121384 114039\n",
      " 114356 112421 121334 120703 110718 118315 115940 115134 120667 112981\n",
      " 117876 114498 112600 113960 117744 123254 121800 111680 111872 120188\n",
      " 117437 114956 113831 113366 113698 121886 118435 122405 123384 119056\n",
      " 117781 116643 117862 121268 121837 112832 122808 113259 121609 122075\n",
      " 117793 119134 120196 119291 118355 116626 119111 119396 113651 122115\n",
      " 121289 115939 123089 112469 121543 115438 113423 111050 121801 118370\n",
      " 110951 118507 112599 119027 113696 116654 120622 114484 121012 119986\n",
      " 117047 120723 110638 121236 112276 122847 114305 114362 119632 114858\n",
      " 118343 121374 114682 116852 116251 111502 115912 114877 114323 118323\n",
      " 115965 111059 115966 118683 122084 119830 115299 114361 119760 122190\n",
      " 112414 118110 115756 112209 120133 112026 116320 119170 119545 121518\n",
      " 117747 113954 121790 111603 117701 116729 121114 117522 120305 117981\n",
      " 114672 121679 116531 111218 113697 111058 116799 117360 117821 111958\n",
      " 113968 122538 123055 110604 118737 115513 111037 121065 111538 115205\n",
      " 110914 115532 113382 120169 120014 120031 122871 122859 120201 123375\n",
      " 123391 122784 123484 119522 122768 123418 122641 119463 122729 122628\n",
      " 123374 119424 119453 119452 119450 122683 123441 123450 122677 123452\n",
      " 122667 123435 122716 119728 119752 119680 123209 119848 123190 119823\n",
      " 123028 119659 123171 123150 123122 123115 119722 123097 123098 123158\n",
      " 119850 123229 119862 122881 122910 123345 119611 123268 123248 123243\n",
      " 119648 119984 119983 119953 123242 122911 122918 122954 120013 120205\n",
      " 121277 120227 121087 121559 121563 121086 121568 121080 121571 121636\n",
      " 121058 121047 121683 121726 120983 121779 120982 120968 120954 120946\n",
      " 121820 121876 121884 121092 121102 121537 121519 121282 121290 121248\n",
      " 121247 121242 121316 121346 121347 121396 121153 120853 121401 121414\n",
      " 121433 121437 121130 121443 121448 121129 121502 121128 121125 121412\n",
      " 120835 121914 121923 121281 122339 122344 122346 120408 122364 120401\n",
      " 122373 120349 122420 120417 122448 122503 122561 120302 122581 122610\n",
      " 120289 120288 122614 122621 120240 122465 120206 120420 122235 121948\n",
      " 120823 120813 120811 120739 121967 120700 120692 121976 122008 120466\n",
      " 120610 120557 122129 122142 122166 122177 122188 120516 120469 122196\n",
      " 120467 120561 122274 117214 119373 113449 113500 113611 113655 113718\n",
      " 113737 113803 113439 113840 114023 114059 114073 114078 114091 114119\n",
      " 114136 113981 114153 113419 113307 112858 112862 112866 112884 112889\n",
      " 112908 112953 113334 112954 112965 112984 113022 113092 113135 113261\n",
      " 113267 112962 114172 114220 114235 114976 114985 115011 115021 115035\n",
      " 115042 115092 114963 115096 115235 115270 115286 115293 115294 115329\n",
      " 115354 115193 114929 114908 114827 114279 114309 114366 114521 114522\n",
      " 114557 114593 114607 114642 114658 114666 114700 114711 114720 114756\n",
      " 114762 114814 112847 115367 112816 112732 111143 111159 111199 111210\n",
      " 111266 111275 111325 111113 111344 111371 111469 111585 111598 111618\n",
      " 111632 111639 111364 111655 111097 111053 110621 110631 110707 110765\n",
      " 110776 110782 110855 111067 110856 110909 110918 110924 110927 110956\n",
      " 111034 111046 110884 111659 111690 111701 112176 112222 112277 112354\n",
      " 112360 112368 112396 112104 112484 112548 112616 112638 112655 112676\n",
      " 112694 112700 112532 111998 111990 111982 111708 111711 111718 111732\n",
      " 111749 111751 111770 111797 111817 111818 111825 111830 111835 111865\n",
      " 111945 111960 111966 112736 119383 115379 115464 118105 118134 118160\n",
      " 118166 118184 118195 118200 118097 118203 118262 118303 118322 118324\n",
      " 118334 118351 118387 118221 118086 118067 118043 117467 117472 117486\n",
      " 117537 117557 117620 117748 117755 117766 117776 117815 117819 117825\n",
      " 117848 117872 117941 118024 118392 117427 118399 118491 118903 118912\n",
      " 118931 118955 119002 119060 119084 118891 119116 119222 119223 119229\n",
      " 119233 119259 119271 119280 119136 118849 118779 118767 118498 118500\n",
      " 118519 118531 118559 118566 118575 118614 118620 118635 118650 118682\n",
      " 118707 118717 118724 118727 118731 118473 115390 117426 117378 115990\n",
      " 116012 116060 116063 116070 116096 116098 115960 116171 116188 116196\n",
      " 116199 116272 116294 116422 116438 116178 115951 115941 115906 115489\n",
      " 115545 115564 115573 115589 115608 115620 115631 115665 115670 115736\n",
      " 115743 115770 115780 115823 115855 115882 116453 117421 116456 116470\n",
      " 116949 117003 117038 117105 117197 117207 123486 116929 117231 117250\n",
      " 117259 117322 117335 117344 117374 117377 117246 116917 116889 116868\n",
      " 116574 116590 116596 116633 116638 116645 116688 116707 116712 116714\n",
      " 116723 116752 116754 116787 116826 116854 116463 123495 113716]\n",
      "999\n"
     ]
    },
    {
     "name": "stderr",
     "output_type": "stream",
     "text": [
      "testing: 100%|██████████| 16/16 [00:00<00:00, 2824.09it/s]"
     ]
    },
    {
     "name": "stdout",
     "output_type": "stream",
     "text": [
      "[0 1]\n",
      "New Label Counts: Counter({0: 709, 1: 290})\n",
      "Added 999 Shape of Label_ind: (90666,)\n",
      "Number of duplicates 0\n",
      "np.unique: [0 1]\n"
     ]
    },
    {
     "name": "stderr",
     "output_type": "stream",
     "text": [
      "\n"
     ]
    },
    {
     "name": "stdout",
     "output_type": "stream",
     "text": [
      "[0.00171094 0.01461287 0.00670379 0.00670379 0.00670379 0.00343005\n",
      " 0.00117504 0.00210535 0.00095339 0.00163013 0.00154621 0.04498645\n",
      " 0.00095339 0.00188089 0.00203443 0.01461287 0.01461287 0.01461287\n",
      " 0.01461287 0.01461287 0.00095339 0.00188089 0.00154621 0.00117504\n",
      " 0.00152803 0.01461287 0.01461287 0.00188089 0.06400479 0.01461287\n",
      " 0.00095339 0.00095339 0.00095339 0.00350049 0.01616437 0.01461287\n",
      " 0.0036223  0.02143096 0.06400479 0.01461287 0.00117504 0.01616437\n",
      " 0.00117504 0.01461287 0.00117504 0.03762719 0.00831384 0.01461287\n",
      " 0.01461287 0.01461287 0.00117504 0.01461287 0.00188089 0.00117504\n",
      " 0.00095339 0.00670379 0.00117504 0.01616437 0.00163013 0.00188089\n",
      " 0.00095339 0.00188089 0.01461287 0.01461287 0.00670379 0.02661173\n",
      " 0.01461287 0.01461287 0.00788502 0.00762365 0.00117504 0.00117504\n",
      " 0.00117504 0.01461287 0.00095339 0.00188089 0.00414009 0.01165523\n",
      " 0.00152803 0.00163013 0.00095339 0.00095339 0.01461287 0.00340374\n",
      " 0.00095339 0.00152803 0.00762365 0.00670379 0.00117504 0.00670379\n",
      " 0.00566887 0.01461287 0.01461287 0.00350049 0.01461287 0.00383652\n",
      " 0.01461287 0.00130477 0.00670379 0.01461287]\n",
      "Round 3\n",
      "[127194 125844 125267 ... 125958 124615 134171]\n",
      "1753\n"
     ]
    },
    {
     "name": "stderr",
     "output_type": "stream",
     "text": [
      "testing: 100%|██████████| 28/28 [00:00<00:00, 2945.29it/s]"
     ]
    },
    {
     "name": "stdout",
     "output_type": "stream",
     "text": [
      "[0 1]\n",
      "New Label Counts: Counter({0: 1294, 1: 459})\n",
      "Added 1753 Shape of Label_ind: (92419,)\n",
      "Number of duplicates 0\n",
      "np.unique: [0 1]\n"
     ]
    },
    {
     "name": "stderr",
     "output_type": "stream",
     "text": [
      "\n"
     ]
    },
    {
     "name": "stdout",
     "output_type": "stream",
     "text": [
      "[0.00515516 0.00760431 0.00515516 0.00491289 0.02089532 0.00296143\n",
      " 0.00515516 0.00450724 0.00760431 0.00515516 0.00515516 0.00491289\n",
      " 0.02089532 0.00769147 0.00491289 0.00296143 0.00292805 0.00491289\n",
      " 0.00769147 0.00450724 0.00296143 0.00515516 0.00589881 0.00450724\n",
      " 0.00515516 0.00450724 0.00515516 0.00515516 0.00706185 0.00769147\n",
      " 0.00491289 0.00515516 0.03854749 0.00515516 0.00515516 0.00491289\n",
      " 0.05581271 0.00515516 0.00769147 0.00515516 0.00515516 0.00563169\n",
      " 0.00515516 0.00515516 0.00491289 0.03854749 0.00593796 0.00515516\n",
      " 0.00515516 0.00515516 0.00515516 0.00515516 0.03327289 0.00706185\n",
      " 0.00769147 0.05581271 0.00292805 0.00515516 0.00769147 0.00520228\n",
      " 0.03789897 0.05581271 0.00685952 0.00515516 0.00491289 0.00515516\n",
      " 0.03854749 0.00491289 0.00760431 0.03854749 0.00491289 0.00515516\n",
      " 0.00515516 0.00515516 0.00515516 0.00450724 0.00515516 0.05581271\n",
      " 0.02089532 0.00450724 0.00515516 0.00706185 0.00515516 0.00296143\n",
      " 0.00292805 0.00132422 0.00515516 0.00491289 0.02310545 0.00450724\n",
      " 0.00515516 0.00563169 0.00450724 0.00292805 0.00515516 0.00491289\n",
      " 0.00515516 0.00296143 0.01498276 0.00769147]\n",
      "Round 4\n",
      "[147634 145394 142504 140706 138658 145487 141282 145209 145720 138092\n",
      " 147620 149052 142918 140061 142717 141517 138888 145116 139062 141513\n",
      " 141530 148600 142302 143309 148257 146380 139400 145698 145453 139338\n",
      " 138241 141314 145342 140822 144130 139074 144997 147997 142858 147039\n",
      " 143256 145981 139919 145742 138602 141966 146091 148914 142082 140452\n",
      " 142922 142947 143152 140333 140330 140311 143183 143209 143230 140288\n",
      " 143244 140279 143263 140524 140550 142815 140570 141704 142143 142209\n",
      " 141675 141607 141580 141497 142000 141399 140848 140842 142625 140713\n",
      " 142692 140619 140593 141090 143004 144373 143607 146319 146446 146481\n",
      " 146579 146906 147156 147195 147247 147293 147333 147523 147693 146300\n",
      " 147698 147961 148032 148184 148214 148286 148410 148545 148661 148789\n",
      " 148923 149143 149156 147863 143453 146150 145977 143645 143666 143788\n",
      " 143813 143833 144099 144239 140183 144534 144644 144701 144752 146029\n",
      " 144755 144965 145154 145192 145252 145344 145488 145570 145629 145641\n",
      " 145707 145779 145806 144906 140127 149297 138577 138435 138433 138250\n",
      " 137631 137395 139616 136758 139886 139883 139681 139683 137614 138654\n",
      " 139702 137548 138618 137957 139774 139233 138354 137635 136536 139163\n",
      " 137291 140107 138890 139503 138803 140031 136919 140023 139556 136422\n",
      " 139518 139537 137177 138734 137257 137279 137266 137744 136600 148584\n",
      " 137365 141491 143704 140110 145256 136518 137170 143947 144108 139926\n",
      " 146688 143943 140461 146456 146336 146313 143810 142455 144635 142997\n",
      " 146175 145867 142590 141490 149258 143865 146875 143757 146926 141222\n",
      " 148743 147092 145783 136620 148383 140465 140982 140789 137020 138332\n",
      " 146469 146452 146496 146477 146337 146479 137190 146458 146043 137346\n",
      " 145678 145666 137649 145550 137656 137678 137619 145470 137682 145376\n",
      " 137788 137819 145273 145253 145469 146325 145711 145801 146262 146258\n",
      " 146211 146158 146141 146095 137495 146056 137416 137452 145976 145901\n",
      " 145871 145807 137397 146635 147127 146720 136584 148541 148491 136594\n",
      " 148384 148355 148354 148555 148351 148284 148283 136649 148189 136665\n",
      " 148146 148091 148337 148599 136573 136552 149205 149188 149174 149161\n",
      " 136407 149150 149129 149112 149082 149077 136432 149035 148974 148964\n",
      " 148867 148722 148719 148071 148052 148015 136780 147354 147352 136947\n",
      " 137017 147175 137144 147150 147087 147066 147061 147041 147006 146949\n",
      " 146937 146841 146782 146760 147380 146643 147408 147424 147994 136799\n",
      " 136844 147799 136847 136851 147684 147681 147680 147645 147583 147538\n",
      " 147524 136945 147507 147478 147466 147422 145217 138240 138070 142201\n",
      " 142177 142133 142100 142088 142043 139533 139491 141973 141715 141710\n",
      " 139574 139613 141600 141555 139661 141890 141518 142265 139384 142914\n",
      " 142869 139214 139218 142694 142645 142638 142297 142637 142588 142519\n",
      " 142461 142417 142370 142364 142363 139295 139203 141395 141291 140546\n",
      " 140491 140476 140458 140457 139961 140436 140558 140403 139984 140029\n",
      " 140280 140066 140276 140196 140182 140372 139753 139920 140599 141256\n",
      " 141253 141211 141160 141154 141142 139848 139904 141045 139855 139863\n",
      " 139872 140717 140695 140657 139895 140858 139134 139287 136406 143849\n",
      " 143864 143918 144007 144057 144921 144086 144195 144229 138417 142961\n",
      " 144308 144323 144331 138505 144355 144382 144909 144443 144526 138221\n",
      " 144865 144820 144530 144536 144778 138317 144678 144688 138293 144367\n",
      " 143829 140120 143069 143179 138155 143219 138827 143177 145053 138218\n",
      " 138136 139090 143276 143087 138176 138669 138970 143557 143582 142969\n",
      " 138644 143640 143656 143661 142964 138606 143742 143779 138530 143386\n",
      " 145761 144580 147308 143951 144381 145936 144324 139705 141589 139950\n",
      " 144521 138910 149055 145145 145002 144916 140350 142948 148686 146744\n",
      " 138022 146701 136955 139327 142431 136878 142080 141326 137483 140950\n",
      " 145753 137516 145727 141464 144075 136494]\n",
      "536\n"
     ]
    },
    {
     "name": "stderr",
     "output_type": "stream",
     "text": [
      "testing: 100%|██████████| 9/9 [00:00<00:00, 2450.26it/s]"
     ]
    },
    {
     "name": "stdout",
     "output_type": "stream",
     "text": [
      "[0 1]\n",
      "New Label Counts: Counter({1: 449, 0: 87})\n",
      "Added 536 Shape of Label_ind: (92955,)\n",
      "Number of duplicates 0\n",
      "np.unique: [0 1]\n"
     ]
    },
    {
     "name": "stderr",
     "output_type": "stream",
     "text": [
      "\n"
     ]
    },
    {
     "name": "stdout",
     "output_type": "stream",
     "text": [
      "[0.00160201 0.00155952 0.00155952 0.00165153 0.00338078 0.00189117\n",
      " 0.00189117 0.04662763 0.04662763 0.01864641 0.00189117 0.00257141\n",
      " 0.00338078 0.00776274 0.00338078 0.00338078 0.00176722 0.00217604\n",
      " 0.00276336 0.00322501 0.00313325 0.00176722 0.00338078 0.0328691\n",
      " 0.00338078 0.00102357 0.00338078 0.00322501 0.00155952 0.00338078\n",
      " 0.00155952 0.00338078 0.00441844 0.04662763 0.00155952 0.01864641\n",
      " 0.00291929 0.00176722 0.01549112 0.00173536 0.00173536 0.00155952\n",
      " 0.00173536 0.00338078 0.00290657 0.01549112 0.00338078 0.00338078\n",
      " 0.00165153 0.00338078 0.00155952 0.00155952 0.00338078 0.01549112\n",
      " 0.00338078 0.00173536 0.00125941 0.00338078 0.01549112 0.00155952\n",
      " 0.00163852 0.00189117 0.00110051 0.01549112 0.00338078 0.00338078\n",
      " 0.01659107 0.00173536 0.01549112 0.00338078 0.00199945 0.00163852\n",
      " 0.00338078 0.00172172 0.00173536 0.00155952 0.00189117 0.01549112\n",
      " 0.00173536 0.00290657 0.00189117 0.00154725 0.00338078 0.00155952\n",
      " 0.00155952 0.00163852 0.00338078 0.00322501 0.00338078 0.00155952\n",
      " 0.00173536 0.00155952 0.00173536 0.00322501 0.00172172 0.09031201\n",
      " 0.00338078 0.00338078 0.00189993 0.00165153]\n",
      "Round 5\n",
      "[160842 160797 160764 ... 154487 158296 152165]\n",
      "3842\n"
     ]
    },
    {
     "name": "stderr",
     "output_type": "stream",
     "text": [
      "testing: 100%|██████████| 61/61 [00:00<00:00, 3139.91it/s]"
     ]
    },
    {
     "name": "stdout",
     "output_type": "stream",
     "text": [
      "[0 1]\n",
      "New Label Counts: Counter({0: 3391, 1: 451})\n",
      "Added 3842 Shape of Label_ind: (96797,)\n",
      "Number of duplicates 0\n",
      "np.unique: [0 1]\n"
     ]
    },
    {
     "name": "stderr",
     "output_type": "stream",
     "text": [
      "\n"
     ]
    },
    {
     "name": "stdout",
     "output_type": "stream",
     "text": [
      "[0.0368181  0.0368181  0.02180627 0.0368181  0.01021165 0.00727384\n",
      " 0.00162064 0.0368181  0.00162064 0.0368181  0.0368181  0.00727384\n",
      " 0.01113418 0.00727384 0.01512589 0.0368181  0.01404694 0.21696353\n",
      " 0.0368181  0.02796648 0.01404694 0.01404694 0.21696353 0.01113418\n",
      " 0.02800542 0.0368181  0.0368181  0.0368181  0.01404694 0.02432023\n",
      " 0.00727384 0.02432023 0.0368181  0.0368181  0.0368181  0.0368181\n",
      " 0.00727384 0.0368181  0.03317512 0.02800542 0.0368181  0.01113418\n",
      " 0.01733678 0.00919905 0.00919905 0.02796648 0.0368181  0.24498093\n",
      " 0.21585405 0.01199502 0.0368181  0.00727384 0.02432023 0.01404694\n",
      " 0.0368181  0.03034562 0.0368181  0.0368181  0.03317512 0.0368181\n",
      " 0.00919905 0.00727384 0.00727384 0.00919905 0.01971957 0.01404694\n",
      " 0.05466151 0.1406409  0.00162064 0.0368181  0.04543058 0.00919905\n",
      " 0.00727384 0.03034562 0.01113418 0.02467399 0.0368181  0.00727384\n",
      " 0.02432023 0.02432023 0.00727384 0.0368181  0.0368181  0.00704318\n",
      " 0.0368181  0.01519208 0.00569681 0.0368181  0.00919905 0.01404694\n",
      " 0.01936707 0.03034562 0.01404694 0.00490647 0.01113418 0.01103992\n",
      " 0.21585405 0.01404694 0.00919905 0.0368181 ]\n",
      "Round 6\n",
      "[165395 171337 164265 ... 174010 170107 170962]\n",
      "4827\n"
     ]
    },
    {
     "name": "stderr",
     "output_type": "stream",
     "text": [
      "testing: 100%|██████████| 76/76 [00:00<00:00, 3096.75it/s]"
     ]
    },
    {
     "name": "stdout",
     "output_type": "stream",
     "text": [
      "[0 1]\n",
      "New Label Counts: Counter({0: 4332, 1: 495})\n",
      "Added 4827 Shape of Label_ind: (101624,)\n",
      "Number of duplicates 0\n",
      "np.unique: [0 1]\n"
     ]
    },
    {
     "name": "stderr",
     "output_type": "stream",
     "text": [
      "\n"
     ]
    },
    {
     "name": "stdout",
     "output_type": "stream",
     "text": [
      "[0.01098805 0.00547698 0.00547698 0.00547698 0.00547698 0.00547698\n",
      " 0.01495035 0.0270606  0.01296806 0.02178472 0.01269376 0.00547698\n",
      " 0.02178472 0.00419051 0.02526443 0.02178472 0.00547698 0.00547698\n",
      " 0.0270606  0.02808051 0.01549168 0.00944365 0.00547698 0.01269376\n",
      " 0.01443712 0.0270606  0.02834083 0.00547698 0.00547698 0.02178472\n",
      " 0.00944365 0.00434841 0.02808051 0.00979194 0.01296806 0.02808051\n",
      " 0.01098805 0.02808051 0.02261252 0.00547698 0.00419051 0.00547698\n",
      " 0.01296806 0.00935529 0.00547698 0.01296806 0.00547698 0.00547698\n",
      " 0.00547698 0.0448232  0.00547698 0.00547698 0.02808051 0.01495035\n",
      " 0.0270606  0.03960989 0.0270606  0.01296806 0.02178472 0.00944365\n",
      " 0.02178472 0.06314729 0.00547698 0.00547698 0.0384184  0.01296806\n",
      " 0.02261252 0.02808051 0.01033533 0.06499419 0.01098805 0.01098805\n",
      " 0.01230766 0.02526443 0.02808051 0.01296806 0.00547698 0.02808051\n",
      " 0.00547698 0.02808051 0.02178472 0.0448232  0.00547698 0.00547698\n",
      " 0.06314729 0.01098805 0.0270606  0.00419051 0.02178472 0.02808051\n",
      " 0.02261252 0.02178472 0.11851546 0.02808051 0.02261252 0.02808051\n",
      " 0.0270606  0.00935529 0.00547698 0.00547698]\n",
      "Round 7\n",
      "[178151 181199 184236 182311 185826 176256 183803 181137 184795 177381\n",
      " 183516 182361 182363 182484 183894 182521 183822 182541 182671 183686\n",
      " 182750 182794 182817 182882 183641 182920 182953 183636 183007 182320\n",
      " 183098 183183 183208 183382 183599 183393 183422 183511 183586 183057\n",
      " 182303 183906 180568 180539 180500 180478 180310 180240 180202 180194\n",
      " 180095 180057 180044 179982 179883 179859 179781 180672 182317 180797\n",
      " 180983 182280 182159 182046 182024 181996 181836 181773 187859 181635\n",
      " 181598 181487 181451 181157 181140 181113 180831 183922 175228 184164\n",
      " 186811 186810 186756 186754 186568 186556 186514 186488 186473 186360\n",
      " 186269 186240 186210 186144 185756 186842 185739 186848 186904 187848\n",
      " 187847 187827 187753 187690 187656 187455 187403 187389 187350 187269\n",
      " 187259 187147 187145 187014 186881 183933 185715 185674 184867 184859\n",
      " 184781 184772 184739 184725 184692 184628 184467 184458 184428 184321\n",
      " 184291 184246 179780 184886 185688 184933 185023 185643 185630 185559\n",
      " 185551 185524 185504 185351 185308 185207 185183 185170 185163 185056\n",
      " 185054 185031 184977 179765 187947 175992 178126 178131 176330 178159\n",
      " 176292 176233 176214 176174 176169 178272 176152 178371 178379 176100\n",
      " 175958 178603 178652 178655 175916 175898 175874 175835 178716 176351\n",
      " 175832 178084 178055 177339 177358 177058 177372 177389 177051 176961\n",
      " 177473 176796 177572 176771 177575 177682 177687 177701 176723 177830\n",
      " 176714 177911 176651 176530 177977 178046 176371 175830 177123 179110\n",
      " 179627 175616 175592 175283 175316 179200 179685 175726 175504 175765\n",
      " 175728 179695 175740 178738 178740 179345 179406 179277 178875 186114\n",
      " 180870 185263 178889 182125 187247 186476 183938 175327 183687 183419\n",
      " 182489 187386 184028 177713 184146 182308 179719 181558 180940 181603\n",
      " 178685 186352 175894 180324 175479 187142 182778 186761 183476 182105\n",
      " 185918 180548 175450 177440 186387 186006 176728 176995 175387 184685\n",
      " 184673 176741 184864 184655 175303 176908 187672 187687 184829 177055\n",
      " 184610 175243 187666 186648 187149 175447 186649 186134 186057 175954\n",
      " 185802 175711 184473 185736 176059 176141 185665 186819 175669 186877\n",
      " 184887 185544 186998 175581 187116 175540 175483 176417 185159 175481\n",
      " 176529 185055 185052 176548 184981 184959 176224 179725 183827 181884\n",
      " 181158 181288 181310 181429 178734 181578 178709 181648 181744 181755\n",
      " 181867 177332 178581 178580 182085 182108 178520 182198 182207 178980\n",
      " 179084 180982 180895 179793 179641 179974 179623 179469 180189 179330\n",
      " 179308 180339 178481 180359 180472 179220 180518 179206 180552 180587\n",
      " 180619 179136 180834 180389 178391 181687 177895 183529 184139 184002\n",
      " 177408 177419 179722 182914 183153 177960 183188 182315 183385 177859\n",
      " 183626 183165 184163 178006 182848 184334 178275 182431 178264 184274\n",
      " 178179 182568 182604 177757 184211 182790 182626 177360 178136 179946\n",
      " 179261 184150 179583 183944 183741 187622 177637 180168 187118 177566\n",
      " 187790 178396 180723 186891 183458 180816 178659 185744 175748 175761\n",
      " 181689 183076 181442 185968 186250 175368 177973 183008 181056 185697\n",
      " 178196 185367 176506 186275 179190 177335 181168 175707 181839]\n",
      "439\n"
     ]
    },
    {
     "name": "stderr",
     "output_type": "stream",
     "text": [
      "testing: 100%|██████████| 7/7 [00:00<00:00, 2126.47it/s]"
     ]
    },
    {
     "name": "stdout",
     "output_type": "stream",
     "text": [
      "[0 1]\n",
      "New Label Counts: Counter({1: 353, 0: 86})\n",
      "Added 439 Shape of Label_ind: (102063,)\n",
      "Number of duplicates 0\n",
      "np.unique: [0 1]\n"
     ]
    },
    {
     "name": "stderr",
     "output_type": "stream",
     "text": [
      "\n"
     ]
    },
    {
     "name": "stdout",
     "output_type": "stream",
     "text": [
      "[0.00346145 0.00346145 0.00411741 0.00186569 0.0064986  0.0064986\n",
      " 0.0064986  0.0064986  0.00590593 0.00083858 0.0064986  0.0064986\n",
      " 0.00385678 0.00025856 0.00637089 0.0064986  0.00052963 0.00052963\n",
      " 0.00522688 0.00522688 0.00590593 0.00052963 0.00590593 0.00346145\n",
      " 0.00385678 0.0018298  0.00083858 0.0064986  0.00522688 0.00186569\n",
      " 0.00377331 0.00385678 0.00177099 0.0064986  0.0064986  0.0064986\n",
      " 0.00167081 0.0039867  0.00590593 0.00411741 0.0064986  0.0064986\n",
      " 0.00522688 0.00385678 0.00411741 0.00536407 0.00377331 0.0001034\n",
      " 0.0064986  0.0064986  0.0064986  0.00376394 0.0064986  0.0064986\n",
      " 0.0064986  0.00346145 0.0064986  0.0043619  0.0064986  0.00522688\n",
      " 0.00590593 0.00953184 0.0039867  0.00522688 0.00083858 0.00590593\n",
      " 0.00590593 0.00186569 0.00590593 0.00938579 0.00385678 0.00385678\n",
      " 0.00590593 0.0064986  0.0039867  0.0064986  0.00385678 0.00023808\n",
      " 0.00218771 0.00590593 0.00385678 0.00385678 0.0064986  0.0064986\n",
      " 0.00260329 0.0064986  0.00119397 0.00590593 0.00385678 0.00590593\n",
      " 0.0064986  0.0031369  0.0064986  0.00377331 0.0031369  0.0064986\n",
      " 0.00119397 0.00086915 0.0064986  0.00052963]\n",
      "Round 8\n",
      "[199546 189464 194099 ... 200846 195171 192036]\n",
      "4159\n"
     ]
    },
    {
     "name": "stderr",
     "output_type": "stream",
     "text": [
      "testing: 100%|██████████| 65/65 [00:00<00:00, 2879.70it/s]"
     ]
    },
    {
     "name": "stdout",
     "output_type": "stream",
     "text": [
      "[0 1]\n",
      "New Label Counts: Counter({0: 3804, 1: 355})\n",
      "Added 4159 Shape of Label_ind: (106222,)\n",
      "Number of duplicates 0\n",
      "np.unique: [0 1]\n"
     ]
    },
    {
     "name": "stderr",
     "output_type": "stream",
     "text": [
      "\n"
     ]
    },
    {
     "name": "stdout",
     "output_type": "stream",
     "text": [
      "[0.03028706 0.00980809 0.01953524 0.01577994 0.01577994 0.02076914\n",
      " 0.01577994 0.02076914 0.01953524 0.01535128 0.02076914 0.02076914\n",
      " 0.01577994 0.01953524 0.01953524 0.01953524 0.02078099 0.02076914\n",
      " 0.02076914 0.01577994 0.02662082 0.01577994 0.01577994 0.01577994\n",
      " 0.02078099 0.01577994 0.0086092  0.01577994 0.01577994 0.03028706\n",
      " 0.01953524 0.01577994 0.0018856  0.02076914 0.00258956 0.02076914\n",
      " 0.0162525  0.01953524 0.01535128 0.0162525  0.01577994 0.01577994\n",
      " 0.01577994 0.01295712 0.02078099 0.01953524 0.02078099 0.01953524\n",
      " 0.0018856  0.01577994 0.01953524 0.05079433 0.0018856  0.02076914\n",
      " 0.01577994 0.01577994 0.01577994 0.01577994 0.01953524 0.00980809\n",
      " 0.01577994 0.00424159 0.0018856  0.04704856 0.01131865 0.02076914\n",
      " 0.01577994 0.01577994 0.0018856  0.01953524 0.01577994 0.02076914\n",
      " 0.0086092  0.01953524 0.01953524 0.0086092  0.01577994 0.05079433\n",
      " 0.01577994 0.01535128 0.01577994 0.01577994 0.01577994 0.02078099\n",
      " 0.0018856  0.01953524 0.0086092  0.0253628  0.05009073 0.0162525\n",
      " 0.01577994 0.01577994 0.02076914 0.01577994 0.01577994 0.01953524\n",
      " 0.02076914 0.01577994 0.02076914 0.01577994]\n",
      "Round 9\n",
      "[206327 209333 204301 201458 206500 206589 208356 206603 206095 206088\n",
      " 208721 204448 209510 208335 208738 211758 204415 210428 213156 204358\n",
      " 202050 213147 210781 205264 213137 206678 208706 201827 210764 208362\n",
      " 210529 204621 211660 201452 210515 213246 208694 213236 213230 211679\n",
      " 204550 210505 211692 211694 208388 211710 205187 208382 210483 209492\n",
      " 206098 204481 206990 204977 207264 207774 205605 207165 210915 203697\n",
      " 207920 209828 207162 201024 205895 202631 205642 202902 201111 211127\n",
      " 211046 207369 201125 212407 205570 211039 202938 209035 205480 207725\n",
      " 202969 211033 213699 203445 205840 207903 202719 211086 209776 205566\n",
      " 205584 203593 212740 207877 202757 210136 212086 209792 201050 203295\n",
      " 212724 202790 203514 205593 203499 205543 207886 205595 205534 203478\n",
      " 212212 207899 212691 212796 209801 209872 210050 207035 203189 212859\n",
      " 209197 205780 205816 212587 205666 207649 207498 207461 212866 207672\n",
      " 207968 212467 210230 205670 203242 213659 203832 205467 209713 211167\n",
      " 205680 202510 202509 209881 207593 212104 209715 203886 208905 207425\n",
      " 202585 203291 203292 202579 212565 204573 210183 201045 205756 207869\n",
      " 212421 205537 202278 209632 210778 204968 206064 211034 204756 205510\n",
      " 208554 211498 202995 203384 206848 202356 204409 201475 204650 207660\n",
      " 206241 207669 207596 204043 209842 201127 203754 201108 205946 204696\n",
      " 201946 201006 213143 208973 206104 212067 209861 202449 203451 204097\n",
      " 209944 211460 205759 208255 211452 201651 205831 208079 209424 201785\n",
      " 207747 211991 201537 204280 203482 203285 204265 203686 211917 211724\n",
      " 208016 206809 203660 203228 206476 212354 201998 206592 210817 203774\n",
      " 204712 203458 205188 207800 210318 205396 206408 207830 211159 205181\n",
      " 205755 209536 205731 211304 204919 211756 204284 206013 212668 211605\n",
      " 204259 209658 212692 203848 212272 209148 206970 212778 208278 213024\n",
      " 205838 210494 210482 208790 212326 208152 212330 204714 202914 213710\n",
      " 213432 212556 203303 203818 202277 201999 211885 201966 208579 204566\n",
      " 207420 201201 208245 212788 202965 207935 210201 205344 213273 206978\n",
      " 208575 211489 210244 207988 211589 202361 211216 209043 201147 211358\n",
      " 204040 205108 208481 205721 208149 204292 212211 206780 201015 212296\n",
      " 211938 205568 206847 207300 206723 212274 208748 206083 212300 209786\n",
      " 206891 205690 211630 213791 206688 211155 210695 202005 207500 204371\n",
      " 209511 209291 211297 213602 209900 201323 203937 209629 213421 202188\n",
      " 209473 207605 212393 203628 203406 205858 208284 205849 211963 202721\n",
      " 207729 210393 213493 210595 201215 210823 211177 201553 209205 201187\n",
      " 204987 205386 208743 213425 205583 211188 205959 213625 210972 205983\n",
      " 211094 211091 213806 211422 201581 205495 201235 209107 210756 201146\n",
      " 201016 211141 205485 205157 208691 210793 208926 211238 213759 213685\n",
      " 208690 211240 206103 213580 210813 213698 205305 206155 213654 201540\n",
      " 210940 205681 211045 213661 205940 211157 213560 201096 209227 210903\n",
      " 206164 205292 201105 211322 205303 213620 205270 207373 204016 203615\n",
      " 203629 204093 208165 212762 202227 202228 203650 207207 204080 209617\n",
      " 212768 213023 202257 213020 204068 202709 202165 206793 207238 210359\n",
      " 204361 211794 207781 212343 206670 207949 211811 207799 202286 202090\n",
      " 202109 206720 212305 202776 209795 202128 204228 210138 210107 202019\n",
      " 213003 211984 212205 207989 207982 207031 202546 212186 212874 202626\n",
      " 207142 202564 210191 203745 207128 207963 203758 212838 202592 212894\n",
      " 207996 202492 212903 211986 204019 208604 202701 202694 202688 202355\n",
      " 207881 210159 202371 208039 206967 202429 203911 202681 212926 202438\n",
      " 202661 208054 207345 208277 209517 206362 204773 204749 210001 201737\n",
      " 208483 212607 203226 208480 203000 201752 203270 201763 203300 206482\n",
      " 207392 211593 209399 208530 208539 206234 208577 213405 201606 207545\n",
      " 207531 207627 207526 209916 210649 211485 209908 203191 213373 212504\n",
      " 208543 207489 204638 201807 207948 208443 206493 201917 211697 208417\n",
      " 201958 201988 212377 213176 212371 207374 212400 202935 211741 207348\n",
      " 204585 204588 207767 201823 202936 202903 213207 201940 204480 201937\n",
      " 204510 210513 213512 207322 207358 213804 210182 202609 205917 203448\n",
      " 202815 212681 210200 212528 207753 212221 203029 209033 212233 207727\n",
      " 209032 207455 209829 205556 201067 203696 212474 212754 203664 209891\n",
      " 212390 207202 212597 210890 209106 211082 200977 208600 203770 213278\n",
      " 208446 201819 201460 201459 201859 206532 208693 209290 201395 201986\n",
      " 201372 207597 206618 205226 204444 213535 205235 204399 204659 211345\n",
      " 201761 211604 201579 211426 213401 206244 201565 206269 204982 213375\n",
      " 204998 206077 201652 209388 213353 211522 213345 206371 204713 201745\n",
      " 210723 205112 210630 201144 211800 205269 206922 208035 211203 212065\n",
      " 211189 202485 213640 202512 203841 212878 203824 207064 207068 203799\n",
      " 205472 211147 203788 208915 207113 210293 204013 209221 213607 204308\n",
      " 211847 202108 202120 209252 206725 210363 208215 210349 204341 211937\n",
      " 210336 205311 206854 206021 211958 209621 209233 202270 202295 204122\n",
      " 201994]\n",
      "701\n"
     ]
    },
    {
     "name": "stderr",
     "output_type": "stream",
     "text": [
      "testing: 100%|██████████| 11/11 [00:00<00:00, 2662.59it/s]"
     ]
    },
    {
     "name": "stdout",
     "output_type": "stream",
     "text": [
      "[0 1]\n",
      "New Label Counts: Counter({1: 389, 0: 312})\n",
      "Added 701 Shape of Label_ind: (106923,)\n",
      "Number of duplicates 0\n",
      "np.unique: [0 1]\n"
     ]
    },
    {
     "name": "stderr",
     "output_type": "stream",
     "text": [
      "\n"
     ]
    },
    {
     "name": "stdout",
     "output_type": "stream",
     "text": [
      "[0.11379198 0.03423487 0.04424445 0.15577482 0.01103543 0.02180635\n",
      " 0.03071278 0.00450468 0.11609413 0.11379198 0.00764906 0.00116579\n",
      " 0.04424445 0.11379198 0.02149255 0.02862065 0.0640956  0.0640956\n",
      " 0.11379198 0.01103543 0.03423487 0.01358859 0.11379198 0.01103543\n",
      " 0.00450468 0.02180635 0.02605942 0.00764906 0.02180635 0.00288887\n",
      " 0.00450468 0.11379198 0.02180635 0.02149255 0.03423487 0.01358859\n",
      " 0.02180635 0.11379198 0.01350467 0.04424445 0.0026348  0.01632127\n",
      " 0.00485489 0.05647695 0.00764906 0.11379198 0.02180635 0.01358859\n",
      " 0.01103543 0.00450468 0.02149255 0.0640956  0.11379198 0.00450468\n",
      " 0.00450468 0.11379198 0.03423487 0.11379198 0.11379198 0.01267711\n",
      " 0.11379198 0.01632127 0.11379198 0.00450468 0.02180635 0.11379198\n",
      " 0.01103543 0.6832335  0.03423487 0.11379198 0.11379198 0.11379198\n",
      " 0.11379198 0.02180635 0.01103543 0.01791144 0.0640956  0.02180635\n",
      " 0.11379198 0.01358859 0.11379198 0.04424445 0.03285332 0.01791144\n",
      " 0.0107414  0.11379198 0.02862065 0.11379198 0.01539859 0.00450468\n",
      " 0.04034666 0.02149255 0.0044083  0.00450468 0.00387388 0.11379198\n",
      " 0.19665053 0.11379198 0.03423487 0.01100646]\n",
      "./Dataset/SimulatedCVE/cicflowmeter_cve/training_data/lm/lm_train_data_12.csv\n",
      "Added ./Dataset/SimulatedCVE/cicflowmeter_cve/training_data/lm/lm_train_data_12.csv as New LM Training Data\n"
     ]
    }
   ],
   "source": [
    "lm = Local_Model(gm_new)\n",
    "informative_score_list = lm.retrain_model(X_train_ge,threshold = 0.02,y_new=None, update_gm = False) # !Don't forget to change the update_gm flag"
   ]
  },
  {
   "cell_type": "code",
   "execution_count": 85,
   "metadata": {},
   "outputs": [
    {
     "data": {
      "image/png": "[encoded data removed]",
      "text/plain": [
       "<Figure size 1400x1400 with 10 Axes>"
      ]
     },
     "metadata": {},
     "output_type": "display_data"
    }
   ],
   "source": [
    "plot_supporting_scores(informative_score_list,10)"
   ]
  },
  {
   "cell_type": "code",
   "execution_count": 86,
   "metadata": {},
   "outputs": [
    {
     "name": "stdout",
     "output_type": "stream",
     "text": [
      "['lm_train_data_9.csv', 'lm_train_data_8.csv', 'lm_train_data_7.csv', 'lm_train_data_6.csv', 'lm_train_data_5.csv', 'lm_train_data_4.csv', 'lm_train_data_3.csv', 'lm_train_data_2.csv', 'lm_train_data_12.csv', 'lm_train_data_11.csv', 'lm_train_data_10.csv', 'lm_train_data_1.csv', 'lm_train_data_0.csv']\n"
     ]
    }
   ],
   "source": [
    "lm = Local_Model(gm_new)"
   ]
  },
  {
   "cell_type": "code",
   "execution_count": 87,
   "metadata": {},
   "outputs": [
    {
     "name": "stdout",
     "output_type": "stream",
     "text": [
      "[0 1]\n",
      "Accuracy of LM 0.9007347242459001 F1_Score 0.41845259716672717\n"
     ]
    },
    {
     "name": "stderr",
     "output_type": "stream",
     "text": [
      "testing: 100%|██████████| 505/505 [00:00<00:00, 3114.54it/s]\n"
     ]
    },
    {
     "name": "stdout",
     "output_type": "stream",
     "text": [
      "[0 1]\n",
      "Accuracy of GM 0.956443562637567 F1_Score 0.8045625260815135\n"
     ]
    }
   ],
   "source": [
    "lm_out = lm.perform_inference(X_test_ge)\n",
    "print(\"Accuracy of LM\", accuracy_score(lm_out,y_test_ge), \"F1_Score\", f1_score(lm_out, y_test_ge))\n",
    "gm_out = gm_new.perform_inference(X_test_ge)\n",
    "print(\"Accuracy of GM\", accuracy_score(gm_out,y_test_ge), \"F1_Score\", f1_score(gm_out, y_test_ge))"
   ]
  },
  {
   "cell_type": "markdown",
   "metadata": {},
   "source": [
    "## Globally Unseen Attack(GM Active Learning) State 4"
   ]
  },
  {
   "cell_type": "markdown",
   "metadata": {},
   "source": [
    "### Giving the Complete Labeled Data"
   ]
  },
  {
   "cell_type": "code",
   "execution_count": 88,
   "metadata": {},
   "outputs": [],
   "source": [
    "def plot_anomaly_scores(anomaly_scores, y_test):\n",
    "    # Separate anomaly scores based on the labels\n",
    "    scores_inliers = anomaly_scores[y_test == 0]  # Assuming '0' is the label for inliers\n",
    "    scores_outliers = anomaly_scores[y_test == 1]  # Assuming '1' is the label for outliers\n",
    "    \n",
    "    # Create the plots\n",
    "    fig, ax = plt.subplots(1, 1, figsize=(15, 5))  # Adjusted for better visualizati\n",
    "    # Plot for inliers and outliers\n",
    "    ax.hist(scores_inliers, bins=100, alpha=0.7, label='Inliers', log=True)\n",
    "    ax.hist(scores_outliers, bins=100, alpha=0.7, label='Outliers', log=True)\n",
    "    ax.set_title('Distribution of Anomaly Scores')\n",
    "    ax.set_xlabel('Anomaly Score')\n",
    "    ax.set_ylabel('Frequency')\n",
    "    ax.legend()"
   ]
  },
  {
   "cell_type": "code",
   "execution_count": 91,
   "metadata": {},
   "outputs": [
    {
     "name": "stderr",
     "output_type": "stream",
     "text": [
      "testing: 100%|██████████| 505/505 [00:00<00:00, 2054.46it/s]\n"
     ]
    },
    {
     "name": "stdout",
     "output_type": "stream",
     "text": [
      "[0 1]\n",
      "Accuracy of Before Training GM 0.8887993303779025 F1_Score 0.41845259716672717\n"
     ]
    }
   ],
   "source": [
    "# ? Using the Original GM... \n",
    "# ? Since the GLobal Model offload \n",
    "gm_out = gm.perform_inference(X_test_ge)\n",
    "print(\"Accuracy of Before Training GM\", accuracy_score(gm_out,y_test_ge), \"F1_Score\", f1_score(lm_out, y_test_ge))"
   ]
  },
  {
   "cell_type": "code",
   "execution_count": 90,
   "metadata": {},
   "outputs": [
    {
     "name": "stderr",
     "output_type": "stream",
     "text": [
      "testing: 100%|██████████| 505/505 [00:00<00:00, 3015.35it/s]\n"
     ]
    },
    {
     "name": "stdout",
     "output_type": "stream",
     "text": [
      "Optimal Threshold of gm 4.772850513458252\n"
     ]
    },
    {
     "name": "stderr",
     "output_type": "stream",
     "text": [
      "testing: 100%|██████████| 505/505 [00:00<00:00, 3059.53it/s]\n"
     ]
    },
    {
     "name": "stdout",
     "output_type": "stream",
     "text": [
      "Optimal Threshold of gm_new 3.691129684448242\n"
     ]
    },
    {
     "data": {
      "image/png": "[encoded data removed]",
      "text/plain": [
       "<Figure size 1500x500 with 1 Axes>"
      ]
     },
     "metadata": {},
     "output_type": "display_data"
    },
    {
     "data": {
      "image/png": "[encoded data removed]",
      "text/plain": [
       "<Figure size 1500x500 with 1 Axes>"
      ]
     },
     "metadata": {},
     "output_type": "display_data"
    }
   ],
   "source": [
    "X_test_scaled_ge = scaler.transform(X_test_ge)\n",
    "anomaly_scores = gm.model.decision_function(X_test_scaled_ge)\n",
    "print(\"Optimal Threshold of gm\", gm.opt_threshold)\n",
    "plot_anomaly_scores(anomaly_scores, y_test_ge)\n",
    "new_anomaly_scores = gm_new.model.decision_function(X_test_scaled_ge)\n",
    "print(\"Optimal Threshold of gm_new\", gm_new.opt_threshold)\n",
    "plot_anomaly_scores(new_anomaly_scores, y_test_ge)"
   ]
  },
  {
   "cell_type": "markdown",
   "metadata": {},
   "source": [
    "### Training with GM's Active Learning and Unsupervised"
   ]
  },
  {
   "cell_type": "markdown",
   "metadata": {},
   "source": [
    "Before"
   ]
  },
  {
   "cell_type": "markdown",
   "metadata": {},
   "source": [
    "Take all the data"
   ]
  },
  {
   "cell_type": "code",
   "execution_count": 92,
   "metadata": {},
   "outputs": [],
   "source": [
    "# ge_df = pd.read_csv(\"Dataset/SimulatedCVE/cicflowmeter_cve/goldeneye/merged_20240816133105_ISCX.csv\")\n",
    "# ge_unlabeled_df = ge_df.copy()\n",
    "# ge_unlabeled_df[\"Label\"] = 0\n",
    "# ge_unlabeled_df.to_csv(\"ge_unlabeled.csv\", index=False)"
   ]
  },
  {
   "cell_type": "code",
   "execution_count": 93,
   "metadata": {},
   "outputs": [
    {
     "name": "stdout",
     "output_type": "stream",
     "text": [
      "['./Dataset/SimulatedCVE/cicflowmeter_cve/dripper/merged_20240809091803_ISCX.csv', './Dataset/SimulatedCVE/cicflowmeter_cve/dripper/merged_20240809091912_ISCX.csv', './Dataset/SimulatedCVE/cicflowmeter_cve/dripper/merged_20240809091837_ISCX.csv', './Dataset/SimulatedCVE/cicflowmeter_cve/dripper/merged_20240809091950_ISCX.csv', './Dataset/SimulatedCVE/cicflowmeter_cve/dripper/merged_20240809092024_ISCX.csv']\n",
      "dripper\n",
      "['./Dataset/SimulatedCVE/cicflowmeter_cve/BENIGN/final_merged_1.csv', './Dataset/SimulatedCVE/cicflowmeter_cve/BENIGN/final_merged_2.csv', './Dataset/SimulatedCVE/cicflowmeter_cve/BENIGN/final_merged.csv']\n",
      "BENIGN\n",
      "['./Dataset/SimulatedCVE/cicflowmeter_cve/bonesi/gm_train_data_0.csv', './Dataset/SimulatedCVE/cicflowmeter_cve/bonesi/merged_20240813111613_ISCX.csv']\n",
      "bonesi\n",
      "dataset shape (404749, 61)\n",
      "838 rows dropped\n",
      "Index(['Flow Duration', 'Tot Fwd Pkts', 'Tot Bwd Pkts', 'TotLen Fwd Pkts',\n",
      "       'TotLen Bwd Pkts', 'Fwd Pkt Len Max', 'Fwd Pkt Len Min',\n",
      "       'Fwd Pkt Len Mean', 'Fwd Pkt Len Std', 'Bwd Pkt Len Max',\n",
      "       'Bwd Pkt Len Min', 'Bwd Pkt Len Mean', 'Bwd Pkt Len Std', 'Flow Byts/s',\n",
      "       'Flow Pkts/s', 'Flow IAT Mean', 'Flow IAT Std', 'Flow IAT Max',\n",
      "       'Flow IAT Min', 'Fwd IAT Tot', 'Fwd IAT Mean', 'Fwd IAT Std',\n",
      "       'Fwd IAT Max', 'Fwd IAT Min', 'Bwd IAT Tot', 'Bwd IAT Mean',\n",
      "       'Bwd IAT Std', 'Bwd IAT Max', 'Bwd IAT Min', 'Fwd PSH Flags',\n",
      "       'Fwd Header Len', 'Bwd Header Len', 'Fwd Pkts/s', 'Bwd Pkts/s',\n",
      "       'Pkt Len Min', 'Pkt Len Max', 'Pkt Len Mean', 'Pkt Len Std',\n",
      "       'Pkt Len Var', 'FIN Flag Cnt', 'PSH Flag Cnt', 'ACK Flag Cnt',\n",
      "       'URG Flag Cnt', 'Down/Up Ratio', 'Pkt Size Avg', 'Fwd Seg Size Avg',\n",
      "       'Bwd Seg Size Avg', 'Subflow Fwd Byts', 'Subflow Bwd Byts',\n",
      "       'Init Fwd Win Byts', 'Init Bwd Win Byts', 'Fwd Act Data Pkts',\n",
      "       'Fwd Seg Size Min', 'Active Mean', 'Active Std', 'Active Max',\n",
      "       'Active Min', 'Idle Mean', 'Idle Std', 'Idle Max', 'Idle Min'],\n",
      "      dtype='object')\n",
      "replace na\n",
      "Finish Reading Train_folder\n",
      "['./Dataset/SimulatedCVE/cicflowmeter_cve/goldeneye_unlabeled/ge_unlabeled.csv']\n",
      "goldeneye_unlabeled\n",
      "dataset shape (21294, 61)\n",
      "0 rows dropped\n",
      "Index(['Flow Duration', 'Tot Fwd Pkts', 'Tot Bwd Pkts', 'TotLen Fwd Pkts',\n",
      "       'TotLen Bwd Pkts', 'Fwd Pkt Len Max', 'Fwd Pkt Len Min',\n",
      "       'Fwd Pkt Len Mean', 'Fwd Pkt Len Std', 'Bwd Pkt Len Max',\n",
      "       'Bwd Pkt Len Min', 'Bwd Pkt Len Mean', 'Bwd Pkt Len Std', 'Flow Byts/s',\n",
      "       'Flow Pkts/s', 'Flow IAT Mean', 'Flow IAT Std', 'Flow IAT Max',\n",
      "       'Flow IAT Min', 'Fwd IAT Tot', 'Fwd IAT Mean', 'Fwd IAT Std',\n",
      "       'Fwd IAT Max', 'Fwd IAT Min', 'Bwd IAT Tot', 'Bwd IAT Mean',\n",
      "       'Bwd IAT Std', 'Bwd IAT Max', 'Bwd IAT Min', 'Fwd PSH Flags',\n",
      "       'Fwd Header Len', 'Bwd Header Len', 'Fwd Pkts/s', 'Bwd Pkts/s',\n",
      "       'Pkt Len Min', 'Pkt Len Max', 'Pkt Len Mean', 'Pkt Len Std',\n",
      "       'Pkt Len Var', 'FIN Flag Cnt', 'PSH Flag Cnt', 'ACK Flag Cnt',\n",
      "       'URG Flag Cnt', 'Down/Up Ratio', 'Pkt Size Avg', 'Fwd Seg Size Avg',\n",
      "       'Bwd Seg Size Avg', 'Subflow Fwd Byts', 'Subflow Bwd Byts',\n",
      "       'Init Fwd Win Byts', 'Init Bwd Win Byts', 'Fwd Act Data Pkts',\n",
      "       'Fwd Seg Size Min', 'Active Mean', 'Active Std', 'Active Max',\n",
      "       'Active Min', 'Idle Mean', 'Idle Std', 'Idle Max', 'Idle Min'],\n",
      "      dtype='object')\n",
      "replace na\n",
      "Before Merging Label\n",
      "0    140074\n",
      "1      7004\n",
      "Name: count, dtype: int64\n",
      "After Merging Label\n",
      "0    140074\n",
      "1     28204\n",
      "Name: count, dtype: int64\n",
      "Start Training...\n",
      "ensemble size: 1\n",
      "training data counter: Counter({0: 112059, -1: 22563})\n",
      "MLPnet(\n",
      "  (network): Sequential(\n",
      "    (0): LinearBlock(\n",
      "      (linear): Linear(in_features=61, out_features=100, bias=False)\n",
      "      (act_layer): ReLU()\n",
      "    )\n",
      "    (1): LinearBlock(\n",
      "      (linear): Linear(in_features=100, out_features=50, bias=False)\n",
      "      (act_layer): ReLU()\n",
      "    )\n",
      "    (2): LinearBlock(\n",
      "      (linear): Linear(in_features=50, out_features=128, bias=False)\n",
      "      (act_layer): Identity()\n",
      "    )\n",
      "  )\n",
      ")\n",
      "epoch  1, training loss: 0.283928, time: 2.4s\n",
      "Start Inference on the training data...\n"
     ]
    },
    {
     "name": "stderr",
     "output_type": "stream",
     "text": [
      "testing: 100%|██████████| 2104/2104 [00:00<00:00, 2511.51it/s]\n",
      "testing: 100%|██████████| 526/526 [00:00<00:00, 2606.28it/s]"
     ]
    },
    {
     "name": "stdout",
     "output_type": "stream",
     "text": [
      "F1 Score: 0.9079, Accuracy: 0.9689\n",
      "[[27444   571]\n",
      " [  477  5164]]\n"
     ]
    },
    {
     "name": "stderr",
     "output_type": "stream",
     "text": [
      "\n"
     ]
    }
   ],
   "source": [
    "gm_ge = Global_Model(['dripper/', 'BENIGN/', 'bonesi/'], new_data_folder = [\"goldeneye_unlabeled/\"]) #Reload the model"
   ]
  },
  {
   "cell_type": "code",
   "execution_count": 94,
   "metadata": {},
   "outputs": [
    {
     "name": "stderr",
     "output_type": "stream",
     "text": [
      "testing: 100%|██████████| 505/505 [00:00<00:00, 2291.10it/s]"
     ]
    },
    {
     "name": "stdout",
     "output_type": "stream",
     "text": [
      "[0 1]\n",
      "Accuracy of GM 0.9710760455095018 F1_Score 0.8927216281476371\n"
     ]
    },
    {
     "name": "stderr",
     "output_type": "stream",
     "text": [
      "\n"
     ]
    }
   ],
   "source": [
    "gm_out = gm_ge.perform_inference(X_test_ge)\n",
    "print(\"Accuracy of GM\", accuracy_score(gm_out,y_test_ge), \"F1_Score\", f1_score(gm_out, y_test_ge))"
   ]
  },
  {
   "cell_type": "code",
   "execution_count": 95,
   "metadata": {},
   "outputs": [
    {
     "name": "stderr",
     "output_type": "stream",
     "text": [
      "testing: 100%|██████████| 505/505 [00:00<00:00, 2287.16it/s]\n"
     ]
    },
    {
     "name": "stdout",
     "output_type": "stream",
     "text": [
      "Optimal Threshold of gm_new 3.691129684448242\n"
     ]
    },
    {
     "data": {
      "image/png": "[encoded data removed]",
      "text/plain": [
       "<Figure size 1500x500 with 1 Axes>"
      ]
     },
     "metadata": {},
     "output_type": "display_data"
    }
   ],
   "source": [
    "X_test_scaled_ge = scaler.transform(X_test_ge)\n",
    "new_anomaly_scores = gm_ge.model.decision_function(X_test_scaled_ge)\n",
    "print(\"Optimal Threshold of gm_new\", gm_new.opt_threshold)\n",
    "plot_anomaly_scores(new_anomaly_scores, y_test_ge)"
   ]
  },
  {
   "attachments": {
    "image.png": {
     "image/png": "[encoded data removed]"
    }
   },
   "cell_type": "markdown",
   "metadata": {},
   "source": [
    "Take Data Near the Threshold\n",
    "![image.png](attachment:image.png)"
   ]
  },
  {
   "cell_type": "code",
   "execution_count": 96,
   "metadata": {},
   "outputs": [],
   "source": [
    "ge_df = pd.read_csv(\"Dataset/SimulatedCVE/cicflowmeter_cve/goldeneye/merged_20240816133105_ISCX.csv\")\n",
    "ge_unlabeled_df = ge_df.copy()\n",
    "ge_unlabeled_df[\"Label\"] = 0"
   ]
  },
  {
   "cell_type": "code",
   "execution_count": 97,
   "metadata": {},
   "outputs": [
    {
     "name": "stderr",
     "output_type": "stream",
     "text": [
      "testing: 100%|██████████| 333/333 [00:00<00:00, 2419.50it/s]\n"
     ]
    }
   ],
   "source": [
    "def gm_select_data(gm, data):\n",
    "  scaled_data = data[features[2:]]\n",
    "  scaled_data = scaler.transform(scaled_data)\n",
    "  scores = gm.model.decision_function(scaled_data)\n",
    "  selected_idx = np.where(np.logical_and(scores > gm.opt_threshold -2, scores < gm.opt_threshold +1))\n",
    "  return data.iloc[selected_idx]\n",
    "# Using original GM, \n",
    "filtered_data = gm_select_data(gm,ge_unlabeled_df)\n",
    "filtered_data.to_csv(\"goldeneye_filtered_0.csv\", index=False)"
   ]
  },
  {
   "cell_type": "code",
   "execution_count": 98,
   "metadata": {},
   "outputs": [
    {
     "name": "stdout",
     "output_type": "stream",
     "text": [
      "['./Dataset/SimulatedCVE/cicflowmeter_cve/dripper/merged_20240809091803_ISCX.csv', './Dataset/SimulatedCVE/cicflowmeter_cve/dripper/merged_20240809091912_ISCX.csv', './Dataset/SimulatedCVE/cicflowmeter_cve/dripper/merged_20240809091837_ISCX.csv', './Dataset/SimulatedCVE/cicflowmeter_cve/dripper/merged_20240809091950_ISCX.csv', './Dataset/SimulatedCVE/cicflowmeter_cve/dripper/merged_20240809092024_ISCX.csv']\n",
      "dripper\n",
      "['./Dataset/SimulatedCVE/cicflowmeter_cve/BENIGN/final_merged_1.csv', './Dataset/SimulatedCVE/cicflowmeter_cve/BENIGN/final_merged_2.csv', './Dataset/SimulatedCVE/cicflowmeter_cve/BENIGN/final_merged.csv']\n",
      "BENIGN\n",
      "['./Dataset/SimulatedCVE/cicflowmeter_cve/bonesi/gm_train_data_0.csv', './Dataset/SimulatedCVE/cicflowmeter_cve/bonesi/merged_20240813111613_ISCX.csv']\n",
      "bonesi\n",
      "dataset shape (404749, 61)\n",
      "838 rows dropped\n",
      "Index(['Flow Duration', 'Tot Fwd Pkts', 'Tot Bwd Pkts', 'TotLen Fwd Pkts',\n",
      "       'TotLen Bwd Pkts', 'Fwd Pkt Len Max', 'Fwd Pkt Len Min',\n",
      "       'Fwd Pkt Len Mean', 'Fwd Pkt Len Std', 'Bwd Pkt Len Max',\n",
      "       'Bwd Pkt Len Min', 'Bwd Pkt Len Mean', 'Bwd Pkt Len Std', 'Flow Byts/s',\n",
      "       'Flow Pkts/s', 'Flow IAT Mean', 'Flow IAT Std', 'Flow IAT Max',\n",
      "       'Flow IAT Min', 'Fwd IAT Tot', 'Fwd IAT Mean', 'Fwd IAT Std',\n",
      "       'Fwd IAT Max', 'Fwd IAT Min', 'Bwd IAT Tot', 'Bwd IAT Mean',\n",
      "       'Bwd IAT Std', 'Bwd IAT Max', 'Bwd IAT Min', 'Fwd PSH Flags',\n",
      "       'Fwd Header Len', 'Bwd Header Len', 'Fwd Pkts/s', 'Bwd Pkts/s',\n",
      "       'Pkt Len Min', 'Pkt Len Max', 'Pkt Len Mean', 'Pkt Len Std',\n",
      "       'Pkt Len Var', 'FIN Flag Cnt', 'PSH Flag Cnt', 'ACK Flag Cnt',\n",
      "       'URG Flag Cnt', 'Down/Up Ratio', 'Pkt Size Avg', 'Fwd Seg Size Avg',\n",
      "       'Bwd Seg Size Avg', 'Subflow Fwd Byts', 'Subflow Bwd Byts',\n",
      "       'Init Fwd Win Byts', 'Init Bwd Win Byts', 'Fwd Act Data Pkts',\n",
      "       'Fwd Seg Size Min', 'Active Mean', 'Active Std', 'Active Max',\n",
      "       'Active Min', 'Idle Mean', 'Idle Std', 'Idle Max', 'Idle Min'],\n",
      "      dtype='object')\n",
      "replace na\n",
      "Finish Reading Train_folder\n",
      "['./Dataset/SimulatedCVE/cicflowmeter_cve/goldeneye_filtered/goldeneye_filtered_0.csv']\n",
      "goldeneye_filtered\n",
      "dataset shape (6426, 61)\n",
      "0 rows dropped\n",
      "Index(['Flow Duration', 'Tot Fwd Pkts', 'Tot Bwd Pkts', 'TotLen Fwd Pkts',\n",
      "       'TotLen Bwd Pkts', 'Fwd Pkt Len Max', 'Fwd Pkt Len Min',\n",
      "       'Fwd Pkt Len Mean', 'Fwd Pkt Len Std', 'Bwd Pkt Len Max',\n",
      "       'Bwd Pkt Len Min', 'Bwd Pkt Len Mean', 'Bwd Pkt Len Std', 'Flow Byts/s',\n",
      "       'Flow Pkts/s', 'Flow IAT Mean', 'Flow IAT Std', 'Flow IAT Max',\n",
      "       'Flow IAT Min', 'Fwd IAT Tot', 'Fwd IAT Mean', 'Fwd IAT Std',\n",
      "       'Fwd IAT Max', 'Fwd IAT Min', 'Bwd IAT Tot', 'Bwd IAT Mean',\n",
      "       'Bwd IAT Std', 'Bwd IAT Max', 'Bwd IAT Min', 'Fwd PSH Flags',\n",
      "       'Fwd Header Len', 'Bwd Header Len', 'Fwd Pkts/s', 'Bwd Pkts/s',\n",
      "       'Pkt Len Min', 'Pkt Len Max', 'Pkt Len Mean', 'Pkt Len Std',\n",
      "       'Pkt Len Var', 'FIN Flag Cnt', 'PSH Flag Cnt', 'ACK Flag Cnt',\n",
      "       'URG Flag Cnt', 'Down/Up Ratio', 'Pkt Size Avg', 'Fwd Seg Size Avg',\n",
      "       'Bwd Seg Size Avg', 'Subflow Fwd Byts', 'Subflow Bwd Byts',\n",
      "       'Init Fwd Win Byts', 'Init Bwd Win Byts', 'Fwd Act Data Pkts',\n",
      "       'Fwd Seg Size Min', 'Active Mean', 'Active Std', 'Active Max',\n",
      "       'Active Min', 'Idle Mean', 'Idle Std', 'Idle Max', 'Idle Min'],\n",
      "      dtype='object')\n",
      "replace na\n",
      "Before Merging Label\n",
      "0    140074\n",
      "1      7004\n",
      "Name: count, dtype: int64\n",
      "After Merging Label\n",
      "0    140074\n",
      "1     13412\n",
      "Name: count, dtype: int64\n",
      "Start Training...\n",
      "ensemble size: 1\n",
      "training data counter: Counter({0: 112058, -1: 10730})\n",
      "MLPnet(\n",
      "  (network): Sequential(\n",
      "    (0): LinearBlock(\n",
      "      (linear): Linear(in_features=61, out_features=100, bias=False)\n",
      "      (act_layer): ReLU()\n",
      "    )\n",
      "    (1): LinearBlock(\n",
      "      (linear): Linear(in_features=100, out_features=50, bias=False)\n",
      "      (act_layer): ReLU()\n",
      "    )\n",
      "    (2): LinearBlock(\n",
      "      (linear): Linear(in_features=50, out_features=128, bias=False)\n",
      "      (act_layer): Identity()\n",
      "    )\n",
      "  )\n",
      ")\n",
      "epoch  1, training loss: 0.223832, time: 2.2s\n",
      "Start Inference on the training data...\n"
     ]
    },
    {
     "name": "stderr",
     "output_type": "stream",
     "text": [
      "testing: 100%|██████████| 1919/1919 [00:00<00:00, 2745.76it/s]\n",
      "testing: 100%|██████████| 480/480 [00:00<00:00, 2737.28it/s]\n"
     ]
    },
    {
     "name": "stdout",
     "output_type": "stream",
     "text": [
      "F1 Score: 0.9553, Accuracy: 0.9921\n",
      "[[27880   136]\n",
      " [  105  2577]]\n"
     ]
    }
   ],
   "source": [
    "gm_filtered = Global_Model(['dripper/', 'BENIGN/', 'bonesi/'], new_data_folder = [\"goldeneye_filtered/\"]) #Reload the model"
   ]
  },
  {
   "cell_type": "code",
   "execution_count": 102,
   "metadata": {},
   "outputs": [
    {
     "name": "stderr",
     "output_type": "stream",
     "text": [
      "testing: 100%|██████████| 505/505 [00:00<00:00, 3018.92it/s]\n"
     ]
    },
    {
     "name": "stdout",
     "output_type": "stream",
     "text": [
      "[0 1]\n",
      "Accuracy of GM 0.9710760455095018 F1_Score 0.8927216281476371\n"
     ]
    },
    {
     "name": "stderr",
     "output_type": "stream",
     "text": [
      "testing: 100%|██████████| 505/505 [00:00<00:00, 2962.96it/s]\n"
     ]
    },
    {
     "name": "stdout",
     "output_type": "stream",
     "text": [
      "Optimal Threshold of gm_new 3.691129684448242\n"
     ]
    },
    {
     "data": {
      "image/png": "[encoded data removed]",
      "text/plain": [
       "<Figure size 1500x500 with 1 Axes>"
      ]
     },
     "metadata": {},
     "output_type": "display_data"
    }
   ],
   "source": [
    "gm_out = gm_ge.perform_inference(X_test_ge)\n",
    "print(\"Accuracy of GM\", accuracy_score(gm_out,y_test_ge), \"F1_Score\", f1_score(gm_out, y_test_ge))\n",
    "X_test_scaled_ge = scaler.transform(X_test_ge)\n",
    "new_anomaly_scores = gm_ge.model.decision_function(X_test_scaled_ge)\n",
    "print(\"Optimal Threshold of gm_new\", gm_new.opt_threshold)\n",
    "plot_anomaly_scores(new_anomaly_scores, y_test_ge)"
   ]
  },
  {
   "cell_type": "code",
   "execution_count": 100,
   "metadata": {},
   "outputs": [],
   "source": [
    "import pandas as pd"
   ]
  },
  {
   "cell_type": "code",
   "execution_count": 101,
   "metadata": {},
   "outputs": [
    {
     "data": {
      "text/html": [
       "<div>\n",
       "<style scoped>\n",
       "    .dataframe tbody tr th:only-of-type {\n",
       "        vertical-align: middle;\n",
       "    }\n",
       "\n",
       "    .dataframe tbody tr th {\n",
       "        vertical-align: top;\n",
       "    }\n",
       "\n",
       "    .dataframe thead th {\n",
       "        text-align: right;\n",
       "    }\n",
       "</style>\n",
       "<table border=\"1\" class=\"dataframe\">\n",
       "  <thead>\n",
       "    <tr style=\"text-align: right;\">\n",
       "      <th></th>\n",
       "      <th>Src IP</th>\n",
       "      <th>Dst IP</th>\n",
       "      <th>Flow Duration</th>\n",
       "      <th>Tot Fwd Pkts</th>\n",
       "      <th>Tot Bwd Pkts</th>\n",
       "      <th>TotLen Fwd Pkts</th>\n",
       "      <th>TotLen Bwd Pkts</th>\n",
       "      <th>Fwd Pkt Len Max</th>\n",
       "      <th>Fwd Pkt Len Min</th>\n",
       "      <th>Fwd Pkt Len Mean</th>\n",
       "      <th>...</th>\n",
       "      <th>Fwd Act Data Pkts</th>\n",
       "      <th>Fwd Seg Size Min</th>\n",
       "      <th>Active Mean</th>\n",
       "      <th>Active Std</th>\n",
       "      <th>Active Max</th>\n",
       "      <th>Active Min</th>\n",
       "      <th>Idle Mean</th>\n",
       "      <th>Idle Std</th>\n",
       "      <th>Idle Max</th>\n",
       "      <th>Idle Min</th>\n",
       "    </tr>\n",
       "  </thead>\n",
       "  <tbody>\n",
       "    <tr>\n",
       "      <th>0</th>\n",
       "      <td>192.168.50.181</td>\n",
       "      <td>192.168.50.12</td>\n",
       "      <td>336292</td>\n",
       "      <td>3</td>\n",
       "      <td>4</td>\n",
       "      <td>398.0</td>\n",
       "      <td>219.0</td>\n",
       "      <td>398.0</td>\n",
       "      <td>0.0</td>\n",
       "      <td>132.666667</td>\n",
       "      <td>...</td>\n",
       "      <td>1</td>\n",
       "      <td>20</td>\n",
       "      <td>0.0</td>\n",
       "      <td>0.000000e+00</td>\n",
       "      <td>0.0</td>\n",
       "      <td>0.0</td>\n",
       "      <td>0.0</td>\n",
       "      <td>0.000000e+00</td>\n",
       "      <td>0.0</td>\n",
       "      <td>0.0</td>\n",
       "    </tr>\n",
       "    <tr>\n",
       "      <th>1</th>\n",
       "      <td>192.168.50.181</td>\n",
       "      <td>192.168.50.12</td>\n",
       "      <td>336401</td>\n",
       "      <td>3</td>\n",
       "      <td>4</td>\n",
       "      <td>398.0</td>\n",
       "      <td>219.0</td>\n",
       "      <td>398.0</td>\n",
       "      <td>0.0</td>\n",
       "      <td>132.666667</td>\n",
       "      <td>...</td>\n",
       "      <td>1</td>\n",
       "      <td>20</td>\n",
       "      <td>0.0</td>\n",
       "      <td>0.000000e+00</td>\n",
       "      <td>0.0</td>\n",
       "      <td>0.0</td>\n",
       "      <td>0.0</td>\n",
       "      <td>0.000000e+00</td>\n",
       "      <td>0.0</td>\n",
       "      <td>0.0</td>\n",
       "    </tr>\n",
       "    <tr>\n",
       "      <th>2</th>\n",
       "      <td>192.168.50.181</td>\n",
       "      <td>192.168.50.12</td>\n",
       "      <td>336415</td>\n",
       "      <td>3</td>\n",
       "      <td>4</td>\n",
       "      <td>398.0</td>\n",
       "      <td>219.0</td>\n",
       "      <td>398.0</td>\n",
       "      <td>0.0</td>\n",
       "      <td>132.666667</td>\n",
       "      <td>...</td>\n",
       "      <td>1</td>\n",
       "      <td>20</td>\n",
       "      <td>0.0</td>\n",
       "      <td>0.000000e+00</td>\n",
       "      <td>0.0</td>\n",
       "      <td>0.0</td>\n",
       "      <td>0.0</td>\n",
       "      <td>0.000000e+00</td>\n",
       "      <td>0.0</td>\n",
       "      <td>0.0</td>\n",
       "    </tr>\n",
       "    <tr>\n",
       "      <th>3</th>\n",
       "      <td>192.168.50.181</td>\n",
       "      <td>192.168.50.12</td>\n",
       "      <td>336451</td>\n",
       "      <td>3</td>\n",
       "      <td>4</td>\n",
       "      <td>398.0</td>\n",
       "      <td>219.0</td>\n",
       "      <td>398.0</td>\n",
       "      <td>0.0</td>\n",
       "      <td>132.666667</td>\n",
       "      <td>...</td>\n",
       "      <td>1</td>\n",
       "      <td>20</td>\n",
       "      <td>0.0</td>\n",
       "      <td>0.000000e+00</td>\n",
       "      <td>0.0</td>\n",
       "      <td>0.0</td>\n",
       "      <td>0.0</td>\n",
       "      <td>0.000000e+00</td>\n",
       "      <td>0.0</td>\n",
       "      <td>0.0</td>\n",
       "    </tr>\n",
       "    <tr>\n",
       "      <th>4</th>\n",
       "      <td>192.168.50.181</td>\n",
       "      <td>192.168.50.12</td>\n",
       "      <td>821622</td>\n",
       "      <td>7</td>\n",
       "      <td>7</td>\n",
       "      <td>796.0</td>\n",
       "      <td>219.0</td>\n",
       "      <td>398.0</td>\n",
       "      <td>0.0</td>\n",
       "      <td>113.714286</td>\n",
       "      <td>...</td>\n",
       "      <td>2</td>\n",
       "      <td>20</td>\n",
       "      <td>0.0</td>\n",
       "      <td>0.000000e+00</td>\n",
       "      <td>0.0</td>\n",
       "      <td>0.0</td>\n",
       "      <td>0.0</td>\n",
       "      <td>0.000000e+00</td>\n",
       "      <td>0.0</td>\n",
       "      <td>0.0</td>\n",
       "    </tr>\n",
       "    <tr>\n",
       "      <th>...</th>\n",
       "      <td>...</td>\n",
       "      <td>...</td>\n",
       "      <td>...</td>\n",
       "      <td>...</td>\n",
       "      <td>...</td>\n",
       "      <td>...</td>\n",
       "      <td>...</td>\n",
       "      <td>...</td>\n",
       "      <td>...</td>\n",
       "      <td>...</td>\n",
       "      <td>...</td>\n",
       "      <td>...</td>\n",
       "      <td>...</td>\n",
       "      <td>...</td>\n",
       "      <td>...</td>\n",
       "      <td>...</td>\n",
       "      <td>...</td>\n",
       "      <td>...</td>\n",
       "      <td>...</td>\n",
       "      <td>...</td>\n",
       "      <td>...</td>\n",
       "    </tr>\n",
       "    <tr>\n",
       "      <th>31948</th>\n",
       "      <td>192.168.50.12</td>\n",
       "      <td>192.168.50.181</td>\n",
       "      <td>30185808</td>\n",
       "      <td>6</td>\n",
       "      <td>7</td>\n",
       "      <td>0.0</td>\n",
       "      <td>398.0</td>\n",
       "      <td>0.0</td>\n",
       "      <td>0.0</td>\n",
       "      <td>0.000000</td>\n",
       "      <td>...</td>\n",
       "      <td>0</td>\n",
       "      <td>20</td>\n",
       "      <td>418274.0</td>\n",
       "      <td>0.000000e+00</td>\n",
       "      <td>418274.0</td>\n",
       "      <td>418274.0</td>\n",
       "      <td>14883757.5</td>\n",
       "      <td>1.197270e+07</td>\n",
       "      <td>23349735.0</td>\n",
       "      <td>6417780.0</td>\n",
       "    </tr>\n",
       "    <tr>\n",
       "      <th>31949</th>\n",
       "      <td>192.168.50.12</td>\n",
       "      <td>192.168.50.181</td>\n",
       "      <td>24011140</td>\n",
       "      <td>4</td>\n",
       "      <td>6</td>\n",
       "      <td>0.0</td>\n",
       "      <td>398.0</td>\n",
       "      <td>0.0</td>\n",
       "      <td>0.0</td>\n",
       "      <td>0.000000</td>\n",
       "      <td>...</td>\n",
       "      <td>0</td>\n",
       "      <td>20</td>\n",
       "      <td>204221.0</td>\n",
       "      <td>0.000000e+00</td>\n",
       "      <td>204221.0</td>\n",
       "      <td>204221.0</td>\n",
       "      <td>11851327.5</td>\n",
       "      <td>8.647481e+06</td>\n",
       "      <td>17966020.0</td>\n",
       "      <td>5736635.0</td>\n",
       "    </tr>\n",
       "    <tr>\n",
       "      <th>31950</th>\n",
       "      <td>192.168.50.181</td>\n",
       "      <td>192.168.50.12</td>\n",
       "      <td>23802381</td>\n",
       "      <td>34</td>\n",
       "      <td>25</td>\n",
       "      <td>3184.0</td>\n",
       "      <td>0.0</td>\n",
       "      <td>398.0</td>\n",
       "      <td>0.0</td>\n",
       "      <td>93.647059</td>\n",
       "      <td>...</td>\n",
       "      <td>8</td>\n",
       "      <td>20</td>\n",
       "      <td>869824.0</td>\n",
       "      <td>1.142614e+06</td>\n",
       "      <td>1677774.0</td>\n",
       "      <td>61874.0</td>\n",
       "      <td>10870324.5</td>\n",
       "      <td>6.029000e+06</td>\n",
       "      <td>15133471.0</td>\n",
       "      <td>6607178.0</td>\n",
       "    </tr>\n",
       "    <tr>\n",
       "      <th>31951</th>\n",
       "      <td>192.168.50.181</td>\n",
       "      <td>192.168.50.12</td>\n",
       "      <td>31042067</td>\n",
       "      <td>10</td>\n",
       "      <td>8</td>\n",
       "      <td>398.0</td>\n",
       "      <td>0.0</td>\n",
       "      <td>398.0</td>\n",
       "      <td>0.0</td>\n",
       "      <td>39.800000</td>\n",
       "      <td>...</td>\n",
       "      <td>1</td>\n",
       "      <td>20</td>\n",
       "      <td>3230393.5</td>\n",
       "      <td>2.931978e+06</td>\n",
       "      <td>5303615.0</td>\n",
       "      <td>1157172.0</td>\n",
       "      <td>12215245.0</td>\n",
       "      <td>9.907645e+06</td>\n",
       "      <td>19221008.0</td>\n",
       "      <td>5209482.0</td>\n",
       "    </tr>\n",
       "    <tr>\n",
       "      <th>31952</th>\n",
       "      <td>192.168.50.181</td>\n",
       "      <td>192.168.50.12</td>\n",
       "      <td>29386962</td>\n",
       "      <td>30</td>\n",
       "      <td>21</td>\n",
       "      <td>2786.0</td>\n",
       "      <td>0.0</td>\n",
       "      <td>398.0</td>\n",
       "      <td>0.0</td>\n",
       "      <td>92.866667</td>\n",
       "      <td>...</td>\n",
       "      <td>7</td>\n",
       "      <td>20</td>\n",
       "      <td>1019791.5</td>\n",
       "      <td>1.091921e+05</td>\n",
       "      <td>1097002.0</td>\n",
       "      <td>942581.0</td>\n",
       "      <td>13625776.5</td>\n",
       "      <td>1.067796e+07</td>\n",
       "      <td>21176232.0</td>\n",
       "      <td>6075321.0</td>\n",
       "    </tr>\n",
       "  </tbody>\n",
       "</table>\n",
       "<p>31953 rows × 63 columns</p>\n",
       "</div>"
      ],
      "text/plain": [
       "               Src IP          Dst IP  Flow Duration  Tot Fwd Pkts  \\\n",
       "0      192.168.50.181   192.168.50.12         336292             3   \n",
       "1      192.168.50.181   192.168.50.12         336401             3   \n",
       "2      192.168.50.181   192.168.50.12         336415             3   \n",
       "3      192.168.50.181   192.168.50.12         336451             3   \n",
       "4      192.168.50.181   192.168.50.12         821622             7   \n",
       "...               ...             ...            ...           ...   \n",
       "31948   192.168.50.12  192.168.50.181       30185808             6   \n",
       "31949   192.168.50.12  192.168.50.181       24011140             4   \n",
       "31950  192.168.50.181   192.168.50.12       23802381            34   \n",
       "31951  192.168.50.181   192.168.50.12       31042067            10   \n",
       "31952  192.168.50.181   192.168.50.12       29386962            30   \n",
       "\n",
       "       Tot Bwd Pkts  TotLen Fwd Pkts  TotLen Bwd Pkts  Fwd Pkt Len Max  \\\n",
       "0                 4            398.0            219.0            398.0   \n",
       "1                 4            398.0            219.0            398.0   \n",
       "2                 4            398.0            219.0            398.0   \n",
       "3                 4            398.0            219.0            398.0   \n",
       "4                 7            796.0            219.0            398.0   \n",
       "...             ...              ...              ...              ...   \n",
       "31948             7              0.0            398.0              0.0   \n",
       "31949             6              0.0            398.0              0.0   \n",
       "31950            25           3184.0              0.0            398.0   \n",
       "31951             8            398.0              0.0            398.0   \n",
       "31952            21           2786.0              0.0            398.0   \n",
       "\n",
       "       Fwd Pkt Len Min  Fwd Pkt Len Mean  ...  Fwd Act Data Pkts  \\\n",
       "0                  0.0        132.666667  ...                  1   \n",
       "1                  0.0        132.666667  ...                  1   \n",
       "2                  0.0        132.666667  ...                  1   \n",
       "3                  0.0        132.666667  ...                  1   \n",
       "4                  0.0        113.714286  ...                  2   \n",
       "...                ...               ...  ...                ...   \n",
       "31948              0.0          0.000000  ...                  0   \n",
       "31949              0.0          0.000000  ...                  0   \n",
       "31950              0.0         93.647059  ...                  8   \n",
       "31951              0.0         39.800000  ...                  1   \n",
       "31952              0.0         92.866667  ...                  7   \n",
       "\n",
       "       Fwd Seg Size Min  Active Mean    Active Std  Active Max  Active Min  \\\n",
       "0                    20          0.0  0.000000e+00         0.0         0.0   \n",
       "1                    20          0.0  0.000000e+00         0.0         0.0   \n",
       "2                    20          0.0  0.000000e+00         0.0         0.0   \n",
       "3                    20          0.0  0.000000e+00         0.0         0.0   \n",
       "4                    20          0.0  0.000000e+00         0.0         0.0   \n",
       "...                 ...          ...           ...         ...         ...   \n",
       "31948                20     418274.0  0.000000e+00    418274.0    418274.0   \n",
       "31949                20     204221.0  0.000000e+00    204221.0    204221.0   \n",
       "31950                20     869824.0  1.142614e+06   1677774.0     61874.0   \n",
       "31951                20    3230393.5  2.931978e+06   5303615.0   1157172.0   \n",
       "31952                20    1019791.5  1.091921e+05   1097002.0    942581.0   \n",
       "\n",
       "        Idle Mean      Idle Std    Idle Max   Idle Min  \n",
       "0             0.0  0.000000e+00         0.0        0.0  \n",
       "1             0.0  0.000000e+00         0.0        0.0  \n",
       "2             0.0  0.000000e+00         0.0        0.0  \n",
       "3             0.0  0.000000e+00         0.0        0.0  \n",
       "4             0.0  0.000000e+00         0.0        0.0  \n",
       "...           ...           ...         ...        ...  \n",
       "31948  14883757.5  1.197270e+07  23349735.0  6417780.0  \n",
       "31949  11851327.5  8.647481e+06  17966020.0  5736635.0  \n",
       "31950  10870324.5  6.029000e+06  15133471.0  6607178.0  \n",
       "31951  12215245.0  9.907645e+06  19221008.0  5209482.0  \n",
       "31952  13625776.5  1.067796e+07  21176232.0  6075321.0  \n",
       "\n",
       "[31953 rows x 63 columns]"
      ]
     },
     "execution_count": 101,
     "metadata": {},
     "output_type": "execute_result"
    }
   ],
   "source": [
    "validated_flow_data = pd.read_csv(\"./x.csv\")\n",
    "validated_flow_data = validated_flow_data[validated_flow_data.columns[1:]]\n",
    "validated_flow_data"
   ]
  },
  {
   "cell_type": "code",
   "execution_count": 14,
   "metadata": {},
   "outputs": [
    {
     "name": "stdout",
     "output_type": "stream",
     "text": [
      "numpy==1.24.3\n",
      "flask==3.0.3\n",
      "pandas==2.0.3\n",
      "joblib==1.4.0\n",
      "scikit-learn==1.3.2\n",
      "xgboost==2.1.1\n",
      "deepod==0.4.1\n",
      "flask==3.0.3\n",
      "joblib==1.4.0\n",
      "alipy==1.2.5\n"
     ]
    }
   ],
   "source": [
    "\n",
    "# Loop through the packages and print their version\n",
    "import pkg_resources\n",
    "packages = [\n",
    "    'numpy',\n",
    "    'flask',\n",
    "    'pandas',\n",
    "    'joblib',\n",
    "    'scikit-learn',\n",
    "    'xgboost',\n",
    "    'deepod',\n",
    "    'flask',\n",
    "    'joblib',\n",
    "    'alipy'\n",
    "]\n",
    "\n",
    "with open(\"requirements.txt\", \"w\") as f:\n",
    "    for package in packages:\n",
    "        try:\n",
    "            version = pkg_resources.get_distribution(package).version\n",
    "            f.write(f\"{package}=={version}\\n\")\n",
    "            print(f\"{package}=={version}\")\n",
    "        except pkg_resources.DistributionNotFound:\n",
    "            print(f\"{package} is not installed\")\n"
   ]
  },
  {
   "cell_type": "code",
   "execution_count": 4,
   "metadata": {},
   "outputs": [],
   "source": [
    "import pickle\n",
    "if(os.path.exists('./deepsad.pkl')):\n",
    "  with open(\"./deepsad.pkl\", 'rb') as f:\n",
    "      model, opt_threshold = pickle.load(f)"
   ]
  },
  {
   "cell_type": "code",
   "execution_count": null,
   "metadata": {},
   "outputs": [],
   "source": []
  }
 ],
 "metadata": {
  "kernelspec": {
   "display_name": "myenv",
   "language": "python",
   "name": "python3"
  },
  "language_info": {
   "codemirror_mode": {
    "name": "ipython",
    "version": 3
   },
   "file_extension": ".py",
   "mimetype": "text/x-python",
   "name": "python",
   "nbconvert_exporter": "python",
   "pygments_lexer": "ipython3",
   "version": "3.8.10"
  },
  "orig_nbformat": 4
 },
 "nbformat": 4,
 "nbformat_minor": 2
}
