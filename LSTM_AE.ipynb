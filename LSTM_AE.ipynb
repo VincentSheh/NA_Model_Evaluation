{
 "cells": [
  {
   "cell_type": "code",
   "execution_count": 1,
   "id": "85c7f917",
   "metadata": {},
   "outputs": [
    {
     "name": "stderr",
     "output_type": "stream",
     "text": [
      "/Users/shehvincent/anaconda3/envs/edge_computing/lib/python3.9/site-packages/requests/__init__.py:102: RequestsDependencyWarning: urllib3 (1.26.18) or chardet (5.2.0)/charset_normalizer (2.0.12) doesn't match a supported version!\n",
      "  warnings.warn(\"urllib3 ({}) or chardet ({})/charset_normalizer ({}) doesn't match a supported \"\n"
     ]
    }
   ],
   "source": [
    "import tensorflow as tf\n",
    "from tensorflow.keras.datasets import mnist\n",
    "import numpy as np"
   ]
  },
  {
   "cell_type": "code",
   "execution_count": 2,
   "id": "29751299",
   "metadata": {},
   "outputs": [
    {
     "ename": "IndexError",
     "evalue": "list index out of range",
     "output_type": "error",
     "traceback": [
      "\u001b[0;31m---------------------------------------------------------------------------\u001b[0m",
      "\u001b[0;31mIndexError\u001b[0m                                Traceback (most recent call last)",
      "Cell \u001b[0;32mIn[2], line 3\u001b[0m\n\u001b[1;32m      1\u001b[0m \u001b[39m# Set GPU device\u001b[39;00m\n\u001b[1;32m      2\u001b[0m physical_devices \u001b[39m=\u001b[39m tf\u001b[39m.\u001b[39mconfig\u001b[39m.\u001b[39mlist_physical_devices(\u001b[39m'\u001b[39m\u001b[39mGPU\u001b[39m\u001b[39m'\u001b[39m)\n\u001b[0;32m----> 3\u001b[0m tf\u001b[39m.\u001b[39mconfig\u001b[39m.\u001b[39mexperimental\u001b[39m.\u001b[39mset_memory_growth(physical_devices[\u001b[39m0\u001b[39;49m], \u001b[39mTrue\u001b[39;00m)\n",
      "\u001b[0;31mIndexError\u001b[0m: list index out of range"
     ]
    }
   ],
   "source": [
    "# Set GPU device\n",
    "physical_devices = tf.config.list_physical_devices('GPU')\n",
    "tf.config.experimental.set_memory_growth(physical_devices[0], True)"
   ]
  },
  {
   "cell_type": "code",
   "execution_count": 202,
   "id": "f6691148",
   "metadata": {},
   "outputs": [
    {
     "name": "stdout",
     "output_type": "stream",
     "text": [
      "Read Completed for  ./Dataset/MachineLearningCVE/Thursday-WorkingHours-Afternoon-Infilteration.pcap_ISCX.csv\n",
      "Read Completed for  ./Dataset/MachineLearningCVE/Monday-WorkingHours.pcap_ISCX.csv\n",
      "Read Completed for  ./Dataset/MachineLearningCVE/Friday-WorkingHours-Morning.pcap_ISCX.csv\n",
      "Read Completed for  ./Dataset/MachineLearningCVE/Friday-WorkingHours-Afternoon-PortScan.pcap_ISCX.csv\n",
      "Read Completed for  ./Dataset/MachineLearningCVE/Friday-WorkingHours-Afternoon-DDos.pcap_ISCX.csv\n",
      "Read Completed for  ./Dataset/MachineLearningCVE/Tuesday-WorkingHours.pcap_ISCX.csv\n",
      "Read Completed for  ./Dataset/MachineLearningCVE/Wednesday-workingHours.pcap_ISCX.csv\n",
      "Read Completed for  ./Dataset/MachineLearningCVE/Thursday-WorkingHours-Morning-WebAttacks.pcap_ISCX.csv\n"
     ]
    }
   ],
   "source": [
    "import pandas as pd\n",
    "import glob\n",
    "\n",
    "path = r'./Dataset/MachineLearningCVE' # use your path\n",
    "all_files = glob.glob(path + \"/*.csv\")\n",
    "\n",
    "li = []\n",
    "\n",
    "for filename in all_files:\n",
    "    df = pd.read_csv(filename, encoding='cp1252', index_col=None, header=0)\n",
    "    li.append(df)\n",
    "    print(\"Read Completed for \", filename)\n",
    "\n",
    "df = pd.concat(li, axis=0, ignore_index=True)\n",
    "\n",
    "df = df.rename(columns={' Label': 'Label'})"
   ]
  },
  {
   "cell_type": "code",
   "execution_count": 203,
   "id": "1803f478",
   "metadata": {},
   "outputs": [
    {
     "data": {
      "text/plain": [
       "Label\n",
       "BENIGN                          2273097\n",
       "DoS Hulk                         231073\n",
       "PortScan                         158930\n",
       "DDoS                             128027\n",
       "DoS GoldenEye                     10293\n",
       "FTP-Patator                        7938\n",
       "SSH-Patator                        5897\n",
       "DoS slowloris                      5796\n",
       "DoS Slowhttptest                   5499\n",
       "Bot                                1966\n",
       "Web Attack ï¿½ Brute Force         1507\n",
       "Web Attack ï¿½ XSS                  652\n",
       "Infiltration                         36\n",
       "Web Attack ï¿½ Sql Injection         21\n",
       "Heartbleed                           11\n",
       "Name: count, dtype: int64"
      ]
     },
     "execution_count": 203,
     "metadata": {},
     "output_type": "execute_result"
    }
   ],
   "source": [
    "df[\"Label\"].value_counts()"
   ]
  },
  {
   "cell_type": "code",
   "execution_count": 204,
   "id": "15501f92",
   "metadata": {},
   "outputs": [
    {
     "name": "stdout",
     "output_type": "stream",
     "text": [
      "(2830743, 79)\n"
     ]
    }
   ],
   "source": [
    "print(df.shape)"
   ]
  },
  {
   "cell_type": "code",
   "execution_count": 205,
   "id": "0fa744d1",
   "metadata": {},
   "outputs": [],
   "source": [
    "from scipy.stats import zscore\n",
    "\n",
    "def expand_categories(values):\n",
    "    result = []\n",
    "    s = values.value_counts()\n",
    "    t = float(len(values))\n",
    "    for v in s.index:\n",
    "        result.append(\"{}:{}%\".format(v,round(100*(s[v]/t),2)))\n",
    "    return \"[{}]\".format(\",\".join(result))\n",
    "        \n",
    "def analyze(df):\n",
    "    print()\n",
    "    cols = df.columns.values\n",
    "    total = float(len(df))\n",
    "\n",
    "    print(\"{} rows\".format(int(total)))\n",
    "    for col in cols:\n",
    "        uniques = df[col].unique()\n",
    "        unique_count = len(uniques)\n",
    "        if unique_count>100:\n",
    "            print(\"** {}:{} ({}%)\".format(col,unique_count,int(((unique_count)/total)*100)))\n",
    "        else:\n",
    "            print(\"** {}:{}\".format(col,expand_categories(df[col])))\n",
    "            expand_categories(df[col])"
   ]
  },
  {
   "cell_type": "code",
   "execution_count": null,
   "id": "5145ae8b",
   "metadata": {},
   "outputs": [],
   "source": []
  },
  {
   "cell_type": "code",
   "execution_count": 206,
   "id": "47b14683",
   "metadata": {},
   "outputs": [
    {
     "ename": "NameError",
     "evalue": "name 'sorted_ds' is not defined",
     "output_type": "error",
     "traceback": [
      "\u001b[0;31m---------------------------------------------------------------------------\u001b[0m",
      "\u001b[0;31mNameError\u001b[0m                                 Traceback (most recent call last)",
      "Cell \u001b[0;32mIn[206], line 1\u001b[0m\n\u001b[0;32m----> 1\u001b[0m \u001b[39mdel\u001b[39;00m sorted_ds\n",
      "\u001b[0;31mNameError\u001b[0m: name 'sorted_ds' is not defined"
     ]
    }
   ],
   "source": [
    "del sorted_ds\n"
   ]
  },
  {
   "cell_type": "code",
   "execution_count": 208,
   "id": "c779400f",
   "metadata": {},
   "outputs": [
    {
     "name": "stdout",
     "output_type": "stream",
     "text": [
      "Read 2522009 rows.\n"
     ]
    }
   ],
   "source": [
    "\n",
    "#drop na values and reset index\n",
    "data_clean = df.dropna().reset_index(drop=True)\n",
    "\n",
    "# Checkng for DUPLICATE values\n",
    "data_clean.drop_duplicates(keep='first', inplace = True)\n",
    "\n",
    "data_clean['Label'].value_counts()\n",
    "\n",
    "print(\"Read {} rows.\".format(len(data_clean)))"
   ]
  },
  {
   "cell_type": "code",
   "execution_count": 209,
   "id": "163dddf5",
   "metadata": {},
   "outputs": [
    {
     "name": "stdout",
     "output_type": "stream",
     "text": [
      "\n",
      "2830743 rows\n",
      "**  Destination Port:53805 (1%)\n",
      "**  Flow Duration:1050899 (37%)\n",
      "**  Total Fwd Packets:1432 (0%)\n",
      "**  Total Backward Packets:1747 (0%)\n",
      "** Total Length of Fwd Packets:17928 (0%)\n",
      "**  Total Length of Bwd Packets:64698 (2%)\n",
      "**  Fwd Packet Length Max:5279 (0%)\n",
      "**  Fwd Packet Length Min:384 (0%)\n",
      "**  Fwd Packet Length Mean:99716 (3%)\n",
      "**  Fwd Packet Length Std:253909 (8%)\n",
      "** Bwd Packet Length Max:4838 (0%)\n",
      "**  Bwd Packet Length Min:583 (0%)\n",
      "**  Bwd Packet Length Mean:147614 (5%)\n",
      "**  Bwd Packet Length Std:248869 (8%)\n",
      "** Flow Bytes/s:1593909 (56%)\n",
      "**  Flow Packets/s:1240164 (43%)\n",
      "**  Flow IAT Mean:1166311 (41%)\n",
      "**  Flow IAT Std:1056642 (37%)\n",
      "**  Flow IAT Max:580289 (20%)\n",
      "**  Flow IAT Min:136316 (4%)\n",
      "** Fwd IAT Total:493098 (17%)\n",
      "**  Fwd IAT Mean:737737 (26%)\n",
      "**  Fwd IAT Std:700313 (24%)\n",
      "**  Fwd IAT Max:437316 (15%)\n",
      "**  Fwd IAT Min:110631 (3%)\n",
      "** Bwd IAT Total:414928 (14%)\n",
      "**  Bwd IAT Mean:670824 (23%)\n",
      "**  Bwd IAT Std:709042 (25%)\n",
      "**  Bwd IAT Max:368285 (13%)\n",
      "**  Bwd IAT Min:66074 (2%)\n",
      "** Fwd PSH Flags:[0:95.36%,1:4.64%]\n",
      "**  Bwd PSH Flags:[0:100.0%]\n",
      "**  Fwd URG Flags:[0:99.99%,1:0.01%]\n",
      "**  Bwd URG Flags:[0:100.0%]\n",
      "**  Fwd Header Length:3771 (0%)\n",
      "**  Bwd Header Length:3945 (0%)\n",
      "** Fwd Packets/s:1220423 (43%)\n",
      "**  Bwd Packets/s:1107886 (39%)\n",
      "**  Min Packet Length:215 (0%)\n",
      "**  Max Packet Length:5708 (0%)\n",
      "**  Packet Length Mean:215826 (7%)\n",
      "**  Packet Length Std:412246 (14%)\n",
      "**  Packet Length Variance:405565 (14%)\n",
      "** FIN Flag Count:[0:96.46%,1:3.54%]\n",
      "**  SYN Flag Count:[0:95.36%,1:4.64%]\n",
      "**  RST Flag Count:[0:99.98%,1:0.02%]\n",
      "**  PSH Flag Count:[0:70.19%,1:29.81%]\n",
      "**  ACK Flag Count:[0:68.42%,1:31.58%]\n",
      "**  URG Flag Count:[0:90.52%,1:9.48%]\n",
      "**  CWE Flag Count:[0:99.99%,1:0.01%]\n",
      "**  ECE Flag Count:[0:99.98%,1:0.02%]\n",
      "**  Down/Up Ratio:[1:60.24%,0:37.03%,2:1.77%,5:0.38%,3:0.23%,6:0.23%,4:0.1%,7:0.02%,8:0.0%,29:0.0%,27:0.0%,10:0.0%,9:0.0%,12:0.0%,39:0.0%,32:0.0%,43:0.0%,11:0.0%,25:0.0%,35:0.0%,124:0.0%,14:0.0%,28:0.0%,156:0.0%,16:0.0%,108:0.0%,21:0.0%,20:0.0%,90:0.0%,74:0.0%,26:0.0%]\n",
      "**  Average Packet Size:212207 (7%)\n",
      "**  Avg Fwd Segment Size:99716 (3%)\n",
      "**  Avg Bwd Segment Size:147611 (5%)\n",
      "**  Fwd Header Length.1:3771 (0%)\n",
      "** Fwd Avg Bytes/Bulk:[0:100.0%]\n",
      "**  Fwd Avg Packets/Bulk:[0:100.0%]\n",
      "**  Fwd Avg Bulk Rate:[0:100.0%]\n",
      "**  Bwd Avg Bytes/Bulk:[0:100.0%]\n",
      "**  Bwd Avg Packets/Bulk:[0:100.0%]\n",
      "** Bwd Avg Bulk Rate:[0:100.0%]\n",
      "** Subflow Fwd Packets:1432 (0%)\n",
      "**  Subflow Fwd Bytes:17928 (0%)\n",
      "**  Subflow Bwd Packets:1747 (0%)\n",
      "**  Subflow Bwd Bytes:64738 (2%)\n",
      "** Init_Win_bytes_forward:12151 (0%)\n",
      "**  Init_Win_bytes_backward:13112 (0%)\n",
      "**  act_data_pkt_fwd:1093 (0%)\n",
      "**  min_seg_size_forward:[20:48.94%,32:40.82%,24:4.99%,40:4.73%,44:0.28%,28:0.16%,0:0.06%,56:0.0%,36:0.0%,60:0.0%,48:0.0%,52:0.0%,8:0.0%,-83885313:0.0%,14:0.0%,6:0.0%,-536870660:0.0%,12:0.0%,93:0.0%,78:0.0%,31:0.0%,10:0.0%,46:0.0%,-536870661:0.0%,138:0.0%,126:0.0%,38:0.0%,-1:0.0%]\n",
      "** Active Mean:326325 (11%)\n",
      "**  Active Std:202826 (7%)\n",
      "**  Active Max:299565 (10%)\n",
      "**  Active Min:175670 (6%)\n",
      "** Idle Mean:222016 (7%)\n",
      "**  Idle Std:197616 (6%)\n",
      "**  Idle Max:149737 (5%)\n",
      "**  Idle Min:223888 (7%)\n",
      "** Label:[BENIGN:80.3%,DoS Hulk:8.16%,PortScan:5.61%,DDoS:4.52%,DoS GoldenEye:0.36%,FTP-Patator:0.28%,SSH-Patator:0.21%,DoS slowloris:0.2%,DoS Slowhttptest:0.19%,Bot:0.07%,Web Attack ï¿½ Brute Force:0.05%,Web Attack ï¿½ XSS:0.02%,Infiltration:0.0%,Web Attack ï¿½ Sql Injection:0.0%,Heartbleed:0.0%]\n"
     ]
    }
   ],
   "source": [
    "analyze(df)"
   ]
  },
  {
   "cell_type": "code",
   "execution_count": 210,
   "id": "f3f50489",
   "metadata": {},
   "outputs": [],
   "source": [
    "# data_clean=data_clean.drop('Flow ID',axis=1)\n",
    "# data_clean=data_clean.drop(' Source IP',axis=1)\n",
    "# data_clean=data_clean.drop(' Destination IP',axis=1)\n",
    "# data_clean=data_clean.drop(' Timestamp',axis=1)"
   ]
  },
  {
   "cell_type": "code",
   "execution_count": 211,
   "id": "00d9b1a3",
   "metadata": {},
   "outputs": [
    {
     "data": {
      "text/plain": [
       "Label\n",
       "0    2096134\n",
       "1     425875\n",
       "Name: count, dtype: int64"
      ]
     },
     "execution_count": 211,
     "metadata": {},
     "output_type": "execute_result"
    }
   ],
   "source": [
    "from sklearn.model_selection import train_test_split\n",
    "from sklearn.preprocessing import OneHotEncoder, StandardScaler, LabelEncoder\n",
    "\n",
    "\n",
    "\n",
    "#drop na values and reset index\n",
    "data_clean = data_clean.dropna().reset_index(drop=True)\n",
    "\n",
    "# label encoding\n",
    "labelencoder = LabelEncoder()\n",
    "data_clean['Label'] = data_clean[\"Label\"].map({'BENIGN':0}).fillna(1).astype(int)\n",
    "data_clean['Label'] = labelencoder.fit_transform(data_clean['Label'])\n",
    "\n",
    "data_clean['Label'].value_counts()"
   ]
  },
  {
   "cell_type": "code",
   "execution_count": 212,
   "id": "0ab43f00",
   "metadata": {},
   "outputs": [
    {
     "data": {
      "text/plain": [
       "(2522009, 79)"
      ]
     },
     "execution_count": 212,
     "metadata": {},
     "output_type": "execute_result"
    }
   ],
   "source": [
    "data_clean.shape"
   ]
  },
  {
   "cell_type": "code",
   "execution_count": 213,
   "id": "a5a3cdae",
   "metadata": {},
   "outputs": [
    {
     "data": {
      "text/plain": [
       "(1473270, 79)"
      ]
     },
     "execution_count": 213,
     "metadata": {},
     "output_type": "execute_result"
    }
   ],
   "source": [
    "data_clean.replace([np.inf, -np.inf], np.nan, inplace=True)\n",
    "data_clean.dropna(inplace=True)\n",
    "\n",
    "benign_data = data_clean.loc[data_clean[\"Label\"] == 0].copy()\n",
    "benign_data = benign_data.sample(frac=1, random_state=4022).reset_index(drop=True)\n",
    "\n",
    "\n",
    "\n",
    "\n",
    "mid_idx = benign_data.shape[0]//2\n",
    "test_benign = benign_data.iloc[mid_idx:].copy()\n",
    "benign_data = benign_data.iloc[:mid_idx] #Data to train the AE\n",
    "\n",
    "malicious_data = data_clean.loc[data_clean[\"Label\"] != 0].copy()\n",
    "mixed_data = pd.concat([test_benign, malicious_data])\n",
    "mixed_data.shape"
   ]
  },
  {
   "cell_type": "code",
   "execution_count": 214,
   "id": "7c861e11",
   "metadata": {},
   "outputs": [],
   "source": [
    "benign_train_X = benign_data.drop(columns=[\"Label\"], axis=1)\n",
    "benign_train_Y = benign_data[\"Label\"].values\n",
    "mixed_X = benign_data.drop(columns=[\"Label\"], axis=1)\n",
    "mixed_Y = benign_data[\"Label\"].values\n",
    "\n",
    "#Test Benign and Malicious\n",
    "benign_test_X = test_benign.drop(columns=[\"Label\"], axis=1)\n",
    "benign_test_Y = test_benign[\"Label\"].values\n",
    "\n",
    "mal_test_X = malicious_data.drop(columns=[\"Label\"], axis=1)\n",
    "mal_test_Y = malicious_data[\"Label\"].values\n",
    "\n"
   ]
  },
  {
   "cell_type": "code",
   "execution_count": 215,
   "id": "18319a6e",
   "metadata": {},
   "outputs": [
    {
     "data": {
      "text/html": [
       "<div>\n",
       "<style scoped>\n",
       "    .dataframe tbody tr th:only-of-type {\n",
       "        vertical-align: middle;\n",
       "    }\n",
       "\n",
       "    .dataframe tbody tr th {\n",
       "        vertical-align: top;\n",
       "    }\n",
       "\n",
       "    .dataframe thead th {\n",
       "        text-align: right;\n",
       "    }\n",
       "</style>\n",
       "<table border=\"1\" class=\"dataframe\">\n",
       "  <thead>\n",
       "    <tr style=\"text-align: right;\">\n",
       "      <th></th>\n",
       "      <th>Destination Port</th>\n",
       "      <th>Flow Duration</th>\n",
       "      <th>Total Fwd Packets</th>\n",
       "      <th>Total Backward Packets</th>\n",
       "      <th>Total Length of Fwd Packets</th>\n",
       "      <th>Total Length of Bwd Packets</th>\n",
       "      <th>Fwd Packet Length Max</th>\n",
       "      <th>Fwd Packet Length Min</th>\n",
       "      <th>Fwd Packet Length Mean</th>\n",
       "      <th>Fwd Packet Length Std</th>\n",
       "      <th>...</th>\n",
       "      <th>act_data_pkt_fwd</th>\n",
       "      <th>min_seg_size_forward</th>\n",
       "      <th>Active Mean</th>\n",
       "      <th>Active Std</th>\n",
       "      <th>Active Max</th>\n",
       "      <th>Active Min</th>\n",
       "      <th>Idle Mean</th>\n",
       "      <th>Idle Std</th>\n",
       "      <th>Idle Max</th>\n",
       "      <th>Idle Min</th>\n",
       "    </tr>\n",
       "  </thead>\n",
       "  <tbody>\n",
       "    <tr>\n",
       "      <th>64539</th>\n",
       "      <td>444</td>\n",
       "      <td>42664070</td>\n",
       "      <td>5</td>\n",
       "      <td>6</td>\n",
       "      <td>141</td>\n",
       "      <td>291</td>\n",
       "      <td>93</td>\n",
       "      <td>0</td>\n",
       "      <td>28.200000</td>\n",
       "      <td>38.861292</td>\n",
       "      <td>...</td>\n",
       "      <td>4</td>\n",
       "      <td>20</td>\n",
       "      <td>0.0</td>\n",
       "      <td>0.0000</td>\n",
       "      <td>0</td>\n",
       "      <td>0</td>\n",
       "      <td>0.0</td>\n",
       "      <td>0.000</td>\n",
       "      <td>0</td>\n",
       "      <td>0</td>\n",
       "    </tr>\n",
       "    <tr>\n",
       "      <th>66518</th>\n",
       "      <td>444</td>\n",
       "      <td>2030</td>\n",
       "      <td>2</td>\n",
       "      <td>0</td>\n",
       "      <td>12</td>\n",
       "      <td>0</td>\n",
       "      <td>6</td>\n",
       "      <td>6</td>\n",
       "      <td>6.000000</td>\n",
       "      <td>0.000000</td>\n",
       "      <td>...</td>\n",
       "      <td>1</td>\n",
       "      <td>20</td>\n",
       "      <td>0.0</td>\n",
       "      <td>0.0000</td>\n",
       "      <td>0</td>\n",
       "      <td>0</td>\n",
       "      <td>0.0</td>\n",
       "      <td>0.000</td>\n",
       "      <td>0</td>\n",
       "      <td>0</td>\n",
       "    </tr>\n",
       "    <tr>\n",
       "      <th>70523</th>\n",
       "      <td>444</td>\n",
       "      <td>119991834</td>\n",
       "      <td>5523</td>\n",
       "      <td>5525</td>\n",
       "      <td>2866110</td>\n",
       "      <td>33406</td>\n",
       "      <td>1274</td>\n",
       "      <td>0</td>\n",
       "      <td>518.940793</td>\n",
       "      <td>204.203530</td>\n",
       "      <td>...</td>\n",
       "      <td>5522</td>\n",
       "      <td>20</td>\n",
       "      <td>997842.0</td>\n",
       "      <td>831471.3076</td>\n",
       "      <td>1585781</td>\n",
       "      <td>409903</td>\n",
       "      <td>8143987.5</td>\n",
       "      <td>1821773.648</td>\n",
       "      <td>9432176</td>\n",
       "      <td>6855799</td>\n",
       "    </tr>\n",
       "    <tr>\n",
       "      <th>71004</th>\n",
       "      <td>444</td>\n",
       "      <td>5005212</td>\n",
       "      <td>15</td>\n",
       "      <td>15</td>\n",
       "      <td>0</td>\n",
       "      <td>90</td>\n",
       "      <td>0</td>\n",
       "      <td>0</td>\n",
       "      <td>0.000000</td>\n",
       "      <td>0.000000</td>\n",
       "      <td>...</td>\n",
       "      <td>0</td>\n",
       "      <td>28</td>\n",
       "      <td>0.0</td>\n",
       "      <td>0.0000</td>\n",
       "      <td>0</td>\n",
       "      <td>0</td>\n",
       "      <td>0.0</td>\n",
       "      <td>0.000</td>\n",
       "      <td>0</td>\n",
       "      <td>0</td>\n",
       "    </tr>\n",
       "    <tr>\n",
       "      <th>71543</th>\n",
       "      <td>444</td>\n",
       "      <td>119973135</td>\n",
       "      <td>4376</td>\n",
       "      <td>4374</td>\n",
       "      <td>2321478</td>\n",
       "      <td>26244</td>\n",
       "      <td>1273</td>\n",
       "      <td>6</td>\n",
       "      <td>530.502285</td>\n",
       "      <td>262.768815</td>\n",
       "      <td>...</td>\n",
       "      <td>4375</td>\n",
       "      <td>20</td>\n",
       "      <td>0.0</td>\n",
       "      <td>0.0000</td>\n",
       "      <td>0</td>\n",
       "      <td>0</td>\n",
       "      <td>0.0</td>\n",
       "      <td>0.000</td>\n",
       "      <td>0</td>\n",
       "      <td>0</td>\n",
       "    </tr>\n",
       "    <tr>\n",
       "      <th>...</th>\n",
       "      <td>...</td>\n",
       "      <td>...</td>\n",
       "      <td>...</td>\n",
       "      <td>...</td>\n",
       "      <td>...</td>\n",
       "      <td>...</td>\n",
       "      <td>...</td>\n",
       "      <td>...</td>\n",
       "      <td>...</td>\n",
       "      <td>...</td>\n",
       "      <td>...</td>\n",
       "      <td>...</td>\n",
       "      <td>...</td>\n",
       "      <td>...</td>\n",
       "      <td>...</td>\n",
       "      <td>...</td>\n",
       "      <td>...</td>\n",
       "      <td>...</td>\n",
       "      <td>...</td>\n",
       "      <td>...</td>\n",
       "      <td>...</td>\n",
       "    </tr>\n",
       "    <tr>\n",
       "      <th>2452879</th>\n",
       "      <td>80</td>\n",
       "      <td>5005388</td>\n",
       "      <td>5</td>\n",
       "      <td>3</td>\n",
       "      <td>599</td>\n",
       "      <td>2021</td>\n",
       "      <td>599</td>\n",
       "      <td>0</td>\n",
       "      <td>119.800000</td>\n",
       "      <td>267.880944</td>\n",
       "      <td>...</td>\n",
       "      <td>1</td>\n",
       "      <td>32</td>\n",
       "      <td>0.0</td>\n",
       "      <td>0.0000</td>\n",
       "      <td>0</td>\n",
       "      <td>0</td>\n",
       "      <td>0.0</td>\n",
       "      <td>0.000</td>\n",
       "      <td>0</td>\n",
       "      <td>0</td>\n",
       "    </tr>\n",
       "    <tr>\n",
       "      <th>2452959</th>\n",
       "      <td>80</td>\n",
       "      <td>5016759</td>\n",
       "      <td>5</td>\n",
       "      <td>5</td>\n",
       "      <td>599</td>\n",
       "      <td>4149</td>\n",
       "      <td>599</td>\n",
       "      <td>0</td>\n",
       "      <td>119.800000</td>\n",
       "      <td>267.880944</td>\n",
       "      <td>...</td>\n",
       "      <td>1</td>\n",
       "      <td>32</td>\n",
       "      <td>0.0</td>\n",
       "      <td>0.0000</td>\n",
       "      <td>0</td>\n",
       "      <td>0</td>\n",
       "      <td>0.0</td>\n",
       "      <td>0.000</td>\n",
       "      <td>0</td>\n",
       "      <td>0</td>\n",
       "    </tr>\n",
       "    <tr>\n",
       "      <th>2453199</th>\n",
       "      <td>80</td>\n",
       "      <td>5009163</td>\n",
       "      <td>4</td>\n",
       "      <td>4</td>\n",
       "      <td>599</td>\n",
       "      <td>2021</td>\n",
       "      <td>599</td>\n",
       "      <td>0</td>\n",
       "      <td>149.750000</td>\n",
       "      <td>299.500000</td>\n",
       "      <td>...</td>\n",
       "      <td>1</td>\n",
       "      <td>32</td>\n",
       "      <td>0.0</td>\n",
       "      <td>0.0000</td>\n",
       "      <td>0</td>\n",
       "      <td>0</td>\n",
       "      <td>0.0</td>\n",
       "      <td>0.000</td>\n",
       "      <td>0</td>\n",
       "      <td>0</td>\n",
       "    </tr>\n",
       "    <tr>\n",
       "      <th>2453208</th>\n",
       "      <td>80</td>\n",
       "      <td>73</td>\n",
       "      <td>1</td>\n",
       "      <td>1</td>\n",
       "      <td>0</td>\n",
       "      <td>0</td>\n",
       "      <td>0</td>\n",
       "      <td>0</td>\n",
       "      <td>0.000000</td>\n",
       "      <td>0.000000</td>\n",
       "      <td>...</td>\n",
       "      <td>0</td>\n",
       "      <td>32</td>\n",
       "      <td>0.0</td>\n",
       "      <td>0.0000</td>\n",
       "      <td>0</td>\n",
       "      <td>0</td>\n",
       "      <td>0.0</td>\n",
       "      <td>0.000</td>\n",
       "      <td>0</td>\n",
       "      <td>0</td>\n",
       "    </tr>\n",
       "    <tr>\n",
       "      <th>2453248</th>\n",
       "      <td>80</td>\n",
       "      <td>109</td>\n",
       "      <td>1</td>\n",
       "      <td>1</td>\n",
       "      <td>0</td>\n",
       "      <td>0</td>\n",
       "      <td>0</td>\n",
       "      <td>0</td>\n",
       "      <td>0.000000</td>\n",
       "      <td>0.000000</td>\n",
       "      <td>...</td>\n",
       "      <td>0</td>\n",
       "      <td>32</td>\n",
       "      <td>0.0</td>\n",
       "      <td>0.0000</td>\n",
       "      <td>0</td>\n",
       "      <td>0</td>\n",
       "      <td>0.0</td>\n",
       "      <td>0.000</td>\n",
       "      <td>0</td>\n",
       "      <td>0</td>\n",
       "    </tr>\n",
       "  </tbody>\n",
       "</table>\n",
       "<p>425741 rows × 78 columns</p>\n",
       "</div>"
      ],
      "text/plain": [
       "          Destination Port   Flow Duration   Total Fwd Packets  \\\n",
       "64539                  444        42664070                   5   \n",
       "66518                  444            2030                   2   \n",
       "70523                  444       119991834                5523   \n",
       "71004                  444         5005212                  15   \n",
       "71543                  444       119973135                4376   \n",
       "...                    ...             ...                 ...   \n",
       "2452879                 80         5005388                   5   \n",
       "2452959                 80         5016759                   5   \n",
       "2453199                 80         5009163                   4   \n",
       "2453208                 80              73                   1   \n",
       "2453248                 80             109                   1   \n",
       "\n",
       "          Total Backward Packets  Total Length of Fwd Packets  \\\n",
       "64539                          6                          141   \n",
       "66518                          0                           12   \n",
       "70523                       5525                      2866110   \n",
       "71004                         15                            0   \n",
       "71543                       4374                      2321478   \n",
       "...                          ...                          ...   \n",
       "2452879                        3                          599   \n",
       "2452959                        5                          599   \n",
       "2453199                        4                          599   \n",
       "2453208                        1                            0   \n",
       "2453248                        1                            0   \n",
       "\n",
       "          Total Length of Bwd Packets   Fwd Packet Length Max  \\\n",
       "64539                             291                      93   \n",
       "66518                               0                       6   \n",
       "70523                           33406                    1274   \n",
       "71004                              90                       0   \n",
       "71543                           26244                    1273   \n",
       "...                               ...                     ...   \n",
       "2452879                          2021                     599   \n",
       "2452959                          4149                     599   \n",
       "2453199                          2021                     599   \n",
       "2453208                             0                       0   \n",
       "2453248                             0                       0   \n",
       "\n",
       "          Fwd Packet Length Min   Fwd Packet Length Mean  \\\n",
       "64539                         0                28.200000   \n",
       "66518                         6                 6.000000   \n",
       "70523                         0               518.940793   \n",
       "71004                         0                 0.000000   \n",
       "71543                         6               530.502285   \n",
       "...                         ...                      ...   \n",
       "2452879                       0               119.800000   \n",
       "2452959                       0               119.800000   \n",
       "2453199                       0               149.750000   \n",
       "2453208                       0                 0.000000   \n",
       "2453248                       0                 0.000000   \n",
       "\n",
       "          Fwd Packet Length Std  ...   act_data_pkt_fwd  \\\n",
       "64539                 38.861292  ...                  4   \n",
       "66518                  0.000000  ...                  1   \n",
       "70523                204.203530  ...               5522   \n",
       "71004                  0.000000  ...                  0   \n",
       "71543                262.768815  ...               4375   \n",
       "...                         ...  ...                ...   \n",
       "2452879              267.880944  ...                  1   \n",
       "2452959              267.880944  ...                  1   \n",
       "2453199              299.500000  ...                  1   \n",
       "2453208                0.000000  ...                  0   \n",
       "2453248                0.000000  ...                  0   \n",
       "\n",
       "          min_seg_size_forward  Active Mean   Active Std   Active Max  \\\n",
       "64539                       20          0.0       0.0000            0   \n",
       "66518                       20          0.0       0.0000            0   \n",
       "70523                       20     997842.0  831471.3076      1585781   \n",
       "71004                       28          0.0       0.0000            0   \n",
       "71543                       20          0.0       0.0000            0   \n",
       "...                        ...          ...          ...          ...   \n",
       "2452879                     32          0.0       0.0000            0   \n",
       "2452959                     32          0.0       0.0000            0   \n",
       "2453199                     32          0.0       0.0000            0   \n",
       "2453208                     32          0.0       0.0000            0   \n",
       "2453248                     32          0.0       0.0000            0   \n",
       "\n",
       "          Active Min  Idle Mean     Idle Std   Idle Max   Idle Min  \n",
       "64539              0        0.0        0.000          0          0  \n",
       "66518              0        0.0        0.000          0          0  \n",
       "70523         409903  8143987.5  1821773.648    9432176    6855799  \n",
       "71004              0        0.0        0.000          0          0  \n",
       "71543              0        0.0        0.000          0          0  \n",
       "...              ...        ...          ...        ...        ...  \n",
       "2452879            0        0.0        0.000          0          0  \n",
       "2452959            0        0.0        0.000          0          0  \n",
       "2453199            0        0.0        0.000          0          0  \n",
       "2453208            0        0.0        0.000          0          0  \n",
       "2453248            0        0.0        0.000          0          0  \n",
       "\n",
       "[425741 rows x 78 columns]"
      ]
     },
     "execution_count": 215,
     "metadata": {},
     "output_type": "execute_result"
    }
   ],
   "source": [
    "mal_test_X"
   ]
  },
  {
   "cell_type": "code",
   "execution_count": 216,
   "id": "e227533c",
   "metadata": {},
   "outputs": [
    {
     "name": "stdout",
     "output_type": "stream",
     "text": [
      "X.shape =  (1047528, 78)\n",
      "Y.shape =  (1047528, 78)\n",
      "X.shape =  (1047528, 78)\n",
      "Y.shape =  (1047528, 78)\n"
     ]
    }
   ],
   "source": [
    "scaler = StandardScaler()\n",
    "X_train_scaled = scaler.fit_transform(benign_train_X)\n",
    "X_mixed = scaler.transform(mixed_X)\n",
    "X_ben_test_scaled = scaler.transform(benign_test_X)\n",
    "X_mal_test_scaled = scaler.transform(mal_test_X)\n",
    "\n",
    "# Split the data set into training and testing\n",
    "# X_train, X_test, Y_train, Y_test = train_test_split(\n",
    "#     X_scaled, Y, test_size=0.25, random_state=2, shuffle=True)\n",
    "\n",
    "\n",
    "print('X.shape = ',X_train_scaled.shape)\n",
    "print('Y.shape = ',X_train_scaled.shape)\n",
    "\n",
    "print('X.shape = ',X_mixed.shape)\n",
    "print('Y.shape = ',X_mixed.shape)"
   ]
  },
  {
   "cell_type": "code",
   "execution_count": 217,
   "id": "7d72ff61",
   "metadata": {},
   "outputs": [],
   "source": [
    "from keras import regularizers\n",
    "from keras.layers import Dense, LeakyReLU, BatchNormalization, Input, LSTM, TimeDistributed, RepeatVector, Lambda\n",
    "from keras import Input\n",
    "from sklearn.preprocessing import MinMaxScaler\n",
    "from keras.models import Model\n",
    "from keras import regularizers"
   ]
  },
  {
   "cell_type": "code",
   "execution_count": 218,
   "id": "fb8cfe24",
   "metadata": {},
   "outputs": [
    {
     "name": "stdout",
     "output_type": "stream",
     "text": [
      "Training data shape: (1047528, 1, 78)\n"
     ]
    }
   ],
   "source": [
    "# reshape inputs for LSTM [samples, timesteps, features]\n",
    "X_scaled = X_train_scaled.reshape(X_train_scaled.shape[0], 1, X_train_scaled.shape[1])\n",
    "print(\"Training data shape:\", X_scaled.shape)\n"
   ]
  },
  {
   "cell_type": "markdown",
   "id": "beb30523",
   "metadata": {},
   "source": [
    "# LSTM-AE Model"
   ]
  },
  {
   "cell_type": "code",
   "execution_count": 152,
   "id": "1a4a7909",
   "metadata": {},
   "outputs": [],
   "source": [
    "# define the autoencoder network model\n",
    "def autoencoder_model(X):\n",
    "    inputs = Input(shape=(X.shape[1], X.shape[2]))\n",
    "    L1 = LSTM(196, activation='relu', return_sequences=True, \n",
    "              kernel_regularizer=regularizers.l2(0.00))(inputs)\n",
    "    L2 = LSTM(125, activation='relu', return_sequences=False)(L1)\n",
    "    L3 = RepeatVector(X.shape[1])(L2)\n",
    "    L4 = LSTM(125, activation='relu', return_sequences=True)(L3)\n",
    "    L5 = LSTM(196, activation='relu', return_sequences=True)(L4)\n",
    "    output = TimeDistributed(Dense(X.shape[2]))(L5)    \n",
    "    model = Model(inputs=inputs, outputs=output)\n",
    "    return model"
   ]
  },
  {
   "cell_type": "markdown",
   "id": "1f3b51c7",
   "metadata": {},
   "source": [
    "# With learning rate=0.0001 and mse loss function."
   ]
  },
  {
   "cell_type": "code",
   "execution_count": 153,
   "id": "2daaa1c6",
   "metadata": {},
   "outputs": [
    {
     "data": {
      "text/html": [
       "<pre style=\"white-space:pre;overflow-x:auto;line-height:normal;font-family:Menlo,'DejaVu Sans Mono',consolas,'Courier New',monospace\"><span style=\"font-weight: bold\">Model: \"functional_7\"</span>\n",
       "</pre>\n"
      ],
      "text/plain": [
       "\u001b[1mModel: \"functional_7\"\u001b[0m\n"
      ]
     },
     "metadata": {},
     "output_type": "display_data"
    },
    {
     "data": {
      "text/html": [
       "<pre style=\"white-space:pre;overflow-x:auto;line-height:normal;font-family:Menlo,'DejaVu Sans Mono',consolas,'Courier New',monospace\">┏━━━━━━━━━━━━━━━━━━━━━━━━━━━━━━━━━┳━━━━━━━━━━━━━━━━━━━━━━━━┳━━━━━━━━━━━━━━━┓\n",
       "┃<span style=\"font-weight: bold\"> Layer (type)                    </span>┃<span style=\"font-weight: bold\"> Output Shape           </span>┃<span style=\"font-weight: bold\">       Param # </span>┃\n",
       "┡━━━━━━━━━━━━━━━━━━━━━━━━━━━━━━━━━╇━━━━━━━━━━━━━━━━━━━━━━━━╇━━━━━━━━━━━━━━━┩\n",
       "│ input_layer_3 (<span style=\"color: #0087ff; text-decoration-color: #0087ff\">InputLayer</span>)      │ (<span style=\"color: #00d7ff; text-decoration-color: #00d7ff\">None</span>, <span style=\"color: #00af00; text-decoration-color: #00af00\">1</span>, <span style=\"color: #00af00; text-decoration-color: #00af00\">78</span>)          │             <span style=\"color: #00af00; text-decoration-color: #00af00\">0</span> │\n",
       "├─────────────────────────────────┼────────────────────────┼───────────────┤\n",
       "│ lstm_12 (<span style=\"color: #0087ff; text-decoration-color: #0087ff\">LSTM</span>)                  │ (<span style=\"color: #00d7ff; text-decoration-color: #00d7ff\">None</span>, <span style=\"color: #00af00; text-decoration-color: #00af00\">1</span>, <span style=\"color: #00af00; text-decoration-color: #00af00\">196</span>)         │       <span style=\"color: #00af00; text-decoration-color: #00af00\">215,600</span> │\n",
       "├─────────────────────────────────┼────────────────────────┼───────────────┤\n",
       "│ lstm_13 (<span style=\"color: #0087ff; text-decoration-color: #0087ff\">LSTM</span>)                  │ (<span style=\"color: #00d7ff; text-decoration-color: #00d7ff\">None</span>, <span style=\"color: #00af00; text-decoration-color: #00af00\">125</span>)            │       <span style=\"color: #00af00; text-decoration-color: #00af00\">161,000</span> │\n",
       "├─────────────────────────────────┼────────────────────────┼───────────────┤\n",
       "│ repeat_vector_3 (<span style=\"color: #0087ff; text-decoration-color: #0087ff\">RepeatVector</span>)  │ (<span style=\"color: #00d7ff; text-decoration-color: #00d7ff\">None</span>, <span style=\"color: #00af00; text-decoration-color: #00af00\">1</span>, <span style=\"color: #00af00; text-decoration-color: #00af00\">125</span>)         │             <span style=\"color: #00af00; text-decoration-color: #00af00\">0</span> │\n",
       "├─────────────────────────────────┼────────────────────────┼───────────────┤\n",
       "│ lstm_14 (<span style=\"color: #0087ff; text-decoration-color: #0087ff\">LSTM</span>)                  │ (<span style=\"color: #00d7ff; text-decoration-color: #00d7ff\">None</span>, <span style=\"color: #00af00; text-decoration-color: #00af00\">1</span>, <span style=\"color: #00af00; text-decoration-color: #00af00\">125</span>)         │       <span style=\"color: #00af00; text-decoration-color: #00af00\">125,500</span> │\n",
       "├─────────────────────────────────┼────────────────────────┼───────────────┤\n",
       "│ lstm_15 (<span style=\"color: #0087ff; text-decoration-color: #0087ff\">LSTM</span>)                  │ (<span style=\"color: #00d7ff; text-decoration-color: #00d7ff\">None</span>, <span style=\"color: #00af00; text-decoration-color: #00af00\">1</span>, <span style=\"color: #00af00; text-decoration-color: #00af00\">196</span>)         │       <span style=\"color: #00af00; text-decoration-color: #00af00\">252,448</span> │\n",
       "├─────────────────────────────────┼────────────────────────┼───────────────┤\n",
       "│ time_distributed_3              │ (<span style=\"color: #00d7ff; text-decoration-color: #00d7ff\">None</span>, <span style=\"color: #00af00; text-decoration-color: #00af00\">1</span>, <span style=\"color: #00af00; text-decoration-color: #00af00\">78</span>)          │        <span style=\"color: #00af00; text-decoration-color: #00af00\">15,366</span> │\n",
       "│ (<span style=\"color: #0087ff; text-decoration-color: #0087ff\">TimeDistributed</span>)               │                        │               │\n",
       "└─────────────────────────────────┴────────────────────────┴───────────────┘\n",
       "</pre>\n"
      ],
      "text/plain": [
       "┏━━━━━━━━━━━━━━━━━━━━━━━━━━━━━━━━━┳━━━━━━━━━━━━━━━━━━━━━━━━┳━━━━━━━━━━━━━━━┓\n",
       "┃\u001b[1m \u001b[0m\u001b[1mLayer (type)                   \u001b[0m\u001b[1m \u001b[0m┃\u001b[1m \u001b[0m\u001b[1mOutput Shape          \u001b[0m\u001b[1m \u001b[0m┃\u001b[1m \u001b[0m\u001b[1m      Param #\u001b[0m\u001b[1m \u001b[0m┃\n",
       "┡━━━━━━━━━━━━━━━━━━━━━━━━━━━━━━━━━╇━━━━━━━━━━━━━━━━━━━━━━━━╇━━━━━━━━━━━━━━━┩\n",
       "│ input_layer_3 (\u001b[38;5;33mInputLayer\u001b[0m)      │ (\u001b[38;5;45mNone\u001b[0m, \u001b[38;5;34m1\u001b[0m, \u001b[38;5;34m78\u001b[0m)          │             \u001b[38;5;34m0\u001b[0m │\n",
       "├─────────────────────────────────┼────────────────────────┼───────────────┤\n",
       "│ lstm_12 (\u001b[38;5;33mLSTM\u001b[0m)                  │ (\u001b[38;5;45mNone\u001b[0m, \u001b[38;5;34m1\u001b[0m, \u001b[38;5;34m196\u001b[0m)         │       \u001b[38;5;34m215,600\u001b[0m │\n",
       "├─────────────────────────────────┼────────────────────────┼───────────────┤\n",
       "│ lstm_13 (\u001b[38;5;33mLSTM\u001b[0m)                  │ (\u001b[38;5;45mNone\u001b[0m, \u001b[38;5;34m125\u001b[0m)            │       \u001b[38;5;34m161,000\u001b[0m │\n",
       "├─────────────────────────────────┼────────────────────────┼───────────────┤\n",
       "│ repeat_vector_3 (\u001b[38;5;33mRepeatVector\u001b[0m)  │ (\u001b[38;5;45mNone\u001b[0m, \u001b[38;5;34m1\u001b[0m, \u001b[38;5;34m125\u001b[0m)         │             \u001b[38;5;34m0\u001b[0m │\n",
       "├─────────────────────────────────┼────────────────────────┼───────────────┤\n",
       "│ lstm_14 (\u001b[38;5;33mLSTM\u001b[0m)                  │ (\u001b[38;5;45mNone\u001b[0m, \u001b[38;5;34m1\u001b[0m, \u001b[38;5;34m125\u001b[0m)         │       \u001b[38;5;34m125,500\u001b[0m │\n",
       "├─────────────────────────────────┼────────────────────────┼───────────────┤\n",
       "│ lstm_15 (\u001b[38;5;33mLSTM\u001b[0m)                  │ (\u001b[38;5;45mNone\u001b[0m, \u001b[38;5;34m1\u001b[0m, \u001b[38;5;34m196\u001b[0m)         │       \u001b[38;5;34m252,448\u001b[0m │\n",
       "├─────────────────────────────────┼────────────────────────┼───────────────┤\n",
       "│ time_distributed_3              │ (\u001b[38;5;45mNone\u001b[0m, \u001b[38;5;34m1\u001b[0m, \u001b[38;5;34m78\u001b[0m)          │        \u001b[38;5;34m15,366\u001b[0m │\n",
       "│ (\u001b[38;5;33mTimeDistributed\u001b[0m)               │                        │               │\n",
       "└─────────────────────────────────┴────────────────────────┴───────────────┘\n"
      ]
     },
     "metadata": {},
     "output_type": "display_data"
    },
    {
     "data": {
      "text/html": [
       "<pre style=\"white-space:pre;overflow-x:auto;line-height:normal;font-family:Menlo,'DejaVu Sans Mono',consolas,'Courier New',monospace\"><span style=\"font-weight: bold\"> Total params: </span><span style=\"color: #00af00; text-decoration-color: #00af00\">769,914</span> (2.94 MB)\n",
       "</pre>\n"
      ],
      "text/plain": [
       "\u001b[1m Total params: \u001b[0m\u001b[38;5;34m769,914\u001b[0m (2.94 MB)\n"
      ]
     },
     "metadata": {},
     "output_type": "display_data"
    },
    {
     "data": {
      "text/html": [
       "<pre style=\"white-space:pre;overflow-x:auto;line-height:normal;font-family:Menlo,'DejaVu Sans Mono',consolas,'Courier New',monospace\"><span style=\"font-weight: bold\"> Trainable params: </span><span style=\"color: #00af00; text-decoration-color: #00af00\">769,914</span> (2.94 MB)\n",
       "</pre>\n"
      ],
      "text/plain": [
       "\u001b[1m Trainable params: \u001b[0m\u001b[38;5;34m769,914\u001b[0m (2.94 MB)\n"
      ]
     },
     "metadata": {},
     "output_type": "display_data"
    },
    {
     "data": {
      "text/html": [
       "<pre style=\"white-space:pre;overflow-x:auto;line-height:normal;font-family:Menlo,'DejaVu Sans Mono',consolas,'Courier New',monospace\"><span style=\"font-weight: bold\"> Non-trainable params: </span><span style=\"color: #00af00; text-decoration-color: #00af00\">0</span> (0.00 B)\n",
       "</pre>\n"
      ],
      "text/plain": [
       "\u001b[1m Non-trainable params: \u001b[0m\u001b[38;5;34m0\u001b[0m (0.00 B)\n"
      ]
     },
     "metadata": {},
     "output_type": "display_data"
    }
   ],
   "source": [
    "# create the autoencoder model\n",
    "model = autoencoder_model(X_scaled)\n",
    "\n",
    "opt = tf.keras.optimizers.Adam(learning_rate=0.0001)\n",
    "\n",
    "model.compile(optimizer=opt, loss='mse', metrics=['accuracy']) \n",
    "model.summary()"
   ]
  },
  {
   "cell_type": "code",
   "execution_count": 221,
   "id": "b73bd30b",
   "metadata": {},
   "outputs": [
    {
     "name": "stdout",
     "output_type": "stream",
     "text": [
      "Epoch 1/30\n",
      "\u001b[1m7775/7775\u001b[0m \u001b[32m━━━━━━━━━━━━━━━━━━━━\u001b[0m\u001b[37m\u001b[0m \u001b[1m66s\u001b[0m 9ms/step - accuracy: 0.8970 - loss: 0.0287 - val_accuracy: 0.9181 - val_loss: 0.0044\n",
      "Epoch 2/30\n",
      "\u001b[1m7775/7775\u001b[0m \u001b[32m━━━━━━━━━━━━━━━━━━━━\u001b[0m\u001b[37m\u001b[0m \u001b[1m64s\u001b[0m 8ms/step - accuracy: 0.9182 - loss: 0.0342 - val_accuracy: 0.9130 - val_loss: 0.0034\n",
      "Epoch 3/30\n",
      "\u001b[1m7775/7775\u001b[0m \u001b[32m━━━━━━━━━━━━━━━━━━━━\u001b[0m\u001b[37m\u001b[0m \u001b[1m65s\u001b[0m 8ms/step - accuracy: 0.9227 - loss: 0.0129 - val_accuracy: 0.8938 - val_loss: 0.0030\n",
      "Epoch 4/30\n",
      "\u001b[1m7775/7775\u001b[0m \u001b[32m━━━━━━━━━━━━━━━━━━━━\u001b[0m\u001b[37m\u001b[0m \u001b[1m64s\u001b[0m 8ms/step - accuracy: 0.9294 - loss: 0.0152 - val_accuracy: 0.9332 - val_loss: 0.0030\n",
      "Epoch 5/30\n",
      "\u001b[1m7775/7775\u001b[0m \u001b[32m━━━━━━━━━━━━━━━━━━━━\u001b[0m\u001b[37m\u001b[0m \u001b[1m71s\u001b[0m 9ms/step - accuracy: 0.9332 - loss: 0.0176 - val_accuracy: 0.9206 - val_loss: 0.0020\n",
      "Epoch 6/30\n",
      "\u001b[1m7775/7775\u001b[0m \u001b[32m━━━━━━━━━━━━━━━━━━━━\u001b[0m\u001b[37m\u001b[0m \u001b[1m67s\u001b[0m 9ms/step - accuracy: 0.9346 - loss: 0.0234 - val_accuracy: 0.9405 - val_loss: 0.0022\n",
      "Epoch 7/30\n",
      "\u001b[1m7775/7775\u001b[0m \u001b[32m━━━━━━━━━━━━━━━━━━━━\u001b[0m\u001b[37m\u001b[0m \u001b[1m66s\u001b[0m 8ms/step - accuracy: 0.9317 - loss: 0.0139 - val_accuracy: 0.9468 - val_loss: 0.0019\n",
      "Epoch 8/30\n",
      "\u001b[1m4240/7775\u001b[0m \u001b[32m━━━━━━━━━━\u001b[0m\u001b[37m━━━━━━━━━━\u001b[0m \u001b[1m29s\u001b[0m 8ms/step - accuracy: 0.9336 - loss: 0.0070"
     ]
    },
    {
     "ename": "KeyboardInterrupt",
     "evalue": "",
     "output_type": "error",
     "traceback": [
      "\u001b[0;31m---------------------------------------------------------------------------\u001b[0m",
      "\u001b[0;31mKeyboardInterrupt\u001b[0m                         Traceback (most recent call last)",
      "Cell \u001b[0;32mIn[221], line 2\u001b[0m\n\u001b[1;32m      1\u001b[0m \u001b[39m# fit the model to the data\u001b[39;00m\n\u001b[0;32m----> 2\u001b[0m history \u001b[39m=\u001b[39m model\u001b[39m.\u001b[39;49mfit(X_scaled, X_scaled, epochs\u001b[39m=\u001b[39;49m\u001b[39m30\u001b[39;49m, batch_size\u001b[39m=\u001b[39;49m\u001b[39m128\u001b[39;49m, validation_split\u001b[39m=\u001b[39;49m\u001b[39m0.05\u001b[39;49m)\u001b[39m.\u001b[39mhistory\n",
      "File \u001b[0;32m~/anaconda3/envs/edge_computing/lib/python3.9/site-packages/keras/src/utils/traceback_utils.py:117\u001b[0m, in \u001b[0;36mfilter_traceback.<locals>.error_handler\u001b[0;34m(*args, **kwargs)\u001b[0m\n\u001b[1;32m    115\u001b[0m filtered_tb \u001b[39m=\u001b[39m \u001b[39mNone\u001b[39;00m\n\u001b[1;32m    116\u001b[0m \u001b[39mtry\u001b[39;00m:\n\u001b[0;32m--> 117\u001b[0m     \u001b[39mreturn\u001b[39;00m fn(\u001b[39m*\u001b[39;49margs, \u001b[39m*\u001b[39;49m\u001b[39m*\u001b[39;49mkwargs)\n\u001b[1;32m    118\u001b[0m \u001b[39mexcept\u001b[39;00m \u001b[39mException\u001b[39;00m \u001b[39mas\u001b[39;00m e:\n\u001b[1;32m    119\u001b[0m     filtered_tb \u001b[39m=\u001b[39m _process_traceback_frames(e\u001b[39m.\u001b[39m__traceback__)\n",
      "File \u001b[0;32m~/anaconda3/envs/edge_computing/lib/python3.9/site-packages/keras/src/backend/tensorflow/trainer.py:329\u001b[0m, in \u001b[0;36mTensorFlowTrainer.fit\u001b[0;34m(self, x, y, batch_size, epochs, verbose, callbacks, validation_split, validation_data, shuffle, class_weight, sample_weight, initial_epoch, steps_per_epoch, validation_steps, validation_batch_size, validation_freq)\u001b[0m\n\u001b[1;32m    327\u001b[0m \u001b[39mfor\u001b[39;00m step, iterator \u001b[39min\u001b[39;00m epoch_iterator\u001b[39m.\u001b[39menumerate_epoch():\n\u001b[1;32m    328\u001b[0m     callbacks\u001b[39m.\u001b[39mon_train_batch_begin(step)\n\u001b[0;32m--> 329\u001b[0m     logs \u001b[39m=\u001b[39m \u001b[39mself\u001b[39;49m\u001b[39m.\u001b[39;49mtrain_function(iterator)\n\u001b[1;32m    330\u001b[0m     callbacks\u001b[39m.\u001b[39mon_train_batch_end(\n\u001b[1;32m    331\u001b[0m         step, \u001b[39mself\u001b[39m\u001b[39m.\u001b[39m_pythonify_logs(logs)\n\u001b[1;32m    332\u001b[0m     )\n\u001b[1;32m    333\u001b[0m     \u001b[39mif\u001b[39;00m \u001b[39mself\u001b[39m\u001b[39m.\u001b[39mstop_training:\n",
      "File \u001b[0;32m~/anaconda3/envs/edge_computing/lib/python3.9/site-packages/tensorflow/python/util/traceback_utils.py:150\u001b[0m, in \u001b[0;36mfilter_traceback.<locals>.error_handler\u001b[0;34m(*args, **kwargs)\u001b[0m\n\u001b[1;32m    148\u001b[0m filtered_tb \u001b[39m=\u001b[39m \u001b[39mNone\u001b[39;00m\n\u001b[1;32m    149\u001b[0m \u001b[39mtry\u001b[39;00m:\n\u001b[0;32m--> 150\u001b[0m   \u001b[39mreturn\u001b[39;00m fn(\u001b[39m*\u001b[39;49margs, \u001b[39m*\u001b[39;49m\u001b[39m*\u001b[39;49mkwargs)\n\u001b[1;32m    151\u001b[0m \u001b[39mexcept\u001b[39;00m \u001b[39mException\u001b[39;00m \u001b[39mas\u001b[39;00m e:\n\u001b[1;32m    152\u001b[0m   filtered_tb \u001b[39m=\u001b[39m _process_traceback_frames(e\u001b[39m.\u001b[39m__traceback__)\n",
      "File \u001b[0;32m~/anaconda3/envs/edge_computing/lib/python3.9/site-packages/tensorflow/python/eager/polymorphic_function/polymorphic_function.py:833\u001b[0m, in \u001b[0;36mFunction.__call__\u001b[0;34m(self, *args, **kwds)\u001b[0m\n\u001b[1;32m    830\u001b[0m compiler \u001b[39m=\u001b[39m \u001b[39m\"\u001b[39m\u001b[39mxla\u001b[39m\u001b[39m\"\u001b[39m \u001b[39mif\u001b[39;00m \u001b[39mself\u001b[39m\u001b[39m.\u001b[39m_jit_compile \u001b[39melse\u001b[39;00m \u001b[39m\"\u001b[39m\u001b[39mnonXla\u001b[39m\u001b[39m\"\u001b[39m\n\u001b[1;32m    832\u001b[0m \u001b[39mwith\u001b[39;00m OptionalXlaContext(\u001b[39mself\u001b[39m\u001b[39m.\u001b[39m_jit_compile):\n\u001b[0;32m--> 833\u001b[0m   result \u001b[39m=\u001b[39m \u001b[39mself\u001b[39;49m\u001b[39m.\u001b[39;49m_call(\u001b[39m*\u001b[39;49margs, \u001b[39m*\u001b[39;49m\u001b[39m*\u001b[39;49mkwds)\n\u001b[1;32m    835\u001b[0m new_tracing_count \u001b[39m=\u001b[39m \u001b[39mself\u001b[39m\u001b[39m.\u001b[39mexperimental_get_tracing_count()\n\u001b[1;32m    836\u001b[0m without_tracing \u001b[39m=\u001b[39m (tracing_count \u001b[39m==\u001b[39m new_tracing_count)\n",
      "File \u001b[0;32m~/anaconda3/envs/edge_computing/lib/python3.9/site-packages/tensorflow/python/eager/polymorphic_function/polymorphic_function.py:878\u001b[0m, in \u001b[0;36mFunction._call\u001b[0;34m(self, *args, **kwds)\u001b[0m\n\u001b[1;32m    875\u001b[0m \u001b[39mself\u001b[39m\u001b[39m.\u001b[39m_lock\u001b[39m.\u001b[39mrelease()\n\u001b[1;32m    876\u001b[0m \u001b[39m# In this case we have not created variables on the first call. So we can\u001b[39;00m\n\u001b[1;32m    877\u001b[0m \u001b[39m# run the first trace but we should fail if variables are created.\u001b[39;00m\n\u001b[0;32m--> 878\u001b[0m results \u001b[39m=\u001b[39m tracing_compilation\u001b[39m.\u001b[39;49mcall_function(\n\u001b[1;32m    879\u001b[0m     args, kwds, \u001b[39mself\u001b[39;49m\u001b[39m.\u001b[39;49m_variable_creation_config\n\u001b[1;32m    880\u001b[0m )\n\u001b[1;32m    881\u001b[0m \u001b[39mif\u001b[39;00m \u001b[39mself\u001b[39m\u001b[39m.\u001b[39m_created_variables:\n\u001b[1;32m    882\u001b[0m   \u001b[39mraise\u001b[39;00m \u001b[39mValueError\u001b[39;00m(\u001b[39m\"\u001b[39m\u001b[39mCreating variables on a non-first call to a function\u001b[39m\u001b[39m\"\u001b[39m\n\u001b[1;32m    883\u001b[0m                    \u001b[39m\"\u001b[39m\u001b[39m decorated with tf.function.\u001b[39m\u001b[39m\"\u001b[39m)\n",
      "File \u001b[0;32m~/anaconda3/envs/edge_computing/lib/python3.9/site-packages/tensorflow/python/eager/polymorphic_function/tracing_compilation.py:139\u001b[0m, in \u001b[0;36mcall_function\u001b[0;34m(args, kwargs, tracing_options)\u001b[0m\n\u001b[1;32m    137\u001b[0m bound_args \u001b[39m=\u001b[39m function\u001b[39m.\u001b[39mfunction_type\u001b[39m.\u001b[39mbind(\u001b[39m*\u001b[39margs, \u001b[39m*\u001b[39m\u001b[39m*\u001b[39mkwargs)\n\u001b[1;32m    138\u001b[0m flat_inputs \u001b[39m=\u001b[39m function\u001b[39m.\u001b[39mfunction_type\u001b[39m.\u001b[39munpack_inputs(bound_args)\n\u001b[0;32m--> 139\u001b[0m \u001b[39mreturn\u001b[39;00m function\u001b[39m.\u001b[39;49m_call_flat(  \u001b[39m# pylint: disable=protected-access\u001b[39;49;00m\n\u001b[1;32m    140\u001b[0m     flat_inputs, captured_inputs\u001b[39m=\u001b[39;49mfunction\u001b[39m.\u001b[39;49mcaptured_inputs\n\u001b[1;32m    141\u001b[0m )\n",
      "File \u001b[0;32m~/anaconda3/envs/edge_computing/lib/python3.9/site-packages/tensorflow/python/eager/polymorphic_function/concrete_function.py:1322\u001b[0m, in \u001b[0;36mConcreteFunction._call_flat\u001b[0;34m(self, tensor_inputs, captured_inputs)\u001b[0m\n\u001b[1;32m   1318\u001b[0m possible_gradient_type \u001b[39m=\u001b[39m gradients_util\u001b[39m.\u001b[39mPossibleTapeGradientTypes(args)\n\u001b[1;32m   1319\u001b[0m \u001b[39mif\u001b[39;00m (possible_gradient_type \u001b[39m==\u001b[39m gradients_util\u001b[39m.\u001b[39mPOSSIBLE_GRADIENT_TYPES_NONE\n\u001b[1;32m   1320\u001b[0m     \u001b[39mand\u001b[39;00m executing_eagerly):\n\u001b[1;32m   1321\u001b[0m   \u001b[39m# No tape is watching; skip to running the function.\u001b[39;00m\n\u001b[0;32m-> 1322\u001b[0m   \u001b[39mreturn\u001b[39;00m \u001b[39mself\u001b[39;49m\u001b[39m.\u001b[39;49m_inference_function\u001b[39m.\u001b[39;49mcall_preflattened(args)\n\u001b[1;32m   1323\u001b[0m forward_backward \u001b[39m=\u001b[39m \u001b[39mself\u001b[39m\u001b[39m.\u001b[39m_select_forward_and_backward_functions(\n\u001b[1;32m   1324\u001b[0m     args,\n\u001b[1;32m   1325\u001b[0m     possible_gradient_type,\n\u001b[1;32m   1326\u001b[0m     executing_eagerly)\n\u001b[1;32m   1327\u001b[0m forward_function, args_with_tangents \u001b[39m=\u001b[39m forward_backward\u001b[39m.\u001b[39mforward()\n",
      "File \u001b[0;32m~/anaconda3/envs/edge_computing/lib/python3.9/site-packages/tensorflow/python/eager/polymorphic_function/atomic_function.py:216\u001b[0m, in \u001b[0;36mAtomicFunction.call_preflattened\u001b[0;34m(self, args)\u001b[0m\n\u001b[1;32m    214\u001b[0m \u001b[39mdef\u001b[39;00m \u001b[39mcall_preflattened\u001b[39m(\u001b[39mself\u001b[39m, args: Sequence[core\u001b[39m.\u001b[39mTensor]) \u001b[39m-\u001b[39m\u001b[39m>\u001b[39m Any:\n\u001b[1;32m    215\u001b[0m \u001b[39m  \u001b[39m\u001b[39m\"\"\"Calls with flattened tensor inputs and returns the structured output.\"\"\"\u001b[39;00m\n\u001b[0;32m--> 216\u001b[0m   flat_outputs \u001b[39m=\u001b[39m \u001b[39mself\u001b[39;49m\u001b[39m.\u001b[39;49mcall_flat(\u001b[39m*\u001b[39;49margs)\n\u001b[1;32m    217\u001b[0m   \u001b[39mreturn\u001b[39;00m \u001b[39mself\u001b[39m\u001b[39m.\u001b[39mfunction_type\u001b[39m.\u001b[39mpack_output(flat_outputs)\n",
      "File \u001b[0;32m~/anaconda3/envs/edge_computing/lib/python3.9/site-packages/tensorflow/python/eager/polymorphic_function/atomic_function.py:251\u001b[0m, in \u001b[0;36mAtomicFunction.call_flat\u001b[0;34m(self, *args)\u001b[0m\n\u001b[1;32m    249\u001b[0m \u001b[39mwith\u001b[39;00m record\u001b[39m.\u001b[39mstop_recording():\n\u001b[1;32m    250\u001b[0m   \u001b[39mif\u001b[39;00m \u001b[39mself\u001b[39m\u001b[39m.\u001b[39m_bound_context\u001b[39m.\u001b[39mexecuting_eagerly():\n\u001b[0;32m--> 251\u001b[0m     outputs \u001b[39m=\u001b[39m \u001b[39mself\u001b[39;49m\u001b[39m.\u001b[39;49m_bound_context\u001b[39m.\u001b[39;49mcall_function(\n\u001b[1;32m    252\u001b[0m         \u001b[39mself\u001b[39;49m\u001b[39m.\u001b[39;49mname,\n\u001b[1;32m    253\u001b[0m         \u001b[39mlist\u001b[39;49m(args),\n\u001b[1;32m    254\u001b[0m         \u001b[39mlen\u001b[39;49m(\u001b[39mself\u001b[39;49m\u001b[39m.\u001b[39;49mfunction_type\u001b[39m.\u001b[39;49mflat_outputs),\n\u001b[1;32m    255\u001b[0m     )\n\u001b[1;32m    256\u001b[0m   \u001b[39melse\u001b[39;00m:\n\u001b[1;32m    257\u001b[0m     outputs \u001b[39m=\u001b[39m make_call_op_in_graph(\n\u001b[1;32m    258\u001b[0m         \u001b[39mself\u001b[39m,\n\u001b[1;32m    259\u001b[0m         \u001b[39mlist\u001b[39m(args),\n\u001b[1;32m    260\u001b[0m         \u001b[39mself\u001b[39m\u001b[39m.\u001b[39m_bound_context\u001b[39m.\u001b[39mfunction_call_options\u001b[39m.\u001b[39mas_attrs(),\n\u001b[1;32m    261\u001b[0m     )\n",
      "File \u001b[0;32m~/anaconda3/envs/edge_computing/lib/python3.9/site-packages/tensorflow/python/eager/context.py:1500\u001b[0m, in \u001b[0;36mContext.call_function\u001b[0;34m(self, name, tensor_inputs, num_outputs)\u001b[0m\n\u001b[1;32m   1498\u001b[0m cancellation_context \u001b[39m=\u001b[39m cancellation\u001b[39m.\u001b[39mcontext()\n\u001b[1;32m   1499\u001b[0m \u001b[39mif\u001b[39;00m cancellation_context \u001b[39mis\u001b[39;00m \u001b[39mNone\u001b[39;00m:\n\u001b[0;32m-> 1500\u001b[0m   outputs \u001b[39m=\u001b[39m execute\u001b[39m.\u001b[39;49mexecute(\n\u001b[1;32m   1501\u001b[0m       name\u001b[39m.\u001b[39;49mdecode(\u001b[39m\"\u001b[39;49m\u001b[39mutf-8\u001b[39;49m\u001b[39m\"\u001b[39;49m),\n\u001b[1;32m   1502\u001b[0m       num_outputs\u001b[39m=\u001b[39;49mnum_outputs,\n\u001b[1;32m   1503\u001b[0m       inputs\u001b[39m=\u001b[39;49mtensor_inputs,\n\u001b[1;32m   1504\u001b[0m       attrs\u001b[39m=\u001b[39;49mattrs,\n\u001b[1;32m   1505\u001b[0m       ctx\u001b[39m=\u001b[39;49m\u001b[39mself\u001b[39;49m,\n\u001b[1;32m   1506\u001b[0m   )\n\u001b[1;32m   1507\u001b[0m \u001b[39melse\u001b[39;00m:\n\u001b[1;32m   1508\u001b[0m   outputs \u001b[39m=\u001b[39m execute\u001b[39m.\u001b[39mexecute_with_cancellation(\n\u001b[1;32m   1509\u001b[0m       name\u001b[39m.\u001b[39mdecode(\u001b[39m\"\u001b[39m\u001b[39mutf-8\u001b[39m\u001b[39m\"\u001b[39m),\n\u001b[1;32m   1510\u001b[0m       num_outputs\u001b[39m=\u001b[39mnum_outputs,\n\u001b[0;32m   (...)\u001b[0m\n\u001b[1;32m   1514\u001b[0m       cancellation_manager\u001b[39m=\u001b[39mcancellation_context,\n\u001b[1;32m   1515\u001b[0m   )\n",
      "File \u001b[0;32m~/anaconda3/envs/edge_computing/lib/python3.9/site-packages/tensorflow/python/eager/execute.py:53\u001b[0m, in \u001b[0;36mquick_execute\u001b[0;34m(op_name, num_outputs, inputs, attrs, ctx, name)\u001b[0m\n\u001b[1;32m     51\u001b[0m \u001b[39mtry\u001b[39;00m:\n\u001b[1;32m     52\u001b[0m   ctx\u001b[39m.\u001b[39mensure_initialized()\n\u001b[0;32m---> 53\u001b[0m   tensors \u001b[39m=\u001b[39m pywrap_tfe\u001b[39m.\u001b[39;49mTFE_Py_Execute(ctx\u001b[39m.\u001b[39;49m_handle, device_name, op_name,\n\u001b[1;32m     54\u001b[0m                                       inputs, attrs, num_outputs)\n\u001b[1;32m     55\u001b[0m \u001b[39mexcept\u001b[39;00m core\u001b[39m.\u001b[39m_NotOkStatusException \u001b[39mas\u001b[39;00m e:\n\u001b[1;32m     56\u001b[0m   \u001b[39mif\u001b[39;00m name \u001b[39mis\u001b[39;00m \u001b[39mnot\u001b[39;00m \u001b[39mNone\u001b[39;00m:\n",
      "\u001b[0;31mKeyboardInterrupt\u001b[0m: "
     ]
    }
   ],
   "source": [
    "# fit the model to the data\n",
    "history = model.fit(X_scaled, X_scaled, epochs=30, batch_size=128, validation_split=0.05).history"
   ]
  },
  {
   "cell_type": "code",
   "execution_count": 156,
   "id": "9b942828",
   "metadata": {},
   "outputs": [
    {
     "name": "stdout",
     "output_type": "stream",
     "text": [
      "\u001b[1m39388/39388\u001b[0m \u001b[32m━━━━━━━━━━━━━━━━━━━━\u001b[0m\u001b[37m\u001b[0m \u001b[1m36s\u001b[0m 916us/step\n",
      "Inference time: 41.72 seconds\n"
     ]
    }
   ],
   "source": [
    "import time\n",
    "\n",
    "# Measure inference time\n",
    "start_time = time.time()\n",
    "pred = model.predict(X_scaled)\n",
    "end_time = time.time()\n",
    "\n",
    "inference_time = end_time - start_time\n",
    "print(\"Inference time: {:.2f} seconds\".format(inference_time))\n"
   ]
  },
  {
   "cell_type": "markdown",
   "id": "083fb8a9",
   "metadata": {},
   "source": [
    "## Plot the distribution"
   ]
  },
  {
   "cell_type": "code",
   "execution_count": 220,
   "id": "d7b8f97c",
   "metadata": {},
   "outputs": [
    {
     "name": "stdout",
     "output_type": "stream",
     "text": [
      "\u001b[1m8184/8184\u001b[0m \u001b[32m━━━━━━━━━━━━━━━━━━━━\u001b[0m\u001b[37m\u001b[0m \u001b[1m17s\u001b[0m 2ms/step - accuracy: 0.8024 - loss: 0.0462\n"
     ]
    },
    {
     "data": {
      "text/plain": [
       "[0.043775513768196106, 0.8023375272750854]"
      ]
     },
     "execution_count": 220,
     "metadata": {},
     "output_type": "execute_result"
    }
   ],
   "source": [
    "model.evaluate(X_scaled,X_scaled, batch_size=128)"
   ]
  },
  {
   "cell_type": "code",
   "execution_count": 175,
   "id": "0a03aec6",
   "metadata": {},
   "outputs": [
    {
     "name": "stdout",
     "output_type": "stream",
     "text": [
      "\u001b[1m9847/9847\u001b[0m \u001b[32m━━━━━━━━━━━━━━━━━━━━\u001b[0m\u001b[37m\u001b[0m \u001b[1m19s\u001b[0m 2ms/step - accuracy: 0.9435 - loss: 0.2041\n"
     ]
    },
    {
     "data": {
      "text/plain": [
       "[0.14310511946678162, 0.9433718919754028]"
      ]
     },
     "execution_count": 175,
     "metadata": {},
     "output_type": "execute_result"
    }
   ],
   "source": [
    "X_ben_test_scaled = X_ben_test_scaled.reshape(X_ben_test_scaled.shape[0], 1, X_ben_test_scaled.shape[1])\n",
    "model.evaluate(X_ben_test_scaled,X_ben_test_scaled,batch_size=128)"
   ]
  },
  {
   "cell_type": "code",
   "execution_count": 219,
   "id": "2e5952b4",
   "metadata": {},
   "outputs": [
    {
     "name": "stdout",
     "output_type": "stream",
     "text": [
      "\u001b[1m3327/3327\u001b[0m \u001b[32m━━━━━━━━━━━━━━━━━━━━\u001b[0m\u001b[37m\u001b[0m \u001b[1m6s\u001b[0m 2ms/step - accuracy: 0.8023 - loss: 0.1875\n"
     ]
    },
    {
     "data": {
      "text/plain": [
       "[0.31289592385292053, 0.6158486008644104]"
      ]
     },
     "execution_count": 219,
     "metadata": {},
     "output_type": "execute_result"
    }
   ],
   "source": [
    "X_mal_test_scaled = X_mal_test_scaled.reshape(X_mal_test_scaled.shape[0], 1, X_mal_test_scaled.shape[1])\n",
    "model.evaluate(X_mal_test_scaled,X_mal_test_scaled,batch_size=128)"
   ]
  },
  {
   "cell_type": "code",
   "execution_count": null,
   "id": "09bf08d9",
   "metadata": {},
   "outputs": [],
   "source": [
    "import matplotlib.pyplot as plt\n",
    "import seaborn as sns\n",
    "from sklearn.metrics import mean_squared_error, mean_absolute_error, r2_score\n",
    "def get_losses(X):\n",
    "  predictions = model.predict(X)\n",
    "\n",
    "  # Calculate losses\n",
    "  mse_loss = mean_squared_error()\n",
    "  losses = mse_loss(X_scaled, predictions).numpy()\n",
    "\n",
    "  # If you need to calculate loss for each data point individually:\n",
    "  individual_losses = np.mean(np.square(X_scaled - predictions), axis=1)\n",
    "  return individual_losses\n",
    "\n",
    "def plot_distributions(individual_losses):\n",
    "  # Set the style of seaborn for better aesthetics\n",
    "  sns.set_theme(style=\"whitegrid\")\n",
    "\n",
    "  # Plotting the distribution of losses\n",
    "  plt.figure(figsize=(10, 6))\n",
    "  sns.histplot(individual_losses, kde=True, color=\"blue\", binwidth=0.01)\n",
    "  plt.title('Distribution of Losses')\n",
    "  plt.xlabel('Loss')\n",
    "  plt.ylabel('Frequency')\n",
    "  plt.show()"
   ]
  },
  {
   "cell_type": "code",
   "execution_count": null,
   "id": "06ec0e0b",
   "metadata": {},
   "outputs": [],
   "source": [
    "train_losses = get_losses(X_scaled)\n",
    "plot_distributions(train_losses)"
   ]
  },
  {
   "cell_type": "code",
   "execution_count": null,
   "id": "b016ecbd",
   "metadata": {},
   "outputs": [],
   "source": [
    "ben_test_losses = get_losses(X_ben_test_scaled)\n",
    "plot_distributions(ben_test_losses)"
   ]
  },
  {
   "cell_type": "code",
   "execution_count": null,
   "id": "81f8527a",
   "metadata": {},
   "outputs": [],
   "source": [
    "mal_test_losses = get_losses(X_mal_test_scaled)\n",
    "plot_distributions(mal_test_losses)"
   ]
  },
  {
   "cell_type": "markdown",
   "id": "f445cdae",
   "metadata": {},
   "source": [
    "# With default learning rate and mae loss function, to 30 epochs."
   ]
  },
  {
   "cell_type": "code",
   "execution_count": 224,
   "id": "f07940e9",
   "metadata": {},
   "outputs": [
    {
     "data": {
      "text/html": [
       "<pre style=\"white-space:pre;overflow-x:auto;line-height:normal;font-family:Menlo,'DejaVu Sans Mono',consolas,'Courier New',monospace\"><span style=\"font-weight: bold\">Model: \"functional_11\"</span>\n",
       "</pre>\n"
      ],
      "text/plain": [
       "\u001b[1mModel: \"functional_11\"\u001b[0m\n"
      ]
     },
     "metadata": {},
     "output_type": "display_data"
    },
    {
     "data": {
      "text/html": [
       "<pre style=\"white-space:pre;overflow-x:auto;line-height:normal;font-family:Menlo,'DejaVu Sans Mono',consolas,'Courier New',monospace\">┏━━━━━━━━━━━━━━━━━━━━━━━━━━━━━━━━━┳━━━━━━━━━━━━━━━━━━━━━━━━┳━━━━━━━━━━━━━━━┓\n",
       "┃<span style=\"font-weight: bold\"> Layer (type)                    </span>┃<span style=\"font-weight: bold\"> Output Shape           </span>┃<span style=\"font-weight: bold\">       Param # </span>┃\n",
       "┡━━━━━━━━━━━━━━━━━━━━━━━━━━━━━━━━━╇━━━━━━━━━━━━━━━━━━━━━━━━╇━━━━━━━━━━━━━━━┩\n",
       "│ input_layer_5 (<span style=\"color: #0087ff; text-decoration-color: #0087ff\">InputLayer</span>)      │ (<span style=\"color: #00d7ff; text-decoration-color: #00d7ff\">None</span>, <span style=\"color: #00af00; text-decoration-color: #00af00\">1</span>, <span style=\"color: #00af00; text-decoration-color: #00af00\">78</span>)          │             <span style=\"color: #00af00; text-decoration-color: #00af00\">0</span> │\n",
       "├─────────────────────────────────┼────────────────────────┼───────────────┤\n",
       "│ lstm_20 (<span style=\"color: #0087ff; text-decoration-color: #0087ff\">LSTM</span>)                  │ (<span style=\"color: #00d7ff; text-decoration-color: #00d7ff\">None</span>, <span style=\"color: #00af00; text-decoration-color: #00af00\">1</span>, <span style=\"color: #00af00; text-decoration-color: #00af00\">196</span>)         │       <span style=\"color: #00af00; text-decoration-color: #00af00\">215,600</span> │\n",
       "├─────────────────────────────────┼────────────────────────┼───────────────┤\n",
       "│ lstm_21 (<span style=\"color: #0087ff; text-decoration-color: #0087ff\">LSTM</span>)                  │ (<span style=\"color: #00d7ff; text-decoration-color: #00d7ff\">None</span>, <span style=\"color: #00af00; text-decoration-color: #00af00\">125</span>)            │       <span style=\"color: #00af00; text-decoration-color: #00af00\">161,000</span> │\n",
       "├─────────────────────────────────┼────────────────────────┼───────────────┤\n",
       "│ repeat_vector_5 (<span style=\"color: #0087ff; text-decoration-color: #0087ff\">RepeatVector</span>)  │ (<span style=\"color: #00d7ff; text-decoration-color: #00d7ff\">None</span>, <span style=\"color: #00af00; text-decoration-color: #00af00\">1</span>, <span style=\"color: #00af00; text-decoration-color: #00af00\">125</span>)         │             <span style=\"color: #00af00; text-decoration-color: #00af00\">0</span> │\n",
       "├─────────────────────────────────┼────────────────────────┼───────────────┤\n",
       "│ lstm_22 (<span style=\"color: #0087ff; text-decoration-color: #0087ff\">LSTM</span>)                  │ (<span style=\"color: #00d7ff; text-decoration-color: #00d7ff\">None</span>, <span style=\"color: #00af00; text-decoration-color: #00af00\">1</span>, <span style=\"color: #00af00; text-decoration-color: #00af00\">125</span>)         │       <span style=\"color: #00af00; text-decoration-color: #00af00\">125,500</span> │\n",
       "├─────────────────────────────────┼────────────────────────┼───────────────┤\n",
       "│ lstm_23 (<span style=\"color: #0087ff; text-decoration-color: #0087ff\">LSTM</span>)                  │ (<span style=\"color: #00d7ff; text-decoration-color: #00d7ff\">None</span>, <span style=\"color: #00af00; text-decoration-color: #00af00\">1</span>, <span style=\"color: #00af00; text-decoration-color: #00af00\">196</span>)         │       <span style=\"color: #00af00; text-decoration-color: #00af00\">252,448</span> │\n",
       "├─────────────────────────────────┼────────────────────────┼───────────────┤\n",
       "│ time_distributed_5              │ (<span style=\"color: #00d7ff; text-decoration-color: #00d7ff\">None</span>, <span style=\"color: #00af00; text-decoration-color: #00af00\">1</span>, <span style=\"color: #00af00; text-decoration-color: #00af00\">78</span>)          │        <span style=\"color: #00af00; text-decoration-color: #00af00\">15,366</span> │\n",
       "│ (<span style=\"color: #0087ff; text-decoration-color: #0087ff\">TimeDistributed</span>)               │                        │               │\n",
       "└─────────────────────────────────┴────────────────────────┴───────────────┘\n",
       "</pre>\n"
      ],
      "text/plain": [
       "┏━━━━━━━━━━━━━━━━━━━━━━━━━━━━━━━━━┳━━━━━━━━━━━━━━━━━━━━━━━━┳━━━━━━━━━━━━━━━┓\n",
       "┃\u001b[1m \u001b[0m\u001b[1mLayer (type)                   \u001b[0m\u001b[1m \u001b[0m┃\u001b[1m \u001b[0m\u001b[1mOutput Shape          \u001b[0m\u001b[1m \u001b[0m┃\u001b[1m \u001b[0m\u001b[1m      Param #\u001b[0m\u001b[1m \u001b[0m┃\n",
       "┡━━━━━━━━━━━━━━━━━━━━━━━━━━━━━━━━━╇━━━━━━━━━━━━━━━━━━━━━━━━╇━━━━━━━━━━━━━━━┩\n",
       "│ input_layer_5 (\u001b[38;5;33mInputLayer\u001b[0m)      │ (\u001b[38;5;45mNone\u001b[0m, \u001b[38;5;34m1\u001b[0m, \u001b[38;5;34m78\u001b[0m)          │             \u001b[38;5;34m0\u001b[0m │\n",
       "├─────────────────────────────────┼────────────────────────┼───────────────┤\n",
       "│ lstm_20 (\u001b[38;5;33mLSTM\u001b[0m)                  │ (\u001b[38;5;45mNone\u001b[0m, \u001b[38;5;34m1\u001b[0m, \u001b[38;5;34m196\u001b[0m)         │       \u001b[38;5;34m215,600\u001b[0m │\n",
       "├─────────────────────────────────┼────────────────────────┼───────────────┤\n",
       "│ lstm_21 (\u001b[38;5;33mLSTM\u001b[0m)                  │ (\u001b[38;5;45mNone\u001b[0m, \u001b[38;5;34m125\u001b[0m)            │       \u001b[38;5;34m161,000\u001b[0m │\n",
       "├─────────────────────────────────┼────────────────────────┼───────────────┤\n",
       "│ repeat_vector_5 (\u001b[38;5;33mRepeatVector\u001b[0m)  │ (\u001b[38;5;45mNone\u001b[0m, \u001b[38;5;34m1\u001b[0m, \u001b[38;5;34m125\u001b[0m)         │             \u001b[38;5;34m0\u001b[0m │\n",
       "├─────────────────────────────────┼────────────────────────┼───────────────┤\n",
       "│ lstm_22 (\u001b[38;5;33mLSTM\u001b[0m)                  │ (\u001b[38;5;45mNone\u001b[0m, \u001b[38;5;34m1\u001b[0m, \u001b[38;5;34m125\u001b[0m)         │       \u001b[38;5;34m125,500\u001b[0m │\n",
       "├─────────────────────────────────┼────────────────────────┼───────────────┤\n",
       "│ lstm_23 (\u001b[38;5;33mLSTM\u001b[0m)                  │ (\u001b[38;5;45mNone\u001b[0m, \u001b[38;5;34m1\u001b[0m, \u001b[38;5;34m196\u001b[0m)         │       \u001b[38;5;34m252,448\u001b[0m │\n",
       "├─────────────────────────────────┼────────────────────────┼───────────────┤\n",
       "│ time_distributed_5              │ (\u001b[38;5;45mNone\u001b[0m, \u001b[38;5;34m1\u001b[0m, \u001b[38;5;34m78\u001b[0m)          │        \u001b[38;5;34m15,366\u001b[0m │\n",
       "│ (\u001b[38;5;33mTimeDistributed\u001b[0m)               │                        │               │\n",
       "└─────────────────────────────────┴────────────────────────┴───────────────┘\n"
      ]
     },
     "metadata": {},
     "output_type": "display_data"
    },
    {
     "data": {
      "text/html": [
       "<pre style=\"white-space:pre;overflow-x:auto;line-height:normal;font-family:Menlo,'DejaVu Sans Mono',consolas,'Courier New',monospace\"><span style=\"font-weight: bold\"> Total params: </span><span style=\"color: #00af00; text-decoration-color: #00af00\">769,914</span> (2.94 MB)\n",
       "</pre>\n"
      ],
      "text/plain": [
       "\u001b[1m Total params: \u001b[0m\u001b[38;5;34m769,914\u001b[0m (2.94 MB)\n"
      ]
     },
     "metadata": {},
     "output_type": "display_data"
    },
    {
     "data": {
      "text/html": [
       "<pre style=\"white-space:pre;overflow-x:auto;line-height:normal;font-family:Menlo,'DejaVu Sans Mono',consolas,'Courier New',monospace\"><span style=\"font-weight: bold\"> Trainable params: </span><span style=\"color: #00af00; text-decoration-color: #00af00\">769,914</span> (2.94 MB)\n",
       "</pre>\n"
      ],
      "text/plain": [
       "\u001b[1m Trainable params: \u001b[0m\u001b[38;5;34m769,914\u001b[0m (2.94 MB)\n"
      ]
     },
     "metadata": {},
     "output_type": "display_data"
    },
    {
     "data": {
      "text/html": [
       "<pre style=\"white-space:pre;overflow-x:auto;line-height:normal;font-family:Menlo,'DejaVu Sans Mono',consolas,'Courier New',monospace\"><span style=\"font-weight: bold\"> Non-trainable params: </span><span style=\"color: #00af00; text-decoration-color: #00af00\">0</span> (0.00 B)\n",
       "</pre>\n"
      ],
      "text/plain": [
       "\u001b[1m Non-trainable params: \u001b[0m\u001b[38;5;34m0\u001b[0m (0.00 B)\n"
      ]
     },
     "metadata": {},
     "output_type": "display_data"
    }
   ],
   "source": [
    "# create the autoencoder model\n",
    "model = autoencoder_model(X_scaled)\n",
    "\n",
    "model.compile(optimizer='adam', loss='mae', metrics=['accuracy']) \n",
    "model.summary()"
   ]
  },
  {
   "cell_type": "code",
   "execution_count": 225,
   "id": "752928e0",
   "metadata": {},
   "outputs": [
    {
     "name": "stdout",
     "output_type": "stream",
     "text": [
      "Epoch 1/30\n",
      "\u001b[1m7775/7775\u001b[0m \u001b[32m━━━━━━━━━━━━━━━━━━━━\u001b[0m\u001b[37m\u001b[0m \u001b[1m66s\u001b[0m 8ms/step - accuracy: 0.6114 - loss: 0.0723 - val_accuracy: 0.8725 - val_loss: 0.0183\n",
      "Epoch 2/30\n",
      "\u001b[1m7775/7775\u001b[0m \u001b[32m━━━━━━━━━━━━━━━━━━━━\u001b[0m\u001b[37m\u001b[0m \u001b[1m68s\u001b[0m 9ms/step - accuracy: 0.9080 - loss: 0.0155 - val_accuracy: 0.9116 - val_loss: 0.0112\n",
      "Epoch 3/30\n",
      "\u001b[1m7775/7775\u001b[0m \u001b[32m━━━━━━━━━━━━━━━━━━━━\u001b[0m\u001b[37m\u001b[0m \u001b[1m65s\u001b[0m 8ms/step - accuracy: 0.9278 - loss: 0.0113 - val_accuracy: 0.9156 - val_loss: 0.0099\n",
      "Epoch 4/30\n",
      "\u001b[1m7775/7775\u001b[0m \u001b[32m━━━━━━━━━━━━━━━━━━━━\u001b[0m\u001b[37m\u001b[0m \u001b[1m69s\u001b[0m 9ms/step - accuracy: 0.9328 - loss: 0.0098 - val_accuracy: 0.9553 - val_loss: 0.0082\n",
      "Epoch 5/30\n",
      "\u001b[1m7775/7775\u001b[0m \u001b[32m━━━━━━━━━━━━━━━━━━━━\u001b[0m\u001b[37m\u001b[0m \u001b[1m64s\u001b[0m 8ms/step - accuracy: 0.9406 - loss: 0.0083 - val_accuracy: 0.9249 - val_loss: 0.0069\n",
      "Epoch 6/30\n",
      "\u001b[1m7775/7775\u001b[0m \u001b[32m━━━━━━━━━━━━━━━━━━━━\u001b[0m\u001b[37m\u001b[0m \u001b[1m57s\u001b[0m 7ms/step - accuracy: 0.9437 - loss: 0.0073 - val_accuracy: 0.9518 - val_loss: 0.0064\n",
      "Epoch 7/30\n",
      "\u001b[1m7775/7775\u001b[0m \u001b[32m━━━━━━━━━━━━━━━━━━━━\u001b[0m\u001b[37m\u001b[0m \u001b[1m61s\u001b[0m 8ms/step - accuracy: 0.9464 - loss: 0.0070 - val_accuracy: 0.9471 - val_loss: 0.0060\n",
      "Epoch 8/30\n",
      "\u001b[1m7775/7775\u001b[0m \u001b[32m━━━━━━━━━━━━━━━━━━━━\u001b[0m\u001b[37m\u001b[0m \u001b[1m62s\u001b[0m 8ms/step - accuracy: 0.9472 - loss: 0.0065 - val_accuracy: 0.9241 - val_loss: 0.0055\n",
      "Epoch 9/30\n",
      "\u001b[1m7775/7775\u001b[0m \u001b[32m━━━━━━━━━━━━━━━━━━━━\u001b[0m\u001b[37m\u001b[0m \u001b[1m62s\u001b[0m 8ms/step - accuracy: 0.9461 - loss: 0.0062 - val_accuracy: 0.9306 - val_loss: 0.0050\n",
      "Epoch 10/30\n",
      "\u001b[1m7775/7775\u001b[0m \u001b[32m━━━━━━━━━━━━━━━━━━━━\u001b[0m\u001b[37m\u001b[0m \u001b[1m61s\u001b[0m 8ms/step - accuracy: 0.9463 - loss: 0.0060 - val_accuracy: 0.9520 - val_loss: 0.0049\n",
      "Epoch 11/30\n",
      "\u001b[1m7775/7775\u001b[0m \u001b[32m━━━━━━━━━━━━━━━━━━━━\u001b[0m\u001b[37m\u001b[0m \u001b[1m61s\u001b[0m 8ms/step - accuracy: 0.9483 - loss: 0.0056 - val_accuracy: 0.9219 - val_loss: 0.0049\n",
      "Epoch 12/30\n",
      "\u001b[1m7775/7775\u001b[0m \u001b[32m━━━━━━━━━━━━━━━━━━━━\u001b[0m\u001b[37m\u001b[0m \u001b[1m60s\u001b[0m 8ms/step - accuracy: 0.9495 - loss: 0.0053 - val_accuracy: 0.9268 - val_loss: 0.0052\n",
      "Epoch 13/30\n",
      "\u001b[1m7775/7775\u001b[0m \u001b[32m━━━━━━━━━━━━━━━━━━━━\u001b[0m\u001b[37m\u001b[0m \u001b[1m60s\u001b[0m 8ms/step - accuracy: 0.9495 - loss: 0.0053 - val_accuracy: 0.9323 - val_loss: 0.0048\n",
      "Epoch 14/30\n",
      "\u001b[1m7775/7775\u001b[0m \u001b[32m━━━━━━━━━━━━━━━━━━━━\u001b[0m\u001b[37m\u001b[0m \u001b[1m60s\u001b[0m 8ms/step - accuracy: 0.9498 - loss: 0.0052 - val_accuracy: 0.9689 - val_loss: 0.0050\n",
      "Epoch 15/30\n",
      "\u001b[1m7775/7775\u001b[0m \u001b[32m━━━━━━━━━━━━━━━━━━━━\u001b[0m\u001b[37m\u001b[0m \u001b[1m61s\u001b[0m 8ms/step - accuracy: 0.9497 - loss: 0.0053 - val_accuracy: 0.9213 - val_loss: 0.0045\n",
      "Epoch 16/30\n",
      "\u001b[1m7775/7775\u001b[0m \u001b[32m━━━━━━━━━━━━━━━━━━━━\u001b[0m\u001b[37m\u001b[0m \u001b[1m61s\u001b[0m 8ms/step - accuracy: 0.9501 - loss: 0.0049 - val_accuracy: 0.9636 - val_loss: 0.0049\n",
      "Epoch 17/30\n",
      "\u001b[1m7775/7775\u001b[0m \u001b[32m━━━━━━━━━━━━━━━━━━━━\u001b[0m\u001b[37m\u001b[0m \u001b[1m61s\u001b[0m 8ms/step - accuracy: 0.9528 - loss: 0.0050 - val_accuracy: 0.9564 - val_loss: 0.0045\n",
      "Epoch 18/30\n",
      "\u001b[1m7775/7775\u001b[0m \u001b[32m━━━━━━━━━━━━━━━━━━━━\u001b[0m\u001b[37m\u001b[0m \u001b[1m61s\u001b[0m 8ms/step - accuracy: 0.9515 - loss: 0.0058 - val_accuracy: 0.9317 - val_loss: 0.0041\n",
      "Epoch 19/30\n",
      "\u001b[1m7775/7775\u001b[0m \u001b[32m━━━━━━━━━━━━━━━━━━━━\u001b[0m\u001b[37m\u001b[0m \u001b[1m61s\u001b[0m 8ms/step - accuracy: 0.9541 - loss: 0.0050 - val_accuracy: 0.9527 - val_loss: 0.0041\n",
      "Epoch 20/30\n",
      "\u001b[1m7775/7775\u001b[0m \u001b[32m━━━━━━━━━━━━━━━━━━━━\u001b[0m\u001b[37m\u001b[0m \u001b[1m61s\u001b[0m 8ms/step - accuracy: 0.9531 - loss: 0.0047 - val_accuracy: 0.9727 - val_loss: 0.0041\n",
      "Epoch 21/30\n",
      "\u001b[1m7775/7775\u001b[0m \u001b[32m━━━━━━━━━━━━━━━━━━━━\u001b[0m\u001b[37m\u001b[0m \u001b[1m61s\u001b[0m 8ms/step - accuracy: 0.9549 - loss: 0.0044 - val_accuracy: 0.9275 - val_loss: 0.0041\n",
      "Epoch 22/30\n",
      "\u001b[1m7775/7775\u001b[0m \u001b[32m━━━━━━━━━━━━━━━━━━━━\u001b[0m\u001b[37m\u001b[0m \u001b[1m61s\u001b[0m 8ms/step - accuracy: 0.9544 - loss: 0.0047 - val_accuracy: 0.9270 - val_loss: 0.0040\n",
      "Epoch 23/30\n",
      "\u001b[1m7775/7775\u001b[0m \u001b[32m━━━━━━━━━━━━━━━━━━━━\u001b[0m\u001b[37m\u001b[0m \u001b[1m63s\u001b[0m 8ms/step - accuracy: 0.9541 - loss: 0.0046 - val_accuracy: 0.9573 - val_loss: 0.0038\n",
      "Epoch 24/30\n",
      "\u001b[1m7775/7775\u001b[0m \u001b[32m━━━━━━━━━━━━━━━━━━━━\u001b[0m\u001b[37m\u001b[0m \u001b[1m65s\u001b[0m 8ms/step - accuracy: 0.9563 - loss: 0.0047 - val_accuracy: 0.9425 - val_loss: 0.0036\n",
      "Epoch 25/30\n",
      "\u001b[1m7306/7775\u001b[0m \u001b[32m━━━━━━━━━━━━━━━━━━\u001b[0m\u001b[37m━━\u001b[0m \u001b[1m3s\u001b[0m 8ms/step - accuracy: 0.9569 - loss: 0.0046"
     ]
    }
   ],
   "source": [
    "# fit the model to the data\n",
    "history = model.fit(X_scaled, X_scaled, epochs=30, batch_size=128, validation_split=0.05).history"
   ]
  },
  {
   "cell_type": "code",
   "execution_count": 41,
   "id": "c6bd3f89",
   "metadata": {},
   "outputs": [
    {
     "name": "stdout",
     "output_type": "stream",
     "text": [
      "22093/22093 [==============================] - 48s 2ms/step\n",
      "Inference time: 53.66 seconds\n"
     ]
    }
   ],
   "source": [
    "import time\n",
    "\n",
    "# Measure inference time\n",
    "start_time = time.time()\n",
    "pred = model.predict(X_train_scaled)\n",
    "end_time = time.time()\n",
    "\n",
    "inference_time = end_time - start_time\n",
    "print(\"Inference time: {:.2f} seconds\".format(inference_time))\n",
    "\n",
    "pred = np.argmax(pred,axis=1)\n",
    "# y_test = Y_test.argmax(axis=1)"
   ]
  },
  {
   "cell_type": "code",
   "execution_count": 42,
   "id": "9042b2f6",
   "metadata": {},
   "outputs": [
    {
     "name": "stdout",
     "output_type": "stream",
     "text": [
      "22093/22093 [==============================] - 48s 2ms/step\n",
      "5524/5524 [==============================] - 14s 3ms/step - loss: 0.0005 - accuracy: 0.9999\n",
      "Completed\n",
      "Time taken: 0:01:09.123427\n"
     ]
    }
   ],
   "source": [
    "import datetime as dt\n",
    "from sklearn.metrics import accuracy_score, confusion_matrix, precision_score, recall_score, f1_score, roc_auc_score, auc\n",
    "from sklearn import preprocessing\n",
    "\n",
    "\n",
    "start = dt.datetime.now()\n",
    "\n",
    "y_pred = model.predict(X_test)\n",
    "escore = model.evaluate(X_test, X_test, batch_size=128)\n",
    "\n",
    "# evaluate classification metrics (for multiclass targets)\n",
    "#accuracy = accuracy_score(Y_test.argmax(axis=1), y_pred.argmax(axis=1))\n",
    "#precision = precision_score(Y_test.argmax(axis=1), y_pred.argmax(axis=1), average='weighted')\n",
    "#recall = recall_score(Y_test.argmax(axis=1), y_pred.argmax(axis=1), average='weighted')\n",
    "#f1 = f1_score(Y_test.argmax(axis=1), y_pred.argmax(axis=1), average='weighted')\n",
    "#confusion = confusion_matrix(Y_test.argmax(axis=1), y_pred.argmax(axis=1))\n",
    "\n",
    "\n",
    "\n",
    "# print the results\n",
    "#print(\"Accuracy: {:.3f}\".format(accuracy))\n",
    "#print(\"Precision: {:.3f}\".format(precision))\n",
    "#print(\"Recall: {:.3f}\".format(recall))\n",
    "#print(\"F1-score: {:.3f}\".format(f1))\n",
    "#print(\"Confusion Matrix:\\n\", confusion)\n",
    "\n",
    "print('Completed')\n",
    "print('Time taken:',dt.datetime.now()-start)"
   ]
  }
 ],
 "metadata": {
  "kernelspec": {
   "display_name": "Python 3 (ipykernel)",
   "language": "python",
   "name": "python3"
  },
  "language_info": {
   "codemirror_mode": {
    "name": "ipython",
    "version": 3
   },
   "file_extension": ".py",
   "mimetype": "text/x-python",
   "name": "python",
   "nbconvert_exporter": "python",
   "pygments_lexer": "ipython3",
   "version": "3.9.18"
  }
 },
 "nbformat": 4,
 "nbformat_minor": 5
}
