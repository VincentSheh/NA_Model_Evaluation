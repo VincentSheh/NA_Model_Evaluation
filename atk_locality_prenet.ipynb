{
 "cells": [
  {
   "cell_type": "code",
   "execution_count": 1,
   "metadata": {},
   "outputs": [],
   "source": [
    "\n",
    "# %config IPCompleter.greedy=True\n",
    "import pandas as pd\n",
    "import seaborn as sns\n",
    "import numpy as np\n",
    "import pickle\n",
    "from xgboost import XGBClassifier\n",
    "import random\n",
    "\n",
    "import matplotlib as matplot\n",
    "import matplotlib.pyplot as plt\n",
    "# %matplotlib inline\n",
    "import torch\n",
    "from torch import nn\n",
    "from torch.nn import functional as F\n",
    "from torch.utils.data import DataLoader, TensorDataset\n",
    "from sklearn.model_selection import train_test_split\n",
    "from IPython.core.interactiveshell import InteractiveShell\n",
    "InteractiveShell.ast_node_interactivity = \"all\"\n",
    "\n",
    "import warnings, os \n",
    "# warnings.filterwarnings(\"ignore\")\n",
    "\n",
    "# from keras import Sequential\n",
    "# from keras.models import Model, load_model\n",
    "# from keras.layers import *\n",
    "# from keras.callbacks import ModelCheckpoint\n",
    "# from keras import regularizers\n",
    "from matplotlib import pyplot as plt\n",
    "\n",
    "from sklearn.metrics import *\n",
    "from sklearn.tree import DecisionTreeClassifier\n",
    "from sklearn.ensemble import RandomForestClassifier, ExtraTreesClassifier, VotingClassifier\n",
    "from sklearn.model_selection import train_test_split\n",
    "from sklearn.preprocessing import LabelEncoder\n",
    "\n",
    "from sklearn.feature_selection import RFE\n",
    "from sklearn.decomposition import PCA, TruncatedSVD, PCA\n",
    "from sklearn.svm import LinearSVC\n",
    "\n",
    "import xgboost\n",
    "# from mlxtend.classifier import EnsembleVoteClassifier \n",
    "# import shap\n",
    "import sklearn.neighbors\n",
    "\n",
    "from deepod.models import PReNet\n",
    "from collections import Counter\n",
    "# from modAL.models impor ActiveLearner, Committee\n",
    "from sklearn.preprocessing import StandardScaler, RobustScaler, QuantileTransformer, MinMaxScaler\n",
    "import copy\n",
    "from itertools import combinations, product\n",
    "from sklearn.datasets import make_classification\n",
    "# from alipy import ToolBox\n",
    "# from alipy.utils.misc import nsmallestarg, randperm, nlargestarg"
   ]
  },
  {
   "cell_type": "markdown",
   "metadata": {},
   "source": [
    "### Preprocess Data"
   ]
  },
  {
   "cell_type": "code",
   "execution_count": 2,
   "metadata": {},
   "outputs": [
    {
     "name": "stdout",
     "output_type": "stream",
     "text": [
      "dataset shape (2099976, 91)\n",
      "zero variance columns [] dropped\n",
      "shape after removing zero variance columns: (2099976, 91)\n",
      "5 rows dropped\n",
      "shape after removing nan: (2099971, 91)\n",
      "shape after dropping duplicates: (2099971, 91)\n",
      "columns which have identical values [] dropped\n",
      "shape after removing identical value columns: (2099971, 91)\n",
      "Label\n",
      "BENIGN                     1582561\n",
      "Portscan                     10000\n",
      "DoS Hulk                     10000\n",
      "DDoS                         10000\n",
      "Infiltration - Portscan      10000\n",
      "DoS GoldenEye                 7567\n",
      "FTP-Patator                   3972\n",
      "DoS Slowloris                 3859\n",
      "SSH-Patator                   2961\n",
      "DoS Slowhttptest              1740\n",
      "Name: count, dtype: int64\n"
     ]
    }
   ],
   "source": [
    "# dataset_csv_path = './Dataset/CSECICIDS2018_improved'\n",
    "dataset_csv_path = './Dataset/CICIDS2017_improved'\n",
    "csv_file_names = os.listdir(dataset_csv_path)[:]\n",
    "def clean_df(df):\n",
    "    # Remove the space before each feature names\n",
    "    df.columns = df.columns.str.strip()\n",
    "    print('dataset shape', df.shape)\n",
    "\n",
    "    # This set of feature should have >= 0 values\n",
    "    num = df._get_numeric_data()\n",
    "    num[num < 0] = 0\n",
    "\n",
    "    zero_variance_cols = []\n",
    "    for col in df.columns:\n",
    "        if len(df[col].unique()) == 1:\n",
    "            zero_variance_cols.append(col)\n",
    "    df.drop(zero_variance_cols, axis = 1, inplace = True)\n",
    "    print('zero variance columns', zero_variance_cols, 'dropped')\n",
    "    print('shape after removing zero variance columns:', df.shape)\n",
    "\n",
    "    df.replace([np.inf, -np.inf], np.nan, inplace = True)\n",
    "    print(df.isna().any(axis = 1).sum(), 'rows dropped')\n",
    "    df.dropna(inplace = True)\n",
    "    print('shape after removing nan:', df.shape)\n",
    "\n",
    "    # Drop duplicate rows\n",
    "    df.drop_duplicates(inplace = True)\n",
    "    print('shape after dropping duplicates:', df.shape)\n",
    "\n",
    "    column_pairs = [(i, j) for i, j in combinations(df, 2) if df[i].equals(df[j])]\n",
    "    ide_cols = []\n",
    "    for column_pair in column_pairs:\n",
    "        ide_cols.append(column_pair[1])\n",
    "    df.drop(ide_cols, axis = 1, inplace = True)\n",
    "    print('columns which have identical values', column_pairs, 'dropped')\n",
    "    print('shape after removing identical value columns:', df.shape)\n",
    "    return df\n",
    "def read_csv():\n",
    "    complete_paths = []\n",
    "    for csv_file_name in csv_file_names:\n",
    "        complete_paths.append(os.path.join(dataset_csv_path, csv_file_name))\n",
    "\n",
    "    improved_df = pd.concat(map(pd.read_csv, complete_paths), \n",
    "                            ignore_index = True)\n",
    "    dropping_cols = ['Protocol', 'id', 'Flow ID', 'Src IP', 'Src Port', 'Dst IP', \n",
    "                    'Dst Port', 'Timestamp']    \n",
    "    improved_df = clean_df(improved_df)\n",
    "    improved_df.drop(dropping_cols, axis = 1, inplace = True)\n",
    "    improved_df['Label'].value_counts()    \n",
    "    return improved_df\n",
    "\n",
    "def sample_df(curr_df, anomaly_rate):\n",
    "    num_benign = len(curr_df.loc[curr_df['Label'] == \"BENIGN\"])\n",
    "    num_attack = len(curr_df) - num_benign\n",
    "    ratio = num_attack / num_benign\n",
    "    \n",
    "    if ratio > anomaly_rate:\n",
    "        sample = anomaly_rate * num_benign / num_attack\n",
    "        sampled_df = pd.concat([curr_df[curr_df['Label'] == 'BENIGN'], \n",
    "                                curr_df[curr_df['Label'] != 'BENIGN'].sample(frac=sample, random_state=42)]) \n",
    "    else:\n",
    "        \n",
    "        sample = (1/anomaly_rate) * num_attack / num_benign\n",
    "        sampled_df = pd.concat([curr_df[curr_df['Label'] != 'BENIGN'], \n",
    "                                curr_df[curr_df['Label'] == 'BENIGN'].sample(frac=sample, random_state=42)]) \n",
    "    \n",
    "    new_ratio = sampled_df.loc[sampled_df[\"Label\"] == \"BENIGN\"].shape[0] / sampled_df.loc[sampled_df[\"Label\"] != \"BENIGN\"].shape[0]\n",
    "    \n",
    "    return sampled_df\n",
    "\n",
    "def preprocess_data(df, train_perc=0.15, random_state=42):\n",
    "    # Make a copy of the dataframe\n",
    "    improved_df = df.copy()\n",
    "    \n",
    "    # Clean the labels\n",
    "    #* Remove Attack data labeled as Benign\n",
    "    # attepmted_labels = [s for s in improved_df['Label'].unique() if 'Attempted' in s]\n",
    "    # improved_df.drop(['Attempted Category'], axis=1, inplace=True)\n",
    "    # improved_df.replace(attepmted_labels, 'BENIGN', inplace=True)\n",
    "    #* --\n",
    "\n",
    "    # Sample the anomaly rate\n",
    "    # print(f\"improved_df.shape {improved_df.shape} Before Sampling Out\")\n",
    "    # improved_df = sample_df(improved_df, anomaly_rate)\n",
    "    # print(f\"improved_df.shape {improved_df.shape} after Sampling Out\")\n",
    "    # ratio = improved_df.loc[improved_df[\"Label\"] == \"BENIGN\"].shape[0] / improved_df.loc[improved_df[\"Label\"] != \"BENIGN\"].shape[0]\n",
    "    # print(f\"Ratio of Benign to Anomaly is {ratio:.2f} : 1\")\n",
    "    \n",
    "    # Prepare features and labels\n",
    "    scaler = StandardScaler()\n",
    "    Y = improved_df['Label'].map({\"BENIGN\": 0}).fillna(1)  # Map BENIGN to 0 and others to 1\n",
    "    X = improved_df.drop(columns=[\"Label\"], axis=1)\n",
    "    X_scaled = scaler.fit_transform(X)\n",
    "    X_scaled = pd.DataFrame(X_scaled, columns=X.columns)\n",
    "\n",
    "    # Train-test split\n",
    "    X_train, X_test, y_train, y_test = train_test_split(\n",
    "        X_scaled, \n",
    "        Y, \n",
    "        test_size=1-train_perc, \n",
    "        shuffle=True, \n",
    "        stratify=Y, \n",
    "        random_state=random_state\n",
    "    )\n",
    "    \n",
    "    return X_train, X_test, y_train, y_test\n",
    "\n",
    "def balance_attack(df, atk_list, verbose=0):\n",
    "    atk_list = [\"Portscan\", \"DoS Hulk\", \"DDoS\", \"Infiltration - Portscan\", \"DoS GoldenEye\", \"FTP-Patator\", \"DoS Slowloris\", \"SSH-Patator\", \"DoS Slowhttptest\"]\n",
    "    reduced_cicids_df = pd.DataFrame()\n",
    "    for atk_name in atk_list:\n",
    "        temp_df = df.loc[df[\"Label\"] == atk_name]\n",
    "        temp_df = temp_df.sample(n=min(temp_df.shape[0], 10_000))\n",
    "        reduced_cicids_df = pd.concat([reduced_cicids_df, temp_df], ignore_index=True)\n",
    "    \n",
    "    benign_df = df.loc[df[\"Label\"] == 'BENIGN']\n",
    "    reduced_cicids_df = pd.concat([reduced_cicids_df, benign_df], ignore_index=True)\n",
    "        \n",
    "    if verbose:\n",
    "        print(reduced_cicids_df[\"Label\"].value_counts())\n",
    "    return reduced_cicids_df\n",
    "    \n",
    "    \n",
    "        \n",
    "#* Usage\n",
    "# read_csv() => balance_attack => define_atk / preprocess_data() =>Train()\n",
    "atk_list = [\"Portscan\", \"DoS Hulk\", \"DDoS\", \"Infiltration - Portscan\", \"DoS GoldenEye\", \"FTP-Patator\", \"DoS Slowloris\", \"SSH-Patator\", \"DoS Slowhttptest\"]\n",
    "cicids_df = read_csv()\n",
    "reduced_cicids_df = balance_attack(cicids_df, atk_list, verbose=1)\n",
    "cicids_df = reduced_cicids_df.copy()\n",
    "# X_gm_train, X_gm_test, y_gm_train, y_gm_test = preprocess_data(reduced_cicids_df, train_perc=0.99, anomaly_rate)"
   ]
  },
  {
   "cell_type": "code",
   "execution_count": 3,
   "metadata": {},
   "outputs": [
    {
     "data": {
      "text/plain": [
       "Label\n",
       "BENIGN                     1582561\n",
       "Portscan                     10000\n",
       "DoS Hulk                     10000\n",
       "DDoS                         10000\n",
       "Infiltration - Portscan      10000\n",
       "DoS GoldenEye                 7567\n",
       "FTP-Patator                   3972\n",
       "DoS Slowloris                 3859\n",
       "SSH-Patator                   2961\n",
       "DoS Slowhttptest              1740\n",
       "Name: count, dtype: int64"
      ]
     },
     "execution_count": 3,
     "metadata": {},
     "output_type": "execute_result"
    },
    {
     "data": {
      "text/plain": [
       "Attempted Category\n",
       "0    1642660\n",
       "Name: count, dtype: int64"
      ]
     },
     "execution_count": 3,
     "metadata": {},
     "output_type": "execute_result"
    },
    {
     "data": {
      "text/plain": [
       "Label\n",
       "BENIGN                     1582561\n",
       "Portscan                     10000\n",
       "DoS Hulk                     10000\n",
       "DDoS                         10000\n",
       "Infiltration - Portscan      10000\n",
       "DoS GoldenEye                 7567\n",
       "FTP-Patator                   3972\n",
       "DoS Slowloris                 3859\n",
       "SSH-Patator                   2961\n",
       "DoS Slowhttptest              1740\n",
       "Name: count, dtype: int64"
      ]
     },
     "execution_count": 3,
     "metadata": {},
     "output_type": "execute_result"
    }
   ],
   "source": [
    "cicids_df['Label'].value_counts()\n",
    "cicids_df['Attempted Category'].value_counts()\n",
    "attepmted_labels = [s for s in cicids_df['Label'].unique() if 'Attempted' in s]\n",
    "\n",
    "cicids_df.drop(['Attempted Category'], axis = 1, inplace = True)\n",
    "\n",
    "cicids_df.replace(attepmted_labels, 'BENIGN', inplace = True)\n",
    "cicids_df['Label'].value_counts()"
   ]
  },
  {
   "cell_type": "code",
   "execution_count": 4,
   "metadata": {},
   "outputs": [
    {
     "data": {
      "text/html": [
       "<div>\n",
       "<style scoped>\n",
       "    .dataframe tbody tr th:only-of-type {\n",
       "        vertical-align: middle;\n",
       "    }\n",
       "\n",
       "    .dataframe tbody tr th {\n",
       "        vertical-align: top;\n",
       "    }\n",
       "\n",
       "    .dataframe thead th {\n",
       "        text-align: right;\n",
       "    }\n",
       "</style>\n",
       "<table border=\"1\" class=\"dataframe\">\n",
       "  <thead>\n",
       "    <tr style=\"text-align: right;\">\n",
       "      <th></th>\n",
       "      <th>Flow Duration</th>\n",
       "      <th>Total Fwd Packet</th>\n",
       "      <th>Total Bwd packets</th>\n",
       "      <th>Total Length of Fwd Packet</th>\n",
       "      <th>Total Length of Bwd Packet</th>\n",
       "      <th>Fwd Packet Length Max</th>\n",
       "      <th>Fwd Packet Length Min</th>\n",
       "      <th>Fwd Packet Length Mean</th>\n",
       "      <th>Fwd Packet Length Std</th>\n",
       "      <th>Bwd Packet Length Max</th>\n",
       "      <th>...</th>\n",
       "      <th>Active Max</th>\n",
       "      <th>Active Min</th>\n",
       "      <th>Idle Mean</th>\n",
       "      <th>Idle Std</th>\n",
       "      <th>Idle Max</th>\n",
       "      <th>Idle Min</th>\n",
       "      <th>ICMP Code</th>\n",
       "      <th>ICMP Type</th>\n",
       "      <th>Total TCP Flow Time</th>\n",
       "      <th>Label</th>\n",
       "    </tr>\n",
       "  </thead>\n",
       "  <tbody>\n",
       "    <tr>\n",
       "      <th>0</th>\n",
       "      <td>99039</td>\n",
       "      <td>5</td>\n",
       "      <td>5</td>\n",
       "      <td>236</td>\n",
       "      <td>145</td>\n",
       "      <td>236</td>\n",
       "      <td>0</td>\n",
       "      <td>47.200000</td>\n",
       "      <td>105.542409</td>\n",
       "      <td>92</td>\n",
       "      <td>...</td>\n",
       "      <td>0</td>\n",
       "      <td>0</td>\n",
       "      <td>0.000000e+00</td>\n",
       "      <td>0.000000e+00</td>\n",
       "      <td>0</td>\n",
       "      <td>0</td>\n",
       "      <td>0</td>\n",
       "      <td>0</td>\n",
       "      <td>99039</td>\n",
       "      <td>BENIGN</td>\n",
       "    </tr>\n",
       "    <tr>\n",
       "      <th>1</th>\n",
       "      <td>5451085</td>\n",
       "      <td>9</td>\n",
       "      <td>8</td>\n",
       "      <td>348</td>\n",
       "      <td>4555</td>\n",
       "      <td>191</td>\n",
       "      <td>0</td>\n",
       "      <td>38.666667</td>\n",
       "      <td>70.588597</td>\n",
       "      <td>1460</td>\n",
       "      <td>...</td>\n",
       "      <td>0</td>\n",
       "      <td>0</td>\n",
       "      <td>0.000000e+00</td>\n",
       "      <td>0.000000e+00</td>\n",
       "      <td>0</td>\n",
       "      <td>0</td>\n",
       "      <td>0</td>\n",
       "      <td>0</td>\n",
       "      <td>5451085</td>\n",
       "      <td>BENIGN</td>\n",
       "    </tr>\n",
       "    <tr>\n",
       "      <th>2</th>\n",
       "      <td>496</td>\n",
       "      <td>1</td>\n",
       "      <td>1</td>\n",
       "      <td>88</td>\n",
       "      <td>166</td>\n",
       "      <td>88</td>\n",
       "      <td>88</td>\n",
       "      <td>88.000000</td>\n",
       "      <td>0.000000</td>\n",
       "      <td>166</td>\n",
       "      <td>...</td>\n",
       "      <td>0</td>\n",
       "      <td>0</td>\n",
       "      <td>0.000000e+00</td>\n",
       "      <td>0.000000e+00</td>\n",
       "      <td>0</td>\n",
       "      <td>0</td>\n",
       "      <td>0</td>\n",
       "      <td>0</td>\n",
       "      <td>0</td>\n",
       "      <td>BENIGN</td>\n",
       "    </tr>\n",
       "    <tr>\n",
       "      <th>3</th>\n",
       "      <td>117038578</td>\n",
       "      <td>25</td>\n",
       "      <td>24</td>\n",
       "      <td>1373</td>\n",
       "      <td>16681</td>\n",
       "      <td>357</td>\n",
       "      <td>0</td>\n",
       "      <td>54.920000</td>\n",
       "      <td>127.347595</td>\n",
       "      <td>2920</td>\n",
       "      <td>...</td>\n",
       "      <td>1727844</td>\n",
       "      <td>23525</td>\n",
       "      <td>9.584851e+06</td>\n",
       "      <td>1.421694e+06</td>\n",
       "      <td>10001963</td>\n",
       "      <td>5070683</td>\n",
       "      <td>0</td>\n",
       "      <td>0</td>\n",
       "      <td>117038578</td>\n",
       "      <td>BENIGN</td>\n",
       "    </tr>\n",
       "    <tr>\n",
       "      <th>4</th>\n",
       "      <td>5215818</td>\n",
       "      <td>6</td>\n",
       "      <td>3</td>\n",
       "      <td>123</td>\n",
       "      <td>46</td>\n",
       "      <td>46</td>\n",
       "      <td>0</td>\n",
       "      <td>20.500000</td>\n",
       "      <td>23.114930</td>\n",
       "      <td>46</td>\n",
       "      <td>...</td>\n",
       "      <td>0</td>\n",
       "      <td>0</td>\n",
       "      <td>0.000000e+00</td>\n",
       "      <td>0.000000e+00</td>\n",
       "      <td>0</td>\n",
       "      <td>0</td>\n",
       "      <td>0</td>\n",
       "      <td>0</td>\n",
       "      <td>180892068</td>\n",
       "      <td>BENIGN</td>\n",
       "    </tr>\n",
       "    <tr>\n",
       "      <th>...</th>\n",
       "      <td>...</td>\n",
       "      <td>...</td>\n",
       "      <td>...</td>\n",
       "      <td>...</td>\n",
       "      <td>...</td>\n",
       "      <td>...</td>\n",
       "      <td>...</td>\n",
       "      <td>...</td>\n",
       "      <td>...</td>\n",
       "      <td>...</td>\n",
       "      <td>...</td>\n",
       "      <td>...</td>\n",
       "      <td>...</td>\n",
       "      <td>...</td>\n",
       "      <td>...</td>\n",
       "      <td>...</td>\n",
       "      <td>...</td>\n",
       "      <td>...</td>\n",
       "      <td>...</td>\n",
       "      <td>...</td>\n",
       "      <td>...</td>\n",
       "    </tr>\n",
       "    <tr>\n",
       "      <th>1582556</th>\n",
       "      <td>344348</td>\n",
       "      <td>7</td>\n",
       "      <td>7</td>\n",
       "      <td>334</td>\n",
       "      <td>3776</td>\n",
       "      <td>208</td>\n",
       "      <td>0</td>\n",
       "      <td>47.714286</td>\n",
       "      <td>84.856181</td>\n",
       "      <td>1460</td>\n",
       "      <td>...</td>\n",
       "      <td>0</td>\n",
       "      <td>0</td>\n",
       "      <td>0.000000e+00</td>\n",
       "      <td>0.000000e+00</td>\n",
       "      <td>0</td>\n",
       "      <td>0</td>\n",
       "      <td>0</td>\n",
       "      <td>0</td>\n",
       "      <td>344348</td>\n",
       "      <td>BENIGN</td>\n",
       "    </tr>\n",
       "    <tr>\n",
       "      <th>1582557</th>\n",
       "      <td>5719249</td>\n",
       "      <td>4</td>\n",
       "      <td>2</td>\n",
       "      <td>0</td>\n",
       "      <td>0</td>\n",
       "      <td>0</td>\n",
       "      <td>0</td>\n",
       "      <td>0.000000</td>\n",
       "      <td>0.000000</td>\n",
       "      <td>0</td>\n",
       "      <td>...</td>\n",
       "      <td>15194</td>\n",
       "      <td>15194</td>\n",
       "      <td>5.688948e+06</td>\n",
       "      <td>0.000000e+00</td>\n",
       "      <td>5688948</td>\n",
       "      <td>5688948</td>\n",
       "      <td>0</td>\n",
       "      <td>0</td>\n",
       "      <td>5719249</td>\n",
       "      <td>BENIGN</td>\n",
       "    </tr>\n",
       "    <tr>\n",
       "      <th>1582558</th>\n",
       "      <td>115247409</td>\n",
       "      <td>22</td>\n",
       "      <td>22</td>\n",
       "      <td>5229</td>\n",
       "      <td>3337</td>\n",
       "      <td>2920</td>\n",
       "      <td>0</td>\n",
       "      <td>237.681818</td>\n",
       "      <td>700.805481</td>\n",
       "      <td>1400</td>\n",
       "      <td>...</td>\n",
       "      <td>335980</td>\n",
       "      <td>34363</td>\n",
       "      <td>9.989246e+06</td>\n",
       "      <td>4.016369e+04</td>\n",
       "      <td>10011899</td>\n",
       "      <td>9869386</td>\n",
       "      <td>0</td>\n",
       "      <td>0</td>\n",
       "      <td>115247409</td>\n",
       "      <td>BENIGN</td>\n",
       "    </tr>\n",
       "    <tr>\n",
       "      <th>1582559</th>\n",
       "      <td>61002</td>\n",
       "      <td>4</td>\n",
       "      <td>2</td>\n",
       "      <td>140</td>\n",
       "      <td>146</td>\n",
       "      <td>35</td>\n",
       "      <td>35</td>\n",
       "      <td>35.000000</td>\n",
       "      <td>0.000000</td>\n",
       "      <td>73</td>\n",
       "      <td>...</td>\n",
       "      <td>0</td>\n",
       "      <td>0</td>\n",
       "      <td>0.000000e+00</td>\n",
       "      <td>0.000000e+00</td>\n",
       "      <td>0</td>\n",
       "      <td>0</td>\n",
       "      <td>0</td>\n",
       "      <td>0</td>\n",
       "      <td>0</td>\n",
       "      <td>BENIGN</td>\n",
       "    </tr>\n",
       "    <tr>\n",
       "      <th>1582560</th>\n",
       "      <td>99802</td>\n",
       "      <td>9</td>\n",
       "      <td>10</td>\n",
       "      <td>527</td>\n",
       "      <td>5608</td>\n",
       "      <td>192</td>\n",
       "      <td>0</td>\n",
       "      <td>58.555556</td>\n",
       "      <td>79.503319</td>\n",
       "      <td>2323</td>\n",
       "      <td>...</td>\n",
       "      <td>0</td>\n",
       "      <td>0</td>\n",
       "      <td>0.000000e+00</td>\n",
       "      <td>0.000000e+00</td>\n",
       "      <td>0</td>\n",
       "      <td>0</td>\n",
       "      <td>0</td>\n",
       "      <td>0</td>\n",
       "      <td>99802</td>\n",
       "      <td>BENIGN</td>\n",
       "    </tr>\n",
       "  </tbody>\n",
       "</table>\n",
       "<p>1582561 rows × 82 columns</p>\n",
       "</div>"
      ],
      "text/plain": [
       "         Flow Duration  Total Fwd Packet  Total Bwd packets  \\\n",
       "0                99039                 5                  5   \n",
       "1              5451085                 9                  8   \n",
       "2                  496                 1                  1   \n",
       "3            117038578                25                 24   \n",
       "4              5215818                 6                  3   \n",
       "...                ...               ...                ...   \n",
       "1582556         344348                 7                  7   \n",
       "1582557        5719249                 4                  2   \n",
       "1582558      115247409                22                 22   \n",
       "1582559          61002                 4                  2   \n",
       "1582560          99802                 9                 10   \n",
       "\n",
       "         Total Length of Fwd Packet  Total Length of Bwd Packet  \\\n",
       "0                               236                         145   \n",
       "1                               348                        4555   \n",
       "2                                88                         166   \n",
       "3                              1373                       16681   \n",
       "4                               123                          46   \n",
       "...                             ...                         ...   \n",
       "1582556                         334                        3776   \n",
       "1582557                           0                           0   \n",
       "1582558                        5229                        3337   \n",
       "1582559                         140                         146   \n",
       "1582560                         527                        5608   \n",
       "\n",
       "         Fwd Packet Length Max  Fwd Packet Length Min  Fwd Packet Length Mean  \\\n",
       "0                          236                      0               47.200000   \n",
       "1                          191                      0               38.666667   \n",
       "2                           88                     88               88.000000   \n",
       "3                          357                      0               54.920000   \n",
       "4                           46                      0               20.500000   \n",
       "...                        ...                    ...                     ...   \n",
       "1582556                    208                      0               47.714286   \n",
       "1582557                      0                      0                0.000000   \n",
       "1582558                   2920                      0              237.681818   \n",
       "1582559                     35                     35               35.000000   \n",
       "1582560                    192                      0               58.555556   \n",
       "\n",
       "         Fwd Packet Length Std  Bwd Packet Length Max  ...  Active Max  \\\n",
       "0                   105.542409                     92  ...           0   \n",
       "1                    70.588597                   1460  ...           0   \n",
       "2                     0.000000                    166  ...           0   \n",
       "3                   127.347595                   2920  ...     1727844   \n",
       "4                    23.114930                     46  ...           0   \n",
       "...                        ...                    ...  ...         ...   \n",
       "1582556              84.856181                   1460  ...           0   \n",
       "1582557               0.000000                      0  ...       15194   \n",
       "1582558             700.805481                   1400  ...      335980   \n",
       "1582559               0.000000                     73  ...           0   \n",
       "1582560              79.503319                   2323  ...           0   \n",
       "\n",
       "         Active Min     Idle Mean      Idle Std  Idle Max  Idle Min  \\\n",
       "0                 0  0.000000e+00  0.000000e+00         0         0   \n",
       "1                 0  0.000000e+00  0.000000e+00         0         0   \n",
       "2                 0  0.000000e+00  0.000000e+00         0         0   \n",
       "3             23525  9.584851e+06  1.421694e+06  10001963   5070683   \n",
       "4                 0  0.000000e+00  0.000000e+00         0         0   \n",
       "...             ...           ...           ...       ...       ...   \n",
       "1582556           0  0.000000e+00  0.000000e+00         0         0   \n",
       "1582557       15194  5.688948e+06  0.000000e+00   5688948   5688948   \n",
       "1582558       34363  9.989246e+06  4.016369e+04  10011899   9869386   \n",
       "1582559           0  0.000000e+00  0.000000e+00         0         0   \n",
       "1582560           0  0.000000e+00  0.000000e+00         0         0   \n",
       "\n",
       "         ICMP Code  ICMP Type  Total TCP Flow Time   Label  \n",
       "0                0          0                99039  BENIGN  \n",
       "1                0          0              5451085  BENIGN  \n",
       "2                0          0                    0  BENIGN  \n",
       "3                0          0            117038578  BENIGN  \n",
       "4                0          0            180892068  BENIGN  \n",
       "...            ...        ...                  ...     ...  \n",
       "1582556          0          0               344348  BENIGN  \n",
       "1582557          0          0              5719249  BENIGN  \n",
       "1582558          0          0            115247409  BENIGN  \n",
       "1582559          0          0                    0  BENIGN  \n",
       "1582560          0          0                99802  BENIGN  \n",
       "\n",
       "[1582561 rows x 82 columns]"
      ]
     },
     "execution_count": 4,
     "metadata": {},
     "output_type": "execute_result"
    }
   ],
   "source": [
    "# Shuffle the Benign Data\n",
    "benign_df = cicids_df.loc[cicids_df[\"Label\"] == \"BENIGN\"]\n",
    "benign_df = benign_df.sample(frac=1).reset_index(drop=True)\n",
    "benign_df"
   ]
  },
  {
   "cell_type": "markdown",
   "metadata": {},
   "source": [
    "### Defining Global and Local Model"
   ]
  },
  {
   "cell_type": "code",
   "execution_count": 5,
   "metadata": {},
   "outputs": [],
   "source": [
    "def set_supervised_label(supervision_rate, y, idx):\n",
    "        if supervision_rate == 0:\n",
    "            y[idx[:2]] = 1\n",
    "        else:\n",
    "            idx = np.random.choice(idx, size=int(supervision_rate * len(idx)), replace=False)\n",
    "            y[idx] = 1\n",
    "        return y\n",
    "      \n",
    "def get_optimal_threshold(precision, recall, thresholds):\n",
    "    with np.errstate(divide='ignore', invalid='ignore'):\n",
    "        f1_scores = 2 * (precision * recall) / (precision + recall)\n",
    "        f1_scores[np.isnan(f1_scores)] = 0  # Replace NaN values with 0    \n",
    "    optimal_idx = np.argmax(f1_scores)\n",
    "    optimal_threshold = thresholds[optimal_idx]\n",
    "    return optimal_threshold  \n",
    "      \n",
    "class Global_Model():\n",
    "  def __init__(self, supervision=1.0, initial_data=None):\n",
    "      self.initial_data = initial_data.copy() if initial_data else None #Initially Empty\n",
    "      self.gm_data = None\n",
    "      self.supervision = supervision\n",
    "      self.knowledge_pool = []\n",
    "    #   self.gm_retrain(supervision=1.0)\n",
    "\n",
    "\n",
    "  def gm_retrain(self, new_gm_data=None, share_knowledge=False):\n",
    "      if new_gm_data is None:\n",
    "          training_data = self.initial_data\n",
    "      else:\n",
    "          # Combine new data with existing GM data\n",
    "          self.gm_data = pd.concat([self.gm_data, new_gm_data], ignore_index=True)\n",
    "          training_data = pd.concat([self.initial_data, self.gm_data], ignore_index=False)\n",
    "      \n",
    "      print(\"GM Training Data Size\", training_data.shape)\n",
    "      label = training_data[\"Label\"]\n",
    "      training_data = training_data.drop(columns=[\"Label\"])\n",
    "      # Train-test split\n",
    "      X_train, X_test, y_train, y_test = train_test_split(\n",
    "          training_data, label, shuffle=True, test_size=0.2, random_state=4022\n",
    "      )\n",
    "      # Prepare labels for semi-supervised learning\n",
    "      idx = np.where(y_train == 1)[0]\n",
    "      y_train = np.zeros_like(y_train)  # Initialize with zeros\n",
    "      y_train = set_supervised_label(self.supervision, y_train, idx)\n",
    "\n",
    "      # Train the model\n",
    "      model = PReNet\n",
    "      self.clf = model(device=\"cuda\", verbose=1, epochs=1, batch_size=64)\n",
    "      self.clf.fit(X_train.to_numpy(), y=y_train)\n",
    "      \n",
    "      # Calculate optimal threshold\n",
    "      anomaly_scores = self.clf.decision_function(X_test.to_numpy())\n",
    "      precision, recall, thresholds = precision_recall_curve(y_test, anomaly_scores)\n",
    "      opt_threshold = get_optimal_threshold(precision, recall, thresholds)\n",
    "      self.opt_threshold = opt_threshold      \n",
    "\n",
    "      # Perform inference to evaluate the model\n",
    "      output, anomaly_scores = self.perform_inference(X_test, y_test)\n",
    "      if share_knowledge:\n",
    "        self.share_knowledge(new_gm_data)\n",
    "    # return clf, model\n",
    "              \n",
    "  def perform_inference(self, X, y_real=None):  \n",
    "      anomaly_scores = self.clf.decision_function(X.to_numpy())\n",
    "      output = np.where(anomaly_scores > self.opt_threshold, 1,0)\n",
    "      \n",
    "      if y_real is not None:\n",
    "          print(\"Accuracy of GM: \", accuracy_score(output, y_real))\n",
    "      return output, anomaly_scores\n",
    "  def share_knowledge(self, X_new):\n",
    "    # X_new[\"Label\"] = y_new\n",
    "    for neigh_area in self.knowledge_pool:\n",
    "        neigh_model = neigh_area.model\n",
    "        neigh_model.gm_retrain(X_new, share_knowledge=False)\n",
    "        # neigh_model.gm_data = pd.concat([neigh_model.lm_data, X_new.copy()], ignore_index=True)\n",
    "        # neigh_model.model.fit(neigh_model.lm_data.drop(columns=[\"Label\"]), neigh_model.lm_data[\"Label\"])  "
   ]
  },
  {
   "cell_type": "code",
   "execution_count": 6,
   "metadata": {},
   "outputs": [],
   "source": [
    "class Local_Model():\n",
    "    def __init__(self, gm):\n",
    "        self.model = XGBClassifier(objective='binary:logistic', verbosity=0)\n",
    "        # self.model = DecisionTreeClassifier(criterion='entropy', max_depth=5,  \n",
    "        #                                     min_samples_leaf=10, \n",
    "        #                                     # ccp_alpha=0.01, #Pruning coef\n",
    "        #                                     random_state=4022)\n",
    "        self.global_model = gm \n",
    "        self.lm_data = pd.DataFrame()\n",
    "        self.knowledge_pool = []\n",
    "                \n",
    "    def retrain_model(self, new_lm_data, threshold = 0.2, update_gm = False): #Select Most Important Data and Upload Newly Recorded Data\n",
    "        # TODO: Use AL to Select Prerecorded Data\n",
    "        # known_df = self.load_known_df()\n",
    "        # filtered_new_data, informative_score_list, updated_model = self.select_data(known_df, X_new, threshold, y_new)\n",
    "        # labeled_new_data = self.upload_gm(filtered_new_data)\n",
    "        \n",
    "        # if update_gm:\n",
    "        #     filtered_new_data[\"Label\"] = 0\n",
    "        #     self.global_model.update_data(filtered_new_data)\n",
    "        # # TODO: After updating return the labels or recall the function\n",
    "        # else:\n",
    "        \n",
    "        y_real = new_lm_data[\"Label\"].copy()\n",
    "        X_new = new_lm_data.drop(columns=[\"Label\"]).copy()\n",
    "        X_train, X_test, y_train, y_test = train_test_split(\n",
    "            X_new, y_real, shuffle=True, test_size=0.2, random_state=4022\n",
    "        )\n",
    "\n",
    "        # Use the global model to inquire labels for X_train\n",
    "        y_new = self.inquire_gm(X_train, y_train)\n",
    "\n",
    "        # Combine X_train and the inferred labels into a DataFrame\n",
    "        new_training_data = X_train.copy()\n",
    "        new_training_data[\"Label\"] = y_new\n",
    "\n",
    "        # Append new training data to the local model's data\n",
    "        self.lm_data = pd.concat([self.lm_data, new_training_data], ignore_index=True)\n",
    "\n",
    "        # Retrain the local model using the updated data\n",
    "        self.model.fit(self.lm_data.drop(columns=[\"Label\"]), self.lm_data[\"Label\"])\n",
    "\n",
    "        # Evaluate the updated model (optional, based on your implementation)\n",
    "        y_pred = self.model.predict(X_test)\n",
    "        acc = accuracy_score(y_pred, y_test)\n",
    "        self.share_knowledge(X_train, y_new)\n",
    "\n",
    "        return acc\n",
    "    \n",
    "\n",
    "        \n",
    "        \n",
    "    def inquire_gm(self, X_query, y_real=None): \n",
    "        # X_query_scaled = self.scaler.transform(X_query)\n",
    "        pseudo_label, _ = self.global_model.perform_inference(X_query, y_real)\n",
    "        X_query_df = pd.DataFrame(X_query)\n",
    "        # X_query_df[\"Label\"] = pseudo_label\n",
    "        return pseudo_label\n",
    "    \n",
    "    def perform_inference(self, X):\n",
    "        output = self.model.predict(X) \n",
    "        return output    \n",
    "    "
   ]
  },
  {
   "cell_type": "markdown",
   "metadata": {},
   "source": [
    "### Defining Area"
   ]
  },
  {
   "cell_type": "code",
   "execution_count": 19,
   "metadata": {},
   "outputs": [],
   "source": [
    "class Attack:\n",
    "    def __init__(self, name, centroid, std_dev, data):\n",
    "        self.name = name\n",
    "        self.centroid = centroid\n",
    "        self.std_dev = std_dev\n",
    "        self.data, self.test_data = train_test_split(data, train_size=0.8, random_state=42)\n",
    "        self.active = False\n",
    "        self.rr_counter = 0  # Round Robin Counter\n",
    "        self.first_seen = random.uniform(0,30)\n",
    "\n",
    "    def get_data(self):\n",
    "        chunk_size = self.data.shape[0] // 20  # Divide into 10 chunks\n",
    "        start_idx = self.rr_counter * chunk_size\n",
    "        end_idx = start_idx + chunk_size\n",
    "        if self.rr_counter == 9:\n",
    "            end_idx = self.data.shape[0]  # Include all remaining rows\n",
    "        self.rr_counter = (self.rr_counter + 1) % 20\n",
    "        return self.data.iloc[start_idx:end_idx]\n",
    "        \n",
    "\n",
    "def define_edge_area(num_edge_area, gm=None, random_state=42, global_sharing=False):\n",
    "    random.seed(random_state)\n",
    "    area_list = [Edge_Area((random.uniform(0, 1), random.uniform(0, 1)), Global_Model()) for _ in range(num_edge_area)]\n",
    "    model = Global_Model()\n",
    "    for edge_area in area_list:\n",
    "        centroid = edge_area.centroid\n",
    "        distances = [\n",
    "            np.sqrt((other_area.centroid[0] - centroid[0])**2 + (other_area.centroid[1] - centroid[1])**2)\n",
    "            for other_area in area_list\n",
    "        ]\n",
    "        # Get the indices of the two smallest distances, excluding itself\n",
    "        closest_indices = np.argsort(distances)[1:3]  # Skip the first (distance to itself)\n",
    "        if gm is not None:\n",
    "            # edge_area.model.knowledge_pool = [area_list[i] for i in closest_indices] #?Cluster KS\n",
    "            edge_area.model.knowledge_pool = [] #? No KS\n",
    "            #* Global Knowledge Sharing\n",
    "            if global_sharing:\n",
    "                # local_model = Local_Model(gm) \n",
    "                # edge_area.local_model.knowledge_pool = []\n",
    "                edge_area.model = model\n",
    "    return area_list\n",
    "\n",
    "def define_atk(atk_list, edge_area_list, cicids_df, benign_df, random_state=42):\n",
    "    random.seed(random_state)\n",
    "    atk_info_dict = {}\n",
    "    anomaly_ratio = 25\n",
    "    benign_idx = 0\n",
    "    for idx, atk in enumerate(atk_list):\n",
    "        # Cycle through edge areas\n",
    "        edge_area = edge_area_list[idx % len(edge_area_list)]\n",
    "\n",
    "        # Define standard deviations\n",
    "        std_dev = (random.uniform(0.2, 0.4), random.uniform(0.2, 0.4))\n",
    "\n",
    "        # Offset the attack centroid relative to the edge area centroid\n",
    "        atk_centroid = (\n",
    "            edge_area.centroid[0] + random.uniform(-std_dev[0], std_dev[0]) / 3,\n",
    "            edge_area.centroid[1] + random.uniform(-std_dev[1], std_dev[1]) / 3\n",
    "        )\n",
    "\n",
    "        # Filter attack-specific data\n",
    "        atk_data = cicids_df.loc[cicids_df[\"Label\"] == atk]\n",
    "\n",
    "        # Get corresponding benign data based on anomaly ratio\n",
    "        benign_count = atk_data.shape[0] * anomaly_ratio\n",
    "        benign_data = benign_df.iloc[benign_idx: benign_idx + benign_count]\n",
    "        benign_idx += benign_count\n",
    "\n",
    "        # Ensure benign_idx doesn't exceed benign_df bounds\n",
    "        if benign_idx > len(benign_df):\n",
    "            benign_idx = len(benign_df)  # Prevent index out of bounds\n",
    "            print(\"Index Out of Bounds\", atk)\n",
    "\n",
    "        # Concatenate benign and attack data\n",
    "        data = pd.concat([benign_data, atk_data], ignore_index=True)\n",
    "        data = data.sample(frac=1).reset_index(drop=True)\n",
    "        # data[\"Label\"] = data[\"Label\"].map({\"BENIGN\": 0}).fillna(1)\n",
    "\n",
    "        # Create and store an Attack object\n",
    "        atk_info_dict[atk] = Attack(atk, atk_centroid, std_dev, data)\n",
    "\n",
    "    return atk_info_dict\n",
    "\n",
    "\n",
    "class Edge_Area:\n",
    "    def __init__(self, centroid, gm=None):\n",
    "        self.centroid = centroid\n",
    "        self.seen_attack_acc = dict() # Values as List of (t, acc)\n",
    "        if gm != None:\n",
    "            self.model = gm\n",
    "    def create_knowledge_sharing_pool(self):\n",
    "        # TODO: Get the closest based on euclidean distance\n",
    "        self.sharing_pool = None\n",
    "\n"
   ]
  },
  {
   "cell_type": "code",
   "execution_count": 8,
   "metadata": {},
   "outputs": [
    {
     "data": {
      "image/png": "[encoded data removed]",
      "text/plain": [
       "<Figure size 500x500 with 1 Axes>"
      ]
     },
     "metadata": {},
     "output_type": "display_data"
    }
   ],
   "source": [
    "from matplotlib.patches import Ellipse\n",
    "\n",
    "# Function to visualize edge areas and attack coordinates with standard deviation as ellipses\n",
    "def visualize_edge_area_and_attacks_with_ellipses(edge_area_list, atk_info_list):\n",
    "    plt.figure(figsize=(5, 5))\n",
    "    \n",
    "    # Plot edge area centroids\n",
    "    for edge_area in edge_area_list:\n",
    "        plt.scatter(edge_area.centroid[0], edge_area.centroid[1], c='blue', label='Edge Area Centroid', s=100)\n",
    "        plt.text(edge_area.centroid[0] + 0.02, edge_area.centroid[1] + 0.02, edge_area, fontsize=5)\n",
    "    \n",
    "    # Plot attack centroids with standard deviation\n",
    "    for attack in atk_info_list:\n",
    "        plt.scatter(attack.centroid[0], attack.centroid[1], c='red', label='Attack Centroid', s=50)\n",
    "        plt.text(attack.centroid[0] + 0.02, attack.centroid[1] + 0.02, attack.name, fontsize=5)\n",
    "        \n",
    "        # Plot standard deviation as an ellipse around the centroid\n",
    "        std_x, std_y = attack.std_dev\n",
    "        ellipse = Ellipse(\n",
    "            xy=attack.centroid,\n",
    "            width=2 * std_x,  # Full width of the ellipse\n",
    "            height=2 * std_y,  # Full height of the ellipse\n",
    "            edgecolor='red',\n",
    "            facecolor='red',\n",
    "            alpha=0.2\n",
    "        )\n",
    "        plt.gca().add_patch(ellipse)\n",
    "    \n",
    "    # Remove duplicate labels in legend\n",
    "    handles, labels = plt.gca().get_legend_handles_labels()\n",
    "    by_label = dict(zip(labels, handles))\n",
    "    plt.legend(by_label.values(), by_label.keys(), loc=\"upper right\")\n",
    "\n",
    "    plt.title(\"Edge Area and Attack Coordinates with Standard Deviation (Ellipses)\")\n",
    "    plt.xlabel(\"X Coordinate\")\n",
    "    plt.ylabel(\"Y Coordinate\")\n",
    "    plt.grid(True)\n",
    "    plt.xlim(0, 1)\n",
    "    plt.ylim(0, 1)\n",
    "    plt.show()\n",
    "    \n",
    "\n",
    "num_edge_areas = 5\n",
    "seed = 4028\n",
    "edge_area_list = define_edge_area(num_edge_areas, random_state=seed)\n",
    "\n",
    "atk_list = [\"Portscan\", \"DoS Hulk\", \"DDoS\", \"Infiltration - Portscan\", \"DoS GoldenEye\", \"FTP-Patator\", \"DoS Slowloris\", \"SSH-Patator\", \"DoS Slowhttptest\"]\n",
    "atk_info_dict = define_atk(atk_list, edge_area_list, cicids_df, benign_df, random_state=seed)\n",
    "visualize_edge_area_and_attacks_with_ellipses(edge_area_list, atk_info_dict.values())\n"
   ]
  },
  {
   "cell_type": "markdown",
   "metadata": {},
   "source": [
    "# Bivariate Normal Distribution"
   ]
  },
  {
   "attachments": {
    "image.png": {
     "image/png": "[encoded data removed]"
    }
   },
   "cell_type": "markdown",
   "metadata": {},
   "source": [
    "![image.png](attachment:image.png)"
   ]
  },
  {
   "cell_type": "code",
   "execution_count": 9,
   "metadata": {},
   "outputs": [
    {
     "name": "stdout",
     "output_type": "stream",
     "text": [
      "Probability of attack occurring in the edge area: 0.2278\n"
     ]
    }
   ],
   "source": [
    "from scipy.stats import norm\n",
    "\n",
    "def probability_in_2d_edge_area(mu_x, sigma_x, mu_y, sigma_y, area_centroid_x, area_centroid_y):\n",
    "    (a_x, b_x) = (area_centroid_x-0.1, area_centroid_x+0.1)\n",
    "    (a_y, b_y) = (area_centroid_y-0.1, area_centroid_y+0.1)\n",
    "\n",
    "    # Probability in x-dimension\n",
    "    p_x = norm.cdf(b_x, loc=mu_x, scale=sigma_x) - norm.cdf(a_x, loc=mu_x, scale=sigma_x)\n",
    "    # Probability in y-dimension\n",
    "    p_y = norm.cdf(b_y, loc=mu_y, scale=sigma_y) - norm.cdf(a_y, loc=mu_y, scale=sigma_y)\n",
    "\n",
    "    # Total probability in the 2D region\n",
    "    return p_x * p_y\n",
    "\n",
    "# Example usage\n",
    "mu_x, sigma_x = 0.5, 0.1  # Mean and std deviation for x\n",
    "mu_y, sigma_y = 0.5, 0.1  # Mean and std deviation for y\n",
    "area_centroid_x, area_centroid_y = (0.4, 0.4)  # Edge area bounds for x and y\n",
    "\n",
    "probability = probability_in_2d_edge_area(mu_x, sigma_x, mu_y, sigma_y, area_centroid_x, area_centroid_y)\n",
    "print(f\"Probability of attack occurring in the edge area: {probability:.4f}\")\n"
   ]
  },
  {
   "cell_type": "code",
   "execution_count": null,
   "metadata": {},
   "outputs": [],
   "source": []
  },
  {
   "cell_type": "markdown",
   "metadata": {},
   "source": [
    "### Initial Training of Local and Global Model"
   ]
  },
  {
   "cell_type": "markdown",
   "metadata": {},
   "source": [
    "Global Model = 3 Atk, \n",
    "Local Model = None"
   ]
  },
  {
   "cell_type": "code",
   "execution_count": 26,
   "metadata": {},
   "outputs": [
    {
     "name": "stdout",
     "output_type": "stream",
     "text": [
      "Ratio of Benign to Anomaly is 26.332567929582854 : 1\n"
     ]
    }
   ],
   "source": [
    "# #### Sample out Malicious data such that it would become an outlier\n",
    "# print(f'improved_df.shape {cicids_df.shape} Before Sampling Out')\n",
    "# cicids_df = pd.concat([cicids_df[cicids_df['Label'] == 'BENIGN'], cicids_df[cicids_df['Label'] != 'BENIGN'].sample(frac=0.3, random_state=42)]) \n",
    "# print(f'improved_df.shape {cicids_df.shape} after Sampling Out')\n",
    "ratio = cicids_df.loc[cicids_df[\"Label\"] == \"BENIGN\"].shape[0]/ cicids_df.loc[cicids_df[\"Label\"] != \"BENIGN\"].shape[0]\n",
    "print(f'Ratio of Benign to Anomaly is {ratio} : 1')"
   ]
  },
  {
   "cell_type": "code",
   "execution_count": 27,
   "metadata": {},
   "outputs": [],
   "source": [
    "num_edge_areas = 5\n",
    "edge_area_list = define_edge_area(num_edge_areas)\n",
    "\n",
    "# atk_list = [\"Portscan\", \"DoS Hulk\", \"DDoS\", \"DoS DoS Hulk\", \"Infiltration - Portscan\"]\n",
    "atk_list = [\"Portscan\", \"DoS Hulk\", \"DDoS\", \"Infiltration - Portscan\", \"DoS GoldenEye\", \"FTP-Patator\", \"DoS Slowloris\", \"SSH-Patator\", \"DoS Slowhttptest\"]\n",
    "atk_info_dict = define_atk(atk_list, edge_area_list, cicids_df, benign_df)\n",
    "#TODO: Randomly choose 3 attacks from the list, set the first_seen_t = 0, train the global model using this 3 attacks"
   ]
  },
  {
   "cell_type": "code",
   "execution_count": 28,
   "metadata": {},
   "outputs": [],
   "source": [
    "# X_gm_train, X_gm_test, y_gm_train, y_gm_test = train_test_split(\n",
    "#     gm_training_data.drop(columns=[\"Label\"]), gm_training_data[\"Label\"], shuffle=True, test_size=0.2, random_state=4022\n",
    "# )\n",
    "# X_gm_train, X_gm_test, y_gm_train, y_gm_test = train_test_split(\n",
    "#     cicids_df_scaled.drop(columns=[\"Label\"]), cicids_df_scaled[\"Label\"].map({\"BENIGN\": 0}).fillna(1), shuffle=True, test_size=0.2, random_state=4022\n",
    "# )\n",
    "# X_gm_train, X_gm_test, y_gm_train, y_gm_test = preprocess_data(cicids_df)\n",
    "# X_gm_train, X_gm_test, y_gm_train, y_gm_test = preprocess_data(gm_training_data, train_perc=0.99)"
   ]
  },
  {
   "cell_type": "markdown",
   "metadata": {},
   "source": [
    "### Start Simulation"
   ]
  },
  {
   "cell_type": "markdown",
   "metadata": {},
   "source": [
    "Initial GM Training"
   ]
  },
  {
   "cell_type": "code",
   "execution_count": 29,
   "metadata": {},
   "outputs": [],
   "source": [
    "# TODO: Compare Different Epochs\n",
    "# atk_list = [\"Portscan\", \"DoS Hulk\", \"DDoS\"]\n",
    "\n",
    "LIGHT_GREEN = '\\033[92m'  # Light green\n",
    "GREEN = '\\033[32m'  # Green\n",
    "BLUE = '\\033[34m'  # Green\n",
    "PURPLE = '\\033[35m'  # Green\n",
    "\n",
    "RESET = '\\033[0m'   # Reset to default color\n",
    "\n",
    "\n",
    "# Example usage\n",
    "num_runs = 1\n",
    "num_timesteps = 300\n",
    "num_edge_area = 5\n",
    "supervision = 0.05\n",
    "global_sharing = False\n",
    "\n"
   ]
  },
  {
   "cell_type": "code",
   "execution_count": 30,
   "metadata": {},
   "outputs": [],
   "source": [
    "# To change global or clustering sharing tweak define_edge_area(global_sharing=True/False)\n",
    "# To change to no knowledge sharing change edge_area.local_model.knowledge_pool to []"
   ]
  },
  {
   "cell_type": "code",
   "execution_count": 31,
   "metadata": {},
   "outputs": [
    {
     "name": "stdout",
     "output_type": "stream",
     "text": [
      "Run 1/1\n"
     ]
    },
    {
     "name": "stdout",
     "output_type": "stream",
     "text": [
      "Label\n",
      "0.0    2368\n",
      "1.0      95\n",
      "Name: count, dtype: int64 Label\n",
      "0.0    592\n",
      "1.0     24\n",
      "Name: count, dtype: int64\n",
      "Local model is not fitted yet. Please fit the model before inference.\n",
      "Timestep 10, Area 2 Attack SSH-Patator\n",
      "\u001b[92mAccuracy of GM Before: 0 0 || 0 0 \u001b[0m \n",
      "GM New Data Size 2463\n",
      "GM Training Data Size (2463, 82)\n",
      "Start Training...\n",
      "ensemble size: 1\n",
      "epoch  1, training loss: 2.437080, time: 0.0s\n",
      "Start Inference on the training data...\n",
      "Accuracy of GM:  0.9939148073022313\n",
      "\u001b[34mAccuracy of GM After: 0.9951298701298701 0.9387755102040817 || 0.9960629921259843 0.952755905511811 \u001b[0m \n",
      "SSH-Patator (2463, 82)\n"
     ]
    },
    {
     "data": {
      "text/plain": [
       "35921"
      ]
     },
     "execution_count": 31,
     "metadata": {},
     "output_type": "execute_result"
    },
    {
     "name": "stdout",
     "output_type": "stream",
     "text": [
      "Label\n",
      "0.0    7995\n",
      "1.0     325\n",
      "Name: count, dtype: int64 Label\n",
      "0.0    1999\n",
      "1.0      81\n",
      "Name: count, dtype: int64\n",
      "Local model is not fitted yet. Please fit the model before inference.\n",
      "Timestep 14, Area 4 Attack DoS Hulk\n",
      "\u001b[92mAccuracy of GM Before: 0 0 || 0 0 \u001b[0m \n",
      "GM New Data Size 8320\n",
      "GM Training Data Size (8320, 82)\n",
      "Start Training...\n",
      "ensemble size: 1\n",
      "epoch  1, training loss: 0.679768, time: 0.3s\n",
      "Start Inference on the training data...\n",
      "Accuracy of GM:  0.9993990384615384\n",
      "\u001b[34mAccuracy of GM After: 0.9990384615384615 0.9875 || 0.998251578436134 0.9775 \u001b[0m \n",
      "DoS Hulk (8320, 82)\n"
     ]
    },
    {
     "data": {
      "text/plain": [
       "0"
      ]
     },
     "execution_count": 31,
     "metadata": {},
     "output_type": "execute_result"
    },
    {
     "name": "stdout",
     "output_type": "stream",
     "text": [
      "Label\n",
      "0.0    2365\n",
      "1.0      98\n",
      "Name: count, dtype: int64 Label\n",
      "0.0    592\n",
      "1.0     24\n",
      "Name: count, dtype: int64\n",
      "Local model is not fitted yet. Please fit the model before inference.\n",
      "Timestep 14, Area 1 Attack SSH-Patator\n",
      "\u001b[92mAccuracy of GM Before: 0 0 || 0 0 \u001b[0m \n",
      "GM New Data Size 2463\n",
      "GM Training Data Size (2463, 82)\n",
      "Start Training...\n",
      "ensemble size: 1\n",
      "epoch  1, training loss: 2.344772, time: 0.0s\n",
      "Start Inference on the training data...\n",
      "Accuracy of GM:  0.9939148073022313\n",
      "\u001b[34mAccuracy of GM After: 0.9967532467532467 0.9583333333333334 || 0.9950787401574803 0.9372384937238494 \u001b[0m \n",
      "SSH-Patator (2463, 82)\n"
     ]
    },
    {
     "data": {
      "text/plain": [
       "0"
      ]
     },
     "execution_count": 31,
     "metadata": {},
     "output_type": "execute_result"
    },
    {
     "name": "stdout",
     "output_type": "stream",
     "text": [
      "Label\n",
      "0.0    7992\n",
      "1.0     328\n",
      "Name: count, dtype: int64 Label\n",
      "0.0    1998\n",
      "1.0      82\n",
      "Name: count, dtype: int64\n",
      "Timestep 19, Area 2 Attack DDoS\n",
      "\u001b[92mAccuracy of GM Before: 0.9586538461538462 0.0 || 0.9544439048081593 0.0 \u001b[0m \n",
      "GM New Data Size 8320\n",
      "GM Training Data Size (10783, 82)\n",
      "Start Training...\n",
      "ensemble size: 1\n",
      "epoch  1, training loss: 0.756589, time: 0.4s\n",
      "Start Inference on the training data...\n",
      "Accuracy of GM:  0.999072786277237\n",
      "\u001b[34mAccuracy of GM After: 1.0 1.0 || 0.9950461389023798 0.9387755102040817 \u001b[0m \n",
      "DDoS (8320, 82)\n"
     ]
    },
    {
     "data": {
      "text/plain": [
       "10548"
      ]
     },
     "execution_count": 31,
     "metadata": {},
     "output_type": "execute_result"
    },
    {
     "name": "stdout",
     "output_type": "stream",
     "text": [
      "Label\n",
      "0.0    3170\n",
      "1.0     134\n",
      "Name: count, dtype: int64 Label\n",
      "0.0    792\n",
      "1.0     34\n",
      "Name: count, dtype: int64\n",
      "Local model is not fitted yet. Please fit the model before inference.\n",
      "Timestep 19, Area 0 Attack FTP-Patator\n",
      "\u001b[92mAccuracy of GM Before: 0 0 || 0 0 \u001b[0m \n",
      "GM New Data Size 3304\n",
      "GM Training Data Size (3304, 82)\n",
      "Start Training...\n",
      "ensemble size: 1\n",
      "epoch  1, training loss: 1.710533, time: 0.1s\n",
      "Start Inference on the training data...\n",
      "Accuracy of GM:  0.9984871406959153\n",
      "\u001b[34mAccuracy of GM After: 0.9987893462469734 0.9850746268656716 || 0.9620841487279843 0.0 \u001b[0m \n",
      "FTP-Patator (3304, 82)\n"
     ]
    },
    {
     "data": {
      "text/plain": [
       "0"
      ]
     },
     "execution_count": 31,
     "metadata": {},
     "output_type": "execute_result"
    },
    {
     "name": "stdout",
     "output_type": "stream",
     "text": [
      "Label\n",
      "0.0    7990\n",
      "1.0     330\n",
      "Name: count, dtype: int64 Label\n",
      "0.0    1998\n",
      "1.0      82\n",
      "Name: count, dtype: int64\n",
      "Timestep 23, Area 2 Attack Infiltration - Portscan\n",
      "\u001b[92mAccuracy of GM Before: 0.9548076923076924 0.0 || 0.9606605148130161 0.0 \u001b[0m \n",
      "GM New Data Size 8320\n",
      "GM Training Data Size (19103, 82)\n",
      "Start Training...\n",
      "ensemble size: 1\n",
      "epoch  1, training loss: 0.577375, time: 1.0s\n",
      "Start Inference on the training data...\n",
      "Accuracy of GM:  0.9973828840617639\n",
      "\u001b[34mAccuracy of GM After: 0.9985576923076923 0.9813664596273292 || 0.9989315201554152 0.986198243412798 \u001b[0m \n",
      "Infiltration - Portscan (8320, 82)\n"
     ]
    },
    {
     "data": {
      "text/plain": [
       "10548"
      ]
     },
     "execution_count": 31,
     "metadata": {},
     "output_type": "execute_result"
    },
    {
     "name": "stdout",
     "output_type": "stream",
     "text": [
      "Label\n",
      "0.0    3089\n",
      "1.0     121\n",
      "Name: count, dtype: int64 Label\n",
      "0.0    773\n",
      "1.0     30\n",
      "Name: count, dtype: int64\n",
      "Timestep 26, Area 1 Attack DoS Slowloris\n",
      "\u001b[92mAccuracy of GM Before: 0.962640099626401 0.0 || 0.953423967774421 0.0 \u001b[0m \n",
      "GM New Data Size 3210\n",
      "GM Training Data Size (5673, 82)\n",
      "Start Training...\n",
      "ensemble size: 1\n",
      "epoch  1, training loss: 1.327377, time: 0.1s\n",
      "Start Inference on the training data...\n",
      "Accuracy of GM:  0.9920704845814978\n",
      "\u001b[34mAccuracy of GM After: 0.9887920298879203 0.8235294117647058 || 0.9707955689828801 0.546875 \u001b[0m \n",
      "DoS Slowloris (3210, 82)\n"
     ]
    },
    {
     "data": {
      "text/plain": [
       "4276"
      ]
     },
     "execution_count": 31,
     "metadata": {},
     "output_type": "execute_result"
    },
    {
     "name": "stdout",
     "output_type": "stream",
     "text": [
      "Label\n",
      "0.0    8002\n",
      "1.0     318\n",
      "Name: count, dtype: int64 Label\n",
      "0.0    2000\n",
      "1.0      80\n",
      "Name: count, dtype: int64\n",
      "Timestep 28, Area 0 Attack Portscan\n",
      "\u001b[92mAccuracy of GM Before: 0.9610576923076923 0.0 || 0.9621175327829043 0.0 \u001b[0m \n",
      "GM New Data Size 8320\n",
      "GM Training Data Size (11624, 82)\n",
      "Start Training...\n",
      "ensemble size: 1\n",
      "epoch  1, training loss: 0.608411, time: 0.4s\n",
      "Start Inference on the training data...\n",
      "Accuracy of GM:  0.9969892473118279\n",
      "\u001b[34mAccuracy of GM After: 0.9980769230769231 0.975 || 0.9620203982515785 0.005089058524173028 \u001b[0m \n",
      "Portscan (8320, 82)\n"
     ]
    },
    {
     "data": {
      "text/plain": [
       "10548"
      ]
     },
     "execution_count": 31,
     "metadata": {},
     "output_type": "execute_result"
    },
    {
     "name": "stdout",
     "output_type": "stream",
     "text": [
      "Label\n",
      "0.0    3180\n",
      "1.0     124\n",
      "Name: count, dtype: int64 Label\n",
      "0.0    795\n",
      "1.0     31\n",
      "Name: count, dtype: int64\n",
      "Timestep 30, Area 0 Attack FTP-Patator\n",
      "\u001b[92mAccuracy of GM Before: 0.9745762711864406 0.4878048780487805 || 0.9593933463796478 0.0 \u001b[0m \n",
      "GM New Data Size 3304\n",
      "GM Training Data Size (14928, 82)\n",
      "Start Training...\n",
      "ensemble size: 1\n",
      "epoch  1, training loss: 0.477648, time: 0.7s\n",
      "Start Inference on the training data...\n",
      "Accuracy of GM:  0.9973208305425318\n",
      "\u001b[34mAccuracy of GM After: 0.9987893462469734 0.9836065573770492 || 0.9608610567514677 0.06976744186046512 \u001b[0m \n",
      "FTP-Patator (3304, 82)\n"
     ]
    },
    {
     "data": {
      "text/plain": [
       "4340"
      ]
     },
     "execution_count": 31,
     "metadata": {},
     "output_type": "execute_result"
    },
    {
     "name": "stdout",
     "output_type": "stream",
     "text": [
      "Label\n",
      "0.0    3064\n",
      "1.0     146\n",
      "Name: count, dtype: int64 Label\n",
      "0.0    767\n",
      "1.0     36\n",
      "Name: count, dtype: int64\n",
      "Timestep 31, Area 1 Attack DoS Slowloris\n",
      "\u001b[92mAccuracy of GM Before: 0.9539227895392279 0.27450980392156865 || 0.9783484390735147 0.6386554621848739 \u001b[0m \n",
      "GM New Data Size 3210\n",
      "GM Training Data Size (8883, 82)\n",
      "Start Training...\n",
      "ensemble size: 1\n",
      "epoch  1, training loss: 0.985013, time: 0.3s\n",
      "Start Inference on the training data...\n",
      "Accuracy of GM:  0.9926842993809791\n",
      "\u001b[34mAccuracy of GM After: 0.9825653798256538 0.8108108108108109 || 0.9874118831822759 0.8226950354609929 \u001b[0m \n",
      "DoS Slowloris (3210, 82)\n"
     ]
    },
    {
     "data": {
      "text/plain": [
       "4276"
      ]
     },
     "execution_count": 31,
     "metadata": {},
     "output_type": "execute_result"
    },
    {
     "name": "stdout",
     "output_type": "stream",
     "text": [
      "Label\n",
      "0.0    2371\n",
      "1.0      92\n",
      "Name: count, dtype: int64 Label\n",
      "0.0    593\n",
      "1.0     23\n",
      "Name: count, dtype: int64\n",
      "Timestep 31, Area 2 Attack SSH-Patator\n",
      "\u001b[92mAccuracy of GM Before: 0.961038961038961 0.0 || 0.9944225721784777 0.9251101321585903 \u001b[0m \n",
      "GM New Data Size 2463\n",
      "GM Training Data Size (21566, 82)\n",
      "Start Training...\n",
      "ensemble size: 1\n",
      "epoch  1, training loss: 0.559824, time: 1.2s\n",
      "Start Inference on the training data...\n",
      "Accuracy of GM:  0.999072786277237\n",
      "\u001b[34mAccuracy of GM After: 1.0 1.0 || 0.994750656167979 0.9292035398230089 \u001b[0m \n",
      "SSH-Patator (2463, 82)\n"
     ]
    },
    {
     "data": {
      "text/plain": [
       "3316"
      ]
     },
     "execution_count": 31,
     "metadata": {},
     "output_type": "execute_result"
    },
    {
     "name": "stdout",
     "output_type": "stream",
     "text": [
      "Label\n",
      "0.0    7968\n",
      "1.0     352\n",
      "Name: count, dtype: int64 Label\n",
      "0.0    1992\n",
      "1.0      88\n",
      "Name: count, dtype: int64\n",
      "Timestep 34, Area 1 Attack DoS Hulk\n",
      "\u001b[92mAccuracy of GM Before: 0.9528846153846153 0.0 || 0.9540553666828557 0.0 \u001b[0m \n",
      "GM New Data Size 8320\n",
      "GM Training Data Size (17203, 82)\n",
      "Start Training...\n",
      "ensemble size: 1\n",
      "epoch  1, training loss: 0.764576, time: 0.9s\n",
      "Start Inference on the training data...\n",
      "Accuracy of GM:  0.997675094449288\n",
      "\u001b[34mAccuracy of GM After: 0.9961538461538462 0.9555555555555556 || 0.998251578436134 0.9770408163265306 \u001b[0m \n",
      "DoS Hulk (8320, 82)\n"
     ]
    },
    {
     "data": {
      "text/plain": [
       "10548"
      ]
     },
     "execution_count": 31,
     "metadata": {},
     "output_type": "execute_result"
    },
    {
     "name": "stdout",
     "output_type": "stream",
     "text": [
      "Label\n",
      "0.0    7985\n",
      "1.0     335\n",
      "Name: count, dtype: int64 Label\n",
      "0.0    1996\n",
      "1.0      84\n",
      "Name: count, dtype: int64\n",
      "Timestep 35, Area 1 Attack DDoS\n",
      "\u001b[92mAccuracy of GM Before: 0.9947115384615385 0.9308176100628931 || 0.9932977173385138 0.9081225033288948 \u001b[0m \n",
      "GM New Data Size 8320\n",
      "GM Training Data Size (25523, 82)\n",
      "Start Training...\n",
      "ensemble size: 1\n",
      "epoch  1, training loss: 0.544088, time: 1.7s\n",
      "Start Inference on the training data...\n",
      "Accuracy of GM:  0.9984329089128305\n",
      "\u001b[34mAccuracy of GM After: 0.9990384615384615 0.9879518072289156 || 0.9996114618746964 0.9950248756218906 \u001b[0m \n",
      "DDoS (8320, 82)\n"
     ]
    },
    {
     "data": {
      "text/plain": [
       "10548"
      ]
     },
     "execution_count": 31,
     "metadata": {},
     "output_type": "execute_result"
    },
    {
     "name": "stdout",
     "output_type": "stream",
     "text": [
      "Label\n",
      "0.0    1389\n",
      "1.0      58\n",
      "Name: count, dtype: int64 Label\n",
      "0.0    348\n",
      "1.0     14\n",
      "Name: count, dtype: int64\n",
      "Timestep 35, Area 2 Attack DoS Slowhttptest\n",
      "\u001b[92mAccuracy of GM Before: 0.9613259668508287 0.0 || 0.9558659217877095 0.0 \u001b[0m \n",
      "GM New Data Size 1447\n",
      "GM Training Data Size (23013, 82)\n",
      "Start Training...\n",
      "ensemble size: 1\n",
      "epoch  1, training loss: 0.596423, time: 1.4s\n",
      "Start Inference on the training data...\n",
      "Accuracy of GM:  0.9965240060829893\n",
      "\u001b[34mAccuracy of GM After: 0.9917127071823204 0.88 || 0.9860335195530726 0.8120300751879699 \u001b[0m \n",
      "DoS Slowhttptest (1447, 82)\n"
     ]
    },
    {
     "data": {
      "text/plain": [
       "2036"
      ]
     },
     "execution_count": 31,
     "metadata": {},
     "output_type": "execute_result"
    },
    {
     "name": "stdout",
     "output_type": "stream",
     "text": [
      "Label\n",
      "0.0    3179\n",
      "1.0     125\n",
      "Name: count, dtype: int64 Label\n",
      "0.0    795\n",
      "1.0     31\n",
      "Name: count, dtype: int64\n",
      "Timestep 38, Area 0 Attack FTP-Patator\n",
      "\u001b[92mAccuracy of GM Before: 1.0 1.0 || 0.9985322896281801 0.98125 \u001b[0m \n",
      "FTP-Patator (3304, 81)\n"
     ]
    },
    {
     "data": {
      "text/plain": [
       "0"
      ]
     },
     "execution_count": 31,
     "metadata": {},
     "output_type": "execute_result"
    },
    {
     "name": "stdout",
     "output_type": "stream",
     "text": [
      "Label\n",
      "0.0    3098\n",
      "1.0     112\n",
      "Name: count, dtype: int64 Label\n",
      "0.0    775\n",
      "1.0     28\n",
      "Name: count, dtype: int64\n",
      "Timestep 39, Area 1 Attack DoS Slowloris\n",
      "\u001b[92mAccuracy of GM Before: 1.0 1.0 || 0.9977341389728097 0.9700996677740864 \u001b[0m \n",
      "DoS Slowloris (3210, 81)\n"
     ]
    },
    {
     "data": {
      "text/plain": [
       "0"
      ]
     },
     "execution_count": 31,
     "metadata": {},
     "output_type": "execute_result"
    },
    {
     "name": "stdout",
     "output_type": "stream",
     "text": [
      "Label\n",
      "0.0    2359\n",
      "1.0     104\n",
      "Name: count, dtype: int64 Label\n",
      "0.0    590\n",
      "1.0     26\n",
      "Name: count, dtype: int64\n",
      "Timestep 40, Area 2 Attack SSH-Patator\n",
      "\u001b[92mAccuracy of GM Before: 0.9967532467532467 0.9629629629629629 || 0.994750656167979 0.9416058394160584 \u001b[0m \n",
      "SSH-Patator (2463, 81)\n"
     ]
    },
    {
     "data": {
      "text/plain": [
       "0"
      ]
     },
     "execution_count": 31,
     "metadata": {},
     "output_type": "execute_result"
    },
    {
     "name": "stdout",
     "output_type": "stream",
     "text": [
      "Label\n",
      "0.0    2358\n",
      "1.0     105\n",
      "Name: count, dtype: int64 Label\n",
      "0.0    590\n",
      "1.0     26\n",
      "Name: count, dtype: int64\n",
      "Timestep 45, Area 2 Attack SSH-Patator\n",
      "\u001b[92mAccuracy of GM Before: 0.9967532467532467 0.9629629629629629 || 0.9965412368060111 0.9550387596899225 \u001b[0m \n",
      "SSH-Patator (2463, 81)\n"
     ]
    },
    {
     "data": {
      "text/plain": [
       "0"
      ]
     },
     "execution_count": 31,
     "metadata": {},
     "output_type": "execute_result"
    },
    {
     "name": "stdout",
     "output_type": "stream",
     "text": [
      "Label\n",
      "0.0    7995\n",
      "1.0     325\n",
      "Name: count, dtype: int64 Label\n",
      "0.0    1999\n",
      "1.0      81\n",
      "Name: count, dtype: int64\n",
      "Local model is not fitted yet. Please fit the model before inference.\n",
      "Timestep 46, Area 3 Attack Infiltration - Portscan\n",
      "\u001b[92mAccuracy of GM Before: 0 0 || 0 0 \u001b[0m \n",
      "GM New Data Size 8320\n",
      "GM Training Data Size (8320, 82)\n",
      "Start Training...\n",
      "ensemble size: 1\n",
      "epoch  1, training loss: 0.835464, time: 0.3s\n",
      "Start Inference on the training data...\n",
      "Accuracy of GM:  0.9993990384615384\n",
      "\u001b[34mAccuracy of GM After: 0.9995192307692308 0.9938650306748467 || 0.9971830985915493 0.9640644361833953 \u001b[0m \n",
      "Infiltration - Portscan (8320, 82)\n"
     ]
    },
    {
     "data": {
      "text/plain": [
       "0"
      ]
     },
     "execution_count": 31,
     "metadata": {},
     "output_type": "execute_result"
    },
    {
     "name": "stdout",
     "output_type": "stream",
     "text": [
      "Label\n",
      "0.0    7981\n",
      "1.0     339\n",
      "Name: count, dtype: int64 Label\n",
      "0.0    1995\n",
      "1.0      85\n",
      "Name: count, dtype: int64\n",
      "Timestep 47, Area 0 Attack Portscan\n",
      "\u001b[92mAccuracy of GM Before: 0.9951923076923077 0.9438202247191011 || 0.9583292860611947 0.040268456375838924 \u001b[0m \n",
      "GM New Data Size 8320\n",
      "GM Training Data Size (23248, 82)\n",
      "Start Training...\n",
      "ensemble size: 1\n",
      "epoch  1, training loss: 0.335767, time: 1.4s\n",
      "Start Inference on the training data...\n",
      "Accuracy of GM:  0.9980645161290322\n",
      "\u001b[34mAccuracy of GM After: 0.9971153846153846 0.9647058823529412 || 0.958135016998543 0.009195402298850575 \u001b[0m \n",
      "Portscan (8320, 82)\n"
     ]
    },
    {
     "data": {
      "text/plain": [
       "10548"
      ]
     },
     "execution_count": 31,
     "metadata": {},
     "output_type": "execute_result"
    },
    {
     "name": "stdout",
     "output_type": "stream",
     "text": [
      "Label\n",
      "0.0    7974\n",
      "1.0     346\n",
      "Name: count, dtype: int64 Label\n",
      "0.0    1993\n",
      "1.0      87\n",
      "Name: count, dtype: int64\n",
      "Timestep 48, Area 1 Attack DoS Hulk\n",
      "\u001b[92mAccuracy of GM Before: 0.9995192307692308 0.9942196531791907 || 0.9990286546867412 0.9875 \u001b[0m \n",
      "DoS Hulk (8320, 81)\n"
     ]
    },
    {
     "data": {
      "text/plain": [
       "0"
      ]
     },
     "execution_count": 31,
     "metadata": {},
     "output_type": "execute_result"
    },
    {
     "name": "stdout",
     "output_type": "stream",
     "text": [
      "Label\n",
      "0.0    2380\n",
      "1.0      83\n",
      "Name: count, dtype: int64 Label\n",
      "0.0    595\n",
      "1.0     21\n",
      "Name: count, dtype: int64\n",
      "Timestep 48, Area 2 Attack SSH-Patator\n",
      "\u001b[92mAccuracy of GM Before: 0.9967532467532467 0.9545454545454546 || 0.9957349081364829 0.9359605911330049 \u001b[0m \n",
      "GM New Data Size 2463\n",
      "GM Training Data Size (25476, 82)\n",
      "Start Training...\n",
      "ensemble size: 1\n",
      "epoch  1, training loss: 0.522721, time: 1.7s\n",
      "Start Inference on the training data...\n",
      "Accuracy of GM:  0.9994113029827315\n",
      "\u001b[34mAccuracy of GM After: 1.0 1.0 || 0.9963910761154856 0.945273631840796 \u001b[0m \n",
      "SSH-Patator (2463, 82)\n"
     ]
    },
    {
     "data": {
      "text/plain": [
       "3316"
      ]
     },
     "execution_count": 31,
     "metadata": {},
     "output_type": "execute_result"
    },
    {
     "name": "stdout",
     "output_type": "stream",
     "text": [
      "Label\n",
      "0.0    8007\n",
      "1.0     313\n",
      "Name: count, dtype: int64 Label\n",
      "0.0    2002\n",
      "1.0      78\n",
      "Name: count, dtype: int64\n",
      "Timestep 50, Area 2 Attack Portscan\n",
      "\u001b[92mAccuracy of GM Before: 0.9884615384615385 0.8181818181818182 || 0.9902865468674114 0.8407643312101911 \u001b[0m \n",
      "GM New Data Size 8320\n",
      "GM Training Data Size (33796, 82)\n",
      "Start Training...\n",
      "ensemble size: 1\n",
      "epoch  1, training loss: 0.430334, time: 2.8s\n",
      "Start Inference on the training data...\n",
      "Accuracy of GM:  0.9976331360946745\n",
      "\u001b[34mAccuracy of GM After: 0.9995192307692308 0.9935483870967742 || 0.9992229237493929 0.9888579387186629 \u001b[0m \n",
      "Portscan (8320, 82)\n"
     ]
    },
    {
     "data": {
      "text/plain": [
       "10548"
      ]
     },
     "execution_count": 31,
     "metadata": {},
     "output_type": "execute_result"
    },
    {
     "name": "stdout",
     "output_type": "stream",
     "text": [
      "Label\n",
      "0.0    1397\n",
      "1.0      50\n",
      "Name: count, dtype: int64 Label\n",
      "0.0    349\n",
      "1.0     13\n",
      "Name: count, dtype: int64\n",
      "Timestep 52, Area 3 Attack DoS Slowhttptest\n",
      "\u001b[92mAccuracy of GM Before: 0.9613259668508287 0.0 || 0.9564245810055866 0.0 \u001b[0m \n",
      "GM New Data Size 1447\n",
      "GM Training Data Size (9767, 82)\n",
      "Start Training...\n",
      "ensemble size: 1\n",
      "epoch  1, training loss: 0.873411, time: 0.3s\n",
      "Start Inference on the training data...\n",
      "Accuracy of GM:  0.9948822927328557\n",
      "\u001b[34mAccuracy of GM After: 0.9917127071823204 0.88 || 0.9620111731843576 0.22727272727272727 \u001b[0m \n",
      "DoS Slowhttptest (1447, 82)\n"
     ]
    },
    {
     "data": {
      "text/plain": [
       "2036"
      ]
     },
     "execution_count": 31,
     "metadata": {},
     "output_type": "execute_result"
    },
    {
     "name": "stdout",
     "output_type": "stream",
     "text": [
      "Label\n",
      "0.0    7977\n",
      "1.0     343\n",
      "Name: count, dtype: int64 Label\n",
      "0.0    1994\n",
      "1.0      86\n",
      "Name: count, dtype: int64\n",
      "Timestep 53, Area 0 Attack Portscan\n",
      "\u001b[92mAccuracy of GM Before: 0.9985576923076923 0.9822485207100592 || 0.9620203982515785 0.015113350125944584 \u001b[0m \n",
      "Portscan (8320, 81)\n"
     ]
    },
    {
     "data": {
      "text/plain": [
       "0"
      ]
     },
     "execution_count": 31,
     "metadata": {},
     "output_type": "execute_result"
    },
    {
     "name": "stdout",
     "output_type": "stream",
     "text": [
      "Label\n",
      "0.0    6042\n",
      "1.0     253\n",
      "Name: count, dtype: int64 Label\n",
      "0.0    1511\n",
      "1.0      63\n",
      "Name: count, dtype: int64\n",
      "Timestep 53, Area 4 Attack DoS GoldenEye\n",
      "\u001b[92mAccuracy of GM Before: 0.9707750952986023 0.425 || 0.9741976893453145 0.43059490084985835 \u001b[0m \n",
      "GM New Data Size 6295\n",
      "GM Training Data Size (14615, 82)\n",
      "Start Training...\n",
      "ensemble size: 1\n",
      "epoch  1, training loss: 0.588499, time: 0.7s\n",
      "Start Inference on the training data...\n",
      "Accuracy of GM:  0.9996578857338351\n",
      "\u001b[34mAccuracy of GM After: 0.9987293519695044 0.9838709677419355 || 0.9979460847240051 0.9709090909090909 \u001b[0m \n",
      "DoS GoldenEye (6295, 82)\n"
     ]
    },
    {
     "data": {
      "text/plain": [
       "8052"
      ]
     },
     "execution_count": 31,
     "metadata": {},
     "output_type": "execute_result"
    },
    {
     "name": "stdout",
     "output_type": "stream",
     "text": [
      "Label\n",
      "0.0    1401\n",
      "1.0      46\n",
      "Name: count, dtype: int64 Label\n",
      "0.0    351\n",
      "1.0     11\n",
      "Name: count, dtype: int64\n",
      "Timestep 58, Area 2 Attack DoS Slowhttptest\n",
      "\u001b[92mAccuracy of GM Before: 0.9917127071823204 0.8571428571428571 || 0.9871508379888269 0.8368794326241135 \u001b[0m \n",
      "GM New Data Size 1447\n",
      "GM Training Data Size (35243, 82)\n",
      "Start Training...\n",
      "ensemble size: 1\n",
      "epoch  1, training loss: 0.455362, time: 3.0s\n",
      "Start Inference on the training data...\n",
      "Accuracy of GM:  0.9973045822102425\n",
      "\u001b[34mAccuracy of GM After: 0.994475138121547 0.9090909090909091 || 0.9888268156424581 0.8611111111111112 \u001b[0m \n",
      "DoS Slowhttptest (1447, 82)\n"
     ]
    },
    {
     "data": {
      "text/plain": [
       "2036"
      ]
     },
     "execution_count": 31,
     "metadata": {},
     "output_type": "execute_result"
    },
    {
     "name": "stdout",
     "output_type": "stream",
     "text": [
      "Label\n",
      "0.0    8007\n",
      "1.0     313\n",
      "Name: count, dtype: int64 Label\n",
      "0.0    2002\n",
      "1.0      78\n",
      "Name: count, dtype: int64\n",
      "Timestep 60, Area 0 Attack Portscan\n",
      "\u001b[92mAccuracy of GM Before: 0.9625 0.0 || 0.9632687298574014 0.07390917186108638 \u001b[0m \n",
      "GM New Data Size 8320\n",
      "GM Training Data Size (31568, 82)\n",
      "Start Training...\n",
      "ensemble size: 1\n",
      "epoch  1, training loss: 0.282531, time: 2.5s\n",
      "Start Inference on the training data...\n",
      "Accuracy of GM:  0.9982578397212544\n",
      "\u001b[34mAccuracy of GM After: 0.9995192307692308 0.9935483870967742 || 0.9959736876959074 0.9445255474452555 \u001b[0m \n",
      "Portscan (8320, 82)\n"
     ]
    },
    {
     "data": {
      "text/plain": [
       "0"
      ]
     },
     "execution_count": 31,
     "metadata": {},
     "output_type": "execute_result"
    },
    {
     "name": "stdout",
     "output_type": "stream",
     "text": [
      "Label\n",
      "0.0    1389\n",
      "1.0      58\n",
      "Name: count, dtype: int64 Label\n",
      "0.0    348\n",
      "1.0     14\n",
      "Name: count, dtype: int64\n",
      "Timestep 60, Area 0 Attack DoS Slowhttptest\n",
      "\u001b[92mAccuracy of GM Before: 0.9558011049723757 0.0 || 0.9681564245810056 0.0 \u001b[0m \n",
      "GM New Data Size 1447\n",
      "GM Training Data Size (33015, 82)\n",
      "Start Training...\n",
      "ensemble size: 1\n",
      "epoch  1, training loss: 0.338710, time: 2.7s\n",
      "Start Inference on the training data...\n",
      "Accuracy of GM:  0.9962138421929426\n",
      "\u001b[34mAccuracy of GM After: 0.9806629834254144 0.72 || 0.975977653631285 0.39436619718309857 \u001b[0m \n",
      "DoS Slowhttptest (1447, 82)\n"
     ]
    },
    {
     "data": {
      "text/plain": [
       "2036"
      ]
     },
     "execution_count": 31,
     "metadata": {},
     "output_type": "execute_result"
    },
    {
     "name": "stdout",
     "output_type": "stream",
     "text": [
      "Label\n",
      "0.0    3167\n",
      "1.0     137\n",
      "Name: count, dtype: int64 Label\n",
      "0.0    792\n",
      "1.0     34\n",
      "Name: count, dtype: int64\n",
      "Timestep 61, Area 0 Attack FTP-Patator\n",
      "\u001b[92mAccuracy of GM Before: 0.9588377723970944 0.0 || 0.9995107632093934 0.9928057553956835 \u001b[0m \n",
      "GM New Data Size 3304\n",
      "GM Training Data Size (36319, 82)\n",
      "Start Training...\n",
      "ensemble size: 1\n",
      "epoch  1, training loss: 0.320550, time: 3.2s\n",
      "Start Inference on the training data...\n",
      "Accuracy of GM:  0.9960077092511013\n",
      "\u001b[34mAccuracy of GM After: 1.0 1.0 || 0.9995107632093934 0.9928057553956835 \u001b[0m \n",
      "FTP-Patator (3304, 82)\n"
     ]
    },
    {
     "data": {
      "text/plain": [
       "4340"
      ]
     },
     "execution_count": 31,
     "metadata": {},
     "output_type": "execute_result"
    },
    {
     "name": "stdout",
     "output_type": "stream",
     "text": [
      "Label\n",
      "0.0    3098\n",
      "1.0     112\n",
      "Name: count, dtype: int64 Label\n",
      "0.0    775\n",
      "1.0     28\n",
      "Name: count, dtype: int64\n",
      "Timestep 64, Area 3 Attack DoS Slowloris\n",
      "\u001b[92mAccuracy of GM Before: 0.9688667496886675 0.1935483870967742 || 0.972306143001007 0.45544554455445546 \u001b[0m \n",
      "GM New Data Size 3210\n",
      "GM Training Data Size (12977, 82)\n",
      "Start Training...\n",
      "ensemble size: 1\n",
      "epoch  1, training loss: 0.793412, time: 0.5s\n",
      "Start Inference on the training data...\n",
      "Accuracy of GM:  0.9946070878274268\n",
      "\u001b[34mAccuracy of GM After: 0.9912826899128269 0.8627450980392157 || 0.9884189325276939 0.8424657534246576 \u001b[0m \n",
      "DoS Slowloris (3210, 82)\n"
     ]
    },
    {
     "data": {
      "text/plain": [
       "4276"
      ]
     },
     "execution_count": 31,
     "metadata": {},
     "output_type": "execute_result"
    },
    {
     "name": "stdout",
     "output_type": "stream",
     "text": [
      "Label\n",
      "0.0    3088\n",
      "1.0     122\n",
      "Name: count, dtype: int64 Label\n",
      "0.0    772\n",
      "1.0     31\n",
      "Name: count, dtype: int64\n",
      "Timestep 72, Area 1 Attack DoS Slowloris\n",
      "\u001b[92mAccuracy of GM Before: 0.9987546699875467 0.9836065573770492 || 0.9970028370092432 0.9601217656012176 \u001b[0m \n",
      "DoS Slowloris (3210, 81)\n"
     ]
    },
    {
     "data": {
      "text/plain": [
       "0"
      ]
     },
     "execution_count": 31,
     "metadata": {},
     "output_type": "execute_result"
    },
    {
     "name": "stdout",
     "output_type": "stream",
     "text": [
      "Label\n",
      "0.0    2365\n",
      "1.0      98\n",
      "Name: count, dtype: int64 Label\n",
      "0.0    592\n",
      "1.0     24\n",
      "Name: count, dtype: int64\n",
      "Timestep 72, Area 1 Attack SSH-Patator\n",
      "\u001b[92mAccuracy of GM Before: 0.9951298701298701 0.9361702127659575 || 0.9980314960629921 0.975609756097561 \u001b[0m \n",
      "GM New Data Size 2463\n",
      "GM Training Data Size (27986, 82)\n",
      "Start Training...\n",
      "ensemble size: 1\n",
      "epoch  1, training loss: 0.520395, time: 2.1s\n",
      "Start Inference on the training data...\n",
      "Accuracy of GM:  0.9992854590925331\n",
      "\u001b[34mAccuracy of GM After: 0.9967532467532467 0.9583333333333334 || 0.9983595800524935 0.979757085020243 \u001b[0m \n",
      "SSH-Patator (2463, 82)\n"
     ]
    },
    {
     "data": {
      "text/plain": [
       "3316"
      ]
     },
     "execution_count": 31,
     "metadata": {},
     "output_type": "execute_result"
    },
    {
     "name": "stdout",
     "output_type": "stream",
     "text": [
      "Label\n",
      "0.0    6058\n",
      "1.0     237\n",
      "Name: count, dtype: int64 Label\n",
      "0.0    1515\n",
      "1.0      59\n",
      "Name: count, dtype: int64\n",
      "Timestep 73, Area 4 Attack DoS GoldenEye\n",
      "\u001b[92mAccuracy of GM Before: 1.0 1.0 || 0.9994865211810012 0.9936102236421726 \u001b[0m \n",
      "DoS GoldenEye (6295, 81)\n"
     ]
    },
    {
     "data": {
      "text/plain": [
       "0"
      ]
     },
     "execution_count": 31,
     "metadata": {},
     "output_type": "execute_result"
    },
    {
     "name": "stdout",
     "output_type": "stream",
     "text": [
      "Label\n",
      "0.0    7986\n",
      "1.0     334\n",
      "Name: count, dtype: int64 Label\n",
      "0.0    1997\n",
      "1.0      83\n",
      "Name: count, dtype: int64\n",
      "Timestep 74, Area 1 Attack DDoS\n",
      "\u001b[92mAccuracy of GM Before: 0.9995192307692308 0.9940119760479041 || 0.9997085964060224 0.996309963099631 \u001b[0m \n",
      "DDoS (8320, 81)\n"
     ]
    },
    {
     "data": {
      "text/plain": [
       "0"
      ]
     },
     "execution_count": 31,
     "metadata": {},
     "output_type": "execute_result"
    },
    {
     "name": "stdout",
     "output_type": "stream",
     "text": [
      "Label\n",
      "0.0    1401\n",
      "1.0      46\n",
      "Name: count, dtype: int64 Label\n",
      "0.0    350\n",
      "1.0     12\n",
      "Name: count, dtype: int64\n",
      "Timestep 75, Area 3 Attack DoS Slowhttptest\n",
      "\u001b[92mAccuracy of GM Before: 0.988950276243094 0.8333333333333334 || 0.9825985490335346 0.7527036770007209 \u001b[0m \n",
      "GM New Data Size 1447\n",
      "GM Training Data Size (14424, 82)\n",
      "Start Training...\n",
      "ensemble size: 1\n",
      "epoch  1, training loss: 0.796298, time: 0.6s\n",
      "Start Inference on the training data...\n",
      "Accuracy of GM:  0.9954939341421144\n",
      "\u001b[34mAccuracy of GM After: 0.994475138121547 0.9090909090909091 || 0.9664146923037897 0.31611570247933884 \u001b[0m \n",
      "DoS Slowhttptest (1447, 82)\n"
     ]
    },
    {
     "data": {
      "text/plain": [
       "19956"
      ]
     },
     "execution_count": 31,
     "metadata": {},
     "output_type": "execute_result"
    },
    {
     "name": "stdout",
     "output_type": "stream",
     "text": [
      "Label\n",
      "0.0    8005\n",
      "1.0     315\n",
      "Name: count, dtype: int64 Label\n",
      "0.0    2001\n",
      "1.0      79\n",
      "Name: count, dtype: int64\n",
      "Timestep 76, Area 3 Attack Infiltration - Portscan\n",
      "\u001b[92mAccuracy of GM Before: 0.9980769230769231 0.9743589743589743 || 0.9980573093734822 0.9759615384615384 \u001b[0m \n",
      "Infiltration - Portscan (8320, 81)\n"
     ]
    },
    {
     "data": {
      "text/plain": [
       "0"
      ]
     },
     "execution_count": 31,
     "metadata": {},
     "output_type": "execute_result"
    },
    {
     "name": "stdout",
     "output_type": "stream",
     "text": [
      "Label\n",
      "0.0    1385\n",
      "1.0      62\n",
      "Name: count, dtype: int64 Label\n",
      "0.0    347\n",
      "1.0     15\n",
      "Name: count, dtype: int64\n",
      "Timestep 81, Area 3 Attack DoS Slowhttptest\n",
      "\u001b[92mAccuracy of GM Before: 0.9696132596685083 0.42105263157894735 || 0.9670391061452513 0.25316455696202533 \u001b[0m \n",
      "GM New Data Size 1447\n",
      "GM Training Data Size (15871, 82)\n",
      "Start Training...\n",
      "ensemble size: 1\n",
      "epoch  1, training loss: 0.743503, time: 0.8s\n",
      "Start Inference on the training data...\n",
      "Accuracy of GM:  0.9965354330708661\n",
      "\u001b[34mAccuracy of GM After: 0.994475138121547 0.9285714285714286 || 0.9927374301675977 0.8943089430894309 \u001b[0m \n",
      "DoS Slowhttptest (1447, 82)\n"
     ]
    },
    {
     "data": {
      "text/plain": [
       "2036"
      ]
     },
     "execution_count": 31,
     "metadata": {},
     "output_type": "execute_result"
    },
    {
     "name": "stdout",
     "output_type": "stream",
     "text": [
      "Label\n",
      "0.0    2365\n",
      "1.0      98\n",
      "Name: count, dtype: int64 Label\n",
      "0.0    591\n",
      "1.0     25\n",
      "Name: count, dtype: int64\n",
      "Timestep 83, Area 2 Attack SSH-Patator\n",
      "\u001b[92mAccuracy of GM Before: 0.9967532467532467 0.9615384615384616 || 0.9960629921259843 0.9562043795620438 \u001b[0m \n",
      "SSH-Patator (2463, 81)\n"
     ]
    },
    {
     "data": {
      "text/plain": [
       "0"
      ]
     },
     "execution_count": 31,
     "metadata": {},
     "output_type": "execute_result"
    },
    {
     "name": "stdout",
     "output_type": "stream",
     "text": [
      "Label\n",
      "0.0    8005\n",
      "1.0     315\n",
      "Name: count, dtype: int64 Label\n",
      "0.0    2001\n",
      "1.0      79\n",
      "Name: count, dtype: int64\n",
      "Timestep 84, Area 0 Attack Portscan\n",
      "\u001b[92mAccuracy of GM Before: 0.9947115384615385 0.9341317365269461 || 0.9952404079650315 0.9369369369369369 \u001b[0m \n",
      "GM New Data Size 8320\n",
      "GM Training Data Size (44639, 82)\n",
      "Start Training...\n",
      "ensemble size: 1\n",
      "epoch  1, training loss: 0.284037, time: 4.5s\n",
      "Start Inference on the training data...\n",
      "Accuracy of GM:  0.9978718637992832\n",
      "\u001b[34mAccuracy of GM After: 0.9980769230769231 0.9746835443037974 || 0.9958232151529869 0.9440832249674902 \u001b[0m \n",
      "Portscan (8320, 82)\n"
     ]
    },
    {
     "data": {
      "text/plain": [
       "10548"
      ]
     },
     "execution_count": 31,
     "metadata": {},
     "output_type": "execute_result"
    },
    {
     "name": "stdout",
     "output_type": "stream",
     "text": [
      "Label\n",
      "0.0    1385\n",
      "1.0      62\n",
      "Name: count, dtype: int64 Label\n",
      "0.0    347\n",
      "1.0     15\n",
      "Name: count, dtype: int64\n",
      "Timestep 86, Area 1 Attack DoS Slowhttptest\n",
      "\u001b[92mAccuracy of GM Before: 0.9861878453038674 0.8 || 0.9832402234636871 0.7619047619047619 \u001b[0m \n",
      "GM New Data Size 1447\n",
      "GM Training Data Size (29433, 82)\n",
      "Start Training...\n",
      "ensemble size: 1\n",
      "epoch  1, training loss: 0.522986, time: 2.3s\n",
      "Start Inference on the training data...\n",
      "Accuracy of GM:  0.9988109393579072\n",
      "\u001b[34mAccuracy of GM After: 0.9972375690607734 0.9655172413793104 || 0.994413407821229 0.9315068493150684 \u001b[0m \n",
      "DoS Slowhttptest (1447, 82)\n"
     ]
    },
    {
     "data": {
      "text/plain": [
       "2036"
      ]
     },
     "execution_count": 31,
     "metadata": {},
     "output_type": "execute_result"
    },
    {
     "name": "stdout",
     "output_type": "stream",
     "text": [
      "Label\n",
      "0.0    1385\n",
      "1.0      62\n",
      "Name: count, dtype: int64 Label\n",
      "0.0    346\n",
      "1.0     16\n",
      "Name: count, dtype: int64\n",
      "Timestep 91, Area 2 Attack DoS Slowhttptest\n",
      "\u001b[92mAccuracy of GM Before: 0.9806629834254144 0.7407407407407407 || 0.9865921787709497 0.8032786885245902 \u001b[0m \n",
      "GM New Data Size 1447\n",
      "GM Training Data Size (36690, 82)\n",
      "Start Training...\n",
      "ensemble size: 1\n",
      "epoch  1, training loss: 0.432775, time: 3.2s\n",
      "Start Inference on the training data...\n",
      "Accuracy of GM:  0.9961842463886618\n",
      "\u001b[34mAccuracy of GM After: 0.9972375690607734 0.9696969696969697 || 0.9905027932960894 0.8702290076335878 \u001b[0m \n",
      "DoS Slowhttptest (1447, 82)\n"
     ]
    },
    {
     "data": {
      "text/plain": [
       "2036"
      ]
     },
     "execution_count": 31,
     "metadata": {},
     "output_type": "execute_result"
    },
    {
     "name": "stdout",
     "output_type": "stream",
     "text": [
      "Label\n",
      "0.0    1381\n",
      "1.0      66\n",
      "Name: count, dtype: int64 Label\n",
      "0.0    345\n",
      "1.0     17\n",
      "Name: count, dtype: int64\n",
      "Timestep 100, Area 1 Attack DoS Slowhttptest\n",
      "\u001b[92mAccuracy of GM Before: 0.9806629834254144 0.7407407407407407 || 0.9955307262569832 0.9344262295081968 \u001b[0m \n",
      "GM New Data Size 1447\n",
      "GM Training Data Size (30880, 82)\n",
      "Start Training...\n",
      "ensemble size: 1\n",
      "epoch  1, training loss: 0.533223, time: 2.4s\n",
      "Start Inference on the training data...\n",
      "Accuracy of GM:  0.998380829015544\n",
      "\u001b[34mAccuracy of GM After: 0.994475138121547 0.9375 || 0.9977653631284916 0.9692307692307692 \u001b[0m \n",
      "DoS Slowhttptest (1447, 82)\n"
     ]
    },
    {
     "data": {
      "text/plain": [
       "2036"
      ]
     },
     "execution_count": 31,
     "metadata": {},
     "output_type": "execute_result"
    },
    {
     "name": "stdout",
     "output_type": "stream",
     "text": [
      "Label\n",
      "0.0    2371\n",
      "1.0      92\n",
      "Name: count, dtype: int64 Label\n",
      "0.0    593\n",
      "1.0     23\n",
      "Name: count, dtype: int64\n",
      "Timestep 102, Area 1 Attack SSH-Patator\n",
      "\u001b[92mAccuracy of GM Before: 0.9983766233766234 0.9777777777777777 || 0.9701443569553806 0.28346456692913385 \u001b[0m \n",
      "SSH-Patator (2463, 81)\n"
     ]
    },
    {
     "data": {
      "text/plain": [
       "0"
      ]
     },
     "execution_count": 31,
     "metadata": {},
     "output_type": "execute_result"
    },
    {
     "name": "stdout",
     "output_type": "stream",
     "text": [
      "Label\n",
      "0.0    6048\n",
      "1.0     247\n",
      "Name: count, dtype: int64 Label\n",
      "0.0    1512\n",
      "1.0      62\n",
      "Name: count, dtype: int64\n",
      "Timestep 108, Area 4 Attack DoS GoldenEye\n",
      "\u001b[92mAccuracy of GM Before: 0.9980940279542567 0.975609756097561 || 0.9982028241335045 0.9750889679715302 \u001b[0m \n",
      "DoS GoldenEye (6295, 81)\n"
     ]
    },
    {
     "data": {
      "text/plain": [
       "0"
      ]
     },
     "execution_count": 31,
     "metadata": {},
     "output_type": "execute_result"
    },
    {
     "name": "stdout",
     "output_type": "stream",
     "text": [
      "Label\n",
      "0.0    7998\n",
      "1.0     322\n",
      "Name: count, dtype: int64 Label\n",
      "0.0    1999\n",
      "1.0      81\n",
      "Name: count, dtype: int64\n",
      "Timestep 109, Area 0 Attack Infiltration - Portscan\n",
      "\u001b[92mAccuracy of GM Before: 0.9740384615384615 0.5 || 0.9744536182612918 0.5457685664939551 \u001b[0m \n",
      "GM New Data Size 8320\n",
      "GM Training Data Size (52959, 82)\n",
      "Start Training...\n",
      "ensemble size: 1\n",
      "epoch  1, training loss: 0.272630, time: 6.6s\n",
      "Start Inference on the training data...\n",
      "Accuracy of GM:  0.9987726586102719\n",
      "\u001b[34mAccuracy of GM After: 1.0 1.0 || 0.9987372510927635 0.9843561973525873 \u001b[0m \n",
      "Infiltration - Portscan (8320, 82)\n"
     ]
    },
    {
     "data": {
      "text/plain": [
       "10548"
      ]
     },
     "execution_count": 31,
     "metadata": {},
     "output_type": "execute_result"
    },
    {
     "name": "stdout",
     "output_type": "stream",
     "text": [
      "Label\n",
      "0.0    2379\n",
      "1.0      84\n",
      "Name: count, dtype: int64 Label\n",
      "0.0    595\n",
      "1.0     21\n",
      "Name: count, dtype: int64\n",
      "Timestep 113, Area 0 Attack SSH-Patator\n",
      "\u001b[92mAccuracy of GM Before: 0.9642857142857143 0.0 || 0.9563648293963255 0.0 \u001b[0m \n",
      "GM New Data Size 2463\n",
      "GM Training Data Size (55422, 82)\n",
      "Start Training...\n",
      "ensemble size: 1\n",
      "epoch  1, training loss: 0.270593, time: 7.3s\n",
      "Start Inference on the training data...\n",
      "Accuracy of GM:  0.9978349120433018\n",
      "\u001b[34mAccuracy of GM After: 0.9967532467532467 0.9523809523809523 || 0.9566929133858267 0.0 \u001b[0m \n",
      "SSH-Patator (2463, 82)\n"
     ]
    },
    {
     "data": {
      "text/plain": [
       "3316"
      ]
     },
     "execution_count": 31,
     "metadata": {},
     "output_type": "execute_result"
    },
    {
     "name": "stdout",
     "output_type": "stream",
     "text": [
      "Label\n",
      "0.0    8006\n",
      "1.0     314\n",
      "Name: count, dtype: int64 Label\n",
      "0.0    2001\n",
      "1.0      79\n",
      "Name: count, dtype: int64\n",
      "Timestep 128, Area 0 Attack Portscan\n",
      "\u001b[92mAccuracy of GM Before: 0.9951923076923077 0.9404761904761905 || 0.9990286546867412 0.9863387978142076 \u001b[0m \n",
      "GM New Data Size 8320\n",
      "GM Training Data Size (63742, 82)\n",
      "Start Training...\n",
      "ensemble size: 1\n",
      "epoch  1, training loss: 0.245643, time: 9.3s\n",
      "Start Inference on the training data...\n",
      "Accuracy of GM:  0.9981174994117186\n",
      "\u001b[34mAccuracy of GM After: 1.0 1.0 || 0.9996114618746964 0.9945205479452055 \u001b[0m \n",
      "Portscan (8320, 82)\n"
     ]
    },
    {
     "data": {
      "text/plain": [
       "10548"
      ]
     },
     "execution_count": 31,
     "metadata": {},
     "output_type": "execute_result"
    },
    {
     "name": "stdout",
     "output_type": "stream",
     "text": [
      "Label\n",
      "0.0    7992\n",
      "1.0     328\n",
      "Name: count, dtype: int64 Label\n",
      "0.0    1998\n",
      "1.0      82\n",
      "Name: count, dtype: int64\n",
      "Timestep 129, Area 3 Attack Infiltration - Portscan\n",
      "\u001b[92mAccuracy of GM Before: 0.9980769230769231 0.975 || 0.9887245596220917 0.8279671291930486 \u001b[0m \n",
      "Infiltration - Portscan (8320, 81)\n"
     ]
    },
    {
     "data": {
      "text/plain": [
       "0"
      ]
     },
     "execution_count": 31,
     "metadata": {},
     "output_type": "execute_result"
    },
    {
     "name": "stdout",
     "output_type": "stream",
     "text": [
      "Label\n",
      "0.0    3195\n",
      "1.0     109\n",
      "Name: count, dtype: int64 Label\n",
      "0.0    799\n",
      "1.0     27\n",
      "Name: count, dtype: int64\n",
      "Timestep 131, Area 0 Attack FTP-Patator\n",
      "\u001b[92mAccuracy of GM Before: 0.9963680387409201 0.9411764705882353 || 0.9996221550497866 0.99502196193265 \u001b[0m \n",
      "GM New Data Size 3304\n",
      "GM Training Data Size (67046, 82)\n",
      "Start Training...\n",
      "ensemble size: 1\n",
      "epoch  1, training loss: 0.243313, time: 10.2s\n",
      "Start Inference on the training data...\n",
      "Accuracy of GM:  0.9992542878448919\n",
      "\u001b[34mAccuracy of GM After: 1.0 1.0 || 0.9996666073968705 0.995605039554644 \u001b[0m \n",
      "FTP-Patator (3304, 82)\n"
     ]
    },
    {
     "data": {
      "text/plain": [
       "0"
      ]
     },
     "execution_count": 31,
     "metadata": {},
     "output_type": "execute_result"
    },
    {
     "name": "stdout",
     "output_type": "stream",
     "text": [
      "Label\n",
      "0.0    3084\n",
      "1.0     126\n",
      "Name: count, dtype: int64 Label\n",
      "0.0    771\n",
      "1.0     32\n",
      "Name: count, dtype: int64\n",
      "Timestep 134, Area 1 Attack DoS Slowloris\n",
      "\u001b[92mAccuracy of GM Before: 0.9975093399750934 0.967741935483871 || 0.9959718026183283 0.9470198675496688 \u001b[0m \n",
      "DoS Slowloris (3210, 81)\n"
     ]
    },
    {
     "data": {
      "text/plain": [
       "0"
      ]
     },
     "execution_count": 31,
     "metadata": {},
     "output_type": "execute_result"
    },
    {
     "name": "stdout",
     "output_type": "stream",
     "text": [
      "Label\n",
      "0.0    1385\n",
      "1.0      62\n",
      "Name: count, dtype: int64 Label\n",
      "0.0    346\n",
      "1.0     16\n",
      "Name: count, dtype: int64\n",
      "Timestep 137, Area 1 Attack DoS Slowhttptest\n",
      "\u001b[92mAccuracy of GM Before: 0.9972375690607734 0.9696969696969697 || 0.9966480446927374 0.95 \u001b[0m \n",
      "DoS Slowhttptest (1447, 81)\n"
     ]
    },
    {
     "data": {
      "text/plain": [
       "0"
      ]
     },
     "execution_count": 31,
     "metadata": {},
     "output_type": "execute_result"
    },
    {
     "name": "stdout",
     "output_type": "stream",
     "text": [
      "Label\n",
      "0.0    8028\n",
      "1.0     292\n",
      "Name: count, dtype: int64 Label\n",
      "0.0    2007\n",
      "1.0      73\n",
      "Name: count, dtype: int64\n",
      "Timestep 138, Area 0 Attack Portscan\n",
      "\u001b[92mAccuracy of GM Before: 0.9995192307692308 0.993103448275862 || 0.9999028654686741 0.9987484355444305 \u001b[0m \n",
      "Portscan (8320, 81)\n"
     ]
    },
    {
     "data": {
      "text/plain": [
       "0"
      ]
     },
     "execution_count": 31,
     "metadata": {},
     "output_type": "execute_result"
    },
    {
     "name": "stdout",
     "output_type": "stream",
     "text": [
      "Label\n",
      "0.0    3096\n",
      "1.0     114\n",
      "Name: count, dtype: int64 Label\n",
      "0.0    775\n",
      "1.0     28\n",
      "Name: count, dtype: int64\n",
      "Timestep 138, Area 1 Attack DoS Slowloris\n",
      "\u001b[92mAccuracy of GM Before: 0.9962640099626401 0.9433962264150944 || 0.9967270896273918 0.9579288025889967 \u001b[0m \n",
      "GM New Data Size 3210\n",
      "GM Training Data Size (34090, 82)\n",
      "Start Training...\n",
      "ensemble size: 1\n",
      "epoch  1, training loss: 0.520793, time: 2.9s\n",
      "Start Inference on the training data...\n",
      "Accuracy of GM:  0.9983866236432971\n",
      "\u001b[34mAccuracy of GM After: 0.9975093399750934 0.9629629629629629 || 0.9979859013091642 0.9746835443037974 \u001b[0m \n",
      "DoS Slowloris (3210, 82)\n"
     ]
    },
    {
     "data": {
      "text/plain": [
       "4276"
      ]
     },
     "execution_count": 31,
     "metadata": {},
     "output_type": "execute_result"
    },
    {
     "name": "stdout",
     "output_type": "stream",
     "text": [
      "Label\n",
      "0.0    3071\n",
      "1.0     139\n",
      "Name: count, dtype: int64 Label\n",
      "0.0    768\n",
      "1.0     35\n",
      "Name: count, dtype: int64\n",
      "Timestep 141, Area 1 Attack DoS Slowloris\n",
      "\u001b[92mAccuracy of GM Before: 0.9987546699875467 0.9855072463768116 || 0.9972306143001007 0.9621993127147767 \u001b[0m \n",
      "DoS Slowloris (3210, 81)\n"
     ]
    },
    {
     "data": {
      "text/plain": [
       "0"
      ]
     },
     "execution_count": 31,
     "metadata": {},
     "output_type": "execute_result"
    },
    {
     "name": "stdout",
     "output_type": "stream",
     "text": [
      "Label\n",
      "0.0    7975\n",
      "1.0     345\n",
      "Name: count, dtype: int64 Label\n",
      "0.0    1994\n",
      "1.0      86\n",
      "Name: count, dtype: int64\n",
      "Timestep 146, Area 0 Attack Portscan\n",
      "\u001b[92mAccuracy of GM Before: 0.9995192307692308 0.9941520467836257 || 0.9977659057795046 0.9696169088507266 \u001b[0m \n",
      "Portscan (8320, 81)\n"
     ]
    },
    {
     "data": {
      "text/plain": [
       "0"
      ]
     },
     "execution_count": 31,
     "metadata": {},
     "output_type": "execute_result"
    },
    {
     "name": "stdout",
     "output_type": "stream",
     "text": [
      "Label\n",
      "0.0    8022\n",
      "1.0     298\n",
      "Name: count, dtype: int64 Label\n",
      "0.0    2006\n",
      "1.0      74\n",
      "Name: count, dtype: int64\n",
      "Timestep 151, Area 1 Attack DoS Hulk\n",
      "\u001b[92mAccuracy of GM Before: 0.9990384615384615 0.9866666666666667 || 0.9989315201554152 0.9858064516129033 \u001b[0m \n",
      "DoS Hulk (8320, 81)\n"
     ]
    },
    {
     "data": {
      "text/plain": [
       "0"
      ]
     },
     "execution_count": 31,
     "metadata": {},
     "output_type": "execute_result"
    },
    {
     "name": "stdout",
     "output_type": "stream",
     "text": [
      "Label\n",
      "0.0    3088\n",
      "1.0     122\n",
      "Name: count, dtype: int64 Label\n",
      "0.0    773\n",
      "1.0     30\n",
      "Name: count, dtype: int64\n",
      "Timestep 151, Area 1 Attack DoS Slowloris\n",
      "\u001b[92mAccuracy of GM Before: 0.9950186799501868 0.9285714285714286 || 0.9977341389728097 0.9679715302491103 \u001b[0m \n",
      "GM New Data Size 3210\n",
      "GM Training Data Size (37300, 82)\n",
      "Start Training...\n",
      "ensemble size: 1\n",
      "epoch  1, training loss: 0.493107, time: 3.3s\n",
      "Start Inference on the training data...\n",
      "Accuracy of GM:  0.9983914209115281\n",
      "\u001b[34mAccuracy of GM After: 0.9962640099626401 0.9473684210526315 || 0.9977341389728097 0.9681978798586572 \u001b[0m \n",
      "DoS Slowloris (3210, 82)\n"
     ]
    },
    {
     "data": {
      "text/plain": [
       "4276"
      ]
     },
     "execution_count": 31,
     "metadata": {},
     "output_type": "execute_result"
    },
    {
     "name": "stdout",
     "output_type": "stream",
     "text": [
      "Label\n",
      "0.0    3188\n",
      "1.0     116\n",
      "Name: count, dtype: int64 Label\n",
      "0.0    797\n",
      "1.0     29\n",
      "Name: count, dtype: int64\n",
      "Timestep 160, Area 0 Attack FTP-Patator\n",
      "\u001b[92mAccuracy of GM Before: 0.9987893462469734 0.9824561403508771 || 0.99926614481409 0.9907120743034056 \u001b[0m \n",
      "FTP-Patator (3304, 81)\n"
     ]
    },
    {
     "data": {
      "text/plain": [
       "0"
      ]
     },
     "execution_count": 31,
     "metadata": {},
     "output_type": "execute_result"
    },
    {
     "name": "stdout",
     "output_type": "stream",
     "text": [
      "Label\n",
      "0.0    3074\n",
      "1.0     136\n",
      "Name: count, dtype: int64 Label\n",
      "0.0    769\n",
      "1.0     34\n",
      "Name: count, dtype: int64\n",
      "Timestep 166, Area 1 Attack DoS Slowloris\n",
      "\u001b[92mAccuracy of GM Before: 0.9975093399750934 0.9705882352941176 || 0.999496475327291 0.9931506849315068 \u001b[0m \n",
      "DoS Slowloris (3210, 81)\n"
     ]
    },
    {
     "data": {
      "text/plain": [
       "0"
      ]
     },
     "execution_count": 31,
     "metadata": {},
     "output_type": "execute_result"
    },
    {
     "name": "stdout",
     "output_type": "stream",
     "text": [
      "Label\n",
      "0.0    3174\n",
      "1.0     130\n",
      "Name: count, dtype: int64 Label\n",
      "0.0    793\n",
      "1.0     33\n",
      "Name: count, dtype: int64\n",
      "Timestep 175, Area 3 Attack FTP-Patator\n",
      "\u001b[92mAccuracy of GM Before: 0.9588377723970944 0.0 || 0.9559686888454012 0.0 \u001b[0m \n",
      "GM New Data Size 3304\n",
      "GM Training Data Size (19175, 82)\n",
      "Start Training...\n",
      "ensemble size: 1\n",
      "epoch  1, training loss: 0.661645, time: 1.0s\n",
      "Start Inference on the training data...\n",
      "Accuracy of GM:  0.9973924380704041\n",
      "\u001b[34mAccuracy of GM After: 0.9987893462469734 0.9850746268656716 || 0.99779843444227 0.9746478873239437 \u001b[0m \n",
      "FTP-Patator (3304, 82)\n"
     ]
    },
    {
     "data": {
      "text/plain": [
       "4340"
      ]
     },
     "execution_count": 31,
     "metadata": {},
     "output_type": "execute_result"
    },
    {
     "name": "stdout",
     "output_type": "stream",
     "text": [
      "Label\n",
      "0.0    3089\n",
      "1.0     121\n",
      "Name: count, dtype: int64 Label\n",
      "0.0    773\n",
      "1.0     30\n",
      "Name: count, dtype: int64\n",
      "Timestep 179, Area 1 Attack DoS Slowloris\n",
      "\u001b[92mAccuracy of GM Before: 0.9975093399750934 0.967741935483871 || 0.998992950654582 0.9876543209876543 \u001b[0m \n",
      "DoS Slowloris (3210, 81)\n"
     ]
    },
    {
     "data": {
      "text/plain": [
       "0"
      ]
     },
     "execution_count": 31,
     "metadata": {},
     "output_type": "execute_result"
    },
    {
     "name": "stdout",
     "output_type": "stream",
     "text": [
      "Label\n",
      "0.0    8025\n",
      "1.0     295\n",
      "Name: count, dtype: int64 Label\n",
      "0.0    2006\n",
      "1.0      74\n",
      "Name: count, dtype: int64\n",
      "Timestep 180, Area 1 Attack DDoS\n",
      "\u001b[92mAccuracy of GM Before: 0.9995192307692308 0.9932885906040269 || 0.999125789218067 0.9884169884169884 \u001b[0m \n",
      "DDoS (8320, 81)\n"
     ]
    },
    {
     "data": {
      "text/plain": [
       "0"
      ]
     },
     "execution_count": 31,
     "metadata": {},
     "output_type": "execute_result"
    },
    {
     "name": "stdout",
     "output_type": "stream",
     "text": [
      "Label\n",
      "0.0    2368\n",
      "1.0      95\n",
      "Name: count, dtype: int64 Label\n",
      "0.0    592\n",
      "1.0     24\n",
      "Name: count, dtype: int64\n",
      "Timestep 183, Area 3 Attack SSH-Patator\n",
      "\u001b[92mAccuracy of GM Before: 0.9545454545454546 0.0 || 0.9547244094488189 0.0 \u001b[0m \n",
      "GM New Data Size 2463\n",
      "GM Training Data Size (21638, 82)\n",
      "Start Training...\n",
      "ensemble size: 1\n",
      "epoch  1, training loss: 0.640031, time: 1.2s\n",
      "Start Inference on the training data...\n",
      "Accuracy of GM:  0.9976894639556377\n",
      "\u001b[34mAccuracy of GM After: 0.9935064935064936 0.92 || 0.9950787401574803 0.9411764705882353 \u001b[0m \n",
      "SSH-Patator (2463, 82)\n"
     ]
    },
    {
     "data": {
      "text/plain": [
       "3316"
      ]
     },
     "execution_count": 31,
     "metadata": {},
     "output_type": "execute_result"
    },
    {
     "name": "stdout",
     "output_type": "stream",
     "text": [
      "Label\n",
      "0.0    8006\n",
      "1.0     314\n",
      "Name: count, dtype: int64 Label\n",
      "0.0    2002\n",
      "1.0      78\n",
      "Name: count, dtype: int64\n",
      "Timestep 186, Area 2 Attack DoS Hulk\n",
      "\u001b[92mAccuracy of GM Before: 0.9600961538461539 0.06741573033707865 || 0.9581916913160566 0.01824590503835787 \u001b[0m \n",
      "GM New Data Size 8320\n",
      "GM Training Data Size (45010, 82)\n",
      "Start Training...\n",
      "ensemble size: 1\n",
      "epoch  1, training loss: 0.410700, time: 4.6s\n",
      "Start Inference on the training data...\n",
      "Accuracy of GM:  0.995334370139969\n",
      "\u001b[34mAccuracy of GM After: 0.9966346153846154 0.9570552147239264 || 0.994693391020264 0.934751927043752 \u001b[0m \n",
      "DoS Hulk (8320, 82)\n"
     ]
    },
    {
     "data": {
      "text/plain": [
       "0"
      ]
     },
     "execution_count": 31,
     "metadata": {},
     "output_type": "execute_result"
    },
    {
     "name": "stdout",
     "output_type": "stream",
     "text": [
      "Label\n",
      "0.0    2365\n",
      "1.0      98\n",
      "Name: count, dtype: int64 Label\n",
      "0.0    592\n",
      "1.0     24\n",
      "Name: count, dtype: int64\n",
      "Timestep 187, Area 2 Attack SSH-Patator\n",
      "\u001b[92mAccuracy of GM Before: 0.9967532467532467 0.9583333333333334 || 0.9921259842519685 0.9032258064516129 \u001b[0m \n",
      "GM New Data Size 2463\n",
      "GM Training Data Size (47473, 82)\n",
      "Start Training...\n",
      "ensemble size: 1\n",
      "epoch  1, training loss: 0.388178, time: 5.3s\n",
      "Start Inference on the training data...\n",
      "Accuracy of GM:  0.9959978936282253\n",
      "\u001b[34mAccuracy of GM After: 0.9967532467532467 0.9583333333333334 || 0.993766404199475 0.9218106995884774 \u001b[0m \n",
      "SSH-Patator (2463, 82)\n"
     ]
    },
    {
     "data": {
      "text/plain": [
       "3316"
      ]
     },
     "execution_count": 31,
     "metadata": {},
     "output_type": "execute_result"
    },
    {
     "name": "stdout",
     "output_type": "stream",
     "text": [
      "Label\n",
      "0.0    1389\n",
      "1.0      58\n",
      "Name: count, dtype: int64 Label\n",
      "0.0    348\n",
      "1.0     14\n",
      "Name: count, dtype: int64\n",
      "Timestep 187, Area 3 Attack DoS Slowhttptest\n",
      "\u001b[92mAccuracy of GM Before: 0.9917127071823204 0.88 || 0.9949720670391061 0.9403973509933775 \u001b[0m \n",
      "GM New Data Size 1447\n",
      "GM Training Data Size (23085, 82)\n",
      "Start Training...\n",
      "ensemble size: 1\n",
      "epoch  1, training loss: 0.603963, time: 1.4s\n",
      "Start Inference on the training data...\n",
      "Accuracy of GM:  0.9948018193632229\n",
      "\u001b[34mAccuracy of GM After: 0.9972375690607734 0.9629629629629629 || 0.9955307262569832 0.9473684210526315 \u001b[0m \n",
      "DoS Slowhttptest (1447, 82)\n"
     ]
    },
    {
     "data": {
      "text/plain": [
       "2036"
      ]
     },
     "execution_count": 31,
     "metadata": {},
     "output_type": "execute_result"
    },
    {
     "name": "stdout",
     "output_type": "stream",
     "text": [
      "Label\n",
      "0.0    3064\n",
      "1.0     146\n",
      "Name: count, dtype: int64 Label\n",
      "0.0    767\n",
      "1.0     36\n",
      "Name: count, dtype: int64\n",
      "Timestep 189, Area 1 Attack DoS Slowloris\n",
      "\u001b[92mAccuracy of GM Before: 0.9962640099626401 0.958904109589041 || 0.9992447129909365 0.989010989010989 \u001b[0m \n",
      "GM New Data Size 3210\n",
      "GM Training Data Size (40510, 82)\n",
      "Start Training...\n",
      "ensemble size: 1\n",
      "epoch  1, training loss: 0.458225, time: 3.8s\n",
      "Start Inference on the training data...\n",
      "Accuracy of GM:  0.9988891631695878\n",
      "\u001b[34mAccuracy of GM After: 0.9975093399750934 0.9714285714285714 || 0.9987411883182276 0.9814126394052045 \u001b[0m \n",
      "DoS Slowloris (3210, 82)\n"
     ]
    },
    {
     "data": {
      "text/plain": [
       "4276"
      ]
     },
     "execution_count": 31,
     "metadata": {},
     "output_type": "execute_result"
    },
    {
     "name": "stdout",
     "output_type": "stream",
     "text": [
      "Label\n",
      "0.0    8019\n",
      "1.0     301\n",
      "Name: count, dtype: int64 Label\n",
      "0.0    2005\n",
      "1.0      75\n",
      "Name: count, dtype: int64\n",
      "Timestep 190, Area 1 Attack DDoS\n",
      "\u001b[92mAccuracy of GM Before: 0.9995192307692308 0.9932885906040269 || 0.9995761776522007 0.9944572748267898 \u001b[0m \n",
      "DDoS (8320, 81)\n"
     ]
    },
    {
     "data": {
      "text/plain": [
       "0"
      ]
     },
     "execution_count": 31,
     "metadata": {},
     "output_type": "execute_result"
    },
    {
     "name": "stdout",
     "output_type": "stream",
     "text": [
      "Label\n",
      "0.0    8031\n",
      "1.0     289\n",
      "Name: count, dtype: int64 Label\n",
      "0.0    2008\n",
      "1.0      72\n",
      "Name: count, dtype: int64\n",
      "Timestep 194, Area 1 Attack DDoS\n",
      "\u001b[92mAccuracy of GM Before: 1.0 1.0 || 0.9995143273433705 0.9939975990396158 \u001b[0m \n",
      "DDoS (8320, 81)\n"
     ]
    },
    {
     "data": {
      "text/plain": [
       "0"
      ]
     },
     "execution_count": 31,
     "metadata": {},
     "output_type": "execute_result"
    },
    {
     "name": "stdout",
     "output_type": "stream",
     "text": [
      "Label\n",
      "0.0    6054\n",
      "1.0     241\n",
      "Name: count, dtype: int64 Label\n",
      "0.0    1514\n",
      "1.0      60\n",
      "Name: count, dtype: int64\n",
      "Timestep 195, Area 4 Attack DoS GoldenEye\n",
      "\u001b[92mAccuracy of GM Before: 1.0 1.0 || 0.9989730423620026 0.9862542955326461 \u001b[0m \n",
      "DoS GoldenEye (6295, 81)\n"
     ]
    },
    {
     "data": {
      "text/plain": [
       "0"
      ]
     },
     "execution_count": 31,
     "metadata": {},
     "output_type": "execute_result"
    },
    {
     "name": "stdout",
     "output_type": "stream",
     "text": [
      "Label\n",
      "0.0    8027\n",
      "1.0     293\n",
      "Name: count, dtype: int64 Label\n",
      "0.0    2007\n",
      "1.0      73\n",
      "Name: count, dtype: int64\n",
      "Timestep 200, Area 3 Attack Infiltration - Portscan\n",
      "\u001b[92mAccuracy of GM Before: 0.9961538461538462 0.9473684210526315 || 0.9946576007770762 0.932349323493235 \u001b[0m \n",
      "GM New Data Size 8320\n",
      "GM Training Data Size (31405, 82)\n",
      "Start Training...\n",
      "ensemble size: 1\n",
      "epoch  1, training loss: 0.509697, time: 2.5s\n",
      "Start Inference on the training data...\n",
      "Accuracy of GM:  0.9968157936634294\n",
      "\u001b[34mAccuracy of GM After: 0.9980769230769231 0.9722222222222222 || 0.9984458474987858 0.979002624671916 \u001b[0m \n",
      "Infiltration - Portscan (8320, 82)\n"
     ]
    },
    {
     "data": {
      "text/plain": [
       "10548"
      ]
     },
     "execution_count": 31,
     "metadata": {},
     "output_type": "execute_result"
    },
    {
     "name": "stdout",
     "output_type": "stream",
     "text": [
      "Label\n",
      "0.0    3098\n",
      "1.0     112\n",
      "Name: count, dtype: int64 Label\n",
      "0.0    775\n",
      "1.0     28\n",
      "Name: count, dtype: int64\n",
      "Timestep 201, Area 3 Attack DoS Slowloris\n",
      "\u001b[92mAccuracy of GM Before: 0.9962640099626401 0.9433962264150944 || 0.9886706948640483 0.8409893992932862 \u001b[0m \n",
      "GM New Data Size 3210\n",
      "GM Training Data Size (34615, 82)\n",
      "Start Training...\n",
      "ensemble size: 1\n",
      "epoch  1, training loss: 0.469848, time: 2.9s\n",
      "Start Inference on the training data...\n",
      "Accuracy of GM:  0.9952332803697819\n",
      "\u001b[34mAccuracy of GM After: 0.9950186799501868 0.9285714285714286 || 0.9939577039274925 0.922077922077922 \u001b[0m \n",
      "DoS Slowloris (3210, 82)\n"
     ]
    },
    {
     "data": {
      "text/plain": [
       "4276"
      ]
     },
     "execution_count": 31,
     "metadata": {},
     "output_type": "execute_result"
    },
    {
     "name": "stdout",
     "output_type": "stream",
     "text": [
      "Label\n",
      "0.0    3098\n",
      "1.0     112\n",
      "Name: count, dtype: int64 Label\n",
      "0.0    775\n",
      "1.0     28\n",
      "Name: count, dtype: int64\n",
      "Timestep 209, Area 3 Attack DoS Slowloris\n",
      "\u001b[92mAccuracy of GM Before: 0.9937733499377335 0.9019607843137255 || 0.9942094662638469 0.9204152249134948 \u001b[0m \n",
      "GM New Data Size 3210\n",
      "GM Training Data Size (37825, 82)\n",
      "Start Training...\n",
      "ensemble size: 1\n",
      "epoch  1, training loss: 0.444952, time: 3.4s\n",
      "Start Inference on the training data...\n",
      "Accuracy of GM:  0.9960343688037012\n",
      "\u001b[34mAccuracy of GM After: 0.9975093399750934 0.9629629629629629 || 0.9942094662638469 0.9175627240143369 \u001b[0m \n",
      "DoS Slowloris (3210, 82)\n"
     ]
    },
    {
     "data": {
      "text/plain": [
       "4276"
      ]
     },
     "execution_count": 31,
     "metadata": {},
     "output_type": "execute_result"
    },
    {
     "name": "stdout",
     "output_type": "stream",
     "text": [
      "Label\n",
      "0.0    8006\n",
      "1.0     314\n",
      "Name: count, dtype: int64 Label\n",
      "0.0    2001\n",
      "1.0      79\n",
      "Name: count, dtype: int64\n",
      "Timestep 211, Area 2 Attack DDoS\n",
      "\u001b[92mAccuracy of GM Before: 0.9975961538461539 0.9693251533742331 || 0.9968916949975717 0.963718820861678 \u001b[0m \n",
      "DDoS (8320, 81)\n"
     ]
    },
    {
     "data": {
      "text/plain": [
       "0"
      ]
     },
     "execution_count": 31,
     "metadata": {},
     "output_type": "execute_result"
    },
    {
     "name": "stdout",
     "output_type": "stream",
     "text": [
      "Label\n",
      "0.0    2371\n",
      "1.0      92\n",
      "Name: count, dtype: int64 Label\n",
      "0.0    593\n",
      "1.0     23\n",
      "Name: count, dtype: int64\n",
      "Timestep 218, Area 2 Attack SSH-Patator\n",
      "\u001b[92mAccuracy of GM Before: 0.9983766233766234 0.9787234042553191 || 0.994750656167979 0.9292035398230089 \u001b[0m \n",
      "SSH-Patator (2463, 81)\n"
     ]
    },
    {
     "data": {
      "text/plain": [
       "0"
      ]
     },
     "execution_count": 31,
     "metadata": {},
     "output_type": "execute_result"
    },
    {
     "name": "stdout",
     "output_type": "stream",
     "text": [
      "Label\n",
      "0.0    7995\n",
      "1.0     325\n",
      "Name: count, dtype: int64 Label\n",
      "0.0    1999\n",
      "1.0      81\n",
      "Name: count, dtype: int64\n",
      "Timestep 221, Area 1 Attack DDoS\n",
      "\u001b[92mAccuracy of GM Before: 0.9995192307692308 0.9938650306748467 || 1.0 1.0 \u001b[0m \n",
      "DDoS (8320, 81)\n"
     ]
    },
    {
     "data": {
      "text/plain": [
       "0"
      ]
     },
     "execution_count": 31,
     "metadata": {},
     "output_type": "execute_result"
    },
    {
     "name": "stdout",
     "output_type": "stream",
     "text": [
      "Label\n",
      "0.0    2359\n",
      "1.0     104\n",
      "Name: count, dtype: int64 Label\n",
      "0.0    590\n",
      "1.0     26\n",
      "Name: count, dtype: int64\n",
      "Timestep 221, Area 1 Attack SSH-Patator\n",
      "\u001b[92mAccuracy of GM Before: 1.0 1.0 || 0.9993438320209974 0.9923076923076923 \u001b[0m \n",
      "SSH-Patator (2463, 81)\n"
     ]
    },
    {
     "data": {
      "text/plain": [
       "0"
      ]
     },
     "execution_count": 31,
     "metadata": {},
     "output_type": "execute_result"
    },
    {
     "name": "stdout",
     "output_type": "stream",
     "text": [
      "Label\n",
      "0.0    8008\n",
      "1.0     312\n",
      "Name: count, dtype: int64 Label\n",
      "0.0    2002\n",
      "1.0      78\n",
      "Name: count, dtype: int64\n",
      "Timestep 222, Area 1 Attack DDoS\n",
      "\u001b[92mAccuracy of GM Before: 1.0 1.0 || 0.9995143273433705 0.9929078014184397 \u001b[0m \n",
      "DDoS (8320, 81)\n"
     ]
    },
    {
     "data": {
      "text/plain": [
       "0"
      ]
     },
     "execution_count": 31,
     "metadata": {},
     "output_type": "execute_result"
    },
    {
     "name": "stdout",
     "output_type": "stream",
     "text": [
      "Label\n",
      "0.0    8016\n",
      "1.0     304\n",
      "Name: count, dtype: int64 Label\n",
      "0.0    2004\n",
      "1.0      76\n",
      "Name: count, dtype: int64\n",
      "Timestep 222, Area 2 Attack DDoS\n",
      "\u001b[92mAccuracy of GM Before: 0.9975961538461539 0.9681528662420382 || 0.9966974259349198 0.9602803738317757 \u001b[0m \n",
      "DDoS (8320, 81)\n"
     ]
    },
    {
     "data": {
      "text/plain": [
       "0"
      ]
     },
     "execution_count": 31,
     "metadata": {},
     "output_type": "execute_result"
    },
    {
     "name": "stdout",
     "output_type": "stream",
     "text": [
      "Label\n",
      "0.0    3190\n",
      "1.0     114\n",
      "Name: count, dtype: int64 Label\n",
      "0.0    798\n",
      "1.0     28\n",
      "Name: count, dtype: int64\n",
      "Timestep 223, Area 0 Attack FTP-Patator\n",
      "\u001b[92mAccuracy of GM Before: 0.9975786924939467 0.9629629629629629 || 0.9997553816046967 0.9968847352024922 \u001b[0m \n",
      "FTP-Patator (3304, 81)\n"
     ]
    },
    {
     "data": {
      "text/plain": [
       "0"
      ]
     },
     "execution_count": 31,
     "metadata": {},
     "output_type": "execute_result"
    },
    {
     "name": "stdout",
     "output_type": "stream",
     "text": [
      "Label\n",
      "0.0    1397\n",
      "1.0      50\n",
      "Name: count, dtype: int64 Label\n",
      "0.0    349\n",
      "1.0     13\n",
      "Name: count, dtype: int64\n",
      "Timestep 226, Area 1 Attack DoS Slowhttptest\n",
      "\u001b[92mAccuracy of GM Before: 0.994475138121547 0.9166666666666666 || 0.993854748603352 0.9133858267716536 \u001b[0m \n",
      "GM New Data Size 1447\n",
      "GM Training Data Size (41957, 82)\n",
      "Start Training...\n",
      "ensemble size: 1\n",
      "epoch  1, training loss: 0.449947, time: 4.0s\n",
      "Start Inference on the training data...\n",
      "Accuracy of GM:  0.9986892278360343\n",
      "\u001b[34mAccuracy of GM After: 1.0 1.0 || 0.9994413407821229 0.9927007299270073 \u001b[0m \n",
      "DoS Slowhttptest (1447, 82)\n"
     ]
    },
    {
     "data": {
      "text/plain": [
       "2036"
      ]
     },
     "execution_count": 31,
     "metadata": {},
     "output_type": "execute_result"
    },
    {
     "name": "stdout",
     "output_type": "stream",
     "text": [
      "Label\n",
      "0.0    2358\n",
      "1.0     105\n",
      "Name: count, dtype: int64 Label\n",
      "0.0    590\n",
      "1.0     26\n",
      "Name: count, dtype: int64\n",
      "Timestep 229, Area 2 Attack SSH-Patator\n",
      "\u001b[92mAccuracy of GM Before: 0.9967532467532467 0.9629629629629629 || 0.9962132506410639 0.9510974201001156 \u001b[0m \n",
      "SSH-Patator (2463, 81)\n"
     ]
    },
    {
     "data": {
      "text/plain": [
       "0"
      ]
     },
     "execution_count": 31,
     "metadata": {},
     "output_type": "execute_result"
    },
    {
     "name": "stdout",
     "output_type": "stream",
     "text": [
      "Label\n",
      "0.0    8009\n",
      "1.0     311\n",
      "Name: count, dtype: int64 Label\n",
      "0.0    2002\n",
      "1.0      78\n",
      "Name: count, dtype: int64\n",
      "Timestep 232, Area 3 Attack Infiltration - Portscan\n",
      "\u001b[92mAccuracy of GM Before: 1.0 1.0 || 0.9975716367168529 0.9690210656753407 \u001b[0m \n",
      "Infiltration - Portscan (8320, 81)\n"
     ]
    },
    {
     "data": {
      "text/plain": [
       "0"
      ]
     },
     "execution_count": 31,
     "metadata": {},
     "output_type": "execute_result"
    },
    {
     "name": "stdout",
     "output_type": "stream",
     "text": [
      "Label\n",
      "0.0    6057\n",
      "1.0     238\n",
      "Name: count, dtype: int64 Label\n",
      "0.0    1514\n",
      "1.0      60\n",
      "Name: count, dtype: int64\n",
      "Timestep 238, Area 4 Attack DoS GoldenEye\n",
      "\u001b[92mAccuracy of GM Before: 0.9987293519695044 0.9833333333333333 || 0.9978414580076074 0.9713400464756003 \u001b[0m \n",
      "DoS GoldenEye (6295, 81)\n"
     ]
    },
    {
     "data": {
      "text/plain": [
       "0"
      ]
     },
     "execution_count": 31,
     "metadata": {},
     "output_type": "execute_result"
    },
    {
     "name": "stdout",
     "output_type": "stream",
     "text": [
      "Label\n",
      "0.0    3183\n",
      "1.0     121\n",
      "Name: count, dtype: int64 Label\n",
      "0.0    796\n",
      "1.0     30\n",
      "Name: count, dtype: int64\n",
      "Timestep 238, Area 0 Attack FTP-Patator\n",
      "\u001b[92mAccuracy of GM Before: 1.0 1.0 || 0.9997553816046967 0.9966777408637874 \u001b[0m \n",
      "FTP-Patator (3304, 81)\n"
     ]
    },
    {
     "data": {
      "text/plain": [
       "0"
      ]
     },
     "execution_count": 31,
     "metadata": {},
     "output_type": "execute_result"
    },
    {
     "name": "stdout",
     "output_type": "stream",
     "text": [
      "Label\n",
      "0.0    1401\n",
      "1.0      46\n",
      "Name: count, dtype: int64 Label\n",
      "0.0    351\n",
      "1.0     11\n",
      "Name: count, dtype: int64\n",
      "Timestep 238, Area 2 Attack DoS Slowhttptest\n",
      "\u001b[92mAccuracy of GM Before: 0.9972375690607734 0.9565217391304348 || 0.993854748603352 0.9281045751633987 \u001b[0m \n",
      "GM New Data Size 1447\n",
      "GM Training Data Size (48920, 82)\n",
      "Start Training...\n",
      "ensemble size: 1\n",
      "epoch  1, training loss: 0.393120, time: 5.7s\n",
      "Start Inference on the training data...\n",
      "Accuracy of GM:  0.9967293540474244\n",
      "\u001b[34mAccuracy of GM After: 0.9972375690607734 0.9565217391304348 || 0.993854748603352 0.9281045751633987 \u001b[0m \n",
      "DoS Slowhttptest (1447, 82)\n"
     ]
    },
    {
     "data": {
      "text/plain": [
       "2036"
      ]
     },
     "execution_count": 31,
     "metadata": {},
     "output_type": "execute_result"
    },
    {
     "name": "stdout",
     "output_type": "stream",
     "text": [
      "Label\n",
      "0.0    8018\n",
      "1.0     302\n",
      "Name: count, dtype: int64 Label\n",
      "0.0    2005\n",
      "1.0      75\n",
      "Name: count, dtype: int64\n",
      "Timestep 240, Area 4 Attack Portscan\n",
      "\u001b[92mAccuracy of GM Before: 0.9572115384615385 0.0 || 0.9562894609033511 0.0 \u001b[0m \n",
      "GM New Data Size 8320\n",
      "GM Training Data Size (22935, 82)\n",
      "Start Training...\n",
      "ensemble size: 1\n",
      "epoch  1, training loss: 0.513837, time: 1.4s\n",
      "Start Inference on the training data...\n",
      "Accuracy of GM:  0.9938957924569435\n",
      "\u001b[34mAccuracy of GM After: 0.9956730769230769 0.9419354838709677 || 0.995726080621661 0.947242206235012 \u001b[0m \n",
      "Portscan (8320, 82)\n"
     ]
    },
    {
     "data": {
      "text/plain": [
       "10548"
      ]
     },
     "execution_count": 31,
     "metadata": {},
     "output_type": "execute_result"
    },
    {
     "name": "stdout",
     "output_type": "stream",
     "text": [
      "Label\n",
      "0.0    8002\n",
      "1.0     318\n",
      "Name: count, dtype: int64 Label\n",
      "0.0    2000\n",
      "1.0      80\n",
      "Name: count, dtype: int64\n",
      "Timestep 241, Area 0 Attack Portscan\n",
      "\u001b[92mAccuracy of GM Before: 0.9995192307692308 0.9937106918238994 || 0.9994171928120447 0.9922279792746114 \u001b[0m \n",
      "Portscan (8320, 81)\n"
     ]
    },
    {
     "data": {
      "text/plain": [
       "0"
      ]
     },
     "execution_count": 31,
     "metadata": {},
     "output_type": "execute_result"
    },
    {
     "name": "stdout",
     "output_type": "stream",
     "text": [
      "Label\n",
      "0.0    8019\n",
      "1.0     301\n",
      "Name: count, dtype: int64 Label\n",
      "0.0    2005\n",
      "1.0      75\n",
      "Name: count, dtype: int64\n",
      "Timestep 241, Area 2 Attack DoS Hulk\n",
      "\u001b[92mAccuracy of GM Before: 0.9966346153846154 0.9548387096774194 || 0.9950461389023798 0.9378806333739342 \u001b[0m \n",
      "GM New Data Size 8320\n",
      "GM Training Data Size (57240, 82)\n",
      "Start Training...\n",
      "ensemble size: 1\n",
      "epoch  1, training loss: 0.356592, time: 7.8s\n",
      "Start Inference on the training data...\n",
      "Accuracy of GM:  0.9977288609364081\n",
      "\u001b[34mAccuracy of GM After: 0.9975961538461539 0.9659863945578231 || 0.9972802331228752 0.9638242894056848 \u001b[0m \n",
      "DoS Hulk (8320, 82)\n"
     ]
    },
    {
     "data": {
      "text/plain": [
       "10548"
      ]
     },
     "execution_count": 31,
     "metadata": {},
     "output_type": "execute_result"
    },
    {
     "name": "stdout",
     "output_type": "stream",
     "text": [
      "Label\n",
      "0.0    2380\n",
      "1.0      83\n",
      "Name: count, dtype: int64 Label\n",
      "0.0    595\n",
      "1.0     21\n",
      "Name: count, dtype: int64\n",
      "Timestep 245, Area 0 Attack SSH-Patator\n",
      "\u001b[92mAccuracy of GM Before: 0.9626623376623377 0.0 || 0.9645669291338582 0.0 \u001b[0m \n",
      "GM New Data Size 2463\n",
      "GM Training Data Size (69509, 82)\n",
      "Start Training...\n",
      "ensemble size: 1\n",
      "epoch  1, training loss: 0.255164, time: 10.9s\n",
      "Start Inference on the training data...\n",
      "Accuracy of GM:  0.9983455617896706\n",
      "\u001b[34mAccuracy of GM After: 0.987012987012987 0.7894736842105263 || 0.9855643044619422 0.7441860465116279 \u001b[0m \n",
      "SSH-Patator (2463, 82)\n"
     ]
    },
    {
     "data": {
      "text/plain": [
       "3316"
      ]
     },
     "execution_count": 31,
     "metadata": {},
     "output_type": "execute_result"
    },
    {
     "name": "stdout",
     "output_type": "stream",
     "text": [
      "Label\n",
      "0.0    7981\n",
      "1.0     339\n",
      "Name: count, dtype: int64 Label\n",
      "0.0    1995\n",
      "1.0      85\n",
      "Name: count, dtype: int64\n",
      "Timestep 246, Area 0 Attack Portscan\n",
      "\u001b[92mAccuracy of GM Before: 1.0 1.0 || 0.9984458474987858 0.9809523809523809 \u001b[0m \n",
      "Portscan (8320, 81)\n"
     ]
    },
    {
     "data": {
      "text/plain": [
       "0"
      ]
     },
     "execution_count": 31,
     "metadata": {},
     "output_type": "execute_result"
    },
    {
     "name": "stdout",
     "output_type": "stream",
     "text": [
      "Label\n",
      "0.0    1389\n",
      "1.0      58\n",
      "Name: count, dtype: int64 Label\n",
      "0.0    348\n",
      "1.0     14\n",
      "Name: count, dtype: int64\n",
      "Timestep 247, Area 0 Attack DoS Slowhttptest\n",
      "\u001b[92mAccuracy of GM Before: 0.9558011049723757 0.0 || 0.9692737430167597 0.0 \u001b[0m \n",
      "GM New Data Size 1447\n",
      "GM Training Data Size (70956, 82)\n",
      "Start Training...\n",
      "ensemble size: 1\n",
      "epoch  1, training loss: 0.240586, time: 11.2s\n",
      "Start Inference on the training data...\n",
      "Accuracy of GM:  0.9988021420518602\n",
      "\u001b[34mAccuracy of GM After: 0.9917127071823204 0.896551724137931 || 0.9782122905027933 0.4507042253521127 \u001b[0m \n",
      "DoS Slowhttptest (1447, 82)\n"
     ]
    },
    {
     "data": {
      "text/plain": [
       "2036"
      ]
     },
     "execution_count": 31,
     "metadata": {},
     "output_type": "execute_result"
    },
    {
     "name": "stdout",
     "output_type": "stream",
     "text": [
      "Label\n",
      "0.0    3184\n",
      "1.0     120\n",
      "Name: count, dtype: int64 Label\n",
      "0.0    796\n",
      "1.0     30\n",
      "Name: count, dtype: int64\n",
      "Timestep 249, Area 0 Attack FTP-Patator\n",
      "\u001b[92mAccuracy of GM Before: 0.9987893462469734 0.9836065573770492 || 0.99926614481409 0.9904153354632588 \u001b[0m \n",
      "FTP-Patator (3304, 81)\n"
     ]
    },
    {
     "data": {
      "text/plain": [
       "0"
      ]
     },
     "execution_count": 31,
     "metadata": {},
     "output_type": "execute_result"
    },
    {
     "name": "stdout",
     "output_type": "stream",
     "text": [
      "Label\n",
      "0.0    1401\n",
      "1.0      46\n",
      "Name: count, dtype: int64 Label\n",
      "0.0    350\n",
      "1.0     12\n",
      "Name: count, dtype: int64\n",
      "Timestep 249, Area 0 Attack DoS Slowhttptest\n",
      "\u001b[92mAccuracy of GM Before: 0.9834254143646409 0.7272727272727273 || 0.9654000304398559 0.33528265107212474 \u001b[0m \n",
      "GM New Data Size 1447\n",
      "GM Training Data Size (72403, 82)\n",
      "Start Training...\n",
      "ensemble size: 1\n",
      "epoch  1, training loss: 0.244606, time: 11.7s\n",
      "Start Inference on the training data...\n",
      "Accuracy of GM:  0.9993094399558041\n",
      "\u001b[34mAccuracy of GM After: 0.988950276243094 0.8181818181818182 || 0.9620516462888742 0.21920668058455114 \u001b[0m \n",
      "DoS Slowhttptest (1447, 82)\n"
     ]
    },
    {
     "data": {
      "text/plain": [
       "19956"
      ]
     },
     "execution_count": 31,
     "metadata": {},
     "output_type": "execute_result"
    },
    {
     "name": "stdout",
     "output_type": "stream",
     "text": [
      "Label\n",
      "0.0    3170\n",
      "1.0     134\n",
      "Name: count, dtype: int64 Label\n",
      "0.0    792\n",
      "1.0     34\n",
      "Name: count, dtype: int64\n",
      "Timestep 251, Area 0 Attack FTP-Patator\n",
      "\u001b[92mAccuracy of GM Before: 1.0 1.0 || 1.0 1.0 \u001b[0m \n",
      "FTP-Patator (3304, 81)\n"
     ]
    },
    {
     "data": {
      "text/plain": [
       "0"
      ]
     },
     "execution_count": 31,
     "metadata": {},
     "output_type": "execute_result"
    },
    {
     "name": "stdout",
     "output_type": "stream",
     "text": [
      "Label\n",
      "0.0    7979\n",
      "1.0     341\n",
      "Name: count, dtype: int64 Label\n",
      "0.0    1995\n",
      "1.0      85\n",
      "Name: count, dtype: int64\n",
      "Timestep 257, Area 1 Attack DoS Hulk\n",
      "\u001b[92mAccuracy of GM Before: 0.9990384615384615 0.9883720930232558 || 0.9990286546867412 0.9863387978142076 \u001b[0m \n",
      "DoS Hulk (8320, 81)\n"
     ]
    },
    {
     "data": {
      "text/plain": [
       "0"
      ]
     },
     "execution_count": 31,
     "metadata": {},
     "output_type": "execute_result"
    },
    {
     "name": "stdout",
     "output_type": "stream",
     "text": [
      "Label\n",
      "0.0    3088\n",
      "1.0     122\n",
      "Name: count, dtype: int64 Label\n",
      "0.0    772\n",
      "1.0     31\n",
      "Name: count, dtype: int64\n",
      "Timestep 259, Area 3 Attack DoS Slowloris\n",
      "\u001b[92mAccuracy of GM Before: 0.9900373599003736 0.8620689655172413 || 0.9910313901345291 0.8762626262626263 \u001b[0m \n",
      "GM New Data Size 3210\n",
      "GM Training Data Size (41035, 82)\n",
      "Start Training...\n",
      "ensemble size: 1\n",
      "epoch  1, training loss: 0.433535, time: 3.8s\n",
      "Start Inference on the training data...\n",
      "Accuracy of GM:  0.9962227366881931\n",
      "\u001b[34mAccuracy of GM After: 0.9937733499377335 0.9180327868852459 || 0.99235837832891 0.8971674876847291 \u001b[0m \n",
      "DoS Slowloris (3210, 82)\n"
     ]
    },
    {
     "data": {
      "text/plain": [
       "0"
      ]
     },
     "execution_count": 31,
     "metadata": {},
     "output_type": "execute_result"
    },
    {
     "name": "stdout",
     "output_type": "stream",
     "text": [
      "Label\n",
      "0.0    3084\n",
      "1.0     126\n",
      "Name: count, dtype: int64 Label\n",
      "0.0    771\n",
      "1.0     32\n",
      "Name: count, dtype: int64\n",
      "Timestep 263, Area 2 Attack DoS Slowloris\n",
      "\u001b[92mAccuracy of GM Before: 0.9601494396014943 0.0 || 0.9587109768378651 0.03529411764705882 \u001b[0m \n",
      "GM New Data Size 3210\n",
      "GM Training Data Size (60450, 82)\n",
      "Start Training...\n",
      "ensemble size: 1\n",
      "epoch  1, training loss: 0.380093, time: 8.5s\n",
      "Start Inference on the training data...\n",
      "Accuracy of GM:  0.9972704714640198\n",
      "\u001b[34mAccuracy of GM After: 0.9950186799501868 0.9354838709677419 || 0.9939577039274925 0.9215686274509803 \u001b[0m \n",
      "DoS Slowloris (3210, 82)\n"
     ]
    },
    {
     "data": {
      "text/plain": [
       "4276"
      ]
     },
     "execution_count": 31,
     "metadata": {},
     "output_type": "execute_result"
    },
    {
     "name": "stdout",
     "output_type": "stream",
     "text": [
      "Label\n",
      "0.0    8007\n",
      "1.0     313\n",
      "Name: count, dtype: int64 Label\n",
      "0.0    2002\n",
      "1.0      78\n",
      "Name: count, dtype: int64\n",
      "Timestep 268, Area 2 Attack Portscan\n",
      "\u001b[92mAccuracy of GM Before: 0.9990384615384615 0.9873417721518988 || 0.9966974259349198 0.955026455026455 \u001b[0m \n",
      "Portscan (8320, 81)\n"
     ]
    },
    {
     "data": {
      "text/plain": [
       "0"
      ]
     },
     "execution_count": 31,
     "metadata": {},
     "output_type": "execute_result"
    },
    {
     "name": "stdout",
     "output_type": "stream",
     "text": [
      "Label\n",
      "0.0    3180\n",
      "1.0     124\n",
      "Name: count, dtype: int64 Label\n",
      "0.0    795\n",
      "1.0     31\n",
      "Name: count, dtype: int64\n",
      "Timestep 268, Area 0 Attack FTP-Patator\n",
      "\u001b[92mAccuracy of GM Before: 0.9987893462469734 0.9836065573770492 || 1.0 1.0 \u001b[0m \n",
      "FTP-Patator (3304, 81)\n"
     ]
    },
    {
     "data": {
      "text/plain": [
       "0"
      ]
     },
     "execution_count": 31,
     "metadata": {},
     "output_type": "execute_result"
    },
    {
     "name": "stdout",
     "output_type": "stream",
     "text": [
      "Label\n",
      "0.0    3179\n",
      "1.0     125\n",
      "Name: count, dtype: int64 Label\n",
      "0.0    795\n",
      "1.0     31\n",
      "Name: count, dtype: int64\n",
      "Timestep 270, Area 0 Attack FTP-Patator\n",
      "\u001b[92mAccuracy of GM Before: 1.0 1.0 || 1.0 1.0 \u001b[0m \n",
      "FTP-Patator (3304, 81)\n"
     ]
    },
    {
     "data": {
      "text/plain": [
       "0"
      ]
     },
     "execution_count": 31,
     "metadata": {},
     "output_type": "execute_result"
    },
    {
     "name": "stdout",
     "output_type": "stream",
     "text": [
      "Label\n",
      "0.0    2365\n",
      "1.0      98\n",
      "Name: count, dtype: int64 Label\n",
      "0.0    592\n",
      "1.0     24\n",
      "Name: count, dtype: int64\n",
      "Timestep 270, Area 2 Attack SSH-Patator\n",
      "\u001b[92mAccuracy of GM Before: 0.9886363636363636 0.8571428571428571 || 0.9973753280839895 0.968 \u001b[0m \n",
      "GM New Data Size 2463\n",
      "GM Training Data Size (62913, 82)\n",
      "Start Training...\n",
      "ensemble size: 1\n",
      "epoch  1, training loss: 0.378878, time: 9.1s\n",
      "Start Inference on the training data...\n",
      "Accuracy of GM:  0.9961058571087976\n",
      "\u001b[34mAccuracy of GM After: 0.9902597402597403 0.88 || 0.9970472440944882 0.9641434262948207 \u001b[0m \n",
      "SSH-Patator (2463, 82)\n"
     ]
    },
    {
     "data": {
      "text/plain": [
       "3316"
      ]
     },
     "execution_count": 31,
     "metadata": {},
     "output_type": "execute_result"
    },
    {
     "name": "stdout",
     "output_type": "stream",
     "text": [
      "Label\n",
      "0.0    3167\n",
      "1.0     137\n",
      "Name: count, dtype: int64 Label\n",
      "0.0    792\n",
      "1.0     34\n",
      "Name: count, dtype: int64\n",
      "Timestep 274, Area 0 Attack FTP-Patator\n",
      "\u001b[92mAccuracy of GM Before: 1.0 1.0 || 0.9990215264187867 0.9857142857142858 \u001b[0m \n",
      "FTP-Patator (3304, 81)\n"
     ]
    },
    {
     "data": {
      "text/plain": [
       "0"
      ]
     },
     "execution_count": 31,
     "metadata": {},
     "output_type": "execute_result"
    },
    {
     "name": "stdout",
     "output_type": "stream",
     "text": [
      "Label\n",
      "0.0    8014\n",
      "1.0     306\n",
      "Name: count, dtype: int64 Label\n",
      "0.0    2003\n",
      "1.0      77\n",
      "Name: count, dtype: int64\n",
      "Timestep 278, Area 3 Attack Infiltration - Portscan\n",
      "\u001b[92mAccuracy of GM Before: 0.9961538461538462 0.95 || 0.9967945604662457 0.9547325102880658 \u001b[0m \n",
      "GM New Data Size 8320\n",
      "GM Training Data Size (49355, 82)\n",
      "Start Training...\n",
      "ensemble size: 1\n",
      "epoch  1, training loss: 0.397641, time: 5.7s\n",
      "Start Inference on the training data...\n",
      "Accuracy of GM:  0.9988856245567825\n",
      "\u001b[34mAccuracy of GM After: 0.9985576923076923 0.9803921568627451 || 0.9986401165614376 0.9802816901408451 \u001b[0m \n",
      "Infiltration - Portscan (8320, 82)\n"
     ]
    },
    {
     "data": {
      "text/plain": [
       "10548"
      ]
     },
     "execution_count": 31,
     "metadata": {},
     "output_type": "execute_result"
    },
    {
     "name": "stdout",
     "output_type": "stream",
     "text": [
      "Label\n",
      "0.0    6065\n",
      "1.0     230\n",
      "Name: count, dtype: int64 Label\n",
      "0.0    1517\n",
      "1.0      57\n",
      "Name: count, dtype: int64\n",
      "Timestep 278, Area 4 Attack DoS GoldenEye\n",
      "\u001b[92mAccuracy of GM Before: 0.9936467598475223 0.9122807017543859 || 0.9933247753530167 0.9228486646884273 \u001b[0m \n",
      "GM New Data Size 6295\n",
      "GM Training Data Size (29230, 82)\n",
      "Start Training...\n",
      "ensemble size: 1\n",
      "epoch  1, training loss: 0.461726, time: 2.2s\n",
      "Start Inference on the training data...\n",
      "Accuracy of GM:  0.9962367430721861\n",
      "\u001b[34mAccuracy of GM After: 0.9987293519695044 0.9821428571428571 || 0.996405648267009 0.9583333333333334 \u001b[0m \n",
      "DoS GoldenEye (6295, 82)\n"
     ]
    },
    {
     "data": {
      "text/plain": [
       "8052"
      ]
     },
     "execution_count": 31,
     "metadata": {},
     "output_type": "execute_result"
    },
    {
     "name": "stdout",
     "output_type": "stream",
     "text": [
      "Label\n",
      "0.0    1385\n",
      "1.0      62\n",
      "Name: count, dtype: int64 Label\n",
      "0.0    347\n",
      "1.0     15\n",
      "Name: count, dtype: int64\n",
      "Timestep 278, Area 2 Attack DoS Slowhttptest\n",
      "\u001b[92mAccuracy of GM Before: 0.994475138121547 0.9285714285714286 || 0.9910614525139665 0.8688524590163934 \u001b[0m \n",
      "GM New Data Size 1447\n",
      "GM Training Data Size (64360, 82)\n",
      "Start Training...\n",
      "ensemble size: 1\n",
      "epoch  1, training loss: 0.384121, time: 9.5s\n",
      "Start Inference on the training data...\n",
      "Accuracy of GM:  0.9957271597265382\n",
      "\u001b[34mAccuracy of GM After: 0.994475138121547 0.9285714285714286 || 0.9949720670391061 0.9291338582677166 \u001b[0m \n",
      "DoS Slowhttptest (1447, 82)\n"
     ]
    },
    {
     "data": {
      "text/plain": [
       "2036"
      ]
     },
     "execution_count": 31,
     "metadata": {},
     "output_type": "execute_result"
    },
    {
     "name": "stdout",
     "output_type": "stream",
     "text": [
      "Label\n",
      "0.0    7991\n",
      "1.0     329\n",
      "Name: count, dtype: int64 Label\n",
      "0.0    1998\n",
      "1.0      82\n",
      "Name: count, dtype: int64\n",
      "Timestep 282, Area 2 Attack DoS Hulk\n",
      "\u001b[92mAccuracy of GM Before: 0.9961538461538462 0.9518072289156626 || 0.9959203496843128 0.9460154241645244 \u001b[0m \n",
      "GM New Data Size 8320\n",
      "GM Training Data Size (72680, 82)\n",
      "Start Training...\n",
      "ensemble size: 1\n",
      "epoch  1, training loss: 0.338945, time: 11.7s\n",
      "Start Inference on the training data...\n",
      "Accuracy of GM:  0.9965602641717116\n",
      "\u001b[34mAccuracy of GM After: 0.9980769230769231 0.9761904761904762 || 0.9969888295288976 0.96 \u001b[0m \n",
      "DoS Hulk (8320, 82)\n"
     ]
    },
    {
     "data": {
      "text/plain": [
       "10548"
      ]
     },
     "execution_count": 31,
     "metadata": {},
     "output_type": "execute_result"
    },
    {
     "name": "stdout",
     "output_type": "stream",
     "text": [
      "Label\n",
      "0.0    7992\n",
      "1.0     328\n",
      "Name: count, dtype: int64 Label\n",
      "0.0    1998\n",
      "1.0      82\n",
      "Name: count, dtype: int64\n",
      "Timestep 283, Area 3 Attack DDoS\n",
      "\u001b[92mAccuracy of GM Before: 0.9591346153846154 0.0 || 0.9588149587178242 0.0 \u001b[0m \n",
      "GM New Data Size 8320\n",
      "GM Training Data Size (57675, 82)\n",
      "Start Training...\n",
      "ensemble size: 1\n",
      "epoch  1, training loss: 0.368728, time: 7.8s\n",
      "Start Inference on the training data...\n",
      "Accuracy of GM:  0.9960988296488946\n",
      "\u001b[34mAccuracy of GM After: 0.9975961538461539 0.9704142011834319 || 0.9959203496843128 0.9491525423728814 \u001b[0m \n",
      "DDoS (8320, 82)\n"
     ]
    },
    {
     "data": {
      "text/plain": [
       "10548"
      ]
     },
     "execution_count": 31,
     "metadata": {},
     "output_type": "execute_result"
    },
    {
     "name": "stdout",
     "output_type": "stream",
     "text": [
      "Label\n",
      "0.0    8014\n",
      "1.0     306\n",
      "Name: count, dtype: int64 Label\n",
      "0.0    2003\n",
      "1.0      77\n",
      "Name: count, dtype: int64\n",
      "Timestep 284, Area 3 Attack Infiltration - Portscan\n",
      "\u001b[92mAccuracy of GM Before: 0.9947115384615385 0.9299363057324841 || 0.9963088878096164 0.9550827423167849 \u001b[0m \n",
      "GM New Data Size 8320\n",
      "GM Training Data Size (65995, 82)\n",
      "Start Training...\n",
      "ensemble size: 1\n",
      "epoch  1, training loss: 0.338547, time: 9.8s\n",
      "Start Inference on the training data...\n",
      "Accuracy of GM:  0.9979543904841276\n",
      "\u001b[34mAccuracy of GM After: 0.9966346153846154 0.954248366013072 || 0.9993200582807188 0.991389913899139 \u001b[0m \n",
      "Infiltration - Portscan (8320, 82)\n"
     ]
    },
    {
     "data": {
      "text/plain": [
       "10548"
      ]
     },
     "execution_count": 31,
     "metadata": {},
     "output_type": "execute_result"
    },
    {
     "name": "stdout",
     "output_type": "stream",
     "text": [
      "Label\n",
      "0.0    3096\n",
      "1.0     114\n",
      "Name: count, dtype: int64 Label\n",
      "0.0    775\n",
      "1.0     28\n",
      "Name: count, dtype: int64\n",
      "Timestep 285, Area 2 Attack DoS Slowloris\n",
      "\u001b[92mAccuracy of GM Before: 0.9937733499377335 0.9056603773584906 || 0.993202416918429 0.9102990033222591 \u001b[0m \n",
      "GM New Data Size 3210\n",
      "GM Training Data Size (75890, 82)\n",
      "Start Training...\n",
      "ensemble size: 1\n",
      "epoch  1, training loss: 0.339561, time: 12.4s\n",
      "Start Inference on the training data...\n",
      "Accuracy of GM:  0.9959810251680064\n",
      "\u001b[34mAccuracy of GM After: 0.9962640099626401 0.9454545454545454 || 0.9954682779456193 0.9440993788819876 \u001b[0m \n",
      "DoS Slowloris (3210, 82)\n"
     ]
    },
    {
     "data": {
      "text/plain": [
       "4276"
      ]
     },
     "execution_count": 31,
     "metadata": {},
     "output_type": "execute_result"
    },
    {
     "name": "stdout",
     "output_type": "stream",
     "text": [
      "Label\n",
      "0.0    3071\n",
      "1.0     139\n",
      "Name: count, dtype: int64 Label\n",
      "0.0    768\n",
      "1.0     35\n",
      "Name: count, dtype: int64\n",
      "Timestep 288, Area 1 Attack DoS Slowloris\n",
      "\u001b[92mAccuracy of GM Before: 1.0 1.0 || 0.9987411883182276 0.9829351535836177 \u001b[0m \n",
      "DoS Slowloris (3210, 81)\n"
     ]
    },
    {
     "data": {
      "text/plain": [
       "0"
      ]
     },
     "execution_count": 31,
     "metadata": {},
     "output_type": "execute_result"
    },
    {
     "name": "stdout",
     "output_type": "stream",
     "text": [
      "Label\n",
      "0.0    7991\n",
      "1.0     329\n",
      "Name: count, dtype: int64 Label\n",
      "0.0    1998\n",
      "1.0      82\n",
      "Name: count, dtype: int64\n",
      "Timestep 291, Area 1 Attack DoS Hulk\n",
      "\u001b[92mAccuracy of GM Before: 0.9995192307692308 0.9939393939393939 || 0.99834871296746 0.9799764428739693 \u001b[0m \n",
      "DoS Hulk (8320, 81)\n"
     ]
    },
    {
     "data": {
      "text/plain": [
       "0"
      ]
     },
     "execution_count": 31,
     "metadata": {},
     "output_type": "execute_result"
    },
    {
     "name": "stdout",
     "output_type": "stream",
     "text": [
      "Label\n",
      "0.0    8012\n",
      "1.0     308\n",
      "Name: count, dtype: int64 Label\n",
      "0.0    2003\n",
      "1.0      77\n",
      "Name: count, dtype: int64\n",
      "Timestep 291, Area 2 Attack Infiltration - Portscan\n",
      "\u001b[92mAccuracy of GM Before: 0.9923076923076923 0.9 || 0.9944633317144245 0.9336437718277066 \u001b[0m \n",
      "GM New Data Size 8320\n",
      "GM Training Data Size (84210, 82)\n",
      "Start Training...\n",
      "ensemble size: 1\n",
      "epoch  1, training loss: 0.333316, time: 14.5s\n",
      "Start Inference on the training data...\n"
     ]
    }
   ],
   "source": [
    "from sklearn.exceptions import NotFittedError\n",
    "import gc\n",
    "\n",
    "# Main simulation function\n",
    "final_accuracies = []\n",
    "\n",
    "for run in range(num_runs):\n",
    "    print(f\"Run {run + 1}/{num_runs}\")\n",
    "    run=run+1\n",
    "\n",
    "    # Initialize Global Model\n",
    "    # global_model = Global_Model(gm_training_data[:100000])\n",
    "    \n",
    "    # Assign edge area coordinates\n",
    "    edge_area_list = define_edge_area(5, gm=\"aaa\", random_state=run, global_sharing=global_sharing)\n",
    "\n",
    "    # Define attack information\n",
    "    atk_info_list = define_atk(atk_list, edge_area_list, cicids_df, benign_df, random_state=run)\n",
    "\n",
    "    # Loop through timesteps\n",
    "    for t in range(num_timesteps):\n",
    "        for attack in atk_info_list.values():\n",
    "            # Sample whether an attack is ongoing\n",
    "            for i, edge_area in enumerate(edge_area_list):\n",
    "                occ_prob = probability_in_2d_edge_area(attack.centroid[0], attack.std_dev[0], \n",
    "                                                        attack.centroid[1], attack.std_dev[1], \n",
    "                                                        edge_area.centroid[0], edge_area.centroid[1])\n",
    "                attack.active = np.random.random() < occ_prob/3\n",
    "                if attack.active and attack.first_seen < t:\n",
    "                    # Train local model with a fraction of the data     \n",
    "                    X_lm_train, X_lm_test, y_lm_train, y_lm_test = preprocess_data(attack.get_data().copy(), train_perc=0.8)                   \n",
    "                    print(y_lm_train.value_counts(), y_lm_test.value_counts())\n",
    "                    y_lm_train = y_lm_train.values\n",
    "                    y_lm_test = y_lm_test.values\n",
    "                    # Record Accuracy Data\n",
    "                    X_atk_test, _, y_atk_test, _ = preprocess_data(attack.get_data().copy(), train_perc=0.99)                   \n",
    "                    y_atk_test = y_atk_test.values\n",
    "                    \n",
    "                  \n",
    "\n",
    "                    try:\n",
    "                        # Evaluate GM Accuracy\n",
    "                        y_gm_pred = edge_area.model.perform_inference(X_lm_test)[0]\n",
    "                        gm_acc = accuracy_score(y_gm_pred, y_lm_test)\n",
    "                        gm_f1 = f1_score(y_gm_pred, y_lm_test, average='binary')\n",
    "                        \n",
    "                        y_gm_atk_pred = edge_area.model.perform_inference(X_atk_test)[0]\n",
    "                        gm_atk_acc = accuracy_score(y_gm_atk_pred, y_atk_test)\n",
    "                        gm_atk_f1 = f1_score(y_gm_atk_pred, y_atk_test, average='binary')  \n",
    "                        \n",
    "\n",
    "                    except AttributeError as e:\n",
    "                        # Handle the case where the model is not yet fitted\n",
    "                        print(\"Local model is not fitted yet. Please fit the model before inference.\")\n",
    "                        gm_acc = 0\n",
    "                        gm_f1 = 0\n",
    "                        \n",
    "                        gm_atk_acc = 0\n",
    "                        gm_atk_f1 = 0\n",
    "                    print(f\"Timestep {t}, Area {i} Attack {attack.name}\")\n",
    "                    print(f\"{LIGHT_GREEN}Accuracy of GM Before: {gm_acc} {gm_f1} || {gm_atk_acc} {gm_atk_f1} {RESET} \")                            \n",
    "                    \n",
    "                    # Update seen_attack_acc\n",
    "                    if attack.name not in edge_area.seen_attack_acc:\n",
    "                        edge_area.seen_attack_acc[attack.name] = [(t, gm_atk_acc, gm_atk_f1)]\n",
    "                    else:\n",
    "                        edge_area.seen_attack_acc[attack.name].append((t, gm_atk_acc, gm_atk_f1))\n",
    "                        \n",
    "                    if gm_f1 < 0.96: #* GM is the bottleneck\n",
    "                        X_lm_train[\"Label\"] = y_lm_train\n",
    "                        print(\"GM New Data Size\", X_lm_train.shape[0])\n",
    "                        edge_area.model.gm_retrain(X_lm_train, share_knowledge=True)\n",
    "                        y_gm_pred = edge_area.model.perform_inference(X_lm_test)[0]\n",
    "                        gm_acc = accuracy_score(y_gm_pred, y_lm_test)\n",
    "                        gm_f1 = f1_score(y_gm_pred, y_lm_test, average='binary')\n",
    "                        \n",
    "                        y_gm_atk_pred = edge_area.model.perform_inference(X_atk_test)[0]\n",
    "                        gm_atk_acc = accuracy_score(y_gm_atk_pred, y_atk_test)\n",
    "                        gm_atk_f1 = f1_score(y_gm_atk_pred, y_atk_test, average='binary')  \n",
    "                            \n",
    "                        print(f\"{BLUE}Accuracy of GM After: {gm_acc} {gm_f1} || {gm_atk_acc} {gm_atk_f1} {RESET} \")\n",
    "                    print(attack.name, X_lm_train.shape)\n",
    "                    gc.collect()\n",
    "                    \n",
    "\n"
   ]
  },
  {
   "cell_type": "code",
   "execution_count": 23,
   "metadata": {},
   "outputs": [
    {
     "data": {
      "text/plain": [
       "[{'FTP-Patator': [(51, 0, 0),\n",
       "   (66, 0.9987769080234834, 0.982078853046595),\n",
       "   (67, 1.0, 1.0),\n",
       "   (81, 0.9960861056751468, 0.950920245398773),\n",
       "   (84, 0.9995110241820768, 0.9935597189695551),\n",
       "   (110, 0.9963307240704501, 0.9575070821529745),\n",
       "   (177, 0.99706457925636, 0.9591836734693877),\n",
       "   (180, 0.9990215264187867, 0.9873417721518988),\n",
       "   (211, 0.9995107632093934, 0.9932432432432432),\n",
       "   (220, 0.9990215264187867, 0.9858156028368794),\n",
       "   (226, 0.9995107632093934, 0.9935897435897436)],\n",
       "  'SSH-Patator': [(76, 0.9619422572178478, 0.0),\n",
       "   (235, 0.9744094488188977, 0.48)],\n",
       "  'DoS Slowhttptest': [(91, 0.9592178770949721, 0.0),\n",
       "   (120, 0.9818882857287808, 0.6821015138023152),\n",
       "   (143, 0.9877094972067039, 0.8253968253968254),\n",
       "   (197, 0.9871508379888269, 0.7964601769911505),\n",
       "   (219, 0.9865921787709497, 0.8)],\n",
       "  'Portscan': [(181, 0.9580378824672171, 0.0),\n",
       "   (222, 0.9967065471723102, 0.9577528598935326),\n",
       "   (241, 0.9642544924720738, 0.0),\n",
       "   (269, 0.9965031568722681, 0.9552238805970149),\n",
       "   (292, 0.9979601748421564, 0.9734513274336283)],\n",
       "  'DDoS': [(272, 0.9587178241864983, 0.0)]},\n",
       " {'SSH-Patator': [(20, 0, 0),\n",
       "   (44, 0.9662073490813649, 0.33548387096774196),\n",
       "   (278, 0.9970472440944882, 0.958904109589041)],\n",
       "  'DoS Slowloris': [(21, 0.9572004028197382, 0.0),\n",
       "   (80, 0.9894259818731118, 0.8581081081081081),\n",
       "   (84, 0.9968655623684451, 0.9603931772188494),\n",
       "   (106, 0.999496475327291, 0.993103448275862),\n",
       "   (148, 0.9987411883182276, 0.9843260188087775),\n",
       "   (149, 0.999496475327291, 0.9931506849315068),\n",
       "   (262, 0.9977341389728097, 0.9688581314878892),\n",
       "   (282, 0.998992950654582, 0.9869281045751634),\n",
       "   (295, 0.9984894259818731, 0.9815950920245399)],\n",
       "  'DoS Hulk': [(27, 0.9507527926177756, 0.0),\n",
       "   (95, 0.9987372510927635, 0.9842424242424243),\n",
       "   (100, 0.9995143273433705, 0.9933598937583001),\n",
       "   (102, 0.9991435256721558, 0.9888338897202716),\n",
       "   (125, 0.9988343856240893, 0.9862068965517241),\n",
       "   (168, 0.9986401165614376, 0.9813333333333333),\n",
       "   (198, 0.9995143273433705, 0.9932523616734144),\n",
       "   (246, 0.9993200582807188, 0.9911504424778761),\n",
       "   (247, 0.9987372510927635, 0.9842041312272175),\n",
       "   (250, 0.9990286546867412, 0.9868073878627969),\n",
       "   (293, 0.9992229237493929, 0.9897959183673469)],\n",
       "  'DDoS': [(92, 0.9971830985915493, 0.9626769626769627),\n",
       "   (106, 0.9993819257427928, 0.9919761577258138),\n",
       "   (136, 0.999125789218067, 0.9893238434163701),\n",
       "   (260, 0.9995143273433705, 0.9938949938949939),\n",
       "   (269, 0.9996114618746964, 0.9949494949494949)],\n",
       "  'DoS Slowhttptest': [(117, 0.9871508379888269, 0.8067226890756303)]},\n",
       " {'DoS Slowloris': [(26, 0, 0),\n",
       "   (51, 0.9859013091641491, 0.7985611510791367),\n",
       "   (121, 0.9952165156092648, 0.9381107491856677),\n",
       "   (148, 0.9974823766364552, 0.9652777777777778),\n",
       "   (244, 0.9977341389728097, 0.9698996655518395)],\n",
       "  'SSH-Patator': [(55, 0.943241469816273, 0.0),\n",
       "   (201, 0.9955870952352556, 0.9430331023864511),\n",
       "   (253, 0.9983595800524935, 0.9795918367346939),\n",
       "   (268, 0.9993438320209974, 0.9914529914529915),\n",
       "   (286, 0.9996719160104987, 0.9956331877729258),\n",
       "   (291, 0.9616141732283464, 0.01680672268907563)],\n",
       "  'DDoS': [(86, 0.9535696940262264, 0.0),\n",
       "   (96, 0.9985429820301117, 0.9819494584837545),\n",
       "   (183, 0.9974745021855269, 0.9650537634408602),\n",
       "   (190, 0.9969888295288976, 0.9608091024020228),\n",
       "   (268, 0.9974745021855269, 0.96875)],\n",
       "  'DoS Hulk': [(118, 0.9632831471588149, 0.136986301369863),\n",
       "   (217, 0.9959203496843128, 0.9451697127937336),\n",
       "   (230, 0.9989315201554152, 0.9867947178871549),\n",
       "   (289, 0.9990199108207143, 0.9870644447034145)],\n",
       "  'Portscan': [(142, 0.963186012627489, 0.0),\n",
       "   (222, 0.9987372510927635, 0.983225806451613)],\n",
       "  'DoS Slowhttptest': [(162, 0.9748603351955307, 0.4578313253012048)]},\n",
       " {'DoS Slowhttptest': [(24, 0, 0),\n",
       "   (86, 0.9754189944134078, 0.6666666666666666),\n",
       "   (191, 0.9804469273743017, 0.7107438016528925)],\n",
       "  'Infiltration - Portscan': [(28, 0.9455075279261778, 0.003552397868561279),\n",
       "   (103, 0.994074793589121, 0.9216944801026957),\n",
       "   (148, 0.998251578436134, 0.9799554565701559),\n",
       "   (158, 0.9988343856240893, 0.9834710743801653),\n",
       "   (231, 0.9992053330978765, 0.9895348837209302),\n",
       "   (260, 0.9994171928120447, 0.9920424403183024)],\n",
       "  'SSH-Patator': [(235, 0.9563648293963255, 0.0)],\n",
       "  'FTP-Patator': [(263, 0.9655088062622309, 0.0)]},\n",
       " {'DoS GoldenEye': [(15, 0, 0),\n",
       "   (35, 0.9988446726572529, 0.9859154929577465),\n",
       "   (73, 0.995635430038511, 0.9437086092715232),\n",
       "   (97, 0.9872913992297818, 0.7924528301886793),\n",
       "   (105, 0.9974330851982358, 0.9651898734177216),\n",
       "   (132, 0.9965340179717587, 0.9593984962406015),\n",
       "   (191, 0.9988446726572529, 0.9820359281437125),\n",
       "   (217, 0.9989730423620026, 0.987012987012987),\n",
       "   (230, 0.9961489088575096, 0.9496644295302014)],\n",
       "  'DoS Hulk': [(35, 0.9936862554638174, 0.9217809867629362)],\n",
       "  'Portscan': [(55, 0.9457017969888295, 0.0),\n",
       "   (89, 0.9929091792132103, 0.9138134592680047)],\n",
       "  'DDoS': [(96, 0.9963088878096164, 0.9538834951456311)],\n",
       "  'DoS Slowhttptest': [(193, 0.9603351955307262, 0.0)]}]"
      ]
     },
     "execution_count": 23,
     "metadata": {},
     "output_type": "execute_result"
    }
   ],
   "source": [
    "data_list = []\n",
    "for i, edge_area in enumerate(edge_area_list):\n",
    "    data_list.append(edge_area.seen_attack_acc)\n",
    "data_list"
   ]
  },
  {
   "cell_type": "code",
   "execution_count": null,
   "metadata": {},
   "outputs": [],
   "source": []
  },
  {
   "cell_type": "code",
   "execution_count": 24,
   "metadata": {},
   "outputs": [],
   "source": [
    "attack_aggregates = {}\n",
    "for dataset in data_list:\n",
    "    for attack, values in dataset.items():\n",
    "        if attack not in attack_aggregates:\n",
    "            attack_aggregates[attack] = [values]\n",
    "        else:\n",
    "            attack_aggregates[attack].append(values)"
   ]
  },
  {
   "cell_type": "code",
   "execution_count": 25,
   "metadata": {},
   "outputs": [
    {
     "data": {
      "image/png": "[encoded data removed]",
      "text/plain": [
       "<Figure size 1400x800 with 1 Axes>"
      ]
     },
     "metadata": {},
     "output_type": "display_data"
    }
   ],
   "source": [
    "attack_avg_perfo = {}\n",
    "for attack, data in attack_aggregates.items():\n",
    "    if attack != \"Infiltration - Portscan\":\n",
    "        # continue\n",
    "        pass\n",
    "    data = attack_aggregates[attack]\n",
    "    # Step 1: Define the range for curr_t\n",
    "    all_t_values = [t for sublist in data for t, _, _ in sublist]\n",
    "    all_t_values.sort()\n",
    "    min_t, max_t = min(all_t_values), max(all_t_values)\n",
    "\n",
    "    # Step 2: Compute the average for each curr_t\n",
    "    averaged_results = []\n",
    "\n",
    "    # for curr_t in all_t_values:\n",
    "    for curr_t in range(min_t,max_t):\n",
    "        selected_values = []\n",
    "        \n",
    "        for sublist in data:\n",
    "            if curr_t < sublist[0][0]:\n",
    "                continue\n",
    "            # Find the largest t <= curr_t in the current sublist\n",
    "            valid_values = [item for item in sublist if item[0] >= curr_t]\n",
    "            if valid_values:\n",
    "                selected_values.append(valid_values[0])  # Use the last valid (largest t <= curr_t)\n",
    "        \n",
    "        if selected_values:\n",
    "            # Average the selected accuracy and F1 scores\n",
    "            avg_acc = np.mean([item[1] for item in selected_values])\n",
    "            avg_f1 = np.mean([item[2] for item in selected_values])\n",
    "            num_of_area = len(selected_values)\n",
    "            averaged_results.append((curr_t, avg_acc, avg_f1, num_of_area))\n",
    "\n",
    "    attack_avg_perfo[attack] = averaged_results\n",
    "\n",
    "# Plot the averaged results for each attack\n",
    "def plot_attack_performance(attack_avg_perfo):\n",
    "    plt.figure(figsize=(14, 8))\n",
    "    \n",
    "    # Iterate through each attack\n",
    "    for attack, performance in attack_avg_perfo.items():\n",
    "        # plt.figure(figsize=(14, 8))\n",
    "        # Extract data for plotting\n",
    "        times = [item[0] for item in performance]\n",
    "        # times = [i for i,item in enumerate(performance)]\n",
    "        avg_accs = [item[1] for item in performance]\n",
    "        avg_f1s = [item[2] for item in performance]\n",
    "        num_areas = [item[3] for item in performance]\n",
    "        \n",
    "        # Plot accuracy\n",
    "        # plt.plot(times, avg_accs, marker='o', label=f\"{attack} - Accuracy\")\n",
    "        \n",
    "        # Plot F1 score\n",
    "        plt.plot(times, avg_f1s, marker='x', linestyle='--', label=f\"{attack} - F1 Score\")\n",
    "        # plt.plot(times, avg_accs, marker='x', linestyle='--', label=f\"{attack} - Accuracy\")\n",
    "        \n",
    "    # Customize plot\n",
    "    plt.xlabel(\"Time Step (curr_t)\")\n",
    "    plt.ylabel(\"Performance Metrics\")\n",
    "    plt.title(\"Attack Performance Over Time\")\n",
    "    plt.legend(loc=\"upper left\", bbox_to_anchor=(1.05, 1))\n",
    "    plt.grid(alpha=0.5)\n",
    "    plt.tight_layout()\n",
    "    plt.show()\n",
    "\n",
    "# Call the function to plot\n",
    "plot_attack_performance(attack_avg_perfo)\n"
   ]
  },
  {
   "cell_type": "code",
   "execution_count": null,
   "metadata": {},
   "outputs": [
    {
     "ename": "NameError",
     "evalue": "name 'performance' is not defined",
     "output_type": "error",
     "traceback": [
      "\u001b[0;31m---------------------------------------------------------------------------\u001b[0m",
      "\u001b[0;31mNameError\u001b[0m                                 Traceback (most recent call last)",
      "Cell \u001b[0;32mIn[27], line 1\u001b[0m\n\u001b[0;32m----> 1\u001b[0m performance\n",
      "\u001b[0;31mNameError\u001b[0m: name 'performance' is not defined"
     ]
    }
   ],
   "source": [
    "performance"
   ]
  },
  {
   "cell_type": "markdown",
   "metadata": {},
   "source": [
    "### Epochs Comparison"
   ]
  },
  {
   "cell_type": "code",
   "execution_count": null,
   "metadata": {},
   "outputs": [
    {
     "name": "stdout",
     "output_type": "stream",
     "text": [
      "Start Training...\n",
      "ensemble size: 1\n"
     ]
    },
    {
     "ename": "KeyboardInterrupt",
     "evalue": "",
     "output_type": "error",
     "traceback": [
      "\u001b[0;31m---------------------------------------------------------------------------\u001b[0m",
      "\u001b[0;31mKeyboardInterrupt\u001b[0m                         Traceback (most recent call last)",
      "Cell \u001b[0;32mIn[18], line 9\u001b[0m\n\u001b[1;32m      6\u001b[0m \u001b[39mfor\u001b[39;00m epochs \u001b[39min\u001b[39;00m np\u001b[39m.\u001b[39marange(\u001b[39m1\u001b[39m, \u001b[39m10\u001b[39m, \u001b[39m2\u001b[39m):\n\u001b[1;32m      7\u001b[0m     \u001b[39m# Initialize and train the model\u001b[39;00m\n\u001b[1;32m      8\u001b[0m     clf \u001b[39m=\u001b[39m PReNet(device\u001b[39m=\u001b[39m\u001b[39m'\u001b[39m\u001b[39mcuda\u001b[39m\u001b[39m'\u001b[39m, verbose\u001b[39m=\u001b[39m\u001b[39m1\u001b[39m, epochs\u001b[39m=\u001b[39mepochs)\n\u001b[0;32m----> 9\u001b[0m     clf\u001b[39m.\u001b[39;49mfit(X_gm_train\u001b[39m.\u001b[39;49mto_numpy(), y\u001b[39m=\u001b[39;49my_gm_train)\n\u001b[1;32m     11\u001b[0m     \u001b[39m# Predict on the training data\u001b[39;00m\n\u001b[1;32m     12\u001b[0m     y_pred \u001b[39m=\u001b[39m clf\u001b[39m.\u001b[39mpredict(X_gm_test\u001b[39m.\u001b[39mto_numpy())\n",
      "File \u001b[0;32m~/.local/lib/python3.8/site-packages/deepod/core/base_model.py:185\u001b[0m, in \u001b[0;36mBaseDeepAD.fit\u001b[0;34m(self, X, y)\u001b[0m\n\u001b[1;32m    182\u001b[0m \u001b[39mfor\u001b[39;00m _ \u001b[39min\u001b[39;00m \u001b[39mrange\u001b[39m(\u001b[39mself\u001b[39m\u001b[39m.\u001b[39mn_ensemble):\n\u001b[1;32m    183\u001b[0m     \u001b[39mself\u001b[39m\u001b[39m.\u001b[39mtrain_loader, \u001b[39mself\u001b[39m\u001b[39m.\u001b[39mnet, \u001b[39mself\u001b[39m\u001b[39m.\u001b[39mcriterion \u001b[39m=\u001b[39m \u001b[39mself\u001b[39m\u001b[39m.\u001b[39mtraining_prepare(\u001b[39mself\u001b[39m\u001b[39m.\u001b[39mtrain_data,\n\u001b[1;32m    184\u001b[0m                                                                         y\u001b[39m=\u001b[39m\u001b[39mself\u001b[39m\u001b[39m.\u001b[39mtrain_label)\n\u001b[0;32m--> 185\u001b[0m     \u001b[39mself\u001b[39;49m\u001b[39m.\u001b[39;49m_training()\n\u001b[1;32m    187\u001b[0m \u001b[39mif\u001b[39;00m \u001b[39mself\u001b[39m\u001b[39m.\u001b[39mverbose \u001b[39m>\u001b[39m\u001b[39m=\u001b[39m \u001b[39m1\u001b[39m:\n\u001b[1;32m    188\u001b[0m     \u001b[39mprint\u001b[39m(\u001b[39m'\u001b[39m\u001b[39mStart Inference on the training data...\u001b[39m\u001b[39m'\u001b[39m)\n",
      "File \u001b[0;32m~/.local/lib/python3.8/site-packages/deepod/core/base_model.py:336\u001b[0m, in \u001b[0;36mBaseDeepAD._training\u001b[0;34m(self)\u001b[0m\n\u001b[1;32m    334\u001b[0m total_loss \u001b[39m=\u001b[39m \u001b[39m0\u001b[39m\n\u001b[1;32m    335\u001b[0m cnt \u001b[39m=\u001b[39m \u001b[39m0\u001b[39m\n\u001b[0;32m--> 336\u001b[0m \u001b[39mfor\u001b[39;00m batch_x \u001b[39min\u001b[39;00m \u001b[39mself\u001b[39m\u001b[39m.\u001b[39mtrain_loader:\n\u001b[1;32m    337\u001b[0m     loss \u001b[39m=\u001b[39m \u001b[39mself\u001b[39m\u001b[39m.\u001b[39mtraining_forward(batch_x, \u001b[39mself\u001b[39m\u001b[39m.\u001b[39mnet, \u001b[39mself\u001b[39m\u001b[39m.\u001b[39mcriterion)\n\u001b[1;32m    338\u001b[0m     \u001b[39mself\u001b[39m\u001b[39m.\u001b[39mnet\u001b[39m.\u001b[39mzero_grad()\n",
      "File \u001b[0;32m~/.local/lib/python3.8/site-packages/deepod/models/tabular/prenet.py:177\u001b[0m, in \u001b[0;36mPReNetLoader.__next__\u001b[0;34m(self)\u001b[0m\n\u001b[1;32m    175\u001b[0m \u001b[39mdef\u001b[39;00m \u001b[39m__next__\u001b[39m(\u001b[39mself\u001b[39m):\n\u001b[1;32m    176\u001b[0m     \u001b[39mself\u001b[39m\u001b[39m.\u001b[39mcounter \u001b[39m+\u001b[39m\u001b[39m=\u001b[39m \u001b[39m1\u001b[39m\n\u001b[0;32m--> 177\u001b[0m     x1, x2, y \u001b[39m=\u001b[39m \u001b[39mself\u001b[39;49m\u001b[39m.\u001b[39;49mbatch_generation()\n\u001b[1;32m    178\u001b[0m     x1, x2, y \u001b[39m=\u001b[39m torch\u001b[39m.\u001b[39mfrom_numpy(x1), torch\u001b[39m.\u001b[39mfrom_numpy(x2), torch\u001b[39m.\u001b[39mfrom_numpy(y)\n\u001b[1;32m    180\u001b[0m     \u001b[39mif\u001b[39;00m \u001b[39mself\u001b[39m\u001b[39m.\u001b[39mcounter \u001b[39m>\u001b[39m \u001b[39mself\u001b[39m\u001b[39m.\u001b[39msteps_per_epoch:\n",
      "File \u001b[0;32m~/.local/lib/python3.8/site-packages/deepod/models/tabular/prenet.py:195\u001b[0m, in \u001b[0;36mPReNetLoader.batch_generation\u001b[0;34m(self)\u001b[0m\n\u001b[1;32m    193\u001b[0m \u001b[39mfor\u001b[39;00m i \u001b[39min\u001b[39;00m \u001b[39mrange\u001b[39m(\u001b[39mself\u001b[39m\u001b[39m.\u001b[39mbatch_size):\n\u001b[1;32m    194\u001b[0m     \u001b[39mif\u001b[39;00m i \u001b[39m%\u001b[39m \u001b[39m4\u001b[39m \u001b[39m==\u001b[39m \u001b[39m0\u001b[39m \u001b[39mor\u001b[39;00m i \u001b[39m%\u001b[39m \u001b[39m4\u001b[39m \u001b[39m==\u001b[39m \u001b[39m1\u001b[39m:\n\u001b[0;32m--> 195\u001b[0m         sid \u001b[39m=\u001b[39m np\u001b[39m.\u001b[39;49mrandom\u001b[39m.\u001b[39;49mchoice(\u001b[39mself\u001b[39;49m\u001b[39m.\u001b[39;49munlabeled_id, \u001b[39m2\u001b[39;49m, replace\u001b[39m=\u001b[39;49m\u001b[39mFalse\u001b[39;49;00m)\n\u001b[1;32m    196\u001b[0m         batch_x1\u001b[39m.\u001b[39mappend(\u001b[39mself\u001b[39m\u001b[39m.\u001b[39mX[sid[\u001b[39m0\u001b[39m]])\n\u001b[1;32m    197\u001b[0m         batch_x2\u001b[39m.\u001b[39mappend(\u001b[39mself\u001b[39m\u001b[39m.\u001b[39mX[sid[\u001b[39m1\u001b[39m]])\n",
      "\u001b[0;31mKeyboardInterrupt\u001b[0m: "
     ]
    }
   ],
   "source": [
    "from sklearn.metrics import accuracy_score, f1_score\n",
    "\n",
    "acc_list = []\n",
    "f1_list = []\n",
    "\n",
    "for epochs in np.arange(1, 10, 2):\n",
    "    # Initialize and train the model\n",
    "    clf = PReNet(device='cuda', verbose=1, epochs=epochs)\n",
    "    clf.fit(X_gm_train.to_numpy(), y=y_gm_train)\n",
    "    \n",
    "    # Predict on the training data\n",
    "    y_pred = clf.predict(X_gm_test.to_numpy())\n",
    "    \n",
    "    # Calculate metrics\n",
    "    acc = accuracy_score(y_gm_test, y_pred)\n",
    "    f1 = f1_score(y_gm_test, y_pred, average='binary')  # Use 'binary' or 'weighted' based on your label type\n",
    "    \n",
    "    # Store the results\n",
    "    acc_list.append((epochs, acc))\n",
    "    f1_list.append((epochs, f1))\n",
    "    \n",
    "    print(f\"Epochs: {epochs}, Accuracy: {acc:.4f}, F1 Score: {f1:.4f}\")\n"
   ]
  },
  {
   "cell_type": "markdown",
   "metadata": {},
   "source": [
    "### Entire Data Accuracy"
   ]
  },
  {
   "cell_type": "code",
   "execution_count": 52,
   "metadata": {},
   "outputs": [
    {
     "name": "stdout",
     "output_type": "stream",
     "text": [
      "Start Training...\n",
      "ensemble size: 1\n"
     ]
    },
    {
     "ename": "KeyboardInterrupt",
     "evalue": "",
     "output_type": "error",
     "traceback": [
      "\u001b[0;31m---------------------------------------------------------------------------\u001b[0m",
      "\u001b[0;31mKeyboardInterrupt\u001b[0m                         Traceback (most recent call last)",
      "Cell \u001b[0;32mIn[52], line 8\u001b[0m\n\u001b[1;32m      6\u001b[0m \u001b[39m# # Initialize and train the model\u001b[39;00m\n\u001b[1;32m      7\u001b[0m clf \u001b[39m=\u001b[39m PReNet(device\u001b[39m=\u001b[39m\u001b[39m'\u001b[39m\u001b[39mcuda\u001b[39m\u001b[39m'\u001b[39m, verbose\u001b[39m=\u001b[39m\u001b[39m1\u001b[39m, epochs\u001b[39m=\u001b[39m\u001b[39m1\u001b[39m, batch_size\u001b[39m=\u001b[39m\u001b[39m64\u001b[39m)\n\u001b[0;32m----> 8\u001b[0m clf\u001b[39m.\u001b[39;49mfit(X_gm_train\u001b[39m.\u001b[39;49mto_numpy(), y\u001b[39m=\u001b[39;49my_gm_train\u001b[39m.\u001b[39;49mvalues)\n",
      "File \u001b[0;32m~/anaconda3/envs/network_anomaly/lib/python3.10/site-packages/deepod/core/base_model.py:185\u001b[0m, in \u001b[0;36mBaseDeepAD.fit\u001b[0;34m(self, X, y)\u001b[0m\n\u001b[1;32m    182\u001b[0m \u001b[39mfor\u001b[39;00m _ \u001b[39min\u001b[39;00m \u001b[39mrange\u001b[39m(\u001b[39mself\u001b[39m\u001b[39m.\u001b[39mn_ensemble):\n\u001b[1;32m    183\u001b[0m     \u001b[39mself\u001b[39m\u001b[39m.\u001b[39mtrain_loader, \u001b[39mself\u001b[39m\u001b[39m.\u001b[39mnet, \u001b[39mself\u001b[39m\u001b[39m.\u001b[39mcriterion \u001b[39m=\u001b[39m \u001b[39mself\u001b[39m\u001b[39m.\u001b[39mtraining_prepare(\u001b[39mself\u001b[39m\u001b[39m.\u001b[39mtrain_data,\n\u001b[1;32m    184\u001b[0m                                                                         y\u001b[39m=\u001b[39m\u001b[39mself\u001b[39m\u001b[39m.\u001b[39mtrain_label)\n\u001b[0;32m--> 185\u001b[0m     \u001b[39mself\u001b[39;49m\u001b[39m.\u001b[39;49m_training()\n\u001b[1;32m    187\u001b[0m \u001b[39mif\u001b[39;00m \u001b[39mself\u001b[39m\u001b[39m.\u001b[39mverbose \u001b[39m>\u001b[39m\u001b[39m=\u001b[39m \u001b[39m1\u001b[39m:\n\u001b[1;32m    188\u001b[0m     \u001b[39mprint\u001b[39m(\u001b[39m'\u001b[39m\u001b[39mStart Inference on the training data...\u001b[39m\u001b[39m'\u001b[39m)\n",
      "File \u001b[0;32m~/anaconda3/envs/network_anomaly/lib/python3.10/site-packages/deepod/core/base_model.py:336\u001b[0m, in \u001b[0;36mBaseDeepAD._training\u001b[0;34m(self)\u001b[0m\n\u001b[1;32m    334\u001b[0m total_loss \u001b[39m=\u001b[39m \u001b[39m0\u001b[39m\n\u001b[1;32m    335\u001b[0m cnt \u001b[39m=\u001b[39m \u001b[39m0\u001b[39m\n\u001b[0;32m--> 336\u001b[0m \u001b[39mfor\u001b[39;00m batch_x \u001b[39min\u001b[39;00m \u001b[39mself\u001b[39m\u001b[39m.\u001b[39mtrain_loader:\n\u001b[1;32m    337\u001b[0m     loss \u001b[39m=\u001b[39m \u001b[39mself\u001b[39m\u001b[39m.\u001b[39mtraining_forward(batch_x, \u001b[39mself\u001b[39m\u001b[39m.\u001b[39mnet, \u001b[39mself\u001b[39m\u001b[39m.\u001b[39mcriterion)\n\u001b[1;32m    338\u001b[0m     \u001b[39mself\u001b[39m\u001b[39m.\u001b[39mnet\u001b[39m.\u001b[39mzero_grad()\n",
      "File \u001b[0;32m~/anaconda3/envs/network_anomaly/lib/python3.10/site-packages/deepod/models/tabular/prenet.py:177\u001b[0m, in \u001b[0;36mPReNetLoader.__next__\u001b[0;34m(self)\u001b[0m\n\u001b[1;32m    175\u001b[0m \u001b[39mdef\u001b[39;00m\u001b[39m \u001b[39m\u001b[39m__next__\u001b[39m(\u001b[39mself\u001b[39m):\n\u001b[1;32m    176\u001b[0m     \u001b[39mself\u001b[39m\u001b[39m.\u001b[39mcounter \u001b[39m+\u001b[39m\u001b[39m=\u001b[39m \u001b[39m1\u001b[39m\n\u001b[0;32m--> 177\u001b[0m     x1, x2, y \u001b[39m=\u001b[39m \u001b[39mself\u001b[39;49m\u001b[39m.\u001b[39;49mbatch_generation()\n\u001b[1;32m    178\u001b[0m     x1, x2, y \u001b[39m=\u001b[39m torch\u001b[39m.\u001b[39mfrom_numpy(x1), torch\u001b[39m.\u001b[39mfrom_numpy(x2), torch\u001b[39m.\u001b[39mfrom_numpy(y)\n\u001b[1;32m    180\u001b[0m     \u001b[39mif\u001b[39;00m \u001b[39mself\u001b[39m\u001b[39m.\u001b[39mcounter \u001b[39m>\u001b[39m \u001b[39mself\u001b[39m\u001b[39m.\u001b[39msteps_per_epoch:\n",
      "File \u001b[0;32m~/anaconda3/envs/network_anomaly/lib/python3.10/site-packages/deepod/models/tabular/prenet.py:195\u001b[0m, in \u001b[0;36mPReNetLoader.batch_generation\u001b[0;34m(self)\u001b[0m\n\u001b[1;32m    193\u001b[0m \u001b[39mfor\u001b[39;00m i \u001b[39min\u001b[39;00m \u001b[39mrange\u001b[39m(\u001b[39mself\u001b[39m\u001b[39m.\u001b[39mbatch_size):\n\u001b[1;32m    194\u001b[0m     \u001b[39mif\u001b[39;00m i \u001b[39m%\u001b[39m \u001b[39m4\u001b[39m \u001b[39m==\u001b[39m \u001b[39m0\u001b[39m \u001b[39mor\u001b[39;00m i \u001b[39m%\u001b[39m \u001b[39m4\u001b[39m \u001b[39m==\u001b[39m \u001b[39m1\u001b[39m:\n\u001b[0;32m--> 195\u001b[0m         sid \u001b[39m=\u001b[39m np\u001b[39m.\u001b[39;49mrandom\u001b[39m.\u001b[39;49mchoice(\u001b[39mself\u001b[39;49m\u001b[39m.\u001b[39;49munlabeled_id, \u001b[39m2\u001b[39;49m, replace\u001b[39m=\u001b[39;49m\u001b[39mFalse\u001b[39;49;00m)\n\u001b[1;32m    196\u001b[0m         batch_x1\u001b[39m.\u001b[39mappend(\u001b[39mself\u001b[39m\u001b[39m.\u001b[39mX[sid[\u001b[39m0\u001b[39m]])\n\u001b[1;32m    197\u001b[0m         batch_x2\u001b[39m.\u001b[39mappend(\u001b[39mself\u001b[39m\u001b[39m.\u001b[39mX[sid[\u001b[39m1\u001b[39m]])\n",
      "\u001b[0;31mKeyboardInterrupt\u001b[0m: "
     ]
    }
   ],
   "source": [
    "from sklearn.metrics import accuracy_score, f1_score\n",
    "\n",
    "acc_list = []\n",
    "f1_list = []\n",
    "X_gm_train, X_gm_test, y_gm_train, y_gm_test = preprocess_data(cicids_df)\n",
    "# # Initialize and train the model\n",
    "clf = PReNet(device='cuda', verbose=1, epochs=1, batch_size=64)\n",
    "clf.fit(X_gm_train.to_numpy(), y=y_gm_train.values)\n",
    "\n"
   ]
  },
  {
   "cell_type": "code",
   "execution_count": null,
   "metadata": {},
   "outputs": [
    {
     "name": "stdout",
     "output_type": "stream",
     "text": [
      "0.9857167712510247 0.923649259942822\n"
     ]
    }
   ],
   "source": [
    "y_pred = clf.predict(X_gm_test.to_numpy())\n",
    "\n",
    "# Calculate metrics\n",
    "acc = accuracy_score(y_gm_test, y_pred)\n",
    "f1 = f1_score(y_gm_test, y_pred, average='binary')  # Use 'binary' or 'weighted' based on your label type\n",
    "print(acc, f1)\n"
   ]
  },
  {
   "cell_type": "markdown",
   "metadata": {},
   "source": [
    "### Individual Attack Accuracy"
   ]
  },
  {
   "cell_type": "code",
   "execution_count": null,
   "metadata": {},
   "outputs": [],
   "source": [
    "clf = global_model.clf"
   ]
  },
  {
   "cell_type": "code",
   "execution_count": null,
   "metadata": {},
   "outputs": [
    {
     "name": "stdout",
     "output_type": "stream",
     "text": [
      "__Portscan__\n",
      "0.9528439759592324 0.7937964649697209\n",
      "__DoS Hulk__\n",
      "0.9821739403510031 0.9107028484746335\n",
      "__DDoS__\n",
      "0.9823961850290839 0.9117089379916271\n",
      "__Infiltration - Portscan__\n",
      "0.9344951982636446 0.6923882437809787\n",
      "__DoS GoldenEye__\n",
      "0.9887666527410296 0.9406280667320903\n",
      "__FTP-Patator__\n",
      "0.8738023542294004 0.16636528028933092\n",
      "__DoS Slowloris__\n",
      "0.9545066008167917 0.7909209951986033\n",
      "__SSH-Patator__\n",
      "0.8323497531012887 0.004291845493562232\n",
      "__DoS Slowhttptest__\n",
      "0.9651560926485397 0.8322017458777885\n"
     ]
    }
   ],
   "source": [
    "atk_info_list = define_atk(atk_list, edge_area_list, cicids_df, benign_df)\n",
    "atk_acc = {}\n",
    "atk_f1 = {}\n",
    "atk_scores = {}\n",
    "for attack in atk_info_list.values():\n",
    "    print(f\"__{attack.name}__\")\n",
    "    _, X_test, _, y_test = preprocess_data(attack.data.copy())\n",
    "    y_pred = clf.predict(X_test.to_numpy())\n",
    "\n",
    "    # Calculate metrics\n",
    "    acc = accuracy_score(y_test, y_pred)\n",
    "    f1 = f1_score(y_test, y_pred, average='binary')  # Use 'binary' or 'weighted' based on your label type    \n",
    "    atk_acc[attack.name] = acc\n",
    "    atk_f1[attack.name]=f1\n",
    "    print(acc, f1)\n",
    "    \n",
    "    anomaly_scores = clf.decision_function(X_gm_test.to_numpy())\n",
    "    atk_scores[attack.name] = anomaly_scores\n",
    "    \n",
    "    \n",
    "    "
   ]
  },
  {
   "cell_type": "code",
   "execution_count": null,
   "metadata": {},
   "outputs": [
    {
     "data": {
      "image/png": "[encoded data removed]",
      "text/plain": [
       "<Figure size 1200x600 with 1 Axes>"
      ]
     },
     "metadata": {},
     "output_type": "display_data"
    },
    {
     "data": {
      "image/png": "[encoded data removed]",
      "text/plain": [
       "<Figure size 1200x600 with 1 Axes>"
      ]
     },
     "metadata": {},
     "output_type": "display_data"
    }
   ],
   "source": [
    "import matplotlib.pyplot as plt\n",
    "\n",
    "# Plot Accuracy and F1 Score for each attack\n",
    "def plot_metrics(atk_acc, atk_f1):\n",
    "    attack_names = list(atk_acc.keys())\n",
    "    accuracies = list(atk_acc.values())\n",
    "    f1_scores = list(atk_f1.values())\n",
    "\n",
    "    x = range(len(attack_names))\n",
    "\n",
    "    plt.figure(figsize=(12, 6))\n",
    "    plt.bar(x, accuracies, width=0.4, label=\"Accuracy\", align='center', alpha=0.8)\n",
    "    plt.bar(x, f1_scores, width=0.4, label=\"F1 Score\", align='edge', alpha=0.8)\n",
    "\n",
    "    plt.xticks(x, attack_names, rotation=45)\n",
    "    plt.ylabel(\"Score\")\n",
    "    plt.title(\"Accuracy and F1 Score per Attack\")\n",
    "    plt.legend()\n",
    "    plt.grid(axis='y', linestyle='--', alpha=0.7)\n",
    "    plt.tight_layout()\n",
    "    plt.show()\n",
    "\n",
    "# Plot anomaly scores for each attack\n",
    "def plot_anomaly_scores(atk_scores):\n",
    "    plt.figure(figsize=(12, 6))\n",
    "\n",
    "    for attack, scores in atk_scores.items():\n",
    "        plt.hist(scores, bins=50, alpha=0.5, label=f\"{attack}\")\n",
    "\n",
    "    plt.xlabel(\"Anomaly Score\")\n",
    "    plt.ylabel(\"Frequency\")\n",
    "    plt.title(\"Anomaly Scores Distribution per Attack\")\n",
    "    plt.legend()\n",
    "    plt.grid(axis='y', linestyle='--', alpha=0.7)\n",
    "    plt.tight_layout()\n",
    "    plt.show()\n",
    "\n",
    "# Call the functions\n",
    "plot_metrics(atk_acc, atk_f1)\n",
    "plot_anomaly_scores(atk_scores)\n"
   ]
  },
  {
   "cell_type": "markdown",
   "metadata": {},
   "source": []
  },
  {
   "cell_type": "code",
   "execution_count": null,
   "metadata": {},
   "outputs": [
    {
     "data": {
      "text/plain": [
       "<Figure size 1000x600 with 0 Axes>"
      ]
     },
     "execution_count": 30,
     "metadata": {},
     "output_type": "execute_result"
    },
    {
     "data": {
      "text/plain": [
       "(array([1.000e+00, 0.000e+00, 0.000e+00, 7.000e+00, 4.000e+00, 2.400e+01,\n",
       "        1.900e+01, 4.900e+01, 1.830e+02, 1.010e+02, 6.630e+02, 2.290e+02,\n",
       "        1.590e+03, 1.729e+03, 2.041e+03, 4.953e+03, 1.292e+03, 7.192e+03,\n",
       "        2.695e+03, 5.684e+03, 4.922e+03, 1.984e+03, 3.829e+03, 8.820e+02,\n",
       "        1.753e+03, 7.460e+02, 5.080e+02, 4.460e+02, 3.260e+02, 2.460e+02,\n",
       "        2.260e+02, 1.930e+02, 1.160e+02, 1.110e+02, 7.100e+01, 4.200e+01,\n",
       "        2.300e+01, 1.100e+01, 9.000e+00, 2.000e+00, 2.000e+00, 2.000e+00,\n",
       "        1.000e+00, 0.000e+00, 0.000e+00, 1.000e+00, 1.000e+00, 0.000e+00,\n",
       "        0.000e+00, 0.000e+00, 0.000e+00, 2.000e+00, 1.000e+00, 2.000e+00,\n",
       "        0.000e+00, 2.000e+00, 1.000e+00, 2.000e+00, 2.000e+00, 1.000e+00,\n",
       "        0.000e+00, 1.000e+00, 0.000e+00, 1.000e+00, 0.000e+00, 0.000e+00,\n",
       "        0.000e+00, 0.000e+00, 1.000e+00, 1.000e+00, 0.000e+00, 0.000e+00,\n",
       "        0.000e+00, 0.000e+00, 0.000e+00, 0.000e+00, 0.000e+00, 3.000e+00,\n",
       "        5.000e+00, 9.000e+00, 1.100e+01, 3.000e+01, 3.000e+01, 4.900e+01,\n",
       "        6.000e+01, 8.200e+01, 9.200e+01, 9.900e+01, 8.100e+01, 1.030e+02,\n",
       "        6.900e+01, 8.500e+01, 5.100e+01, 2.200e+01, 1.900e+01, 1.500e+01,\n",
       "        5.000e+00, 3.000e+00, 2.000e+00, 1.000e+00]),\n",
       " array([0.69343728, 0.75250851, 0.81157974, 0.87065097, 0.92972219,\n",
       "        0.98879342, 1.04786465, 1.10693588, 1.16600711, 1.22507834,\n",
       "        1.28414957, 1.3432208 , 1.40229203, 1.46136326, 1.52043449,\n",
       "        1.57950571, 1.63857694, 1.69764817, 1.7567194 , 1.81579063,\n",
       "        1.87486186, 1.93393309, 1.99300432, 2.05207555, 2.11114678,\n",
       "        2.17021801, 2.22928923, 2.28836046, 2.34743169, 2.40650292,\n",
       "        2.46557415, 2.52464538, 2.58371661, 2.64278784, 2.70185907,\n",
       "        2.7609303 , 2.82000153, 2.87907275, 2.93814398, 2.99721521,\n",
       "        3.05628644, 3.11535767, 3.1744289 , 3.23350013, 3.29257136,\n",
       "        3.35164259, 3.41071382, 3.46978505, 3.52885628, 3.5879275 ,\n",
       "        3.64699873, 3.70606996, 3.76514119, 3.82421242, 3.88328365,\n",
       "        3.94235488, 4.00142611, 4.06049734, 4.11956857, 4.1786398 ,\n",
       "        4.23771102, 4.29678225, 4.35585348, 4.41492471, 4.47399594,\n",
       "        4.53306717, 4.5921384 , 4.65120963, 4.71028086, 4.76935209,\n",
       "        4.82842332, 4.88749454, 4.94656577, 5.005637  , 5.06470823,\n",
       "        5.12377946, 5.18285069, 5.24192192, 5.30099315, 5.36006438,\n",
       "        5.41913561, 5.47820684, 5.53727806, 5.59634929, 5.65542052,\n",
       "        5.71449175, 5.77356298, 5.83263421, 5.89170544, 5.95077667,\n",
       "        6.0098479 , 6.06891913, 6.12799036, 6.18706158, 6.24613281,\n",
       "        6.30520404, 6.36427527, 6.4233465 , 6.48241773, 6.54148896,\n",
       "        6.60056019]),\n",
       " <BarContainer object of 100 artists>)"
      ]
     },
     "execution_count": 30,
     "metadata": {},
     "output_type": "execute_result"
    },
    {
     "data": {
      "text/plain": [
       "(array([  1.,   2.,   0.,  12.,   3.,  20.,  26.,  29.,  50.,  19.,  85.,\n",
       "         22.,  83.,  34.,  68.,  47.,  35.,  49.,  36.,  26.,  25.,  27.,\n",
       "         31.,  30.,  22.,  21.,  16.,  21.,   6.,   2.,   2.,   0.,   2.,\n",
       "          0.,   0.,   0.,   0.,   0.,   0.,   0.,   0.,   0.,   0.,   0.,\n",
       "          1.,   0.,   0.,   1.,   0.,   1.,   1.,   0.,   0.,   0.,   0.,\n",
       "          0.,   0.,   0.,   0.,   0.,   0.,   0.,   0.,   0.,   0.,   1.,\n",
       "          0.,   0.,   1.,   0.,   0.,   1.,   6.,  13.,  17.,  37.,  70.,\n",
       "        102., 119., 186., 212., 294., 346., 388., 374., 377., 302., 258.,\n",
       "        208., 131.,  98.,  57.,  23.,  11.,   8.,   5.,   1.,   0.,   0.,\n",
       "          2.]),\n",
       " array([1.12100303, 1.17780782, 1.23461261, 1.29141739, 1.34822218,\n",
       "        1.40502697, 1.46183175, 1.51863654, 1.57544133, 1.63224611,\n",
       "        1.6890509 , 1.74585569, 1.80266047, 1.85946526, 1.91627005,\n",
       "        1.97307484, 2.02987962, 2.08668441, 2.1434892 , 2.20029398,\n",
       "        2.25709877, 2.31390356, 2.37070834, 2.42751313, 2.48431792,\n",
       "        2.5411227 , 2.59792749, 2.65473228, 2.71153707, 2.76834185,\n",
       "        2.82514664, 2.88195143, 2.93875621, 2.995561  , 3.05236579,\n",
       "        3.10917057, 3.16597536, 3.22278015, 3.27958493, 3.33638972,\n",
       "        3.39319451, 3.4499993 , 3.50680408, 3.56360887, 3.62041366,\n",
       "        3.67721844, 3.73402323, 3.79082802, 3.8476328 , 3.90443759,\n",
       "        3.96124238, 4.01804716, 4.07485195, 4.13165674, 4.18846153,\n",
       "        4.24526631, 4.3020711 , 4.35887589, 4.41568067, 4.47248546,\n",
       "        4.52929025, 4.58609503, 4.64289982, 4.69970461, 4.75650939,\n",
       "        4.81331418, 4.87011897, 4.92692376, 4.98372854, 5.04053333,\n",
       "        5.09733812, 5.1541429 , 5.21094769, 5.26775248, 5.32455726,\n",
       "        5.38136205, 5.43816684, 5.49497162, 5.55177641, 5.6085812 ,\n",
       "        5.66538599, 5.72219077, 5.77899556, 5.83580035, 5.89260513,\n",
       "        5.94940992, 6.00621471, 6.06301949, 6.11982428, 6.17662907,\n",
       "        6.23343385, 6.29023864, 6.34704343, 6.40384822, 6.460653  ,\n",
       "        6.51745779, 6.57426258, 6.63106736, 6.68787215, 6.74467694,\n",
       "        6.80148172]),\n",
       " <BarContainer object of 100 artists>)"
      ]
     },
     "execution_count": 30,
     "metadata": {},
     "output_type": "execute_result"
    },
    {
     "data": {
      "image/png": "[encoded data removed]",
      "text/plain": [
       "<Figure size 1000x600 with 1 Axes>"
      ]
     },
     "metadata": {},
     "output_type": "display_data"
    }
   ],
   "source": [
    "scores_inliers = anomaly_scores[y_gm_test == 0]  # Assuming '0' is the label for inliers\n",
    "scores_outliers = anomaly_scores[y_gm_test == 1]  # Assuming '1' is the label for outliers\n",
    "# Create the plots\n",
    "plt.figure(figsize=(10, 6))  # Set the figure size\n",
    "\n",
    "# Plot for inliers\n",
    "plt.hist(scores_inliers, bins=100, alpha=0.7, label='Inliers')\n",
    "\n",
    "# Plot for outliers\n",
    "plt.hist(scores_outliers, bins=100, alpha=0.7, label='Outliers')"
   ]
  },
  {
   "cell_type": "markdown",
   "metadata": {},
   "source": [
    "Functions"
   ]
  },
  {
   "cell_type": "code",
   "execution_count": null,
   "metadata": {},
   "outputs": [],
   "source": [
    "\n",
    "def plot_graph_scenario(metrics_dict, supervision_rate_list):\n",
    "    fig, axes = plt.subplots(2,1,figsize=(14, 8))  # Create a figure and a set of subplots.\n",
    "    ax_n = 0\n",
    "    for metric_type in metrics_dict:\n",
    "        curr_ax = axes[ax_n]\n",
    "        ax_n +=1\n",
    "\n",
    "        # Assuming metrics_dict['roc_auc'] contains the ROC AUC values for each IP\n",
    "        ips = list(metrics_dict[metric_type].keys())\n",
    "        n_ips = len(ips)\n",
    "        n_supervision_rates = len(supervision_rate_list)\n",
    "\n",
    "        # Create a numpy array to hold the ROC AUC values\n",
    "        roc_aucs = np.zeros((n_ips, n_supervision_rates))\n",
    "        \n",
    "        for i, ip in enumerate(ips):\n",
    "            for j, sr in enumerate(supervision_rate_list):\n",
    "                roc_aucs[i, j] = metrics_dict[metric_type][ip][sr]\n",
    "\n",
    "        # Create the bar width\n",
    "        bar_width = 0.15\n",
    "        index = np.arange(n_ips)\n",
    "\n",
    "        # Plot bars for each supervision rate\n",
    "        for j, sr in enumerate(supervision_rate_list):\n",
    "            curr_ax.bar(index + j * bar_width, roc_aucs[:, j], bar_width, label=f'Supervision Rate: {sr}')\n",
    "\n",
    "        curr_ax.set_title('ROC AUC Comparison by IP and Supervision Rate')\n",
    "        curr_ax.set_xlabel('IP Address')\n",
    "        curr_ax.set_ylabel('AUC')\n",
    "        curr_ax.set_xticks(index + bar_width * (n_supervision_rates - 1) / 2)\n",
    "        curr_ax.set_xticklabels(ips, rotation=45)\n",
    "        curr_ax.legend()\n",
    "        curr_ax.grid(True)\n",
    "\n",
    "    plt.tight_layout()\n",
    "    plt.show()"
   ]
  },
  {
   "cell_type": "code",
   "execution_count": null,
   "metadata": {},
   "outputs": [
    {
     "ename": "ModuleNotFoundError",
     "evalue": "No module named 'modAL'",
     "output_type": "error",
     "traceback": [
      "\u001b[0;31m---------------------------------------------------------------------------\u001b[0m",
      "\u001b[0;31mModuleNotFoundError\u001b[0m                       Traceback (most recent call last)",
      "Cell \u001b[0;32mIn[15], line 2\u001b[0m\n\u001b[1;32m      1\u001b[0m \u001b[39mfrom\u001b[39;00m \u001b[39mfunctools\u001b[39;00m \u001b[39mimport\u001b[39;00m partial\n\u001b[0;32m----> 2\u001b[0m \u001b[39mfrom\u001b[39;00m \u001b[39mmodAL\u001b[39;00m\u001b[39m.\u001b[39;00m\u001b[39mbatch\u001b[39;00m \u001b[39mimport\u001b[39;00m uncertainty_batch_sampling\n\u001b[1;32m      4\u001b[0m \u001b[39mdef\u001b[39;00m \u001b[39mlm_eval_2\u001b[39m(Xgmm_test_dvc, gm_pred, lm_clf):\n\u001b[1;32m      5\u001b[0m     train_perc \u001b[39m=\u001b[39m \u001b[39m0.6\u001b[39m\n",
      "\u001b[0;31mModuleNotFoundError\u001b[0m: No module named 'modAL'"
     ]
    }
   ],
   "source": [
    "from functools import partial\n",
    "from modAL.batch import uncertainty_batch_sampling\n",
    "\n",
    "def lm_eval_2(Xgmm_test_dvc, gm_pred, lm_clf):\n",
    "    train_perc = 0.6\n",
    "    Xlm_train, Xlm_test, ylm_train, ylm_test = train_test_split(Xgmm_test_dvc, \n",
    "                                                        gm_pred, \n",
    "                                                        test_size=1 - train_perc, \n",
    "                                                        shuffle=True, \n",
    "                                                        stratify=gm_pred, \n",
    "                                                        random_state=42)    \n",
    "    if lm_clf == \"Comittee\":\n",
    "        # initializing Committee members\n",
    "        n_members = 3\n",
    "        learner_list = list()\n",
    "        for member_idx in range(n_members):\n",
    "\n",
    "            # initializing learner\n",
    "            learner = ActiveLearner(\n",
    "                estimator=RandomForestClassifier(),\n",
    "                X_training=Xlm_train, y_training=ylm_train,\n",
    "            )\n",
    "            learner_list.append(learner)        \n",
    "        lm_clf = Committee(learner_list=learner_list)\n",
    "        predictions = lm_clf.predict(Xlm_test)    \n",
    "    else:\n",
    "        # Train the classifier on the training data\n",
    "        lm_clf.fit(Xlm_train, ylm_train)    \n",
    "        \n",
    "        predictions = lm_clf.predict(Xlm_test)\n",
    "\n",
    "        \n",
    "    # Evaluate accuracy\n",
    "    accuracy = accuracy_score(ylm_test, predictions)\n",
    "    print(f\"Accuracy: {accuracy}\")\n",
    "    return accuracy, lm_clf, Xlm_train, ylm_train\n",
    "# Read the csv and clean it\n",
    "def train_gm(Xgm_train_scaled, y_train, supervision_rate, model):\n",
    "\n",
    "\n",
    "    # Prepare labels for semi-supervised learning\n",
    "    idx = np.where(y_train == 1)[0]\n",
    "    y = np.zeros_like(y_train.values)\n",
    "    y = set_supervised_label(supervision_rate, anomaly_rate, y, idx)\n",
    "    # Train the model\n",
    "    path = f\"gm_1_{supervision_rate}.pkl\"\n",
    "    if os.path.exists(path):\n",
    "        with open(path, 'rb') as f:\n",
    "            clf = pickle.load(f)\n",
    "    else:\n",
    "        clf = model(device='cuda', verbose=1, epochs=1)\n",
    "        clf.fit(X=Xgm_train_scaled.to_numpy(), y=y_train)  \n",
    "            \n",
    "            # with open(path, 'wb') as f:\n",
    "                # pickle.dump(clf, f)\n",
    "    return clf\n",
    "def train_lm(victim_IP, Xgmm_test, y_test, scaler, gm_clf,lm_clf, method = \"Normal\"):\n",
    "    # Load Model Instead      \n",
    "    # dropping_cols = ['Protocol', 'id', 'Flow ID', 'Src IP', 'Src Port', 'Dst IP', \n",
    "    #                 'Dst Port', 'Timestamp', 'Dvc Label']            \n",
    "    # Create a fresh copy of the DataFrame for each IP and supervision rate\n",
    "    roc_auc, curr_X_test_scaled, gm_pred, gm_opt_threshold = perform_inference(Xgmm_test, y_test, dropping_cols, scaler, gm_clf)\n",
    "    print(f\"gm_opt_threshold is {gm_opt_threshold}\")\n",
    "    acc, updated_lm_clf, Xlm_train, Ylm_train = lm_eval_2(curr_X_test_scaled, gm_pred, lm_clf)\n",
    "    return updated_lm_clf, gm_opt_threshold, Xlm_train, Ylm_train\n",
    "\n",
    "\n",
    "\n",
    "# Perform New Attack Classification using Local Model (Obtain)\n",
    "def new_attacks_inference(lm_clf, Xnew_train, ynew_train, scaler):\n",
    "\n",
    "        cart_predictions = lm_clf.predict(Xnew_train)\n",
    "        # Evaluate accuracy\n",
    "        accuracy = accuracy_score(ynew_train, cart_predictions)\n",
    "        print(f\"Accuracy before update: {accuracy}\")\n",
    "        \n",
    "        # Get Confidence Point\n",
    "        # Get the indices of the samples where the actual label doesn't match the predicted label\n",
    "        mismatch_indices = [i for i, (actual, cart_predictions) in enumerate(zip(ynew_train, cart_predictions)) if actual != cart_predictions]\n",
    "\n",
    "        uncertain_count = 0\n",
    "        cart_probabilities = lm_clf.predict_proba(Xnew_train)\n",
    "\n",
    "        return accuracy, cart_probabilities, mismatch_indices \n",
    "\n",
    "def active_learning_query(lm_clf, Xnew_train, ynew_train, scaler):\n",
    "    pass\n",
    "    #Use Stream-Based Sampling, however instead of 1 by 1, get the whole pool\n",
    "\n",
    "        # X_pool = Xnew_train.copy()\n",
    "        # y_pool = ynew_train.copy()\n",
    "        # for idx in range(n_queries):\n",
    "        #     query_idx, query_instance = lm_clf.query(X_pool)\n",
    "        #     lm_clf.teach(\n",
    "        #         X=X_pool[query_idx].reshape(1, -1),\n",
    "        #         y=y_pool[query_idx].reshape(1, )\n",
    "        #     )\n",
    "        #     performance_history.append(lm_clf.score())\n",
    "        #     # remove queried instance from pool\n",
    "        #     X_pool = np.delete(X_pool, query_idx, axis=0)\n",
    "        #     y_pool = np.delete(y_pool, query_idx)     \n",
    "        # predictions = lm_clf.predict(X_pool)     \n",
    "        \n",
    "    \n",
    "\n",
    "# Forward Low confidence data to GM and Label (Get GM Accuracy)\n",
    "def get_low_confidence_data(cart_probabilities, mismatch_indices, threshold=1):\n",
    "    if threshold == 1:\n",
    "        forward_gm_idx = np.where((cart_probabilities[:, 0] != threshold) & (cart_probabilities[:, 0] !=  threshold))\n",
    "    else: \n",
    "        forward_gm_idx = np.where((cart_probabilities[:, 0] > threshold) & (cart_probabilities[:, 0] <  1-threshold))\n",
    "    print(f\"Total Uploaded Data {len(forward_gm_idx[0])}\")\n",
    "    # How many Misclassified data is inconfident\n",
    "    set_mismatch_indices = set(list(mismatch_indices))\n",
    "    set_forward_gm_idx = set(forward_gm_idx[0].tolist())\n",
    "    x = len(set_mismatch_indices.intersection(set_forward_gm_idx))\n",
    "    print(f\"Percentage of misclassied data that is uploaded: {x/len(mismatch_indices)}\")\n",
    "    print(f\"Total Data Uploaded: {len(forward_gm_idx[0])/len(cart_probabilities)}\")\n",
    "    # print(f\"Correctly Detected / Uploaded data: {(x/len(forward_gm_idx[0]))}\")  \n",
    "    return forward_gm_idx\n",
    "\n",
    "# Upload to label and Perform Training on CART_Classifier\n",
    "def upload_gm(X_forward, y_forward, gm_clf, lm_clf, gm_opt_threshold, orig_Xlm_train, orig_Ylm_train):\n",
    "    anomaly_scores = gm_clf.decision_function(X=X_forward)\n",
    "    initial_gm_pred = np.where(anomaly_scores > gm_opt_threshold, 1,0)\n",
    "    accuracy = accuracy_score(y_forward, initial_gm_pred)\n",
    "    print(f'Accuracy of GM before update: {accuracy}')\n",
    "    \n",
    "    # Convert numpy arrays to DataFrames\n",
    "    X_forward_df = pd.DataFrame(X_forward, columns = orig_Xlm_train.columns )\n",
    "    y_forward_df = pd.DataFrame(np.zeros(initial_gm_pred.shape[0]), columns=[\"Label\"])\n",
    "\n",
    "    # Concatenate with original DataFrames\n",
    "    Xtrain = pd.concat([pd.DataFrame(orig_Xlm_train), X_forward_df], axis=0)\n",
    "    Ytrain = pd.concat([pd.DataFrame(orig_Ylm_train, columns=[\"Label\"]), y_forward_df])\n",
    "    Xtrain.columns = orig_Xlm_train.columns\n",
    "    # return Xtrain, Ytrain\n",
    "    # Update GM\n",
    "    gm_clf = train_gm(orig_Xlm_train, orig_Ylm_train, supervision_rate, PReNet)\n",
    "    # Inference using updated GM\n",
    "    anomaly_scores = gm_clf.decision_function(X=X_forward)\n",
    "    updated_gm_pred = np.where(anomaly_scores > gm_opt_threshold, 1,0)\n",
    "    accuracy = accuracy_score(y_forward, updated_gm_pred)\n",
    "    print(f'Accuracy of GM after update: {accuracy}')  \n",
    "    \n",
    "    Ytrain = pd.concat([pd.DataFrame(orig_Ylm_train, columns=[\"Label\"]), pd.DataFrame(updated_gm_pred, columns=[\"Label\"])])  \n",
    "    lm_clf = XGBClassifier(objective='binary:logistic', n_estimators=100, learning_rate=0.1)\n",
    "    # continued_model.fit(X_forward_df, y_forward_df, xgb_model=lm_clf.get_booster())    \n",
    "    # continued_model.fit(Xtrain, Ytrain)\n",
    "    lm_clf.fit(Xtrain, Ytrain)\n",
    "    return lm_clf\n",
    "# Evaluate Accuracy with new attack data\n",
    "def eval_updated_lm(Xnew_test, ynew_test, new_lm_clf):\n",
    "    pred = new_lm_clf.predict(Xnew_test)\n",
    "    acc = accuracy_score(ynew_test, pred)\n",
    "    print(f'Accuracy of updated LM: {acc}')\n"
   ]
  },
  {
   "cell_type": "code",
   "execution_count": null,
   "metadata": {},
   "outputs": [],
   "source": [
    "# Read the csv and clean it\n",
    "def eval_model_unsupervised(improved_df, supervision_rate_list, model, victim_IP):\n",
    "    anomaly_rate = 0.05\n",
    "    metrics_dict = {\n",
    "        'roc_auc': {ip : {sr : 0 for sr in supervision_rate_list} for ip in victim_IP}\n",
    "    }\n",
    "    X_train, X_test, y_train, y_test, scaler = process_dataset(improved_df, anomaly_rate)\n",
    "\n",
    "    for supervision_rate in supervision_rate_list:\n",
    "        # Prepare labels for semi-supervised learning\n",
    "        idx = np.where(y_train == 1)[0]\n",
    "        y = np.zeros_like(y_train.values)\n",
    "\n",
    "        y = set_supervised_label(supervision_rate, anomaly_rate, y, idx)\n",
    "            \n",
    "        dropping_cols = ['Protocol', 'id', 'Flow ID', 'Src IP', 'Src Port', 'Dst IP', \n",
    "                        'Dst Port', 'Timestamp', 'Dvc Label']\n",
    "        X_train.drop(dropping_cols, axis = 1, inplace = True)     \n",
    "        \n",
    "        X_train_scaled = scaler.fit_transform(X_train)\n",
    "        X_train_scaled = pd.DataFrame(X_train_scaled, columns=X_train.columns) \n",
    "        \n",
    "        # Train the model\n",
    "        clf = model(device='cuda', verbose=1, epochs=1)\n",
    "        clf.fit(X=X_train_scaled.to_numpy(), y=y)        \n",
    "        \n",
    "        for curr_ip in victim_IP:\n",
    "            # Create a fresh copy of the DataFrame for each IP and supervision rate\n",
    "\n",
    "            roc_auc = perform_inference(X_test, y_test, curr_ip, dropping_cols, scaler, clf)\n",
    "            # Store metrics\n",
    "            metrics_dict['roc_auc'][curr_ip][supervision_rate] += roc_auc \n",
    "\n",
    "    return metrics_dict\n"
   ]
  },
  {
   "cell_type": "markdown",
   "metadata": {},
   "source": [
    "# Fixing Accuracy"
   ]
  },
  {
   "cell_type": "code",
   "execution_count": null,
   "metadata": {},
   "outputs": [
    {
     "name": "stdout",
     "output_type": "stream",
     "text": [
      "dataset shape (2099976, 91)\n",
      "zero variance columns [] dropped\n",
      "shape after removing zero variance columns: (2099976, 91)\n",
      "5 rows dropped\n",
      "shape after removing nan: (2099971, 91)\n",
      "shape after dropping duplicates: (2099971, 91)\n",
      "columns which have identical values [] dropped\n",
      "shape after removing identical value columns: (2099971, 91)\n",
      "SEMI SUPERVISED, Sampling Rate = 1.0, Supervision = 1.0\n",
      "Start Training...\n",
      "ensemble size: 1\n",
      "epoch  1, training loss: 0.135584, time: 276.3s\n",
      "Start Inference on the training data...\n",
      "Accuracy: 0.9964\n",
      "Precision: 0.9867\n",
      "Recall: 0.9981\n",
      "F1 Score: 0.9924\n",
      "[[1354556    5696]\n",
      " [    803  423921]]\n",
      "SEMI SUPERVISED, Sampling Rate = 1.0, Supervision = 0.5\n",
      "Start Training...\n",
      "ensemble size: 1\n"
     ]
    },
    {
     "ename": "KeyboardInterrupt",
     "evalue": "",
     "output_type": "error",
     "traceback": [
      "\u001b[0;31m---------------------------------------------------------------------------\u001b[0m",
      "\u001b[0;31mKeyboardInterrupt\u001b[0m                         Traceback (most recent call last)",
      "Cell \u001b[0;32mIn[239], line 54\u001b[0m\n\u001b[1;32m     51\u001b[0m supervision_rate_list \u001b[39m=\u001b[39m [\u001b[39m1.0\u001b[39m, \u001b[39m0.5\u001b[39m, \u001b[39m0.25\u001b[39m, \u001b[39m0.1\u001b[39m, \u001b[39m0.05\u001b[39m, \u001b[39m0.0\u001b[39m]\n\u001b[1;32m     53\u001b[0m model \u001b[39m=\u001b[39m PReNet\n\u001b[0;32m---> 54\u001b[0m eval_model_unsupervised(supervision_rate_list, model)\n",
      "Cell \u001b[0;32mIn[239], line 39\u001b[0m, in \u001b[0;36meval_model_unsupervised\u001b[0;34m(supervision_rate_list, model)\u001b[0m\n\u001b[1;32m     36\u001b[0m   y[idx] \u001b[39m=\u001b[39m \u001b[39m1\u001b[39m\n\u001b[1;32m     38\u001b[0m clf \u001b[39m=\u001b[39m model( device \u001b[39m=\u001b[39m \u001b[39m'\u001b[39m\u001b[39mcuda\u001b[39m\u001b[39m'\u001b[39m, verbose\u001b[39m=\u001b[39m\u001b[39m1\u001b[39m, epochs\u001b[39m=\u001b[39m\u001b[39m1\u001b[39m)\n\u001b[0;32m---> 39\u001b[0m clf\u001b[39m.\u001b[39;49mfit(X\u001b[39m=\u001b[39;49mX_train\u001b[39m.\u001b[39;49mto_numpy(), y \u001b[39m=\u001b[39;49m y)\n\u001b[1;32m     40\u001b[0m \u001b[39m# pred = clf.predict(X_test.to_numpy())\u001b[39;00m\n\u001b[1;32m     41\u001b[0m anomaly_scores \u001b[39m=\u001b[39m clf\u001b[39m.\u001b[39mdecision_function(X_test\u001b[39m.\u001b[39mto_numpy())\n",
      "File \u001b[0;32m~/anaconda3/envs/network_anomaly/lib/python3.10/site-packages/deepod/core/base_model.py:185\u001b[0m, in \u001b[0;36mBaseDeepAD.fit\u001b[0;34m(self, X, y)\u001b[0m\n\u001b[1;32m    182\u001b[0m \u001b[39mfor\u001b[39;00m _ \u001b[39min\u001b[39;00m \u001b[39mrange\u001b[39m(\u001b[39mself\u001b[39m\u001b[39m.\u001b[39mn_ensemble):\n\u001b[1;32m    183\u001b[0m     \u001b[39mself\u001b[39m\u001b[39m.\u001b[39mtrain_loader, \u001b[39mself\u001b[39m\u001b[39m.\u001b[39mnet, \u001b[39mself\u001b[39m\u001b[39m.\u001b[39mcriterion \u001b[39m=\u001b[39m \u001b[39mself\u001b[39m\u001b[39m.\u001b[39mtraining_prepare(\u001b[39mself\u001b[39m\u001b[39m.\u001b[39mtrain_data,\n\u001b[1;32m    184\u001b[0m                                                                         y\u001b[39m=\u001b[39m\u001b[39mself\u001b[39m\u001b[39m.\u001b[39mtrain_label)\n\u001b[0;32m--> 185\u001b[0m     \u001b[39mself\u001b[39;49m\u001b[39m.\u001b[39;49m_training()\n\u001b[1;32m    187\u001b[0m \u001b[39mif\u001b[39;00m \u001b[39mself\u001b[39m\u001b[39m.\u001b[39mverbose \u001b[39m>\u001b[39m\u001b[39m=\u001b[39m \u001b[39m1\u001b[39m:\n\u001b[1;32m    188\u001b[0m     \u001b[39mprint\u001b[39m(\u001b[39m'\u001b[39m\u001b[39mStart Inference on the training data...\u001b[39m\u001b[39m'\u001b[39m)\n",
      "File \u001b[0;32m~/anaconda3/envs/network_anomaly/lib/python3.10/site-packages/deepod/core/base_model.py:336\u001b[0m, in \u001b[0;36mBaseDeepAD._training\u001b[0;34m(self)\u001b[0m\n\u001b[1;32m    334\u001b[0m total_loss \u001b[39m=\u001b[39m \u001b[39m0\u001b[39m\n\u001b[1;32m    335\u001b[0m cnt \u001b[39m=\u001b[39m \u001b[39m0\u001b[39m\n\u001b[0;32m--> 336\u001b[0m \u001b[39mfor\u001b[39;00m batch_x \u001b[39min\u001b[39;00m \u001b[39mself\u001b[39m\u001b[39m.\u001b[39mtrain_loader:\n\u001b[1;32m    337\u001b[0m     loss \u001b[39m=\u001b[39m \u001b[39mself\u001b[39m\u001b[39m.\u001b[39mtraining_forward(batch_x, \u001b[39mself\u001b[39m\u001b[39m.\u001b[39mnet, \u001b[39mself\u001b[39m\u001b[39m.\u001b[39mcriterion)\n\u001b[1;32m    338\u001b[0m     \u001b[39mself\u001b[39m\u001b[39m.\u001b[39mnet\u001b[39m.\u001b[39mzero_grad()\n",
      "File \u001b[0;32m~/anaconda3/envs/network_anomaly/lib/python3.10/site-packages/deepod/models/tabular/prenet.py:177\u001b[0m, in \u001b[0;36mPReNetLoader.__next__\u001b[0;34m(self)\u001b[0m\n\u001b[1;32m    175\u001b[0m \u001b[39mdef\u001b[39;00m\u001b[39m \u001b[39m\u001b[39m__next__\u001b[39m(\u001b[39mself\u001b[39m):\n\u001b[1;32m    176\u001b[0m     \u001b[39mself\u001b[39m\u001b[39m.\u001b[39mcounter \u001b[39m+\u001b[39m\u001b[39m=\u001b[39m \u001b[39m1\u001b[39m\n\u001b[0;32m--> 177\u001b[0m     x1, x2, y \u001b[39m=\u001b[39m \u001b[39mself\u001b[39;49m\u001b[39m.\u001b[39;49mbatch_generation()\n\u001b[1;32m    178\u001b[0m     x1, x2, y \u001b[39m=\u001b[39m torch\u001b[39m.\u001b[39mfrom_numpy(x1), torch\u001b[39m.\u001b[39mfrom_numpy(x2), torch\u001b[39m.\u001b[39mfrom_numpy(y)\n\u001b[1;32m    180\u001b[0m     \u001b[39mif\u001b[39;00m \u001b[39mself\u001b[39m\u001b[39m.\u001b[39mcounter \u001b[39m>\u001b[39m \u001b[39mself\u001b[39m\u001b[39m.\u001b[39msteps_per_epoch:\n",
      "File \u001b[0;32m~/anaconda3/envs/network_anomaly/lib/python3.10/site-packages/deepod/models/tabular/prenet.py:195\u001b[0m, in \u001b[0;36mPReNetLoader.batch_generation\u001b[0;34m(self)\u001b[0m\n\u001b[1;32m    193\u001b[0m \u001b[39mfor\u001b[39;00m i \u001b[39min\u001b[39;00m \u001b[39mrange\u001b[39m(\u001b[39mself\u001b[39m\u001b[39m.\u001b[39mbatch_size):\n\u001b[1;32m    194\u001b[0m     \u001b[39mif\u001b[39;00m i \u001b[39m%\u001b[39m \u001b[39m4\u001b[39m \u001b[39m==\u001b[39m \u001b[39m0\u001b[39m \u001b[39mor\u001b[39;00m i \u001b[39m%\u001b[39m \u001b[39m4\u001b[39m \u001b[39m==\u001b[39m \u001b[39m1\u001b[39m:\n\u001b[0;32m--> 195\u001b[0m         sid \u001b[39m=\u001b[39m np\u001b[39m.\u001b[39;49mrandom\u001b[39m.\u001b[39;49mchoice(\u001b[39mself\u001b[39;49m\u001b[39m.\u001b[39;49munlabeled_id, \u001b[39m2\u001b[39;49m, replace\u001b[39m=\u001b[39;49m\u001b[39mFalse\u001b[39;49;00m)\n\u001b[1;32m    196\u001b[0m         batch_x1\u001b[39m.\u001b[39mappend(\u001b[39mself\u001b[39m\u001b[39m.\u001b[39mX[sid[\u001b[39m0\u001b[39m]])\n\u001b[1;32m    197\u001b[0m         batch_x2\u001b[39m.\u001b[39mappend(\u001b[39mself\u001b[39m\u001b[39m.\u001b[39mX[sid[\u001b[39m1\u001b[39m]])\n",
      "\u001b[0;31mKeyboardInterrupt\u001b[0m: "
     ]
    }
   ],
   "source": [
    "from sklearn import metrics\n",
    "def get_score(y_true, y_pred):\n",
    "  accuracy = accuracy_score(y_true, y_pred)\n",
    "  precision = precision_score(y_true, y_pred)\n",
    "  recall = recall_score(y_true, y_pred)\n",
    "  f1 = f1_score(y_true, y_pred)\n",
    "  confusion_matrix = metrics.confusion_matrix(y_true, y_pred)\n",
    "\n",
    "  print(f\"Accuracy: {accuracy:.4f}\")\n",
    "  print(f\"Precision: {precision:.4f}\")\n",
    "  print(f\"Recall: {recall:.4f}\")\n",
    "  print(f\"F1 Score: {f1:.4f}\")\n",
    "  print(confusion_matrix)\n",
    "  \n",
    "# Read the csv and clean it\n",
    "  \n",
    "  \n",
    "df = read_csv()\n",
    "df = pd.concat([df[df['Label'] == 'BENIGN'], df[df['Label'] != 'BENIGN'].sample(frac=0.3, random_state=42)]) \n",
    "ratio = df.loc[df[\"Label\"] == \"BENIGN\"].shape[0]/ df.loc[df[\"Label\"] != \"BENIGN\"].shape[0]\n",
    "print(f'Ratio of Benign to Anomaly is {ratio} : 1')\n",
    "def eval_model_unsupervised(supervision_rate_list, model):\n",
    "  anomaly_rate = 1.0\n",
    "  for supervision_rate in supervision_rate_list:\n",
    "    # supervision = False\n",
    "    improved_df = df.copy()\n",
    "\n",
    "\n",
    "    X_train, X_test, y_train, y_test = preprocess_data(improved_df)\n",
    "    # Start Training\n",
    "    idx = np.where(y_train==1)[0]\n",
    "    y = np.zeros_like(y_train.values)\n",
    "    if supervision_rate == 0:\n",
    "      print(f\"UNSUPERVISED, Sampling Rate = {anomaly_rate}\")\n",
    "      y[idx[:2]] = 1\n",
    "    else:\n",
    "      print(f\"SEMI SUPERVISED, Sampling Rate = {anomaly_rate}, Supervision = {supervision_rate}\")\n",
    "      idx = np.random.choice(idx, size=int(supervision_rate*len(idx)), replace=False)\n",
    "      y[idx] = 1\n",
    "    \n",
    "    clf = model( device = 'cuda', verbose=1, epochs=1)\n",
    "    clf.fit(X=X_train.to_numpy(), y = y)\n",
    "    # pred = clf.predict(X_test.to_numpy())\n",
    "    anomaly_scores = clf.decision_function(X_test.to_numpy())\n",
    "\n",
    "    fpr, tpr, _ = roc_curve(y_test, anomaly_scores)\n",
    "    precision, recall, thresholds = precision_recall_curve(y_test, anomaly_scores)\n",
    "    opt_threshold = get_optimal_threshold(precision, recall, thresholds)\n",
    "    pred = np.where(anomaly_scores > opt_threshold, 1,0)\n",
    "    accuracy = accuracy_score(y_test, pred)\n",
    "    get_score(pred, y_test)\n",
    "    \n",
    "\n",
    "supervision_rate_list = [1.0, 0.5, 0.25, 0.1, 0.05, 0.0]\n",
    "\n",
    "model = PReNet\n",
    "eval_model_unsupervised(supervision_rate_list, model)\n"
   ]
  },
  {
   "cell_type": "code",
   "execution_count": null,
   "metadata": {},
   "outputs": [],
   "source": []
  }
 ],
 "metadata": {
  "kernelspec": {
   "display_name": "edge_computing",
   "language": "python",
   "name": "python3"
  },
  "language_info": {
   "codemirror_mode": {
    "name": "ipython",
    "version": 3
   },
   "file_extension": ".py",
   "mimetype": "text/x-python",
   "name": "python",
   "nbconvert_exporter": "python",
   "pygments_lexer": "ipython3",
   "version": "3.10.16"
  },
  "orig_nbformat": 4
 },
 "nbformat": 4,
 "nbformat_minor": 2
}
