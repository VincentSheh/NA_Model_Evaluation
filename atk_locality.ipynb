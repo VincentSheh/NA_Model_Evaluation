{
 "cells": [
  {
   "cell_type": "code",
   "execution_count": 4,
   "metadata": {},
   "outputs": [],
   "source": [
    "\n",
    "# %config IPCompleter.greedy=True\n",
    "import pandas as pd\n",
    "import seaborn as sns\n",
    "import numpy as np\n",
    "import pickle\n",
    "from xgboost import XGBClassifier\n",
    "import random\n",
    "\n",
    "import matplotlib as matplot\n",
    "import matplotlib.pyplot as plt\n",
    "# %matplotlib inline\n",
    "import torch\n",
    "from torch import nn\n",
    "from torch.nn import functional as F\n",
    "from torch.utils.data import DataLoader, TensorDataset\n",
    "from sklearn.model_selection import train_test_split\n",
    "from IPython.core.interactiveshell import InteractiveShell\n",
    "InteractiveShell.ast_node_interactivity = \"all\"\n",
    "\n",
    "import warnings, os \n",
    "# warnings.filterwarnings(\"ignore\")\n",
    "\n",
    "# from keras import Sequential\n",
    "# from keras.models import Model, load_model\n",
    "# from keras.layers import *\n",
    "# from keras.callbacks import ModelCheckpoint\n",
    "# from keras import regularizers\n",
    "from matplotlib import pyplot as plt\n",
    "\n",
    "from sklearn.metrics import *\n",
    "from sklearn.tree import DecisionTreeClassifier\n",
    "from sklearn.ensemble import RandomForestClassifier, ExtraTreesClassifier, VotingClassifier\n",
    "from sklearn.model_selection import train_test_split\n",
    "from sklearn.preprocessing import LabelEncoder\n",
    "\n",
    "from sklearn.feature_selection import RFE\n",
    "from sklearn.decomposition import PCA, TruncatedSVD, PCA\n",
    "from sklearn.svm import LinearSVC\n",
    "\n",
    "import xgboost\n",
    "# from mlxtend.classifier import EnsembleVoteClassifier \n",
    "# import shap\n",
    "import sklearn.neighbors\n",
    "\n",
    "from deepod.models import PReNet\n",
    "from collections import Counter\n",
    "# from modAL.models impor ActiveLearner, Committee\n",
    "from sklearn.preprocessing import StandardScaler, RobustScaler, QuantileTransformer, MinMaxScaler\n",
    "import copy\n",
    "from itertools import combinations, product\n",
    "from sklearn.datasets import make_classification\n",
    "# from alipy import ToolBox\n",
    "# from alipy.utils.misc import nsmallestarg, randperm, nlargestarg"
   ]
  },
  {
   "cell_type": "markdown",
   "metadata": {},
   "source": [
    "### Preprocess Data"
   ]
  },
  {
   "cell_type": "code",
   "execution_count": 5,
   "metadata": {},
   "outputs": [
    {
     "name": "stdout",
     "output_type": "stream",
     "text": [
      "dataset shape (2099976, 91)\n",
      "zero variance columns [] dropped\n",
      "shape after removing zero variance columns: (2099976, 91)\n",
      "5 rows dropped\n",
      "shape after removing nan: (2099971, 91)\n",
      "shape after dropping duplicates: (2099971, 91)\n",
      "columns which have identical values [] dropped\n",
      "shape after removing identical value columns: (2099971, 91)\n",
      "Label\n",
      "BENIGN                     1582561\n",
      "Portscan                     10000\n",
      "DoS Hulk                     10000\n",
      "DDoS                         10000\n",
      "Infiltration - Portscan      10000\n",
      "DoS GoldenEye                 7567\n",
      "FTP-Patator                   3972\n",
      "DoS Slowloris                 3859\n",
      "SSH-Patator                   2961\n",
      "DoS Slowhttptest              1740\n",
      "Name: count, dtype: int64\n"
     ]
    }
   ],
   "source": [
    "# dataset_csv_path = './Dataset/CSECICIDS2018_improved'\n",
    "dataset_csv_path = './Dataset/CICIDS2017_improved'\n",
    "csv_file_names = os.listdir(dataset_csv_path)[:]\n",
    "def clean_df(df):\n",
    "    # Remove the space before each feature names\n",
    "    df.columns = df.columns.str.strip()\n",
    "    print('dataset shape', df.shape)\n",
    "\n",
    "    # This set of feature should have >= 0 values\n",
    "    num = df._get_numeric_data()\n",
    "    num[num < 0] = 0\n",
    "\n",
    "    zero_variance_cols = []\n",
    "    for col in df.columns:\n",
    "        if len(df[col].unique()) == 1:\n",
    "            zero_variance_cols.append(col)\n",
    "    df.drop(zero_variance_cols, axis = 1, inplace = True)\n",
    "    print('zero variance columns', zero_variance_cols, 'dropped')\n",
    "    print('shape after removing zero variance columns:', df.shape)\n",
    "\n",
    "    df.replace([np.inf, -np.inf], np.nan, inplace = True)\n",
    "    print(df.isna().any(axis = 1).sum(), 'rows dropped')\n",
    "    df.dropna(inplace = True)\n",
    "    print('shape after removing nan:', df.shape)\n",
    "\n",
    "    # Drop duplicate rows\n",
    "    df.drop_duplicates(inplace = True)\n",
    "    print('shape after dropping duplicates:', df.shape)\n",
    "\n",
    "    column_pairs = [(i, j) for i, j in combinations(df, 2) if df[i].equals(df[j])]\n",
    "    ide_cols = []\n",
    "    for column_pair in column_pairs:\n",
    "        ide_cols.append(column_pair[1])\n",
    "    df.drop(ide_cols, axis = 1, inplace = True)\n",
    "    print('columns which have identical values', column_pairs, 'dropped')\n",
    "    print('shape after removing identical value columns:', df.shape)\n",
    "    return df\n",
    "def read_csv():\n",
    "    complete_paths = []\n",
    "    for csv_file_name in csv_file_names:\n",
    "        complete_paths.append(os.path.join(dataset_csv_path, csv_file_name))\n",
    "\n",
    "    improved_df = pd.concat(map(pd.read_csv, complete_paths), \n",
    "                            ignore_index = True)\n",
    "    dropping_cols = ['Protocol', 'id', 'Flow ID', 'Src IP', 'Src Port', 'Dst IP', \n",
    "                    'Dst Port', 'Timestamp']    \n",
    "    improved_df = clean_df(improved_df)\n",
    "    improved_df.drop(dropping_cols, axis = 1, inplace = True)\n",
    "    improved_df['Label'].value_counts()    \n",
    "    return improved_df\n",
    "\n",
    "def sample_df(curr_df, anomaly_rate):\n",
    "    num_benign = len(curr_df.loc[curr_df['Label'] == \"BENIGN\"])\n",
    "    num_attack = len(curr_df) - num_benign\n",
    "    ratio = num_attack / num_benign\n",
    "    \n",
    "    if ratio > anomaly_rate:\n",
    "        sample = anomaly_rate * num_benign / num_attack\n",
    "        sampled_df = pd.concat([curr_df[curr_df['Label'] == 'BENIGN'], \n",
    "                                curr_df[curr_df['Label'] != 'BENIGN'].sample(frac=sample, random_state=42)]) \n",
    "    else:\n",
    "        \n",
    "        sample = (1/anomaly_rate) * num_attack / num_benign\n",
    "        sampled_df = pd.concat([curr_df[curr_df['Label'] != 'BENIGN'], \n",
    "                                curr_df[curr_df['Label'] == 'BENIGN'].sample(frac=sample, random_state=42)]) \n",
    "    \n",
    "    new_ratio = sampled_df.loc[sampled_df[\"Label\"] == \"BENIGN\"].shape[0] / sampled_df.loc[sampled_df[\"Label\"] != \"BENIGN\"].shape[0]\n",
    "    \n",
    "    return sampled_df\n",
    "\n",
    "def preprocess_data(df, train_perc=0.15, random_state=42):\n",
    "    # Make a copy of the dataframe\n",
    "    improved_df = df.copy()\n",
    "    \n",
    "    # Clean the labels\n",
    "    #* Remove Attack data labeled as Benign\n",
    "    # attepmted_labels = [s for s in improved_df['Label'].unique() if 'Attempted' in s]\n",
    "    # improved_df.drop(['Attempted Category'], axis=1, inplace=True)\n",
    "    # improved_df.replace(attepmted_labels, 'BENIGN', inplace=True)\n",
    "    #* --\n",
    "\n",
    "    # Sample the anomaly rate\n",
    "    # print(f\"improved_df.shape {improved_df.shape} Before Sampling Out\")\n",
    "    # improved_df = sample_df(improved_df, anomaly_rate)\n",
    "    # print(f\"improved_df.shape {improved_df.shape} after Sampling Out\")\n",
    "    # ratio = improved_df.loc[improved_df[\"Label\"] == \"BENIGN\"].shape[0] / improved_df.loc[improved_df[\"Label\"] != \"BENIGN\"].shape[0]\n",
    "    # print(f\"Ratio of Benign to Anomaly is {ratio:.2f} : 1\")\n",
    "    \n",
    "    # Prepare features and labels\n",
    "    scaler = StandardScaler()\n",
    "    Y = improved_df['Label'].map({\"BENIGN\": 0}).fillna(1)  # Map BENIGN to 0 and others to 1\n",
    "    X = improved_df.drop(columns=[\"Label\"], axis=1)\n",
    "    X_scaled = scaler.fit_transform(X)\n",
    "    X_scaled = pd.DataFrame(X_scaled, columns=X.columns)\n",
    "\n",
    "    # Train-test split\n",
    "    X_train, X_test, y_train, y_test = train_test_split(\n",
    "        X_scaled, \n",
    "        Y, \n",
    "        test_size=1-train_perc, \n",
    "        shuffle=True, \n",
    "        stratify=Y, \n",
    "        random_state=random_state\n",
    "    )\n",
    "    \n",
    "    return X_train, X_test, y_train, y_test\n",
    "\n",
    "def balance_attack(df, atk_list, verbose=0):\n",
    "    atk_list = [\"Portscan\", \"DoS Hulk\", \"DDoS\", \"Infiltration - Portscan\", \"DoS GoldenEye\", \"FTP-Patator\", \"DoS Slowloris\", \"SSH-Patator\", \"DoS Slowhttptest\"]\n",
    "    reduced_cicids_df = pd.DataFrame()\n",
    "    for atk_name in atk_list:\n",
    "        temp_df = df.loc[df[\"Label\"] == atk_name]\n",
    "        temp_df = temp_df.sample(n=min(temp_df.shape[0], 10_000))\n",
    "        reduced_cicids_df = pd.concat([reduced_cicids_df, temp_df], ignore_index=True)\n",
    "    \n",
    "    benign_df = df.loc[df[\"Label\"] == 'BENIGN']\n",
    "    reduced_cicids_df = pd.concat([reduced_cicids_df, benign_df], ignore_index=True)\n",
    "        \n",
    "    if verbose:\n",
    "        print(reduced_cicids_df[\"Label\"].value_counts())\n",
    "    return reduced_cicids_df\n",
    "    \n",
    "    \n",
    "        \n",
    "#* Usage\n",
    "# read_csv() => balance_attack => define_atk / preprocess_data() =>Train()\n",
    "atk_list = [\"Portscan\", \"DoS Hulk\", \"DDoS\", \"Infiltration - Portscan\", \"DoS GoldenEye\", \"FTP-Patator\", \"DoS Slowloris\", \"SSH-Patator\", \"DoS Slowhttptest\"]\n",
    "cicids_df = read_csv()\n",
    "reduced_cicids_df = balance_attack(cicids_df, atk_list, verbose=1)\n",
    "cicids_df = reduced_cicids_df.copy()\n",
    "# X_gm_train, X_gm_test, y_gm_train, y_gm_test = preprocess_data(reduced_cicids_df, train_perc=0.99, anomaly_rate)"
   ]
  },
  {
   "cell_type": "code",
   "execution_count": 6,
   "metadata": {},
   "outputs": [
    {
     "data": {
      "text/plain": [
       "Label\n",
       "BENIGN                     1582561\n",
       "Portscan                     10000\n",
       "DoS Hulk                     10000\n",
       "DDoS                         10000\n",
       "Infiltration - Portscan      10000\n",
       "DoS GoldenEye                 7567\n",
       "FTP-Patator                   3972\n",
       "DoS Slowloris                 3859\n",
       "SSH-Patator                   2961\n",
       "DoS Slowhttptest              1740\n",
       "Name: count, dtype: int64"
      ]
     },
     "execution_count": 6,
     "metadata": {},
     "output_type": "execute_result"
    },
    {
     "data": {
      "text/plain": [
       "Attempted Category\n",
       "0    1642660\n",
       "Name: count, dtype: int64"
      ]
     },
     "execution_count": 6,
     "metadata": {},
     "output_type": "execute_result"
    },
    {
     "data": {
      "text/plain": [
       "Label\n",
       "BENIGN                     1582561\n",
       "Portscan                     10000\n",
       "DoS Hulk                     10000\n",
       "DDoS                         10000\n",
       "Infiltration - Portscan      10000\n",
       "DoS GoldenEye                 7567\n",
       "FTP-Patator                   3972\n",
       "DoS Slowloris                 3859\n",
       "SSH-Patator                   2961\n",
       "DoS Slowhttptest              1740\n",
       "Name: count, dtype: int64"
      ]
     },
     "execution_count": 6,
     "metadata": {},
     "output_type": "execute_result"
    }
   ],
   "source": [
    "cicids_df['Label'].value_counts()\n",
    "cicids_df['Attempted Category'].value_counts()\n",
    "attepmted_labels = [s for s in cicids_df['Label'].unique() if 'Attempted' in s]\n",
    "\n",
    "cicids_df.drop(['Attempted Category'], axis = 1, inplace = True)\n",
    "\n",
    "cicids_df.replace(attepmted_labels, 'BENIGN', inplace = True)\n",
    "cicids_df['Label'].value_counts()"
   ]
  },
  {
   "cell_type": "code",
   "execution_count": null,
   "metadata": {},
   "outputs": [],
   "source": []
  },
  {
   "cell_type": "code",
   "execution_count": 7,
   "metadata": {},
   "outputs": [],
   "source": [
    "# cicids_scaler = StandardScaler()\n",
    "# y = cicids_df[\"Label\"]  # Extract labels\n",
    "# X = cicids_df.drop(columns=[\"Label\"])  # Extract features\n",
    "# X_scaled = pd.DataFrame(cicids_scaler.fit_transform(X), columns=X.columns)  # Scale features\n",
    "\n",
    "# # Combine scaled features and labels\n",
    "# cicids_df_scaled = X_scaled.copy()\n",
    "# cicids_df_scaled[\"Label\"] = y\n",
    "\n",
    "# # Check the resulting DataFrame\n",
    "# cicids_df_scaled.head()\n",
    "\n",
    "# cicids_df = cicids_df_scaled.copy()\n",
    "# cicids_df\n"
   ]
  },
  {
   "cell_type": "code",
   "execution_count": 8,
   "metadata": {},
   "outputs": [
    {
     "data": {
      "text/html": [
       "<div>\n",
       "<style scoped>\n",
       "    .dataframe tbody tr th:only-of-type {\n",
       "        vertical-align: middle;\n",
       "    }\n",
       "\n",
       "    .dataframe tbody tr th {\n",
       "        vertical-align: top;\n",
       "    }\n",
       "\n",
       "    .dataframe thead th {\n",
       "        text-align: right;\n",
       "    }\n",
       "</style>\n",
       "<table border=\"1\" class=\"dataframe\">\n",
       "  <thead>\n",
       "    <tr style=\"text-align: right;\">\n",
       "      <th></th>\n",
       "      <th>Flow Duration</th>\n",
       "      <th>Total Fwd Packet</th>\n",
       "      <th>Total Bwd packets</th>\n",
       "      <th>Total Length of Fwd Packet</th>\n",
       "      <th>Total Length of Bwd Packet</th>\n",
       "      <th>Fwd Packet Length Max</th>\n",
       "      <th>Fwd Packet Length Min</th>\n",
       "      <th>Fwd Packet Length Mean</th>\n",
       "      <th>Fwd Packet Length Std</th>\n",
       "      <th>Bwd Packet Length Max</th>\n",
       "      <th>...</th>\n",
       "      <th>Active Max</th>\n",
       "      <th>Active Min</th>\n",
       "      <th>Idle Mean</th>\n",
       "      <th>Idle Std</th>\n",
       "      <th>Idle Max</th>\n",
       "      <th>Idle Min</th>\n",
       "      <th>ICMP Code</th>\n",
       "      <th>ICMP Type</th>\n",
       "      <th>Total TCP Flow Time</th>\n",
       "      <th>Label</th>\n",
       "    </tr>\n",
       "  </thead>\n",
       "  <tbody>\n",
       "    <tr>\n",
       "      <th>0</th>\n",
       "      <td>175</td>\n",
       "      <td>2</td>\n",
       "      <td>2</td>\n",
       "      <td>80</td>\n",
       "      <td>112</td>\n",
       "      <td>40</td>\n",
       "      <td>40</td>\n",
       "      <td>40.000000</td>\n",
       "      <td>0.000000</td>\n",
       "      <td>56</td>\n",
       "      <td>...</td>\n",
       "      <td>0</td>\n",
       "      <td>0</td>\n",
       "      <td>0.000000e+00</td>\n",
       "      <td>0.000000</td>\n",
       "      <td>0</td>\n",
       "      <td>0</td>\n",
       "      <td>0</td>\n",
       "      <td>0</td>\n",
       "      <td>0</td>\n",
       "      <td>BENIGN</td>\n",
       "    </tr>\n",
       "    <tr>\n",
       "      <th>1</th>\n",
       "      <td>4865807</td>\n",
       "      <td>6</td>\n",
       "      <td>3</td>\n",
       "      <td>123</td>\n",
       "      <td>46</td>\n",
       "      <td>46</td>\n",
       "      <td>0</td>\n",
       "      <td>20.500000</td>\n",
       "      <td>23.114930</td>\n",
       "      <td>46</td>\n",
       "      <td>...</td>\n",
       "      <td>0</td>\n",
       "      <td>0</td>\n",
       "      <td>0.000000e+00</td>\n",
       "      <td>0.000000</td>\n",
       "      <td>0</td>\n",
       "      <td>0</td>\n",
       "      <td>0</td>\n",
       "      <td>0</td>\n",
       "      <td>181237094</td>\n",
       "      <td>BENIGN</td>\n",
       "    </tr>\n",
       "    <tr>\n",
       "      <th>2</th>\n",
       "      <td>117496233</td>\n",
       "      <td>19</td>\n",
       "      <td>16</td>\n",
       "      <td>1158</td>\n",
       "      <td>500</td>\n",
       "      <td>579</td>\n",
       "      <td>0</td>\n",
       "      <td>60.947368</td>\n",
       "      <td>182.559723</td>\n",
       "      <td>250</td>\n",
       "      <td>...</td>\n",
       "      <td>2228512</td>\n",
       "      <td>36301</td>\n",
       "      <td>1.018312e+07</td>\n",
       "      <td>57802.194154</td>\n",
       "      <td>10203701</td>\n",
       "      <td>10011255</td>\n",
       "      <td>0</td>\n",
       "      <td>0</td>\n",
       "      <td>117496233</td>\n",
       "      <td>BENIGN</td>\n",
       "    </tr>\n",
       "    <tr>\n",
       "      <th>3</th>\n",
       "      <td>53519692</td>\n",
       "      <td>23</td>\n",
       "      <td>38</td>\n",
       "      <td>1455</td>\n",
       "      <td>50897</td>\n",
       "      <td>597</td>\n",
       "      <td>0</td>\n",
       "      <td>63.260870</td>\n",
       "      <td>154.928200</td>\n",
       "      <td>2896</td>\n",
       "      <td>...</td>\n",
       "      <td>1213909</td>\n",
       "      <td>1213909</td>\n",
       "      <td>5.217384e+07</td>\n",
       "      <td>0.000000</td>\n",
       "      <td>52173837</td>\n",
       "      <td>52173837</td>\n",
       "      <td>0</td>\n",
       "      <td>0</td>\n",
       "      <td>53519692</td>\n",
       "      <td>BENIGN</td>\n",
       "    </tr>\n",
       "    <tr>\n",
       "      <th>4</th>\n",
       "      <td>170</td>\n",
       "      <td>2</td>\n",
       "      <td>2</td>\n",
       "      <td>76</td>\n",
       "      <td>172</td>\n",
       "      <td>38</td>\n",
       "      <td>38</td>\n",
       "      <td>38.000000</td>\n",
       "      <td>0.000000</td>\n",
       "      <td>86</td>\n",
       "      <td>...</td>\n",
       "      <td>0</td>\n",
       "      <td>0</td>\n",
       "      <td>0.000000e+00</td>\n",
       "      <td>0.000000</td>\n",
       "      <td>0</td>\n",
       "      <td>0</td>\n",
       "      <td>0</td>\n",
       "      <td>0</td>\n",
       "      <td>0</td>\n",
       "      <td>BENIGN</td>\n",
       "    </tr>\n",
       "    <tr>\n",
       "      <th>...</th>\n",
       "      <td>...</td>\n",
       "      <td>...</td>\n",
       "      <td>...</td>\n",
       "      <td>...</td>\n",
       "      <td>...</td>\n",
       "      <td>...</td>\n",
       "      <td>...</td>\n",
       "      <td>...</td>\n",
       "      <td>...</td>\n",
       "      <td>...</td>\n",
       "      <td>...</td>\n",
       "      <td>...</td>\n",
       "      <td>...</td>\n",
       "      <td>...</td>\n",
       "      <td>...</td>\n",
       "      <td>...</td>\n",
       "      <td>...</td>\n",
       "      <td>...</td>\n",
       "      <td>...</td>\n",
       "      <td>...</td>\n",
       "      <td>...</td>\n",
       "    </tr>\n",
       "    <tr>\n",
       "      <th>1582556</th>\n",
       "      <td>127023</td>\n",
       "      <td>8</td>\n",
       "      <td>7</td>\n",
       "      <td>358</td>\n",
       "      <td>3776</td>\n",
       "      <td>201</td>\n",
       "      <td>0</td>\n",
       "      <td>44.750000</td>\n",
       "      <td>76.734701</td>\n",
       "      <td>1460</td>\n",
       "      <td>...</td>\n",
       "      <td>0</td>\n",
       "      <td>0</td>\n",
       "      <td>0.000000e+00</td>\n",
       "      <td>0.000000</td>\n",
       "      <td>0</td>\n",
       "      <td>0</td>\n",
       "      <td>0</td>\n",
       "      <td>0</td>\n",
       "      <td>127023</td>\n",
       "      <td>BENIGN</td>\n",
       "    </tr>\n",
       "    <tr>\n",
       "      <th>1582557</th>\n",
       "      <td>2250268</td>\n",
       "      <td>2</td>\n",
       "      <td>2</td>\n",
       "      <td>92</td>\n",
       "      <td>250</td>\n",
       "      <td>51</td>\n",
       "      <td>41</td>\n",
       "      <td>46.000000</td>\n",
       "      <td>7.071068</td>\n",
       "      <td>183</td>\n",
       "      <td>...</td>\n",
       "      <td>0</td>\n",
       "      <td>0</td>\n",
       "      <td>0.000000e+00</td>\n",
       "      <td>0.000000</td>\n",
       "      <td>0</td>\n",
       "      <td>0</td>\n",
       "      <td>0</td>\n",
       "      <td>0</td>\n",
       "      <td>0</td>\n",
       "      <td>BENIGN</td>\n",
       "    </tr>\n",
       "    <tr>\n",
       "      <th>1582558</th>\n",
       "      <td>188</td>\n",
       "      <td>2</td>\n",
       "      <td>2</td>\n",
       "      <td>64</td>\n",
       "      <td>158</td>\n",
       "      <td>32</td>\n",
       "      <td>32</td>\n",
       "      <td>32.000000</td>\n",
       "      <td>0.000000</td>\n",
       "      <td>79</td>\n",
       "      <td>...</td>\n",
       "      <td>0</td>\n",
       "      <td>0</td>\n",
       "      <td>0.000000e+00</td>\n",
       "      <td>0.000000</td>\n",
       "      <td>0</td>\n",
       "      <td>0</td>\n",
       "      <td>0</td>\n",
       "      <td>0</td>\n",
       "      <td>0</td>\n",
       "      <td>BENIGN</td>\n",
       "    </tr>\n",
       "    <tr>\n",
       "      <th>1582559</th>\n",
       "      <td>31018</td>\n",
       "      <td>2</td>\n",
       "      <td>2</td>\n",
       "      <td>60</td>\n",
       "      <td>92</td>\n",
       "      <td>30</td>\n",
       "      <td>30</td>\n",
       "      <td>30.000000</td>\n",
       "      <td>0.000000</td>\n",
       "      <td>46</td>\n",
       "      <td>...</td>\n",
       "      <td>0</td>\n",
       "      <td>0</td>\n",
       "      <td>0.000000e+00</td>\n",
       "      <td>0.000000</td>\n",
       "      <td>0</td>\n",
       "      <td>0</td>\n",
       "      <td>0</td>\n",
       "      <td>0</td>\n",
       "      <td>0</td>\n",
       "      <td>BENIGN</td>\n",
       "    </tr>\n",
       "    <tr>\n",
       "      <th>1582560</th>\n",
       "      <td>152842</td>\n",
       "      <td>69</td>\n",
       "      <td>101</td>\n",
       "      <td>1169</td>\n",
       "      <td>211545</td>\n",
       "      <td>570</td>\n",
       "      <td>0</td>\n",
       "      <td>16.942029</td>\n",
       "      <td>92.031466</td>\n",
       "      <td>4344</td>\n",
       "      <td>...</td>\n",
       "      <td>0</td>\n",
       "      <td>0</td>\n",
       "      <td>0.000000e+00</td>\n",
       "      <td>0.000000</td>\n",
       "      <td>0</td>\n",
       "      <td>0</td>\n",
       "      <td>0</td>\n",
       "      <td>0</td>\n",
       "      <td>152842</td>\n",
       "      <td>BENIGN</td>\n",
       "    </tr>\n",
       "  </tbody>\n",
       "</table>\n",
       "<p>1582561 rows × 82 columns</p>\n",
       "</div>"
      ],
      "text/plain": [
       "         Flow Duration  Total Fwd Packet  Total Bwd packets  \\\n",
       "0                  175                 2                  2   \n",
       "1              4865807                 6                  3   \n",
       "2            117496233                19                 16   \n",
       "3             53519692                23                 38   \n",
       "4                  170                 2                  2   \n",
       "...                ...               ...                ...   \n",
       "1582556         127023                 8                  7   \n",
       "1582557        2250268                 2                  2   \n",
       "1582558            188                 2                  2   \n",
       "1582559          31018                 2                  2   \n",
       "1582560         152842                69                101   \n",
       "\n",
       "         Total Length of Fwd Packet  Total Length of Bwd Packet  \\\n",
       "0                                80                         112   \n",
       "1                               123                          46   \n",
       "2                              1158                         500   \n",
       "3                              1455                       50897   \n",
       "4                                76                         172   \n",
       "...                             ...                         ...   \n",
       "1582556                         358                        3776   \n",
       "1582557                          92                         250   \n",
       "1582558                          64                         158   \n",
       "1582559                          60                          92   \n",
       "1582560                        1169                      211545   \n",
       "\n",
       "         Fwd Packet Length Max  Fwd Packet Length Min  Fwd Packet Length Mean  \\\n",
       "0                           40                     40               40.000000   \n",
       "1                           46                      0               20.500000   \n",
       "2                          579                      0               60.947368   \n",
       "3                          597                      0               63.260870   \n",
       "4                           38                     38               38.000000   \n",
       "...                        ...                    ...                     ...   \n",
       "1582556                    201                      0               44.750000   \n",
       "1582557                     51                     41               46.000000   \n",
       "1582558                     32                     32               32.000000   \n",
       "1582559                     30                     30               30.000000   \n",
       "1582560                    570                      0               16.942029   \n",
       "\n",
       "         Fwd Packet Length Std  Bwd Packet Length Max  ...  Active Max  \\\n",
       "0                     0.000000                     56  ...           0   \n",
       "1                    23.114930                     46  ...           0   \n",
       "2                   182.559723                    250  ...     2228512   \n",
       "3                   154.928200                   2896  ...     1213909   \n",
       "4                     0.000000                     86  ...           0   \n",
       "...                        ...                    ...  ...         ...   \n",
       "1582556              76.734701                   1460  ...           0   \n",
       "1582557               7.071068                    183  ...           0   \n",
       "1582558               0.000000                     79  ...           0   \n",
       "1582559               0.000000                     46  ...           0   \n",
       "1582560              92.031466                   4344  ...           0   \n",
       "\n",
       "         Active Min     Idle Mean      Idle Std  Idle Max  Idle Min  \\\n",
       "0                 0  0.000000e+00      0.000000         0         0   \n",
       "1                 0  0.000000e+00      0.000000         0         0   \n",
       "2             36301  1.018312e+07  57802.194154  10203701  10011255   \n",
       "3           1213909  5.217384e+07      0.000000  52173837  52173837   \n",
       "4                 0  0.000000e+00      0.000000         0         0   \n",
       "...             ...           ...           ...       ...       ...   \n",
       "1582556           0  0.000000e+00      0.000000         0         0   \n",
       "1582557           0  0.000000e+00      0.000000         0         0   \n",
       "1582558           0  0.000000e+00      0.000000         0         0   \n",
       "1582559           0  0.000000e+00      0.000000         0         0   \n",
       "1582560           0  0.000000e+00      0.000000         0         0   \n",
       "\n",
       "         ICMP Code  ICMP Type  Total TCP Flow Time   Label  \n",
       "0                0          0                    0  BENIGN  \n",
       "1                0          0            181237094  BENIGN  \n",
       "2                0          0            117496233  BENIGN  \n",
       "3                0          0             53519692  BENIGN  \n",
       "4                0          0                    0  BENIGN  \n",
       "...            ...        ...                  ...     ...  \n",
       "1582556          0          0               127023  BENIGN  \n",
       "1582557          0          0                    0  BENIGN  \n",
       "1582558          0          0                    0  BENIGN  \n",
       "1582559          0          0                    0  BENIGN  \n",
       "1582560          0          0               152842  BENIGN  \n",
       "\n",
       "[1582561 rows x 82 columns]"
      ]
     },
     "execution_count": 8,
     "metadata": {},
     "output_type": "execute_result"
    }
   ],
   "source": [
    "# Shuffle the Benign Data\n",
    "benign_df = cicids_df.loc[cicids_df[\"Label\"] == \"BENIGN\"]\n",
    "benign_df = benign_df.sample(frac=1).reset_index(drop=True)\n",
    "benign_df"
   ]
  },
  {
   "cell_type": "markdown",
   "metadata": {},
   "source": [
    "### Defining Global and Local Model"
   ]
  },
  {
   "cell_type": "code",
   "execution_count": 9,
   "metadata": {},
   "outputs": [],
   "source": [
    "def set_supervised_label(supervision_rate, y, idx):\n",
    "        if supervision_rate == 0:\n",
    "            y[idx[:2]] = 1\n",
    "        else:\n",
    "            idx = np.random.choice(idx, size=int(supervision_rate * len(idx)), replace=False)\n",
    "            y[idx] = 1\n",
    "        return y\n",
    "      \n",
    "def get_optimal_threshold(precision, recall, thresholds):\n",
    "    with np.errstate(divide='ignore', invalid='ignore'):\n",
    "        f1_scores = 2 * (precision * recall) / (precision + recall)\n",
    "        f1_scores[np.isnan(f1_scores)] = 0  # Replace NaN values with 0    \n",
    "    optimal_idx = np.argmax(f1_scores)\n",
    "    optimal_threshold = thresholds[optimal_idx]\n",
    "    return optimal_threshold  \n",
    "      \n",
    "class Global_Model():\n",
    "  def __init__(self, initial_data):\n",
    "      self.initial_data = initial_data.copy() #Initially Empty\n",
    "      self.gm_data = None\n",
    "      self.gm_retrain(supervision=1.0)\n",
    "\n",
    "\n",
    "  def gm_retrain(self, new_gm_data=None, supervision=0):\n",
    "      if new_gm_data is None:\n",
    "          training_data = self.initial_data\n",
    "      else:\n",
    "          # Combine new data with existing GM data\n",
    "          self.gm_data = pd.concat([self.gm_data, new_gm_data], ignore_index=True)\n",
    "          training_data = pd.concat([self.initial_data, self.gm_data], ignore_index=False)\n",
    "          \n",
    "          \n",
    "      \n",
    "      print(\"GM Training Data Size\", training_data.shape)\n",
    "      label = training_data[\"Label\"]\n",
    "      training_data = training_data.drop(columns=[\"Label\"])\n",
    "      # Train-test split\n",
    "      X_train, X_test, y_train, y_test = train_test_split(\n",
    "          training_data, label, shuffle=True, test_size=0.2, random_state=4022\n",
    "      )\n",
    "      # Prepare labels for semi-supervised learning\n",
    "      idx = np.where(y_train == 1)[0]\n",
    "      y_train = np.zeros_like(y_train)  # Initialize with zeros\n",
    "      y_train = set_supervised_label(supervision, y_train, idx)\n",
    "\n",
    "      # Train the model\n",
    "      model = PReNet\n",
    "      self.clf = model(device=\"cuda\", verbose=1, epochs=1, batch_size=64)\n",
    "      self.clf.fit(X_train.to_numpy(), y=y_train)\n",
    "      \n",
    "      # Calculate optimal threshold\n",
    "      anomaly_scores = self.clf.decision_function(X_test.to_numpy())\n",
    "      precision, recall, thresholds = precision_recall_curve(y_test, anomaly_scores)\n",
    "      opt_threshold = get_optimal_threshold(precision, recall, thresholds)\n",
    "      self.opt_threshold = opt_threshold      \n",
    "\n",
    "      # Perform inference to evaluate the model\n",
    "      output, anomaly_scores = self.perform_inference(X_test, y_test)\n",
    "    # return clf, model\n",
    "              \n",
    "  def perform_inference(self, X, y_real=None):  \n",
    "      anomaly_scores = self.clf.decision_function(X.to_numpy())\n",
    "      output = np.where(anomaly_scores > self.opt_threshold, 1,0)\n",
    "      \n",
    "      if y_real is not None:\n",
    "          print(\"Accuracy of GM: \", accuracy_score(output, y_real))\n",
    "      return output, anomaly_scores"
   ]
  },
  {
   "cell_type": "code",
   "execution_count": 10,
   "metadata": {},
   "outputs": [],
   "source": [
    "class Local_Model():\n",
    "    def __init__(self, gm):\n",
    "        self.model = XGBClassifier(objective='binary:logistic', verbosity=0)\n",
    "        # self.model = DecisionTreeClassifier(criterion='entropy', max_depth=5,  \n",
    "        #                                     min_samples_leaf=10, \n",
    "        #                                     # ccp_alpha=0.01, #Pruning coef\n",
    "        #                                     random_state=4022)\n",
    "        self.global_model = gm \n",
    "        self.lm_data = pd.DataFrame()\n",
    "        self.knowledge_pool = []\n",
    "                \n",
    "    def retrain_model(self, new_lm_data, threshold = 0.2, update_gm = False): #Select Most Important Data and Upload Newly Recorded Data\n",
    "        # TODO: Use AL to Select Prerecorded Data\n",
    "        # known_df = self.load_known_df()\n",
    "        # filtered_new_data, informative_score_list, updated_model = self.select_data(known_df, X_new, threshold, y_new)\n",
    "        # labeled_new_data = self.upload_gm(filtered_new_data)\n",
    "        \n",
    "        # if update_gm:\n",
    "        #     filtered_new_data[\"Label\"] = 0\n",
    "        #     self.global_model.update_data(filtered_new_data)\n",
    "        # # TODO: After updating return the labels or recall the function\n",
    "        # else:\n",
    "        \n",
    "        y_real = new_lm_data[\"Label\"].copy()\n",
    "        X_new = new_lm_data.drop(columns=[\"Label\"]).copy()\n",
    "        X_train, X_test, y_train, y_test = train_test_split(\n",
    "            X_new, y_real, shuffle=True, test_size=0.2, random_state=4022\n",
    "        )\n",
    "\n",
    "        # Use the global model to inquire labels for X_train\n",
    "        y_new = self.inquire_gm(X_train, y_train)\n",
    "\n",
    "        # Combine X_train and the inferred labels into a DataFrame\n",
    "        new_training_data = X_train.copy()\n",
    "        new_training_data[\"Label\"] = y_new\n",
    "\n",
    "        # Append new training data to the local model's data\n",
    "        self.lm_data = pd.concat([self.lm_data, new_training_data], ignore_index=True)\n",
    "\n",
    "        # Retrain the local model using the updated data\n",
    "        self.model.fit(self.lm_data.drop(columns=[\"Label\"]), self.lm_data[\"Label\"])\n",
    "\n",
    "        # Evaluate the updated model (optional, based on your implementation)\n",
    "        y_pred = self.model.predict(X_test)\n",
    "        acc = accuracy_score(y_pred, y_test)\n",
    "        self.share_knowledge(X_train, y_new)\n",
    "\n",
    "        return acc\n",
    "    \n",
    "    def share_knowledge(self, X_new, y_new):\n",
    "        X_new[\"Label\"] = y_new\n",
    "        for neigh_area in self.knowledge_pool:\n",
    "            neigh_lm = neigh_area.local_model\n",
    "            neigh_lm.lm_data = pd.concat([neigh_lm.lm_data, X_new.copy()], ignore_index=True)\n",
    "            neigh_lm.model.fit(neigh_lm.lm_data.drop(columns=[\"Label\"]), neigh_lm.lm_data[\"Label\"])\n",
    "        \n",
    "        \n",
    "    def inquire_gm(self, X_query, y_real=None): \n",
    "        # X_query_scaled = self.scaler.transform(X_query)\n",
    "        pseudo_label, _ = self.global_model.perform_inference(X_query, y_real)\n",
    "        X_query_df = pd.DataFrame(X_query)\n",
    "        # X_query_df[\"Label\"] = pseudo_label\n",
    "        return pseudo_label\n",
    "    \n",
    "    def perform_inference(self, X):\n",
    "        output = self.model.predict(X) \n",
    "        return output    \n",
    "    \n",
    "    def select_data(self, known_df, X_new, threshold, y_new):\n",
    "        round = 10\n",
    "        informative_score_list = []\n",
    "        y_new = np.ones(X_new.shape[0]) * 2 if y_new is None else y_new\n",
    "        model = self.model\n",
    "        \n",
    "        X_known = known_df.drop(columns=[\"Label\"], inplace = False).copy()\n",
    "        y_known = known_df[\"Label\"]\n",
    "        # X_known.drop(columns=[\"Src IP\", \"Dst IP\"], inplace=True)\n",
    "        X = pd.concat([X_known, X_new], ignore_index=True)\n",
    "        y = np.concatenate([y_known, y_new]).astype(int)\n",
    "        print(y)\n",
    "        label_ind = np.arange(len(X_known))\n",
    "        print(\"Size of Label Index\", len(X_known))\n",
    "        unlab_ind = np.arange(len(X_known), len(X))\n",
    "\n",
    "        divided_arrays = np.array_split(unlab_ind, round)\n",
    "        \n",
    "        alibox_new = ToolBox(X=X, y=y, query_type='AllLabels', saving_path=None,) \n",
    "        alibox_new.split_AL(test_ratio=0.1, initial_label_rate=0.1, split_count=10)     \n",
    "        strategy_name = \"QueryInstanceUncertainty\"\n",
    "        strategy = alibox_new.get_query_strategy(strategy_name=strategy_name) #TODO Replace Alibox with a single function\n",
    "        for i in range(round):\n",
    "            batch_size = 1000 \n",
    "            print(f\"Round {i}\")\n",
    "            # Use AL to Select Data\n",
    "\n",
    "            \n",
    "            select_ind, informative_score = strategy.select(label_index=label_ind, unlabel_index=divided_arrays[i], \n",
    "                                                            threshold=threshold, custom = True, model=model, batch_size=batch_size)\n",
    "            print(select_ind)\n",
    "            # select_ind = select_ind[np.where(np.array(informative_score) > threshold)[0]]\n",
    "                              \n",
    "            batch_size = min(batch_size, np.shape(select_ind)[0] ) #Limit up to 30 000 per query\n",
    "            print(batch_size)\n",
    "            # Upload Data to GM\n",
    "            idx_to_query = select_ind[:batch_size]\n",
    "            if len(idx_to_query) > 0:\n",
    "                if 2.0 in y_new: \n",
    "                    pseudo_labels = self.inquire_gm(X.iloc[idx_to_query]) \n",
    "                    y[idx_to_query] = pseudo_labels \n",
    "                else: # ? Set GM to be 100% Accurate\n",
    "                    pseudo_labels = y[idx_to_query]\n",
    "                    # y[idx_to_query] = pseudo_labels\n",
    "                print(f\"New Label Counts: {Counter(y[select_ind[:batch_size]])}\")    \n",
    "                label_ind = np.concatenate([label_ind, select_ind[:batch_size]])# label_ind.update(select_ind)\n",
    "                mask = np.where(np.isin(unlab_ind, select_ind[:batch_size], invert=True)) # unlab_ind.difference_update(select_ind)\n",
    "                unlab_ind = unlab_ind[mask]\n",
    "                \n",
    "                print(f\"Added {batch_size} Shape of Label_ind: {np.shape(label_ind)}\")  \n",
    "                #Update The Model\n",
    "                X_scaled = self.scaler.transform(X.iloc[label_ind]) \n",
    "                print(\"Number of duplicates\", len(label_ind) - len(np.unique(label_ind)))\n",
    "                model = self.model\n",
    "                print(label_ind)\n",
    "                print(f\"np.unique: {np.unique(y[label_ind])}\")\n",
    "                model.fit(X=X_scaled, y=y[label_ind]) \n",
    "                # pred = model.predict(X_test)\n",
    "                # query_accuracy = metric(pred, y_test)      \n",
    "            else:\n",
    "                print(\"No Data Added\")\n",
    "            print(informative_score[:100])\n",
    "            informative_score_list.append(informative_score)\n",
    "\n",
    "            \n",
    "        merged_train_df = pd.DataFrame(X.iloc[label_ind], columns = features[2:])\n",
    "        merged_train_df[\"Label\"] = y[label_ind]\n",
    "        new_train_df = merged_train_df.iloc[len(X_known):]\n",
    "        return new_train_df, informative_score_list, model\n",
    "        \n",
    "\n"
   ]
  },
  {
   "cell_type": "markdown",
   "metadata": {},
   "source": [
    "### Defining Area"
   ]
  },
  {
   "cell_type": "code",
   "execution_count": 35,
   "metadata": {},
   "outputs": [],
   "source": [
    "class Attack:\n",
    "    def __init__(self, name, centroid, std_dev, data):\n",
    "        self.name = name\n",
    "        self.centroid = centroid\n",
    "        self.std_dev = std_dev\n",
    "        self.data, self.test_data = train_test_split(data, train_size=0.8, random_state=42)\n",
    "        self.active = False\n",
    "        self.rr_counter = 0  # Round Robin Counter\n",
    "        self.first_seen = random.uniform(0,30)\n",
    "\n",
    "    def get_data(self):\n",
    "        chunk_size = self.data.shape[0] // 20  # Divide into 10 chunks\n",
    "        start_idx = self.rr_counter * chunk_size\n",
    "        end_idx = start_idx + chunk_size\n",
    "        if self.rr_counter == 9:\n",
    "            end_idx = self.data.shape[0]  # Include all remaining rows\n",
    "        self.rr_counter = (self.rr_counter + 1) % 20\n",
    "        return self.data.iloc[start_idx:end_idx]\n",
    "        \n",
    "\n",
    "def define_edge_area(num_edge_area, gm=None, random_state=42, global_sharing=False):\n",
    "    random.seed(random_state)\n",
    "    area_list = [Edge_Area((random.uniform(0, 1), random.uniform(0, 1)), gm) for _ in range(num_edge_area)]\n",
    "    local_model = Local_Model(gm) \n",
    "    for edge_area in area_list:\n",
    "        centroid = edge_area.centroid\n",
    "        distances = [\n",
    "            np.sqrt((other_area.centroid[0] - centroid[0])**2 + (other_area.centroid[1] - centroid[1])**2)\n",
    "            for other_area in area_list\n",
    "        ]\n",
    "        # Get the indices of the two smallest distances, excluding itself\n",
    "        closest_indices = np.argsort(distances)[1:3]  # Skip the first (distance to itself)\n",
    "        if gm is not None:\n",
    "            edge_area.local_model.knowledge_pool = [area_list[i] for i in closest_indices] #?Cluster KS\n",
    "            # edge_area.local_model.knowledge_pool = [] #? No KS\n",
    "        #* Global Knowledge Sharing\n",
    "        if global_sharing:\n",
    "            # local_model = Local_Model(gm) \n",
    "            # edge_area.local_model.knowledge_pool = []\n",
    "            edge_area.local_model = local_model\n",
    "    return area_list\n",
    "\n",
    "def define_atk(atk_list, edge_area_list, cicids_df, benign_df, random_state=42):\n",
    "    random.seed(random_state)\n",
    "    atk_info_dict = {}\n",
    "    anomaly_ratio = 25\n",
    "    benign_idx = 0\n",
    "    for idx, atk in enumerate(atk_list):\n",
    "        # Cycle through edge areas\n",
    "        edge_area = edge_area_list[idx % len(edge_area_list)]\n",
    "\n",
    "        # Define standard deviations\n",
    "        std_dev = (random.uniform(0.2, 0.4), random.uniform(0.2, 0.4))\n",
    "\n",
    "        # Offset the attack centroid relative to the edge area centroid\n",
    "        atk_centroid = (\n",
    "            edge_area.centroid[0] + random.uniform(-std_dev[0], std_dev[0]) / 3,\n",
    "            edge_area.centroid[1] + random.uniform(-std_dev[1], std_dev[1]) / 3\n",
    "        )\n",
    "\n",
    "        # Filter attack-specific data\n",
    "        atk_data = cicids_df.loc[cicids_df[\"Label\"] == atk]\n",
    "\n",
    "        # Get corresponding benign data based on anomaly ratio\n",
    "        benign_count = atk_data.shape[0] * anomaly_ratio\n",
    "        benign_data = benign_df.iloc[benign_idx: benign_idx + benign_count]\n",
    "        benign_idx += benign_count\n",
    "\n",
    "        # Ensure benign_idx doesn't exceed benign_df bounds\n",
    "        if benign_idx > len(benign_df):\n",
    "            benign_idx = len(benign_df)  # Prevent index out of bounds\n",
    "            print(\"Index Out of Bounds\", atk)\n",
    "\n",
    "        # Concatenate benign and attack data\n",
    "        data = pd.concat([benign_data, atk_data], ignore_index=True)\n",
    "        data = data.sample(frac=1).reset_index(drop=True)\n",
    "        # data[\"Label\"] = data[\"Label\"].map({\"BENIGN\": 0}).fillna(1)\n",
    "\n",
    "        # Create and store an Attack object\n",
    "        atk_info_dict[atk] = Attack(atk, atk_centroid, std_dev, data)\n",
    "\n",
    "    return atk_info_dict\n",
    "\n",
    "\n",
    "class Edge_Area:\n",
    "    def __init__(self, centroid, gm=None):\n",
    "        self.centroid = centroid\n",
    "        self.seen_attack_acc = dict() # Values as List of (t, acc)\n",
    "        if gm != None:\n",
    "            self.local_model = Local_Model(gm)\n",
    "    def create_knowledge_sharing_pool(self):\n",
    "        # TODO: Get the closest based on euclidean distance\n",
    "        self.sharing_pool = None\n",
    "    def train_local_model(self, new_lm_data):\n",
    "        return self.local_model.retrain_model(new_lm_data)\n",
    "\n"
   ]
  },
  {
   "cell_type": "code",
   "execution_count": 12,
   "metadata": {},
   "outputs": [
    {
     "data": {
      "image/png": "[encoded data removed]",
      "text/plain": [
       "<Figure size 500x500 with 1 Axes>"
      ]
     },
     "metadata": {},
     "output_type": "display_data"
    }
   ],
   "source": [
    "from matplotlib.patches import Ellipse\n",
    "\n",
    "# Function to visualize edge areas and attack coordinates with standard deviation as ellipses\n",
    "def visualize_edge_area_and_attacks_with_ellipses(edge_area_list, atk_info_list):\n",
    "    plt.figure(figsize=(5, 5))\n",
    "    \n",
    "    # Plot edge area centroids\n",
    "    for edge_area in edge_area_list:\n",
    "        plt.scatter(edge_area.centroid[0], edge_area.centroid[1], c='blue', label='Edge Area Centroid', s=100)\n",
    "        plt.text(edge_area.centroid[0] + 0.02, edge_area.centroid[1] + 0.02, edge_area, fontsize=5)\n",
    "    \n",
    "    # Plot attack centroids with standard deviation\n",
    "    for attack in atk_info_list:\n",
    "        plt.scatter(attack.centroid[0], attack.centroid[1], c='red', label='Attack Centroid', s=50)\n",
    "        plt.text(attack.centroid[0] + 0.02, attack.centroid[1] + 0.02, attack.name, fontsize=5)\n",
    "        \n",
    "        # Plot standard deviation as an ellipse around the centroid\n",
    "        std_x, std_y = attack.std_dev\n",
    "        ellipse = Ellipse(\n",
    "            xy=attack.centroid,\n",
    "            width=2 * std_x,  # Full width of the ellipse\n",
    "            height=2 * std_y,  # Full height of the ellipse\n",
    "            edgecolor='red',\n",
    "            facecolor='red',\n",
    "            alpha=0.2\n",
    "        )\n",
    "        plt.gca().add_patch(ellipse)\n",
    "    \n",
    "    # Remove duplicate labels in legend\n",
    "    handles, labels = plt.gca().get_legend_handles_labels()\n",
    "    by_label = dict(zip(labels, handles))\n",
    "    plt.legend(by_label.values(), by_label.keys(), loc=\"upper right\")\n",
    "\n",
    "    plt.title(\"Edge Area and Attack Coordinates with Standard Deviation (Ellipses)\")\n",
    "    plt.xlabel(\"X Coordinate\")\n",
    "    plt.ylabel(\"Y Coordinate\")\n",
    "    plt.grid(True)\n",
    "    plt.xlim(0, 1)\n",
    "    plt.ylim(0, 1)\n",
    "    plt.show()\n",
    "    \n",
    "\n",
    "num_edge_areas = 5\n",
    "seed = 4028\n",
    "edge_area_list = define_edge_area(num_edge_areas, random_state=seed)\n",
    "\n",
    "atk_list = [\"Portscan\", \"DoS Hulk\", \"DDoS\", \"Infiltration - Portscan\", \"DoS GoldenEye\", \"FTP-Patator\", \"DoS Slowloris\", \"SSH-Patator\", \"DoS Slowhttptest\"]\n",
    "atk_info_dict = define_atk(atk_list, edge_area_list, cicids_df, benign_df, random_state=seed)\n",
    "visualize_edge_area_and_attacks_with_ellipses(edge_area_list, atk_info_dict.values())\n"
   ]
  },
  {
   "cell_type": "markdown",
   "metadata": {},
   "source": [
    "# Bivariate Normal Distribution"
   ]
  },
  {
   "attachments": {
    "image.png": {
     "image/png": "[encoded data removed]"
    }
   },
   "cell_type": "markdown",
   "metadata": {},
   "source": [
    "![image.png](attachment:image.png)"
   ]
  },
  {
   "cell_type": "code",
   "execution_count": 13,
   "metadata": {},
   "outputs": [
    {
     "name": "stdout",
     "output_type": "stream",
     "text": [
      "Probability of attack occurring in the edge area: 0.2278\n"
     ]
    }
   ],
   "source": [
    "from scipy.stats import norm\n",
    "\n",
    "def probability_in_2d_edge_area(mu_x, sigma_x, mu_y, sigma_y, area_centroid_x, area_centroid_y):\n",
    "    (a_x, b_x) = (area_centroid_x-0.1, area_centroid_x+0.1)\n",
    "    (a_y, b_y) = (area_centroid_y-0.1, area_centroid_y+0.1)\n",
    "\n",
    "    # Probability in x-dimension\n",
    "    p_x = norm.cdf(b_x, loc=mu_x, scale=sigma_x) - norm.cdf(a_x, loc=mu_x, scale=sigma_x)\n",
    "    # Probability in y-dimension\n",
    "    p_y = norm.cdf(b_y, loc=mu_y, scale=sigma_y) - norm.cdf(a_y, loc=mu_y, scale=sigma_y)\n",
    "\n",
    "    # Total probability in the 2D region\n",
    "    return p_x * p_y\n",
    "\n",
    "# Example usage\n",
    "mu_x, sigma_x = 0.5, 0.1  # Mean and std deviation for x\n",
    "mu_y, sigma_y = 0.5, 0.1  # Mean and std deviation for y\n",
    "area_centroid_x, area_centroid_y = (0.4, 0.4)  # Edge area bounds for x and y\n",
    "\n",
    "probability = probability_in_2d_edge_area(mu_x, sigma_x, mu_y, sigma_y, area_centroid_x, area_centroid_y)\n",
    "print(f\"Probability of attack occurring in the edge area: {probability:.4f}\")\n"
   ]
  },
  {
   "cell_type": "code",
   "execution_count": null,
   "metadata": {},
   "outputs": [],
   "source": []
  },
  {
   "cell_type": "markdown",
   "metadata": {},
   "source": [
    "### Initial Training of Local and Global Model"
   ]
  },
  {
   "cell_type": "markdown",
   "metadata": {},
   "source": [
    "Global Model = 3 Atk, \n",
    "Local Model = None"
   ]
  },
  {
   "cell_type": "code",
   "execution_count": 14,
   "metadata": {},
   "outputs": [
    {
     "name": "stdout",
     "output_type": "stream",
     "text": [
      "Ratio of Benign to Anomaly is 26.332567929582854 : 1\n"
     ]
    }
   ],
   "source": [
    "# #### Sample out Malicious data such that it would become an outlier\n",
    "# print(f'improved_df.shape {cicids_df.shape} Before Sampling Out')\n",
    "# cicids_df = pd.concat([cicids_df[cicids_df['Label'] == 'BENIGN'], cicids_df[cicids_df['Label'] != 'BENIGN'].sample(frac=0.3, random_state=42)]) \n",
    "# print(f'improved_df.shape {cicids_df.shape} after Sampling Out')\n",
    "ratio = cicids_df.loc[cicids_df[\"Label\"] == \"BENIGN\"].shape[0]/ cicids_df.loc[cicids_df[\"Label\"] != \"BENIGN\"].shape[0]\n",
    "print(f'Ratio of Benign to Anomaly is {ratio} : 1')"
   ]
  },
  {
   "cell_type": "code",
   "execution_count": 15,
   "metadata": {},
   "outputs": [],
   "source": [
    "num_edge_areas = 5\n",
    "edge_area_list = define_edge_area(num_edge_areas)\n",
    "\n",
    "# atk_list = [\"Portscan\", \"DoS Hulk\", \"DDoS\", \"DoS DoS Hulk\", \"Infiltration - Portscan\"]\n",
    "atk_list = [\"Portscan\", \"DoS Hulk\", \"DDoS\", \"Infiltration - Portscan\", \"DoS GoldenEye\", \"FTP-Patator\", \"DoS Slowloris\", \"SSH-Patator\", \"DoS Slowhttptest\"]\n",
    "atk_info_dict = define_atk(atk_list, edge_area_list, cicids_df, benign_df)\n",
    "#TODO: Randomly choose 3 attacks from the list, set the first_seen_t = 0, train the global model using this 3 attacks\n",
    "\n",
    "first_seen_atk = [\"DoS Hulk\", \"DDoS\"]\n",
    "gm_training_data = pd.DataFrame()\n",
    "# Set Training Data for GM\n",
    "for atk in first_seen_atk:\n",
    "    # curr_atk_df = cicids_df.loc[cicids_df[\"Label\"] == atk].copy()\n",
    "    curr_atk_df = atk_info_dict[atk].data.copy()\n",
    "    curr_atk_df = curr_atk_df.sample(frac=0.3).reset_index(drop=True)\n",
    "    gm_training_data = pd.concat([gm_training_data, curr_atk_df], ignore_index=True) #Train with 0.2 of the attack data\n",
    "\n",
    "    # gm_training_data[\"Label\"] = gm_training_data[\"Label\"].map({\"BENIGN\":0}).fillna(1)\n",
    "    # gm_training_data = gm_training_data.sample(frac=1).reset_index(drop=True)\n",
    "    \n",
    "y = gm_training_data[\"Label\"].copy()\n",
    "\n",
    "# gm_training_data = pd.DataFrame(scaler.fit_transform(gm_training_data), columns = curr_atk_df.columns)\n",
    "gm_training_data[\"Label\"] = y\n",
    "# gm = Global_Model(gm_training_data)"
   ]
  },
  {
   "cell_type": "code",
   "execution_count": 16,
   "metadata": {},
   "outputs": [
    {
     "data": {
      "text/plain": [
       "array(['BENIGN', 'DoS Hulk', 'DDoS'], dtype=object)"
      ]
     },
     "execution_count": 16,
     "metadata": {},
     "output_type": "execute_result"
    }
   ],
   "source": [
    "gm_training_data[\"Label\"].unique()"
   ]
  },
  {
   "cell_type": "code",
   "execution_count": 17,
   "metadata": {},
   "outputs": [],
   "source": [
    "# X_gm_train, X_gm_test, y_gm_train, y_gm_test = train_test_split(\n",
    "#     gm_training_data.drop(columns=[\"Label\"]), gm_training_data[\"Label\"], shuffle=True, test_size=0.2, random_state=4022\n",
    "# )\n",
    "# X_gm_train, X_gm_test, y_gm_train, y_gm_test = train_test_split(\n",
    "#     cicids_df_scaled.drop(columns=[\"Label\"]), cicids_df_scaled[\"Label\"].map({\"BENIGN\": 0}).fillna(1), shuffle=True, test_size=0.2, random_state=4022\n",
    "# )\n",
    "# X_gm_train, X_gm_test, y_gm_train, y_gm_test = preprocess_data(cicids_df)\n",
    "X_gm_train, X_gm_test, y_gm_train, y_gm_test = preprocess_data(gm_training_data, train_perc=0.99)"
   ]
  },
  {
   "cell_type": "code",
   "execution_count": 18,
   "metadata": {},
   "outputs": [
    {
     "data": {
      "text/html": [
       "<style>#sk-container-id-1 {\n",
       "  /* Definition of color scheme common for light and dark mode */\n",
       "  --sklearn-color-text: #000;\n",
       "  --sklearn-color-text-muted: #666;\n",
       "  --sklearn-color-line: gray;\n",
       "  /* Definition of color scheme for unfitted estimators */\n",
       "  --sklearn-color-unfitted-level-0: #fff5e6;\n",
       "  --sklearn-color-unfitted-level-1: #f6e4d2;\n",
       "  --sklearn-color-unfitted-level-2: #ffe0b3;\n",
       "  --sklearn-color-unfitted-level-3: chocolate;\n",
       "  /* Definition of color scheme for fitted estimators */\n",
       "  --sklearn-color-fitted-level-0: #f0f8ff;\n",
       "  --sklearn-color-fitted-level-1: #d4ebff;\n",
       "  --sklearn-color-fitted-level-2: #b3dbfd;\n",
       "  --sklearn-color-fitted-level-3: cornflowerblue;\n",
       "\n",
       "  /* Specific color for light theme */\n",
       "  --sklearn-color-text-on-default-background: var(--sg-text-color, var(--theme-code-foreground, var(--jp-content-font-color1, black)));\n",
       "  --sklearn-color-background: var(--sg-background-color, var(--theme-background, var(--jp-layout-color0, white)));\n",
       "  --sklearn-color-border-box: var(--sg-text-color, var(--theme-code-foreground, var(--jp-content-font-color1, black)));\n",
       "  --sklearn-color-icon: #696969;\n",
       "\n",
       "  @media (prefers-color-scheme: dark) {\n",
       "    /* Redefinition of color scheme for dark theme */\n",
       "    --sklearn-color-text-on-default-background: var(--sg-text-color, var(--theme-code-foreground, var(--jp-content-font-color1, white)));\n",
       "    --sklearn-color-background: var(--sg-background-color, var(--theme-background, var(--jp-layout-color0, #111)));\n",
       "    --sklearn-color-border-box: var(--sg-text-color, var(--theme-code-foreground, var(--jp-content-font-color1, white)));\n",
       "    --sklearn-color-icon: #878787;\n",
       "  }\n",
       "}\n",
       "\n",
       "#sk-container-id-1 {\n",
       "  color: var(--sklearn-color-text);\n",
       "}\n",
       "\n",
       "#sk-container-id-1 pre {\n",
       "  padding: 0;\n",
       "}\n",
       "\n",
       "#sk-container-id-1 input.sk-hidden--visually {\n",
       "  border: 0;\n",
       "  clip: rect(1px 1px 1px 1px);\n",
       "  clip: rect(1px, 1px, 1px, 1px);\n",
       "  height: 1px;\n",
       "  margin: -1px;\n",
       "  overflow: hidden;\n",
       "  padding: 0;\n",
       "  position: absolute;\n",
       "  width: 1px;\n",
       "}\n",
       "\n",
       "#sk-container-id-1 div.sk-dashed-wrapped {\n",
       "  border: 1px dashed var(--sklearn-color-line);\n",
       "  margin: 0 0.4em 0.5em 0.4em;\n",
       "  box-sizing: border-box;\n",
       "  padding-bottom: 0.4em;\n",
       "  background-color: var(--sklearn-color-background);\n",
       "}\n",
       "\n",
       "#sk-container-id-1 div.sk-container {\n",
       "  /* jupyter's `normalize.less` sets `[hidden] { display: none; }`\n",
       "     but bootstrap.min.css set `[hidden] { display: none !important; }`\n",
       "     so we also need the `!important` here to be able to override the\n",
       "     default hidden behavior on the sphinx rendered scikit-learn.org.\n",
       "     See: https://github.com/scikit-learn/scikit-learn/issues/21755 */\n",
       "  display: inline-block !important;\n",
       "  position: relative;\n",
       "}\n",
       "\n",
       "#sk-container-id-1 div.sk-text-repr-fallback {\n",
       "  display: none;\n",
       "}\n",
       "\n",
       "div.sk-parallel-item,\n",
       "div.sk-serial,\n",
       "div.sk-item {\n",
       "  /* draw centered vertical line to link estimators */\n",
       "  background-image: linear-gradient(var(--sklearn-color-text-on-default-background), var(--sklearn-color-text-on-default-background));\n",
       "  background-size: 2px 100%;\n",
       "  background-repeat: no-repeat;\n",
       "  background-position: center center;\n",
       "}\n",
       "\n",
       "/* Parallel-specific style estimator block */\n",
       "\n",
       "#sk-container-id-1 div.sk-parallel-item::after {\n",
       "  content: \"\";\n",
       "  width: 100%;\n",
       "  border-bottom: 2px solid var(--sklearn-color-text-on-default-background);\n",
       "  flex-grow: 1;\n",
       "}\n",
       "\n",
       "#sk-container-id-1 div.sk-parallel {\n",
       "  display: flex;\n",
       "  align-items: stretch;\n",
       "  justify-content: center;\n",
       "  background-color: var(--sklearn-color-background);\n",
       "  position: relative;\n",
       "}\n",
       "\n",
       "#sk-container-id-1 div.sk-parallel-item {\n",
       "  display: flex;\n",
       "  flex-direction: column;\n",
       "}\n",
       "\n",
       "#sk-container-id-1 div.sk-parallel-item:first-child::after {\n",
       "  align-self: flex-end;\n",
       "  width: 50%;\n",
       "}\n",
       "\n",
       "#sk-container-id-1 div.sk-parallel-item:last-child::after {\n",
       "  align-self: flex-start;\n",
       "  width: 50%;\n",
       "}\n",
       "\n",
       "#sk-container-id-1 div.sk-parallel-item:only-child::after {\n",
       "  width: 0;\n",
       "}\n",
       "\n",
       "/* Serial-specific style estimator block */\n",
       "\n",
       "#sk-container-id-1 div.sk-serial {\n",
       "  display: flex;\n",
       "  flex-direction: column;\n",
       "  align-items: center;\n",
       "  background-color: var(--sklearn-color-background);\n",
       "  padding-right: 1em;\n",
       "  padding-left: 1em;\n",
       "}\n",
       "\n",
       "\n",
       "/* Toggleable style: style used for estimator/Pipeline/ColumnTransformer box that is\n",
       "clickable and can be expanded/collapsed.\n",
       "- Pipeline and ColumnTransformer use this feature and define the default style\n",
       "- Estimators will overwrite some part of the style using the `sk-estimator` class\n",
       "*/\n",
       "\n",
       "/* Pipeline and ColumnTransformer style (default) */\n",
       "\n",
       "#sk-container-id-1 div.sk-toggleable {\n",
       "  /* Default theme specific background. It is overwritten whether we have a\n",
       "  specific estimator or a Pipeline/ColumnTransformer */\n",
       "  background-color: var(--sklearn-color-background);\n",
       "}\n",
       "\n",
       "/* Toggleable label */\n",
       "#sk-container-id-1 label.sk-toggleable__label {\n",
       "  cursor: pointer;\n",
       "  display: flex;\n",
       "  width: 100%;\n",
       "  margin-bottom: 0;\n",
       "  padding: 0.5em;\n",
       "  box-sizing: border-box;\n",
       "  text-align: center;\n",
       "  align-items: start;\n",
       "  justify-content: space-between;\n",
       "  gap: 0.5em;\n",
       "}\n",
       "\n",
       "#sk-container-id-1 label.sk-toggleable__label .caption {\n",
       "  font-size: 0.6rem;\n",
       "  font-weight: lighter;\n",
       "  color: var(--sklearn-color-text-muted);\n",
       "}\n",
       "\n",
       "#sk-container-id-1 label.sk-toggleable__label-arrow:before {\n",
       "  /* Arrow on the left of the label */\n",
       "  content: \"▸\";\n",
       "  float: left;\n",
       "  margin-right: 0.25em;\n",
       "  color: var(--sklearn-color-icon);\n",
       "}\n",
       "\n",
       "#sk-container-id-1 label.sk-toggleable__label-arrow:hover:before {\n",
       "  color: var(--sklearn-color-text);\n",
       "}\n",
       "\n",
       "/* Toggleable content - dropdown */\n",
       "\n",
       "#sk-container-id-1 div.sk-toggleable__content {\n",
       "  max-height: 0;\n",
       "  max-width: 0;\n",
       "  overflow: hidden;\n",
       "  text-align: left;\n",
       "  /* unfitted */\n",
       "  background-color: var(--sklearn-color-unfitted-level-0);\n",
       "}\n",
       "\n",
       "#sk-container-id-1 div.sk-toggleable__content.fitted {\n",
       "  /* fitted */\n",
       "  background-color: var(--sklearn-color-fitted-level-0);\n",
       "}\n",
       "\n",
       "#sk-container-id-1 div.sk-toggleable__content pre {\n",
       "  margin: 0.2em;\n",
       "  border-radius: 0.25em;\n",
       "  color: var(--sklearn-color-text);\n",
       "  /* unfitted */\n",
       "  background-color: var(--sklearn-color-unfitted-level-0);\n",
       "}\n",
       "\n",
       "#sk-container-id-1 div.sk-toggleable__content.fitted pre {\n",
       "  /* unfitted */\n",
       "  background-color: var(--sklearn-color-fitted-level-0);\n",
       "}\n",
       "\n",
       "#sk-container-id-1 input.sk-toggleable__control:checked~div.sk-toggleable__content {\n",
       "  /* Expand drop-down */\n",
       "  max-height: 200px;\n",
       "  max-width: 100%;\n",
       "  overflow: auto;\n",
       "}\n",
       "\n",
       "#sk-container-id-1 input.sk-toggleable__control:checked~label.sk-toggleable__label-arrow:before {\n",
       "  content: \"▾\";\n",
       "}\n",
       "\n",
       "/* Pipeline/ColumnTransformer-specific style */\n",
       "\n",
       "#sk-container-id-1 div.sk-label input.sk-toggleable__control:checked~label.sk-toggleable__label {\n",
       "  color: var(--sklearn-color-text);\n",
       "  background-color: var(--sklearn-color-unfitted-level-2);\n",
       "}\n",
       "\n",
       "#sk-container-id-1 div.sk-label.fitted input.sk-toggleable__control:checked~label.sk-toggleable__label {\n",
       "  background-color: var(--sklearn-color-fitted-level-2);\n",
       "}\n",
       "\n",
       "/* Estimator-specific style */\n",
       "\n",
       "/* Colorize estimator box */\n",
       "#sk-container-id-1 div.sk-estimator input.sk-toggleable__control:checked~label.sk-toggleable__label {\n",
       "  /* unfitted */\n",
       "  background-color: var(--sklearn-color-unfitted-level-2);\n",
       "}\n",
       "\n",
       "#sk-container-id-1 div.sk-estimator.fitted input.sk-toggleable__control:checked~label.sk-toggleable__label {\n",
       "  /* fitted */\n",
       "  background-color: var(--sklearn-color-fitted-level-2);\n",
       "}\n",
       "\n",
       "#sk-container-id-1 div.sk-label label.sk-toggleable__label,\n",
       "#sk-container-id-1 div.sk-label label {\n",
       "  /* The background is the default theme color */\n",
       "  color: var(--sklearn-color-text-on-default-background);\n",
       "}\n",
       "\n",
       "/* On hover, darken the color of the background */\n",
       "#sk-container-id-1 div.sk-label:hover label.sk-toggleable__label {\n",
       "  color: var(--sklearn-color-text);\n",
       "  background-color: var(--sklearn-color-unfitted-level-2);\n",
       "}\n",
       "\n",
       "/* Label box, darken color on hover, fitted */\n",
       "#sk-container-id-1 div.sk-label.fitted:hover label.sk-toggleable__label.fitted {\n",
       "  color: var(--sklearn-color-text);\n",
       "  background-color: var(--sklearn-color-fitted-level-2);\n",
       "}\n",
       "\n",
       "/* Estimator label */\n",
       "\n",
       "#sk-container-id-1 div.sk-label label {\n",
       "  font-family: monospace;\n",
       "  font-weight: bold;\n",
       "  display: inline-block;\n",
       "  line-height: 1.2em;\n",
       "}\n",
       "\n",
       "#sk-container-id-1 div.sk-label-container {\n",
       "  text-align: center;\n",
       "}\n",
       "\n",
       "/* Estimator-specific */\n",
       "#sk-container-id-1 div.sk-estimator {\n",
       "  font-family: monospace;\n",
       "  border: 1px dotted var(--sklearn-color-border-box);\n",
       "  border-radius: 0.25em;\n",
       "  box-sizing: border-box;\n",
       "  margin-bottom: 0.5em;\n",
       "  /* unfitted */\n",
       "  background-color: var(--sklearn-color-unfitted-level-0);\n",
       "}\n",
       "\n",
       "#sk-container-id-1 div.sk-estimator.fitted {\n",
       "  /* fitted */\n",
       "  background-color: var(--sklearn-color-fitted-level-0);\n",
       "}\n",
       "\n",
       "/* on hover */\n",
       "#sk-container-id-1 div.sk-estimator:hover {\n",
       "  /* unfitted */\n",
       "  background-color: var(--sklearn-color-unfitted-level-2);\n",
       "}\n",
       "\n",
       "#sk-container-id-1 div.sk-estimator.fitted:hover {\n",
       "  /* fitted */\n",
       "  background-color: var(--sklearn-color-fitted-level-2);\n",
       "}\n",
       "\n",
       "/* Specification for estimator info (e.g. \"i\" and \"?\") */\n",
       "\n",
       "/* Common style for \"i\" and \"?\" */\n",
       "\n",
       ".sk-estimator-doc-link,\n",
       "a:link.sk-estimator-doc-link,\n",
       "a:visited.sk-estimator-doc-link {\n",
       "  float: right;\n",
       "  font-size: smaller;\n",
       "  line-height: 1em;\n",
       "  font-family: monospace;\n",
       "  background-color: var(--sklearn-color-background);\n",
       "  border-radius: 1em;\n",
       "  height: 1em;\n",
       "  width: 1em;\n",
       "  text-decoration: none !important;\n",
       "  margin-left: 0.5em;\n",
       "  text-align: center;\n",
       "  /* unfitted */\n",
       "  border: var(--sklearn-color-unfitted-level-1) 1pt solid;\n",
       "  color: var(--sklearn-color-unfitted-level-1);\n",
       "}\n",
       "\n",
       ".sk-estimator-doc-link.fitted,\n",
       "a:link.sk-estimator-doc-link.fitted,\n",
       "a:visited.sk-estimator-doc-link.fitted {\n",
       "  /* fitted */\n",
       "  border: var(--sklearn-color-fitted-level-1) 1pt solid;\n",
       "  color: var(--sklearn-color-fitted-level-1);\n",
       "}\n",
       "\n",
       "/* On hover */\n",
       "div.sk-estimator:hover .sk-estimator-doc-link:hover,\n",
       ".sk-estimator-doc-link:hover,\n",
       "div.sk-label-container:hover .sk-estimator-doc-link:hover,\n",
       ".sk-estimator-doc-link:hover {\n",
       "  /* unfitted */\n",
       "  background-color: var(--sklearn-color-unfitted-level-3);\n",
       "  color: var(--sklearn-color-background);\n",
       "  text-decoration: none;\n",
       "}\n",
       "\n",
       "div.sk-estimator.fitted:hover .sk-estimator-doc-link.fitted:hover,\n",
       ".sk-estimator-doc-link.fitted:hover,\n",
       "div.sk-label-container:hover .sk-estimator-doc-link.fitted:hover,\n",
       ".sk-estimator-doc-link.fitted:hover {\n",
       "  /* fitted */\n",
       "  background-color: var(--sklearn-color-fitted-level-3);\n",
       "  color: var(--sklearn-color-background);\n",
       "  text-decoration: none;\n",
       "}\n",
       "\n",
       "/* Span, style for the box shown on hovering the info icon */\n",
       ".sk-estimator-doc-link span {\n",
       "  display: none;\n",
       "  z-index: 9999;\n",
       "  position: relative;\n",
       "  font-weight: normal;\n",
       "  right: .2ex;\n",
       "  padding: .5ex;\n",
       "  margin: .5ex;\n",
       "  width: min-content;\n",
       "  min-width: 20ex;\n",
       "  max-width: 50ex;\n",
       "  color: var(--sklearn-color-text);\n",
       "  box-shadow: 2pt 2pt 4pt #999;\n",
       "  /* unfitted */\n",
       "  background: var(--sklearn-color-unfitted-level-0);\n",
       "  border: .5pt solid var(--sklearn-color-unfitted-level-3);\n",
       "}\n",
       "\n",
       ".sk-estimator-doc-link.fitted span {\n",
       "  /* fitted */\n",
       "  background: var(--sklearn-color-fitted-level-0);\n",
       "  border: var(--sklearn-color-fitted-level-3);\n",
       "}\n",
       "\n",
       ".sk-estimator-doc-link:hover span {\n",
       "  display: block;\n",
       "}\n",
       "\n",
       "/* \"?\"-specific style due to the `<a>` HTML tag */\n",
       "\n",
       "#sk-container-id-1 a.estimator_doc_link {\n",
       "  float: right;\n",
       "  font-size: 1rem;\n",
       "  line-height: 1em;\n",
       "  font-family: monospace;\n",
       "  background-color: var(--sklearn-color-background);\n",
       "  border-radius: 1rem;\n",
       "  height: 1rem;\n",
       "  width: 1rem;\n",
       "  text-decoration: none;\n",
       "  /* unfitted */\n",
       "  color: var(--sklearn-color-unfitted-level-1);\n",
       "  border: var(--sklearn-color-unfitted-level-1) 1pt solid;\n",
       "}\n",
       "\n",
       "#sk-container-id-1 a.estimator_doc_link.fitted {\n",
       "  /* fitted */\n",
       "  border: var(--sklearn-color-fitted-level-1) 1pt solid;\n",
       "  color: var(--sklearn-color-fitted-level-1);\n",
       "}\n",
       "\n",
       "/* On hover */\n",
       "#sk-container-id-1 a.estimator_doc_link:hover {\n",
       "  /* unfitted */\n",
       "  background-color: var(--sklearn-color-unfitted-level-3);\n",
       "  color: var(--sklearn-color-background);\n",
       "  text-decoration: none;\n",
       "}\n",
       "\n",
       "#sk-container-id-1 a.estimator_doc_link.fitted:hover {\n",
       "  /* fitted */\n",
       "  background-color: var(--sklearn-color-fitted-level-3);\n",
       "}\n",
       "</style><div id=\"sk-container-id-1\" class=\"sk-top-container\"><div class=\"sk-text-repr-fallback\"><pre>DecisionTreeClassifier(criterion=&#x27;entropy&#x27;, random_state=4022)</pre><b>In a Jupyter environment, please rerun this cell to show the HTML representation or trust the notebook. <br />On GitHub, the HTML representation is unable to render, please try loading this page with nbviewer.org.</b></div><div class=\"sk-container\" hidden><div class=\"sk-item\"><div class=\"sk-estimator fitted sk-toggleable\"><input class=\"sk-toggleable__control sk-hidden--visually\" id=\"sk-estimator-id-1\" type=\"checkbox\" checked><label for=\"sk-estimator-id-1\" class=\"sk-toggleable__label fitted sk-toggleable__label-arrow\"><div><div>DecisionTreeClassifier</div></div><div><a class=\"sk-estimator-doc-link fitted\" rel=\"noreferrer\" target=\"_blank\" href=\"https://scikit-learn.org/1.6/modules/generated/sklearn.tree.DecisionTreeClassifier.html\">?<span>Documentation for DecisionTreeClassifier</span></a><span class=\"sk-estimator-doc-link fitted\">i<span>Fitted</span></span></div></label><div class=\"sk-toggleable__content fitted\"><pre>DecisionTreeClassifier(criterion=&#x27;entropy&#x27;, random_state=4022)</pre></div> </div></div></div></div>"
      ],
      "text/plain": [
       "DecisionTreeClassifier(criterion='entropy', random_state=4022)"
      ]
     },
     "execution_count": 18,
     "metadata": {},
     "output_type": "execute_result"
    },
    {
     "name": "stdout",
     "output_type": "stream",
     "text": [
      "1.0 1.0\n"
     ]
    }
   ],
   "source": [
    "lm_clf = DecisionTreeClassifier(criterion='entropy', \n",
    "                                # max_depth=5,  \n",
    "                                # min_samples_leaf=10, \n",
    "                                # ccp_alpha=0.01, #Pruning coef\n",
    "                                random_state=4022)\n",
    "lm_clf.fit(X_gm_train, y_gm_train)\n",
    "# Predict on the training data\n",
    "y_pred = lm_clf.predict(X_gm_test)\n",
    "\n",
    "# Calculate metrics\n",
    "acc = accuracy_score(y_gm_test, y_pred)\n",
    "f1 = f1_score(y_gm_test, y_pred, average='binary')  # Use 'binary' or 'weighted' based on your label type\n",
    "print(acc, f1)"
   ]
  },
  {
   "cell_type": "code",
   "execution_count": 19,
   "metadata": {},
   "outputs": [
    {
     "data": {
      "text/plain": [
       "Label\n",
       "0.0    1201\n",
       "1.0      48\n",
       "Name: count, dtype: int64"
      ]
     },
     "execution_count": 19,
     "metadata": {},
     "output_type": "execute_result"
    }
   ],
   "source": [
    "y_gm_test.value_counts()"
   ]
  },
  {
   "cell_type": "markdown",
   "metadata": {},
   "source": [
    "### Start Simulation"
   ]
  },
  {
   "cell_type": "markdown",
   "metadata": {},
   "source": [
    "Initial GM Training"
   ]
  },
  {
   "cell_type": "code",
   "execution_count": 45,
   "metadata": {},
   "outputs": [
    {
     "name": "stdout",
     "output_type": "stream",
     "text": [
      "Label\n",
      "0.0    118759\n",
      "1.0      4792\n",
      "Name: count, dtype: int64\n",
      "GM Training Data Size (200, 82)\n",
      "Start Training...\n",
      "ensemble size: 1\n",
      "epoch  1, training loss: 3.038432, time: 0.0s\n",
      "Start Inference on the training data...\n",
      "Accuracy of GM:  0.0\n"
     ]
    }
   ],
   "source": [
    "X_gm_train[\"Label\"] = y_gm_train.values\n",
    "print(X_gm_train[\"Label\"].value_counts())\n",
    "global_model = Global_Model(X_gm_train[:200].copy())\n",
    "# global_model = Global_Model(X_gm_train[:].copy())"
   ]
  },
  {
   "cell_type": "code",
   "execution_count": 46,
   "metadata": {},
   "outputs": [],
   "source": [
    "# TODO: Compare Different Epochs\n",
    "# atk_list = [\"Portscan\", \"DoS Hulk\", \"DDoS\"]\n",
    "\n",
    "LIGHT_GREEN = '\\033[92m'  # Light green\n",
    "GREEN = '\\033[32m'  # Green\n",
    "BLUE = '\\033[34m'  # Green\n",
    "PURPLE = '\\033[35m'  # Green\n",
    "\n",
    "RESET = '\\033[0m'   # Reset to default color\n",
    "\n",
    "\n",
    "# Example usage\n",
    "num_runs = 1\n",
    "num_timesteps = 300\n",
    "num_edge_area = 5\n",
    "supervision = 0.05\n"
   ]
  },
  {
   "cell_type": "code",
   "execution_count": 47,
   "metadata": {},
   "outputs": [],
   "source": [
    "# To change global or clustering sharing tweak define_edge_area(global_sharing=True/False)\n",
    "# To change to no knowledge sharing change edge_area.local_model.knowledge_pool to []"
   ]
  },
  {
   "cell_type": "code",
   "execution_count": 48,
   "metadata": {},
   "outputs": [
    {
     "name": "stdout",
     "output_type": "stream",
     "text": [
      "Run 1/1\n",
      "Label\n",
      "0.0    7974\n",
      "1.0     346\n",
      "Name: count, dtype: int64 Label\n",
      "0.0    1993\n",
      "1.0      87\n",
      "Name: count, dtype: int64\n",
      "Local model is not fitted yet. Please fit the model before inference.\n",
      "Timestep 3, Area 0 Attack Infiltration - Portscan\n",
      "\u001b[92mAccuracy of GM Before: 0.046153846153846156 0.07977736549165121 || 0.04176784847013113 0.06890042472864559 \u001b[0m \n",
      "\u001b[92mAccuracy of LM Before: 0.00 0 || 0 0 \u001b[0m\n",
      "GM New Data Size 8320\n",
      "GM Training Data Size (8520, 82)\n",
      "Start Training...\n",
      "ensemble size: 1\n",
      "epoch  1, training loss: 0.924124, time: 0.3s\n",
      "Start Inference on the training data...\n",
      "Accuracy of GM:  0.9970657276995305\n",
      "\u001b[34mAccuracy of GM After: 0.9980769230769231 0.9770114942528736 || 0.9967945604662457 0.9541029207232267 \u001b[0m \n",
      "Accuracy of GM:  0.9983473557692307\n",
      "\u001b[35mAccuracy of LM After: 0.9981971153846154 0.9770114942528736 || 0.9645458960660515 0.0 \u001b[0m \n",
      "Infiltration - Portscan (8320, 82)\n"
     ]
    },
    {
     "data": {
      "text/plain": [
       "20415"
      ]
     },
     "execution_count": 48,
     "metadata": {},
     "output_type": "execute_result"
    },
    {
     "name": "stdout",
     "output_type": "stream",
     "text": [
      "Label\n",
      "0.0    7988\n",
      "1.0     332\n",
      "Name: count, dtype: int64 Label\n",
      "0.0    1997\n",
      "1.0      83\n",
      "Name: count, dtype: int64\n",
      "Timestep 4, Area 3 Attack Infiltration - Portscan\n",
      "\u001b[92mAccuracy of GM Before: 0.9966346153846154 0.9585798816568047 || 0.9956289460903351 0.9473684210526315 \u001b[0m \n",
      "\u001b[92mAccuracy of LM Before: 0.96 0.0 || 0.9577464788732394 0.0 \u001b[0m\n",
      "GM New Data Size 8320\n",
      "GM Training Data Size (16840, 82)\n",
      "Start Training...\n",
      "ensemble size: 1\n",
      "epoch  1, training loss: 0.732113, time: 0.9s\n",
      "Start Inference on the training data...\n",
      "Accuracy of GM:  0.9973277909738717\n",
      "\u001b[34mAccuracy of GM After: 0.9961538461538462 0.9493670886075949 || 0.9963088878096164 0.9547619047619048 \u001b[0m \n",
      "Accuracy of GM:  0.9984975961538461\n",
      "\u001b[35mAccuracy of LM After: 0.9987980769230769 0.9559748427672956 || 0.9956289460903351 0.9479768786127167 \u001b[0m \n",
      "Infiltration - Portscan (8320, 82)\n"
     ]
    },
    {
     "data": {
      "text/plain": [
       "11939"
      ]
     },
     "execution_count": 48,
     "metadata": {},
     "output_type": "execute_result"
    },
    {
     "name": "stdout",
     "output_type": "stream",
     "text": [
      "Label\n",
      "0.0    6066\n",
      "1.0     229\n",
      "Name: count, dtype: int64 Label\n",
      "0.0    1517\n",
      "1.0      57\n",
      "Name: count, dtype: int64\n",
      "Timestep 14, Area 4 Attack DoS GoldenEye\n",
      "\u001b[92mAccuracy of GM Before: 0.9650571791613723 0.09836065573770492 || 0.9602053915275995 0.06060606060606061 \u001b[0m \n",
      "\u001b[92mAccuracy of LM Before: 0.96 0.0 || 0.9605905006418485 0.0 \u001b[0m\n",
      "GM New Data Size 6295\n",
      "GM Training Data Size (23135, 82)\n",
      "Start Training...\n",
      "ensemble size: 1\n",
      "epoch  1, training loss: 0.675508, time: 1.6s\n",
      "Start Inference on the training data...\n",
      "Accuracy of GM:  0.9933001945104819\n",
      "\u001b[34mAccuracy of GM After: 0.9777636594663278 0.6067415730337079 || 0.9825417201540436 0.746268656716418 \u001b[0m \n",
      "Accuracy of GM:  0.9859015091342335\n",
      "\u001b[35mAccuracy of LM After: 0.9896743447180302 0.6136363636363636 || 0.9640564826700898 0.13043478260869565 \u001b[0m \n",
      "DoS GoldenEye (6295, 82)\n"
     ]
    },
    {
     "data": {
      "text/plain": [
       "9441"
      ]
     },
     "execution_count": 48,
     "metadata": {},
     "output_type": "execute_result"
    },
    {
     "name": "stdout",
     "output_type": "stream",
     "text": [
      "Label\n",
      "0.0    8022\n",
      "1.0     298\n",
      "Name: count, dtype: int64 Label\n",
      "0.0    2006\n",
      "1.0      74\n",
      "Name: count, dtype: int64\n",
      "Timestep 18, Area 2 Attack DDoS\n",
      "\u001b[92mAccuracy of GM Before: 0.9615384615384616 0.047619047619047616 || 0.9568722680913064 0.075 \u001b[0m \n",
      "\u001b[92mAccuracy of LM Before: 0.96 0.0 || 0.9567751335599806 0.0 \u001b[0m\n",
      "GM New Data Size 8320\n",
      "GM Training Data Size (31455, 82)\n",
      "Start Training...\n",
      "ensemble size: 1\n",
      "epoch  1, training loss: 0.554317, time: 2.7s\n",
      "Start Inference on the training data...\n",
      "Accuracy of GM:  0.9925290096963917\n",
      "\u001b[34mAccuracy of GM After: 0.9966346153846154 0.9548387096774194 || 0.9959203496843128 0.9521640091116174 \u001b[0m \n",
      "Accuracy of GM:  0.9954927884615384\n",
      "\u001b[35mAccuracy of LM After: 0.9963942307692307 0.9548387096774194 || 0.995726080621661 0.9491916859122402 \u001b[0m \n",
      "DDoS (8320, 82)\n"
     ]
    },
    {
     "data": {
      "text/plain": [
       "10607"
      ]
     },
     "execution_count": 48,
     "metadata": {},
     "output_type": "execute_result"
    },
    {
     "name": "stdout",
     "output_type": "stream",
     "text": [
      "Label\n",
      "0.0    8002\n",
      "1.0     318\n",
      "Name: count, dtype: int64 Label\n",
      "0.0    2000\n",
      "1.0      80\n",
      "Name: count, dtype: int64\n",
      "Timestep 19, Area 3 Attack DoS Hulk\n",
      "\u001b[92mAccuracy of GM Before: 0.9889423076923077 0.8456375838926175 || 0.9889266634288489 0.848404255319149 \u001b[0m \n",
      "\u001b[92mAccuracy of LM Before: 0.96 0.023529411764705882 || 0.9628946090335114 0.16593886462882096 \u001b[0m\n",
      "GM New Data Size 8320\n",
      "GM Training Data Size (39775, 82)\n",
      "Start Training...\n",
      "ensemble size: 1\n",
      "epoch  1, training loss: 0.502870, time: 3.8s\n",
      "Start Inference on the training data...\n",
      "Accuracy of GM:  0.9959773727215587\n",
      "\u001b[34mAccuracy of GM After: 0.9980769230769231 0.9743589743589743 || 0.9941719281204469 0.9212598425196851 \u001b[0m \n",
      "Accuracy of GM:  0.9977463942307693\n",
      "\u001b[35mAccuracy of LM After: 0.9981971153846154 0.9808917197452229 || 0.996600291403594 0.9515905947441217 \u001b[0m \n",
      "DoS Hulk (8320, 82)\n"
     ]
    },
    {
     "data": {
      "text/plain": [
       "11939"
      ]
     },
     "execution_count": 48,
     "metadata": {},
     "output_type": "execute_result"
    },
    {
     "name": "stdout",
     "output_type": "stream",
     "text": [
      "Label\n",
      "0.0    7978\n",
      "1.0     342\n",
      "Name: count, dtype: int64 Label\n",
      "0.0    1994\n",
      "1.0      86\n",
      "Name: count, dtype: int64\n",
      "Timestep 27, Area 3 Attack Infiltration - Portscan\n",
      "\u001b[92mAccuracy of GM Before: 0.9966346153846154 0.9580838323353293 || 0.9974745021855269 0.9658792650918635 \u001b[0m \n",
      "\u001b[92mAccuracy of LM Before: 1.00 0.9824561403508771 || 0.9981544439048081 0.9752925877763329 \u001b[0m\n",
      "GM New Data Size 8320\n",
      "GM Training Data Size (48095, 82)\n",
      "Start Training...\n",
      "ensemble size: 1\n",
      "epoch  1, training loss: 0.445579, time: 6.0s\n",
      "Start Inference on the training data...\n",
      "Accuracy of GM:  0.9938663062688429\n",
      "\u001b[34mAccuracy of GM After: 0.9923076923076923 0.9080459770114943 || 0.9945604662457503 0.9291139240506329 \u001b[0m \n",
      "Infiltration - Portscan (8320, 82)\n"
     ]
    },
    {
     "data": {
      "text/plain": [
       "10550"
      ]
     },
     "execution_count": 48,
     "metadata": {},
     "output_type": "execute_result"
    },
    {
     "name": "stdout",
     "output_type": "stream",
     "text": [
      "Label\n",
      "0.0    8003\n",
      "1.0     317\n",
      "Name: count, dtype: int64 Label\n",
      "0.0    2001\n",
      "1.0      79\n",
      "Name: count, dtype: int64\n",
      "Timestep 28, Area 3 Attack Infiltration - Portscan\n",
      "\u001b[92mAccuracy of GM Before: 0.9961538461538462 0.9506172839506173 || 0.9951432734337057 0.9360613810741688 \u001b[0m \n",
      "\u001b[92mAccuracy of LM Before: 1.00 0.9605263157894737 || 0.999125789218067 0.9882044560943644 \u001b[0m\n",
      "GM New Data Size 8320\n",
      "GM Training Data Size (56415, 82)\n",
      "Start Training...\n",
      "ensemble size: 1\n",
      "epoch  1, training loss: 0.404821, time: 8.0s\n",
      "Start Inference on the training data...\n",
      "Accuracy of GM:  0.994327749711956\n",
      "\u001b[34mAccuracy of GM After: 0.9985576923076923 0.9806451612903225 || 0.9975716367168529 0.9666221628838452 \u001b[0m \n",
      "Infiltration - Portscan (8320, 82)\n"
     ]
    },
    {
     "data": {
      "text/plain": [
       "10550"
      ]
     },
     "execution_count": 48,
     "metadata": {},
     "output_type": "execute_result"
    },
    {
     "name": "stdout",
     "output_type": "stream",
     "text": [
      "Label\n",
      "0.0    1381\n",
      "1.0      66\n",
      "Name: count, dtype: int64 Label\n",
      "0.0    346\n",
      "1.0     16\n",
      "Name: count, dtype: int64\n",
      "Timestep 29, Area 3 Attack DoS Slowhttptest\n",
      "\u001b[92mAccuracy of GM Before: 0.9558011049723757 0.0 || 0.9670391061452513 0.0 \u001b[0m \n",
      "\u001b[92mAccuracy of LM Before: 0.95 0.0 || 0.964245810055866 0.0 \u001b[0m\n",
      "GM New Data Size 1447\n",
      "GM Training Data Size (57862, 82)\n",
      "Start Training...\n",
      "ensemble size: 1\n",
      "epoch  1, training loss: 0.420218, time: 8.5s\n",
      "Start Inference on the training data...\n",
      "Accuracy of GM:  0.9957660070854575\n",
      "\u001b[34mAccuracy of GM After: 0.9917127071823204 0.896551724137931 || 0.9893854748603352 0.7764705882352941 \u001b[0m \n",
      "Accuracy of GM:  0.9887640449438202\n",
      "\u001b[35mAccuracy of LM After: 0.996551724137931 0.896551724137931 || 0.9815642458100559 0.6451612903225806 \u001b[0m \n",
      "DoS Slowhttptest (1447, 82)\n"
     ]
    },
    {
     "data": {
      "text/plain": [
       "3425"
      ]
     },
     "execution_count": 48,
     "metadata": {},
     "output_type": "execute_result"
    },
    {
     "name": "stdout",
     "output_type": "stream",
     "text": [
      "Label\n",
      "0.0    8026\n",
      "1.0     294\n",
      "Name: count, dtype: int64 Label\n",
      "0.0    2006\n",
      "1.0      74\n",
      "Name: count, dtype: int64\n",
      "Timestep 34, Area 0 Attack Portscan\n",
      "\u001b[92mAccuracy of GM Before: 0.9913461538461539 0.8615384615384616 || 0.9947547353084021 0.9283819628647215 \u001b[0m \n",
      "\u001b[92mAccuracy of LM Before: 1.00 0.9793103448275862 || 0.9891209324915007 0.8390804597701149 \u001b[0m\n",
      "GM New Data Size 8320\n",
      "GM Training Data Size (66182, 82)\n",
      "Start Training...\n",
      "ensemble size: 1\n",
      "epoch  1, training loss: 0.419765, time: 10.6s\n",
      "Start Inference on the training data...\n",
      "Accuracy of GM:  0.9961471632545139\n",
      "\u001b[34mAccuracy of GM After: 0.9971153846153846 0.9577464788732394 || 0.9996114618746964 0.9950248756218906 \u001b[0m \n",
      "Portscan (8320, 82)\n"
     ]
    },
    {
     "data": {
      "text/plain": [
       "10550"
      ]
     },
     "execution_count": 48,
     "metadata": {},
     "output_type": "execute_result"
    },
    {
     "name": "stdout",
     "output_type": "stream",
     "text": [
      "Label\n",
      "0.0    6015\n",
      "1.0     280\n",
      "Name: count, dtype: int64 Label\n",
      "0.0    1504\n",
      "1.0      70\n",
      "Name: count, dtype: int64\n",
      "Timestep 40, Area 4 Attack DoS GoldenEye\n",
      "\u001b[92mAccuracy of GM Before: 0.9904701397712834 0.8818897637795275 || 0.986007702182285 0.7761806981519507 \u001b[0m \n",
      "\u001b[92mAccuracy of LM Before: 0.97 0.5416666666666666 || 0.9757381258023107 0.4793388429752066 \u001b[0m\n",
      "GM New Data Size 6295\n",
      "GM Training Data Size (72477, 82)\n",
      "Start Training...\n",
      "ensemble size: 1\n",
      "epoch  1, training loss: 0.408216, time: 12.0s\n",
      "Start Inference on the training data...\n",
      "Accuracy of GM:  0.9942742825607064\n",
      "\u001b[34mAccuracy of GM After: 0.9828462515883101 0.7652173913043478 || 0.9843388960205391 0.7489711934156379 \u001b[0m \n",
      "Accuracy of GM:  0.9847100873709294\n",
      "\u001b[35mAccuracy of LM After: 0.982525814138205 0.7758620689655172 || 0.9772785622593068 0.5795724465558195 \u001b[0m \n",
      "DoS GoldenEye (6295, 82)\n"
     ]
    },
    {
     "data": {
      "text/plain": [
       "9441"
      ]
     },
     "execution_count": 48,
     "metadata": {},
     "output_type": "execute_result"
    },
    {
     "name": "stdout",
     "output_type": "stream",
     "text": [
      "Label\n",
      "0.0    8008\n",
      "1.0     312\n",
      "Name: count, dtype: int64 Label\n",
      "0.0    2002\n",
      "1.0      78\n",
      "Name: count, dtype: int64\n",
      "Timestep 42, Area 3 Attack Infiltration - Portscan\n",
      "\u001b[92mAccuracy of GM Before: 0.9956730769230769 0.9395973154362416 || 0.9971038806233721 0.9607655502392345 \u001b[0m \n",
      "\u001b[92mAccuracy of LM Before: 1.00 0.9736842105263158 || 0.9984636439892278 0.9794956398774453 \u001b[0m\n",
      "GM New Data Size 8320\n",
      "GM Training Data Size (80797, 82)\n",
      "Start Training...\n",
      "ensemble size: 1\n",
      "epoch  1, training loss: 0.391975, time: 14.6s\n",
      "Start Inference on the training data...\n",
      "Accuracy of GM:  0.9965965346534653\n",
      "\u001b[34mAccuracy of GM After: 0.9985576923076923 0.9803921568627451 || 0.998746192221094 0.983380149812734 \u001b[0m \n",
      "Infiltration - Portscan (8320, 82)\n"
     ]
    },
    {
     "data": {
      "text/plain": [
       "0"
      ]
     },
     "execution_count": 48,
     "metadata": {},
     "output_type": "execute_result"
    },
    {
     "name": "stdout",
     "output_type": "stream",
     "text": [
      "Label\n",
      "0.0    7992\n",
      "1.0     328\n",
      "Name: count, dtype: int64 Label\n",
      "0.0    1998\n",
      "1.0      82\n",
      "Name: count, dtype: int64\n",
      "Timestep 43, Area 2 Attack Portscan\n",
      "\u001b[92mAccuracy of GM Before: 0.99375 0.9139072847682119 || 0.9981544439048081 0.9777777777777777 \u001b[0m \n",
      "\u001b[92mAccuracy of LM Before: 1.00 1.0 || 0.9992229237493929 0.9906976744186047 \u001b[0m\n",
      "GM New Data Size 8320\n",
      "GM Training Data Size (89117, 82)\n",
      "Start Training...\n",
      "ensemble size: 1\n",
      "epoch  1, training loss: 0.389137, time: 18.2s\n",
      "Start Inference on the training data...\n",
      "Accuracy of GM:  0.9956238779174147\n",
      "\u001b[34mAccuracy of GM After: 1.0 1.0 || 0.999125789218067 0.9896432681242808 \u001b[0m \n",
      "Portscan (8320, 82)\n"
     ]
    },
    {
     "data": {
      "text/plain": [
       "10550"
      ]
     },
     "execution_count": 48,
     "metadata": {},
     "output_type": "execute_result"
    },
    {
     "name": "stdout",
     "output_type": "stream",
     "text": [
      "Label\n",
      "0.0    8006\n",
      "1.0     314\n",
      "Name: count, dtype: int64 Label\n",
      "0.0    2002\n",
      "1.0      78\n",
      "Name: count, dtype: int64\n",
      "Timestep 44, Area 3 Attack DDoS\n",
      "\u001b[92mAccuracy of GM Before: 0.9961538461538462 0.9473684210526315 || 0.9964060223409422 0.9564193168433451 \u001b[0m \n",
      "\u001b[92mAccuracy of LM Before: 0.99 0.8444444444444444 || 0.9620203982515785 0.14065934065934066 \u001b[0m\n",
      "GM New Data Size 8320\n",
      "GM Training Data Size (97437, 82)\n",
      "Start Training...\n",
      "ensemble size: 1\n",
      "epoch  1, training loss: 0.395517, time: 22.4s\n",
      "Start Inference on the training data...\n",
      "Accuracy of GM:  0.9955357142857143\n",
      "\u001b[34mAccuracy of GM After: 0.9990384615384615 0.9873417721518988 || 0.9966974259349198 0.9597156398104265 \u001b[0m \n",
      "Accuracy of GM:  0.9965444711538461\n",
      "\u001b[35mAccuracy of LM After: 0.9963942307692307 0.9873417721518988 || 0.9967945604662457 0.958594730238394 \u001b[0m \n",
      "DDoS (8320, 82)\n"
     ]
    },
    {
     "data": {
      "text/plain": [
       "11939"
      ]
     },
     "execution_count": 48,
     "metadata": {},
     "output_type": "execute_result"
    },
    {
     "name": "stdout",
     "output_type": "stream",
     "text": [
      "Label\n",
      "0.0    2352\n",
      "1.0     111\n",
      "Name: count, dtype: int64 Label\n",
      "0.0    588\n",
      "1.0     28\n",
      "Name: count, dtype: int64\n",
      "Timestep 48, Area 1 Attack SSH-Patator\n",
      "\u001b[92mAccuracy of GM Before: 0.9512987012987013 0.0 || 0.9570209973753281 0.0 \u001b[0m \n",
      "\u001b[92mAccuracy of LM Before: 0.95 0.0 || 0.9563648293963255 0.0 \u001b[0m\n",
      "GM New Data Size 2463\n",
      "GM Training Data Size (99900, 82)\n",
      "Start Training...\n",
      "ensemble size: 1\n",
      "epoch  1, training loss: 0.425636, time: 23.8s\n",
      "Start Inference on the training data...\n",
      "Accuracy of GM:  0.9978978978978978\n",
      "\u001b[34mAccuracy of GM After: 0.9983766233766234 0.9818181818181818 || 0.9983595800524935 0.9783549783549783 \u001b[0m \n",
      "Accuracy of GM:  0.9984771573604061\n",
      "\u001b[35mAccuracy of LM After: 0.9979716024340771 0.9818181818181818 || 0.9599737532808399 0.046875 \u001b[0m \n",
      "SSH-Patator (2463, 82)\n"
     ]
    },
    {
     "data": {
      "text/plain": [
       "4707"
      ]
     },
     "execution_count": 48,
     "metadata": {},
     "output_type": "execute_result"
    },
    {
     "name": "stdout",
     "output_type": "stream",
     "text": [
      "Label\n",
      "0.0    7994\n",
      "1.0     326\n",
      "Name: count, dtype: int64 Label\n",
      "0.0    1999\n",
      "1.0      81\n",
      "Name: count, dtype: int64\n",
      "Timestep 52, Area 0 Attack Portscan\n",
      "\u001b[92mAccuracy of GM Before: 0.9980769230769231 0.975 || 0.9992229237493929 0.9903614457831326 \u001b[0m \n",
      "\u001b[92mAccuracy of LM Before: 1.00 0.9937888198757764 || 0.9992229237493929 0.9903846153846154 \u001b[0m\n",
      "Portscan (8320, 81)\n"
     ]
    },
    {
     "data": {
      "text/plain": [
       "19"
      ]
     },
     "execution_count": 48,
     "metadata": {},
     "output_type": "execute_result"
    },
    {
     "name": "stdout",
     "output_type": "stream",
     "text": [
      "Label\n",
      "0.0    3166\n",
      "1.0     138\n",
      "Name: count, dtype: int64 Label\n",
      "0.0    791\n",
      "1.0     35\n",
      "Name: count, dtype: int64\n",
      "Timestep 53, Area 0 Attack FTP-Patator\n",
      "\u001b[92mAccuracy of GM Before: 0.9564164648910412 0.0 || 0.9623287671232876 0.0 \u001b[0m \n",
      "\u001b[92mAccuracy of LM Before: 0.96 0.0 || 0.9628180039138943 0.0 \u001b[0m\n",
      "GM New Data Size 3304\n",
      "GM Training Data Size (103204, 82)\n",
      "Start Training...\n",
      "ensemble size: 1\n",
      "epoch  1, training loss: 0.393513, time: 25.4s\n",
      "Start Inference on the training data...\n",
      "Accuracy of GM:  0.9955912988711787\n",
      "\u001b[34mAccuracy of GM After: 1.0 1.0 || 0.9995107632093934 0.993421052631579 \u001b[0m \n",
      "Accuracy of GM:  0.9996216420734014\n",
      "\u001b[35mAccuracy of LM After: 1.0 1.0 || 0.99706457925636 0.9617834394904459 \u001b[0m \n",
      "FTP-Patator (3304, 82)\n"
     ]
    },
    {
     "data": {
      "text/plain": [
       "5731"
      ]
     },
     "execution_count": 48,
     "metadata": {},
     "output_type": "execute_result"
    },
    {
     "name": "stdout",
     "output_type": "stream",
     "text": [
      "Label\n",
      "0.0    3088\n",
      "1.0     122\n",
      "Name: count, dtype: int64 Label\n",
      "0.0    772\n",
      "1.0     31\n",
      "Name: count, dtype: int64\n",
      "Timestep 53, Area 1 Attack DoS Slowloris\n",
      "\u001b[92mAccuracy of GM Before: 0.9613947696139477 0.0 || 0.959718026183283 0.0 \u001b[0m \n",
      "\u001b[92mAccuracy of LM Before: 0.96 0.0625 || 0.9577039274924471 0.0 \u001b[0m\n",
      "GM New Data Size 3210\n",
      "GM Training Data Size (106414, 82)\n",
      "Start Training...\n",
      "ensemble size: 1\n",
      "epoch  1, training loss: 0.420299, time: 26.8s\n",
      "Start Inference on the training data...\n",
      "Accuracy of GM:  0.9949255274162477\n",
      "\u001b[34mAccuracy of GM After: 0.9912826899128269 0.8727272727272727 || 0.9740684793554885 0.5579399141630901 \u001b[0m \n",
      "Accuracy of GM:  0.9902647975077882\n",
      "\u001b[35mAccuracy of LM After: 0.9922118380062306 0.8727272727272727 || 0.9914400805639476 0.8888888888888888 \u001b[0m \n",
      "DoS Slowloris (3210, 82)\n"
     ]
    },
    {
     "data": {
      "text/plain": [
       "5667"
      ]
     },
     "execution_count": 48,
     "metadata": {},
     "output_type": "execute_result"
    },
    {
     "name": "stdout",
     "output_type": "stream",
     "text": [
      "Label\n",
      "0.0    1397\n",
      "1.0      50\n",
      "Name: count, dtype: int64 Label\n",
      "0.0    349\n",
      "1.0     13\n",
      "Name: count, dtype: int64\n",
      "Timestep 53, Area 2 Attack DoS Slowhttptest\n",
      "\u001b[92mAccuracy of GM Before: 0.9696132596685083 0.26666666666666666 || 0.9675977653631285 0.5538461538461539 \u001b[0m \n",
      "\u001b[92mAccuracy of LM Before: 0.98 0.47058823529411764 || 0.975977653631285 0.6666666666666666 \u001b[0m\n",
      "GM New Data Size 1447\n",
      "GM Training Data Size (107861, 82)\n",
      "Start Training...\n",
      "ensemble size: 1\n",
      "epoch  1, training loss: 0.421618, time: 27.9s\n",
      "Start Inference on the training data...\n",
      "Accuracy of GM:  0.9962453066332916\n",
      "\u001b[34mAccuracy of GM After: 0.9861878453038674 0.7619047619047619 || 0.9921787709497206 0.9113924050632911 \u001b[0m \n",
      "Accuracy of GM:  0.9870354364736387\n",
      "\u001b[35mAccuracy of LM After: 0.996551724137931 0.7619047619047619 || 0.9770949720670391 0.6870229007633588 \u001b[0m \n",
      "DoS Slowhttptest (1447, 82)\n"
     ]
    },
    {
     "data": {
      "text/plain": [
       "3425"
      ]
     },
     "execution_count": 48,
     "metadata": {},
     "output_type": "execute_result"
    },
    {
     "name": "stdout",
     "output_type": "stream",
     "text": [
      "Label\n",
      "0.0    2364\n",
      "1.0      99\n",
      "Name: count, dtype: int64 Label\n",
      "0.0    591\n",
      "1.0     25\n",
      "Name: count, dtype: int64\n",
      "Timestep 54, Area 2 Attack SSH-Patator\n",
      "\u001b[92mAccuracy of GM Before: 1.0 1.0 || 0.994750656167979 0.9398496240601504 \u001b[0m \n",
      "\u001b[92mAccuracy of LM Before: 0.96 0.0 || 0.9576771653543307 0.0 \u001b[0m\n",
      "Accuracy of GM:  0.9979695431472081\n",
      "\u001b[35mAccuracy of LM After: 0.9979716024340771 1.0 || 0.9553805774278216 0.0 \u001b[0m \n",
      "SSH-Patator (2463, 82)\n"
     ]
    },
    {
     "data": {
      "text/plain": [
       "1391"
      ]
     },
     "execution_count": 48,
     "metadata": {},
     "output_type": "execute_result"
    },
    {
     "name": "stdout",
     "output_type": "stream",
     "text": [
      "Label\n",
      "0.0    3084\n",
      "1.0     126\n",
      "Name: count, dtype: int64 Label\n",
      "0.0    772\n",
      "1.0     31\n",
      "Name: count, dtype: int64\n",
      "Timestep 56, Area 2 Attack DoS Slowloris\n",
      "\u001b[92mAccuracy of GM Before: 0.9838107098381071 0.7346938775510204 || 0.9780966767371602 0.5876777251184834 \u001b[0m \n",
      "\u001b[92mAccuracy of LM Before: 0.97 0.41025641025641024 || 0.9745720040281974 0.5167464114832536 \u001b[0m\n",
      "GM New Data Size 3210\n",
      "GM Training Data Size (111071, 82)\n",
      "Start Training...\n",
      "ensemble size: 1\n",
      "epoch  1, training loss: 0.402463, time: 29.0s\n",
      "Start Inference on the training data...\n",
      "Accuracy of GM:  0.9956785955435516\n",
      "\u001b[34mAccuracy of GM After: 0.9937733499377335 0.9122807017543859 || 0.993202416918429 0.9018181818181819 \u001b[0m \n",
      "Accuracy of GM:  0.992601246105919\n",
      "\u001b[35mAccuracy of LM After: 0.9953271028037384 0.9122807017543859 || 0.9821248741188319 0.6844444444444444 \u001b[0m \n",
      "DoS Slowloris (3210, 82)\n"
     ]
    },
    {
     "data": {
      "text/plain": [
       "5667"
      ]
     },
     "execution_count": 48,
     "metadata": {},
     "output_type": "execute_result"
    },
    {
     "name": "stdout",
     "output_type": "stream",
     "text": [
      "Label\n",
      "0.0    8002\n",
      "1.0     318\n",
      "Name: count, dtype: int64 Label\n",
      "0.0    2000\n",
      "1.0      80\n",
      "Name: count, dtype: int64\n",
      "Timestep 57, Area 2 Attack Infiltration - Portscan\n",
      "\u001b[92mAccuracy of GM Before: 0.9980769230769231 0.9746835443037974 || 0.9963088878096164 0.9530864197530864 \u001b[0m \n",
      "\u001b[92mAccuracy of LM Before: 1.00 0.9811320754716981 || 0.9986401165614376 0.9827160493827161 \u001b[0m\n",
      "Infiltration - Portscan (8320, 81)\n"
     ]
    },
    {
     "data": {
      "text/plain": [
       "19"
      ]
     },
     "execution_count": 48,
     "metadata": {},
     "output_type": "execute_result"
    },
    {
     "name": "stdout",
     "output_type": "stream",
     "text": [
      "Label\n",
      "0.0    8004\n",
      "1.0     316\n",
      "Name: count, dtype: int64 Label\n",
      "0.0    2001\n",
      "1.0      79\n",
      "Name: count, dtype: int64\n",
      "Timestep 61, Area 0 Attack DDoS\n",
      "\u001b[92mAccuracy of GM Before: 0.9975961538461539 0.968944099378882 || 0.9963088878096164 0.9558139534883721 \u001b[0m \n",
      "\u001b[92mAccuracy of LM Before: 0.99 0.9261744966442953 || 0.9994171928120447 0.9928057553956835 \u001b[0m\n",
      "Accuracy of GM:  0.9959435096153846\n",
      "\u001b[35mAccuracy of LM After: 0.9963942307692307 0.9753086419753086 || 0.9959203496843128 0.9515011547344111 \u001b[0m \n",
      "DDoS (8320, 82)\n"
     ]
    },
    {
     "data": {
      "text/plain": [
       "1391"
      ]
     },
     "execution_count": 48,
     "metadata": {},
     "output_type": "execute_result"
    },
    {
     "name": "stdout",
     "output_type": "stream",
     "text": [
      "Label\n",
      "0.0    3083\n",
      "1.0     127\n",
      "Name: count, dtype: int64 Label\n",
      "0.0    771\n",
      "1.0     32\n",
      "Name: count, dtype: int64\n",
      "Timestep 61, Area 1 Attack DoS Slowloris\n",
      "\u001b[92mAccuracy of GM Before: 0.9937733499377335 0.9152542372881356 || 0.9944612286002014 0.920863309352518 \u001b[0m \n",
      "\u001b[92mAccuracy of LM Before: 0.99 0.847457627118644 || 0.9919436052366566 0.8888888888888888 \u001b[0m\n",
      "GM New Data Size 3210\n",
      "GM Training Data Size (114281, 82)\n",
      "Start Training...\n",
      "ensemble size: 1\n",
      "epoch  1, training loss: 0.403796, time: 30.9s\n",
      "Start Inference on the training data...\n",
      "Accuracy of GM:  0.9960624753904712\n",
      "\u001b[34mAccuracy of GM After: 0.9887920298879203 0.8363636363636363 || 0.9911883182275931 0.8679245283018868 \u001b[0m \n",
      "Accuracy of GM:  0.9906542056074766\n",
      "\u001b[35mAccuracy of LM After: 0.9937694704049844 0.8148148148148148 || 0.9944612286002014 0.920863309352518 \u001b[0m \n",
      "DoS Slowloris (3210, 82)\n"
     ]
    },
    {
     "data": {
      "text/plain": [
       "5667"
      ]
     },
     "execution_count": 48,
     "metadata": {},
     "output_type": "execute_result"
    },
    {
     "name": "stdout",
     "output_type": "stream",
     "text": [
      "Label\n",
      "0.0    8006\n",
      "1.0     314\n",
      "Name: count, dtype: int64 Label\n",
      "0.0    2001\n",
      "1.0      79\n",
      "Name: count, dtype: int64\n",
      "Timestep 72, Area 3 Attack Portscan\n",
      "\u001b[92mAccuracy of GM Before: 0.9985576923076923 0.9808917197452229 || 0.9994171928120447 0.9922680412371134 \u001b[0m \n",
      "\u001b[92mAccuracy of LM Before: 1.00 0.9936305732484076 || 0.9997085964060224 0.9961389961389961 \u001b[0m\n",
      "Portscan (8320, 81)\n"
     ]
    },
    {
     "data": {
      "text/plain": [
       "19"
      ]
     },
     "execution_count": 48,
     "metadata": {},
     "output_type": "execute_result"
    },
    {
     "name": "stdout",
     "output_type": "stream",
     "text": [
      "Label\n",
      "0.0    8029\n",
      "1.0     291\n",
      "Name: count, dtype: int64 Label\n",
      "0.0    2007\n",
      "1.0      73\n",
      "Name: count, dtype: int64\n",
      "Timestep 72, Area 4 Attack Portscan\n",
      "\u001b[92mAccuracy of GM Before: 0.9995192307692308 0.9931972789115646 || 0.999275970155843 0.9906414060716732 \u001b[0m \n",
      "\u001b[92mAccuracy of LM Before: 0.98 0.6355140186915887 || 0.9891748708666284 0.837098060058464 \u001b[0m\n",
      "Accuracy of GM:  0.9993990384615384\n",
      "\u001b[35mAccuracy of LM After: 1.0 1.0 || 0.999761599929363 0.9969054441260745 \u001b[0m \n",
      "Portscan (8320, 82)\n"
     ]
    },
    {
     "data": {
      "text/plain": [
       "1391"
      ]
     },
     "execution_count": 48,
     "metadata": {},
     "output_type": "execute_result"
    },
    {
     "name": "stdout",
     "output_type": "stream",
     "text": [
      "Label\n",
      "0.0    1389\n",
      "1.0      58\n",
      "Name: count, dtype: int64 Label\n",
      "0.0    347\n",
      "1.0     15\n",
      "Name: count, dtype: int64\n",
      "Timestep 73, Area 1 Attack DoS Slowhttptest\n",
      "\u001b[92mAccuracy of GM Before: 0.9696132596685083 0.47619047619047616 || 0.9659217877094972 0.5196850393700787 \u001b[0m \n",
      "\u001b[92mAccuracy of LM Before: 0.98 0.75 || 0.9731843575418995 0.6363636363636364 \u001b[0m\n",
      "GM New Data Size 1447\n",
      "GM Training Data Size (115728, 82)\n",
      "Start Training...\n",
      "ensemble size: 1\n",
      "epoch  1, training loss: 0.402219, time: 31.4s\n",
      "Start Inference on the training data...\n",
      "Accuracy of GM:  0.9945562948241596\n",
      "\u001b[34mAccuracy of GM After: 0.9723756906077348 0.5454545454545454 || 0.9715083798882681 0.6046511627906976 \u001b[0m \n",
      "Accuracy of GM:  0.9853068280034573\n",
      "\u001b[35mAccuracy of LM After: 0.9827586206896551 0.6086956521739131 || 0.976536312849162 0.6956521739130435 \u001b[0m \n",
      "DoS Slowhttptest (1447, 82)\n"
     ]
    },
    {
     "data": {
      "text/plain": [
       "2093"
      ]
     },
     "execution_count": 48,
     "metadata": {},
     "output_type": "execute_result"
    },
    {
     "name": "stdout",
     "output_type": "stream",
     "text": [
      "Label\n",
      "0.0    8015\n",
      "1.0     305\n",
      "Name: count, dtype: int64 Label\n",
      "0.0    2004\n",
      "1.0      76\n",
      "Name: count, dtype: int64\n",
      "Timestep 74, Area 2 Attack DDoS\n",
      "\u001b[92mAccuracy of GM Before: 0.9951923076923077 0.9333333333333333 || 0.9959203496843128 0.9490291262135923 \u001b[0m \n",
      "\u001b[92mAccuracy of LM Before: 1.00 0.9382716049382716 || 0.9954346770276833 0.9445100354191264 \u001b[0m\n",
      "GM New Data Size 8320\n",
      "GM Training Data Size (124048, 82)\n",
      "Start Training...\n",
      "ensemble size: 1\n",
      "epoch  1, training loss: 0.392502, time: 35.6s\n",
      "Start Inference on the training data...\n",
      "Accuracy of GM:  0.9967351874244257\n",
      "\u001b[34mAccuracy of GM After: 0.9985576923076923 0.9806451612903225 || 0.9966974259349198 0.960093896713615 \u001b[0m \n",
      "Accuracy of GM:  0.9974459134615384\n",
      "\u001b[35mAccuracy of LM After: 0.9975961538461539 0.974025974025974 || 0.9956289460903351 0.9461077844311377 \u001b[0m \n",
      "DDoS (8320, 82)\n"
     ]
    },
    {
     "data": {
      "text/plain": [
       "1389"
      ]
     },
     "execution_count": 48,
     "metadata": {},
     "output_type": "execute_result"
    },
    {
     "name": "stdout",
     "output_type": "stream",
     "text": [
      "Label\n",
      "0.0    3097\n",
      "1.0     113\n",
      "Name: count, dtype: int64 Label\n",
      "0.0    775\n",
      "1.0     28\n",
      "Name: count, dtype: int64\n",
      "Timestep 81, Area 2 Attack DoS Slowloris\n",
      "\u001b[92mAccuracy of GM Before: 0.9925280199252802 0.88 || 0.9944612286002014 0.9251700680272109 \u001b[0m \n",
      "\u001b[92mAccuracy of LM Before: 1.00 0.9433962264150944 || 0.9939577039274925 0.9205298013245033 \u001b[0m\n",
      "GM New Data Size 3210\n",
      "GM Training Data Size (127258, 82)\n",
      "Start Training...\n",
      "ensemble size: 1\n",
      "epoch  1, training loss: 0.403293, time: 37.2s\n",
      "Start Inference on the training data...\n",
      "Accuracy of GM:  0.9966603803237467\n",
      "\u001b[34mAccuracy of GM After: 0.9962640099626401 0.9433962264150944 || 0.9959718026183283 0.9466666666666667 \u001b[0m \n",
      "Accuracy of GM:  0.9964953271028038\n",
      "\u001b[35mAccuracy of LM After: 0.9984423676012462 0.9629629629629629 || 0.9952165156092648 0.9364548494983278 \u001b[0m \n",
      "DoS Slowloris (3210, 82)\n"
     ]
    },
    {
     "data": {
      "text/plain": [
       "5667"
      ]
     },
     "execution_count": 48,
     "metadata": {},
     "output_type": "execute_result"
    },
    {
     "name": "stdout",
     "output_type": "stream",
     "text": [
      "Label\n",
      "0.0    2378\n",
      "1.0      85\n",
      "Name: count, dtype: int64 Label\n",
      "0.0    595\n",
      "1.0     21\n",
      "Name: count, dtype: int64\n",
      "Timestep 82, Area 3 Attack SSH-Patator\n",
      "\u001b[92mAccuracy of GM Before: 1.0 1.0 || 0.9993438320209974 0.990990990990991 \u001b[0m \n",
      "\u001b[92mAccuracy of LM Before: 0.97 0.0 || 0.9612860892388452 0.0 \u001b[0m\n",
      "Accuracy of GM:  1.0\n",
      "\u001b[35mAccuracy of LM After: 0.9979716024340771 1.0 || 0.9973753280839895 0.9646017699115044 \u001b[0m \n",
      "SSH-Patator (2463, 82)\n"
     ]
    },
    {
     "data": {
      "text/plain": [
       "1391"
      ]
     },
     "execution_count": 48,
     "metadata": {},
     "output_type": "execute_result"
    },
    {
     "name": "stdout",
     "output_type": "stream",
     "text": [
      "Label\n",
      "0.0    7974\n",
      "1.0     346\n",
      "Name: count, dtype: int64 Label\n",
      "0.0    1994\n",
      "1.0      86\n",
      "Name: count, dtype: int64\n",
      "Timestep 83, Area 2 Attack DDoS\n",
      "\u001b[92mAccuracy of GM Before: 0.9971153846153846 0.963855421686747 || 0.9965917619531146 0.9562457492632056 \u001b[0m \n",
      "\u001b[92mAccuracy of LM Before: 1.00 0.9717514124293786 || 0.996044324753874 0.9503105590062112 \u001b[0m\n",
      "DDoS (8320, 81)\n"
     ]
    },
    {
     "data": {
      "text/plain": [
       "21"
      ]
     },
     "execution_count": 48,
     "metadata": {},
     "output_type": "execute_result"
    },
    {
     "name": "stdout",
     "output_type": "stream",
     "text": [
      "Label\n",
      "0.0    8013\n",
      "1.0     307\n",
      "Name: count, dtype: int64 Label\n",
      "0.0    2003\n",
      "1.0      77\n",
      "Name: count, dtype: int64\n",
      "Timestep 88, Area 3 Attack Infiltration - Portscan\n",
      "\u001b[92mAccuracy of GM Before: 0.9971153846153846 0.9594594594594594 || 0.9967945604662457 0.9582806573957017 \u001b[0m \n",
      "\u001b[92mAccuracy of LM Before: 1.00 0.9934640522875817 || 0.9986401165614376 0.9825870646766169 \u001b[0m\n",
      "GM New Data Size 8320\n",
      "GM Training Data Size (135578, 82)\n",
      "Start Training...\n",
      "ensemble size: 1\n",
      "epoch  1, training loss: 0.410775, time: 41.7s\n",
      "Start Inference on the training data...\n",
      "Accuracy of GM:  0.9956483257117569\n",
      "\u001b[34mAccuracy of GM After: 0.9975961538461539 0.9673202614379085 || 0.9981544439048081 0.9763975155279503 \u001b[0m \n",
      "Infiltration - Portscan (8320, 82)\n"
     ]
    },
    {
     "data": {
      "text/plain": [
       "10550"
      ]
     },
     "execution_count": 48,
     "metadata": {},
     "output_type": "execute_result"
    },
    {
     "name": "stdout",
     "output_type": "stream",
     "text": [
      "Label\n",
      "0.0    3193\n",
      "1.0     111\n",
      "Name: count, dtype: int64 Label\n",
      "0.0    798\n",
      "1.0     28\n",
      "Name: count, dtype: int64\n",
      "Timestep 89, Area 0 Attack FTP-Patator\n",
      "\u001b[92mAccuracy of GM Before: 1.0 1.0 || 0.99926614481409 0.990228013029316 \u001b[0m \n",
      "\u001b[92mAccuracy of LM Before: 0.97 0.0 || 0.962573385518591 0.0 \u001b[0m\n",
      "Accuracy of GM:  0.9996216420734014\n",
      "\u001b[35mAccuracy of LM After: 1.0 1.0 || 0.9997553816046967 0.9967213114754099 \u001b[0m \n",
      "FTP-Patator (3304, 82)\n"
     ]
    },
    {
     "data": {
      "text/plain": [
       "1393"
      ]
     },
     "execution_count": 48,
     "metadata": {},
     "output_type": "execute_result"
    },
    {
     "name": "stdout",
     "output_type": "stream",
     "text": [
      "Label\n",
      "0.0    1394\n",
      "1.0      53\n",
      "Name: count, dtype: int64 Label\n",
      "0.0    349\n",
      "1.0     13\n",
      "Name: count, dtype: int64\n",
      "Timestep 90, Area 2 Attack DoS Slowhttptest\n",
      "\u001b[92mAccuracy of GM Before: 0.9779005524861878 0.5555555555555556 || 0.9748603351955307 0.4943820224719101 \u001b[0m \n",
      "\u001b[92mAccuracy of LM Before: 0.97 0.35294117647058826 || 0.9826815642458101 0.6990291262135923 \u001b[0m\n",
      "GM New Data Size 1447\n",
      "GM Training Data Size (137025, 82)\n",
      "Start Training...\n",
      "ensemble size: 1\n",
      "epoch  1, training loss: 0.403876, time: 42.0s\n",
      "Start Inference on the training data...\n",
      "Accuracy of GM:  0.9958766648421821\n",
      "\u001b[34mAccuracy of GM After: 0.9806629834254144 0.6666666666666666 || 0.9849162011173185 0.7476635514018691 \u001b[0m \n",
      "Accuracy of GM:  0.9904926534140017\n",
      "\u001b[35mAccuracy of LM After: 0.9862068965517241 0.631578947368421 || 0.9826815642458101 0.6990291262135923 \u001b[0m \n",
      "DoS Slowhttptest (1447, 82)\n"
     ]
    },
    {
     "data": {
      "text/plain": [
       "3425"
      ]
     },
     "execution_count": 48,
     "metadata": {},
     "output_type": "execute_result"
    },
    {
     "name": "stdout",
     "output_type": "stream",
     "text": [
      "Label\n",
      "0.0    2373\n",
      "1.0      90\n",
      "Name: count, dtype: int64 Label\n",
      "0.0    594\n",
      "1.0     22\n",
      "Name: count, dtype: int64\n",
      "Timestep 92, Area 2 Attack SSH-Patator\n",
      "\u001b[92mAccuracy of GM Before: 0.9967532467532467 0.9523809523809523 || 0.9960629921259843 0.9439252336448598 \u001b[0m \n",
      "\u001b[92mAccuracy of LM Before: 1.00 0.9302325581395349 || 0.9993438320209974 0.9900990099009901 \u001b[0m\n",
      "GM New Data Size 2463\n",
      "GM Training Data Size (139488, 82)\n",
      "Start Training...\n",
      "ensemble size: 1\n",
      "epoch  1, training loss: 0.389366, time: 43.6s\n",
      "Start Inference on the training data...\n",
      "Accuracy of GM:  0.995411857480823\n",
      "\u001b[34mAccuracy of GM After: 0.9951298701298701 0.9302325581395349 || 0.9970472440944882 0.9569377990430622 \u001b[0m \n",
      "Accuracy of GM:  0.999492385786802\n",
      "\u001b[35mAccuracy of LM After: 1.0 0.9523809523809523 || 0.9983595800524935 0.9748743718592965 \u001b[0m \n",
      "SSH-Patator (2463, 82)\n"
     ]
    },
    {
     "data": {
      "text/plain": [
       "4707"
      ]
     },
     "execution_count": 48,
     "metadata": {},
     "output_type": "execute_result"
    },
    {
     "name": "stdout",
     "output_type": "stream",
     "text": [
      "Label\n",
      "0.0    3179\n",
      "1.0     125\n",
      "Name: count, dtype: int64 Label\n",
      "0.0    795\n",
      "1.0     31\n",
      "Name: count, dtype: int64\n",
      "Timestep 97, Area 0 Attack FTP-Patator\n",
      "\u001b[92mAccuracy of GM Before: 1.0 1.0 || 0.9997553816046967 0.9966777408637874 \u001b[0m \n",
      "\u001b[92mAccuracy of LM Before: 1.00 1.0 || 0.9997553816046967 0.9966777408637874 \u001b[0m\n",
      "FTP-Patator (3304, 81)\n"
     ]
    },
    {
     "data": {
      "text/plain": [
       "21"
      ]
     },
     "execution_count": 48,
     "metadata": {},
     "output_type": "execute_result"
    },
    {
     "name": "stdout",
     "output_type": "stream",
     "text": [
      "Label\n",
      "0.0    6057\n",
      "1.0     238\n",
      "Name: count, dtype: int64 Label\n",
      "0.0    1515\n",
      "1.0      59\n",
      "Name: count, dtype: int64\n",
      "Timestep 101, Area 4 Attack DoS GoldenEye\n",
      "\u001b[92mAccuracy of GM Before: 0.9872935196950444 0.803921568627451 || 0.9910141206675225 0.8491379310344828 \u001b[0m \n",
      "\u001b[92mAccuracy of LM Before: 0.98 0.7446808510638298 || 0.9866495507060333 0.7647058823529411 \u001b[0m\n",
      "GM New Data Size 6295\n",
      "GM Training Data Size (145783, 82)\n",
      "Start Training...\n",
      "ensemble size: 1\n",
      "epoch  1, training loss: 0.404929, time: 44.3s\n",
      "Start Inference on the training data...\n",
      "Accuracy of GM:  0.9971190451692561\n",
      "\u001b[34mAccuracy of GM After: 0.9923761118170267 0.8867924528301887 || 0.9931964056482671 0.8898128898128899 \u001b[0m \n",
      "Accuracy of GM:  0.9910643367752184\n",
      "\u001b[35mAccuracy of LM After: 0.9936457505957109 0.897196261682243 || 0.9866495507060333 0.7581395348837209 \u001b[0m \n",
      "DoS GoldenEye (6295, 82)\n"
     ]
    },
    {
     "data": {
      "text/plain": [
       "9441"
      ]
     },
     "execution_count": 48,
     "metadata": {},
     "output_type": "execute_result"
    },
    {
     "name": "stdout",
     "output_type": "stream",
     "text": [
      "Label\n",
      "0.0    3077\n",
      "1.0     133\n",
      "Name: count, dtype: int64 Label\n",
      "0.0    770\n",
      "1.0     33\n",
      "Name: count, dtype: int64\n",
      "Timestep 102, Area 2 Attack DoS Slowloris\n",
      "\u001b[92mAccuracy of GM Before: 0.9950186799501868 0.9354838709677419 || 0.9941429486592843 0.9165035877364645 \u001b[0m \n",
      "\u001b[92mAccuracy of LM Before: 0.99 0.9180327868852459 || 0.9941200695524847 0.9159306509649984 \u001b[0m\n",
      "GM New Data Size 3210\n",
      "GM Training Data Size (148993, 82)\n",
      "Start Training...\n",
      "ensemble size: 1\n",
      "epoch  1, training loss: 0.400973, time: 45.8s\n",
      "Start Inference on the training data...\n",
      "Accuracy of GM:  0.9954360884593443\n",
      "\u001b[34mAccuracy of GM After: 0.9950186799501868 0.9354838709677419 || 0.9935938500960922 0.9117276166456494 \u001b[0m \n",
      "Accuracy of GM:  0.9937694704049844\n",
      "\u001b[35mAccuracy of LM After: 0.9968847352024922 0.9354838709677419 || 0.9936624874164912 0.9090909090909091 \u001b[0m \n",
      "DoS Slowloris (3210, 82)\n"
     ]
    },
    {
     "data": {
      "text/plain": [
       "57"
      ]
     },
     "execution_count": 48,
     "metadata": {},
     "output_type": "execute_result"
    },
    {
     "name": "stdout",
     "output_type": "stream",
     "text": [
      "Label\n",
      "0.0    7978\n",
      "1.0     342\n",
      "Name: count, dtype: int64 Label\n",
      "0.0    1995\n",
      "1.0      85\n",
      "Name: count, dtype: int64\n",
      "Timestep 109, Area 3 Attack DoS Hulk\n",
      "\u001b[92mAccuracy of GM Before: 0.9879807692307693 0.8407643312101911 || 0.9959203496843128 0.9445910290237467 \u001b[0m \n",
      "\u001b[92mAccuracy of LM Before: 0.99 0.906832298136646 || 0.9963088878096164 0.9490616621983914 \u001b[0m\n",
      "GM New Data Size 8320\n",
      "GM Training Data Size (157313, 82)\n",
      "Start Training...\n",
      "ensemble size: 1\n",
      "epoch  1, training loss: 0.384996, time: 49.7s\n",
      "Start Inference on the training data...\n",
      "Accuracy of GM:  0.9969487969996503\n",
      "\u001b[34mAccuracy of GM After: 0.9980769230769231 0.9764705882352941 || 0.996600291403594 0.953519256308101 \u001b[0m \n",
      "Accuracy of GM:  0.9983473557692307\n",
      "\u001b[35mAccuracy of LM After: 0.9981971153846154 1.0 || 0.9974745021855269 0.9657894736842105 \u001b[0m \n",
      "DoS Hulk (8320, 82)\n"
     ]
    },
    {
     "data": {
      "text/plain": [
       "1389"
      ]
     },
     "execution_count": 48,
     "metadata": {},
     "output_type": "execute_result"
    },
    {
     "name": "stdout",
     "output_type": "stream",
     "text": [
      "Label\n",
      "0.0    8006\n",
      "1.0     314\n",
      "Name: count, dtype: int64 Label\n",
      "0.0    2002\n",
      "1.0      78\n",
      "Name: count, dtype: int64\n",
      "Timestep 111, Area 4 Attack DDoS\n",
      "\u001b[92mAccuracy of GM Before: 0.9995192307692308 0.9935483870967742 || 0.9992229237493929 0.99 \u001b[0m \n",
      "\u001b[92mAccuracy of LM Before: 1.00 0.9811320754716981 || 0.9984458474987858 0.9800995024875622 \u001b[0m\n",
      "DDoS (8320, 81)\n"
     ]
    },
    {
     "data": {
      "text/plain": [
       "19"
      ]
     },
     "execution_count": 48,
     "metadata": {},
     "output_type": "execute_result"
    },
    {
     "name": "stdout",
     "output_type": "stream",
     "text": [
      "Label\n",
      "0.0    1395\n",
      "1.0      52\n",
      "Name: count, dtype: int64 Label\n",
      "0.0    349\n",
      "1.0     13\n",
      "Name: count, dtype: int64\n",
      "Timestep 111, Area 0 Attack DoS Slowhttptest\n",
      "\u001b[92mAccuracy of GM Before: 0.9751381215469613 0.47058823529411764 || 0.9818882857287808 0.6882096069868996 \u001b[0m \n",
      "\u001b[92mAccuracy of LM Before: 0.98 0.5555555555555556 || 0.9847800720409924 0.7487437185929648 \u001b[0m\n",
      "GM New Data Size 1447\n",
      "GM Training Data Size (158760, 82)\n",
      "Start Training...\n",
      "ensemble size: 1\n",
      "epoch  1, training loss: 0.385053, time: 50.5s\n",
      "Start Inference on the training data...\n",
      "Accuracy of GM:  0.9951814058956916\n",
      "\u001b[34mAccuracy of GM After: 0.9861878453038674 0.8 || 0.9885850540307443 0.8462064251537936 \u001b[0m \n",
      "Accuracy of GM:  0.993085566119274\n",
      "\u001b[35mAccuracy of LM After: 0.993103448275862 0.8461538461538461 || 0.9856932677185328 0.7886056971514243 \u001b[0m \n",
      "DoS Slowhttptest (1447, 82)\n"
     ]
    },
    {
     "data": {
      "text/plain": [
       "1389"
      ]
     },
     "execution_count": 48,
     "metadata": {},
     "output_type": "execute_result"
    },
    {
     "name": "stdout",
     "output_type": "stream",
     "text": [
      "Label\n",
      "0.0    7996\n",
      "1.0     324\n",
      "Name: count, dtype: int64 Label\n",
      "0.0    1999\n",
      "1.0      81\n",
      "Name: count, dtype: int64\n",
      "Timestep 115, Area 1 Attack DDoS\n",
      "\u001b[92mAccuracy of GM Before: 0.9961538461538462 0.9529411764705882 || 0.9961146187469645 0.9534883720930233 \u001b[0m \n",
      "\u001b[92mAccuracy of LM Before: 1.00 0.9753086419753086 || 0.9960174842156386 0.9517078916372202 \u001b[0m\n",
      "GM New Data Size 8320\n",
      "GM Training Data Size (167080, 82)\n",
      "Start Training...\n",
      "ensemble size: 1\n",
      "epoch  1, training loss: 0.382021, time: 55.6s\n",
      "Start Inference on the training data...\n",
      "Accuracy of GM:  0.9936258079961695\n",
      "\u001b[34mAccuracy of GM After: 0.9947115384615385 0.9341317365269461 || 0.9959203496843128 0.951048951048951 \u001b[0m \n",
      "DDoS (8320, 82)\n"
     ]
    },
    {
     "data": {
      "text/plain": [
       "0"
      ]
     },
     "execution_count": 48,
     "metadata": {},
     "output_type": "execute_result"
    },
    {
     "name": "stdout",
     "output_type": "stream",
     "text": [
      "Label\n",
      "0.0    8018\n",
      "1.0     302\n",
      "Name: count, dtype: int64 Label\n",
      "0.0    2005\n",
      "1.0      75\n",
      "Name: count, dtype: int64\n",
      "Timestep 118, Area 2 Attack DDoS\n",
      "\u001b[92mAccuracy of GM Before: 0.9971153846153846 0.9615384615384616 || 0.9964060223409422 0.9520103761348897 \u001b[0m \n",
      "\u001b[92mAccuracy of LM Before: 1.00 1.0 || 0.9988343856240893 0.9839142091152815 \u001b[0m\n",
      "DDoS (8320, 81)\n"
     ]
    },
    {
     "data": {
      "text/plain": [
       "19"
      ]
     },
     "execution_count": 48,
     "metadata": {},
     "output_type": "execute_result"
    },
    {
     "name": "stdout",
     "output_type": "stream",
     "text": [
      "Label\n",
      "0.0    6063\n",
      "1.0     232\n",
      "Name: count, dtype: int64 Label\n",
      "0.0    1516\n",
      "1.0      58\n",
      "Name: count, dtype: int64\n",
      "Timestep 118, Area 4 Attack DoS GoldenEye\n",
      "\u001b[92mAccuracy of GM Before: 0.9904701397712834 0.8672566371681416 || 0.9902439024390244 0.8720538720538721 \u001b[0m \n",
      "\u001b[92mAccuracy of LM Before: 0.99 0.8282828282828283 || 0.9880616174582798 0.8268156424581006 \u001b[0m\n",
      "GM New Data Size 6295\n",
      "GM Training Data Size (173375, 82)\n",
      "Start Training...\n",
      "ensemble size: 1\n",
      "epoch  1, training loss: 0.379542, time: 61.6s\n",
      "Start Inference on the training data...\n",
      "Accuracy of GM:  0.9967411679884643\n",
      "\u001b[34mAccuracy of GM After: 0.9917407878017789 0.8737864077669902 || 0.9906290115532734 0.8698752228163993 \u001b[0m \n",
      "Accuracy of GM:  0.9900714853057982\n",
      "\u001b[35mAccuracy of LM After: 0.9952343129467831 0.84 || 0.9879332477535302 0.8246268656716418 \u001b[0m \n",
      "DoS GoldenEye (6295, 82)\n"
     ]
    },
    {
     "data": {
      "text/plain": [
       "1389"
      ]
     },
     "execution_count": 48,
     "metadata": {},
     "output_type": "execute_result"
    },
    {
     "name": "stdout",
     "output_type": "stream",
     "text": [
      "Label\n",
      "0.0    8008\n",
      "1.0     312\n",
      "Name: count, dtype: int64 Label\n",
      "0.0    2002\n",
      "1.0      78\n",
      "Name: count, dtype: int64\n",
      "Timestep 120, Area 0 Attack Portscan\n",
      "\u001b[92mAccuracy of GM Before: 0.9995192307692308 0.9936305732484076 || 0.9999028654686741 0.998745294855709 \u001b[0m \n",
      "\u001b[92mAccuracy of LM Before: 0.99 0.8695652173913043 || 0.9874696454589607 0.8071748878923767 \u001b[0m\n",
      "Accuracy of GM:  0.9993990384615384\n",
      "\u001b[35mAccuracy of LM After: 1.0 1.0 || 0.9999028654686741 0.998745294855709 \u001b[0m \n",
      "Portscan (8320, 82)\n"
     ]
    },
    {
     "data": {
      "text/plain": [
       "1391"
      ]
     },
     "execution_count": 48,
     "metadata": {},
     "output_type": "execute_result"
    },
    {
     "name": "stdout",
     "output_type": "stream",
     "text": [
      "Label\n",
      "0.0    7981\n",
      "1.0     339\n",
      "Name: count, dtype: int64 Label\n",
      "0.0    1995\n",
      "1.0      85\n",
      "Name: count, dtype: int64\n",
      "Timestep 120, Area 1 Attack DDoS\n",
      "\u001b[92mAccuracy of GM Before: 0.9990384615384615 0.9880952380952381 || 0.9986401165614376 0.9821882951653944 \u001b[0m \n",
      "\u001b[92mAccuracy of LM Before: 1.00 0.9880952380952381 || 0.9988343856240893 0.9847715736040609 \u001b[0m\n",
      "DDoS (8320, 81)\n"
     ]
    },
    {
     "data": {
      "text/plain": [
       "19"
      ]
     },
     "execution_count": 48,
     "metadata": {},
     "output_type": "execute_result"
    },
    {
     "name": "stdout",
     "output_type": "stream",
     "text": [
      "Label\n",
      "0.0    3182\n",
      "1.0     122\n",
      "Name: count, dtype: int64 Label\n",
      "0.0    795\n",
      "1.0     31\n",
      "Name: count, dtype: int64\n",
      "Timestep 120, Area 2 Attack FTP-Patator\n",
      "\u001b[92mAccuracy of GM Before: 1.0 1.0 || 0.9995107632093934 0.9932432432432432 \u001b[0m \n",
      "\u001b[92mAccuracy of LM Before: 1.00 1.0 || 0.9997553816046967 0.9966101694915255 \u001b[0m\n",
      "FTP-Patator (3304, 81)\n"
     ]
    },
    {
     "data": {
      "text/plain": [
       "21"
      ]
     },
     "execution_count": 48,
     "metadata": {},
     "output_type": "execute_result"
    },
    {
     "name": "stdout",
     "output_type": "stream",
     "text": [
      "Label\n",
      "0.0    2369\n",
      "1.0      94\n",
      "Name: count, dtype: int64 Label\n",
      "0.0    593\n",
      "1.0     23\n",
      "Name: count, dtype: int64\n",
      "Timestep 123, Area 1 Attack SSH-Patator\n",
      "\u001b[92mAccuracy of GM Before: 0.9983766233766234 0.9787234042553191 || 0.9597769694078359 0.0 \u001b[0m \n",
      "\u001b[92mAccuracy of LM Before: 1.00 1.0 || 0.9864332995408194 0.7955056179775281 \u001b[0m\n",
      "SSH-Patator (2463, 81)\n"
     ]
    },
    {
     "data": {
      "text/plain": [
       "21"
      ]
     },
     "execution_count": 48,
     "metadata": {},
     "output_type": "execute_result"
    },
    {
     "name": "stdout",
     "output_type": "stream",
     "text": [
      "Label\n",
      "0.0    7986\n",
      "1.0     334\n",
      "Name: count, dtype: int64 Label\n",
      "0.0    1997\n",
      "1.0      83\n",
      "Name: count, dtype: int64\n",
      "Timestep 124, Area 3 Attack DDoS\n",
      "\u001b[92mAccuracy of GM Before: 0.9985576923076923 0.9820359281437125 || 0.9992229237493929 0.9899244332493703 \u001b[0m \n",
      "\u001b[92mAccuracy of LM Before: 1.00 0.9540229885057471 || 0.9992229237493929 0.9898734177215189 \u001b[0m\n",
      "Accuracy of GM:  0.9977463942307693\n",
      "\u001b[35mAccuracy of LM After: 1.0 0.9878048780487805 || 0.9989315201554152 0.986198243412798 \u001b[0m \n",
      "DDoS (8320, 82)\n"
     ]
    },
    {
     "data": {
      "text/plain": [
       "1391"
      ]
     },
     "execution_count": 48,
     "metadata": {},
     "output_type": "execute_result"
    },
    {
     "name": "stdout",
     "output_type": "stream",
     "text": [
      "Label\n",
      "0.0    8022\n",
      "1.0     298\n",
      "Name: count, dtype: int64 Label\n",
      "0.0    2006\n",
      "1.0      74\n",
      "Name: count, dtype: int64\n",
      "Timestep 124, Area 4 Attack DDoS\n",
      "\u001b[92mAccuracy of GM Before: 0.9990384615384615 0.9866666666666667 || 0.999125789218067 0.9892729439809297 \u001b[0m \n",
      "\u001b[92mAccuracy of LM Before: 1.00 0.9548387096774194 || 0.9964060223409422 0.9575200918484501 \u001b[0m\n",
      "Accuracy of GM:  0.998046875\n",
      "\u001b[35mAccuracy of LM After: 0.9975961538461539 0.9673202614379085 || 0.9963088878096164 0.9565217391304348 \u001b[0m \n",
      "DDoS (8320, 82)\n"
     ]
    },
    {
     "data": {
      "text/plain": [
       "1391"
      ]
     },
     "execution_count": 48,
     "metadata": {},
     "output_type": "execute_result"
    },
    {
     "name": "stdout",
     "output_type": "stream",
     "text": [
      "Label\n",
      "0.0    7972\n",
      "1.0     348\n",
      "Name: count, dtype: int64 Label\n",
      "0.0    1993\n",
      "1.0      87\n",
      "Name: count, dtype: int64\n",
      "Timestep 137, Area 4 Attack DoS Hulk\n",
      "\u001b[92mAccuracy of GM Before: 0.9975961538461539 0.9707602339181286 || 0.9960174842156386 0.9494451294697904 \u001b[0m \n",
      "\u001b[92mAccuracy of LM Before: 1.00 0.9580838323353293 || 0.9981544439048081 0.9758576874205845 \u001b[0m\n",
      "Accuracy of GM:  0.998046875\n",
      "\u001b[35mAccuracy of LM After: 0.9975961538461539 0.9824561403508771 || 0.9985429820301117 0.9810366624525917 \u001b[0m \n",
      "DoS Hulk (8320, 82)\n"
     ]
    },
    {
     "data": {
      "text/plain": [
       "1391"
      ]
     },
     "execution_count": 48,
     "metadata": {},
     "output_type": "execute_result"
    },
    {
     "name": "stdout",
     "output_type": "stream",
     "text": [
      "Label\n",
      "0.0    3084\n",
      "1.0     126\n",
      "Name: count, dtype: int64 Label\n",
      "0.0    772\n",
      "1.0     31\n",
      "Name: count, dtype: int64\n",
      "Timestep 137, Area 1 Attack DoS Slowloris\n",
      "\u001b[92mAccuracy of GM Before: 0.9887920298879203 0.8301886792452831 || 0.9876636455186304 0.8292682926829268 \u001b[0m \n",
      "\u001b[92mAccuracy of LM Before: 0.99 0.8771929824561403 || 0.9906847935548841 0.8847352024922118 \u001b[0m\n",
      "GM New Data Size 3210\n",
      "GM Training Data Size (176585, 82)\n",
      "Start Training...\n",
      "ensemble size: 1\n",
      "epoch  1, training loss: 0.368051, time: 67.7s\n",
      "Start Inference on the training data...\n",
      "Accuracy of GM:  0.9978197468641165\n",
      "\u001b[34mAccuracy of GM After: 0.9950186799501868 0.9310344827586207 || 0.9947129909365559 0.9337539432176656 \u001b[0m \n",
      "Accuracy of GM:  0.9984423676012462\n",
      "\u001b[35mAccuracy of LM After: 0.9922118380062306 0.9310344827586207 || 0.9934541792547835 0.9161290322580645 \u001b[0m \n",
      "DoS Slowloris (3210, 82)\n"
     ]
    },
    {
     "data": {
      "text/plain": [
       "1389"
      ]
     },
     "execution_count": 48,
     "metadata": {},
     "output_type": "execute_result"
    },
    {
     "name": "stdout",
     "output_type": "stream",
     "text": [
      "Label\n",
      "0.0    2360\n",
      "1.0     103\n",
      "Name: count, dtype: int64 Label\n",
      "0.0    590\n",
      "1.0     26\n",
      "Name: count, dtype: int64\n",
      "Timestep 138, Area 1 Attack SSH-Patator\n",
      "\u001b[92mAccuracy of GM Before: 0.9983766233766234 0.9803921568627451 || 0.9619422572178478 0.0 \u001b[0m \n",
      "\u001b[92mAccuracy of LM Before: 0.97 0.47058823529411764 || 0.9619422572178478 0.0 \u001b[0m\n",
      "Accuracy of GM:  0.9989847715736041\n",
      "\u001b[35mAccuracy of LM After: 1.0 0.9803921568627451 || 0.9622703412073491 0.0 \u001b[0m \n",
      "SSH-Patator (2463, 82)\n"
     ]
    },
    {
     "data": {
      "text/plain": [
       "1391"
      ]
     },
     "execution_count": 48,
     "metadata": {},
     "output_type": "execute_result"
    },
    {
     "name": "stdout",
     "output_type": "stream",
     "text": [
      "Label\n",
      "0.0    8002\n",
      "1.0     318\n",
      "Name: count, dtype: int64 Label\n",
      "0.0    2000\n",
      "1.0      80\n",
      "Name: count, dtype: int64\n",
      "Timestep 145, Area 3 Attack Infiltration - Portscan\n",
      "\u001b[92mAccuracy of GM Before: 0.9995192307692308 0.9937106918238994 || 0.99834871296746 0.9781209781209781 \u001b[0m \n",
      "\u001b[92mAccuracy of LM Before: 1.00 0.967741935483871 || 0.9986401165614376 0.9817708333333334 \u001b[0m\n",
      "Infiltration - Portscan (8320, 81)\n"
     ]
    },
    {
     "data": {
      "text/plain": [
       "19"
      ]
     },
     "execution_count": 48,
     "metadata": {},
     "output_type": "execute_result"
    },
    {
     "name": "stdout",
     "output_type": "stream",
     "text": [
      "Label\n",
      "0.0    6063\n",
      "1.0     232\n",
      "Name: count, dtype: int64 Label\n",
      "0.0    1516\n",
      "1.0      58\n",
      "Name: count, dtype: int64\n",
      "Timestep 147, Area 4 Attack DoS GoldenEye\n",
      "\u001b[92mAccuracy of GM Before: 0.9974587039390089 0.9642857142857143 || 0.9966280073740461 0.9551729486582907 \u001b[0m \n",
      "\u001b[92mAccuracy of LM Before: 0.99 0.8041237113402062 || 0.9900357034513336 0.853214162942592 \u001b[0m\n",
      "Accuracy of GM:  0.9972200158856235\n",
      "\u001b[35mAccuracy of LM After: 0.9960285941223193 0.954954954954955 || 0.9905490864116865 0.8618219037871033 \u001b[0m \n",
      "DoS GoldenEye (6295, 82)\n"
     ]
    },
    {
     "data": {
      "text/plain": [
       "1391"
      ]
     },
     "execution_count": 48,
     "metadata": {},
     "output_type": "execute_result"
    },
    {
     "name": "stdout",
     "output_type": "stream",
     "text": [
      "Label\n",
      "0.0    3168\n",
      "1.0     136\n",
      "Name: count, dtype: int64 Label\n",
      "0.0    792\n",
      "1.0     34\n",
      "Name: count, dtype: int64\n",
      "Timestep 148, Area 0 Attack FTP-Patator\n",
      "\u001b[92mAccuracy of GM Before: 1.0 1.0 || 0.998844238975818 0.9852104664391353 \u001b[0m \n",
      "\u001b[92mAccuracy of LM Before: 1.00 1.0 || 0.9995999288762447 0.994815668202765 \u001b[0m\n",
      "FTP-Patator (3304, 81)\n"
     ]
    },
    {
     "data": {
      "text/plain": [
       "21"
      ]
     },
     "execution_count": 48,
     "metadata": {},
     "output_type": "execute_result"
    },
    {
     "name": "stdout",
     "output_type": "stream",
     "text": [
      "Label\n",
      "0.0    6037\n",
      "1.0     258\n",
      "Name: count, dtype: int64 Label\n",
      "0.0    1510\n",
      "1.0      64\n",
      "Name: count, dtype: int64\n",
      "Timestep 157, Area 1 Attack DoS GoldenEye\n",
      "\u001b[92mAccuracy of GM Before: 0.9936467598475223 0.9166666666666666 || 0.9982028241335045 0.97265625 \u001b[0m \n",
      "\u001b[92mAccuracy of LM Before: 0.99 0.8256880733944955 || 0.9952503209242619 0.9240246406570842 \u001b[0m\n",
      "GM New Data Size 6295\n",
      "GM Training Data Size (182880, 82)\n",
      "Start Training...\n",
      "ensemble size: 1\n",
      "epoch  1, training loss: 0.372208, time: 74.5s\n",
      "Start Inference on the training data...\n",
      "Accuracy of GM:  0.9976487314085739\n",
      "\u001b[34mAccuracy of GM After: 0.9955527318932655 0.944 || 0.9988446726572529 0.9826589595375722 \u001b[0m \n",
      "Accuracy of GM:  0.9982128673550437\n",
      "\u001b[35mAccuracy of LM After: 0.9992057188244639 0.976 || 0.9970474967907573 0.9540918163672655 \u001b[0m \n",
      "DoS GoldenEye (6295, 82)\n"
     ]
    },
    {
     "data": {
      "text/plain": [
       "57"
      ]
     },
     "execution_count": 48,
     "metadata": {},
     "output_type": "execute_result"
    },
    {
     "name": "stdout",
     "output_type": "stream",
     "text": [
      "Label\n",
      "0.0    6065\n",
      "1.0     230\n",
      "Name: count, dtype: int64 Label\n",
      "0.0    1517\n",
      "1.0      57\n",
      "Name: count, dtype: int64\n",
      "Timestep 158, Area 4 Attack DoS GoldenEye\n",
      "\u001b[92mAccuracy of GM Before: 0.9987293519695044 0.9821428571428571 || 0.9973042362002568 0.9655172413793104 \u001b[0m \n",
      "\u001b[92mAccuracy of LM Before: 0.99 0.8932038834951457 || 0.9931964056482671 0.9075043630017452 \u001b[0m\n",
      "Accuracy of GM:  0.9972200158856235\n",
      "\u001b[35mAccuracy of LM After: 0.9992057188244639 0.972972972972973 || 0.9931964056482671 0.9071803852889667 \u001b[0m \n",
      "DoS GoldenEye (6295, 82)\n"
     ]
    },
    {
     "data": {
      "text/plain": [
       "1389"
      ]
     },
     "execution_count": 48,
     "metadata": {},
     "output_type": "execute_result"
    },
    {
     "name": "stdout",
     "output_type": "stream",
     "text": [
      "Label\n",
      "0.0    8006\n",
      "1.0     314\n",
      "Name: count, dtype: int64 Label\n",
      "0.0    2002\n",
      "1.0      78\n",
      "Name: count, dtype: int64\n",
      "Timestep 160, Area 2 Attack DDoS\n",
      "\u001b[92mAccuracy of GM Before: 1.0 1.0 || 0.9992229237493929 0.9904076738609112 \u001b[0m \n",
      "\u001b[92mAccuracy of LM Before: 1.00 0.9873417721518988 || 0.9988343856240893 0.9855072463768116 \u001b[0m\n",
      "DDoS (8320, 81)\n"
     ]
    },
    {
     "data": {
      "text/plain": [
       "19"
      ]
     },
     "execution_count": 48,
     "metadata": {},
     "output_type": "execute_result"
    },
    {
     "name": "stdout",
     "output_type": "stream",
     "text": [
      "Label\n",
      "0.0    8001\n",
      "1.0     319\n",
      "Name: count, dtype: int64 Label\n",
      "0.0    2000\n",
      "1.0      80\n",
      "Name: count, dtype: int64\n",
      "Timestep 164, Area 3 Attack DoS Hulk\n",
      "\u001b[92mAccuracy of GM Before: 0.9971153846153846 0.9625 || 0.9986401165614376 0.9817708333333334 \u001b[0m \n",
      "\u001b[92mAccuracy of LM Before: 1.00 0.954248366013072 || 0.999125789218067 0.9882659713168188 \u001b[0m\n",
      "Accuracy of GM:  0.9986478365384616\n",
      "\u001b[35mAccuracy of LM After: 1.0 0.9873417721518988 || 0.999125789218067 0.9882352941176471 \u001b[0m \n",
      "DoS Hulk (8320, 82)\n"
     ]
    },
    {
     "data": {
      "text/plain": [
       "1391"
      ]
     },
     "execution_count": 48,
     "metadata": {},
     "output_type": "execute_result"
    },
    {
     "name": "stdout",
     "output_type": "stream",
     "text": [
      "Label\n",
      "0.0    6031\n",
      "1.0     264\n",
      "Name: count, dtype: int64 Label\n",
      "0.0    1508\n",
      "1.0      66\n",
      "Name: count, dtype: int64\n",
      "Timestep 171, Area 2 Attack DoS GoldenEye\n",
      "\u001b[92mAccuracy of GM Before: 0.9942820838627701 0.928 || 0.9976893453145058 0.9689655172413794 \u001b[0m \n",
      "\u001b[92mAccuracy of LM Before: 0.99 0.8 || 0.9926829268292683 0.8934579439252337 \u001b[0m\n",
      "GM New Data Size 6295\n",
      "GM Training Data Size (189175, 82)\n",
      "Start Training...\n",
      "ensemble size: 1\n",
      "epoch  1, training loss: 0.377502, time: 80.5s\n",
      "Start Inference on the training data...\n",
      "Accuracy of GM:  0.9971719307519492\n",
      "\u001b[34mAccuracy of GM After: 0.9949174078780177 0.9354838709677419 || 0.9951219512195122 0.9314079422382672 \u001b[0m \n",
      "Accuracy of GM:  0.9958300238284352\n",
      "\u001b[35mAccuracy of LM After: 0.9992057188244639 0.9354838709677419 || 0.9937098844672657 0.9094269870609981 \u001b[0m \n",
      "DoS GoldenEye (6295, 82)\n"
     ]
    },
    {
     "data": {
      "text/plain": [
       "1389"
      ]
     },
     "execution_count": 48,
     "metadata": {},
     "output_type": "execute_result"
    },
    {
     "name": "stdout",
     "output_type": "stream",
     "text": [
      "Label\n",
      "0.0    2369\n",
      "1.0      94\n",
      "Name: count, dtype: int64 Label\n",
      "0.0    592\n",
      "1.0     24\n",
      "Name: count, dtype: int64\n",
      "Timestep 174, Area 1 Attack SSH-Patator\n",
      "\u001b[92mAccuracy of GM Before: 0.9983766233766234 0.9795918367346939 || 0.9986876640419947 0.9830508474576272 \u001b[0m \n",
      "\u001b[92mAccuracy of LM Before: 1.00 1.0 || 0.9908136482939632 0.8666666666666667 \u001b[0m\n",
      "SSH-Patator (2463, 81)\n"
     ]
    },
    {
     "data": {
      "text/plain": [
       "19"
      ]
     },
     "execution_count": 48,
     "metadata": {},
     "output_type": "execute_result"
    },
    {
     "name": "stdout",
     "output_type": "stream",
     "text": [
      "Label\n",
      "0.0    3089\n",
      "1.0     121\n",
      "Name: count, dtype: int64 Label\n",
      "0.0    773\n",
      "1.0     30\n",
      "Name: count, dtype: int64\n",
      "Timestep 175, Area 1 Attack DoS Slowloris\n",
      "\u001b[92mAccuracy of GM Before: 0.9950186799501868 0.9310344827586207 || 0.9949647532729103 0.9285714285714286 \u001b[0m \n",
      "\u001b[92mAccuracy of LM Before: 0.99 0.8888888888888888 || 0.99269889224572 0.8905660377358491 \u001b[0m\n",
      "GM New Data Size 3210\n",
      "GM Training Data Size (192385, 82)\n",
      "Start Training...\n",
      "ensemble size: 1\n",
      "epoch  1, training loss: 0.360443, time: 83.4s\n",
      "Start Inference on the training data...\n",
      "Accuracy of GM:  0.9976869298541986\n",
      "\u001b[34mAccuracy of GM After: 0.9962640099626401 0.9491525423728814 || 0.9942094662638469 0.9181494661921709 \u001b[0m \n",
      "Accuracy of GM:  0.9945482866043613\n",
      "\u001b[35mAccuracy of LM After: 0.9968847352024922 0.9655172413793104 || 0.9952165156092648 0.9309090909090909 \u001b[0m \n",
      "DoS Slowloris (3210, 82)\n"
     ]
    },
    {
     "data": {
      "text/plain": [
       "1389"
      ]
     },
     "execution_count": 48,
     "metadata": {},
     "output_type": "execute_result"
    },
    {
     "name": "stdout",
     "output_type": "stream",
     "text": [
      "Label\n",
      "0.0    1399\n",
      "1.0      48\n",
      "Name: count, dtype: int64 Label\n",
      "0.0    350\n",
      "1.0     12\n",
      "Name: count, dtype: int64\n",
      "Timestep 177, Area 1 Attack DoS Slowhttptest\n",
      "\u001b[92mAccuracy of GM Before: 0.994475138121547 0.9090909090909091 || 0.9899441340782122 0.847457627118644 \u001b[0m \n",
      "\u001b[92mAccuracy of LM Before: 0.98 0.7272727272727273 || 0.9854748603351955 0.7547169811320755 \u001b[0m\n",
      "GM New Data Size 1447\n",
      "GM Training Data Size (193832, 82)\n",
      "Start Training...\n",
      "ensemble size: 1\n",
      "epoch  1, training loss: 0.376586, time: 85.2s\n",
      "Start Inference on the training data...\n",
      "Accuracy of GM:  0.9975494621714345\n",
      "\u001b[34mAccuracy of GM After: 0.9917127071823204 0.8571428571428571 || 0.9916201117318436 0.8760330578512396 \u001b[0m \n",
      "Accuracy of GM:  0.9956784788245462\n",
      "\u001b[35mAccuracy of LM After: 1.0 0.8571428571428571 || 0.9899441340782122 0.8333333333333334 \u001b[0m \n",
      "DoS Slowhttptest (1447, 82)\n"
     ]
    },
    {
     "data": {
      "text/plain": [
       "1389"
      ]
     },
     "execution_count": 48,
     "metadata": {},
     "output_type": "execute_result"
    },
    {
     "name": "stdout",
     "output_type": "stream",
     "text": [
      "Label\n",
      "0.0    6050\n",
      "1.0     245\n",
      "Name: count, dtype: int64 Label\n",
      "0.0    1513\n",
      "1.0      61\n",
      "Name: count, dtype: int64\n",
      "Timestep 181, Area 4 Attack DoS GoldenEye\n",
      "\u001b[92mAccuracy of GM Before: 0.9993646759847522 0.9917355371900827 || 0.9947368421052631 0.9253187613843351 \u001b[0m \n",
      "\u001b[92mAccuracy of LM Before: 0.99 0.9203539823008849 || 0.9951219512195122 0.9309090909090909 \u001b[0m\n",
      "Accuracy of GM:  0.9986100079428117\n",
      "\u001b[35mAccuracy of LM After: 0.9960285941223193 0.9917355371900827 || 0.9949935815147625 0.9289617486338798 \u001b[0m \n",
      "DoS GoldenEye (6295, 82)\n"
     ]
    },
    {
     "data": {
      "text/plain": [
       "1389"
      ]
     },
     "execution_count": 48,
     "metadata": {},
     "output_type": "execute_result"
    },
    {
     "name": "stdout",
     "output_type": "stream",
     "text": [
      "Label\n",
      "0.0    2373\n",
      "1.0      90\n",
      "Name: count, dtype: int64 Label\n",
      "0.0    594\n",
      "1.0     22\n",
      "Name: count, dtype: int64\n",
      "Timestep 181, Area 3 Attack SSH-Patator\n",
      "\u001b[92mAccuracy of GM Before: 0.9967532467532467 0.9545454545454546 || 0.9986876640419947 0.9841269841269841 \u001b[0m \n",
      "\u001b[92mAccuracy of LM Before: 0.99 0.8717948717948718 || 0.9996719160104987 0.9959839357429718 \u001b[0m\n",
      "GM New Data Size 2463\n",
      "GM Training Data Size (196295, 82)\n",
      "Start Training...\n",
      "ensemble size: 1\n",
      "epoch  1, training loss: 0.370995, time: 87.1s\n",
      "Start Inference on the training data...\n",
      "Accuracy of GM:  0.9978858350951374\n",
      "\u001b[34mAccuracy of GM After: 0.9983766233766234 0.9777777777777777 || 0.9983595800524935 0.9800796812749004 \u001b[0m \n",
      "Accuracy of GM:  0.9974619289340102\n",
      "\u001b[35mAccuracy of LM After: 0.9979716024340771 0.9565217391304348 || 0.9996719160104987 0.9959839357429718 \u001b[0m \n",
      "SSH-Patator (2463, 82)\n"
     ]
    },
    {
     "data": {
      "text/plain": [
       "1389"
      ]
     },
     "execution_count": 48,
     "metadata": {},
     "output_type": "execute_result"
    },
    {
     "name": "stdout",
     "output_type": "stream",
     "text": [
      "Label\n",
      "0.0    8004\n",
      "1.0     316\n",
      "Name: count, dtype: int64 Label\n",
      "0.0    2001\n",
      "1.0      79\n",
      "Name: count, dtype: int64\n",
      "Timestep 182, Area 1 Attack DDoS\n",
      "\u001b[92mAccuracy of GM Before: 0.9990384615384615 0.9873417721518988 || 0.9996114618746964 0.9952153110047847 \u001b[0m \n",
      "\u001b[92mAccuracy of LM Before: 1.00 0.968944099378882 || 0.9997085964060224 0.9963811821471653 \u001b[0m\n",
      "DDoS (8320, 81)\n"
     ]
    },
    {
     "data": {
      "text/plain": [
       "19"
      ]
     },
     "execution_count": 48,
     "metadata": {},
     "output_type": "execute_result"
    },
    {
     "name": "stdout",
     "output_type": "stream",
     "text": [
      "Label\n",
      "0.0    1393\n",
      "1.0      54\n",
      "Name: count, dtype: int64 Label\n",
      "0.0    348\n",
      "1.0     14\n",
      "Name: count, dtype: int64\n",
      "Timestep 184, Area 3 Attack DoS Slowhttptest\n",
      "\u001b[92mAccuracy of GM Before: 0.9917127071823204 0.88 || 0.9921787709497206 0.8985507246376812 \u001b[0m \n",
      "\u001b[92mAccuracy of LM Before: 0.99 0.8333333333333334 || 0.9888268156424581 0.8461538461538461 \u001b[0m\n",
      "GM New Data Size 1447\n",
      "GM Training Data Size (197742, 82)\n",
      "Start Training...\n",
      "ensemble size: 1\n",
      "epoch  1, training loss: 0.377497, time: 89.1s\n",
      "Start Inference on the training data...\n",
      "Accuracy of GM:  0.9963842322182609\n",
      "\u001b[34mAccuracy of GM After: 0.9917127071823204 0.88 || 0.9826815642458101 0.7394957983193278 \u001b[0m \n",
      "Accuracy of GM:  0.9870354364736387\n",
      "\u001b[35mAccuracy of LM After: 0.9896551724137931 0.88 || 0.9927374301675977 0.9064748201438849 \u001b[0m \n",
      "DoS Slowhttptest (1447, 82)\n"
     ]
    },
    {
     "data": {
      "text/plain": [
       "1389"
      ]
     },
     "execution_count": 48,
     "metadata": {},
     "output_type": "execute_result"
    },
    {
     "name": "stdout",
     "output_type": "stream",
     "text": [
      "Label\n",
      "0.0    8015\n",
      "1.0     305\n",
      "Name: count, dtype: int64 Label\n",
      "0.0    2004\n",
      "1.0      76\n",
      "Name: count, dtype: int64\n",
      "Timestep 185, Area 2 Attack DDoS\n",
      "\u001b[92mAccuracy of GM Before: 0.9985576923076923 0.9798657718120806 || 0.9988343856240893 0.9855072463768116 \u001b[0m \n",
      "\u001b[92mAccuracy of LM Before: 1.00 0.9806451612903225 || 0.998251578436134 0.9785202863961814 \u001b[0m\n",
      "DDoS (8320, 81)\n"
     ]
    },
    {
     "data": {
      "text/plain": [
       "19"
      ]
     },
     "execution_count": 48,
     "metadata": {},
     "output_type": "execute_result"
    },
    {
     "name": "stdout",
     "output_type": "stream",
     "text": [
      "Label\n",
      "0.0    3192\n",
      "1.0     112\n",
      "Name: count, dtype: int64 Label\n",
      "0.0    798\n",
      "1.0     28\n",
      "Name: count, dtype: int64\n",
      "Timestep 186, Area 0 Attack FTP-Patator\n",
      "\u001b[92mAccuracy of GM Before: 0.9987893462469734 0.9824561403508771 || 0.99926614481409 0.990228013029316 \u001b[0m \n",
      "\u001b[92mAccuracy of LM Before: 1.00 0.9824561403508771 || 0.9982876712328768 0.9767441860465116 \u001b[0m\n",
      "FTP-Patator (3304, 81)\n"
     ]
    },
    {
     "data": {
      "text/plain": [
       "21"
      ]
     },
     "execution_count": 48,
     "metadata": {},
     "output_type": "execute_result"
    },
    {
     "name": "stdout",
     "output_type": "stream",
     "text": [
      "Label\n",
      "0.0    2370\n",
      "1.0      93\n",
      "Name: count, dtype: int64 Label\n",
      "0.0    593\n",
      "1.0     23\n",
      "Name: count, dtype: int64\n",
      "Timestep 186, Area 3 Attack SSH-Patator\n",
      "\u001b[92mAccuracy of GM Before: 0.9626623376623377 0.0 || 0.9993438320209974 0.9910714285714286 \u001b[0m \n",
      "\u001b[92mAccuracy of LM Before: 0.96 0.0 || 0.9629265091863517 0.0 \u001b[0m\n",
      "GM New Data Size 2463\n",
      "GM Training Data Size (200205, 82)\n",
      "Start Training...\n",
      "ensemble size: 1\n",
      "epoch  1, training loss: 0.384461, time: 91.5s\n",
      "Start Inference on the training data...\n",
      "Accuracy of GM:  0.9981019455058565\n",
      "\u001b[34mAccuracy of GM After: 0.9951298701298701 0.9361702127659575 || 0.9990157480314961 0.9868995633187773 \u001b[0m \n",
      "Accuracy of GM:  0.9984771573604061\n",
      "\u001b[35mAccuracy of LM After: 1.0 1.0 || 0.9993438320209974 0.9910714285714286 \u001b[0m \n",
      "SSH-Patator (2463, 82)\n"
     ]
    },
    {
     "data": {
      "text/plain": [
       "1389"
      ]
     },
     "execution_count": 48,
     "metadata": {},
     "output_type": "execute_result"
    },
    {
     "name": "stdout",
     "output_type": "stream",
     "text": [
      "Label\n",
      "0.0    7965\n",
      "1.0     355\n",
      "Name: count, dtype: int64 Label\n",
      "0.0    1991\n",
      "1.0      89\n",
      "Name: count, dtype: int64\n",
      "Timestep 187, Area 2 Attack DoS Hulk\n",
      "\u001b[92mAccuracy of GM Before: 0.9995192307692308 0.9943502824858758 || 0.9989757626594852 0.9864770342737235 \u001b[0m \n",
      "\u001b[92mAccuracy of LM Before: 1.00 0.9943502824858758 || 0.9988344885435522 0.9844449681828895 \u001b[0m\n",
      "DoS Hulk (8320, 81)\n"
     ]
    },
    {
     "data": {
      "text/plain": [
       "21"
      ]
     },
     "execution_count": 48,
     "metadata": {},
     "output_type": "execute_result"
    },
    {
     "name": "stdout",
     "output_type": "stream",
     "text": [
      "Label\n",
      "0.0    7974\n",
      "1.0     346\n",
      "Name: count, dtype: int64 Label\n",
      "0.0    1994\n",
      "1.0      86\n",
      "Name: count, dtype: int64\n",
      "Timestep 189, Area 1 Attack DDoS\n",
      "\u001b[92mAccuracy of GM Before: 1.0 1.0 || 0.9994349035362677 0.9926806953339433 \u001b[0m \n",
      "\u001b[92mAccuracy of LM Before: 1.00 0.9822485207100592 || 0.9970155843009139 0.9620310042687037 \u001b[0m\n",
      "DDoS (8320, 81)\n"
     ]
    },
    {
     "data": {
      "text/plain": [
       "21"
      ]
     },
     "execution_count": 48,
     "metadata": {},
     "output_type": "execute_result"
    },
    {
     "name": "stdout",
     "output_type": "stream",
     "text": [
      "Label\n",
      "0.0    2371\n",
      "1.0      92\n",
      "Name: count, dtype: int64 Label\n",
      "0.0    593\n",
      "1.0     23\n",
      "Name: count, dtype: int64\n",
      "Timestep 190, Area 3 Attack SSH-Patator\n",
      "\u001b[92mAccuracy of GM Before: 0.9951298701298701 0.9387755102040817 || 0.9980314960629921 0.9779411764705882 \u001b[0m \n",
      "\u001b[92mAccuracy of LM Before: 1.00 1.0 || 0.9973753280839895 0.9692307692307692 \u001b[0m\n",
      "GM New Data Size 2463\n",
      "GM Training Data Size (202668, 82)\n",
      "Start Training...\n",
      "ensemble size: 1\n",
      "epoch  1, training loss: 0.372845, time: 93.3s\n",
      "Start Inference on the training data...\n",
      "Accuracy of GM:  0.9973602407855134\n",
      "\u001b[34mAccuracy of GM After: 0.9951298701298701 0.9387755102040817 || 0.9986876640419947 0.9851851851851852 \u001b[0m \n",
      "SSH-Patator (2463, 82)\n"
     ]
    },
    {
     "data": {
      "text/plain": [
       "0"
      ]
     },
     "execution_count": 48,
     "metadata": {},
     "output_type": "execute_result"
    },
    {
     "name": "stdout",
     "output_type": "stream",
     "text": [
      "Label\n",
      "0.0    3169\n",
      "1.0     135\n",
      "Name: count, dtype: int64 Label\n",
      "0.0    792\n",
      "1.0     34\n",
      "Name: count, dtype: int64\n",
      "Timestep 191, Area 3 Attack FTP-Patator\n",
      "\u001b[92mAccuracy of GM Before: 1.0 1.0 || 0.9975538160469667 0.9702380952380952 \u001b[0m \n",
      "\u001b[92mAccuracy of LM Before: 0.96 0.0 || 0.9946183953033269 0.9276315789473685 \u001b[0m\n",
      "Accuracy of GM:  0.9996216420734014\n",
      "\u001b[35mAccuracy of LM After: 1.0 1.0 || 1.0 1.0 \u001b[0m \n",
      "FTP-Patator (3304, 82)\n"
     ]
    },
    {
     "data": {
      "text/plain": [
       "1393"
      ]
     },
     "execution_count": 48,
     "metadata": {},
     "output_type": "execute_result"
    },
    {
     "name": "stdout",
     "output_type": "stream",
     "text": [
      "Label\n",
      "0.0    1401\n",
      "1.0      46\n",
      "Name: count, dtype: int64 Label\n",
      "0.0    350\n",
      "1.0     12\n",
      "Name: count, dtype: int64\n",
      "Timestep 191, Area 2 Attack DoS Slowhttptest\n",
      "\u001b[92mAccuracy of GM Before: 0.9917127071823204 0.8571428571428571 || 0.9910614525139665 0.8769230769230769 \u001b[0m \n",
      "\u001b[92mAccuracy of LM Before: 0.98 0.6666666666666666 || 0.9849162011173185 0.7692307692307693 \u001b[0m\n",
      "GM New Data Size 1447\n",
      "GM Training Data Size (204115, 82)\n",
      "Start Training...\n",
      "ensemble size: 1\n",
      "epoch  1, training loss: 0.387753, time: 95.1s\n",
      "Start Inference on the training data...\n",
      "Accuracy of GM:  0.9981628003821376\n",
      "\u001b[34mAccuracy of GM After: 0.988950276243094 0.8 || 0.9916201117318436 0.8837209302325582 \u001b[0m \n",
      "Accuracy of GM:  0.9991356957649092\n",
      "\u001b[35mAccuracy of LM After: 0.996551724137931 0.9565217391304348 || 0.9843575418994414 0.7586206896551724 \u001b[0m \n",
      "DoS Slowhttptest (1447, 82)\n"
     ]
    },
    {
     "data": {
      "text/plain": [
       "1389"
      ]
     },
     "execution_count": 48,
     "metadata": {},
     "output_type": "execute_result"
    },
    {
     "name": "stdout",
     "output_type": "stream",
     "text": [
      "Label\n",
      "0.0    3099\n",
      "1.0     111\n",
      "Name: count, dtype: int64 Label\n",
      "0.0    775\n",
      "1.0     28\n",
      "Name: count, dtype: int64\n",
      "Timestep 192, Area 1 Attack DoS Slowloris\n",
      "\u001b[92mAccuracy of GM Before: 0.9937733499377335 0.9019607843137255 || 0.9974823766364552 0.9615384615384616 \u001b[0m \n",
      "\u001b[92mAccuracy of LM Before: 0.99 0.8571428571428571 || 0.9974823766364552 0.9612403100775194 \u001b[0m\n",
      "GM New Data Size 3210\n",
      "GM Training Data Size (207325, 82)\n",
      "Start Training...\n",
      "ensemble size: 1\n",
      "epoch  1, training loss: 0.366383, time: 97.6s\n",
      "Start Inference on the training data...\n",
      "Accuracy of GM:  0.9972989268057397\n",
      "\u001b[34mAccuracy of GM After: 0.9937733499377335 0.9019607843137255 || 0.9959718026183283 0.9365079365079365 \u001b[0m \n",
      "Accuracy of GM:  0.9968847352024922\n",
      "\u001b[35mAccuracy of LM After: 0.9953271028037384 0.88 || 0.9964753272910373 0.9448818897637795 \u001b[0m \n",
      "DoS Slowloris (3210, 82)\n"
     ]
    },
    {
     "data": {
      "text/plain": [
       "1389"
      ]
     },
     "execution_count": 48,
     "metadata": {},
     "output_type": "execute_result"
    },
    {
     "name": "stdout",
     "output_type": "stream",
     "text": [
      "Label\n",
      "0.0    8005\n",
      "1.0     315\n",
      "Name: count, dtype: int64 Label\n",
      "0.0    2001\n",
      "1.0      79\n",
      "Name: count, dtype: int64\n",
      "Timestep 195, Area 0 Attack Portscan\n",
      "\u001b[92mAccuracy of GM Before: 0.9985576923076923 0.9811320754716981 || 0.9988343856240893 0.9849624060150376 \u001b[0m \n",
      "\u001b[92mAccuracy of LM Before: 0.99 0.8467153284671532 || 0.9994171928120447 0.9925 \u001b[0m\n",
      "Accuracy of GM:  0.9984975961538461\n",
      "\u001b[35mAccuracy of LM After: 0.9987980769230769 0.9811320754716981 || 0.9993200582807188 0.9912609238451935 \u001b[0m \n",
      "Portscan (8320, 82)\n"
     ]
    },
    {
     "data": {
      "text/plain": [
       "1391"
      ]
     },
     "execution_count": 48,
     "metadata": {},
     "output_type": "execute_result"
    },
    {
     "name": "stdout",
     "output_type": "stream",
     "text": [
      "Label\n",
      "0.0    3163\n",
      "1.0     141\n",
      "Name: count, dtype: int64 Label\n",
      "0.0    791\n",
      "1.0     35\n",
      "Name: count, dtype: int64\n",
      "Timestep 196, Area 0 Attack FTP-Patator\n",
      "\u001b[92mAccuracy of GM Before: 0.9987893462469734 0.9855072463768116 || 0.9995107632093934 0.993006993006993 \u001b[0m \n",
      "\u001b[92mAccuracy of LM Before: 1.00 0.9855072463768116 || 0.9997553816046967 0.9964912280701754 \u001b[0m\n",
      "FTP-Patator (3304, 81)\n"
     ]
    },
    {
     "data": {
      "text/plain": [
       "21"
      ]
     },
     "execution_count": 48,
     "metadata": {},
     "output_type": "execute_result"
    },
    {
     "name": "stdout",
     "output_type": "stream",
     "text": [
      "Label\n",
      "0.0    3171\n",
      "1.0     133\n",
      "Name: count, dtype: int64 Label\n",
      "0.0    793\n",
      "1.0     33\n",
      "Name: count, dtype: int64\n",
      "Timestep 201, Area 3 Attack FTP-Patator\n",
      "\u001b[92mAccuracy of GM Before: 1.0 1.0 || 0.9990215264187867 0.9864864864864865 \u001b[0m \n",
      "\u001b[92mAccuracy of LM Before: 1.00 0.9846153846153847 || 0.9990215264187867 0.9863945578231292 \u001b[0m\n",
      "FTP-Patator (3304, 81)\n"
     ]
    },
    {
     "data": {
      "text/plain": [
       "21"
      ]
     },
     "execution_count": 48,
     "metadata": {},
     "output_type": "execute_result"
    },
    {
     "name": "stdout",
     "output_type": "stream",
     "text": [
      "Label\n",
      "0.0    3087\n",
      "1.0     123\n",
      "Name: count, dtype: int64 Label\n",
      "0.0    772\n",
      "1.0     31\n",
      "Name: count, dtype: int64\n",
      "Timestep 201, Area 2 Attack DoS Slowloris\n",
      "\u001b[92mAccuracy of GM Before: 0.9900373599003736 0.8518518518518519 || 0.9911883182275931 0.8844884488448845 \u001b[0m \n",
      "\u001b[92mAccuracy of LM Before: 0.99 0.8518518518518519 || 0.9929506545820745 0.9090909090909091 \u001b[0m\n",
      "GM New Data Size 3210\n",
      "GM Training Data Size (210535, 82)\n",
      "Start Training...\n",
      "ensemble size: 1\n",
      "epoch  1, training loss: 0.390012, time: 101.9s\n",
      "Start Inference on the training data...\n",
      "Accuracy of GM:  0.9973163607001211\n",
      "\u001b[34mAccuracy of GM After: 0.9962640099626401 0.9491525423728814 || 0.9967270896273918 0.96 \u001b[0m \n",
      "Accuracy of GM:  0.9988317757009346\n",
      "\u001b[35mAccuracy of LM After: 1.0 0.9666666666666667 || 0.9921953675730111 0.898360655737705 \u001b[0m \n",
      "DoS Slowloris (3210, 82)\n"
     ]
    },
    {
     "data": {
      "text/plain": [
       "1389"
      ]
     },
     "execution_count": 48,
     "metadata": {},
     "output_type": "execute_result"
    },
    {
     "name": "stdout",
     "output_type": "stream",
     "text": [
      "Label\n",
      "0.0    2352\n",
      "1.0     111\n",
      "Name: count, dtype: int64 Label\n",
      "0.0    588\n",
      "1.0     28\n",
      "Name: count, dtype: int64\n",
      "Timestep 204, Area 3 Attack SSH-Patator\n",
      "\u001b[92mAccuracy of GM Before: 1.0 1.0 || 0.9990157480314961 0.987012987012987 \u001b[0m \n",
      "\u001b[92mAccuracy of LM Before: 1.00 0.9818181818181818 || 0.9986876640419947 0.9827586206896551 \u001b[0m\n",
      "SSH-Patator (2463, 81)\n"
     ]
    },
    {
     "data": {
      "text/plain": [
       "19"
      ]
     },
     "execution_count": 48,
     "metadata": {},
     "output_type": "execute_result"
    },
    {
     "name": "stdout",
     "output_type": "stream",
     "text": [
      "Label\n",
      "0.0    6029\n",
      "1.0     266\n",
      "Name: count, dtype: int64 Label\n",
      "0.0    1508\n",
      "1.0      66\n",
      "Name: count, dtype: int64\n",
      "Timestep 205, Area 4 Attack DoS GoldenEye\n",
      "\u001b[92mAccuracy of GM Before: 0.9955527318932655 0.944 || 0.9970474967907573 0.9605488850771869 \u001b[0m \n",
      "\u001b[92mAccuracy of LM Before: 1.00 0.953125 || 0.9911424903722721 0.8710280373831776 \u001b[0m\n",
      "GM New Data Size 6295\n",
      "GM Training Data Size (216830, 82)\n",
      "Start Training...\n",
      "ensemble size: 1\n",
      "epoch  1, training loss: 0.363165, time: 108.6s\n",
      "Start Inference on the training data...\n",
      "Accuracy of GM:  0.9983397131393258\n",
      "\u001b[34mAccuracy of GM After: 0.9974587039390089 0.9696969696969697 || 0.9983311938382542 0.9781512605042016 \u001b[0m \n",
      "Accuracy of GM:  0.9980142970611596\n",
      "\u001b[35mAccuracy of LM After: 0.9984114376489277 0.9923664122137404 || 0.9933247753530167 0.9057971014492754 \u001b[0m \n",
      "DoS GoldenEye (6295, 82)\n"
     ]
    },
    {
     "data": {
      "text/plain": [
       "57"
      ]
     },
     "execution_count": 48,
     "metadata": {},
     "output_type": "execute_result"
    },
    {
     "name": "stdout",
     "output_type": "stream",
     "text": [
      "Label\n",
      "0.0    8012\n",
      "1.0     308\n",
      "Name: count, dtype: int64 Label\n",
      "0.0    2003\n",
      "1.0      77\n",
      "Name: count, dtype: int64\n",
      "Timestep 206, Area 1 Attack DoS Hulk\n",
      "\u001b[92mAccuracy of GM Before: 0.9951923076923077 0.9333333333333333 || 0.9960174842156386 0.9486858573216521 \u001b[0m \n",
      "\u001b[92mAccuracy of LM Before: 1.00 0.9868421052631579 || 0.996600291403594 0.9564134495641345 \u001b[0m\n",
      "GM New Data Size 8320\n",
      "GM Training Data Size (225150, 82)\n",
      "Start Training...\n",
      "ensemble size: 1\n",
      "epoch  1, training loss: 0.360721, time: 111.0s\n",
      "Start Inference on the training data...\n",
      "Accuracy of GM:  0.9979125027759271\n",
      "\u001b[34mAccuracy of GM After: 0.9966346153846154 0.954248366013072 || 0.9977659057795046 0.9719853836784409 \u001b[0m \n",
      "DoS Hulk (8320, 82)\n"
     ]
    },
    {
     "data": {
      "text/plain": [
       "0"
      ]
     },
     "execution_count": 48,
     "metadata": {},
     "output_type": "execute_result"
    },
    {
     "name": "stdout",
     "output_type": "stream",
     "text": [
      "Label\n",
      "0.0    7978\n",
      "1.0     342\n",
      "Name: count, dtype: int64 Label\n",
      "0.0    1994\n",
      "1.0      86\n",
      "Name: count, dtype: int64\n",
      "Timestep 207, Area 0 Attack DoS Hulk\n",
      "\u001b[92mAccuracy of GM Before: 0.9971153846153846 0.963855421686747 || 0.998251578436134 0.9784688995215312 \u001b[0m \n",
      "\u001b[92mAccuracy of LM Before: 1.00 0.9882352941176471 || 0.9985429820301117 0.9819927971188476 \u001b[0m\n",
      "DoS Hulk (8320, 81)\n"
     ]
    },
    {
     "data": {
      "text/plain": [
       "19"
      ]
     },
     "execution_count": 48,
     "metadata": {},
     "output_type": "execute_result"
    },
    {
     "name": "stdout",
     "output_type": "stream",
     "text": [
      "Label\n",
      "0.0    3100\n",
      "1.0     110\n",
      "Name: count, dtype: int64 Label\n",
      "0.0    775\n",
      "1.0     28\n",
      "Name: count, dtype: int64\n",
      "Timestep 211, Area 1 Attack DoS Slowloris\n",
      "\u001b[92mAccuracy of GM Before: 0.9987546699875467 0.9818181818181818 || 0.9972306143001007 0.9608540925266904 \u001b[0m \n",
      "\u001b[92mAccuracy of LM Before: 0.99 0.9019607843137255 || 0.9967270896273918 0.953405017921147 \u001b[0m\n",
      "Accuracy of GM:  0.9992211838006231\n",
      "\u001b[35mAccuracy of LM After: 1.0 0.9629629629629629 || 0.9957200402819738 0.9381818181818182 \u001b[0m \n",
      "DoS Slowloris (3210, 82)\n"
     ]
    },
    {
     "data": {
      "text/plain": [
       "1393"
      ]
     },
     "execution_count": 48,
     "metadata": {},
     "output_type": "execute_result"
    },
    {
     "name": "stdout",
     "output_type": "stream",
     "text": [
      "Label\n",
      "0.0    8017\n",
      "1.0     303\n",
      "Name: count, dtype: int64 Label\n",
      "0.0    2004\n",
      "1.0      76\n",
      "Name: count, dtype: int64\n",
      "Timestep 213, Area 1 Attack DoS Hulk\n",
      "\u001b[92mAccuracy of GM Before: 0.9985576923076923 0.9798657718120806 || 0.9990286546867412 0.9853801169590644 \u001b[0m \n",
      "\u001b[92mAccuracy of LM Before: 1.00 0.972972972972973 || 0.9995143273433705 0.9927431059506531 \u001b[0m\n",
      "DoS Hulk (8320, 81)\n"
     ]
    },
    {
     "data": {
      "text/plain": [
       "19"
      ]
     },
     "execution_count": 48,
     "metadata": {},
     "output_type": "execute_result"
    },
    {
     "name": "stdout",
     "output_type": "stream",
     "text": [
      "Label\n",
      "0.0    8006\n",
      "1.0     314\n",
      "Name: count, dtype: int64 Label\n",
      "0.0    2002\n",
      "1.0      78\n",
      "Name: count, dtype: int64\n",
      "Timestep 217, Area 3 Attack DDoS\n",
      "\u001b[92mAccuracy of GM Before: 1.0 1.0 || 0.9996114618746964 0.9950372208436724 \u001b[0m \n",
      "\u001b[92mAccuracy of LM Before: 1.00 0.975 || 0.9967945604662457 0.9598051157125457 \u001b[0m\n",
      "DDoS (8320, 81)\n"
     ]
    },
    {
     "data": {
      "text/plain": [
       "19"
      ]
     },
     "execution_count": 48,
     "metadata": {},
     "output_type": "execute_result"
    },
    {
     "name": "stdout",
     "output_type": "stream",
     "text": [
      "Label\n",
      "0.0    3088\n",
      "1.0     122\n",
      "Name: count, dtype: int64 Label\n",
      "0.0    772\n",
      "1.0     31\n",
      "Name: count, dtype: int64\n",
      "Timestep 218, Area 1 Attack DoS Slowloris\n",
      "\u001b[92mAccuracy of GM Before: 0.9962640099626401 0.9491525423728814 || 0.9972306143001007 0.9644012944983819 \u001b[0m \n",
      "\u001b[92mAccuracy of LM Before: 0.99 0.8727272727272727 || 0.9944612286002014 0.9261744966442953 \u001b[0m\n",
      "GM New Data Size 3210\n",
      "GM Training Data Size (228360, 82)\n",
      "Start Training...\n",
      "ensemble size: 1\n",
      "epoch  1, training loss: 0.364336, time: 114.5s\n",
      "Start Inference on the training data...\n",
      "Accuracy of GM:  0.9975477316517779\n",
      "\u001b[34mAccuracy of GM After: 0.9950186799501868 0.9310344827586207 || 0.9979859013091642 0.9743589743589743 \u001b[0m \n",
      "Accuracy of GM:  0.9984423676012462\n",
      "\u001b[35mAccuracy of LM After: 0.9984423676012462 0.9122807017543859 || 0.9934541792547835 0.9115646258503401 \u001b[0m \n",
      "DoS Slowloris (3210, 82)\n"
     ]
    },
    {
     "data": {
      "text/plain": [
       "1389"
      ]
     },
     "execution_count": 48,
     "metadata": {},
     "output_type": "execute_result"
    },
    {
     "name": "stdout",
     "output_type": "stream",
     "text": [
      "Label\n",
      "0.0    8014\n",
      "1.0     306\n",
      "Name: count, dtype: int64 Label\n",
      "0.0    2004\n",
      "1.0      76\n",
      "Name: count, dtype: int64\n",
      "Timestep 221, Area 0 Attack Portscan\n",
      "\u001b[92mAccuracy of GM Before: 0.9995192307692308 0.9934640522875817 || 0.9996114618746964 0.9953917050691244 \u001b[0m \n",
      "\u001b[92mAccuracy of LM Before: 1.00 1.0 || 0.9996114618746964 0.9953917050691244 \u001b[0m\n",
      "Portscan (8320, 81)\n"
     ]
    },
    {
     "data": {
      "text/plain": [
       "19"
      ]
     },
     "execution_count": 48,
     "metadata": {},
     "output_type": "execute_result"
    },
    {
     "name": "stdout",
     "output_type": "stream",
     "text": [
      "Label\n",
      "0.0    6066\n",
      "1.0     229\n",
      "Name: count, dtype: int64 Label\n",
      "0.0    1517\n",
      "1.0      57\n",
      "Name: count, dtype: int64\n",
      "Timestep 222, Area 4 Attack DoS GoldenEye\n",
      "\u001b[92mAccuracy of GM Before: 0.9955527318932655 0.9345794392523364 || 0.9973042362002568 0.9641025641025641 \u001b[0m \n",
      "\u001b[92mAccuracy of LM Before: 0.98 0.6292134831460674 || 0.9966623876765084 0.9548611111111112 \u001b[0m\n",
      "GM New Data Size 6295\n",
      "GM Training Data Size (234655, 82)\n",
      "Start Training...\n",
      "ensemble size: 1\n",
      "epoch  1, training loss: 0.370383, time: 120.6s\n",
      "Start Inference on the training data...\n",
      "Accuracy of GM:  0.9973152074321877\n",
      "\u001b[34mAccuracy of GM After: 0.9923761118170267 0.8823529411764706 || 0.9933247753530167 0.9064748201438849 \u001b[0m \n",
      "Accuracy of GM:  0.9952343129467831\n",
      "\u001b[35mAccuracy of LM After: 0.9936457505957109 0.7708333333333334 || 0.9970474967907573 0.9602763385146805 \u001b[0m \n",
      "DoS GoldenEye (6295, 82)\n"
     ]
    },
    {
     "data": {
      "text/plain": [
       "1389"
      ]
     },
     "execution_count": 48,
     "metadata": {},
     "output_type": "execute_result"
    },
    {
     "name": "stdout",
     "output_type": "stream",
     "text": [
      "Label\n",
      "0.0    8010\n",
      "1.0     310\n",
      "Name: count, dtype: int64 Label\n",
      "0.0    2003\n",
      "1.0      77\n",
      "Name: count, dtype: int64\n",
      "Timestep 223, Area 3 Attack Infiltration - Portscan\n",
      "\u001b[92mAccuracy of GM Before: 0.9990384615384615 0.9871794871794872 || 0.9990286546867412 0.9874055415617129 \u001b[0m \n",
      "\u001b[92mAccuracy of LM Before: 1.00 1.0 || 0.9988343856240893 0.9847328244274809 \u001b[0m\n",
      "Infiltration - Portscan (8320, 81)\n"
     ]
    },
    {
     "data": {
      "text/plain": [
       "19"
      ]
     },
     "execution_count": 48,
     "metadata": {},
     "output_type": "execute_result"
    },
    {
     "name": "stdout",
     "output_type": "stream",
     "text": [
      "Label\n",
      "0.0    8026\n",
      "1.0     294\n",
      "Name: count, dtype: int64 Label\n",
      "0.0    2006\n",
      "1.0      74\n",
      "Name: count, dtype: int64\n",
      "Timestep 229, Area 2 Attack Portscan\n",
      "\u001b[92mAccuracy of GM Before: 0.9995192307692308 0.9931972789115646 || 0.9988343856240893 0.9854014598540146 \u001b[0m \n",
      "\u001b[92mAccuracy of LM Before: 1.00 0.9931972789115646 || 1.0 1.0 \u001b[0m\n",
      "Portscan (8320, 81)\n"
     ]
    },
    {
     "data": {
      "text/plain": [
       "19"
      ]
     },
     "execution_count": 48,
     "metadata": {},
     "output_type": "execute_result"
    },
    {
     "name": "stdout",
     "output_type": "stream",
     "text": [
      "Label\n",
      "0.0    3084\n",
      "1.0     126\n",
      "Name: count, dtype: int64 Label\n",
      "0.0    772\n",
      "1.0     31\n",
      "Name: count, dtype: int64\n",
      "Timestep 233, Area 1 Attack DoS Slowloris\n",
      "\u001b[92mAccuracy of GM Before: 0.9975093399750934 0.9666666666666667 || 0.9969788519637462 0.958904109589041 \u001b[0m \n",
      "\u001b[92mAccuracy of LM Before: 0.99 0.9122807017543859 || 0.9972306143001007 0.9614035087719298 \u001b[0m\n",
      "Accuracy of GM:  0.9968847352024922\n",
      "\u001b[35mAccuracy of LM After: 0.9953271028037384 0.9310344827586207 || 0.9969788519637462 0.9577464788732394 \u001b[0m \n",
      "DoS Slowloris (3210, 82)\n"
     ]
    },
    {
     "data": {
      "text/plain": [
       "1393"
      ]
     },
     "execution_count": 48,
     "metadata": {},
     "output_type": "execute_result"
    },
    {
     "name": "stdout",
     "output_type": "stream",
     "text": [
      "Label\n",
      "0.0    3083\n",
      "1.0     127\n",
      "Name: count, dtype: int64 Label\n",
      "0.0    771\n",
      "1.0     32\n",
      "Name: count, dtype: int64\n",
      "Timestep 238, Area 2 Attack DoS Slowloris\n",
      "\u001b[92mAccuracy of GM Before: 0.9987546699875467 0.9846153846153847 || 0.9979859013091642 0.9727891156462585 \u001b[0m \n",
      "\u001b[92mAccuracy of LM Before: 0.99 0.8363636363636363 || 0.9977341389728097 0.9690721649484536 \u001b[0m\n",
      "Accuracy of GM:  0.9953271028037384\n",
      "\u001b[35mAccuracy of LM After: 0.9984423676012462 0.967741935483871 || 0.9969788519637462 0.9583333333333334 \u001b[0m \n",
      "DoS Slowloris (3210, 82)\n"
     ]
    },
    {
     "data": {
      "text/plain": [
       "1393"
      ]
     },
     "execution_count": 48,
     "metadata": {},
     "output_type": "execute_result"
    },
    {
     "name": "stdout",
     "output_type": "stream",
     "text": [
      "Label\n",
      "0.0    6015\n",
      "1.0     280\n",
      "Name: count, dtype: int64 Label\n",
      "0.0    1504\n",
      "1.0      70\n",
      "Name: count, dtype: int64\n",
      "Timestep 241, Area 4 Attack DoS GoldenEye\n",
      "\u001b[92mAccuracy of GM Before: 0.9911054637865311 0.890625 || 0.9947368421052631 0.920388349514563 \u001b[0m \n",
      "\u001b[92mAccuracy of LM Before: 0.98 0.7966101694915254 || 0.9951219512195122 0.9260700389105059 \u001b[0m\n",
      "GM New Data Size 6295\n",
      "GM Training Data Size (240950, 82)\n",
      "Start Training...\n",
      "ensemble size: 1\n",
      "epoch  1, training loss: 0.362173, time: 126.0s\n",
      "Start Inference on the training data...\n",
      "Accuracy of GM:  0.9982153973853497\n",
      "\u001b[34mAccuracy of GM After: 0.9980940279542567 0.9781021897810219 || 0.9991014120667523 0.9872495446265938 \u001b[0m \n",
      "Accuracy of GM:  0.9992057188244639\n",
      "\u001b[35mAccuracy of LM After: 0.9920571882446386 0.9393939393939394 || 0.9973042362002568 0.96045197740113 \u001b[0m \n",
      "DoS GoldenEye (6295, 82)\n"
     ]
    },
    {
     "data": {
      "text/plain": [
       "57"
      ]
     },
     "execution_count": 48,
     "metadata": {},
     "output_type": "execute_result"
    },
    {
     "name": "stdout",
     "output_type": "stream",
     "text": [
      "Label\n",
      "0.0    6057\n",
      "1.0     238\n",
      "Name: count, dtype: int64 Label\n",
      "0.0    1515\n",
      "1.0      59\n",
      "Name: count, dtype: int64\n",
      "Timestep 247, Area 4 Attack DoS GoldenEye\n",
      "\u001b[92mAccuracy of GM Before: 0.9961880559085133 0.9473684210526315 || 0.9987163029525032 0.9810606060606061 \u001b[0m \n",
      "\u001b[92mAccuracy of LM Before: 0.99 0.897196261682243 || 0.9983311938382542 0.9750479846449136 \u001b[0m\n",
      "GM New Data Size 6295\n",
      "GM Training Data Size (247245, 82)\n",
      "Start Training...\n",
      "ensemble size: 1\n",
      "epoch  1, training loss: 0.361365, time: 131.7s\n",
      "Start Inference on the training data...\n",
      "Accuracy of GM:  0.9981799429715464\n",
      "\u001b[34mAccuracy of GM After: 0.9974587039390089 0.9649122807017544 || 0.9988446726572529 0.9830508474576272 \u001b[0m \n",
      "Accuracy of GM:  0.9988085782366958\n",
      "\u001b[35mAccuracy of LM After: 0.9976171564733916 0.9464285714285714 || 0.9979460847240051 0.9691119691119691 \u001b[0m \n",
      "DoS GoldenEye (6295, 82)\n"
     ]
    },
    {
     "data": {
      "text/plain": [
       "1389"
      ]
     },
     "execution_count": 48,
     "metadata": {},
     "output_type": "execute_result"
    },
    {
     "name": "stdout",
     "output_type": "stream",
     "text": [
      "Label\n",
      "0.0    3176\n",
      "1.0     128\n",
      "Name: count, dtype: int64 Label\n",
      "0.0    794\n",
      "1.0     32\n",
      "Name: count, dtype: int64\n",
      "Timestep 249, Area 0 Attack FTP-Patator\n",
      "\u001b[92mAccuracy of GM Before: 0.9975786924939467 0.9696969696969697 || 0.9997553816046967 0.9968253968253968 \u001b[0m \n",
      "\u001b[92mAccuracy of LM Before: 1.00 1.0 || 1.0 1.0 \u001b[0m\n",
      "FTP-Patator (3304, 81)\n"
     ]
    },
    {
     "data": {
      "text/plain": [
       "21"
      ]
     },
     "execution_count": 48,
     "metadata": {},
     "output_type": "execute_result"
    },
    {
     "name": "stdout",
     "output_type": "stream",
     "text": [
      "Label\n",
      "0.0    3166\n",
      "1.0     138\n",
      "Name: count, dtype: int64 Label\n",
      "0.0    791\n",
      "1.0     35\n",
      "Name: count, dtype: int64\n",
      "Timestep 252, Area 3 Attack FTP-Patator\n",
      "\u001b[92mAccuracy of GM Before: 1.0 1.0 || 0.99926614481409 0.9901639344262295 \u001b[0m \n",
      "\u001b[92mAccuracy of LM Before: 1.00 1.0 || 0.9997553816046967 0.9966996699669967 \u001b[0m\n",
      "FTP-Patator (3304, 81)\n"
     ]
    },
    {
     "data": {
      "text/plain": [
       "21"
      ]
     },
     "execution_count": 48,
     "metadata": {},
     "output_type": "execute_result"
    },
    {
     "name": "stdout",
     "output_type": "stream",
     "text": [
      "Label\n",
      "0.0    8009\n",
      "1.0     311\n",
      "Name: count, dtype: int64 Label\n",
      "0.0    2002\n",
      "1.0      78\n",
      "Name: count, dtype: int64\n",
      "Timestep 253, Area 0 Attack Infiltration - Portscan\n",
      "\u001b[92mAccuracy of GM Before: 0.9980769230769231 0.974025974025974 || 0.998251578436134 0.9758064516129032 \u001b[0m \n",
      "\u001b[92mAccuracy of LM Before: 1.00 0.9935483870967742 || 0.9986401165614376 0.9809782608695652 \u001b[0m\n",
      "Infiltration - Portscan (8320, 81)\n"
     ]
    },
    {
     "data": {
      "text/plain": [
       "19"
      ]
     },
     "execution_count": 48,
     "metadata": {},
     "output_type": "execute_result"
    },
    {
     "name": "stdout",
     "output_type": "stream",
     "text": [
      "Label\n",
      "0.0    8016\n",
      "1.0     304\n",
      "Name: count, dtype: int64 Label\n",
      "0.0    2004\n",
      "1.0      76\n",
      "Name: count, dtype: int64\n",
      "Timestep 254, Area 1 Attack DoS Hulk\n",
      "\u001b[92mAccuracy of GM Before: 1.0 1.0 || 0.9998057309373483 0.9972375690607734 \u001b[0m \n",
      "\u001b[92mAccuracy of LM Before: 1.00 0.9798657718120806 || 0.9995143273433705 0.99302649930265 \u001b[0m\n",
      "DoS Hulk (8320, 81)\n"
     ]
    },
    {
     "data": {
      "text/plain": [
       "19"
      ]
     },
     "execution_count": 48,
     "metadata": {},
     "output_type": "execute_result"
    },
    {
     "name": "stdout",
     "output_type": "stream",
     "text": [
      "Label\n",
      "0.0    8003\n",
      "1.0     317\n",
      "Name: count, dtype: int64 Label\n",
      "0.0    2001\n",
      "1.0      79\n",
      "Name: count, dtype: int64\n",
      "Timestep 256, Area 0 Attack Portscan\n",
      "\u001b[92mAccuracy of GM Before: 0.9990384615384615 0.9871794871794872 || 0.9984458474987858 0.9814385150812065 \u001b[0m \n",
      "\u001b[92mAccuracy of LM Before: 1.00 1.0 || 0.9997085964060224 0.9965156794425087 \u001b[0m\n",
      "Portscan (8320, 81)\n"
     ]
    },
    {
     "data": {
      "text/plain": [
       "19"
      ]
     },
     "execution_count": 48,
     "metadata": {},
     "output_type": "execute_result"
    },
    {
     "name": "stdout",
     "output_type": "stream",
     "text": [
      "Label\n",
      "0.0    3097\n",
      "1.0     113\n",
      "Name: count, dtype: int64 Label\n",
      "0.0    775\n",
      "1.0     28\n",
      "Name: count, dtype: int64\n",
      "Timestep 259, Area 1 Attack DoS Slowloris\n",
      "\u001b[92mAccuracy of GM Before: 0.9987546699875467 0.9818181818181818 || 0.9982376636455186 0.977491961414791 \u001b[0m \n",
      "\u001b[92mAccuracy of LM Before: 1.00 0.9629629629629629 || 0.9957200402819738 0.9427609427609428 \u001b[0m\n",
      "DoS Slowloris (3210, 81)\n"
     ]
    },
    {
     "data": {
      "text/plain": [
       "21"
      ]
     },
     "execution_count": 48,
     "metadata": {},
     "output_type": "execute_result"
    },
    {
     "name": "stdout",
     "output_type": "stream",
     "text": [
      "Label\n",
      "0.0    3193\n",
      "1.0     111\n",
      "Name: count, dtype: int64 Label\n",
      "0.0    798\n",
      "1.0     28\n",
      "Name: count, dtype: int64\n",
      "Timestep 260, Area 3 Attack FTP-Patator\n",
      "\u001b[92mAccuracy of GM Before: 1.0 1.0 || 0.9995107632093934 0.9934640522875817 \u001b[0m \n",
      "\u001b[92mAccuracy of LM Before: 1.00 1.0 || 0.962573385518591 0.0 \u001b[0m\n",
      "FTP-Patator (3304, 81)\n"
     ]
    },
    {
     "data": {
      "text/plain": [
       "21"
      ]
     },
     "execution_count": 48,
     "metadata": {},
     "output_type": "execute_result"
    },
    {
     "name": "stdout",
     "output_type": "stream",
     "text": [
      "Label\n",
      "0.0    7974\n",
      "1.0     346\n",
      "Name: count, dtype: int64 Label\n",
      "0.0    1993\n",
      "1.0      87\n",
      "Name: count, dtype: int64\n",
      "Timestep 268, Area 3 Attack Infiltration - Portscan\n",
      "\u001b[92mAccuracy of GM Before: 0.9985576923076923 0.9824561403508771 || 0.9984458474987858 0.9777777777777777 \u001b[0m \n",
      "\u001b[92mAccuracy of LM Before: 1.00 0.9770114942528736 || 0.9978630403108305 0.969187675070028 \u001b[0m\n",
      "Infiltration - Portscan (8320, 81)\n"
     ]
    },
    {
     "data": {
      "text/plain": [
       "19"
      ]
     },
     "execution_count": 48,
     "metadata": {},
     "output_type": "execute_result"
    },
    {
     "name": "stdout",
     "output_type": "stream",
     "text": [
      "Label\n",
      "0.0    7989\n",
      "1.0     331\n",
      "Name: count, dtype: int64 Label\n",
      "0.0    1997\n",
      "1.0      83\n",
      "Name: count, dtype: int64\n",
      "Timestep 271, Area 1 Attack DoS Hulk\n",
      "\u001b[92mAccuracy of GM Before: 0.9995192307692308 0.9940119760479041 || 0.9997085964060224 0.9958847736625515 \u001b[0m \n",
      "\u001b[92mAccuracy of LM Before: 1.00 0.9878048780487805 || 0.9992229237493929 0.988950276243094 \u001b[0m\n",
      "DoS Hulk (8320, 81)\n"
     ]
    },
    {
     "data": {
      "text/plain": [
       "19"
      ]
     },
     "execution_count": 48,
     "metadata": {},
     "output_type": "execute_result"
    },
    {
     "name": "stdout",
     "output_type": "stream",
     "text": [
      "Label\n",
      "0.0    1389\n",
      "1.0      58\n",
      "Name: count, dtype: int64 Label\n",
      "0.0    347\n",
      "1.0     15\n",
      "Name: count, dtype: int64\n",
      "Timestep 272, Area 0 Attack DoS Slowhttptest\n",
      "\u001b[92mAccuracy of GM Before: 0.9917127071823204 0.8888888888888888 || 0.9955307262569832 0.9375 \u001b[0m \n",
      "\u001b[92mAccuracy of LM Before: 0.99 0.9285714285714286 || 0.9955307262569832 0.9354838709677419 \u001b[0m\n",
      "GM New Data Size 1447\n",
      "GM Training Data Size (248692, 82)\n",
      "Start Training...\n",
      "ensemble size: 1\n",
      "epoch  1, training loss: 0.344134, time: 133.0s\n",
      "Start Inference on the training data...\n",
      "Accuracy of GM:  0.9982910794346489\n",
      "\u001b[34mAccuracy of GM After: 0.994475138121547 0.9285714285714286 || 0.9932960893854749 0.9032258064516129 \u001b[0m \n",
      "Accuracy of GM:  0.9913569576490925\n",
      "\u001b[35mAccuracy of LM After: 0.993103448275862 0.8888888888888888 || 0.993854748603352 0.9090909090909091 \u001b[0m \n",
      "DoS Slowhttptest (1447, 82)\n"
     ]
    },
    {
     "data": {
      "text/plain": [
       "1389"
      ]
     },
     "execution_count": 48,
     "metadata": {},
     "output_type": "execute_result"
    },
    {
     "name": "stdout",
     "output_type": "stream",
     "text": [
      "Label\n",
      "0.0    2364\n",
      "1.0      99\n",
      "Name: count, dtype: int64 Label\n",
      "0.0    591\n",
      "1.0     25\n",
      "Name: count, dtype: int64\n",
      "Timestep 274, Area 2 Attack SSH-Patator\n",
      "\u001b[92mAccuracy of GM Before: 1.0 1.0 || 0.9980314960629921 0.9767441860465116 \u001b[0m \n",
      "\u001b[92mAccuracy of LM Before: 1.00 1.0 || 0.9983595800524935 0.9803921568627451 \u001b[0m\n",
      "SSH-Patator (2463, 81)\n"
     ]
    },
    {
     "data": {
      "text/plain": [
       "19"
      ]
     },
     "execution_count": 48,
     "metadata": {},
     "output_type": "execute_result"
    },
    {
     "name": "stdout",
     "output_type": "stream",
     "text": [
      "Label\n",
      "0.0    1398\n",
      "1.0      49\n",
      "Name: count, dtype: int64 Label\n",
      "0.0    350\n",
      "1.0     12\n",
      "Name: count, dtype: int64\n",
      "Timestep 276, Area 3 Attack DoS Slowhttptest\n",
      "\u001b[92mAccuracy of GM Before: 0.9917127071823204 0.8571428571428571 || 0.9921787709497206 0.9078947368421053 \u001b[0m \n",
      "\u001b[92mAccuracy of LM Before: 0.99 0.8571428571428571 || 0.9826815642458101 0.7703703703703704 \u001b[0m\n",
      "GM New Data Size 1447\n",
      "GM Training Data Size (250139, 82)\n",
      "Start Training...\n",
      "ensemble size: 1\n",
      "epoch  1, training loss: 0.361713, time: 134.8s\n",
      "Start Inference on the training data...\n",
      "Accuracy of GM:  0.9983409290797154\n",
      "\u001b[34mAccuracy of GM After: 0.994475138121547 0.9090909090909091 || 0.9921787709497206 0.9078947368421053 \u001b[0m \n",
      "Accuracy of GM:  0.9948141745894555\n",
      "\u001b[35mAccuracy of LM After: 0.9896551724137931 0.9090909090909091 || 0.9877094972067039 0.8472222222222222 \u001b[0m \n",
      "DoS Slowhttptest (1447, 82)\n"
     ]
    },
    {
     "data": {
      "text/plain": [
       "1389"
      ]
     },
     "execution_count": 48,
     "metadata": {},
     "output_type": "execute_result"
    },
    {
     "name": "stdout",
     "output_type": "stream",
     "text": [
      "Label\n",
      "0.0    6063\n",
      "1.0     232\n",
      "Name: count, dtype: int64 Label\n",
      "0.0    1516\n",
      "1.0      58\n",
      "Name: count, dtype: int64\n",
      "Timestep 282, Area 2 Attack DoS GoldenEye\n",
      "\u001b[92mAccuracy of GM Before: 0.9987293519695044 0.9824561403508771 || 0.9988446726572529 0.9855072463768116 \u001b[0m \n",
      "\u001b[92mAccuracy of LM Before: 0.99 0.8846153846153846 || 0.9974326059050064 0.9672131147540983 \u001b[0m\n",
      "Accuracy of GM:  0.9994042891183479\n",
      "\u001b[35mAccuracy of LM After: 0.9992057188244639 0.9357798165137615 || 0.9979460847240051 0.9739413680781759 \u001b[0m \n",
      "DoS GoldenEye (6295, 82)\n"
     ]
    },
    {
     "data": {
      "text/plain": [
       "1389"
      ]
     },
     "execution_count": 48,
     "metadata": {},
     "output_type": "execute_result"
    },
    {
     "name": "stdout",
     "output_type": "stream",
     "text": [
      "Label\n",
      "0.0    8026\n",
      "1.0     294\n",
      "Name: count, dtype: int64 Label\n",
      "0.0    2006\n",
      "1.0      74\n",
      "Name: count, dtype: int64\n",
      "Timestep 284, Area 0 Attack Portscan\n",
      "\u001b[92mAccuracy of GM Before: 0.9975961538461539 0.965034965034965 || 0.999125789218067 0.9888751545117429 \u001b[0m \n",
      "\u001b[92mAccuracy of LM Before: 1.00 0.9793103448275862 || 0.9998057309373483 0.9975186104218362 \u001b[0m\n",
      "Portscan (8320, 81)\n"
     ]
    },
    {
     "data": {
      "text/plain": [
       "19"
      ]
     },
     "execution_count": 48,
     "metadata": {},
     "output_type": "execute_result"
    },
    {
     "name": "stdout",
     "output_type": "stream",
     "text": [
      "Label\n",
      "0.0    7992\n",
      "1.0     328\n",
      "Name: count, dtype: int64 Label\n",
      "0.0    1998\n",
      "1.0      82\n",
      "Name: count, dtype: int64\n",
      "Timestep 292, Area 0 Attack Portscan\n",
      "\u001b[92mAccuracy of GM Before: 0.9995192307692308 0.9939393939393939 || 0.9987372510927635 0.9850057670126874 \u001b[0m \n",
      "\u001b[92mAccuracy of LM Before: 1.00 1.0 || 0.9997085964060224 0.9965317919075144 \u001b[0m\n",
      "Portscan (8320, 81)\n"
     ]
    },
    {
     "data": {
      "text/plain": [
       "19"
      ]
     },
     "execution_count": 48,
     "metadata": {},
     "output_type": "execute_result"
    },
    {
     "name": "stdout",
     "output_type": "stream",
     "text": [
      "Label\n",
      "0.0    1381\n",
      "1.0      66\n",
      "Name: count, dtype: int64 Label\n",
      "0.0    346\n",
      "1.0     16\n",
      "Name: count, dtype: int64\n",
      "Timestep 293, Area 3 Attack DoS Slowhttptest\n",
      "\u001b[92mAccuracy of GM Before: 0.988950276243094 0.8571428571428571 || 0.9960893854748604 0.9263157894736842 \u001b[0m \n",
      "\u001b[92mAccuracy of LM Before: 0.99 0.896551724137931 || 0.9905027932960894 0.8 \u001b[0m\n",
      "GM New Data Size 1447\n",
      "GM Training Data Size (251586, 82)\n",
      "Start Training...\n",
      "ensemble size: 1\n",
      "epoch  1, training loss: 0.344274, time: 136.0s\n",
      "Start Inference on the training data...\n",
      "Accuracy of GM:  0.9984498588974124\n",
      "\u001b[34mAccuracy of GM After: 0.9972375690607734 0.967741935483871 || 0.9949720670391061 0.9052631578947369 \u001b[0m \n",
      "Accuracy of GM:  0.996542783059637\n",
      "\u001b[35mAccuracy of LM After: 1.0 0.9333333333333333 || 0.9955307262569832 0.9148936170212766 \u001b[0m \n",
      "DoS Slowhttptest (1447, 82)\n"
     ]
    },
    {
     "data": {
      "text/plain": [
       "1389"
      ]
     },
     "execution_count": 48,
     "metadata": {},
     "output_type": "execute_result"
    },
    {
     "name": "stdout",
     "output_type": "stream",
     "text": [
      "Label\n",
      "0.0    2378\n",
      "1.0      85\n",
      "Name: count, dtype: int64 Label\n",
      "0.0    595\n",
      "1.0     21\n",
      "Name: count, dtype: int64\n",
      "Timestep 294, Area 3 Attack SSH-Patator\n",
      "\u001b[92mAccuracy of GM Before: 0.9983766233766234 0.9767441860465116 || 0.9996719160104987 0.9955156950672646 \u001b[0m \n",
      "\u001b[92mAccuracy of LM Before: 1.00 1.0 || 0.9993438320209974 0.990990990990991 \u001b[0m\n",
      "SSH-Patator (2463, 81)\n"
     ]
    },
    {
     "data": {
      "text/plain": [
       "19"
      ]
     },
     "execution_count": 48,
     "metadata": {},
     "output_type": "execute_result"
    }
   ],
   "source": [
    "from sklearn.exceptions import NotFittedError\n",
    "import gc\n",
    "\n",
    "# Main simulation function\n",
    "final_accuracies = []\n",
    "\n",
    "for run in range(num_runs):\n",
    "    print(f\"Run {run + 1}/{num_runs}\")\n",
    "    run=run+1\n",
    "\n",
    "    # Initialize Global Model\n",
    "    # global_model = Global_Model(gm_training_data[:100000])\n",
    "    \n",
    "    # Assign edge area coordinates\n",
    "    edge_area_list = define_edge_area(5, global_model, random_state=run, global_sharing=True)\n",
    "\n",
    "    # Define attack information\n",
    "    atk_info_list = define_atk(atk_list, edge_area_list, cicids_df, benign_df, random_state=run)\n",
    "\n",
    "    # Loop through timesteps\n",
    "    for t in range(num_timesteps):\n",
    "        for attack in atk_info_list.values():\n",
    "            # Sample whether an attack is ongoing\n",
    "            for i, edge_area in enumerate(edge_area_list):\n",
    "                occ_prob = probability_in_2d_edge_area(attack.centroid[0], attack.std_dev[0], \n",
    "                                                        attack.centroid[1], attack.std_dev[1], \n",
    "                                                        edge_area.centroid[0], edge_area.centroid[1])\n",
    "                attack.active = np.random.random() < occ_prob/3\n",
    "                if attack.active and attack.first_seen < t:\n",
    "                    # Train local model with a fraction of the data     \n",
    "                    X_lm_train, X_lm_test, y_lm_train, y_lm_test = preprocess_data(attack.get_data().copy(), train_perc=0.8)                   \n",
    "                    print(y_lm_train.value_counts(), y_lm_test.value_counts())\n",
    "                    y_lm_train = y_lm_train.values\n",
    "                    y_lm_test = y_lm_test.values\n",
    "                    # Record Accuracy Data\n",
    "                    X_atk_test, _, y_atk_test, _ = preprocess_data(attack.get_data().copy(), train_perc=0.99)                   \n",
    "                    y_atk_test = y_atk_test.values\n",
    "                    \n",
    "                    # Evaluate GM Accuracy\n",
    "                    y_gm_pred = edge_area.local_model.inquire_gm(X_lm_test)\n",
    "                    gm_acc = accuracy_score(y_gm_pred, y_lm_test)\n",
    "                    gm_f1 = f1_score(y_gm_pred, y_lm_test, average='binary')\n",
    "                    \n",
    "                    y_gm_atk_pred = edge_area.local_model.inquire_gm(X_atk_test)\n",
    "                    gm_atk_acc = accuracy_score(y_gm_atk_pred, y_atk_test)\n",
    "                    gm_atk_f1 = f1_score(y_gm_atk_pred, y_atk_test, average='binary')                    \n",
    "\n",
    "                    # Evaluate LM Accuracy\n",
    "                    try:\n",
    "                        # Perform inference using the local model\n",
    "                        y_lm_pred = edge_area.local_model.perform_inference(X_lm_test)\n",
    "                        lm_acc = accuracy_score(y_lm_pred, y_lm_test)\n",
    "                        lm_f1 = f1_score(y_lm_pred, y_lm_test, average='binary')\n",
    "                        \n",
    "                        y_lm_atk_pred = edge_area.local_model.perform_inference(X_atk_test)\n",
    "                        lm_atk_acc = accuracy_score(y_lm_atk_pred, y_atk_test)\n",
    "                        lm_atk_f1 = f1_score(y_lm_atk_pred, y_atk_test, average='binary')\n",
    "                        \n",
    "\n",
    "                    except NotFittedError as e:\n",
    "                        # Handle the case where the model is not yet fitted\n",
    "                        print(\"Local model is not fitted yet. Please fit the model before inference.\")\n",
    "                        lm_acc = 0\n",
    "                        lm_f1 = 0\n",
    "                        \n",
    "                        lm_atk_acc = 0\n",
    "                        lm_atk_f1 = 0\n",
    "                    print(f\"Timestep {t}, Area {i} Attack {attack.name}\")\n",
    "                    print(f\"{LIGHT_GREEN}Accuracy of GM Before: {gm_acc} {gm_f1} || {gm_atk_acc} {gm_atk_f1} {RESET} \")                            \n",
    "                    print(f\"{LIGHT_GREEN}Accuracy of LM Before: {lm_acc:.2f} {lm_f1} || {lm_atk_acc} {lm_atk_f1} {RESET}\")                            \n",
    "                    \n",
    "                    # Update seen_attack_acc\n",
    "                    if attack.name not in edge_area.seen_attack_acc:\n",
    "                        edge_area.seen_attack_acc[attack.name] = [(t, lm_atk_acc, lm_atk_f1)]\n",
    "                    else:\n",
    "                        edge_area.seen_attack_acc[attack.name].append((t, lm_atk_acc, lm_atk_f1))\n",
    "                        \n",
    "                    if gm_f1 < 0.96: #* GM is the bottleneck\n",
    "                        X_lm_train[\"Label\"] = y_lm_train\n",
    "                        print(\"GM New Data Size\", X_lm_train.shape[0])\n",
    "                        edge_area.local_model.global_model.gm_retrain(X_lm_train, supervision=supervision)\n",
    "                        y_gm_pred = edge_area.local_model.inquire_gm(X_lm_test)\n",
    "                        gm_acc = accuracy_score(y_gm_pred, y_lm_test)\n",
    "                        gm_f1 = f1_score(y_gm_pred, y_lm_test, average='binary')\n",
    "                        \n",
    "                        y_gm_atk_pred = edge_area.local_model.inquire_gm(X_atk_test)\n",
    "                        gm_atk_acc = accuracy_score(y_gm_atk_pred, y_atk_test)\n",
    "                        gm_atk_f1 = f1_score(y_gm_atk_pred, y_atk_test, average='binary')  \n",
    "                            \n",
    "                        print(f\"{BLUE}Accuracy of GM After: {gm_acc} {gm_f1} || {gm_atk_acc} {gm_atk_f1} {RESET} \")\n",
    "                    if lm_f1 < 0.96: #* LM Haven't Learn about the data\n",
    "                        X_lm_train[\"Label\"] = y_lm_train\n",
    "                        lm_acc = edge_area.train_local_model(X_lm_train)\n",
    "                        y_lm_pred = edge_area.local_model.perform_inference(X_lm_test)\n",
    "                        lm_f1 = f1_score(y_lm_pred, y_lm_test, average='binary')\n",
    "                        \n",
    "                        y_lm_atk_pred = edge_area.local_model.perform_inference(X_atk_test)\n",
    "                        lm_atk_acc = accuracy_score(y_lm_atk_pred, y_atk_test)\n",
    "                        lm_atk_f1 = f1_score(y_lm_atk_pred, y_atk_test, average='binary')\n",
    "                                                \n",
    "                        print(f\"{PURPLE}Accuracy of LM After: {lm_acc} {lm_f1} || {lm_atk_acc} {lm_atk_f1} {RESET} \")\n",
    "                    print(attack.name, X_lm_train.shape)\n",
    "                    gc.collect()\n",
    "                    \n",
    "\n"
   ]
  },
  {
   "cell_type": "code",
   "execution_count": 51,
   "metadata": {},
   "outputs": [
    {
     "data": {
      "text/html": [
       "<div>\n",
       "<style scoped>\n",
       "    .dataframe tbody tr th:only-of-type {\n",
       "        vertical-align: middle;\n",
       "    }\n",
       "\n",
       "    .dataframe tbody tr th {\n",
       "        vertical-align: top;\n",
       "    }\n",
       "\n",
       "    .dataframe thead th {\n",
       "        text-align: right;\n",
       "    }\n",
       "</style>\n",
       "<table border=\"1\" class=\"dataframe\">\n",
       "  <thead>\n",
       "    <tr style=\"text-align: right;\">\n",
       "      <th></th>\n",
       "      <th>Flow Duration</th>\n",
       "      <th>Total Fwd Packet</th>\n",
       "      <th>Total Bwd packets</th>\n",
       "      <th>Total Length of Fwd Packet</th>\n",
       "      <th>Total Length of Bwd Packet</th>\n",
       "      <th>Fwd Packet Length Max</th>\n",
       "      <th>Fwd Packet Length Min</th>\n",
       "      <th>Fwd Packet Length Mean</th>\n",
       "      <th>Fwd Packet Length Std</th>\n",
       "      <th>Bwd Packet Length Max</th>\n",
       "      <th>...</th>\n",
       "      <th>Active Max</th>\n",
       "      <th>Active Min</th>\n",
       "      <th>Idle Mean</th>\n",
       "      <th>Idle Std</th>\n",
       "      <th>Idle Max</th>\n",
       "      <th>Idle Min</th>\n",
       "      <th>ICMP Code</th>\n",
       "      <th>ICMP Type</th>\n",
       "      <th>Total TCP Flow Time</th>\n",
       "      <th>Label</th>\n",
       "    </tr>\n",
       "  </thead>\n",
       "  <tbody>\n",
       "    <tr>\n",
       "      <th>0</th>\n",
       "      <td>-0.427072</td>\n",
       "      <td>0.083957</td>\n",
       "      <td>0.035153</td>\n",
       "      <td>0.213919</td>\n",
       "      <td>-0.018650</td>\n",
       "      <td>0.949417</td>\n",
       "      <td>-0.756996</td>\n",
       "      <td>0.212791</td>\n",
       "      <td>0.768941</td>\n",
       "      <td>2.336552</td>\n",
       "      <td>...</td>\n",
       "      <td>-0.191002</td>\n",
       "      <td>-0.103028</td>\n",
       "      <td>-0.344051</td>\n",
       "      <td>-0.113506</td>\n",
       "      <td>-0.347779</td>\n",
       "      <td>-0.328592</td>\n",
       "      <td>-0.013869</td>\n",
       "      <td>-0.013869</td>\n",
       "      <td>-0.084943</td>\n",
       "      <td>0</td>\n",
       "    </tr>\n",
       "    <tr>\n",
       "      <th>1</th>\n",
       "      <td>-0.439221</td>\n",
       "      <td>-0.091927</td>\n",
       "      <td>-0.084635</td>\n",
       "      <td>-0.200094</td>\n",
       "      <td>-0.044912</td>\n",
       "      <td>-0.361287</td>\n",
       "      <td>0.220797</td>\n",
       "      <td>-0.230366</td>\n",
       "      <td>-0.377832</td>\n",
       "      <td>-0.402934</td>\n",
       "      <td>...</td>\n",
       "      <td>-0.191002</td>\n",
       "      <td>-0.103028</td>\n",
       "      <td>-0.344051</td>\n",
       "      <td>-0.113506</td>\n",
       "      <td>-0.347779</td>\n",
       "      <td>-0.328592</td>\n",
       "      <td>-0.013869</td>\n",
       "      <td>-0.013869</td>\n",
       "      <td>-0.086424</td>\n",
       "      <td>0</td>\n",
       "    </tr>\n",
       "    <tr>\n",
       "      <th>2</th>\n",
       "      <td>-0.285829</td>\n",
       "      <td>-0.003985</td>\n",
       "      <td>-0.030186</td>\n",
       "      <td>-0.098883</td>\n",
       "      <td>-0.029037</td>\n",
       "      <td>-0.050904</td>\n",
       "      <td>-0.756996</td>\n",
       "      <td>-0.166746</td>\n",
       "      <td>0.058029</td>\n",
       "      <td>0.990878</td>\n",
       "      <td>...</td>\n",
       "      <td>-0.064234</td>\n",
       "      <td>0.103824</td>\n",
       "      <td>-0.002053</td>\n",
       "      <td>-0.113506</td>\n",
       "      <td>-0.015790</td>\n",
       "      <td>0.018658</td>\n",
       "      <td>-0.013869</td>\n",
       "      <td>-0.013869</td>\n",
       "      <td>-0.071621</td>\n",
       "      <td>0</td>\n",
       "    </tr>\n",
       "    <tr>\n",
       "      <th>3</th>\n",
       "      <td>-0.442775</td>\n",
       "      <td>-0.091927</td>\n",
       "      <td>-0.106415</td>\n",
       "      <td>-0.223189</td>\n",
       "      <td>-0.046682</td>\n",
       "      <td>-0.421590</td>\n",
       "      <td>-0.756996</td>\n",
       "      <td>-0.554831</td>\n",
       "      <td>-0.377832</td>\n",
       "      <td>-0.606426</td>\n",
       "      <td>...</td>\n",
       "      <td>-0.191002</td>\n",
       "      <td>-0.103028</td>\n",
       "      <td>-0.344051</td>\n",
       "      <td>-0.113506</td>\n",
       "      <td>-0.347779</td>\n",
       "      <td>-0.328592</td>\n",
       "      <td>-0.013869</td>\n",
       "      <td>-0.013869</td>\n",
       "      <td>-0.086424</td>\n",
       "      <td>1</td>\n",
       "    </tr>\n",
       "    <tr>\n",
       "      <th>4</th>\n",
       "      <td>-0.442072</td>\n",
       "      <td>-0.104490</td>\n",
       "      <td>-0.095525</td>\n",
       "      <td>-0.209604</td>\n",
       "      <td>-0.046230</td>\n",
       "      <td>-0.350645</td>\n",
       "      <td>0.393349</td>\n",
       "      <td>-0.173108</td>\n",
       "      <td>-0.377832</td>\n",
       "      <td>-0.502492</td>\n",
       "      <td>...</td>\n",
       "      <td>-0.191002</td>\n",
       "      <td>-0.103028</td>\n",
       "      <td>-0.344051</td>\n",
       "      <td>-0.113506</td>\n",
       "      <td>-0.347779</td>\n",
       "      <td>-0.328592</td>\n",
       "      <td>-0.013869</td>\n",
       "      <td>-0.013869</td>\n",
       "      <td>-0.086424</td>\n",
       "      <td>0</td>\n",
       "    </tr>\n",
       "    <tr>\n",
       "      <th>...</th>\n",
       "      <td>...</td>\n",
       "      <td>...</td>\n",
       "      <td>...</td>\n",
       "      <td>...</td>\n",
       "      <td>...</td>\n",
       "      <td>...</td>\n",
       "      <td>...</td>\n",
       "      <td>...</td>\n",
       "      <td>...</td>\n",
       "      <td>...</td>\n",
       "      <td>...</td>\n",
       "      <td>...</td>\n",
       "      <td>...</td>\n",
       "      <td>...</td>\n",
       "      <td>...</td>\n",
       "      <td>...</td>\n",
       "      <td>...</td>\n",
       "      <td>...</td>\n",
       "      <td>...</td>\n",
       "      <td>...</td>\n",
       "      <td>...</td>\n",
       "    </tr>\n",
       "    <tr>\n",
       "      <th>238169</th>\n",
       "      <td>-0.470111</td>\n",
       "      <td>-0.261252</td>\n",
       "      <td>-0.211256</td>\n",
       "      <td>-0.075109</td>\n",
       "      <td>-0.104528</td>\n",
       "      <td>-0.285106</td>\n",
       "      <td>1.155906</td>\n",
       "      <td>0.086895</td>\n",
       "      <td>-0.391203</td>\n",
       "      <td>-0.409740</td>\n",
       "      <td>...</td>\n",
       "      <td>-0.188986</td>\n",
       "      <td>-0.084311</td>\n",
       "      <td>-0.347122</td>\n",
       "      <td>-0.155104</td>\n",
       "      <td>-0.359662</td>\n",
       "      <td>-0.329556</td>\n",
       "      <td>0.000000</td>\n",
       "      <td>0.000000</td>\n",
       "      <td>-0.108709</td>\n",
       "      <td>0</td>\n",
       "    </tr>\n",
       "    <tr>\n",
       "      <th>238170</th>\n",
       "      <td>-0.470072</td>\n",
       "      <td>-0.224667</td>\n",
       "      <td>-0.182424</td>\n",
       "      <td>-0.076139</td>\n",
       "      <td>-0.100070</td>\n",
       "      <td>-0.358148</td>\n",
       "      <td>0.090139</td>\n",
       "      <td>-0.296265</td>\n",
       "      <td>-0.391203</td>\n",
       "      <td>-0.335498</td>\n",
       "      <td>...</td>\n",
       "      <td>-0.188986</td>\n",
       "      <td>-0.084311</td>\n",
       "      <td>-0.347122</td>\n",
       "      <td>-0.155104</td>\n",
       "      <td>-0.359662</td>\n",
       "      <td>-0.329556</td>\n",
       "      <td>0.000000</td>\n",
       "      <td>0.000000</td>\n",
       "      <td>-0.108709</td>\n",
       "      <td>0</td>\n",
       "    </tr>\n",
       "    <tr>\n",
       "      <th>238171</th>\n",
       "      <td>-0.470755</td>\n",
       "      <td>-0.224667</td>\n",
       "      <td>-0.182424</td>\n",
       "      <td>-0.076139</td>\n",
       "      <td>-0.103844</td>\n",
       "      <td>-0.358148</td>\n",
       "      <td>0.090139</td>\n",
       "      <td>-0.296265</td>\n",
       "      <td>-0.391203</td>\n",
       "      <td>-0.472902</td>\n",
       "      <td>...</td>\n",
       "      <td>-0.188986</td>\n",
       "      <td>-0.084311</td>\n",
       "      <td>-0.347122</td>\n",
       "      <td>-0.155104</td>\n",
       "      <td>-0.359662</td>\n",
       "      <td>-0.329556</td>\n",
       "      <td>0.000000</td>\n",
       "      <td>0.000000</td>\n",
       "      <td>-0.108709</td>\n",
       "      <td>0</td>\n",
       "    </tr>\n",
       "    <tr>\n",
       "      <th>238172</th>\n",
       "      <td>1.306768</td>\n",
       "      <td>0.397277</td>\n",
       "      <td>0.250048</td>\n",
       "      <td>0.103108</td>\n",
       "      <td>0.027310</td>\n",
       "      <td>1.235779</td>\n",
       "      <td>-0.667739</td>\n",
       "      <td>0.473192</td>\n",
       "      <td>1.299253</td>\n",
       "      <td>2.110076</td>\n",
       "      <td>...</td>\n",
       "      <td>1.401983</td>\n",
       "      <td>-0.042888</td>\n",
       "      <td>0.140381</td>\n",
       "      <td>-0.151217</td>\n",
       "      <td>0.112527</td>\n",
       "      <td>0.161808</td>\n",
       "      <td>0.000000</td>\n",
       "      <td>0.000000</td>\n",
       "      <td>0.078207</td>\n",
       "      <td>0</td>\n",
       "    </tr>\n",
       "    <tr>\n",
       "      <th>238173</th>\n",
       "      <td>2.595673</td>\n",
       "      <td>-0.151497</td>\n",
       "      <td>-0.153593</td>\n",
       "      <td>-0.052197</td>\n",
       "      <td>-0.106948</td>\n",
       "      <td>0.159635</td>\n",
       "      <td>-0.667739</td>\n",
       "      <td>0.210357</td>\n",
       "      <td>0.542444</td>\n",
       "      <td>-0.585928</td>\n",
       "      <td>...</td>\n",
       "      <td>-0.185964</td>\n",
       "      <td>-0.079880</td>\n",
       "      <td>5.012289</td>\n",
       "      <td>-0.155104</td>\n",
       "      <td>4.828094</td>\n",
       "      <td>5.085161</td>\n",
       "      <td>0.000000</td>\n",
       "      <td>0.000000</td>\n",
       "      <td>0.213742</td>\n",
       "      <td>1</td>\n",
       "    </tr>\n",
       "  </tbody>\n",
       "</table>\n",
       "<p>238174 rows × 82 columns</p>\n",
       "</div>"
      ],
      "text/plain": [
       "        Flow Duration  Total Fwd Packet  Total Bwd packets  \\\n",
       "0           -0.427072          0.083957           0.035153   \n",
       "1           -0.439221         -0.091927          -0.084635   \n",
       "2           -0.285829         -0.003985          -0.030186   \n",
       "3           -0.442775         -0.091927          -0.106415   \n",
       "4           -0.442072         -0.104490          -0.095525   \n",
       "...               ...               ...                ...   \n",
       "238169      -0.470111         -0.261252          -0.211256   \n",
       "238170      -0.470072         -0.224667          -0.182424   \n",
       "238171      -0.470755         -0.224667          -0.182424   \n",
       "238172       1.306768          0.397277           0.250048   \n",
       "238173       2.595673         -0.151497          -0.153593   \n",
       "\n",
       "        Total Length of Fwd Packet  Total Length of Bwd Packet  \\\n",
       "0                         0.213919                   -0.018650   \n",
       "1                        -0.200094                   -0.044912   \n",
       "2                        -0.098883                   -0.029037   \n",
       "3                        -0.223189                   -0.046682   \n",
       "4                        -0.209604                   -0.046230   \n",
       "...                            ...                         ...   \n",
       "238169                   -0.075109                   -0.104528   \n",
       "238170                   -0.076139                   -0.100070   \n",
       "238171                   -0.076139                   -0.103844   \n",
       "238172                    0.103108                    0.027310   \n",
       "238173                   -0.052197                   -0.106948   \n",
       "\n",
       "        Fwd Packet Length Max  Fwd Packet Length Min  Fwd Packet Length Mean  \\\n",
       "0                    0.949417              -0.756996                0.212791   \n",
       "1                   -0.361287               0.220797               -0.230366   \n",
       "2                   -0.050904              -0.756996               -0.166746   \n",
       "3                   -0.421590              -0.756996               -0.554831   \n",
       "4                   -0.350645               0.393349               -0.173108   \n",
       "...                       ...                    ...                     ...   \n",
       "238169              -0.285106               1.155906                0.086895   \n",
       "238170              -0.358148               0.090139               -0.296265   \n",
       "238171              -0.358148               0.090139               -0.296265   \n",
       "238172               1.235779              -0.667739                0.473192   \n",
       "238173               0.159635              -0.667739                0.210357   \n",
       "\n",
       "        Fwd Packet Length Std  Bwd Packet Length Max  ...  Active Max  \\\n",
       "0                    0.768941               2.336552  ...   -0.191002   \n",
       "1                   -0.377832              -0.402934  ...   -0.191002   \n",
       "2                    0.058029               0.990878  ...   -0.064234   \n",
       "3                   -0.377832              -0.606426  ...   -0.191002   \n",
       "4                   -0.377832              -0.502492  ...   -0.191002   \n",
       "...                       ...                    ...  ...         ...   \n",
       "238169              -0.391203              -0.409740  ...   -0.188986   \n",
       "238170              -0.391203              -0.335498  ...   -0.188986   \n",
       "238171              -0.391203              -0.472902  ...   -0.188986   \n",
       "238172               1.299253               2.110076  ...    1.401983   \n",
       "238173               0.542444              -0.585928  ...   -0.185964   \n",
       "\n",
       "        Active Min  Idle Mean  Idle Std  Idle Max  Idle Min  ICMP Code  \\\n",
       "0        -0.103028  -0.344051 -0.113506 -0.347779 -0.328592  -0.013869   \n",
       "1        -0.103028  -0.344051 -0.113506 -0.347779 -0.328592  -0.013869   \n",
       "2         0.103824  -0.002053 -0.113506 -0.015790  0.018658  -0.013869   \n",
       "3        -0.103028  -0.344051 -0.113506 -0.347779 -0.328592  -0.013869   \n",
       "4        -0.103028  -0.344051 -0.113506 -0.347779 -0.328592  -0.013869   \n",
       "...            ...        ...       ...       ...       ...        ...   \n",
       "238169   -0.084311  -0.347122 -0.155104 -0.359662 -0.329556   0.000000   \n",
       "238170   -0.084311  -0.347122 -0.155104 -0.359662 -0.329556   0.000000   \n",
       "238171   -0.084311  -0.347122 -0.155104 -0.359662 -0.329556   0.000000   \n",
       "238172   -0.042888   0.140381 -0.151217  0.112527  0.161808   0.000000   \n",
       "238173   -0.079880   5.012289 -0.155104  4.828094  5.085161   0.000000   \n",
       "\n",
       "        ICMP Type  Total TCP Flow Time  Label  \n",
       "0       -0.013869            -0.084943      0  \n",
       "1       -0.013869            -0.086424      0  \n",
       "2       -0.013869            -0.071621      0  \n",
       "3       -0.013869            -0.086424      1  \n",
       "4       -0.013869            -0.086424      0  \n",
       "...           ...                  ...    ...  \n",
       "238169   0.000000            -0.108709      0  \n",
       "238170   0.000000            -0.108709      0  \n",
       "238171   0.000000            -0.108709      0  \n",
       "238172   0.000000             0.078207      0  \n",
       "238173   0.000000             0.213742      1  \n",
       "\n",
       "[238174 rows x 82 columns]"
      ]
     },
     "execution_count": 51,
     "metadata": {},
     "output_type": "execute_result"
    }
   ],
   "source": [
    "edge_area.local_model.lm_data"
   ]
  },
  {
   "cell_type": "code",
   "execution_count": 52,
   "metadata": {},
   "outputs": [
    {
     "data": {
      "text/plain": [
       "[{'Infiltration - Portscan': [(3, 0, 0),\n",
       "   (253, 0.9986401165614376, 0.9809782608695652)],\n",
       "  'Portscan': [(34, 0.9891209324915007, 0.8390804597701149),\n",
       "   (52, 0.9992229237493929, 0.9903846153846154),\n",
       "   (120, 0.9874696454589607, 0.8071748878923767),\n",
       "   (195, 0.9994171928120447, 0.9925),\n",
       "   (221, 0.9996114618746964, 0.9953917050691244),\n",
       "   (256, 0.9997085964060224, 0.9965156794425087),\n",
       "   (284, 0.9998057309373483, 0.9975186104218362),\n",
       "   (292, 0.9997085964060224, 0.9965317919075144)],\n",
       "  'FTP-Patator': [(53, 0.9628180039138943, 0.0),\n",
       "   (89, 0.962573385518591, 0.0),\n",
       "   (97, 0.9997553816046967, 0.9966777408637874),\n",
       "   (148, 0.9995999288762447, 0.994815668202765),\n",
       "   (186, 0.9982876712328768, 0.9767441860465116),\n",
       "   (196, 0.9997553816046967, 0.9964912280701754),\n",
       "   (249, 1.0, 1.0)],\n",
       "  'DDoS': [(61, 0.9994171928120447, 0.9928057553956835)],\n",
       "  'DoS Slowhttptest': [(111, 0.9847800720409924, 0.7487437185929648),\n",
       "   (272, 0.9955307262569832, 0.9354838709677419)],\n",
       "  'DoS Hulk': [(207, 0.9985429820301117, 0.9819927971188476)]},\n",
       " {'SSH-Patator': [(48, 0.9563648293963255, 0.0),\n",
       "   (123, 0.9864332995408194, 0.7955056179775281),\n",
       "   (138, 0.9619422572178478, 0.0),\n",
       "   (174, 0.9908136482939632, 0.8666666666666667)],\n",
       "  'DoS Slowloris': [(53, 0.9577039274924471, 0.0),\n",
       "   (61, 0.9919436052366566, 0.8888888888888888),\n",
       "   (137, 0.9906847935548841, 0.8847352024922118),\n",
       "   (175, 0.99269889224572, 0.8905660377358491),\n",
       "   (192, 0.9974823766364552, 0.9612403100775194),\n",
       "   (211, 0.9967270896273918, 0.953405017921147),\n",
       "   (218, 0.9944612286002014, 0.9261744966442953),\n",
       "   (233, 0.9972306143001007, 0.9614035087719298),\n",
       "   (259, 0.9957200402819738, 0.9427609427609428)],\n",
       "  'DoS Slowhttptest': [(73, 0.9731843575418995, 0.6363636363636364),\n",
       "   (177, 0.9854748603351955, 0.7547169811320755)],\n",
       "  'DDoS': [(115, 0.9960174842156386, 0.9517078916372202),\n",
       "   (120, 0.9988343856240893, 0.9847715736040609),\n",
       "   (182, 0.9997085964060224, 0.9963811821471653),\n",
       "   (189, 0.9970155843009139, 0.9620310042687037)],\n",
       "  'DoS GoldenEye': [(157, 0.9952503209242619, 0.9240246406570842)],\n",
       "  'DoS Hulk': [(206, 0.996600291403594, 0.9564134495641345),\n",
       "   (213, 0.9995143273433705, 0.9927431059506531),\n",
       "   (254, 0.9995143273433705, 0.99302649930265),\n",
       "   (271, 0.9992229237493929, 0.988950276243094)]},\n",
       " {'DDoS': [(18, 0.9567751335599806, 0.0),\n",
       "   (74, 0.9954346770276833, 0.9445100354191264),\n",
       "   (83, 0.996044324753874, 0.9503105590062112),\n",
       "   (118, 0.9988343856240893, 0.9839142091152815),\n",
       "   (160, 0.9988343856240893, 0.9855072463768116),\n",
       "   (185, 0.998251578436134, 0.9785202863961814)],\n",
       "  'Portscan': [(43, 0.9992229237493929, 0.9906976744186047), (229, 1.0, 1.0)],\n",
       "  'DoS Slowhttptest': [(53, 0.975977653631285, 0.6666666666666666),\n",
       "   (90, 0.9826815642458101, 0.6990291262135923),\n",
       "   (191, 0.9849162011173185, 0.7692307692307693)],\n",
       "  'SSH-Patator': [(54, 0.9576771653543307, 0.0),\n",
       "   (92, 0.9993438320209974, 0.9900990099009901),\n",
       "   (274, 0.9983595800524935, 0.9803921568627451)],\n",
       "  'DoS Slowloris': [(56, 0.9745720040281974, 0.5167464114832536),\n",
       "   (81, 0.9939577039274925, 0.9205298013245033),\n",
       "   (102, 0.9941200695524847, 0.9159306509649984),\n",
       "   (201, 0.9929506545820745, 0.9090909090909091),\n",
       "   (238, 0.9977341389728097, 0.9690721649484536)],\n",
       "  'Infiltration - Portscan': [(57, 0.9986401165614376, 0.9827160493827161)],\n",
       "  'FTP-Patator': [(120, 0.9997553816046967, 0.9966101694915255)],\n",
       "  'DoS GoldenEye': [(171, 0.9926829268292683, 0.8934579439252337),\n",
       "   (282, 0.9974326059050064, 0.9672131147540983)],\n",
       "  'DoS Hulk': [(187, 0.9988344885435522, 0.9844449681828895)]},\n",
       " {'Infiltration - Portscan': [(4, 0.9577464788732394, 0.0),\n",
       "   (27, 0.9981544439048081, 0.9752925877763329),\n",
       "   (28, 0.999125789218067, 0.9882044560943644),\n",
       "   (42, 0.9984636439892278, 0.9794956398774453),\n",
       "   (88, 0.9986401165614376, 0.9825870646766169),\n",
       "   (145, 0.9986401165614376, 0.9817708333333334),\n",
       "   (223, 0.9988343856240893, 0.9847328244274809),\n",
       "   (268, 0.9978630403108305, 0.969187675070028)],\n",
       "  'DoS Hulk': [(19, 0.9628946090335114, 0.16593886462882096),\n",
       "   (109, 0.9963088878096164, 0.9490616621983914),\n",
       "   (164, 0.999125789218067, 0.9882659713168188)],\n",
       "  'DoS Slowhttptest': [(29, 0.964245810055866, 0.0),\n",
       "   (184, 0.9888268156424581, 0.8461538461538461),\n",
       "   (276, 0.9826815642458101, 0.7703703703703704),\n",
       "   (293, 0.9905027932960894, 0.8)],\n",
       "  'DDoS': [(44, 0.9620203982515785, 0.14065934065934066),\n",
       "   (124, 0.9992229237493929, 0.9898734177215189),\n",
       "   (217, 0.9967945604662457, 0.9598051157125457)],\n",
       "  'Portscan': [(72, 0.9997085964060224, 0.9961389961389961)],\n",
       "  'SSH-Patator': [(82, 0.9612860892388452, 0.0),\n",
       "   (181, 0.9996719160104987, 0.9959839357429718),\n",
       "   (186, 0.9629265091863517, 0.0),\n",
       "   (190, 0.9973753280839895, 0.9692307692307692),\n",
       "   (204, 0.9986876640419947, 0.9827586206896551),\n",
       "   (294, 0.9993438320209974, 0.990990990990991)],\n",
       "  'FTP-Patator': [(191, 0.9946183953033269, 0.9276315789473685),\n",
       "   (201, 0.9990215264187867, 0.9863945578231292),\n",
       "   (252, 0.9997553816046967, 0.9966996699669967),\n",
       "   (260, 0.962573385518591, 0.0)]},\n",
       " {'DoS GoldenEye': [(14, 0.9605905006418485, 0.0),\n",
       "   (40, 0.9757381258023107, 0.4793388429752066),\n",
       "   (101, 0.9866495507060333, 0.7647058823529411),\n",
       "   (118, 0.9880616174582798, 0.8268156424581006),\n",
       "   (147, 0.9900357034513336, 0.853214162942592),\n",
       "   (158, 0.9931964056482671, 0.9075043630017452),\n",
       "   (181, 0.9951219512195122, 0.9309090909090909),\n",
       "   (205, 0.9911424903722721, 0.8710280373831776),\n",
       "   (222, 0.9966623876765084, 0.9548611111111112),\n",
       "   (241, 0.9951219512195122, 0.9260700389105059),\n",
       "   (247, 0.9983311938382542, 0.9750479846449136)],\n",
       "  'Portscan': [(72, 0.9891748708666284, 0.837098060058464)],\n",
       "  'DDoS': [(111, 0.9984458474987858, 0.9800995024875622),\n",
       "   (124, 0.9964060223409422, 0.9575200918484501)],\n",
       "  'DoS Hulk': [(137, 0.9981544439048081, 0.9758576874205845)]}]"
      ]
     },
     "execution_count": 52,
     "metadata": {},
     "output_type": "execute_result"
    }
   ],
   "source": [
    "data_list = []\n",
    "for i, edge_area in enumerate(edge_area_list):\n",
    "    data_list.append(edge_area.seen_attack_acc)\n",
    "data_list"
   ]
  },
  {
   "cell_type": "code",
   "execution_count": null,
   "metadata": {},
   "outputs": [],
   "source": []
  },
  {
   "cell_type": "code",
   "execution_count": 53,
   "metadata": {},
   "outputs": [],
   "source": [
    "attack_aggregates = {}\n",
    "for dataset in data_list:\n",
    "    for attack, values in dataset.items():\n",
    "        if attack not in attack_aggregates:\n",
    "            attack_aggregates[attack] = [values]\n",
    "        else:\n",
    "            attack_aggregates[attack].append(values)"
   ]
  },
  {
   "cell_type": "code",
   "execution_count": 54,
   "metadata": {},
   "outputs": [
    {
     "data": {
      "image/png": "[encoded data removed]",
      "text/plain": [
       "<Figure size 1400x800 with 1 Axes>"
      ]
     },
     "metadata": {},
     "output_type": "display_data"
    }
   ],
   "source": [
    "attack_avg_perfo = {}\n",
    "for attack, data in attack_aggregates.items():\n",
    "    if attack != \"Infiltration - Portscan\":\n",
    "        # continue\n",
    "        pass\n",
    "    data = attack_aggregates[attack]\n",
    "    # Step 1: Define the range for curr_t\n",
    "    all_t_values = [t for sublist in data for t, _, _ in sublist]\n",
    "    all_t_values.sort()\n",
    "    min_t, max_t = min(all_t_values), max(all_t_values)\n",
    "\n",
    "    # Step 2: Compute the average for each curr_t\n",
    "    averaged_results = []\n",
    "\n",
    "    # for curr_t in all_t_values:\n",
    "    for curr_t in range(min_t,max_t):\n",
    "        selected_values = []\n",
    "        \n",
    "        for sublist in data:\n",
    "            if curr_t < sublist[0][0]:\n",
    "                continue\n",
    "            # Find the largest t <= curr_t in the current sublist\n",
    "            valid_values = [item for item in sublist if item[0] >= curr_t]\n",
    "            if valid_values:\n",
    "                selected_values.append(valid_values[0])  # Use the last valid (largest t <= curr_t)\n",
    "        \n",
    "        if selected_values:\n",
    "            # Average the selected accuracy and F1 scores\n",
    "            avg_acc = np.mean([item[1] for item in selected_values])\n",
    "            avg_f1 = np.mean([item[2] for item in selected_values])\n",
    "            num_of_area = len(selected_values)\n",
    "            averaged_results.append((curr_t, avg_acc, avg_f1, num_of_area))\n",
    "\n",
    "    attack_avg_perfo[attack] = averaged_results\n",
    "\n",
    "# Plot the averaged results for each attack\n",
    "def plot_attack_performance(attack_avg_perfo):\n",
    "    plt.figure(figsize=(14, 8))\n",
    "    \n",
    "    # Iterate through each attack\n",
    "    for attack, performance in attack_avg_perfo.items():\n",
    "        # plt.figure(figsize=(14, 8))\n",
    "        # Extract data for plotting\n",
    "        times = [item[0] for item in performance]\n",
    "        # times = [i for i,item in enumerate(performance)]\n",
    "        avg_accs = [item[1] for item in performance]\n",
    "        avg_f1s = [item[2] for item in performance]\n",
    "        num_areas = [item[3] for item in performance]\n",
    "        \n",
    "        # Plot accuracy\n",
    "        # plt.plot(times, avg_accs, marker='o', label=f\"{attack} - Accuracy\")\n",
    "        \n",
    "        # Plot F1 score\n",
    "        plt.plot(times, avg_f1s, marker='x', linestyle='--', label=f\"{attack} - F1 Score\")\n",
    "        # plt.plot(times, avg_accs, marker='x', linestyle='--', label=f\"{attack} - Accuracy\")\n",
    "        \n",
    "    # Customize plot\n",
    "    plt.xlabel(\"Time Step (curr_t)\")\n",
    "    plt.ylabel(\"Performance Metrics\")\n",
    "    plt.title(\"Attack Performance Over Time\")\n",
    "    plt.legend(loc=\"upper left\", bbox_to_anchor=(1.05, 1))\n",
    "    plt.grid(alpha=0.5)\n",
    "    plt.tight_layout()\n",
    "    plt.show()\n",
    "\n",
    "# Call the function to plot\n",
    "plot_attack_performance(attack_avg_perfo)\n"
   ]
  },
  {
   "cell_type": "code",
   "execution_count": null,
   "metadata": {},
   "outputs": [
    {
     "ename": "NameError",
     "evalue": "name 'performance' is not defined",
     "output_type": "error",
     "traceback": [
      "\u001b[0;31m---------------------------------------------------------------------------\u001b[0m",
      "\u001b[0;31mNameError\u001b[0m                                 Traceback (most recent call last)",
      "Cell \u001b[0;32mIn[27], line 1\u001b[0m\n\u001b[0;32m----> 1\u001b[0m performance\n",
      "\u001b[0;31mNameError\u001b[0m: name 'performance' is not defined"
     ]
    }
   ],
   "source": [
    "performance"
   ]
  },
  {
   "cell_type": "markdown",
   "metadata": {},
   "source": [
    "### Epochs Comparison"
   ]
  },
  {
   "cell_type": "code",
   "execution_count": null,
   "metadata": {},
   "outputs": [
    {
     "name": "stdout",
     "output_type": "stream",
     "text": [
      "Start Training...\n",
      "ensemble size: 1\n"
     ]
    },
    {
     "ename": "KeyboardInterrupt",
     "evalue": "",
     "output_type": "error",
     "traceback": [
      "\u001b[0;31m---------------------------------------------------------------------------\u001b[0m",
      "\u001b[0;31mKeyboardInterrupt\u001b[0m                         Traceback (most recent call last)",
      "Cell \u001b[0;32mIn[18], line 9\u001b[0m\n\u001b[1;32m      6\u001b[0m \u001b[39mfor\u001b[39;00m epochs \u001b[39min\u001b[39;00m np\u001b[39m.\u001b[39marange(\u001b[39m1\u001b[39m, \u001b[39m10\u001b[39m, \u001b[39m2\u001b[39m):\n\u001b[1;32m      7\u001b[0m     \u001b[39m# Initialize and train the model\u001b[39;00m\n\u001b[1;32m      8\u001b[0m     clf \u001b[39m=\u001b[39m PReNet(device\u001b[39m=\u001b[39m\u001b[39m'\u001b[39m\u001b[39mcuda\u001b[39m\u001b[39m'\u001b[39m, verbose\u001b[39m=\u001b[39m\u001b[39m1\u001b[39m, epochs\u001b[39m=\u001b[39mepochs)\n\u001b[0;32m----> 9\u001b[0m     clf\u001b[39m.\u001b[39;49mfit(X_gm_train\u001b[39m.\u001b[39;49mto_numpy(), y\u001b[39m=\u001b[39;49my_gm_train)\n\u001b[1;32m     11\u001b[0m     \u001b[39m# Predict on the training data\u001b[39;00m\n\u001b[1;32m     12\u001b[0m     y_pred \u001b[39m=\u001b[39m clf\u001b[39m.\u001b[39mpredict(X_gm_test\u001b[39m.\u001b[39mto_numpy())\n",
      "File \u001b[0;32m~/.local/lib/python3.8/site-packages/deepod/core/base_model.py:185\u001b[0m, in \u001b[0;36mBaseDeepAD.fit\u001b[0;34m(self, X, y)\u001b[0m\n\u001b[1;32m    182\u001b[0m \u001b[39mfor\u001b[39;00m _ \u001b[39min\u001b[39;00m \u001b[39mrange\u001b[39m(\u001b[39mself\u001b[39m\u001b[39m.\u001b[39mn_ensemble):\n\u001b[1;32m    183\u001b[0m     \u001b[39mself\u001b[39m\u001b[39m.\u001b[39mtrain_loader, \u001b[39mself\u001b[39m\u001b[39m.\u001b[39mnet, \u001b[39mself\u001b[39m\u001b[39m.\u001b[39mcriterion \u001b[39m=\u001b[39m \u001b[39mself\u001b[39m\u001b[39m.\u001b[39mtraining_prepare(\u001b[39mself\u001b[39m\u001b[39m.\u001b[39mtrain_data,\n\u001b[1;32m    184\u001b[0m                                                                         y\u001b[39m=\u001b[39m\u001b[39mself\u001b[39m\u001b[39m.\u001b[39mtrain_label)\n\u001b[0;32m--> 185\u001b[0m     \u001b[39mself\u001b[39;49m\u001b[39m.\u001b[39;49m_training()\n\u001b[1;32m    187\u001b[0m \u001b[39mif\u001b[39;00m \u001b[39mself\u001b[39m\u001b[39m.\u001b[39mverbose \u001b[39m>\u001b[39m\u001b[39m=\u001b[39m \u001b[39m1\u001b[39m:\n\u001b[1;32m    188\u001b[0m     \u001b[39mprint\u001b[39m(\u001b[39m'\u001b[39m\u001b[39mStart Inference on the training data...\u001b[39m\u001b[39m'\u001b[39m)\n",
      "File \u001b[0;32m~/.local/lib/python3.8/site-packages/deepod/core/base_model.py:336\u001b[0m, in \u001b[0;36mBaseDeepAD._training\u001b[0;34m(self)\u001b[0m\n\u001b[1;32m    334\u001b[0m total_loss \u001b[39m=\u001b[39m \u001b[39m0\u001b[39m\n\u001b[1;32m    335\u001b[0m cnt \u001b[39m=\u001b[39m \u001b[39m0\u001b[39m\n\u001b[0;32m--> 336\u001b[0m \u001b[39mfor\u001b[39;00m batch_x \u001b[39min\u001b[39;00m \u001b[39mself\u001b[39m\u001b[39m.\u001b[39mtrain_loader:\n\u001b[1;32m    337\u001b[0m     loss \u001b[39m=\u001b[39m \u001b[39mself\u001b[39m\u001b[39m.\u001b[39mtraining_forward(batch_x, \u001b[39mself\u001b[39m\u001b[39m.\u001b[39mnet, \u001b[39mself\u001b[39m\u001b[39m.\u001b[39mcriterion)\n\u001b[1;32m    338\u001b[0m     \u001b[39mself\u001b[39m\u001b[39m.\u001b[39mnet\u001b[39m.\u001b[39mzero_grad()\n",
      "File \u001b[0;32m~/.local/lib/python3.8/site-packages/deepod/models/tabular/prenet.py:177\u001b[0m, in \u001b[0;36mPReNetLoader.__next__\u001b[0;34m(self)\u001b[0m\n\u001b[1;32m    175\u001b[0m \u001b[39mdef\u001b[39;00m \u001b[39m__next__\u001b[39m(\u001b[39mself\u001b[39m):\n\u001b[1;32m    176\u001b[0m     \u001b[39mself\u001b[39m\u001b[39m.\u001b[39mcounter \u001b[39m+\u001b[39m\u001b[39m=\u001b[39m \u001b[39m1\u001b[39m\n\u001b[0;32m--> 177\u001b[0m     x1, x2, y \u001b[39m=\u001b[39m \u001b[39mself\u001b[39;49m\u001b[39m.\u001b[39;49mbatch_generation()\n\u001b[1;32m    178\u001b[0m     x1, x2, y \u001b[39m=\u001b[39m torch\u001b[39m.\u001b[39mfrom_numpy(x1), torch\u001b[39m.\u001b[39mfrom_numpy(x2), torch\u001b[39m.\u001b[39mfrom_numpy(y)\n\u001b[1;32m    180\u001b[0m     \u001b[39mif\u001b[39;00m \u001b[39mself\u001b[39m\u001b[39m.\u001b[39mcounter \u001b[39m>\u001b[39m \u001b[39mself\u001b[39m\u001b[39m.\u001b[39msteps_per_epoch:\n",
      "File \u001b[0;32m~/.local/lib/python3.8/site-packages/deepod/models/tabular/prenet.py:195\u001b[0m, in \u001b[0;36mPReNetLoader.batch_generation\u001b[0;34m(self)\u001b[0m\n\u001b[1;32m    193\u001b[0m \u001b[39mfor\u001b[39;00m i \u001b[39min\u001b[39;00m \u001b[39mrange\u001b[39m(\u001b[39mself\u001b[39m\u001b[39m.\u001b[39mbatch_size):\n\u001b[1;32m    194\u001b[0m     \u001b[39mif\u001b[39;00m i \u001b[39m%\u001b[39m \u001b[39m4\u001b[39m \u001b[39m==\u001b[39m \u001b[39m0\u001b[39m \u001b[39mor\u001b[39;00m i \u001b[39m%\u001b[39m \u001b[39m4\u001b[39m \u001b[39m==\u001b[39m \u001b[39m1\u001b[39m:\n\u001b[0;32m--> 195\u001b[0m         sid \u001b[39m=\u001b[39m np\u001b[39m.\u001b[39;49mrandom\u001b[39m.\u001b[39;49mchoice(\u001b[39mself\u001b[39;49m\u001b[39m.\u001b[39;49munlabeled_id, \u001b[39m2\u001b[39;49m, replace\u001b[39m=\u001b[39;49m\u001b[39mFalse\u001b[39;49;00m)\n\u001b[1;32m    196\u001b[0m         batch_x1\u001b[39m.\u001b[39mappend(\u001b[39mself\u001b[39m\u001b[39m.\u001b[39mX[sid[\u001b[39m0\u001b[39m]])\n\u001b[1;32m    197\u001b[0m         batch_x2\u001b[39m.\u001b[39mappend(\u001b[39mself\u001b[39m\u001b[39m.\u001b[39mX[sid[\u001b[39m1\u001b[39m]])\n",
      "\u001b[0;31mKeyboardInterrupt\u001b[0m: "
     ]
    }
   ],
   "source": [
    "from sklearn.metrics import accuracy_score, f1_score\n",
    "\n",
    "acc_list = []\n",
    "f1_list = []\n",
    "\n",
    "for epochs in np.arange(1, 10, 2):\n",
    "    # Initialize and train the model\n",
    "    clf = PReNet(device='cuda', verbose=1, epochs=epochs)\n",
    "    clf.fit(X_gm_train.to_numpy(), y=y_gm_train)\n",
    "    \n",
    "    # Predict on the training data\n",
    "    y_pred = clf.predict(X_gm_test.to_numpy())\n",
    "    \n",
    "    # Calculate metrics\n",
    "    acc = accuracy_score(y_gm_test, y_pred)\n",
    "    f1 = f1_score(y_gm_test, y_pred, average='binary')  # Use 'binary' or 'weighted' based on your label type\n",
    "    \n",
    "    # Store the results\n",
    "    acc_list.append((epochs, acc))\n",
    "    f1_list.append((epochs, f1))\n",
    "    \n",
    "    print(f\"Epochs: {epochs}, Accuracy: {acc:.4f}, F1 Score: {f1:.4f}\")\n"
   ]
  },
  {
   "cell_type": "markdown",
   "metadata": {},
   "source": [
    "### Entire Data Accuracy"
   ]
  },
  {
   "cell_type": "code",
   "execution_count": 52,
   "metadata": {},
   "outputs": [
    {
     "name": "stdout",
     "output_type": "stream",
     "text": [
      "Start Training...\n",
      "ensemble size: 1\n"
     ]
    },
    {
     "ename": "KeyboardInterrupt",
     "evalue": "",
     "output_type": "error",
     "traceback": [
      "\u001b[0;31m---------------------------------------------------------------------------\u001b[0m",
      "\u001b[0;31mKeyboardInterrupt\u001b[0m                         Traceback (most recent call last)",
      "Cell \u001b[0;32mIn[52], line 8\u001b[0m\n\u001b[1;32m      6\u001b[0m \u001b[39m# # Initialize and train the model\u001b[39;00m\n\u001b[1;32m      7\u001b[0m clf \u001b[39m=\u001b[39m PReNet(device\u001b[39m=\u001b[39m\u001b[39m'\u001b[39m\u001b[39mcuda\u001b[39m\u001b[39m'\u001b[39m, verbose\u001b[39m=\u001b[39m\u001b[39m1\u001b[39m, epochs\u001b[39m=\u001b[39m\u001b[39m1\u001b[39m, batch_size\u001b[39m=\u001b[39m\u001b[39m64\u001b[39m)\n\u001b[0;32m----> 8\u001b[0m clf\u001b[39m.\u001b[39;49mfit(X_gm_train\u001b[39m.\u001b[39;49mto_numpy(), y\u001b[39m=\u001b[39;49my_gm_train\u001b[39m.\u001b[39;49mvalues)\n",
      "File \u001b[0;32m~/anaconda3/envs/network_anomaly/lib/python3.10/site-packages/deepod/core/base_model.py:185\u001b[0m, in \u001b[0;36mBaseDeepAD.fit\u001b[0;34m(self, X, y)\u001b[0m\n\u001b[1;32m    182\u001b[0m \u001b[39mfor\u001b[39;00m _ \u001b[39min\u001b[39;00m \u001b[39mrange\u001b[39m(\u001b[39mself\u001b[39m\u001b[39m.\u001b[39mn_ensemble):\n\u001b[1;32m    183\u001b[0m     \u001b[39mself\u001b[39m\u001b[39m.\u001b[39mtrain_loader, \u001b[39mself\u001b[39m\u001b[39m.\u001b[39mnet, \u001b[39mself\u001b[39m\u001b[39m.\u001b[39mcriterion \u001b[39m=\u001b[39m \u001b[39mself\u001b[39m\u001b[39m.\u001b[39mtraining_prepare(\u001b[39mself\u001b[39m\u001b[39m.\u001b[39mtrain_data,\n\u001b[1;32m    184\u001b[0m                                                                         y\u001b[39m=\u001b[39m\u001b[39mself\u001b[39m\u001b[39m.\u001b[39mtrain_label)\n\u001b[0;32m--> 185\u001b[0m     \u001b[39mself\u001b[39;49m\u001b[39m.\u001b[39;49m_training()\n\u001b[1;32m    187\u001b[0m \u001b[39mif\u001b[39;00m \u001b[39mself\u001b[39m\u001b[39m.\u001b[39mverbose \u001b[39m>\u001b[39m\u001b[39m=\u001b[39m \u001b[39m1\u001b[39m:\n\u001b[1;32m    188\u001b[0m     \u001b[39mprint\u001b[39m(\u001b[39m'\u001b[39m\u001b[39mStart Inference on the training data...\u001b[39m\u001b[39m'\u001b[39m)\n",
      "File \u001b[0;32m~/anaconda3/envs/network_anomaly/lib/python3.10/site-packages/deepod/core/base_model.py:336\u001b[0m, in \u001b[0;36mBaseDeepAD._training\u001b[0;34m(self)\u001b[0m\n\u001b[1;32m    334\u001b[0m total_loss \u001b[39m=\u001b[39m \u001b[39m0\u001b[39m\n\u001b[1;32m    335\u001b[0m cnt \u001b[39m=\u001b[39m \u001b[39m0\u001b[39m\n\u001b[0;32m--> 336\u001b[0m \u001b[39mfor\u001b[39;00m batch_x \u001b[39min\u001b[39;00m \u001b[39mself\u001b[39m\u001b[39m.\u001b[39mtrain_loader:\n\u001b[1;32m    337\u001b[0m     loss \u001b[39m=\u001b[39m \u001b[39mself\u001b[39m\u001b[39m.\u001b[39mtraining_forward(batch_x, \u001b[39mself\u001b[39m\u001b[39m.\u001b[39mnet, \u001b[39mself\u001b[39m\u001b[39m.\u001b[39mcriterion)\n\u001b[1;32m    338\u001b[0m     \u001b[39mself\u001b[39m\u001b[39m.\u001b[39mnet\u001b[39m.\u001b[39mzero_grad()\n",
      "File \u001b[0;32m~/anaconda3/envs/network_anomaly/lib/python3.10/site-packages/deepod/models/tabular/prenet.py:177\u001b[0m, in \u001b[0;36mPReNetLoader.__next__\u001b[0;34m(self)\u001b[0m\n\u001b[1;32m    175\u001b[0m \u001b[39mdef\u001b[39;00m\u001b[39m \u001b[39m\u001b[39m__next__\u001b[39m(\u001b[39mself\u001b[39m):\n\u001b[1;32m    176\u001b[0m     \u001b[39mself\u001b[39m\u001b[39m.\u001b[39mcounter \u001b[39m+\u001b[39m\u001b[39m=\u001b[39m \u001b[39m1\u001b[39m\n\u001b[0;32m--> 177\u001b[0m     x1, x2, y \u001b[39m=\u001b[39m \u001b[39mself\u001b[39;49m\u001b[39m.\u001b[39;49mbatch_generation()\n\u001b[1;32m    178\u001b[0m     x1, x2, y \u001b[39m=\u001b[39m torch\u001b[39m.\u001b[39mfrom_numpy(x1), torch\u001b[39m.\u001b[39mfrom_numpy(x2), torch\u001b[39m.\u001b[39mfrom_numpy(y)\n\u001b[1;32m    180\u001b[0m     \u001b[39mif\u001b[39;00m \u001b[39mself\u001b[39m\u001b[39m.\u001b[39mcounter \u001b[39m>\u001b[39m \u001b[39mself\u001b[39m\u001b[39m.\u001b[39msteps_per_epoch:\n",
      "File \u001b[0;32m~/anaconda3/envs/network_anomaly/lib/python3.10/site-packages/deepod/models/tabular/prenet.py:195\u001b[0m, in \u001b[0;36mPReNetLoader.batch_generation\u001b[0;34m(self)\u001b[0m\n\u001b[1;32m    193\u001b[0m \u001b[39mfor\u001b[39;00m i \u001b[39min\u001b[39;00m \u001b[39mrange\u001b[39m(\u001b[39mself\u001b[39m\u001b[39m.\u001b[39mbatch_size):\n\u001b[1;32m    194\u001b[0m     \u001b[39mif\u001b[39;00m i \u001b[39m%\u001b[39m \u001b[39m4\u001b[39m \u001b[39m==\u001b[39m \u001b[39m0\u001b[39m \u001b[39mor\u001b[39;00m i \u001b[39m%\u001b[39m \u001b[39m4\u001b[39m \u001b[39m==\u001b[39m \u001b[39m1\u001b[39m:\n\u001b[0;32m--> 195\u001b[0m         sid \u001b[39m=\u001b[39m np\u001b[39m.\u001b[39;49mrandom\u001b[39m.\u001b[39;49mchoice(\u001b[39mself\u001b[39;49m\u001b[39m.\u001b[39;49munlabeled_id, \u001b[39m2\u001b[39;49m, replace\u001b[39m=\u001b[39;49m\u001b[39mFalse\u001b[39;49;00m)\n\u001b[1;32m    196\u001b[0m         batch_x1\u001b[39m.\u001b[39mappend(\u001b[39mself\u001b[39m\u001b[39m.\u001b[39mX[sid[\u001b[39m0\u001b[39m]])\n\u001b[1;32m    197\u001b[0m         batch_x2\u001b[39m.\u001b[39mappend(\u001b[39mself\u001b[39m\u001b[39m.\u001b[39mX[sid[\u001b[39m1\u001b[39m]])\n",
      "\u001b[0;31mKeyboardInterrupt\u001b[0m: "
     ]
    }
   ],
   "source": [
    "from sklearn.metrics import accuracy_score, f1_score\n",
    "\n",
    "acc_list = []\n",
    "f1_list = []\n",
    "X_gm_train, X_gm_test, y_gm_train, y_gm_test = preprocess_data(cicids_df)\n",
    "# # Initialize and train the model\n",
    "clf = PReNet(device='cuda', verbose=1, epochs=1, batch_size=64)\n",
    "clf.fit(X_gm_train.to_numpy(), y=y_gm_train.values)\n",
    "\n"
   ]
  },
  {
   "cell_type": "code",
   "execution_count": null,
   "metadata": {},
   "outputs": [
    {
     "name": "stdout",
     "output_type": "stream",
     "text": [
      "0.9857167712510247 0.923649259942822\n"
     ]
    }
   ],
   "source": [
    "y_pred = clf.predict(X_gm_test.to_numpy())\n",
    "\n",
    "# Calculate metrics\n",
    "acc = accuracy_score(y_gm_test, y_pred)\n",
    "f1 = f1_score(y_gm_test, y_pred, average='binary')  # Use 'binary' or 'weighted' based on your label type\n",
    "print(acc, f1)\n"
   ]
  },
  {
   "cell_type": "markdown",
   "metadata": {},
   "source": [
    "### Individual Attack Accuracy"
   ]
  },
  {
   "cell_type": "code",
   "execution_count": null,
   "metadata": {},
   "outputs": [],
   "source": [
    "clf = global_model.clf"
   ]
  },
  {
   "cell_type": "code",
   "execution_count": null,
   "metadata": {},
   "outputs": [
    {
     "name": "stdout",
     "output_type": "stream",
     "text": [
      "__Portscan__\n",
      "0.9528439759592324 0.7937964649697209\n",
      "__DoS Hulk__\n",
      "0.9821739403510031 0.9107028484746335\n",
      "__DDoS__\n",
      "0.9823961850290839 0.9117089379916271\n",
      "__Infiltration - Portscan__\n",
      "0.9344951982636446 0.6923882437809787\n",
      "__DoS GoldenEye__\n",
      "0.9887666527410296 0.9406280667320903\n",
      "__FTP-Patator__\n",
      "0.8738023542294004 0.16636528028933092\n",
      "__DoS Slowloris__\n",
      "0.9545066008167917 0.7909209951986033\n",
      "__SSH-Patator__\n",
      "0.8323497531012887 0.004291845493562232\n",
      "__DoS Slowhttptest__\n",
      "0.9651560926485397 0.8322017458777885\n"
     ]
    }
   ],
   "source": [
    "atk_info_list = define_atk(atk_list, edge_area_list, cicids_df, benign_df)\n",
    "atk_acc = {}\n",
    "atk_f1 = {}\n",
    "atk_scores = {}\n",
    "for attack in atk_info_list.values():\n",
    "    print(f\"__{attack.name}__\")\n",
    "    _, X_test, _, y_test = preprocess_data(attack.data.copy())\n",
    "    y_pred = clf.predict(X_test.to_numpy())\n",
    "\n",
    "    # Calculate metrics\n",
    "    acc = accuracy_score(y_test, y_pred)\n",
    "    f1 = f1_score(y_test, y_pred, average='binary')  # Use 'binary' or 'weighted' based on your label type    \n",
    "    atk_acc[attack.name] = acc\n",
    "    atk_f1[attack.name]=f1\n",
    "    print(acc, f1)\n",
    "    \n",
    "    anomaly_scores = clf.decision_function(X_gm_test.to_numpy())\n",
    "    atk_scores[attack.name] = anomaly_scores\n",
    "    \n",
    "    \n",
    "    "
   ]
  },
  {
   "cell_type": "code",
   "execution_count": null,
   "metadata": {},
   "outputs": [
    {
     "data": {
      "image/png": "[encoded data removed]",
      "text/plain": [
       "<Figure size 1200x600 with 1 Axes>"
      ]
     },
     "metadata": {},
     "output_type": "display_data"
    },
    {
     "data": {
      "image/png": "[encoded data removed]",
      "text/plain": [
       "<Figure size 1200x600 with 1 Axes>"
      ]
     },
     "metadata": {},
     "output_type": "display_data"
    }
   ],
   "source": [
    "import matplotlib.pyplot as plt\n",
    "\n",
    "# Plot Accuracy and F1 Score for each attack\n",
    "def plot_metrics(atk_acc, atk_f1):\n",
    "    attack_names = list(atk_acc.keys())\n",
    "    accuracies = list(atk_acc.values())\n",
    "    f1_scores = list(atk_f1.values())\n",
    "\n",
    "    x = range(len(attack_names))\n",
    "\n",
    "    plt.figure(figsize=(12, 6))\n",
    "    plt.bar(x, accuracies, width=0.4, label=\"Accuracy\", align='center', alpha=0.8)\n",
    "    plt.bar(x, f1_scores, width=0.4, label=\"F1 Score\", align='edge', alpha=0.8)\n",
    "\n",
    "    plt.xticks(x, attack_names, rotation=45)\n",
    "    plt.ylabel(\"Score\")\n",
    "    plt.title(\"Accuracy and F1 Score per Attack\")\n",
    "    plt.legend()\n",
    "    plt.grid(axis='y', linestyle='--', alpha=0.7)\n",
    "    plt.tight_layout()\n",
    "    plt.show()\n",
    "\n",
    "# Plot anomaly scores for each attack\n",
    "def plot_anomaly_scores(atk_scores):\n",
    "    plt.figure(figsize=(12, 6))\n",
    "\n",
    "    for attack, scores in atk_scores.items():\n",
    "        plt.hist(scores, bins=50, alpha=0.5, label=f\"{attack}\")\n",
    "\n",
    "    plt.xlabel(\"Anomaly Score\")\n",
    "    plt.ylabel(\"Frequency\")\n",
    "    plt.title(\"Anomaly Scores Distribution per Attack\")\n",
    "    plt.legend()\n",
    "    plt.grid(axis='y', linestyle='--', alpha=0.7)\n",
    "    plt.tight_layout()\n",
    "    plt.show()\n",
    "\n",
    "# Call the functions\n",
    "plot_metrics(atk_acc, atk_f1)\n",
    "plot_anomaly_scores(atk_scores)\n"
   ]
  },
  {
   "cell_type": "markdown",
   "metadata": {},
   "source": []
  },
  {
   "cell_type": "code",
   "execution_count": null,
   "metadata": {},
   "outputs": [
    {
     "data": {
      "text/plain": [
       "<Figure size 1000x600 with 0 Axes>"
      ]
     },
     "execution_count": 30,
     "metadata": {},
     "output_type": "execute_result"
    },
    {
     "data": {
      "text/plain": [
       "(array([1.000e+00, 0.000e+00, 0.000e+00, 7.000e+00, 4.000e+00, 2.400e+01,\n",
       "        1.900e+01, 4.900e+01, 1.830e+02, 1.010e+02, 6.630e+02, 2.290e+02,\n",
       "        1.590e+03, 1.729e+03, 2.041e+03, 4.953e+03, 1.292e+03, 7.192e+03,\n",
       "        2.695e+03, 5.684e+03, 4.922e+03, 1.984e+03, 3.829e+03, 8.820e+02,\n",
       "        1.753e+03, 7.460e+02, 5.080e+02, 4.460e+02, 3.260e+02, 2.460e+02,\n",
       "        2.260e+02, 1.930e+02, 1.160e+02, 1.110e+02, 7.100e+01, 4.200e+01,\n",
       "        2.300e+01, 1.100e+01, 9.000e+00, 2.000e+00, 2.000e+00, 2.000e+00,\n",
       "        1.000e+00, 0.000e+00, 0.000e+00, 1.000e+00, 1.000e+00, 0.000e+00,\n",
       "        0.000e+00, 0.000e+00, 0.000e+00, 2.000e+00, 1.000e+00, 2.000e+00,\n",
       "        0.000e+00, 2.000e+00, 1.000e+00, 2.000e+00, 2.000e+00, 1.000e+00,\n",
       "        0.000e+00, 1.000e+00, 0.000e+00, 1.000e+00, 0.000e+00, 0.000e+00,\n",
       "        0.000e+00, 0.000e+00, 1.000e+00, 1.000e+00, 0.000e+00, 0.000e+00,\n",
       "        0.000e+00, 0.000e+00, 0.000e+00, 0.000e+00, 0.000e+00, 3.000e+00,\n",
       "        5.000e+00, 9.000e+00, 1.100e+01, 3.000e+01, 3.000e+01, 4.900e+01,\n",
       "        6.000e+01, 8.200e+01, 9.200e+01, 9.900e+01, 8.100e+01, 1.030e+02,\n",
       "        6.900e+01, 8.500e+01, 5.100e+01, 2.200e+01, 1.900e+01, 1.500e+01,\n",
       "        5.000e+00, 3.000e+00, 2.000e+00, 1.000e+00]),\n",
       " array([0.69343728, 0.75250851, 0.81157974, 0.87065097, 0.92972219,\n",
       "        0.98879342, 1.04786465, 1.10693588, 1.16600711, 1.22507834,\n",
       "        1.28414957, 1.3432208 , 1.40229203, 1.46136326, 1.52043449,\n",
       "        1.57950571, 1.63857694, 1.69764817, 1.7567194 , 1.81579063,\n",
       "        1.87486186, 1.93393309, 1.99300432, 2.05207555, 2.11114678,\n",
       "        2.17021801, 2.22928923, 2.28836046, 2.34743169, 2.40650292,\n",
       "        2.46557415, 2.52464538, 2.58371661, 2.64278784, 2.70185907,\n",
       "        2.7609303 , 2.82000153, 2.87907275, 2.93814398, 2.99721521,\n",
       "        3.05628644, 3.11535767, 3.1744289 , 3.23350013, 3.29257136,\n",
       "        3.35164259, 3.41071382, 3.46978505, 3.52885628, 3.5879275 ,\n",
       "        3.64699873, 3.70606996, 3.76514119, 3.82421242, 3.88328365,\n",
       "        3.94235488, 4.00142611, 4.06049734, 4.11956857, 4.1786398 ,\n",
       "        4.23771102, 4.29678225, 4.35585348, 4.41492471, 4.47399594,\n",
       "        4.53306717, 4.5921384 , 4.65120963, 4.71028086, 4.76935209,\n",
       "        4.82842332, 4.88749454, 4.94656577, 5.005637  , 5.06470823,\n",
       "        5.12377946, 5.18285069, 5.24192192, 5.30099315, 5.36006438,\n",
       "        5.41913561, 5.47820684, 5.53727806, 5.59634929, 5.65542052,\n",
       "        5.71449175, 5.77356298, 5.83263421, 5.89170544, 5.95077667,\n",
       "        6.0098479 , 6.06891913, 6.12799036, 6.18706158, 6.24613281,\n",
       "        6.30520404, 6.36427527, 6.4233465 , 6.48241773, 6.54148896,\n",
       "        6.60056019]),\n",
       " <BarContainer object of 100 artists>)"
      ]
     },
     "execution_count": 30,
     "metadata": {},
     "output_type": "execute_result"
    },
    {
     "data": {
      "text/plain": [
       "(array([  1.,   2.,   0.,  12.,   3.,  20.,  26.,  29.,  50.,  19.,  85.,\n",
       "         22.,  83.,  34.,  68.,  47.,  35.,  49.,  36.,  26.,  25.,  27.,\n",
       "         31.,  30.,  22.,  21.,  16.,  21.,   6.,   2.,   2.,   0.,   2.,\n",
       "          0.,   0.,   0.,   0.,   0.,   0.,   0.,   0.,   0.,   0.,   0.,\n",
       "          1.,   0.,   0.,   1.,   0.,   1.,   1.,   0.,   0.,   0.,   0.,\n",
       "          0.,   0.,   0.,   0.,   0.,   0.,   0.,   0.,   0.,   0.,   1.,\n",
       "          0.,   0.,   1.,   0.,   0.,   1.,   6.,  13.,  17.,  37.,  70.,\n",
       "        102., 119., 186., 212., 294., 346., 388., 374., 377., 302., 258.,\n",
       "        208., 131.,  98.,  57.,  23.,  11.,   8.,   5.,   1.,   0.,   0.,\n",
       "          2.]),\n",
       " array([1.12100303, 1.17780782, 1.23461261, 1.29141739, 1.34822218,\n",
       "        1.40502697, 1.46183175, 1.51863654, 1.57544133, 1.63224611,\n",
       "        1.6890509 , 1.74585569, 1.80266047, 1.85946526, 1.91627005,\n",
       "        1.97307484, 2.02987962, 2.08668441, 2.1434892 , 2.20029398,\n",
       "        2.25709877, 2.31390356, 2.37070834, 2.42751313, 2.48431792,\n",
       "        2.5411227 , 2.59792749, 2.65473228, 2.71153707, 2.76834185,\n",
       "        2.82514664, 2.88195143, 2.93875621, 2.995561  , 3.05236579,\n",
       "        3.10917057, 3.16597536, 3.22278015, 3.27958493, 3.33638972,\n",
       "        3.39319451, 3.4499993 , 3.50680408, 3.56360887, 3.62041366,\n",
       "        3.67721844, 3.73402323, 3.79082802, 3.8476328 , 3.90443759,\n",
       "        3.96124238, 4.01804716, 4.07485195, 4.13165674, 4.18846153,\n",
       "        4.24526631, 4.3020711 , 4.35887589, 4.41568067, 4.47248546,\n",
       "        4.52929025, 4.58609503, 4.64289982, 4.69970461, 4.75650939,\n",
       "        4.81331418, 4.87011897, 4.92692376, 4.98372854, 5.04053333,\n",
       "        5.09733812, 5.1541429 , 5.21094769, 5.26775248, 5.32455726,\n",
       "        5.38136205, 5.43816684, 5.49497162, 5.55177641, 5.6085812 ,\n",
       "        5.66538599, 5.72219077, 5.77899556, 5.83580035, 5.89260513,\n",
       "        5.94940992, 6.00621471, 6.06301949, 6.11982428, 6.17662907,\n",
       "        6.23343385, 6.29023864, 6.34704343, 6.40384822, 6.460653  ,\n",
       "        6.51745779, 6.57426258, 6.63106736, 6.68787215, 6.74467694,\n",
       "        6.80148172]),\n",
       " <BarContainer object of 100 artists>)"
      ]
     },
     "execution_count": 30,
     "metadata": {},
     "output_type": "execute_result"
    },
    {
     "data": {
      "image/png": "[encoded data removed]",
      "text/plain": [
       "<Figure size 1000x600 with 1 Axes>"
      ]
     },
     "metadata": {},
     "output_type": "display_data"
    }
   ],
   "source": [
    "scores_inliers = anomaly_scores[y_gm_test == 0]  # Assuming '0' is the label for inliers\n",
    "scores_outliers = anomaly_scores[y_gm_test == 1]  # Assuming '1' is the label for outliers\n",
    "# Create the plots\n",
    "plt.figure(figsize=(10, 6))  # Set the figure size\n",
    "\n",
    "# Plot for inliers\n",
    "plt.hist(scores_inliers, bins=100, alpha=0.7, label='Inliers')\n",
    "\n",
    "# Plot for outliers\n",
    "plt.hist(scores_outliers, bins=100, alpha=0.7, label='Outliers')"
   ]
  },
  {
   "cell_type": "markdown",
   "metadata": {},
   "source": [
    "Functions"
   ]
  },
  {
   "cell_type": "code",
   "execution_count": null,
   "metadata": {},
   "outputs": [],
   "source": [
    "\n",
    "def plot_graph_scenario(metrics_dict, supervision_rate_list):\n",
    "    fig, axes = plt.subplots(2,1,figsize=(14, 8))  # Create a figure and a set of subplots.\n",
    "    ax_n = 0\n",
    "    for metric_type in metrics_dict:\n",
    "        curr_ax = axes[ax_n]\n",
    "        ax_n +=1\n",
    "\n",
    "        # Assuming metrics_dict['roc_auc'] contains the ROC AUC values for each IP\n",
    "        ips = list(metrics_dict[metric_type].keys())\n",
    "        n_ips = len(ips)\n",
    "        n_supervision_rates = len(supervision_rate_list)\n",
    "\n",
    "        # Create a numpy array to hold the ROC AUC values\n",
    "        roc_aucs = np.zeros((n_ips, n_supervision_rates))\n",
    "        \n",
    "        for i, ip in enumerate(ips):\n",
    "            for j, sr in enumerate(supervision_rate_list):\n",
    "                roc_aucs[i, j] = metrics_dict[metric_type][ip][sr]\n",
    "\n",
    "        # Create the bar width\n",
    "        bar_width = 0.15\n",
    "        index = np.arange(n_ips)\n",
    "\n",
    "        # Plot bars for each supervision rate\n",
    "        for j, sr in enumerate(supervision_rate_list):\n",
    "            curr_ax.bar(index + j * bar_width, roc_aucs[:, j], bar_width, label=f'Supervision Rate: {sr}')\n",
    "\n",
    "        curr_ax.set_title('ROC AUC Comparison by IP and Supervision Rate')\n",
    "        curr_ax.set_xlabel('IP Address')\n",
    "        curr_ax.set_ylabel('AUC')\n",
    "        curr_ax.set_xticks(index + bar_width * (n_supervision_rates - 1) / 2)\n",
    "        curr_ax.set_xticklabels(ips, rotation=45)\n",
    "        curr_ax.legend()\n",
    "        curr_ax.grid(True)\n",
    "\n",
    "    plt.tight_layout()\n",
    "    plt.show()"
   ]
  },
  {
   "cell_type": "code",
   "execution_count": null,
   "metadata": {},
   "outputs": [
    {
     "ename": "ModuleNotFoundError",
     "evalue": "No module named 'modAL'",
     "output_type": "error",
     "traceback": [
      "\u001b[0;31m---------------------------------------------------------------------------\u001b[0m",
      "\u001b[0;31mModuleNotFoundError\u001b[0m                       Traceback (most recent call last)",
      "Cell \u001b[0;32mIn[15], line 2\u001b[0m\n\u001b[1;32m      1\u001b[0m \u001b[39mfrom\u001b[39;00m \u001b[39mfunctools\u001b[39;00m \u001b[39mimport\u001b[39;00m partial\n\u001b[0;32m----> 2\u001b[0m \u001b[39mfrom\u001b[39;00m \u001b[39mmodAL\u001b[39;00m\u001b[39m.\u001b[39;00m\u001b[39mbatch\u001b[39;00m \u001b[39mimport\u001b[39;00m uncertainty_batch_sampling\n\u001b[1;32m      4\u001b[0m \u001b[39mdef\u001b[39;00m \u001b[39mlm_eval_2\u001b[39m(Xgmm_test_dvc, gm_pred, lm_clf):\n\u001b[1;32m      5\u001b[0m     train_perc \u001b[39m=\u001b[39m \u001b[39m0.6\u001b[39m\n",
      "\u001b[0;31mModuleNotFoundError\u001b[0m: No module named 'modAL'"
     ]
    }
   ],
   "source": [
    "from functools import partial\n",
    "from modAL.batch import uncertainty_batch_sampling\n",
    "\n",
    "def lm_eval_2(Xgmm_test_dvc, gm_pred, lm_clf):\n",
    "    train_perc = 0.6\n",
    "    Xlm_train, Xlm_test, ylm_train, ylm_test = train_test_split(Xgmm_test_dvc, \n",
    "                                                        gm_pred, \n",
    "                                                        test_size=1 - train_perc, \n",
    "                                                        shuffle=True, \n",
    "                                                        stratify=gm_pred, \n",
    "                                                        random_state=42)    \n",
    "    if lm_clf == \"Comittee\":\n",
    "        # initializing Committee members\n",
    "        n_members = 3\n",
    "        learner_list = list()\n",
    "        for member_idx in range(n_members):\n",
    "\n",
    "            # initializing learner\n",
    "            learner = ActiveLearner(\n",
    "                estimator=RandomForestClassifier(),\n",
    "                X_training=Xlm_train, y_training=ylm_train,\n",
    "            )\n",
    "            learner_list.append(learner)        \n",
    "        lm_clf = Committee(learner_list=learner_list)\n",
    "        predictions = lm_clf.predict(Xlm_test)    \n",
    "    else:\n",
    "        # Train the classifier on the training data\n",
    "        lm_clf.fit(Xlm_train, ylm_train)    \n",
    "        \n",
    "        predictions = lm_clf.predict(Xlm_test)\n",
    "\n",
    "        \n",
    "    # Evaluate accuracy\n",
    "    accuracy = accuracy_score(ylm_test, predictions)\n",
    "    print(f\"Accuracy: {accuracy}\")\n",
    "    return accuracy, lm_clf, Xlm_train, ylm_train\n",
    "# Read the csv and clean it\n",
    "def train_gm(Xgm_train_scaled, y_train, supervision_rate, model):\n",
    "\n",
    "\n",
    "    # Prepare labels for semi-supervised learning\n",
    "    idx = np.where(y_train == 1)[0]\n",
    "    y = np.zeros_like(y_train.values)\n",
    "    y = set_supervised_label(supervision_rate, anomaly_rate, y, idx)\n",
    "    # Train the model\n",
    "    path = f\"gm_1_{supervision_rate}.pkl\"\n",
    "    if os.path.exists(path):\n",
    "        with open(path, 'rb') as f:\n",
    "            clf = pickle.load(f)\n",
    "    else:\n",
    "        clf = model(device='cuda', verbose=1, epochs=1)\n",
    "        clf.fit(X=Xgm_train_scaled.to_numpy(), y=y_train)  \n",
    "            \n",
    "            # with open(path, 'wb') as f:\n",
    "                # pickle.dump(clf, f)\n",
    "    return clf\n",
    "def train_lm(victim_IP, Xgmm_test, y_test, scaler, gm_clf,lm_clf, method = \"Normal\"):\n",
    "    # Load Model Instead      \n",
    "    # dropping_cols = ['Protocol', 'id', 'Flow ID', 'Src IP', 'Src Port', 'Dst IP', \n",
    "    #                 'Dst Port', 'Timestamp', 'Dvc Label']            \n",
    "    # Create a fresh copy of the DataFrame for each IP and supervision rate\n",
    "    roc_auc, curr_X_test_scaled, gm_pred, gm_opt_threshold = perform_inference(Xgmm_test, y_test, dropping_cols, scaler, gm_clf)\n",
    "    print(f\"gm_opt_threshold is {gm_opt_threshold}\")\n",
    "    acc, updated_lm_clf, Xlm_train, Ylm_train = lm_eval_2(curr_X_test_scaled, gm_pred, lm_clf)\n",
    "    return updated_lm_clf, gm_opt_threshold, Xlm_train, Ylm_train\n",
    "\n",
    "\n",
    "\n",
    "# Perform New Attack Classification using Local Model (Obtain)\n",
    "def new_attacks_inference(lm_clf, Xnew_train, ynew_train, scaler):\n",
    "\n",
    "        cart_predictions = lm_clf.predict(Xnew_train)\n",
    "        # Evaluate accuracy\n",
    "        accuracy = accuracy_score(ynew_train, cart_predictions)\n",
    "        print(f\"Accuracy before update: {accuracy}\")\n",
    "        \n",
    "        # Get Confidence Point\n",
    "        # Get the indices of the samples where the actual label doesn't match the predicted label\n",
    "        mismatch_indices = [i for i, (actual, cart_predictions) in enumerate(zip(ynew_train, cart_predictions)) if actual != cart_predictions]\n",
    "\n",
    "        uncertain_count = 0\n",
    "        cart_probabilities = lm_clf.predict_proba(Xnew_train)\n",
    "\n",
    "        return accuracy, cart_probabilities, mismatch_indices \n",
    "\n",
    "def active_learning_query(lm_clf, Xnew_train, ynew_train, scaler):\n",
    "    pass\n",
    "    #Use Stream-Based Sampling, however instead of 1 by 1, get the whole pool\n",
    "\n",
    "        # X_pool = Xnew_train.copy()\n",
    "        # y_pool = ynew_train.copy()\n",
    "        # for idx in range(n_queries):\n",
    "        #     query_idx, query_instance = lm_clf.query(X_pool)\n",
    "        #     lm_clf.teach(\n",
    "        #         X=X_pool[query_idx].reshape(1, -1),\n",
    "        #         y=y_pool[query_idx].reshape(1, )\n",
    "        #     )\n",
    "        #     performance_history.append(lm_clf.score())\n",
    "        #     # remove queried instance from pool\n",
    "        #     X_pool = np.delete(X_pool, query_idx, axis=0)\n",
    "        #     y_pool = np.delete(y_pool, query_idx)     \n",
    "        # predictions = lm_clf.predict(X_pool)     \n",
    "        \n",
    "    \n",
    "\n",
    "# Forward Low confidence data to GM and Label (Get GM Accuracy)\n",
    "def get_low_confidence_data(cart_probabilities, mismatch_indices, threshold=1):\n",
    "    if threshold == 1:\n",
    "        forward_gm_idx = np.where((cart_probabilities[:, 0] != threshold) & (cart_probabilities[:, 0] !=  threshold))\n",
    "    else: \n",
    "        forward_gm_idx = np.where((cart_probabilities[:, 0] > threshold) & (cart_probabilities[:, 0] <  1-threshold))\n",
    "    print(f\"Total Uploaded Data {len(forward_gm_idx[0])}\")\n",
    "    # How many Misclassified data is inconfident\n",
    "    set_mismatch_indices = set(list(mismatch_indices))\n",
    "    set_forward_gm_idx = set(forward_gm_idx[0].tolist())\n",
    "    x = len(set_mismatch_indices.intersection(set_forward_gm_idx))\n",
    "    print(f\"Percentage of misclassied data that is uploaded: {x/len(mismatch_indices)}\")\n",
    "    print(f\"Total Data Uploaded: {len(forward_gm_idx[0])/len(cart_probabilities)}\")\n",
    "    # print(f\"Correctly Detected / Uploaded data: {(x/len(forward_gm_idx[0]))}\")  \n",
    "    return forward_gm_idx\n",
    "\n",
    "# Upload to label and Perform Training on CART_Classifier\n",
    "def upload_gm(X_forward, y_forward, gm_clf, lm_clf, gm_opt_threshold, orig_Xlm_train, orig_Ylm_train):\n",
    "    anomaly_scores = gm_clf.decision_function(X=X_forward)\n",
    "    initial_gm_pred = np.where(anomaly_scores > gm_opt_threshold, 1,0)\n",
    "    accuracy = accuracy_score(y_forward, initial_gm_pred)\n",
    "    print(f'Accuracy of GM before update: {accuracy}')\n",
    "    \n",
    "    # Convert numpy arrays to DataFrames\n",
    "    X_forward_df = pd.DataFrame(X_forward, columns = orig_Xlm_train.columns )\n",
    "    y_forward_df = pd.DataFrame(np.zeros(initial_gm_pred.shape[0]), columns=[\"Label\"])\n",
    "\n",
    "    # Concatenate with original DataFrames\n",
    "    Xtrain = pd.concat([pd.DataFrame(orig_Xlm_train), X_forward_df], axis=0)\n",
    "    Ytrain = pd.concat([pd.DataFrame(orig_Ylm_train, columns=[\"Label\"]), y_forward_df])\n",
    "    Xtrain.columns = orig_Xlm_train.columns\n",
    "    # return Xtrain, Ytrain\n",
    "    # Update GM\n",
    "    gm_clf = train_gm(orig_Xlm_train, orig_Ylm_train, supervision_rate, PReNet)\n",
    "    # Inference using updated GM\n",
    "    anomaly_scores = gm_clf.decision_function(X=X_forward)\n",
    "    updated_gm_pred = np.where(anomaly_scores > gm_opt_threshold, 1,0)\n",
    "    accuracy = accuracy_score(y_forward, updated_gm_pred)\n",
    "    print(f'Accuracy of GM after update: {accuracy}')  \n",
    "    \n",
    "    Ytrain = pd.concat([pd.DataFrame(orig_Ylm_train, columns=[\"Label\"]), pd.DataFrame(updated_gm_pred, columns=[\"Label\"])])  \n",
    "    lm_clf = XGBClassifier(objective='binary:logistic', n_estimators=100, learning_rate=0.1)\n",
    "    # continued_model.fit(X_forward_df, y_forward_df, xgb_model=lm_clf.get_booster())    \n",
    "    # continued_model.fit(Xtrain, Ytrain)\n",
    "    lm_clf.fit(Xtrain, Ytrain)\n",
    "    return lm_clf\n",
    "# Evaluate Accuracy with new attack data\n",
    "def eval_updated_lm(Xnew_test, ynew_test, new_lm_clf):\n",
    "    pred = new_lm_clf.predict(Xnew_test)\n",
    "    acc = accuracy_score(ynew_test, pred)\n",
    "    print(f'Accuracy of updated LM: {acc}')\n"
   ]
  },
  {
   "cell_type": "code",
   "execution_count": null,
   "metadata": {},
   "outputs": [],
   "source": [
    "# Read the csv and clean it\n",
    "def eval_model_unsupervised(improved_df, supervision_rate_list, model, victim_IP):\n",
    "    anomaly_rate = 0.05\n",
    "    metrics_dict = {\n",
    "        'roc_auc': {ip : {sr : 0 for sr in supervision_rate_list} for ip in victim_IP}\n",
    "    }\n",
    "    X_train, X_test, y_train, y_test, scaler = process_dataset(improved_df, anomaly_rate)\n",
    "\n",
    "    for supervision_rate in supervision_rate_list:\n",
    "        # Prepare labels for semi-supervised learning\n",
    "        idx = np.where(y_train == 1)[0]\n",
    "        y = np.zeros_like(y_train.values)\n",
    "\n",
    "        y = set_supervised_label(supervision_rate, anomaly_rate, y, idx)\n",
    "            \n",
    "        dropping_cols = ['Protocol', 'id', 'Flow ID', 'Src IP', 'Src Port', 'Dst IP', \n",
    "                        'Dst Port', 'Timestamp', 'Dvc Label']\n",
    "        X_train.drop(dropping_cols, axis = 1, inplace = True)     \n",
    "        \n",
    "        X_train_scaled = scaler.fit_transform(X_train)\n",
    "        X_train_scaled = pd.DataFrame(X_train_scaled, columns=X_train.columns) \n",
    "        \n",
    "        # Train the model\n",
    "        clf = model(device='cuda', verbose=1, epochs=1)\n",
    "        clf.fit(X=X_train_scaled.to_numpy(), y=y)        \n",
    "        \n",
    "        for curr_ip in victim_IP:\n",
    "            # Create a fresh copy of the DataFrame for each IP and supervision rate\n",
    "\n",
    "            roc_auc = perform_inference(X_test, y_test, curr_ip, dropping_cols, scaler, clf)\n",
    "            # Store metrics\n",
    "            metrics_dict['roc_auc'][curr_ip][supervision_rate] += roc_auc \n",
    "\n",
    "    return metrics_dict\n"
   ]
  },
  {
   "cell_type": "markdown",
   "metadata": {},
   "source": [
    "# Fixing Accuracy"
   ]
  },
  {
   "cell_type": "code",
   "execution_count": null,
   "metadata": {},
   "outputs": [
    {
     "name": "stdout",
     "output_type": "stream",
     "text": [
      "dataset shape (2099976, 91)\n",
      "zero variance columns [] dropped\n",
      "shape after removing zero variance columns: (2099976, 91)\n",
      "5 rows dropped\n",
      "shape after removing nan: (2099971, 91)\n",
      "shape after dropping duplicates: (2099971, 91)\n",
      "columns which have identical values [] dropped\n",
      "shape after removing identical value columns: (2099971, 91)\n",
      "SEMI SUPERVISED, Sampling Rate = 1.0, Supervision = 1.0\n",
      "Start Training...\n",
      "ensemble size: 1\n",
      "epoch  1, training loss: 0.135584, time: 276.3s\n",
      "Start Inference on the training data...\n",
      "Accuracy: 0.9964\n",
      "Precision: 0.9867\n",
      "Recall: 0.9981\n",
      "F1 Score: 0.9924\n",
      "[[1354556    5696]\n",
      " [    803  423921]]\n",
      "SEMI SUPERVISED, Sampling Rate = 1.0, Supervision = 0.5\n",
      "Start Training...\n",
      "ensemble size: 1\n"
     ]
    },
    {
     "ename": "KeyboardInterrupt",
     "evalue": "",
     "output_type": "error",
     "traceback": [
      "\u001b[0;31m---------------------------------------------------------------------------\u001b[0m",
      "\u001b[0;31mKeyboardInterrupt\u001b[0m                         Traceback (most recent call last)",
      "Cell \u001b[0;32mIn[239], line 54\u001b[0m\n\u001b[1;32m     51\u001b[0m supervision_rate_list \u001b[39m=\u001b[39m [\u001b[39m1.0\u001b[39m, \u001b[39m0.5\u001b[39m, \u001b[39m0.25\u001b[39m, \u001b[39m0.1\u001b[39m, \u001b[39m0.05\u001b[39m, \u001b[39m0.0\u001b[39m]\n\u001b[1;32m     53\u001b[0m model \u001b[39m=\u001b[39m PReNet\n\u001b[0;32m---> 54\u001b[0m eval_model_unsupervised(supervision_rate_list, model)\n",
      "Cell \u001b[0;32mIn[239], line 39\u001b[0m, in \u001b[0;36meval_model_unsupervised\u001b[0;34m(supervision_rate_list, model)\u001b[0m\n\u001b[1;32m     36\u001b[0m   y[idx] \u001b[39m=\u001b[39m \u001b[39m1\u001b[39m\n\u001b[1;32m     38\u001b[0m clf \u001b[39m=\u001b[39m model( device \u001b[39m=\u001b[39m \u001b[39m'\u001b[39m\u001b[39mcuda\u001b[39m\u001b[39m'\u001b[39m, verbose\u001b[39m=\u001b[39m\u001b[39m1\u001b[39m, epochs\u001b[39m=\u001b[39m\u001b[39m1\u001b[39m)\n\u001b[0;32m---> 39\u001b[0m clf\u001b[39m.\u001b[39;49mfit(X\u001b[39m=\u001b[39;49mX_train\u001b[39m.\u001b[39;49mto_numpy(), y \u001b[39m=\u001b[39;49m y)\n\u001b[1;32m     40\u001b[0m \u001b[39m# pred = clf.predict(X_test.to_numpy())\u001b[39;00m\n\u001b[1;32m     41\u001b[0m anomaly_scores \u001b[39m=\u001b[39m clf\u001b[39m.\u001b[39mdecision_function(X_test\u001b[39m.\u001b[39mto_numpy())\n",
      "File \u001b[0;32m~/anaconda3/envs/network_anomaly/lib/python3.10/site-packages/deepod/core/base_model.py:185\u001b[0m, in \u001b[0;36mBaseDeepAD.fit\u001b[0;34m(self, X, y)\u001b[0m\n\u001b[1;32m    182\u001b[0m \u001b[39mfor\u001b[39;00m _ \u001b[39min\u001b[39;00m \u001b[39mrange\u001b[39m(\u001b[39mself\u001b[39m\u001b[39m.\u001b[39mn_ensemble):\n\u001b[1;32m    183\u001b[0m     \u001b[39mself\u001b[39m\u001b[39m.\u001b[39mtrain_loader, \u001b[39mself\u001b[39m\u001b[39m.\u001b[39mnet, \u001b[39mself\u001b[39m\u001b[39m.\u001b[39mcriterion \u001b[39m=\u001b[39m \u001b[39mself\u001b[39m\u001b[39m.\u001b[39mtraining_prepare(\u001b[39mself\u001b[39m\u001b[39m.\u001b[39mtrain_data,\n\u001b[1;32m    184\u001b[0m                                                                         y\u001b[39m=\u001b[39m\u001b[39mself\u001b[39m\u001b[39m.\u001b[39mtrain_label)\n\u001b[0;32m--> 185\u001b[0m     \u001b[39mself\u001b[39;49m\u001b[39m.\u001b[39;49m_training()\n\u001b[1;32m    187\u001b[0m \u001b[39mif\u001b[39;00m \u001b[39mself\u001b[39m\u001b[39m.\u001b[39mverbose \u001b[39m>\u001b[39m\u001b[39m=\u001b[39m \u001b[39m1\u001b[39m:\n\u001b[1;32m    188\u001b[0m     \u001b[39mprint\u001b[39m(\u001b[39m'\u001b[39m\u001b[39mStart Inference on the training data...\u001b[39m\u001b[39m'\u001b[39m)\n",
      "File \u001b[0;32m~/anaconda3/envs/network_anomaly/lib/python3.10/site-packages/deepod/core/base_model.py:336\u001b[0m, in \u001b[0;36mBaseDeepAD._training\u001b[0;34m(self)\u001b[0m\n\u001b[1;32m    334\u001b[0m total_loss \u001b[39m=\u001b[39m \u001b[39m0\u001b[39m\n\u001b[1;32m    335\u001b[0m cnt \u001b[39m=\u001b[39m \u001b[39m0\u001b[39m\n\u001b[0;32m--> 336\u001b[0m \u001b[39mfor\u001b[39;00m batch_x \u001b[39min\u001b[39;00m \u001b[39mself\u001b[39m\u001b[39m.\u001b[39mtrain_loader:\n\u001b[1;32m    337\u001b[0m     loss \u001b[39m=\u001b[39m \u001b[39mself\u001b[39m\u001b[39m.\u001b[39mtraining_forward(batch_x, \u001b[39mself\u001b[39m\u001b[39m.\u001b[39mnet, \u001b[39mself\u001b[39m\u001b[39m.\u001b[39mcriterion)\n\u001b[1;32m    338\u001b[0m     \u001b[39mself\u001b[39m\u001b[39m.\u001b[39mnet\u001b[39m.\u001b[39mzero_grad()\n",
      "File \u001b[0;32m~/anaconda3/envs/network_anomaly/lib/python3.10/site-packages/deepod/models/tabular/prenet.py:177\u001b[0m, in \u001b[0;36mPReNetLoader.__next__\u001b[0;34m(self)\u001b[0m\n\u001b[1;32m    175\u001b[0m \u001b[39mdef\u001b[39;00m\u001b[39m \u001b[39m\u001b[39m__next__\u001b[39m(\u001b[39mself\u001b[39m):\n\u001b[1;32m    176\u001b[0m     \u001b[39mself\u001b[39m\u001b[39m.\u001b[39mcounter \u001b[39m+\u001b[39m\u001b[39m=\u001b[39m \u001b[39m1\u001b[39m\n\u001b[0;32m--> 177\u001b[0m     x1, x2, y \u001b[39m=\u001b[39m \u001b[39mself\u001b[39;49m\u001b[39m.\u001b[39;49mbatch_generation()\n\u001b[1;32m    178\u001b[0m     x1, x2, y \u001b[39m=\u001b[39m torch\u001b[39m.\u001b[39mfrom_numpy(x1), torch\u001b[39m.\u001b[39mfrom_numpy(x2), torch\u001b[39m.\u001b[39mfrom_numpy(y)\n\u001b[1;32m    180\u001b[0m     \u001b[39mif\u001b[39;00m \u001b[39mself\u001b[39m\u001b[39m.\u001b[39mcounter \u001b[39m>\u001b[39m \u001b[39mself\u001b[39m\u001b[39m.\u001b[39msteps_per_epoch:\n",
      "File \u001b[0;32m~/anaconda3/envs/network_anomaly/lib/python3.10/site-packages/deepod/models/tabular/prenet.py:195\u001b[0m, in \u001b[0;36mPReNetLoader.batch_generation\u001b[0;34m(self)\u001b[0m\n\u001b[1;32m    193\u001b[0m \u001b[39mfor\u001b[39;00m i \u001b[39min\u001b[39;00m \u001b[39mrange\u001b[39m(\u001b[39mself\u001b[39m\u001b[39m.\u001b[39mbatch_size):\n\u001b[1;32m    194\u001b[0m     \u001b[39mif\u001b[39;00m i \u001b[39m%\u001b[39m \u001b[39m4\u001b[39m \u001b[39m==\u001b[39m \u001b[39m0\u001b[39m \u001b[39mor\u001b[39;00m i \u001b[39m%\u001b[39m \u001b[39m4\u001b[39m \u001b[39m==\u001b[39m \u001b[39m1\u001b[39m:\n\u001b[0;32m--> 195\u001b[0m         sid \u001b[39m=\u001b[39m np\u001b[39m.\u001b[39;49mrandom\u001b[39m.\u001b[39;49mchoice(\u001b[39mself\u001b[39;49m\u001b[39m.\u001b[39;49munlabeled_id, \u001b[39m2\u001b[39;49m, replace\u001b[39m=\u001b[39;49m\u001b[39mFalse\u001b[39;49;00m)\n\u001b[1;32m    196\u001b[0m         batch_x1\u001b[39m.\u001b[39mappend(\u001b[39mself\u001b[39m\u001b[39m.\u001b[39mX[sid[\u001b[39m0\u001b[39m]])\n\u001b[1;32m    197\u001b[0m         batch_x2\u001b[39m.\u001b[39mappend(\u001b[39mself\u001b[39m\u001b[39m.\u001b[39mX[sid[\u001b[39m1\u001b[39m]])\n",
      "\u001b[0;31mKeyboardInterrupt\u001b[0m: "
     ]
    }
   ],
   "source": [
    "from sklearn import metrics\n",
    "def get_score(y_true, y_pred):\n",
    "  accuracy = accuracy_score(y_true, y_pred)\n",
    "  precision = precision_score(y_true, y_pred)\n",
    "  recall = recall_score(y_true, y_pred)\n",
    "  f1 = f1_score(y_true, y_pred)\n",
    "  confusion_matrix = metrics.confusion_matrix(y_true, y_pred)\n",
    "\n",
    "  print(f\"Accuracy: {accuracy:.4f}\")\n",
    "  print(f\"Precision: {precision:.4f}\")\n",
    "  print(f\"Recall: {recall:.4f}\")\n",
    "  print(f\"F1 Score: {f1:.4f}\")\n",
    "  print(confusion_matrix)\n",
    "  \n",
    "# Read the csv and clean it\n",
    "  \n",
    "  \n",
    "df = read_csv()\n",
    "df = pd.concat([df[df['Label'] == 'BENIGN'], df[df['Label'] != 'BENIGN'].sample(frac=0.3, random_state=42)]) \n",
    "ratio = df.loc[df[\"Label\"] == \"BENIGN\"].shape[0]/ df.loc[df[\"Label\"] != \"BENIGN\"].shape[0]\n",
    "print(f'Ratio of Benign to Anomaly is {ratio} : 1')\n",
    "def eval_model_unsupervised(supervision_rate_list, model):\n",
    "  anomaly_rate = 1.0\n",
    "  for supervision_rate in supervision_rate_list:\n",
    "    # supervision = False\n",
    "    improved_df = df.copy()\n",
    "\n",
    "\n",
    "    X_train, X_test, y_train, y_test = preprocess_data(improved_df)\n",
    "    # Start Training\n",
    "    idx = np.where(y_train==1)[0]\n",
    "    y = np.zeros_like(y_train.values)\n",
    "    if supervision_rate == 0:\n",
    "      print(f\"UNSUPERVISED, Sampling Rate = {anomaly_rate}\")\n",
    "      y[idx[:2]] = 1\n",
    "    else:\n",
    "      print(f\"SEMI SUPERVISED, Sampling Rate = {anomaly_rate}, Supervision = {supervision_rate}\")\n",
    "      idx = np.random.choice(idx, size=int(supervision_rate*len(idx)), replace=False)\n",
    "      y[idx] = 1\n",
    "    \n",
    "    clf = model( device = 'cuda', verbose=1, epochs=1)\n",
    "    clf.fit(X=X_train.to_numpy(), y = y)\n",
    "    # pred = clf.predict(X_test.to_numpy())\n",
    "    anomaly_scores = clf.decision_function(X_test.to_numpy())\n",
    "\n",
    "    fpr, tpr, _ = roc_curve(y_test, anomaly_scores)\n",
    "    precision, recall, thresholds = precision_recall_curve(y_test, anomaly_scores)\n",
    "    opt_threshold = get_optimal_threshold(precision, recall, thresholds)\n",
    "    pred = np.where(anomaly_scores > opt_threshold, 1,0)\n",
    "    accuracy = accuracy_score(y_test, pred)\n",
    "    get_score(pred, y_test)\n",
    "    \n",
    "\n",
    "supervision_rate_list = [1.0, 0.5, 0.25, 0.1, 0.05, 0.0]\n",
    "\n",
    "model = PReNet\n",
    "eval_model_unsupervised(supervision_rate_list, model)\n"
   ]
  },
  {
   "cell_type": "code",
   "execution_count": null,
   "metadata": {},
   "outputs": [],
   "source": []
  }
 ],
 "metadata": {
  "kernelspec": {
   "display_name": "Python 3",
   "language": "python",
   "name": "python3"
  },
  "language_info": {
   "codemirror_mode": {
    "name": "ipython",
    "version": 3
   },
   "file_extension": ".py",
   "mimetype": "text/x-python",
   "name": "python",
   "nbconvert_exporter": "python",
   "pygments_lexer": "ipython3",
   "version": "3.8.10"
  },
  "orig_nbformat": 4
 },
 "nbformat": 4,
 "nbformat_minor": 2
}
